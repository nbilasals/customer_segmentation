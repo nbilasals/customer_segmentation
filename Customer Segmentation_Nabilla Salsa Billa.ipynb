{
  "cells": [
    {
      "cell_type": "markdown",
      "id": "98571af3",
      "metadata": {
        "id": "98571af3",
        "papermill": {
          "duration": 0.039456,
          "end_time": "2022-11-11T03:53:38.786728",
          "exception": false,
          "start_time": "2022-11-11T03:53:38.747272",
          "status": "completed"
        },
        "tags": []
      },
      "source": [
        "<h1 style=\"font-size:200%\"> <center> Customer Segementation</center></h1>\n",
        "\n",
        "---\n"
      ]
    },
    {
      "cell_type": "code",
      "execution_count": 12,
      "id": "9aa3c937",
      "metadata": {
        "execution": {
          "iopub.execute_input": "2022-11-11T03:53:38.947827Z",
          "iopub.status.busy": "2022-11-11T03:53:38.947286Z",
          "iopub.status.idle": "2022-11-11T03:53:42.116578Z",
          "shell.execute_reply": "2022-11-11T03:53:42.115162Z"
        },
        "id": "9aa3c937",
        "papermill": {
          "duration": 3.215447,
          "end_time": "2022-11-11T03:53:42.119986",
          "exception": false,
          "start_time": "2022-11-11T03:53:38.904539",
          "status": "completed"
        },
        "tags": []
      },
      "outputs": [],
      "source": [
        "import numpy as np\n",
        "import pandas as pd\n",
        "import matplotlib.pyplot as plt\n",
        "import seaborn as sns\n",
        "import plotly.express as px\n",
        "\n",
        "from sklearn.preprocessing import LabelEncoder, StandardScaler\n",
        "from sklearn.decomposition import PCA\n",
        "\n",
        "from sklearn.cluster import KMeans, DBSCAN, AgglomerativeClustering\n",
        "\n",
        "from yellowbrick.cluster import KElbowVisualizer\n",
        "from sklearn.metrics import davies_bouldin_score, silhouette_score\n",
        "\n",
        "from flask import Flask,jsonify,request,render_template\n",
        "\n",
        "%matplotlib inline"
      ]
    },
    {
      "cell_type": "markdown",
      "id": "2029b0b0",
      "metadata": {
        "id": "2029b0b0",
        "papermill": {
          "duration": 0.033557,
          "end_time": "2022-11-11T03:53:42.321961",
          "exception": false,
          "start_time": "2022-11-11T03:53:42.288404",
          "status": "completed"
        },
        "tags": []
      },
      "source": [
        "## About the Dataset"
      ]
    },
    {
      "cell_type": "markdown",
      "id": "f08fd98a",
      "metadata": {
        "id": "f08fd98a",
        "papermill": {
          "duration": 0.033467,
          "end_time": "2022-11-11T03:53:42.389157",
          "exception": false,
          "start_time": "2022-11-11T03:53:42.355690",
          "status": "completed"
        },
        "tags": []
      },
      "source": [
        "The [Customer Personality Analysis](https://www.kaggle.com/datasets/imakash3011/customer-personality-analysis) dataset contains a description of the ideal customers of a company. It contains 29 columns detailing the habits and demographic of the customer. The features are divided into 5 categories\n",
        "\n",
        "<h2 style=\"font-size:100%\"> People:</h2>\n",
        "\n",
        "| # | Feature | Description\n",
        "| --- | --- | --- \n",
        "| 1 | ID | Customer's unique identifier\n",
        "| 2 | Year_Birth | Customer's birth year\n",
        "| 3 | Education | Customer's education level\n",
        "| 4 | Marital_Status | Customer's marital status\n",
        "| 5 | Income | Customer's yearly household income\n",
        "| 6 | Kidhome | Number of children in customer's household\n",
        "| 7 | Teenhome | Number of teenagers in customer's household\n",
        "| 8 | Dt_Customer | Date of customer's enrollment with the company\n",
        "| 9 | Recency | Number of days since customer's last purchase\n",
        "| 10 | Complain | 1 if the customer complained in the last 2 years, 0 otherwise\n",
        "\n",
        "<h2 style=\"font-size:100%\"> Products:</h2>\n",
        "\n",
        "| # | Feature | Description\n",
        "| --- | --- | --- \n",
        "| 11 | MntWines | Amount spent on wine in last 2 years\n",
        "| 12 | MntFruits | Amount spent on fruits in last 2 years\n",
        "| 13 | MntMeatProducts | Amount spent on meat in last 2 years\n",
        "| 14 | MntFishProducts | Amount spent on fish in last 2 years\n",
        "| 15 | MntSweetProducts | Amount spent on sweets in last 2 years\n",
        "| 16 | MntGoldProds | Amount spent on gold in last 2 years\n",
        "\n",
        "<h2 style=\"font-size:100%\"> Promotion:</h2>\n",
        "\n",
        "| # | Feature | Description\n",
        "| --- | --- | --- \n",
        "| 17 | NumDealsPurchases | Number of purchases made with a discount\n",
        "| 18 | AcceptedCmp1 | 1 if customer accepted the offer in the 1st campaign, 0 otherwise\n",
        "| 19 | AcceptedCmp2 | 1 if customer accepted the offer in the 2nd campaign, 0 otherwise\n",
        "| 20 | AcceptedCmp3 | 1 if customer accepted the offer in the 3rd campaign, 0 otherwise\n",
        "| 21 | AcceptedCmp4 | 1 if customer accepted the offer in the 4th campaign, 0 otherwise\n",
        "| 22 | AcceptedCmp5 | 1 if customer accepted the offer in the 5th campaign, 0 otherwise\n",
        "| 23 | Response | 1 if customer accepted the offer in the last campaign, 0 otherwise\n",
        "\n",
        "<h2 style=\"font-size:100%\"> Place:</h2>\n",
        "\n",
        "| # | Feature | Description\n",
        "| --- | --- | --- \n",
        "| 24 | NumWebPurchases | Number of purchases made through the company’s website\n",
        "| 25 | NumCatalogPurchases | Number of purchases made using a catalogue\n",
        "| 26 | NumStorePurchases | Number of purchases made directly in stores\n",
        "| 27 | NumWebVisitsMonth | Number of visits to company’s website in the last month\n",
        "\n",
        "<h2 style=\"font-size:100%\"> Uncategorized:</h2>\n",
        "\n",
        "| # | Feature | Description\n",
        "| --- | --- | --- \n",
        "| 28 | Z_CostContact | -\n",
        "| 29 | Z_Revenue | -"
      ]
    },
    {
      "cell_type": "markdown",
      "id": "5ab2346a",
      "metadata": {
        "id": "5ab2346a",
        "papermill": {
          "duration": 0.033267,
          "end_time": "2022-11-11T03:53:42.457262",
          "exception": false,
          "start_time": "2022-11-11T03:53:42.423995",
          "status": "completed"
        },
        "tags": []
      },
      "source": [
        "# 2 Data Overview <a class=\"anchor\" id=\"overview\"></a>"
      ]
    },
    {
      "cell_type": "markdown",
      "id": "c5f033a8",
      "metadata": {
        "id": "c5f033a8",
        "papermill": {
          "duration": 0.033779,
          "end_time": "2022-11-11T03:53:42.524568",
          "exception": false,
          "start_time": "2022-11-11T03:53:42.490789",
          "status": "completed"
        },
        "tags": []
      },
      "source": [
        "## 2.1 Data Reading <a class=\"anchor\" id=\"data_read\"></a>"
      ]
    },
    {
      "cell_type": "code",
      "execution_count": 13,
      "id": "1e5c02c6",
      "metadata": {
        "execution": {
          "iopub.execute_input": "2022-11-11T03:53:42.594397Z",
          "iopub.status.busy": "2022-11-11T03:53:42.593924Z",
          "iopub.status.idle": "2022-11-11T03:53:42.666858Z",
          "shell.execute_reply": "2022-11-11T03:53:42.665342Z"
        },
        "id": "1e5c02c6",
        "outputId": "53c07246-6000-4f06-bebb-bc2774dd5d62",
        "papermill": {
          "duration": 0.111082,
          "end_time": "2022-11-11T03:53:42.669685",
          "exception": false,
          "start_time": "2022-11-11T03:53:42.558603",
          "status": "completed"
        },
        "tags": [],
        "colab": {
          "base_uri": "https://localhost:8080/",
          "height": 299
        }
      },
      "outputs": [
        {
          "output_type": "execute_result",
          "data": {
            "text/plain": [
              "     ID  Year_Birth   Education Marital_Status   Income  Kidhome  Teenhome  \\\n",
              "0  5524        1957  Graduation         Single  58138.0        0         0   \n",
              "1  2174        1954  Graduation         Single  46344.0        1         1   \n",
              "2  4141        1965  Graduation       Together  71613.0        0         0   \n",
              "3  6182        1984  Graduation       Together  26646.0        1         0   \n",
              "4  5324        1981         PhD        Married  58293.0        1         0   \n",
              "\n",
              "  Dt_Customer  Recency  MntWines  ...  NumWebVisitsMonth  AcceptedCmp3  \\\n",
              "0  04-09-2012       58       635  ...                  7             0   \n",
              "1  08-03-2014       38        11  ...                  5             0   \n",
              "2  21-08-2013       26       426  ...                  4             0   \n",
              "3  10-02-2014       26        11  ...                  6             0   \n",
              "4  19-01-2014       94       173  ...                  5             0   \n",
              "\n",
              "   AcceptedCmp4  AcceptedCmp5  AcceptedCmp1  AcceptedCmp2  Complain  \\\n",
              "0             0             0             0             0         0   \n",
              "1             0             0             0             0         0   \n",
              "2             0             0             0             0         0   \n",
              "3             0             0             0             0         0   \n",
              "4             0             0             0             0         0   \n",
              "\n",
              "   Z_CostContact  Z_Revenue  Response  \n",
              "0              3         11         1  \n",
              "1              3         11         0  \n",
              "2              3         11         0  \n",
              "3              3         11         0  \n",
              "4              3         11         0  \n",
              "\n",
              "[5 rows x 29 columns]"
            ],
            "text/html": [
              "\n",
              "  <div id=\"df-34b13e09-54a3-41b9-b06e-5588ce901057\">\n",
              "    <div class=\"colab-df-container\">\n",
              "      <div>\n",
              "<style scoped>\n",
              "    .dataframe tbody tr th:only-of-type {\n",
              "        vertical-align: middle;\n",
              "    }\n",
              "\n",
              "    .dataframe tbody tr th {\n",
              "        vertical-align: top;\n",
              "    }\n",
              "\n",
              "    .dataframe thead th {\n",
              "        text-align: right;\n",
              "    }\n",
              "</style>\n",
              "<table border=\"1\" class=\"dataframe\">\n",
              "  <thead>\n",
              "    <tr style=\"text-align: right;\">\n",
              "      <th></th>\n",
              "      <th>ID</th>\n",
              "      <th>Year_Birth</th>\n",
              "      <th>Education</th>\n",
              "      <th>Marital_Status</th>\n",
              "      <th>Income</th>\n",
              "      <th>Kidhome</th>\n",
              "      <th>Teenhome</th>\n",
              "      <th>Dt_Customer</th>\n",
              "      <th>Recency</th>\n",
              "      <th>MntWines</th>\n",
              "      <th>...</th>\n",
              "      <th>NumWebVisitsMonth</th>\n",
              "      <th>AcceptedCmp3</th>\n",
              "      <th>AcceptedCmp4</th>\n",
              "      <th>AcceptedCmp5</th>\n",
              "      <th>AcceptedCmp1</th>\n",
              "      <th>AcceptedCmp2</th>\n",
              "      <th>Complain</th>\n",
              "      <th>Z_CostContact</th>\n",
              "      <th>Z_Revenue</th>\n",
              "      <th>Response</th>\n",
              "    </tr>\n",
              "  </thead>\n",
              "  <tbody>\n",
              "    <tr>\n",
              "      <th>0</th>\n",
              "      <td>5524</td>\n",
              "      <td>1957</td>\n",
              "      <td>Graduation</td>\n",
              "      <td>Single</td>\n",
              "      <td>58138.0</td>\n",
              "      <td>0</td>\n",
              "      <td>0</td>\n",
              "      <td>04-09-2012</td>\n",
              "      <td>58</td>\n",
              "      <td>635</td>\n",
              "      <td>...</td>\n",
              "      <td>7</td>\n",
              "      <td>0</td>\n",
              "      <td>0</td>\n",
              "      <td>0</td>\n",
              "      <td>0</td>\n",
              "      <td>0</td>\n",
              "      <td>0</td>\n",
              "      <td>3</td>\n",
              "      <td>11</td>\n",
              "      <td>1</td>\n",
              "    </tr>\n",
              "    <tr>\n",
              "      <th>1</th>\n",
              "      <td>2174</td>\n",
              "      <td>1954</td>\n",
              "      <td>Graduation</td>\n",
              "      <td>Single</td>\n",
              "      <td>46344.0</td>\n",
              "      <td>1</td>\n",
              "      <td>1</td>\n",
              "      <td>08-03-2014</td>\n",
              "      <td>38</td>\n",
              "      <td>11</td>\n",
              "      <td>...</td>\n",
              "      <td>5</td>\n",
              "      <td>0</td>\n",
              "      <td>0</td>\n",
              "      <td>0</td>\n",
              "      <td>0</td>\n",
              "      <td>0</td>\n",
              "      <td>0</td>\n",
              "      <td>3</td>\n",
              "      <td>11</td>\n",
              "      <td>0</td>\n",
              "    </tr>\n",
              "    <tr>\n",
              "      <th>2</th>\n",
              "      <td>4141</td>\n",
              "      <td>1965</td>\n",
              "      <td>Graduation</td>\n",
              "      <td>Together</td>\n",
              "      <td>71613.0</td>\n",
              "      <td>0</td>\n",
              "      <td>0</td>\n",
              "      <td>21-08-2013</td>\n",
              "      <td>26</td>\n",
              "      <td>426</td>\n",
              "      <td>...</td>\n",
              "      <td>4</td>\n",
              "      <td>0</td>\n",
              "      <td>0</td>\n",
              "      <td>0</td>\n",
              "      <td>0</td>\n",
              "      <td>0</td>\n",
              "      <td>0</td>\n",
              "      <td>3</td>\n",
              "      <td>11</td>\n",
              "      <td>0</td>\n",
              "    </tr>\n",
              "    <tr>\n",
              "      <th>3</th>\n",
              "      <td>6182</td>\n",
              "      <td>1984</td>\n",
              "      <td>Graduation</td>\n",
              "      <td>Together</td>\n",
              "      <td>26646.0</td>\n",
              "      <td>1</td>\n",
              "      <td>0</td>\n",
              "      <td>10-02-2014</td>\n",
              "      <td>26</td>\n",
              "      <td>11</td>\n",
              "      <td>...</td>\n",
              "      <td>6</td>\n",
              "      <td>0</td>\n",
              "      <td>0</td>\n",
              "      <td>0</td>\n",
              "      <td>0</td>\n",
              "      <td>0</td>\n",
              "      <td>0</td>\n",
              "      <td>3</td>\n",
              "      <td>11</td>\n",
              "      <td>0</td>\n",
              "    </tr>\n",
              "    <tr>\n",
              "      <th>4</th>\n",
              "      <td>5324</td>\n",
              "      <td>1981</td>\n",
              "      <td>PhD</td>\n",
              "      <td>Married</td>\n",
              "      <td>58293.0</td>\n",
              "      <td>1</td>\n",
              "      <td>0</td>\n",
              "      <td>19-01-2014</td>\n",
              "      <td>94</td>\n",
              "      <td>173</td>\n",
              "      <td>...</td>\n",
              "      <td>5</td>\n",
              "      <td>0</td>\n",
              "      <td>0</td>\n",
              "      <td>0</td>\n",
              "      <td>0</td>\n",
              "      <td>0</td>\n",
              "      <td>0</td>\n",
              "      <td>3</td>\n",
              "      <td>11</td>\n",
              "      <td>0</td>\n",
              "    </tr>\n",
              "  </tbody>\n",
              "</table>\n",
              "<p>5 rows × 29 columns</p>\n",
              "</div>\n",
              "      <button class=\"colab-df-convert\" onclick=\"convertToInteractive('df-34b13e09-54a3-41b9-b06e-5588ce901057')\"\n",
              "              title=\"Convert this dataframe to an interactive table.\"\n",
              "              style=\"display:none;\">\n",
              "        \n",
              "  <svg xmlns=\"http://www.w3.org/2000/svg\" height=\"24px\"viewBox=\"0 0 24 24\"\n",
              "       width=\"24px\">\n",
              "    <path d=\"M0 0h24v24H0V0z\" fill=\"none\"/>\n",
              "    <path d=\"M18.56 5.44l.94 2.06.94-2.06 2.06-.94-2.06-.94-.94-2.06-.94 2.06-2.06.94zm-11 1L8.5 8.5l.94-2.06 2.06-.94-2.06-.94L8.5 2.5l-.94 2.06-2.06.94zm10 10l.94 2.06.94-2.06 2.06-.94-2.06-.94-.94-2.06-.94 2.06-2.06.94z\"/><path d=\"M17.41 7.96l-1.37-1.37c-.4-.4-.92-.59-1.43-.59-.52 0-1.04.2-1.43.59L10.3 9.45l-7.72 7.72c-.78.78-.78 2.05 0 2.83L4 21.41c.39.39.9.59 1.41.59.51 0 1.02-.2 1.41-.59l7.78-7.78 2.81-2.81c.8-.78.8-2.07 0-2.86zM5.41 20L4 18.59l7.72-7.72 1.47 1.35L5.41 20z\"/>\n",
              "  </svg>\n",
              "      </button>\n",
              "      \n",
              "  <style>\n",
              "    .colab-df-container {\n",
              "      display:flex;\n",
              "      flex-wrap:wrap;\n",
              "      gap: 12px;\n",
              "    }\n",
              "\n",
              "    .colab-df-convert {\n",
              "      background-color: #E8F0FE;\n",
              "      border: none;\n",
              "      border-radius: 50%;\n",
              "      cursor: pointer;\n",
              "      display: none;\n",
              "      fill: #1967D2;\n",
              "      height: 32px;\n",
              "      padding: 0 0 0 0;\n",
              "      width: 32px;\n",
              "    }\n",
              "\n",
              "    .colab-df-convert:hover {\n",
              "      background-color: #E2EBFA;\n",
              "      box-shadow: 0px 1px 2px rgba(60, 64, 67, 0.3), 0px 1px 3px 1px rgba(60, 64, 67, 0.15);\n",
              "      fill: #174EA6;\n",
              "    }\n",
              "\n",
              "    [theme=dark] .colab-df-convert {\n",
              "      background-color: #3B4455;\n",
              "      fill: #D2E3FC;\n",
              "    }\n",
              "\n",
              "    [theme=dark] .colab-df-convert:hover {\n",
              "      background-color: #434B5C;\n",
              "      box-shadow: 0px 1px 3px 1px rgba(0, 0, 0, 0.15);\n",
              "      filter: drop-shadow(0px 1px 2px rgba(0, 0, 0, 0.3));\n",
              "      fill: #FFFFFF;\n",
              "    }\n",
              "  </style>\n",
              "\n",
              "      <script>\n",
              "        const buttonEl =\n",
              "          document.querySelector('#df-34b13e09-54a3-41b9-b06e-5588ce901057 button.colab-df-convert');\n",
              "        buttonEl.style.display =\n",
              "          google.colab.kernel.accessAllowed ? 'block' : 'none';\n",
              "\n",
              "        async function convertToInteractive(key) {\n",
              "          const element = document.querySelector('#df-34b13e09-54a3-41b9-b06e-5588ce901057');\n",
              "          const dataTable =\n",
              "            await google.colab.kernel.invokeFunction('convertToInteractive',\n",
              "                                                     [key], {});\n",
              "          if (!dataTable) return;\n",
              "\n",
              "          const docLinkHtml = 'Like what you see? Visit the ' +\n",
              "            '<a target=\"_blank\" href=https://colab.research.google.com/notebooks/data_table.ipynb>data table notebook</a>'\n",
              "            + ' to learn more about interactive tables.';\n",
              "          element.innerHTML = '';\n",
              "          dataTable['output_type'] = 'display_data';\n",
              "          await google.colab.output.renderOutput(dataTable, element);\n",
              "          const docLink = document.createElement('div');\n",
              "          docLink.innerHTML = docLinkHtml;\n",
              "          element.appendChild(docLink);\n",
              "        }\n",
              "      </script>\n",
              "    </div>\n",
              "  </div>\n",
              "  "
            ]
          },
          "metadata": {},
          "execution_count": 13
        }
      ],
      "source": [
        "df = pd.read_csv(\"/content/marketing_campaign.csv\", sep=\"\\t\")\n",
        "df.head()"
      ]
    },
    {
      "cell_type": "markdown",
      "id": "8a1b98cd",
      "metadata": {
        "id": "8a1b98cd",
        "papermill": {
          "duration": 0.034246,
          "end_time": "2022-11-11T03:53:42.737894",
          "exception": false,
          "start_time": "2022-11-11T03:53:42.703648",
          "status": "completed"
        },
        "tags": []
      },
      "source": [
        "## 2.2 Dataset Info <a class=\"anchor\" id=\"data_info\"></a>"
      ]
    },
    {
      "cell_type": "code",
      "execution_count": 14,
      "id": "384424cb",
      "metadata": {
        "execution": {
          "iopub.execute_input": "2022-11-11T03:53:42.807958Z",
          "iopub.status.busy": "2022-11-11T03:53:42.807448Z",
          "iopub.status.idle": "2022-11-11T03:53:42.835885Z",
          "shell.execute_reply": "2022-11-11T03:53:42.834571Z"
        },
        "id": "384424cb",
        "outputId": "f42556ca-1ecb-4692-f4f9-6338fc9cac9f",
        "papermill": {
          "duration": 0.067635,
          "end_time": "2022-11-11T03:53:42.839571",
          "exception": false,
          "start_time": "2022-11-11T03:53:42.771936",
          "status": "completed"
        },
        "tags": [],
        "colab": {
          "base_uri": "https://localhost:8080/"
        }
      },
      "outputs": [
        {
          "output_type": "stream",
          "name": "stdout",
          "text": [
            "<class 'pandas.core.frame.DataFrame'>\n",
            "RangeIndex: 2240 entries, 0 to 2239\n",
            "Data columns (total 29 columns):\n",
            " #   Column               Non-Null Count  Dtype  \n",
            "---  ------               --------------  -----  \n",
            " 0   ID                   2240 non-null   int64  \n",
            " 1   Year_Birth           2240 non-null   int64  \n",
            " 2   Education            2240 non-null   object \n",
            " 3   Marital_Status       2240 non-null   object \n",
            " 4   Income               2216 non-null   float64\n",
            " 5   Kidhome              2240 non-null   int64  \n",
            " 6   Teenhome             2240 non-null   int64  \n",
            " 7   Dt_Customer          2240 non-null   object \n",
            " 8   Recency              2240 non-null   int64  \n",
            " 9   MntWines             2240 non-null   int64  \n",
            " 10  MntFruits            2240 non-null   int64  \n",
            " 11  MntMeatProducts      2240 non-null   int64  \n",
            " 12  MntFishProducts      2240 non-null   int64  \n",
            " 13  MntSweetProducts     2240 non-null   int64  \n",
            " 14  MntGoldProds         2240 non-null   int64  \n",
            " 15  NumDealsPurchases    2240 non-null   int64  \n",
            " 16  NumWebPurchases      2240 non-null   int64  \n",
            " 17  NumCatalogPurchases  2240 non-null   int64  \n",
            " 18  NumStorePurchases    2240 non-null   int64  \n",
            " 19  NumWebVisitsMonth    2240 non-null   int64  \n",
            " 20  AcceptedCmp3         2240 non-null   int64  \n",
            " 21  AcceptedCmp4         2240 non-null   int64  \n",
            " 22  AcceptedCmp5         2240 non-null   int64  \n",
            " 23  AcceptedCmp1         2240 non-null   int64  \n",
            " 24  AcceptedCmp2         2240 non-null   int64  \n",
            " 25  Complain             2240 non-null   int64  \n",
            " 26  Z_CostContact        2240 non-null   int64  \n",
            " 27  Z_Revenue            2240 non-null   int64  \n",
            " 28  Response             2240 non-null   int64  \n",
            "dtypes: float64(1), int64(25), object(3)\n",
            "memory usage: 507.6+ KB\n"
          ]
        }
      ],
      "source": [
        "df.info()"
      ]
    },
    {
      "cell_type": "markdown",
      "id": "e3b3ba0e",
      "metadata": {
        "id": "e3b3ba0e",
        "papermill": {
          "duration": 0.033619,
          "end_time": "2022-11-11T03:53:42.907506",
          "exception": false,
          "start_time": "2022-11-11T03:53:42.873887",
          "status": "completed"
        },
        "tags": []
      },
      "source": [
        "## 2.3 Numerical Description <a class=\"anchor\" id=\"num_des\"></a>"
      ]
    },
    {
      "cell_type": "code",
      "execution_count": 15,
      "id": "055c8e52",
      "metadata": {
        "execution": {
          "iopub.execute_input": "2022-11-11T03:53:42.978166Z",
          "iopub.status.busy": "2022-11-11T03:53:42.977397Z",
          "iopub.status.idle": "2022-11-11T03:53:43.064107Z",
          "shell.execute_reply": "2022-11-11T03:53:43.062787Z"
        },
        "id": "055c8e52",
        "outputId": "de6e783d-4987-4354-dc52-cf825a2d964b",
        "papermill": {
          "duration": 0.125494,
          "end_time": "2022-11-11T03:53:43.066916",
          "exception": false,
          "start_time": "2022-11-11T03:53:42.941422",
          "status": "completed"
        },
        "tags": [],
        "colab": {
          "base_uri": "https://localhost:8080/",
          "height": 394
        }
      },
      "outputs": [
        {
          "output_type": "execute_result",
          "data": {
            "text/plain": [
              "                 ID   Year_Birth         Income      Kidhome     Teenhome  \\\n",
              "count   2240.000000  2240.000000    2216.000000  2240.000000  2240.000000   \n",
              "mean    5592.159821  1968.805804   52247.251354     0.444196     0.506250   \n",
              "std     3246.662198    11.984069   25173.076661     0.538398     0.544538   \n",
              "min        0.000000  1893.000000    1730.000000     0.000000     0.000000   \n",
              "25%     2828.250000  1959.000000   35303.000000     0.000000     0.000000   \n",
              "50%     5458.500000  1970.000000   51381.500000     0.000000     0.000000   \n",
              "75%     8427.750000  1977.000000   68522.000000     1.000000     1.000000   \n",
              "max    11191.000000  1996.000000  666666.000000     2.000000     2.000000   \n",
              "\n",
              "           Recency     MntWines    MntFruits  MntMeatProducts  \\\n",
              "count  2240.000000  2240.000000  2240.000000      2240.000000   \n",
              "mean     49.109375   303.935714    26.302232       166.950000   \n",
              "std      28.962453   336.597393    39.773434       225.715373   \n",
              "min       0.000000     0.000000     0.000000         0.000000   \n",
              "25%      24.000000    23.750000     1.000000        16.000000   \n",
              "50%      49.000000   173.500000     8.000000        67.000000   \n",
              "75%      74.000000   504.250000    33.000000       232.000000   \n",
              "max      99.000000  1493.000000   199.000000      1725.000000   \n",
              "\n",
              "       MntFishProducts  ...  NumWebVisitsMonth  AcceptedCmp3  AcceptedCmp4  \\\n",
              "count      2240.000000  ...        2240.000000   2240.000000   2240.000000   \n",
              "mean         37.525446  ...           5.316518      0.072768      0.074554   \n",
              "std          54.628979  ...           2.426645      0.259813      0.262728   \n",
              "min           0.000000  ...           0.000000      0.000000      0.000000   \n",
              "25%           3.000000  ...           3.000000      0.000000      0.000000   \n",
              "50%          12.000000  ...           6.000000      0.000000      0.000000   \n",
              "75%          50.000000  ...           7.000000      0.000000      0.000000   \n",
              "max         259.000000  ...          20.000000      1.000000      1.000000   \n",
              "\n",
              "       AcceptedCmp5  AcceptedCmp1  AcceptedCmp2     Complain  Z_CostContact  \\\n",
              "count   2240.000000   2240.000000   2240.000000  2240.000000         2240.0   \n",
              "mean       0.072768      0.064286      0.013393     0.009375            3.0   \n",
              "std        0.259813      0.245316      0.114976     0.096391            0.0   \n",
              "min        0.000000      0.000000      0.000000     0.000000            3.0   \n",
              "25%        0.000000      0.000000      0.000000     0.000000            3.0   \n",
              "50%        0.000000      0.000000      0.000000     0.000000            3.0   \n",
              "75%        0.000000      0.000000      0.000000     0.000000            3.0   \n",
              "max        1.000000      1.000000      1.000000     1.000000            3.0   \n",
              "\n",
              "       Z_Revenue     Response  \n",
              "count     2240.0  2240.000000  \n",
              "mean        11.0     0.149107  \n",
              "std          0.0     0.356274  \n",
              "min         11.0     0.000000  \n",
              "25%         11.0     0.000000  \n",
              "50%         11.0     0.000000  \n",
              "75%         11.0     0.000000  \n",
              "max         11.0     1.000000  \n",
              "\n",
              "[8 rows x 26 columns]"
            ],
            "text/html": [
              "\n",
              "  <div id=\"df-f7532131-4a9e-4319-bc79-fc6340879206\">\n",
              "    <div class=\"colab-df-container\">\n",
              "      <div>\n",
              "<style scoped>\n",
              "    .dataframe tbody tr th:only-of-type {\n",
              "        vertical-align: middle;\n",
              "    }\n",
              "\n",
              "    .dataframe tbody tr th {\n",
              "        vertical-align: top;\n",
              "    }\n",
              "\n",
              "    .dataframe thead th {\n",
              "        text-align: right;\n",
              "    }\n",
              "</style>\n",
              "<table border=\"1\" class=\"dataframe\">\n",
              "  <thead>\n",
              "    <tr style=\"text-align: right;\">\n",
              "      <th></th>\n",
              "      <th>ID</th>\n",
              "      <th>Year_Birth</th>\n",
              "      <th>Income</th>\n",
              "      <th>Kidhome</th>\n",
              "      <th>Teenhome</th>\n",
              "      <th>Recency</th>\n",
              "      <th>MntWines</th>\n",
              "      <th>MntFruits</th>\n",
              "      <th>MntMeatProducts</th>\n",
              "      <th>MntFishProducts</th>\n",
              "      <th>...</th>\n",
              "      <th>NumWebVisitsMonth</th>\n",
              "      <th>AcceptedCmp3</th>\n",
              "      <th>AcceptedCmp4</th>\n",
              "      <th>AcceptedCmp5</th>\n",
              "      <th>AcceptedCmp1</th>\n",
              "      <th>AcceptedCmp2</th>\n",
              "      <th>Complain</th>\n",
              "      <th>Z_CostContact</th>\n",
              "      <th>Z_Revenue</th>\n",
              "      <th>Response</th>\n",
              "    </tr>\n",
              "  </thead>\n",
              "  <tbody>\n",
              "    <tr>\n",
              "      <th>count</th>\n",
              "      <td>2240.000000</td>\n",
              "      <td>2240.000000</td>\n",
              "      <td>2216.000000</td>\n",
              "      <td>2240.000000</td>\n",
              "      <td>2240.000000</td>\n",
              "      <td>2240.000000</td>\n",
              "      <td>2240.000000</td>\n",
              "      <td>2240.000000</td>\n",
              "      <td>2240.000000</td>\n",
              "      <td>2240.000000</td>\n",
              "      <td>...</td>\n",
              "      <td>2240.000000</td>\n",
              "      <td>2240.000000</td>\n",
              "      <td>2240.000000</td>\n",
              "      <td>2240.000000</td>\n",
              "      <td>2240.000000</td>\n",
              "      <td>2240.000000</td>\n",
              "      <td>2240.000000</td>\n",
              "      <td>2240.0</td>\n",
              "      <td>2240.0</td>\n",
              "      <td>2240.000000</td>\n",
              "    </tr>\n",
              "    <tr>\n",
              "      <th>mean</th>\n",
              "      <td>5592.159821</td>\n",
              "      <td>1968.805804</td>\n",
              "      <td>52247.251354</td>\n",
              "      <td>0.444196</td>\n",
              "      <td>0.506250</td>\n",
              "      <td>49.109375</td>\n",
              "      <td>303.935714</td>\n",
              "      <td>26.302232</td>\n",
              "      <td>166.950000</td>\n",
              "      <td>37.525446</td>\n",
              "      <td>...</td>\n",
              "      <td>5.316518</td>\n",
              "      <td>0.072768</td>\n",
              "      <td>0.074554</td>\n",
              "      <td>0.072768</td>\n",
              "      <td>0.064286</td>\n",
              "      <td>0.013393</td>\n",
              "      <td>0.009375</td>\n",
              "      <td>3.0</td>\n",
              "      <td>11.0</td>\n",
              "      <td>0.149107</td>\n",
              "    </tr>\n",
              "    <tr>\n",
              "      <th>std</th>\n",
              "      <td>3246.662198</td>\n",
              "      <td>11.984069</td>\n",
              "      <td>25173.076661</td>\n",
              "      <td>0.538398</td>\n",
              "      <td>0.544538</td>\n",
              "      <td>28.962453</td>\n",
              "      <td>336.597393</td>\n",
              "      <td>39.773434</td>\n",
              "      <td>225.715373</td>\n",
              "      <td>54.628979</td>\n",
              "      <td>...</td>\n",
              "      <td>2.426645</td>\n",
              "      <td>0.259813</td>\n",
              "      <td>0.262728</td>\n",
              "      <td>0.259813</td>\n",
              "      <td>0.245316</td>\n",
              "      <td>0.114976</td>\n",
              "      <td>0.096391</td>\n",
              "      <td>0.0</td>\n",
              "      <td>0.0</td>\n",
              "      <td>0.356274</td>\n",
              "    </tr>\n",
              "    <tr>\n",
              "      <th>min</th>\n",
              "      <td>0.000000</td>\n",
              "      <td>1893.000000</td>\n",
              "      <td>1730.000000</td>\n",
              "      <td>0.000000</td>\n",
              "      <td>0.000000</td>\n",
              "      <td>0.000000</td>\n",
              "      <td>0.000000</td>\n",
              "      <td>0.000000</td>\n",
              "      <td>0.000000</td>\n",
              "      <td>0.000000</td>\n",
              "      <td>...</td>\n",
              "      <td>0.000000</td>\n",
              "      <td>0.000000</td>\n",
              "      <td>0.000000</td>\n",
              "      <td>0.000000</td>\n",
              "      <td>0.000000</td>\n",
              "      <td>0.000000</td>\n",
              "      <td>0.000000</td>\n",
              "      <td>3.0</td>\n",
              "      <td>11.0</td>\n",
              "      <td>0.000000</td>\n",
              "    </tr>\n",
              "    <tr>\n",
              "      <th>25%</th>\n",
              "      <td>2828.250000</td>\n",
              "      <td>1959.000000</td>\n",
              "      <td>35303.000000</td>\n",
              "      <td>0.000000</td>\n",
              "      <td>0.000000</td>\n",
              "      <td>24.000000</td>\n",
              "      <td>23.750000</td>\n",
              "      <td>1.000000</td>\n",
              "      <td>16.000000</td>\n",
              "      <td>3.000000</td>\n",
              "      <td>...</td>\n",
              "      <td>3.000000</td>\n",
              "      <td>0.000000</td>\n",
              "      <td>0.000000</td>\n",
              "      <td>0.000000</td>\n",
              "      <td>0.000000</td>\n",
              "      <td>0.000000</td>\n",
              "      <td>0.000000</td>\n",
              "      <td>3.0</td>\n",
              "      <td>11.0</td>\n",
              "      <td>0.000000</td>\n",
              "    </tr>\n",
              "    <tr>\n",
              "      <th>50%</th>\n",
              "      <td>5458.500000</td>\n",
              "      <td>1970.000000</td>\n",
              "      <td>51381.500000</td>\n",
              "      <td>0.000000</td>\n",
              "      <td>0.000000</td>\n",
              "      <td>49.000000</td>\n",
              "      <td>173.500000</td>\n",
              "      <td>8.000000</td>\n",
              "      <td>67.000000</td>\n",
              "      <td>12.000000</td>\n",
              "      <td>...</td>\n",
              "      <td>6.000000</td>\n",
              "      <td>0.000000</td>\n",
              "      <td>0.000000</td>\n",
              "      <td>0.000000</td>\n",
              "      <td>0.000000</td>\n",
              "      <td>0.000000</td>\n",
              "      <td>0.000000</td>\n",
              "      <td>3.0</td>\n",
              "      <td>11.0</td>\n",
              "      <td>0.000000</td>\n",
              "    </tr>\n",
              "    <tr>\n",
              "      <th>75%</th>\n",
              "      <td>8427.750000</td>\n",
              "      <td>1977.000000</td>\n",
              "      <td>68522.000000</td>\n",
              "      <td>1.000000</td>\n",
              "      <td>1.000000</td>\n",
              "      <td>74.000000</td>\n",
              "      <td>504.250000</td>\n",
              "      <td>33.000000</td>\n",
              "      <td>232.000000</td>\n",
              "      <td>50.000000</td>\n",
              "      <td>...</td>\n",
              "      <td>7.000000</td>\n",
              "      <td>0.000000</td>\n",
              "      <td>0.000000</td>\n",
              "      <td>0.000000</td>\n",
              "      <td>0.000000</td>\n",
              "      <td>0.000000</td>\n",
              "      <td>0.000000</td>\n",
              "      <td>3.0</td>\n",
              "      <td>11.0</td>\n",
              "      <td>0.000000</td>\n",
              "    </tr>\n",
              "    <tr>\n",
              "      <th>max</th>\n",
              "      <td>11191.000000</td>\n",
              "      <td>1996.000000</td>\n",
              "      <td>666666.000000</td>\n",
              "      <td>2.000000</td>\n",
              "      <td>2.000000</td>\n",
              "      <td>99.000000</td>\n",
              "      <td>1493.000000</td>\n",
              "      <td>199.000000</td>\n",
              "      <td>1725.000000</td>\n",
              "      <td>259.000000</td>\n",
              "      <td>...</td>\n",
              "      <td>20.000000</td>\n",
              "      <td>1.000000</td>\n",
              "      <td>1.000000</td>\n",
              "      <td>1.000000</td>\n",
              "      <td>1.000000</td>\n",
              "      <td>1.000000</td>\n",
              "      <td>1.000000</td>\n",
              "      <td>3.0</td>\n",
              "      <td>11.0</td>\n",
              "      <td>1.000000</td>\n",
              "    </tr>\n",
              "  </tbody>\n",
              "</table>\n",
              "<p>8 rows × 26 columns</p>\n",
              "</div>\n",
              "      <button class=\"colab-df-convert\" onclick=\"convertToInteractive('df-f7532131-4a9e-4319-bc79-fc6340879206')\"\n",
              "              title=\"Convert this dataframe to an interactive table.\"\n",
              "              style=\"display:none;\">\n",
              "        \n",
              "  <svg xmlns=\"http://www.w3.org/2000/svg\" height=\"24px\"viewBox=\"0 0 24 24\"\n",
              "       width=\"24px\">\n",
              "    <path d=\"M0 0h24v24H0V0z\" fill=\"none\"/>\n",
              "    <path d=\"M18.56 5.44l.94 2.06.94-2.06 2.06-.94-2.06-.94-.94-2.06-.94 2.06-2.06.94zm-11 1L8.5 8.5l.94-2.06 2.06-.94-2.06-.94L8.5 2.5l-.94 2.06-2.06.94zm10 10l.94 2.06.94-2.06 2.06-.94-2.06-.94-.94-2.06-.94 2.06-2.06.94z\"/><path d=\"M17.41 7.96l-1.37-1.37c-.4-.4-.92-.59-1.43-.59-.52 0-1.04.2-1.43.59L10.3 9.45l-7.72 7.72c-.78.78-.78 2.05 0 2.83L4 21.41c.39.39.9.59 1.41.59.51 0 1.02-.2 1.41-.59l7.78-7.78 2.81-2.81c.8-.78.8-2.07 0-2.86zM5.41 20L4 18.59l7.72-7.72 1.47 1.35L5.41 20z\"/>\n",
              "  </svg>\n",
              "      </button>\n",
              "      \n",
              "  <style>\n",
              "    .colab-df-container {\n",
              "      display:flex;\n",
              "      flex-wrap:wrap;\n",
              "      gap: 12px;\n",
              "    }\n",
              "\n",
              "    .colab-df-convert {\n",
              "      background-color: #E8F0FE;\n",
              "      border: none;\n",
              "      border-radius: 50%;\n",
              "      cursor: pointer;\n",
              "      display: none;\n",
              "      fill: #1967D2;\n",
              "      height: 32px;\n",
              "      padding: 0 0 0 0;\n",
              "      width: 32px;\n",
              "    }\n",
              "\n",
              "    .colab-df-convert:hover {\n",
              "      background-color: #E2EBFA;\n",
              "      box-shadow: 0px 1px 2px rgba(60, 64, 67, 0.3), 0px 1px 3px 1px rgba(60, 64, 67, 0.15);\n",
              "      fill: #174EA6;\n",
              "    }\n",
              "\n",
              "    [theme=dark] .colab-df-convert {\n",
              "      background-color: #3B4455;\n",
              "      fill: #D2E3FC;\n",
              "    }\n",
              "\n",
              "    [theme=dark] .colab-df-convert:hover {\n",
              "      background-color: #434B5C;\n",
              "      box-shadow: 0px 1px 3px 1px rgba(0, 0, 0, 0.15);\n",
              "      filter: drop-shadow(0px 1px 2px rgba(0, 0, 0, 0.3));\n",
              "      fill: #FFFFFF;\n",
              "    }\n",
              "  </style>\n",
              "\n",
              "      <script>\n",
              "        const buttonEl =\n",
              "          document.querySelector('#df-f7532131-4a9e-4319-bc79-fc6340879206 button.colab-df-convert');\n",
              "        buttonEl.style.display =\n",
              "          google.colab.kernel.accessAllowed ? 'block' : 'none';\n",
              "\n",
              "        async function convertToInteractive(key) {\n",
              "          const element = document.querySelector('#df-f7532131-4a9e-4319-bc79-fc6340879206');\n",
              "          const dataTable =\n",
              "            await google.colab.kernel.invokeFunction('convertToInteractive',\n",
              "                                                     [key], {});\n",
              "          if (!dataTable) return;\n",
              "\n",
              "          const docLinkHtml = 'Like what you see? Visit the ' +\n",
              "            '<a target=\"_blank\" href=https://colab.research.google.com/notebooks/data_table.ipynb>data table notebook</a>'\n",
              "            + ' to learn more about interactive tables.';\n",
              "          element.innerHTML = '';\n",
              "          dataTable['output_type'] = 'display_data';\n",
              "          await google.colab.output.renderOutput(dataTable, element);\n",
              "          const docLink = document.createElement('div');\n",
              "          docLink.innerHTML = docLinkHtml;\n",
              "          element.appendChild(docLink);\n",
              "        }\n",
              "      </script>\n",
              "    </div>\n",
              "  </div>\n",
              "  "
            ]
          },
          "metadata": {},
          "execution_count": 15
        }
      ],
      "source": [
        "df.describe()"
      ]
    },
    {
      "cell_type": "markdown",
      "id": "97c53b71",
      "metadata": {
        "id": "97c53b71",
        "papermill": {
          "duration": 0.034873,
          "end_time": "2022-11-11T03:53:43.136854",
          "exception": false,
          "start_time": "2022-11-11T03:53:43.101981",
          "status": "completed"
        },
        "tags": []
      },
      "source": [
        "## 2.4 Categorical Description <a class=\"anchor\" id=\"cat_des\"></a>"
      ]
    },
    {
      "cell_type": "code",
      "execution_count": 16,
      "id": "e291d2e3",
      "metadata": {
        "execution": {
          "iopub.execute_input": "2022-11-11T03:53:43.208134Z",
          "iopub.status.busy": "2022-11-11T03:53:43.207600Z",
          "iopub.status.idle": "2022-11-11T03:53:43.229027Z",
          "shell.execute_reply": "2022-11-11T03:53:43.227695Z"
        },
        "id": "e291d2e3",
        "outputId": "6a376e41-bfd4-4e4e-a79d-5e0cd49c3852",
        "papermill": {
          "duration": 0.059936,
          "end_time": "2022-11-11T03:53:43.231489",
          "exception": false,
          "start_time": "2022-11-11T03:53:43.171553",
          "status": "completed"
        },
        "tags": [],
        "colab": {
          "base_uri": "https://localhost:8080/",
          "height": 175
        }
      },
      "outputs": [
        {
          "output_type": "execute_result",
          "data": {
            "text/plain": [
              "         Education Marital_Status Dt_Customer\n",
              "count         2240           2240        2240\n",
              "unique           5              8         663\n",
              "top     Graduation        Married  31-08-2012\n",
              "freq          1127            864          12"
            ],
            "text/html": [
              "\n",
              "  <div id=\"df-a6247760-f3fb-4c8e-9567-5059efef22ce\">\n",
              "    <div class=\"colab-df-container\">\n",
              "      <div>\n",
              "<style scoped>\n",
              "    .dataframe tbody tr th:only-of-type {\n",
              "        vertical-align: middle;\n",
              "    }\n",
              "\n",
              "    .dataframe tbody tr th {\n",
              "        vertical-align: top;\n",
              "    }\n",
              "\n",
              "    .dataframe thead th {\n",
              "        text-align: right;\n",
              "    }\n",
              "</style>\n",
              "<table border=\"1\" class=\"dataframe\">\n",
              "  <thead>\n",
              "    <tr style=\"text-align: right;\">\n",
              "      <th></th>\n",
              "      <th>Education</th>\n",
              "      <th>Marital_Status</th>\n",
              "      <th>Dt_Customer</th>\n",
              "    </tr>\n",
              "  </thead>\n",
              "  <tbody>\n",
              "    <tr>\n",
              "      <th>count</th>\n",
              "      <td>2240</td>\n",
              "      <td>2240</td>\n",
              "      <td>2240</td>\n",
              "    </tr>\n",
              "    <tr>\n",
              "      <th>unique</th>\n",
              "      <td>5</td>\n",
              "      <td>8</td>\n",
              "      <td>663</td>\n",
              "    </tr>\n",
              "    <tr>\n",
              "      <th>top</th>\n",
              "      <td>Graduation</td>\n",
              "      <td>Married</td>\n",
              "      <td>31-08-2012</td>\n",
              "    </tr>\n",
              "    <tr>\n",
              "      <th>freq</th>\n",
              "      <td>1127</td>\n",
              "      <td>864</td>\n",
              "      <td>12</td>\n",
              "    </tr>\n",
              "  </tbody>\n",
              "</table>\n",
              "</div>\n",
              "      <button class=\"colab-df-convert\" onclick=\"convertToInteractive('df-a6247760-f3fb-4c8e-9567-5059efef22ce')\"\n",
              "              title=\"Convert this dataframe to an interactive table.\"\n",
              "              style=\"display:none;\">\n",
              "        \n",
              "  <svg xmlns=\"http://www.w3.org/2000/svg\" height=\"24px\"viewBox=\"0 0 24 24\"\n",
              "       width=\"24px\">\n",
              "    <path d=\"M0 0h24v24H0V0z\" fill=\"none\"/>\n",
              "    <path d=\"M18.56 5.44l.94 2.06.94-2.06 2.06-.94-2.06-.94-.94-2.06-.94 2.06-2.06.94zm-11 1L8.5 8.5l.94-2.06 2.06-.94-2.06-.94L8.5 2.5l-.94 2.06-2.06.94zm10 10l.94 2.06.94-2.06 2.06-.94-2.06-.94-.94-2.06-.94 2.06-2.06.94z\"/><path d=\"M17.41 7.96l-1.37-1.37c-.4-.4-.92-.59-1.43-.59-.52 0-1.04.2-1.43.59L10.3 9.45l-7.72 7.72c-.78.78-.78 2.05 0 2.83L4 21.41c.39.39.9.59 1.41.59.51 0 1.02-.2 1.41-.59l7.78-7.78 2.81-2.81c.8-.78.8-2.07 0-2.86zM5.41 20L4 18.59l7.72-7.72 1.47 1.35L5.41 20z\"/>\n",
              "  </svg>\n",
              "      </button>\n",
              "      \n",
              "  <style>\n",
              "    .colab-df-container {\n",
              "      display:flex;\n",
              "      flex-wrap:wrap;\n",
              "      gap: 12px;\n",
              "    }\n",
              "\n",
              "    .colab-df-convert {\n",
              "      background-color: #E8F0FE;\n",
              "      border: none;\n",
              "      border-radius: 50%;\n",
              "      cursor: pointer;\n",
              "      display: none;\n",
              "      fill: #1967D2;\n",
              "      height: 32px;\n",
              "      padding: 0 0 0 0;\n",
              "      width: 32px;\n",
              "    }\n",
              "\n",
              "    .colab-df-convert:hover {\n",
              "      background-color: #E2EBFA;\n",
              "      box-shadow: 0px 1px 2px rgba(60, 64, 67, 0.3), 0px 1px 3px 1px rgba(60, 64, 67, 0.15);\n",
              "      fill: #174EA6;\n",
              "    }\n",
              "\n",
              "    [theme=dark] .colab-df-convert {\n",
              "      background-color: #3B4455;\n",
              "      fill: #D2E3FC;\n",
              "    }\n",
              "\n",
              "    [theme=dark] .colab-df-convert:hover {\n",
              "      background-color: #434B5C;\n",
              "      box-shadow: 0px 1px 3px 1px rgba(0, 0, 0, 0.15);\n",
              "      filter: drop-shadow(0px 1px 2px rgba(0, 0, 0, 0.3));\n",
              "      fill: #FFFFFF;\n",
              "    }\n",
              "  </style>\n",
              "\n",
              "      <script>\n",
              "        const buttonEl =\n",
              "          document.querySelector('#df-a6247760-f3fb-4c8e-9567-5059efef22ce button.colab-df-convert');\n",
              "        buttonEl.style.display =\n",
              "          google.colab.kernel.accessAllowed ? 'block' : 'none';\n",
              "\n",
              "        async function convertToInteractive(key) {\n",
              "          const element = document.querySelector('#df-a6247760-f3fb-4c8e-9567-5059efef22ce');\n",
              "          const dataTable =\n",
              "            await google.colab.kernel.invokeFunction('convertToInteractive',\n",
              "                                                     [key], {});\n",
              "          if (!dataTable) return;\n",
              "\n",
              "          const docLinkHtml = 'Like what you see? Visit the ' +\n",
              "            '<a target=\"_blank\" href=https://colab.research.google.com/notebooks/data_table.ipynb>data table notebook</a>'\n",
              "            + ' to learn more about interactive tables.';\n",
              "          element.innerHTML = '';\n",
              "          dataTable['output_type'] = 'display_data';\n",
              "          await google.colab.output.renderOutput(dataTable, element);\n",
              "          const docLink = document.createElement('div');\n",
              "          docLink.innerHTML = docLinkHtml;\n",
              "          element.appendChild(docLink);\n",
              "        }\n",
              "      </script>\n",
              "    </div>\n",
              "  </div>\n",
              "  "
            ]
          },
          "metadata": {},
          "execution_count": 16
        }
      ],
      "source": [
        "df.describe(include='object')"
      ]
    },
    {
      "cell_type": "markdown",
      "id": "83890ade",
      "metadata": {
        "id": "83890ade",
        "papermill": {
          "duration": 0.034139,
          "end_time": "2022-11-11T03:53:43.438658",
          "exception": false,
          "start_time": "2022-11-11T03:53:43.404519",
          "status": "completed"
        },
        "tags": []
      },
      "source": [
        "# 3 EDA <a class=\"anchor\" id=\"eda\"></a>"
      ]
    },
    {
      "cell_type": "code",
      "execution_count": 17,
      "id": "a66cdf14",
      "metadata": {
        "execution": {
          "iopub.execute_input": "2022-11-11T03:53:43.509940Z",
          "iopub.status.busy": "2022-11-11T03:53:43.509170Z",
          "iopub.status.idle": "2022-11-11T03:53:43.516084Z",
          "shell.execute_reply": "2022-11-11T03:53:43.514641Z"
        },
        "id": "a66cdf14",
        "papermill": {
          "duration": 0.045037,
          "end_time": "2022-11-11T03:53:43.518372",
          "exception": false,
          "start_time": "2022-11-11T03:53:43.473335",
          "status": "completed"
        },
        "tags": []
      },
      "outputs": [],
      "source": [
        "def set_labels(x=\"\", y=\"\", title=\"\", axis=None):\n",
        "  if axis:\n",
        "    axis.set_xlabel(x);\n",
        "    axis.set_ylabel(y);\n",
        "    axis.set_title(title);\n",
        "  else:\n",
        "    plt.title(title);\n",
        "    plt.xlabel(x);\n",
        "    plt.ylabel(y);"
      ]
    },
    {
      "cell_type": "markdown",
      "id": "20838a87",
      "metadata": {
        "id": "20838a87",
        "papermill": {
          "duration": 0.035114,
          "end_time": "2022-11-11T03:53:43.589364",
          "exception": false,
          "start_time": "2022-11-11T03:53:43.554250",
          "status": "completed"
        },
        "tags": []
      },
      "source": [
        "## 3.1 People <a class=\"anchor\" id=\"eda_people\"></a>"
      ]
    },
    {
      "cell_type": "code",
      "execution_count": 18,
      "id": "0d4a8fad",
      "metadata": {
        "execution": {
          "iopub.execute_input": "2022-11-11T03:53:43.730078Z",
          "iopub.status.busy": "2022-11-11T03:53:43.729594Z",
          "iopub.status.idle": "2022-11-11T03:53:44.441370Z",
          "shell.execute_reply": "2022-11-11T03:53:44.439826Z"
        },
        "id": "0d4a8fad",
        "outputId": "f9d97a00-72fd-4353-c08e-ad8ddea61a08",
        "papermill": {
          "duration": 0.751049,
          "end_time": "2022-11-11T03:53:44.444360",
          "exception": false,
          "start_time": "2022-11-11T03:53:43.693311",
          "status": "completed"
        },
        "tags": [],
        "colab": {
          "base_uri": "https://localhost:8080/",
          "height": 294
        }
      },
      "outputs": [
        {
          "output_type": "display_data",
          "data": {
            "text/plain": [
              "<Figure size 432x288 with 1 Axes>"
            ],
            "image/png": "[encoded data removed]"
          },
          "metadata": {
            "needs_background": "light"
          }
        }
      ],
      "source": [
        "set_labels(x=\"Year of Birth\", y=\"Frequency\", title=\"Customer Age Distribution\")\n",
        "plt.xticks(list(range(1830,2000,5)))\n",
        "sns.histplot(df['Year_Birth']);"
      ]
    },
    {
      "cell_type": "code",
      "execution_count": 19,
      "id": "69397025",
      "metadata": {
        "execution": {
          "iopub.execute_input": "2022-11-11T03:53:45.619523Z",
          "iopub.status.busy": "2022-11-11T03:53:45.618675Z",
          "iopub.status.idle": "2022-11-11T03:53:46.418378Z",
          "shell.execute_reply": "2022-11-11T03:53:46.416910Z"
        },
        "id": "69397025",
        "outputId": "320ec3c9-570a-4e3d-ef75-bcc9442f9f21",
        "papermill": {
          "duration": 0.839647,
          "end_time": "2022-11-11T03:53:46.421235",
          "exception": false,
          "start_time": "2022-11-11T03:53:45.581588",
          "status": "completed"
        },
        "tags": [],
        "colab": {
          "base_uri": "https://localhost:8080/",
          "height": 456
        }
      },
      "outputs": [
        {
          "output_type": "display_data",
          "data": {
            "text/plain": [
              "<Figure size 1123.2x432 with 1 Axes>"
            ],
            "image/png": "[encoded data removed]"
          },
          "metadata": {
            "needs_background": "light"
          }
        }
      ],
      "source": [
        "sns.displot(df['Income'], kde=True, height=6, aspect=2.6);\n",
        "plt.xticks(list(range(0,700000,50000)))\n",
        "\n",
        "set_labels(x=\"Income\", y=\"Frequency\", title=\"Customer Income Distribution\")"
      ]
    },
    {
      "cell_type": "markdown",
      "id": "44258067",
      "metadata": {
        "id": "44258067",
        "papermill": {
          "duration": 0.043394,
          "end_time": "2022-11-11T03:53:54.327321",
          "exception": false,
          "start_time": "2022-11-11T03:53:54.283927",
          "status": "completed"
        },
        "tags": []
      },
      "source": [
        "# 4 Data Cleaning <a class=\"anchor\" id=\"cleaning\"></a>"
      ]
    },
    {
      "cell_type": "markdown",
      "id": "8b76d1b0",
      "metadata": {
        "id": "8b76d1b0",
        "papermill": {
          "duration": 0.043485,
          "end_time": "2022-11-11T03:53:54.414595",
          "exception": false,
          "start_time": "2022-11-11T03:53:54.371110",
          "status": "completed"
        },
        "tags": []
      },
      "source": [
        "## 4.1 Missing Values <a class=\"anchor\" id=\"cleaning_missing\"></a>"
      ]
    },
    {
      "cell_type": "code",
      "execution_count": 20,
      "id": "42edae43",
      "metadata": {
        "execution": {
          "iopub.execute_input": "2022-11-11T03:53:54.506013Z",
          "iopub.status.busy": "2022-11-11T03:53:54.505511Z",
          "iopub.status.idle": "2022-11-11T03:53:54.516047Z",
          "shell.execute_reply": "2022-11-11T03:53:54.515100Z"
        },
        "id": "42edae43",
        "outputId": "6b0233fa-ea1a-42dc-d5f8-37aa3870fee6",
        "papermill": {
          "duration": 0.059593,
          "end_time": "2022-11-11T03:53:54.518466",
          "exception": false,
          "start_time": "2022-11-11T03:53:54.458873",
          "status": "completed"
        },
        "tags": [],
        "colab": {
          "base_uri": "https://localhost:8080/"
        }
      },
      "outputs": [
        {
          "output_type": "execute_result",
          "data": {
            "text/plain": [
              "ID                      0\n",
              "Year_Birth              0\n",
              "Education               0\n",
              "Marital_Status          0\n",
              "Income                 24\n",
              "Kidhome                 0\n",
              "Teenhome                0\n",
              "Dt_Customer             0\n",
              "Recency                 0\n",
              "MntWines                0\n",
              "MntFruits               0\n",
              "MntMeatProducts         0\n",
              "MntFishProducts         0\n",
              "MntSweetProducts        0\n",
              "MntGoldProds            0\n",
              "NumDealsPurchases       0\n",
              "NumWebPurchases         0\n",
              "NumCatalogPurchases     0\n",
              "NumStorePurchases       0\n",
              "NumWebVisitsMonth       0\n",
              "AcceptedCmp3            0\n",
              "AcceptedCmp4            0\n",
              "AcceptedCmp5            0\n",
              "AcceptedCmp1            0\n",
              "AcceptedCmp2            0\n",
              "Complain                0\n",
              "Z_CostContact           0\n",
              "Z_Revenue               0\n",
              "Response                0\n",
              "dtype: int64"
            ]
          },
          "metadata": {},
          "execution_count": 20
        }
      ],
      "source": [
        "df.isna().sum()"
      ]
    },
    {
      "cell_type": "code",
      "execution_count": 21,
      "id": "ab0904df",
      "metadata": {
        "execution": {
          "iopub.execute_input": "2022-11-11T03:53:54.692636Z",
          "iopub.status.busy": "2022-11-11T03:53:54.691377Z",
          "iopub.status.idle": "2022-11-11T03:53:54.703633Z",
          "shell.execute_reply": "2022-11-11T03:53:54.702387Z"
        },
        "id": "ab0904df",
        "outputId": "32e8dfb4-9806-4f4e-bd32-e31a73faee87",
        "papermill": {
          "duration": 0.058861,
          "end_time": "2022-11-11T03:53:54.706035",
          "exception": false,
          "start_time": "2022-11-11T03:53:54.647174",
          "status": "completed"
        },
        "tags": [],
        "colab": {
          "base_uri": "https://localhost:8080/"
        }
      },
      "outputs": [
        {
          "output_type": "execute_result",
          "data": {
            "text/plain": [
              "(2216, 29)"
            ]
          },
          "metadata": {},
          "execution_count": 21
        }
      ],
      "source": [
        "df = df.dropna()\n",
        "df.shape"
      ]
    },
    {
      "cell_type": "markdown",
      "id": "fb12a4ec",
      "metadata": {
        "id": "fb12a4ec",
        "papermill": {
          "duration": 0.042033,
          "end_time": "2022-11-11T03:53:54.882059",
          "exception": false,
          "start_time": "2022-11-11T03:53:54.840026",
          "status": "completed"
        },
        "tags": []
      },
      "source": [
        "## 4.2 Incorrect Types <a class=\"anchor\" id=\"cleaning_incorrect\"></a>"
      ]
    },
    {
      "cell_type": "code",
      "execution_count": 22,
      "id": "ce959216",
      "metadata": {
        "execution": {
          "iopub.execute_input": "2022-11-11T03:53:54.971148Z",
          "iopub.status.busy": "2022-11-11T03:53:54.970067Z",
          "iopub.status.idle": "2022-11-11T03:53:54.980344Z",
          "shell.execute_reply": "2022-11-11T03:53:54.979078Z"
        },
        "id": "ce959216",
        "outputId": "fc630158-d374-4a85-c0e1-3492be7c9cba",
        "papermill": {
          "duration": 0.058327,
          "end_time": "2022-11-11T03:53:54.983145",
          "exception": false,
          "start_time": "2022-11-11T03:53:54.924818",
          "status": "completed"
        },
        "tags": [],
        "colab": {
          "base_uri": "https://localhost:8080/"
        }
      },
      "outputs": [
        {
          "output_type": "execute_result",
          "data": {
            "text/plain": [
              "ID                       int64\n",
              "Year_Birth               int64\n",
              "Education               object\n",
              "Marital_Status          object\n",
              "Income                 float64\n",
              "Kidhome                  int64\n",
              "Teenhome                 int64\n",
              "Dt_Customer             object\n",
              "Recency                  int64\n",
              "MntWines                 int64\n",
              "MntFruits                int64\n",
              "MntMeatProducts          int64\n",
              "MntFishProducts          int64\n",
              "MntSweetProducts         int64\n",
              "MntGoldProds             int64\n",
              "NumDealsPurchases        int64\n",
              "NumWebPurchases          int64\n",
              "NumCatalogPurchases      int64\n",
              "NumStorePurchases        int64\n",
              "NumWebVisitsMonth        int64\n",
              "AcceptedCmp3             int64\n",
              "AcceptedCmp4             int64\n",
              "AcceptedCmp5             int64\n",
              "AcceptedCmp1             int64\n",
              "AcceptedCmp2             int64\n",
              "Complain                 int64\n",
              "Z_CostContact            int64\n",
              "Z_Revenue                int64\n",
              "Response                 int64\n",
              "dtype: object"
            ]
          },
          "metadata": {},
          "execution_count": 22
        }
      ],
      "source": [
        "df.dtypes"
      ]
    },
    {
      "cell_type": "code",
      "execution_count": 23,
      "id": "0871f2ff",
      "metadata": {
        "execution": {
          "iopub.execute_input": "2022-11-11T03:53:55.163728Z",
          "iopub.status.busy": "2022-11-11T03:53:55.163178Z",
          "iopub.status.idle": "2022-11-11T03:53:55.177575Z",
          "shell.execute_reply": "2022-11-11T03:53:55.176483Z"
        },
        "id": "0871f2ff",
        "outputId": "921fc355-ca88-4961-d0a5-7effc39ad3e5",
        "papermill": {
          "duration": 0.061887,
          "end_time": "2022-11-11T03:53:55.180059",
          "exception": false,
          "start_time": "2022-11-11T03:53:55.118172",
          "status": "completed"
        },
        "tags": [],
        "colab": {
          "base_uri": "https://localhost:8080/"
        }
      },
      "outputs": [
        {
          "output_type": "stream",
          "name": "stderr",
          "text": [
            "/usr/local/lib/python3.7/dist-packages/pandas/core/generic.py:5516: SettingWithCopyWarning: \n",
            "A value is trying to be set on a copy of a slice from a DataFrame.\n",
            "Try using .loc[row_indexer,col_indexer] = value instead\n",
            "\n",
            "See the caveats in the documentation: https://pandas.pydata.org/pandas-docs/stable/user_guide/indexing.html#returning-a-view-versus-a-copy\n",
            "  self[name] = value\n"
          ]
        },
        {
          "output_type": "execute_result",
          "data": {
            "text/plain": [
              "0       2012\n",
              "1       2014\n",
              "2       2013\n",
              "3       2014\n",
              "4       2014\n",
              "        ... \n",
              "2235    2013\n",
              "2236    2014\n",
              "2237    2014\n",
              "2238    2014\n",
              "2239    2012\n",
              "Name: Dt_Customer, Length: 2216, dtype: int64"
            ]
          },
          "metadata": {},
          "execution_count": 23
        }
      ],
      "source": [
        "df.Dt_Customer = pd.to_datetime(df['Dt_Customer']).dt.year\n",
        "\n",
        "df['Dt_Customer']"
      ]
    },
    {
      "cell_type": "markdown",
      "id": "2c9ee985",
      "metadata": {
        "id": "2c9ee985",
        "papermill": {
          "duration": 0.044413,
          "end_time": "2022-11-11T03:53:55.269580",
          "exception": false,
          "start_time": "2022-11-11T03:53:55.225167",
          "status": "completed"
        },
        "tags": []
      },
      "source": [
        "## 4.3 Inconsistent Values <a class=\"anchor\" id=\"cleaning_inconsistent\"></a>"
      ]
    },
    {
      "cell_type": "code",
      "execution_count": 24,
      "id": "50313bdd",
      "metadata": {
        "execution": {
          "iopub.execute_input": "2022-11-11T03:53:55.361099Z",
          "iopub.status.busy": "2022-11-11T03:53:55.360318Z",
          "iopub.status.idle": "2022-11-11T03:53:55.368359Z",
          "shell.execute_reply": "2022-11-11T03:53:55.367208Z"
        },
        "id": "50313bdd",
        "outputId": "16a78a31-c461-43e9-ba73-5d6ff0043506",
        "papermill": {
          "duration": 0.05681,
          "end_time": "2022-11-11T03:53:55.370648",
          "exception": false,
          "start_time": "2022-11-11T03:53:55.313838",
          "status": "completed"
        },
        "tags": [],
        "colab": {
          "base_uri": "https://localhost:8080/"
        }
      },
      "outputs": [
        {
          "output_type": "execute_result",
          "data": {
            "text/plain": [
              "array(['Graduation', 'PhD', 'Master', 'Basic', '2n Cycle'], dtype=object)"
            ]
          },
          "metadata": {},
          "execution_count": 24
        }
      ],
      "source": [
        "df.Education.unique()"
      ]
    },
    {
      "cell_type": "code",
      "execution_count": 25,
      "id": "e14bcf4f",
      "metadata": {
        "execution": {
          "iopub.execute_input": "2022-11-11T03:53:55.547188Z",
          "iopub.status.busy": "2022-11-11T03:53:55.546366Z",
          "iopub.status.idle": "2022-11-11T03:53:55.557013Z",
          "shell.execute_reply": "2022-11-11T03:53:55.555682Z"
        },
        "id": "e14bcf4f",
        "outputId": "b210867e-165a-4c4c-d745-6f2f6b6d9484",
        "papermill": {
          "duration": 0.059443,
          "end_time": "2022-11-11T03:53:55.559510",
          "exception": false,
          "start_time": "2022-11-11T03:53:55.500067",
          "status": "completed"
        },
        "tags": [],
        "colab": {
          "base_uri": "https://localhost:8080/"
        }
      },
      "outputs": [
        {
          "output_type": "stream",
          "name": "stderr",
          "text": [
            "/usr/local/lib/python3.7/dist-packages/pandas/core/generic.py:6619: SettingWithCopyWarning: \n",
            "A value is trying to be set on a copy of a slice from a DataFrame\n",
            "\n",
            "See the caveats in the documentation: https://pandas.pydata.org/pandas-docs/stable/user_guide/indexing.html#returning-a-view-versus-a-copy\n",
            "  return self._update_inplace(result)\n"
          ]
        },
        {
          "output_type": "execute_result",
          "data": {
            "text/plain": [
              "array(['UnderGraduate', 'PhD', 'Master', 'High School'], dtype=object)"
            ]
          },
          "metadata": {},
          "execution_count": 25
        }
      ],
      "source": [
        "df.Education.replace({\"Graduation\": \"UnderGraduate\",\n",
        "                      \"Basic\": \"High School\",\n",
        "                      \"2n Cycle\":\"Master\"},\n",
        "                      inplace=True)\n",
        "\n",
        "df.Education.unique()"
      ]
    },
    {
      "cell_type": "code",
      "execution_count": 26,
      "id": "8c774154",
      "metadata": {
        "execution": {
          "iopub.execute_input": "2022-11-11T03:53:55.650333Z",
          "iopub.status.busy": "2022-11-11T03:53:55.649803Z",
          "iopub.status.idle": "2022-11-11T03:53:55.657820Z",
          "shell.execute_reply": "2022-11-11T03:53:55.656904Z"
        },
        "id": "8c774154",
        "outputId": "4c9477c0-ad9e-4776-b329-a69da2e375aa",
        "papermill": {
          "duration": 0.057502,
          "end_time": "2022-11-11T03:53:55.660564",
          "exception": false,
          "start_time": "2022-11-11T03:53:55.603062",
          "status": "completed"
        },
        "tags": [],
        "colab": {
          "base_uri": "https://localhost:8080/"
        }
      },
      "outputs": [
        {
          "output_type": "execute_result",
          "data": {
            "text/plain": [
              "array(['Single', 'Together', 'Married', 'Divorced', 'Widow', 'Alone',\n",
              "       'Absurd', 'YOLO'], dtype=object)"
            ]
          },
          "metadata": {},
          "execution_count": 26
        }
      ],
      "source": [
        "df.Marital_Status.unique()"
      ]
    },
    {
      "cell_type": "code",
      "execution_count": 27,
      "id": "71c82991",
      "metadata": {
        "execution": {
          "iopub.execute_input": "2022-11-11T03:53:55.845189Z",
          "iopub.status.busy": "2022-11-11T03:53:55.844633Z",
          "iopub.status.idle": "2022-11-11T03:53:55.856114Z",
          "shell.execute_reply": "2022-11-11T03:53:55.855124Z"
        },
        "id": "71c82991",
        "outputId": "88d91e4b-d1be-4f9e-905d-13077d8c809b",
        "papermill": {
          "duration": 0.059629,
          "end_time": "2022-11-11T03:53:55.858560",
          "exception": false,
          "start_time": "2022-11-11T03:53:55.798931",
          "status": "completed"
        },
        "tags": [],
        "colab": {
          "base_uri": "https://localhost:8080/"
        }
      },
      "outputs": [
        {
          "output_type": "execute_result",
          "data": {
            "text/plain": [
              "array(['Single', 'In Relationship'], dtype=object)"
            ]
          },
          "metadata": {},
          "execution_count": 27
        }
      ],
      "source": [
        "df.Marital_Status.replace({\"Together\": \"In Relationship\",\n",
        "                           \"Married\": \"In Relationship\",\n",
        "                           \"Divorced\":\"Single\",\n",
        "                           \"Widow\": \"Single\",\n",
        "                           \"Alone\": \"Single\",\n",
        "                           \"Absurd\": \"Single\",\n",
        "                           \"YOLO\": \"Single\"},\n",
        "                           inplace=True)\n",
        "\n",
        "df.Marital_Status.unique()"
      ]
    },
    {
      "cell_type": "markdown",
      "id": "fe96fec3",
      "metadata": {
        "id": "fe96fec3",
        "papermill": {
          "duration": 0.042264,
          "end_time": "2022-11-11T03:53:55.943869",
          "exception": false,
          "start_time": "2022-11-11T03:53:55.901605",
          "status": "completed"
        },
        "tags": []
      },
      "source": [
        "## 4.4 Outlier Removal <a class=\"anchor\" id=\"cleaning_outliers\"></a>\n",
        "\n"
      ]
    },
    {
      "cell_type": "code",
      "execution_count": 28,
      "id": "77ab535d",
      "metadata": {
        "execution": {
          "iopub.execute_input": "2022-11-11T03:53:56.033144Z",
          "iopub.status.busy": "2022-11-11T03:53:56.032565Z",
          "iopub.status.idle": "2022-11-11T03:53:56.045063Z",
          "shell.execute_reply": "2022-11-11T03:53:56.043935Z"
        },
        "id": "77ab535d",
        "outputId": "b77d32ae-5941-427e-f6a2-4aac13123114",
        "papermill": {
          "duration": 0.06105,
          "end_time": "2022-11-11T03:53:56.047920",
          "exception": false,
          "start_time": "2022-11-11T03:53:55.986870",
          "status": "completed"
        },
        "tags": [],
        "colab": {
          "base_uri": "https://localhost:8080/"
        }
      },
      "outputs": [
        {
          "output_type": "execute_result",
          "data": {
            "text/plain": [
              "(2212, 29)"
            ]
          },
          "metadata": {},
          "execution_count": 28
        }
      ],
      "source": [
        "df = df.loc[df.Year_Birth  >= 1935]\n",
        "df = df.loc[df.Income  <= 200000]\n",
        "\n",
        "df.shape"
      ]
    },
    {
      "cell_type": "markdown",
      "id": "2ecc6e0f",
      "metadata": {
        "id": "2ecc6e0f",
        "papermill": {
          "duration": 0.045004,
          "end_time": "2022-11-11T03:53:56.139969",
          "exception": false,
          "start_time": "2022-11-11T03:53:56.094965",
          "status": "completed"
        },
        "tags": []
      },
      "source": [
        "We got rid of 4 rows in the process of removing outliers."
      ]
    },
    {
      "cell_type": "markdown",
      "id": "3bf69812",
      "metadata": {
        "id": "3bf69812",
        "papermill": {
          "duration": 0.044902,
          "end_time": "2022-11-11T03:53:56.230279",
          "exception": false,
          "start_time": "2022-11-11T03:53:56.185377",
          "status": "completed"
        },
        "tags": []
      },
      "source": [
        "## 4.5 Remove unneeded Columns <a class=\"anchor\" id=\"cleaning_unneeded\"></a>\n",
        "\n",
        "\n"
      ]
    },
    {
      "cell_type": "code",
      "execution_count": 29,
      "id": "4db27513",
      "metadata": {
        "execution": {
          "iopub.execute_input": "2022-11-11T03:53:56.322426Z",
          "iopub.status.busy": "2022-11-11T03:53:56.321991Z",
          "iopub.status.idle": "2022-11-11T03:53:56.332278Z",
          "shell.execute_reply": "2022-11-11T03:53:56.331007Z"
        },
        "id": "4db27513",
        "outputId": "a285dc56-3a26-40bb-b7ca-76f4018307cd",
        "papermill": {
          "duration": 0.059453,
          "end_time": "2022-11-11T03:53:56.334899",
          "exception": false,
          "start_time": "2022-11-11T03:53:56.275446",
          "status": "completed"
        },
        "tags": [],
        "colab": {
          "base_uri": "https://localhost:8080/"
        }
      },
      "outputs": [
        {
          "output_type": "execute_result",
          "data": {
            "text/plain": [
              "11    2212\n",
              "Name: Z_Revenue, dtype: int64"
            ]
          },
          "metadata": {},
          "execution_count": 29
        }
      ],
      "source": [
        "df.Z_Revenue.value_counts()"
      ]
    },
    {
      "cell_type": "code",
      "execution_count": 30,
      "id": "3330980b",
      "metadata": {
        "execution": {
          "iopub.execute_input": "2022-11-11T03:53:56.424510Z",
          "iopub.status.busy": "2022-11-11T03:53:56.423083Z",
          "iopub.status.idle": "2022-11-11T03:53:56.434008Z",
          "shell.execute_reply": "2022-11-11T03:53:56.432726Z"
        },
        "id": "3330980b",
        "outputId": "c74b9edf-99f6-4729-9818-7c2253399f3a",
        "papermill": {
          "duration": 0.058016,
          "end_time": "2022-11-11T03:53:56.436442",
          "exception": false,
          "start_time": "2022-11-11T03:53:56.378426",
          "status": "completed"
        },
        "tags": [],
        "colab": {
          "base_uri": "https://localhost:8080/"
        }
      },
      "outputs": [
        {
          "output_type": "execute_result",
          "data": {
            "text/plain": [
              "3    2212\n",
              "Name: Z_CostContact, dtype: int64"
            ]
          },
          "metadata": {},
          "execution_count": 30
        }
      ],
      "source": [
        "df.Z_CostContact.value_counts()"
      ]
    },
    {
      "cell_type": "code",
      "execution_count": 31,
      "id": "d82929ea",
      "metadata": {
        "execution": {
          "iopub.execute_input": "2022-11-11T03:53:56.622682Z",
          "iopub.status.busy": "2022-11-11T03:53:56.621420Z",
          "iopub.status.idle": "2022-11-11T03:53:56.629003Z",
          "shell.execute_reply": "2022-11-11T03:53:56.627803Z"
        },
        "id": "d82929ea",
        "papermill": {
          "duration": 0.057934,
          "end_time": "2022-11-11T03:53:56.632128",
          "exception": false,
          "start_time": "2022-11-11T03:53:56.574194",
          "status": "completed"
        },
        "tags": []
      },
      "outputs": [],
      "source": [
        "df.drop(columns=['ID', 'Z_Revenue', 'Z_CostContact'], inplace=True)"
      ]
    },
    {
      "cell_type": "markdown",
      "id": "4565546d",
      "metadata": {
        "id": "4565546d",
        "papermill": {
          "duration": 0.045776,
          "end_time": "2022-11-11T03:53:56.724456",
          "exception": false,
          "start_time": "2022-11-11T03:53:56.678680",
          "status": "completed"
        },
        "tags": []
      },
      "source": [
        "## 4.6 Rename Unmeaningful Column Names <a class=\"anchor\" id=\"cleaning_rename\"></a>\n",
        "\n"
      ]
    },
    {
      "cell_type": "code",
      "execution_count": 32,
      "id": "c3cd047e",
      "metadata": {
        "execution": {
          "iopub.execute_input": "2022-11-11T03:53:56.819115Z",
          "iopub.status.busy": "2022-11-11T03:53:56.818633Z",
          "iopub.status.idle": "2022-11-11T03:53:56.824416Z",
          "shell.execute_reply": "2022-11-11T03:53:56.823476Z"
        },
        "id": "c3cd047e",
        "papermill": {
          "duration": 0.055993,
          "end_time": "2022-11-11T03:53:56.826576",
          "exception": false,
          "start_time": "2022-11-11T03:53:56.770583",
          "status": "completed"
        },
        "tags": []
      },
      "outputs": [],
      "source": [
        "df.rename(columns={'Response': 'AcceptedCmpCurrent', 'Dt_Customer':'CustomerSince'}, inplace=True)"
      ]
    },
    {
      "cell_type": "markdown",
      "id": "63c66b5f",
      "metadata": {
        "id": "63c66b5f",
        "papermill": {
          "duration": 0.046272,
          "end_time": "2022-11-11T03:53:56.918272",
          "exception": false,
          "start_time": "2022-11-11T03:53:56.872000",
          "status": "completed"
        },
        "tags": []
      },
      "source": [
        "# 5 Feature Engineering <a class=\"anchor\" id=\"eng\"></a>\n"
      ]
    },
    {
      "cell_type": "markdown",
      "id": "5f32aa6e",
      "metadata": {
        "id": "5f32aa6e",
        "papermill": {
          "duration": 0.04444,
          "end_time": "2022-11-11T03:53:57.009006",
          "exception": false,
          "start_time": "2022-11-11T03:53:56.964566",
          "status": "completed"
        },
        "tags": []
      },
      "source": [
        "## 5.1 Total Number of Purchases <a class=\"anchor\" id=\"eng_tot_pur\"></a>\n",
        "\n"
      ]
    },
    {
      "cell_type": "code",
      "execution_count": 33,
      "id": "1be6e266",
      "metadata": {
        "execution": {
          "iopub.execute_input": "2022-11-11T03:53:57.098545Z",
          "iopub.status.busy": "2022-11-11T03:53:57.097788Z",
          "iopub.status.idle": "2022-11-11T03:53:57.108420Z",
          "shell.execute_reply": "2022-11-11T03:53:57.107114Z"
        },
        "id": "1be6e266",
        "outputId": "319c9d08-d866-41c3-9792-1b6a16802d0b",
        "papermill": {
          "duration": 0.059068,
          "end_time": "2022-11-11T03:53:57.111075",
          "exception": false,
          "start_time": "2022-11-11T03:53:57.052007",
          "status": "completed"
        },
        "tags": [],
        "colab": {
          "base_uri": "https://localhost:8080/"
        }
      },
      "outputs": [
        {
          "output_type": "execute_result",
          "data": {
            "text/plain": [
              "0       22\n",
              "1        4\n",
              "2       20\n",
              "3        6\n",
              "4       14\n",
              "        ..\n",
              "2235    16\n",
              "2236    15\n",
              "2237    18\n",
              "2238    21\n",
              "2239     8\n",
              "Name: NumPurchases, Length: 2212, dtype: int64"
            ]
          },
          "metadata": {},
          "execution_count": 33
        }
      ],
      "source": [
        "cols = ['NumWebPurchases', 'NumCatalogPurchases', 'NumStorePurchases']\n",
        "df['NumPurchases'] = df[cols].sum(axis=1)\n",
        "\n",
        "df['NumPurchases']"
      ]
    },
    {
      "cell_type": "markdown",
      "id": "dff9cf34",
      "metadata": {
        "id": "dff9cf34",
        "papermill": {
          "duration": 0.043512,
          "end_time": "2022-11-11T03:53:57.198430",
          "exception": false,
          "start_time": "2022-11-11T03:53:57.154918",
          "status": "completed"
        },
        "tags": []
      },
      "source": [
        "## 5.2 Amount Spent <a class=\"anchor\" id=\"eng_amt_spnt\"></a>\n"
      ]
    },
    {
      "cell_type": "code",
      "execution_count": 34,
      "id": "5ebced74",
      "metadata": {
        "execution": {
          "iopub.execute_input": "2022-11-11T03:53:57.287268Z",
          "iopub.status.busy": "2022-11-11T03:53:57.286491Z",
          "iopub.status.idle": "2022-11-11T03:53:57.297684Z",
          "shell.execute_reply": "2022-11-11T03:53:57.296526Z"
        },
        "id": "5ebced74",
        "outputId": "dff949e2-d393-4aec-854a-fa188b267140",
        "papermill": {
          "duration": 0.058493,
          "end_time": "2022-11-11T03:53:57.300192",
          "exception": false,
          "start_time": "2022-11-11T03:53:57.241699",
          "status": "completed"
        },
        "tags": [],
        "colab": {
          "base_uri": "https://localhost:8080/"
        }
      },
      "outputs": [
        {
          "output_type": "execute_result",
          "data": {
            "text/plain": [
              "0       1617\n",
              "1         27\n",
              "2        776\n",
              "3         53\n",
              "4        422\n",
              "        ... \n",
              "2235    1341\n",
              "2236     444\n",
              "2237    1241\n",
              "2238     843\n",
              "2239     172\n",
              "Name: AmountSpent, Length: 2212, dtype: int64"
            ]
          },
          "metadata": {},
          "execution_count": 34
        }
      ],
      "source": [
        "cols = ['MntWines', 'MntFruits', 'MntMeatProducts', 'MntFishProducts', 'MntSweetProducts', 'MntGoldProds']\n",
        "df['AmountSpent'] = df[cols].sum(axis=1)\n",
        "\n",
        "df['AmountSpent']"
      ]
    },
    {
      "cell_type": "markdown",
      "id": "feb3a2ec",
      "metadata": {
        "id": "feb3a2ec",
        "papermill": {
          "duration": 0.044458,
          "end_time": "2022-11-11T03:53:57.388146",
          "exception": false,
          "start_time": "2022-11-11T03:53:57.343688",
          "status": "completed"
        },
        "tags": []
      },
      "source": [
        "## 5.3 Amount per Purchase <a class=\"anchor\" id=\"eng_amt_pur\"></a>\n",
        "\n"
      ]
    },
    {
      "cell_type": "code",
      "execution_count": 35,
      "id": "a6806358",
      "metadata": {
        "execution": {
          "iopub.execute_input": "2022-11-11T03:53:57.480167Z",
          "iopub.status.busy": "2022-11-11T03:53:57.479389Z",
          "iopub.status.idle": "2022-11-11T03:53:57.489303Z",
          "shell.execute_reply": "2022-11-11T03:53:57.488410Z"
        },
        "id": "a6806358",
        "outputId": "e6033828-e150-4a7f-c26f-418f951de882",
        "papermill": {
          "duration": 0.060613,
          "end_time": "2022-11-11T03:53:57.492149",
          "exception": false,
          "start_time": "2022-11-11T03:53:57.431536",
          "status": "completed"
        },
        "tags": [],
        "colab": {
          "base_uri": "https://localhost:8080/"
        }
      },
      "outputs": [
        {
          "output_type": "execute_result",
          "data": {
            "text/plain": [
              "0       73.167421\n",
              "1        6.585366\n",
              "2       38.606965\n",
              "3        8.688525\n",
              "4       29.929078\n",
              "          ...    \n",
              "2235    83.291925\n",
              "2236    29.403974\n",
              "2237    68.563536\n",
              "2238    39.952607\n",
              "2239    21.234568\n",
              "Name: AmountPerPurchase, Length: 2212, dtype: float64"
            ]
          },
          "metadata": {},
          "execution_count": 35
        }
      ],
      "source": [
        "df['AmountPerPurchase'] = df['AmountSpent'] / (df['NumPurchases'] + 1e-1)\n",
        "\n",
        "df['AmountPerPurchase']"
      ]
    },
    {
      "cell_type": "markdown",
      "id": "81306805",
      "metadata": {
        "id": "81306805",
        "papermill": {
          "duration": 0.043322,
          "end_time": "2022-11-11T03:53:57.579262",
          "exception": false,
          "start_time": "2022-11-11T03:53:57.535940",
          "status": "completed"
        },
        "tags": []
      },
      "source": [
        "## 5.4 Persons in Home <a class=\"anchor\" id=\"eng_person\"></a>\n",
        "\n"
      ]
    },
    {
      "cell_type": "code",
      "execution_count": 36,
      "id": "ac1ee8fb",
      "metadata": {
        "execution": {
          "iopub.execute_input": "2022-11-11T03:53:57.671419Z",
          "iopub.status.busy": "2022-11-11T03:53:57.670618Z",
          "iopub.status.idle": "2022-11-11T03:53:57.707453Z",
          "shell.execute_reply": "2022-11-11T03:53:57.706171Z"
        },
        "id": "ac1ee8fb",
        "outputId": "7c4591d2-bfd2-4acd-cb34-06485cbb1bf9",
        "papermill": {
          "duration": 0.086237,
          "end_time": "2022-11-11T03:53:57.710916",
          "exception": false,
          "start_time": "2022-11-11T03:53:57.624679",
          "status": "completed"
        },
        "tags": [],
        "colab": {
          "base_uri": "https://localhost:8080/",
          "height": 488
        }
      },
      "outputs": [
        {
          "output_type": "execute_result",
          "data": {
            "text/plain": [
              "      Year_Birth      Education   Marital_Status   Income  Kidhome  Teenhome  \\\n",
              "0           1957  UnderGraduate           Single  58138.0        0         0   \n",
              "1           1954  UnderGraduate           Single  46344.0        1         1   \n",
              "2           1965  UnderGraduate  In Relationship  71613.0        0         0   \n",
              "3           1984  UnderGraduate  In Relationship  26646.0        1         0   \n",
              "4           1981            PhD  In Relationship  58293.0        1         0   \n",
              "...          ...            ...              ...      ...      ...       ...   \n",
              "2235        1967  UnderGraduate  In Relationship  61223.0        0         1   \n",
              "2236        1946            PhD  In Relationship  64014.0        2         1   \n",
              "2237        1981  UnderGraduate           Single  56981.0        0         0   \n",
              "2238        1956         Master  In Relationship  69245.0        0         1   \n",
              "2239        1954            PhD  In Relationship  52869.0        1         1   \n",
              "\n",
              "      CustomerSince  Recency  MntWines  MntFruits  ...  AcceptedCmp4  \\\n",
              "0              2012       58       635         88  ...             0   \n",
              "1              2014       38        11          1  ...             0   \n",
              "2              2013       26       426         49  ...             0   \n",
              "3              2014       26        11          4  ...             0   \n",
              "4              2014       94       173         43  ...             0   \n",
              "...             ...      ...       ...        ...  ...           ...   \n",
              "2235           2013       46       709         43  ...             0   \n",
              "2236           2014       56       406          0  ...             0   \n",
              "2237           2014       91       908         48  ...             1   \n",
              "2238           2014        8       428         30  ...             0   \n",
              "2239           2012       40        84          3  ...             0   \n",
              "\n",
              "      AcceptedCmp5  AcceptedCmp1  AcceptedCmp2  Complain  AcceptedCmpCurrent  \\\n",
              "0                0             0             0         0                   1   \n",
              "1                0             0             0         0                   0   \n",
              "2                0             0             0         0                   0   \n",
              "3                0             0             0         0                   0   \n",
              "4                0             0             0         0                   0   \n",
              "...            ...           ...           ...       ...                 ...   \n",
              "2235             0             0             0         0                   0   \n",
              "2236             0             1             0         0                   0   \n",
              "2237             0             0             0         0                   0   \n",
              "2238             0             0             0         0                   0   \n",
              "2239             0             0             0         0                   1   \n",
              "\n",
              "      NumPurchases  AmountSpent  AmountPerPurchase  PersonsInHome  \n",
              "0               22         1617          73.167421              2  \n",
              "1                4           27           6.585366              4  \n",
              "2               20          776          38.606965              2  \n",
              "3                6           53           8.688525              3  \n",
              "4               14          422          29.929078              3  \n",
              "...            ...          ...                ...            ...  \n",
              "2235            16         1341          83.291925              3  \n",
              "2236            15          444          29.403974              5  \n",
              "2237            18         1241          68.563536              2  \n",
              "2238            21          843          39.952607              3  \n",
              "2239             8          172          21.234568              4  \n",
              "\n",
              "[2212 rows x 30 columns]"
            ],
            "text/html": [
              "\n",
              "  <div id=\"df-62e7b9c9-dca9-447e-a2df-8985ca31e2ec\">\n",
              "    <div class=\"colab-df-container\">\n",
              "      <div>\n",
              "<style scoped>\n",
              "    .dataframe tbody tr th:only-of-type {\n",
              "        vertical-align: middle;\n",
              "    }\n",
              "\n",
              "    .dataframe tbody tr th {\n",
              "        vertical-align: top;\n",
              "    }\n",
              "\n",
              "    .dataframe thead th {\n",
              "        text-align: right;\n",
              "    }\n",
              "</style>\n",
              "<table border=\"1\" class=\"dataframe\">\n",
              "  <thead>\n",
              "    <tr style=\"text-align: right;\">\n",
              "      <th></th>\n",
              "      <th>Year_Birth</th>\n",
              "      <th>Education</th>\n",
              "      <th>Marital_Status</th>\n",
              "      <th>Income</th>\n",
              "      <th>Kidhome</th>\n",
              "      <th>Teenhome</th>\n",
              "      <th>CustomerSince</th>\n",
              "      <th>Recency</th>\n",
              "      <th>MntWines</th>\n",
              "      <th>MntFruits</th>\n",
              "      <th>...</th>\n",
              "      <th>AcceptedCmp4</th>\n",
              "      <th>AcceptedCmp5</th>\n",
              "      <th>AcceptedCmp1</th>\n",
              "      <th>AcceptedCmp2</th>\n",
              "      <th>Complain</th>\n",
              "      <th>AcceptedCmpCurrent</th>\n",
              "      <th>NumPurchases</th>\n",
              "      <th>AmountSpent</th>\n",
              "      <th>AmountPerPurchase</th>\n",
              "      <th>PersonsInHome</th>\n",
              "    </tr>\n",
              "  </thead>\n",
              "  <tbody>\n",
              "    <tr>\n",
              "      <th>0</th>\n",
              "      <td>1957</td>\n",
              "      <td>UnderGraduate</td>\n",
              "      <td>Single</td>\n",
              "      <td>58138.0</td>\n",
              "      <td>0</td>\n",
              "      <td>0</td>\n",
              "      <td>2012</td>\n",
              "      <td>58</td>\n",
              "      <td>635</td>\n",
              "      <td>88</td>\n",
              "      <td>...</td>\n",
              "      <td>0</td>\n",
              "      <td>0</td>\n",
              "      <td>0</td>\n",
              "      <td>0</td>\n",
              "      <td>0</td>\n",
              "      <td>1</td>\n",
              "      <td>22</td>\n",
              "      <td>1617</td>\n",
              "      <td>73.167421</td>\n",
              "      <td>2</td>\n",
              "    </tr>\n",
              "    <tr>\n",
              "      <th>1</th>\n",
              "      <td>1954</td>\n",
              "      <td>UnderGraduate</td>\n",
              "      <td>Single</td>\n",
              "      <td>46344.0</td>\n",
              "      <td>1</td>\n",
              "      <td>1</td>\n",
              "      <td>2014</td>\n",
              "      <td>38</td>\n",
              "      <td>11</td>\n",
              "      <td>1</td>\n",
              "      <td>...</td>\n",
              "      <td>0</td>\n",
              "      <td>0</td>\n",
              "      <td>0</td>\n",
              "      <td>0</td>\n",
              "      <td>0</td>\n",
              "      <td>0</td>\n",
              "      <td>4</td>\n",
              "      <td>27</td>\n",
              "      <td>6.585366</td>\n",
              "      <td>4</td>\n",
              "    </tr>\n",
              "    <tr>\n",
              "      <th>2</th>\n",
              "      <td>1965</td>\n",
              "      <td>UnderGraduate</td>\n",
              "      <td>In Relationship</td>\n",
              "      <td>71613.0</td>\n",
              "      <td>0</td>\n",
              "      <td>0</td>\n",
              "      <td>2013</td>\n",
              "      <td>26</td>\n",
              "      <td>426</td>\n",
              "      <td>49</td>\n",
              "      <td>...</td>\n",
              "      <td>0</td>\n",
              "      <td>0</td>\n",
              "      <td>0</td>\n",
              "      <td>0</td>\n",
              "      <td>0</td>\n",
              "      <td>0</td>\n",
              "      <td>20</td>\n",
              "      <td>776</td>\n",
              "      <td>38.606965</td>\n",
              "      <td>2</td>\n",
              "    </tr>\n",
              "    <tr>\n",
              "      <th>3</th>\n",
              "      <td>1984</td>\n",
              "      <td>UnderGraduate</td>\n",
              "      <td>In Relationship</td>\n",
              "      <td>26646.0</td>\n",
              "      <td>1</td>\n",
              "      <td>0</td>\n",
              "      <td>2014</td>\n",
              "      <td>26</td>\n",
              "      <td>11</td>\n",
              "      <td>4</td>\n",
              "      <td>...</td>\n",
              "      <td>0</td>\n",
              "      <td>0</td>\n",
              "      <td>0</td>\n",
              "      <td>0</td>\n",
              "      <td>0</td>\n",
              "      <td>0</td>\n",
              "      <td>6</td>\n",
              "      <td>53</td>\n",
              "      <td>8.688525</td>\n",
              "      <td>3</td>\n",
              "    </tr>\n",
              "    <tr>\n",
              "      <th>4</th>\n",
              "      <td>1981</td>\n",
              "      <td>PhD</td>\n",
              "      <td>In Relationship</td>\n",
              "      <td>58293.0</td>\n",
              "      <td>1</td>\n",
              "      <td>0</td>\n",
              "      <td>2014</td>\n",
              "      <td>94</td>\n",
              "      <td>173</td>\n",
              "      <td>43</td>\n",
              "      <td>...</td>\n",
              "      <td>0</td>\n",
              "      <td>0</td>\n",
              "      <td>0</td>\n",
              "      <td>0</td>\n",
              "      <td>0</td>\n",
              "      <td>0</td>\n",
              "      <td>14</td>\n",
              "      <td>422</td>\n",
              "      <td>29.929078</td>\n",
              "      <td>3</td>\n",
              "    </tr>\n",
              "    <tr>\n",
              "      <th>...</th>\n",
              "      <td>...</td>\n",
              "      <td>...</td>\n",
              "      <td>...</td>\n",
              "      <td>...</td>\n",
              "      <td>...</td>\n",
              "      <td>...</td>\n",
              "      <td>...</td>\n",
              "      <td>...</td>\n",
              "      <td>...</td>\n",
              "      <td>...</td>\n",
              "      <td>...</td>\n",
              "      <td>...</td>\n",
              "      <td>...</td>\n",
              "      <td>...</td>\n",
              "      <td>...</td>\n",
              "      <td>...</td>\n",
              "      <td>...</td>\n",
              "      <td>...</td>\n",
              "      <td>...</td>\n",
              "      <td>...</td>\n",
              "      <td>...</td>\n",
              "    </tr>\n",
              "    <tr>\n",
              "      <th>2235</th>\n",
              "      <td>1967</td>\n",
              "      <td>UnderGraduate</td>\n",
              "      <td>In Relationship</td>\n",
              "      <td>61223.0</td>\n",
              "      <td>0</td>\n",
              "      <td>1</td>\n",
              "      <td>2013</td>\n",
              "      <td>46</td>\n",
              "      <td>709</td>\n",
              "      <td>43</td>\n",
              "      <td>...</td>\n",
              "      <td>0</td>\n",
              "      <td>0</td>\n",
              "      <td>0</td>\n",
              "      <td>0</td>\n",
              "      <td>0</td>\n",
              "      <td>0</td>\n",
              "      <td>16</td>\n",
              "      <td>1341</td>\n",
              "      <td>83.291925</td>\n",
              "      <td>3</td>\n",
              "    </tr>\n",
              "    <tr>\n",
              "      <th>2236</th>\n",
              "      <td>1946</td>\n",
              "      <td>PhD</td>\n",
              "      <td>In Relationship</td>\n",
              "      <td>64014.0</td>\n",
              "      <td>2</td>\n",
              "      <td>1</td>\n",
              "      <td>2014</td>\n",
              "      <td>56</td>\n",
              "      <td>406</td>\n",
              "      <td>0</td>\n",
              "      <td>...</td>\n",
              "      <td>0</td>\n",
              "      <td>0</td>\n",
              "      <td>1</td>\n",
              "      <td>0</td>\n",
              "      <td>0</td>\n",
              "      <td>0</td>\n",
              "      <td>15</td>\n",
              "      <td>444</td>\n",
              "      <td>29.403974</td>\n",
              "      <td>5</td>\n",
              "    </tr>\n",
              "    <tr>\n",
              "      <th>2237</th>\n",
              "      <td>1981</td>\n",
              "      <td>UnderGraduate</td>\n",
              "      <td>Single</td>\n",
              "      <td>56981.0</td>\n",
              "      <td>0</td>\n",
              "      <td>0</td>\n",
              "      <td>2014</td>\n",
              "      <td>91</td>\n",
              "      <td>908</td>\n",
              "      <td>48</td>\n",
              "      <td>...</td>\n",
              "      <td>1</td>\n",
              "      <td>0</td>\n",
              "      <td>0</td>\n",
              "      <td>0</td>\n",
              "      <td>0</td>\n",
              "      <td>0</td>\n",
              "      <td>18</td>\n",
              "      <td>1241</td>\n",
              "      <td>68.563536</td>\n",
              "      <td>2</td>\n",
              "    </tr>\n",
              "    <tr>\n",
              "      <th>2238</th>\n",
              "      <td>1956</td>\n",
              "      <td>Master</td>\n",
              "      <td>In Relationship</td>\n",
              "      <td>69245.0</td>\n",
              "      <td>0</td>\n",
              "      <td>1</td>\n",
              "      <td>2014</td>\n",
              "      <td>8</td>\n",
              "      <td>428</td>\n",
              "      <td>30</td>\n",
              "      <td>...</td>\n",
              "      <td>0</td>\n",
              "      <td>0</td>\n",
              "      <td>0</td>\n",
              "      <td>0</td>\n",
              "      <td>0</td>\n",
              "      <td>0</td>\n",
              "      <td>21</td>\n",
              "      <td>843</td>\n",
              "      <td>39.952607</td>\n",
              "      <td>3</td>\n",
              "    </tr>\n",
              "    <tr>\n",
              "      <th>2239</th>\n",
              "      <td>1954</td>\n",
              "      <td>PhD</td>\n",
              "      <td>In Relationship</td>\n",
              "      <td>52869.0</td>\n",
              "      <td>1</td>\n",
              "      <td>1</td>\n",
              "      <td>2012</td>\n",
              "      <td>40</td>\n",
              "      <td>84</td>\n",
              "      <td>3</td>\n",
              "      <td>...</td>\n",
              "      <td>0</td>\n",
              "      <td>0</td>\n",
              "      <td>0</td>\n",
              "      <td>0</td>\n",
              "      <td>0</td>\n",
              "      <td>1</td>\n",
              "      <td>8</td>\n",
              "      <td>172</td>\n",
              "      <td>21.234568</td>\n",
              "      <td>4</td>\n",
              "    </tr>\n",
              "  </tbody>\n",
              "</table>\n",
              "<p>2212 rows × 30 columns</p>\n",
              "</div>\n",
              "      <button class=\"colab-df-convert\" onclick=\"convertToInteractive('df-62e7b9c9-dca9-447e-a2df-8985ca31e2ec')\"\n",
              "              title=\"Convert this dataframe to an interactive table.\"\n",
              "              style=\"display:none;\">\n",
              "        \n",
              "  <svg xmlns=\"http://www.w3.org/2000/svg\" height=\"24px\"viewBox=\"0 0 24 24\"\n",
              "       width=\"24px\">\n",
              "    <path d=\"M0 0h24v24H0V0z\" fill=\"none\"/>\n",
              "    <path d=\"M18.56 5.44l.94 2.06.94-2.06 2.06-.94-2.06-.94-.94-2.06-.94 2.06-2.06.94zm-11 1L8.5 8.5l.94-2.06 2.06-.94-2.06-.94L8.5 2.5l-.94 2.06-2.06.94zm10 10l.94 2.06.94-2.06 2.06-.94-2.06-.94-.94-2.06-.94 2.06-2.06.94z\"/><path d=\"M17.41 7.96l-1.37-1.37c-.4-.4-.92-.59-1.43-.59-.52 0-1.04.2-1.43.59L10.3 9.45l-7.72 7.72c-.78.78-.78 2.05 0 2.83L4 21.41c.39.39.9.59 1.41.59.51 0 1.02-.2 1.41-.59l7.78-7.78 2.81-2.81c.8-.78.8-2.07 0-2.86zM5.41 20L4 18.59l7.72-7.72 1.47 1.35L5.41 20z\"/>\n",
              "  </svg>\n",
              "      </button>\n",
              "      \n",
              "  <style>\n",
              "    .colab-df-container {\n",
              "      display:flex;\n",
              "      flex-wrap:wrap;\n",
              "      gap: 12px;\n",
              "    }\n",
              "\n",
              "    .colab-df-convert {\n",
              "      background-color: #E8F0FE;\n",
              "      border: none;\n",
              "      border-radius: 50%;\n",
              "      cursor: pointer;\n",
              "      display: none;\n",
              "      fill: #1967D2;\n",
              "      height: 32px;\n",
              "      padding: 0 0 0 0;\n",
              "      width: 32px;\n",
              "    }\n",
              "\n",
              "    .colab-df-convert:hover {\n",
              "      background-color: #E2EBFA;\n",
              "      box-shadow: 0px 1px 2px rgba(60, 64, 67, 0.3), 0px 1px 3px 1px rgba(60, 64, 67, 0.15);\n",
              "      fill: #174EA6;\n",
              "    }\n",
              "\n",
              "    [theme=dark] .colab-df-convert {\n",
              "      background-color: #3B4455;\n",
              "      fill: #D2E3FC;\n",
              "    }\n",
              "\n",
              "    [theme=dark] .colab-df-convert:hover {\n",
              "      background-color: #434B5C;\n",
              "      box-shadow: 0px 1px 3px 1px rgba(0, 0, 0, 0.15);\n",
              "      filter: drop-shadow(0px 1px 2px rgba(0, 0, 0, 0.3));\n",
              "      fill: #FFFFFF;\n",
              "    }\n",
              "  </style>\n",
              "\n",
              "      <script>\n",
              "        const buttonEl =\n",
              "          document.querySelector('#df-62e7b9c9-dca9-447e-a2df-8985ca31e2ec button.colab-df-convert');\n",
              "        buttonEl.style.display =\n",
              "          google.colab.kernel.accessAllowed ? 'block' : 'none';\n",
              "\n",
              "        async function convertToInteractive(key) {\n",
              "          const element = document.querySelector('#df-62e7b9c9-dca9-447e-a2df-8985ca31e2ec');\n",
              "          const dataTable =\n",
              "            await google.colab.kernel.invokeFunction('convertToInteractive',\n",
              "                                                     [key], {});\n",
              "          if (!dataTable) return;\n",
              "\n",
              "          const docLinkHtml = 'Like what you see? Visit the ' +\n",
              "            '<a target=\"_blank\" href=https://colab.research.google.com/notebooks/data_table.ipynb>data table notebook</a>'\n",
              "            + ' to learn more about interactive tables.';\n",
              "          element.innerHTML = '';\n",
              "          dataTable['output_type'] = 'display_data';\n",
              "          await google.colab.output.renderOutput(dataTable, element);\n",
              "          const docLink = document.createElement('div');\n",
              "          docLink.innerHTML = docLinkHtml;\n",
              "          element.appendChild(docLink);\n",
              "        }\n",
              "      </script>\n",
              "    </div>\n",
              "  </div>\n",
              "  "
            ]
          },
          "metadata": {},
          "execution_count": 36
        }
      ],
      "source": [
        "cols = ['Kidhome', 'Teenhome']\n",
        "df['PersonsInHome'] = df[cols].sum(axis=1) + 2\n",
        "df.loc[(df.Marital_Status == 'Single')].PersonsInHome = df.loc[(df.Marital_Status == 'Single')].PersonsInHome - 1\n",
        "\n",
        "df"
      ]
    },
    {
      "cell_type": "markdown",
      "id": "dc5ef022",
      "metadata": {
        "id": "dc5ef022",
        "papermill": {
          "duration": 0.043719,
          "end_time": "2022-11-11T03:53:57.799568",
          "exception": false,
          "start_time": "2022-11-11T03:53:57.755849",
          "status": "completed"
        },
        "tags": []
      },
      "source": [
        "# 6 Preprocessing <a class=\"anchor\" id=\"pre\"></a>\n"
      ]
    },
    {
      "cell_type": "code",
      "execution_count": 37,
      "id": "15d0cf76",
      "metadata": {
        "execution": {
          "iopub.execute_input": "2022-11-11T03:53:57.890471Z",
          "iopub.status.busy": "2022-11-11T03:53:57.889689Z",
          "iopub.status.idle": "2022-11-11T03:53:57.894543Z",
          "shell.execute_reply": "2022-11-11T03:53:57.893664Z"
        },
        "id": "15d0cf76",
        "papermill": {
          "duration": 0.052939,
          "end_time": "2022-11-11T03:53:57.896764",
          "exception": false,
          "start_time": "2022-11-11T03:53:57.843825",
          "status": "completed"
        },
        "tags": []
      },
      "outputs": [],
      "source": [
        "df2 = df.copy()"
      ]
    },
    {
      "cell_type": "markdown",
      "id": "221f2fa7",
      "metadata": {
        "id": "221f2fa7",
        "papermill": {
          "duration": 0.043635,
          "end_time": "2022-11-11T03:53:57.986542",
          "exception": false,
          "start_time": "2022-11-11T03:53:57.942907",
          "status": "completed"
        },
        "tags": []
      },
      "source": [
        "## 6.1 Categorical Encoding <a class=\"anchor\" id=\"pre_enc\"></a>"
      ]
    },
    {
      "cell_type": "code",
      "execution_count": 38,
      "id": "27505840",
      "metadata": {
        "execution": {
          "iopub.execute_input": "2022-11-11T03:53:58.077101Z",
          "iopub.status.busy": "2022-11-11T03:53:58.076284Z",
          "iopub.status.idle": "2022-11-11T03:53:58.089641Z",
          "shell.execute_reply": "2022-11-11T03:53:58.088477Z"
        },
        "id": "27505840",
        "outputId": "1072b3f8-0ef5-443c-dc37-342f37d24e94",
        "papermill": {
          "duration": 0.061783,
          "end_time": "2022-11-11T03:53:58.092393",
          "exception": false,
          "start_time": "2022-11-11T03:53:58.030610",
          "status": "completed"
        },
        "tags": [],
        "colab": {
          "base_uri": "https://localhost:8080/"
        }
      },
      "outputs": [
        {
          "output_type": "execute_result",
          "data": {
            "text/plain": [
              "Year_Birth               int64\n",
              "Education                int64\n",
              "Marital_Status           int64\n",
              "Income                 float64\n",
              "Kidhome                  int64\n",
              "Teenhome                 int64\n",
              "CustomerSince            int64\n",
              "Recency                  int64\n",
              "MntWines                 int64\n",
              "MntFruits                int64\n",
              "MntMeatProducts          int64\n",
              "MntFishProducts          int64\n",
              "MntSweetProducts         int64\n",
              "MntGoldProds             int64\n",
              "NumDealsPurchases        int64\n",
              "NumWebPurchases          int64\n",
              "NumCatalogPurchases      int64\n",
              "NumStorePurchases        int64\n",
              "NumWebVisitsMonth        int64\n",
              "AcceptedCmp3             int64\n",
              "AcceptedCmp4             int64\n",
              "AcceptedCmp5             int64\n",
              "AcceptedCmp1             int64\n",
              "AcceptedCmp2             int64\n",
              "Complain                 int64\n",
              "AcceptedCmpCurrent       int64\n",
              "NumPurchases             int64\n",
              "AmountSpent              int64\n",
              "AmountPerPurchase      float64\n",
              "PersonsInHome            int64\n",
              "dtype: object"
            ]
          },
          "metadata": {},
          "execution_count": 38
        }
      ],
      "source": [
        "categorical = df2.select_dtypes(include=[\"object\"])\n",
        "\n",
        "le = LabelEncoder()\n",
        "for col in categorical:\n",
        "  df2[col] = le.fit_transform(df2[col])\n",
        "\n",
        "df2.dtypes"
      ]
    },
    {
      "cell_type": "markdown",
      "id": "e363dd16",
      "metadata": {
        "id": "e363dd16",
        "papermill": {
          "duration": 0.044562,
          "end_time": "2022-11-11T03:53:58.182522",
          "exception": false,
          "start_time": "2022-11-11T03:53:58.137960",
          "status": "completed"
        },
        "tags": []
      },
      "source": [
        "## 6.2 Feature Scaling <a class=\"anchor\" id=\"pre_scale\"></a>"
      ]
    },
    {
      "cell_type": "code",
      "execution_count": 39,
      "id": "633ee2d0",
      "metadata": {
        "execution": {
          "iopub.execute_input": "2022-11-11T03:53:58.274176Z",
          "iopub.status.busy": "2022-11-11T03:53:58.273650Z",
          "iopub.status.idle": "2022-11-11T03:53:58.310164Z",
          "shell.execute_reply": "2022-11-11T03:53:58.309238Z"
        },
        "id": "633ee2d0",
        "outputId": "fc19702d-8065-405b-ef62-e0024f38f17a",
        "papermill": {
          "duration": 0.085037,
          "end_time": "2022-11-11T03:53:58.312517",
          "exception": false,
          "start_time": "2022-11-11T03:53:58.227480",
          "status": "completed"
        },
        "tags": [],
        "colab": {
          "base_uri": "https://localhost:8080/",
          "height": 488
        }
      },
      "outputs": [
        {
          "output_type": "execute_result",
          "data": {
            "text/plain": [
              "      Year_Birth  Education  Marital_Status    Income   Kidhome  Teenhome  \\\n",
              "0      -1.018352   0.884842        1.349603  0.287105 -0.822754 -0.929699   \n",
              "1      -1.274785   0.884842        1.349603 -0.260882  1.040021  0.908097   \n",
              "2      -0.334530   0.884842       -0.740959  0.913196 -0.822754 -0.929699   \n",
              "3       1.289547   0.884842       -0.740959 -1.176114  1.040021 -0.929699   \n",
              "4       1.033114  -0.222211       -0.740959  0.294307  1.040021 -0.929699   \n",
              "...          ...        ...             ...       ...       ...       ...   \n",
              "2207   -0.163575   0.884842       -0.740959  0.430444 -0.822754  0.908097   \n",
              "2208   -1.958607  -0.222211       -0.740959  0.560123  2.902796  0.908097   \n",
              "2209    1.033114   0.884842        1.349603  0.233347 -0.822754 -0.929699   \n",
              "2210   -1.103830  -1.329265       -0.740959  0.803172 -0.822754  0.908097   \n",
              "2211   -1.274785  -0.222211       -0.740959  0.042290  1.040021  0.908097   \n",
              "\n",
              "      CustomerSince   Recency  MntWines  MntFruits  ...  AcceptedCmp4  \\\n",
              "0         -1.499086  0.310353  0.977660   1.552041  ...     -0.282981   \n",
              "1          1.417341 -0.380813 -0.872618  -0.637461  ...     -0.282981   \n",
              "2         -0.040872 -0.795514  0.357935   0.570540  ...     -0.282981   \n",
              "3          1.417341 -0.795514 -0.872618  -0.561961  ...     -0.282981   \n",
              "4          1.417341  1.554453 -0.392257   0.419540  ...     -0.282981   \n",
              "...             ...       ...       ...        ...  ...           ...   \n",
              "2207      -0.040872 -0.104347  1.197084   0.419540  ...     -0.282981   \n",
              "2208       1.417341  0.241237  0.298631  -0.662628  ...     -0.282981   \n",
              "2209       1.417341  1.450778  1.787156   0.545373  ...      3.533809   \n",
              "2210       1.417341 -1.417564  0.363866   0.092373  ...     -0.282981   \n",
              "2211      -1.499086 -0.311697 -0.656159  -0.587128  ...     -0.282981   \n",
              "\n",
              "      AcceptedCmp5  AcceptedCmp1  AcceptedCmp2  Complain  AcceptedCmpCurrent  \\\n",
              "0        -0.280175     -0.261914     -0.117256  -0.09552            2.375425   \n",
              "1        -0.280175     -0.261914     -0.117256  -0.09552           -0.420977   \n",
              "2        -0.280175     -0.261914     -0.117256  -0.09552           -0.420977   \n",
              "3        -0.280175     -0.261914     -0.117256  -0.09552           -0.420977   \n",
              "4        -0.280175     -0.261914     -0.117256  -0.09552           -0.420977   \n",
              "...            ...           ...           ...       ...                 ...   \n",
              "2207     -0.280175     -0.261914     -0.117256  -0.09552           -0.420977   \n",
              "2208     -0.280175      3.818045     -0.117256  -0.09552           -0.420977   \n",
              "2209     -0.280175     -0.261914     -0.117256  -0.09552           -0.420977   \n",
              "2210     -0.280175     -0.261914     -0.117256  -0.09552           -0.420977   \n",
              "2211     -0.280175     -0.261914     -0.117256  -0.09552            2.375425   \n",
              "\n",
              "      NumPurchases  AmountSpent  AmountPerPurchase  PersonsInHome  \n",
              "0         1.309461     1.676245           1.199502      -1.264598  \n",
              "1        -1.189221    -0.963297          -1.029196       1.404572  \n",
              "2         1.031830     0.280110           0.042661      -1.264598  \n",
              "3        -0.911590    -0.920135          -0.958797       0.069987  \n",
              "4         0.198936    -0.307562          -0.247813       0.069987  \n",
              "...            ...          ...                ...            ...  \n",
              "2207      0.476567     1.218061           1.538399       0.069987  \n",
              "2208      0.337751    -0.271040          -0.265390       2.739158  \n",
              "2209      0.754198     1.052052           1.045396      -1.264598  \n",
              "2210      1.170645     0.391336           0.087704       0.069987  \n",
              "2211     -0.633958    -0.722584          -0.538844       1.404572  \n",
              "\n",
              "[2212 rows x 30 columns]"
            ],
            "text/html": [
              "\n",
              "  <div id=\"df-9fe30656-e003-4278-af32-9195cd887f5e\">\n",
              "    <div class=\"colab-df-container\">\n",
              "      <div>\n",
              "<style scoped>\n",
              "    .dataframe tbody tr th:only-of-type {\n",
              "        vertical-align: middle;\n",
              "    }\n",
              "\n",
              "    .dataframe tbody tr th {\n",
              "        vertical-align: top;\n",
              "    }\n",
              "\n",
              "    .dataframe thead th {\n",
              "        text-align: right;\n",
              "    }\n",
              "</style>\n",
              "<table border=\"1\" class=\"dataframe\">\n",
              "  <thead>\n",
              "    <tr style=\"text-align: right;\">\n",
              "      <th></th>\n",
              "      <th>Year_Birth</th>\n",
              "      <th>Education</th>\n",
              "      <th>Marital_Status</th>\n",
              "      <th>Income</th>\n",
              "      <th>Kidhome</th>\n",
              "      <th>Teenhome</th>\n",
              "      <th>CustomerSince</th>\n",
              "      <th>Recency</th>\n",
              "      <th>MntWines</th>\n",
              "      <th>MntFruits</th>\n",
              "      <th>...</th>\n",
              "      <th>AcceptedCmp4</th>\n",
              "      <th>AcceptedCmp5</th>\n",
              "      <th>AcceptedCmp1</th>\n",
              "      <th>AcceptedCmp2</th>\n",
              "      <th>Complain</th>\n",
              "      <th>AcceptedCmpCurrent</th>\n",
              "      <th>NumPurchases</th>\n",
              "      <th>AmountSpent</th>\n",
              "      <th>AmountPerPurchase</th>\n",
              "      <th>PersonsInHome</th>\n",
              "    </tr>\n",
              "  </thead>\n",
              "  <tbody>\n",
              "    <tr>\n",
              "      <th>0</th>\n",
              "      <td>-1.018352</td>\n",
              "      <td>0.884842</td>\n",
              "      <td>1.349603</td>\n",
              "      <td>0.287105</td>\n",
              "      <td>-0.822754</td>\n",
              "      <td>-0.929699</td>\n",
              "      <td>-1.499086</td>\n",
              "      <td>0.310353</td>\n",
              "      <td>0.977660</td>\n",
              "      <td>1.552041</td>\n",
              "      <td>...</td>\n",
              "      <td>-0.282981</td>\n",
              "      <td>-0.280175</td>\n",
              "      <td>-0.261914</td>\n",
              "      <td>-0.117256</td>\n",
              "      <td>-0.09552</td>\n",
              "      <td>2.375425</td>\n",
              "      <td>1.309461</td>\n",
              "      <td>1.676245</td>\n",
              "      <td>1.199502</td>\n",
              "      <td>-1.264598</td>\n",
              "    </tr>\n",
              "    <tr>\n",
              "      <th>1</th>\n",
              "      <td>-1.274785</td>\n",
              "      <td>0.884842</td>\n",
              "      <td>1.349603</td>\n",
              "      <td>-0.260882</td>\n",
              "      <td>1.040021</td>\n",
              "      <td>0.908097</td>\n",
              "      <td>1.417341</td>\n",
              "      <td>-0.380813</td>\n",
              "      <td>-0.872618</td>\n",
              "      <td>-0.637461</td>\n",
              "      <td>...</td>\n",
              "      <td>-0.282981</td>\n",
              "      <td>-0.280175</td>\n",
              "      <td>-0.261914</td>\n",
              "      <td>-0.117256</td>\n",
              "      <td>-0.09552</td>\n",
              "      <td>-0.420977</td>\n",
              "      <td>-1.189221</td>\n",
              "      <td>-0.963297</td>\n",
              "      <td>-1.029196</td>\n",
              "      <td>1.404572</td>\n",
              "    </tr>\n",
              "    <tr>\n",
              "      <th>2</th>\n",
              "      <td>-0.334530</td>\n",
              "      <td>0.884842</td>\n",
              "      <td>-0.740959</td>\n",
              "      <td>0.913196</td>\n",
              "      <td>-0.822754</td>\n",
              "      <td>-0.929699</td>\n",
              "      <td>-0.040872</td>\n",
              "      <td>-0.795514</td>\n",
              "      <td>0.357935</td>\n",
              "      <td>0.570540</td>\n",
              "      <td>...</td>\n",
              "      <td>-0.282981</td>\n",
              "      <td>-0.280175</td>\n",
              "      <td>-0.261914</td>\n",
              "      <td>-0.117256</td>\n",
              "      <td>-0.09552</td>\n",
              "      <td>-0.420977</td>\n",
              "      <td>1.031830</td>\n",
              "      <td>0.280110</td>\n",
              "      <td>0.042661</td>\n",
              "      <td>-1.264598</td>\n",
              "    </tr>\n",
              "    <tr>\n",
              "      <th>3</th>\n",
              "      <td>1.289547</td>\n",
              "      <td>0.884842</td>\n",
              "      <td>-0.740959</td>\n",
              "      <td>-1.176114</td>\n",
              "      <td>1.040021</td>\n",
              "      <td>-0.929699</td>\n",
              "      <td>1.417341</td>\n",
              "      <td>-0.795514</td>\n",
              "      <td>-0.872618</td>\n",
              "      <td>-0.561961</td>\n",
              "      <td>...</td>\n",
              "      <td>-0.282981</td>\n",
              "      <td>-0.280175</td>\n",
              "      <td>-0.261914</td>\n",
              "      <td>-0.117256</td>\n",
              "      <td>-0.09552</td>\n",
              "      <td>-0.420977</td>\n",
              "      <td>-0.911590</td>\n",
              "      <td>-0.920135</td>\n",
              "      <td>-0.958797</td>\n",
              "      <td>0.069987</td>\n",
              "    </tr>\n",
              "    <tr>\n",
              "      <th>4</th>\n",
              "      <td>1.033114</td>\n",
              "      <td>-0.222211</td>\n",
              "      <td>-0.740959</td>\n",
              "      <td>0.294307</td>\n",
              "      <td>1.040021</td>\n",
              "      <td>-0.929699</td>\n",
              "      <td>1.417341</td>\n",
              "      <td>1.554453</td>\n",
              "      <td>-0.392257</td>\n",
              "      <td>0.419540</td>\n",
              "      <td>...</td>\n",
              "      <td>-0.282981</td>\n",
              "      <td>-0.280175</td>\n",
              "      <td>-0.261914</td>\n",
              "      <td>-0.117256</td>\n",
              "      <td>-0.09552</td>\n",
              "      <td>-0.420977</td>\n",
              "      <td>0.198936</td>\n",
              "      <td>-0.307562</td>\n",
              "      <td>-0.247813</td>\n",
              "      <td>0.069987</td>\n",
              "    </tr>\n",
              "    <tr>\n",
              "      <th>...</th>\n",
              "      <td>...</td>\n",
              "      <td>...</td>\n",
              "      <td>...</td>\n",
              "      <td>...</td>\n",
              "      <td>...</td>\n",
              "      <td>...</td>\n",
              "      <td>...</td>\n",
              "      <td>...</td>\n",
              "      <td>...</td>\n",
              "      <td>...</td>\n",
              "      <td>...</td>\n",
              "      <td>...</td>\n",
              "      <td>...</td>\n",
              "      <td>...</td>\n",
              "      <td>...</td>\n",
              "      <td>...</td>\n",
              "      <td>...</td>\n",
              "      <td>...</td>\n",
              "      <td>...</td>\n",
              "      <td>...</td>\n",
              "      <td>...</td>\n",
              "    </tr>\n",
              "    <tr>\n",
              "      <th>2207</th>\n",
              "      <td>-0.163575</td>\n",
              "      <td>0.884842</td>\n",
              "      <td>-0.740959</td>\n",
              "      <td>0.430444</td>\n",
              "      <td>-0.822754</td>\n",
              "      <td>0.908097</td>\n",
              "      <td>-0.040872</td>\n",
              "      <td>-0.104347</td>\n",
              "      <td>1.197084</td>\n",
              "      <td>0.419540</td>\n",
              "      <td>...</td>\n",
              "      <td>-0.282981</td>\n",
              "      <td>-0.280175</td>\n",
              "      <td>-0.261914</td>\n",
              "      <td>-0.117256</td>\n",
              "      <td>-0.09552</td>\n",
              "      <td>-0.420977</td>\n",
              "      <td>0.476567</td>\n",
              "      <td>1.218061</td>\n",
              "      <td>1.538399</td>\n",
              "      <td>0.069987</td>\n",
              "    </tr>\n",
              "    <tr>\n",
              "      <th>2208</th>\n",
              "      <td>-1.958607</td>\n",
              "      <td>-0.222211</td>\n",
              "      <td>-0.740959</td>\n",
              "      <td>0.560123</td>\n",
              "      <td>2.902796</td>\n",
              "      <td>0.908097</td>\n",
              "      <td>1.417341</td>\n",
              "      <td>0.241237</td>\n",
              "      <td>0.298631</td>\n",
              "      <td>-0.662628</td>\n",
              "      <td>...</td>\n",
              "      <td>-0.282981</td>\n",
              "      <td>-0.280175</td>\n",
              "      <td>3.818045</td>\n",
              "      <td>-0.117256</td>\n",
              "      <td>-0.09552</td>\n",
              "      <td>-0.420977</td>\n",
              "      <td>0.337751</td>\n",
              "      <td>-0.271040</td>\n",
              "      <td>-0.265390</td>\n",
              "      <td>2.739158</td>\n",
              "    </tr>\n",
              "    <tr>\n",
              "      <th>2209</th>\n",
              "      <td>1.033114</td>\n",
              "      <td>0.884842</td>\n",
              "      <td>1.349603</td>\n",
              "      <td>0.233347</td>\n",
              "      <td>-0.822754</td>\n",
              "      <td>-0.929699</td>\n",
              "      <td>1.417341</td>\n",
              "      <td>1.450778</td>\n",
              "      <td>1.787156</td>\n",
              "      <td>0.545373</td>\n",
              "      <td>...</td>\n",
              "      <td>3.533809</td>\n",
              "      <td>-0.280175</td>\n",
              "      <td>-0.261914</td>\n",
              "      <td>-0.117256</td>\n",
              "      <td>-0.09552</td>\n",
              "      <td>-0.420977</td>\n",
              "      <td>0.754198</td>\n",
              "      <td>1.052052</td>\n",
              "      <td>1.045396</td>\n",
              "      <td>-1.264598</td>\n",
              "    </tr>\n",
              "    <tr>\n",
              "      <th>2210</th>\n",
              "      <td>-1.103830</td>\n",
              "      <td>-1.329265</td>\n",
              "      <td>-0.740959</td>\n",
              "      <td>0.803172</td>\n",
              "      <td>-0.822754</td>\n",
              "      <td>0.908097</td>\n",
              "      <td>1.417341</td>\n",
              "      <td>-1.417564</td>\n",
              "      <td>0.363866</td>\n",
              "      <td>0.092373</td>\n",
              "      <td>...</td>\n",
              "      <td>-0.282981</td>\n",
              "      <td>-0.280175</td>\n",
              "      <td>-0.261914</td>\n",
              "      <td>-0.117256</td>\n",
              "      <td>-0.09552</td>\n",
              "      <td>-0.420977</td>\n",
              "      <td>1.170645</td>\n",
              "      <td>0.391336</td>\n",
              "      <td>0.087704</td>\n",
              "      <td>0.069987</td>\n",
              "    </tr>\n",
              "    <tr>\n",
              "      <th>2211</th>\n",
              "      <td>-1.274785</td>\n",
              "      <td>-0.222211</td>\n",
              "      <td>-0.740959</td>\n",
              "      <td>0.042290</td>\n",
              "      <td>1.040021</td>\n",
              "      <td>0.908097</td>\n",
              "      <td>-1.499086</td>\n",
              "      <td>-0.311697</td>\n",
              "      <td>-0.656159</td>\n",
              "      <td>-0.587128</td>\n",
              "      <td>...</td>\n",
              "      <td>-0.282981</td>\n",
              "      <td>-0.280175</td>\n",
              "      <td>-0.261914</td>\n",
              "      <td>-0.117256</td>\n",
              "      <td>-0.09552</td>\n",
              "      <td>2.375425</td>\n",
              "      <td>-0.633958</td>\n",
              "      <td>-0.722584</td>\n",
              "      <td>-0.538844</td>\n",
              "      <td>1.404572</td>\n",
              "    </tr>\n",
              "  </tbody>\n",
              "</table>\n",
              "<p>2212 rows × 30 columns</p>\n",
              "</div>\n",
              "      <button class=\"colab-df-convert\" onclick=\"convertToInteractive('df-9fe30656-e003-4278-af32-9195cd887f5e')\"\n",
              "              title=\"Convert this dataframe to an interactive table.\"\n",
              "              style=\"display:none;\">\n",
              "        \n",
              "  <svg xmlns=\"http://www.w3.org/2000/svg\" height=\"24px\"viewBox=\"0 0 24 24\"\n",
              "       width=\"24px\">\n",
              "    <path d=\"M0 0h24v24H0V0z\" fill=\"none\"/>\n",
              "    <path d=\"M18.56 5.44l.94 2.06.94-2.06 2.06-.94-2.06-.94-.94-2.06-.94 2.06-2.06.94zm-11 1L8.5 8.5l.94-2.06 2.06-.94-2.06-.94L8.5 2.5l-.94 2.06-2.06.94zm10 10l.94 2.06.94-2.06 2.06-.94-2.06-.94-.94-2.06-.94 2.06-2.06.94z\"/><path d=\"M17.41 7.96l-1.37-1.37c-.4-.4-.92-.59-1.43-.59-.52 0-1.04.2-1.43.59L10.3 9.45l-7.72 7.72c-.78.78-.78 2.05 0 2.83L4 21.41c.39.39.9.59 1.41.59.51 0 1.02-.2 1.41-.59l7.78-7.78 2.81-2.81c.8-.78.8-2.07 0-2.86zM5.41 20L4 18.59l7.72-7.72 1.47 1.35L5.41 20z\"/>\n",
              "  </svg>\n",
              "      </button>\n",
              "      \n",
              "  <style>\n",
              "    .colab-df-container {\n",
              "      display:flex;\n",
              "      flex-wrap:wrap;\n",
              "      gap: 12px;\n",
              "    }\n",
              "\n",
              "    .colab-df-convert {\n",
              "      background-color: #E8F0FE;\n",
              "      border: none;\n",
              "      border-radius: 50%;\n",
              "      cursor: pointer;\n",
              "      display: none;\n",
              "      fill: #1967D2;\n",
              "      height: 32px;\n",
              "      padding: 0 0 0 0;\n",
              "      width: 32px;\n",
              "    }\n",
              "\n",
              "    .colab-df-convert:hover {\n",
              "      background-color: #E2EBFA;\n",
              "      box-shadow: 0px 1px 2px rgba(60, 64, 67, 0.3), 0px 1px 3px 1px rgba(60, 64, 67, 0.15);\n",
              "      fill: #174EA6;\n",
              "    }\n",
              "\n",
              "    [theme=dark] .colab-df-convert {\n",
              "      background-color: #3B4455;\n",
              "      fill: #D2E3FC;\n",
              "    }\n",
              "\n",
              "    [theme=dark] .colab-df-convert:hover {\n",
              "      background-color: #434B5C;\n",
              "      box-shadow: 0px 1px 3px 1px rgba(0, 0, 0, 0.15);\n",
              "      filter: drop-shadow(0px 1px 2px rgba(0, 0, 0, 0.3));\n",
              "      fill: #FFFFFF;\n",
              "    }\n",
              "  </style>\n",
              "\n",
              "      <script>\n",
              "        const buttonEl =\n",
              "          document.querySelector('#df-9fe30656-e003-4278-af32-9195cd887f5e button.colab-df-convert');\n",
              "        buttonEl.style.display =\n",
              "          google.colab.kernel.accessAllowed ? 'block' : 'none';\n",
              "\n",
              "        async function convertToInteractive(key) {\n",
              "          const element = document.querySelector('#df-9fe30656-e003-4278-af32-9195cd887f5e');\n",
              "          const dataTable =\n",
              "            await google.colab.kernel.invokeFunction('convertToInteractive',\n",
              "                                                     [key], {});\n",
              "          if (!dataTable) return;\n",
              "\n",
              "          const docLinkHtml = 'Like what you see? Visit the ' +\n",
              "            '<a target=\"_blank\" href=https://colab.research.google.com/notebooks/data_table.ipynb>data table notebook</a>'\n",
              "            + ' to learn more about interactive tables.';\n",
              "          element.innerHTML = '';\n",
              "          dataTable['output_type'] = 'display_data';\n",
              "          await google.colab.output.renderOutput(dataTable, element);\n",
              "          const docLink = document.createElement('div');\n",
              "          docLink.innerHTML = docLinkHtml;\n",
              "          element.appendChild(docLink);\n",
              "        }\n",
              "      </script>\n",
              "    </div>\n",
              "  </div>\n",
              "  "
            ]
          },
          "metadata": {},
          "execution_count": 39
        }
      ],
      "source": [
        "sc = StandardScaler()\n",
        "\n",
        "df2 = pd.DataFrame(sc.fit_transform(df2), columns=df2.columns)\n",
        "df2"
      ]
    },
    {
      "cell_type": "markdown",
      "id": "ceba6b2f",
      "metadata": {
        "id": "ceba6b2f",
        "papermill": {
          "duration": 0.045292,
          "end_time": "2022-11-11T03:53:58.402863",
          "exception": false,
          "start_time": "2022-11-11T03:53:58.357571",
          "status": "completed"
        },
        "tags": []
      },
      "source": [
        "## 6.3 Dimensionality reduction <a class=\"anchor\" id=\"pre_dim\"></a>\n",
        "\n"
      ]
    },
    {
      "cell_type": "code",
      "execution_count": 40,
      "id": "9ce384af",
      "metadata": {
        "execution": {
          "iopub.execute_input": "2022-11-11T03:53:58.495604Z",
          "iopub.status.busy": "2022-11-11T03:53:58.494913Z",
          "iopub.status.idle": "2022-11-11T03:53:58.577340Z",
          "shell.execute_reply": "2022-11-11T03:53:58.575759Z"
        },
        "id": "9ce384af",
        "outputId": "479869b5-b08e-40fb-8e43-c1a3c16f0bc6",
        "papermill": {
          "duration": 0.133713,
          "end_time": "2022-11-11T03:53:58.582040",
          "exception": false,
          "start_time": "2022-11-11T03:53:58.448327",
          "status": "completed"
        },
        "tags": [],
        "colab": {
          "base_uri": "https://localhost:8080/",
          "height": 424
        }
      },
      "outputs": [
        {
          "output_type": "execute_result",
          "data": {
            "text/plain": [
              "           PC1       PC2       PC3\n",
              "0     4.737742  0.125955  0.089153\n",
              "1    -3.221760  0.190422 -0.368545\n",
              "2     2.072877 -0.262418 -1.292360\n",
              "3    -3.023832 -1.551905 -0.114930\n",
              "4    -0.534754 -0.142244 -0.811456\n",
              "...        ...       ...       ...\n",
              "2207  2.963770  1.518773 -1.018647\n",
              "2208 -1.428546  3.402517  1.379765\n",
              "2209  2.346184 -0.704668  0.753231\n",
              "2210  1.872424  1.061460 -1.422443\n",
              "2211 -2.192480  1.423112  1.259195\n",
              "\n",
              "[2212 rows x 3 columns]"
            ],
            "text/html": [
              "\n",
              "  <div id=\"df-d3358117-3d52-45a3-a196-f963fcb8d5f9\">\n",
              "    <div class=\"colab-df-container\">\n",
              "      <div>\n",
              "<style scoped>\n",
              "    .dataframe tbody tr th:only-of-type {\n",
              "        vertical-align: middle;\n",
              "    }\n",
              "\n",
              "    .dataframe tbody tr th {\n",
              "        vertical-align: top;\n",
              "    }\n",
              "\n",
              "    .dataframe thead th {\n",
              "        text-align: right;\n",
              "    }\n",
              "</style>\n",
              "<table border=\"1\" class=\"dataframe\">\n",
              "  <thead>\n",
              "    <tr style=\"text-align: right;\">\n",
              "      <th></th>\n",
              "      <th>PC1</th>\n",
              "      <th>PC2</th>\n",
              "      <th>PC3</th>\n",
              "    </tr>\n",
              "  </thead>\n",
              "  <tbody>\n",
              "    <tr>\n",
              "      <th>0</th>\n",
              "      <td>4.737742</td>\n",
              "      <td>0.125955</td>\n",
              "      <td>0.089153</td>\n",
              "    </tr>\n",
              "    <tr>\n",
              "      <th>1</th>\n",
              "      <td>-3.221760</td>\n",
              "      <td>0.190422</td>\n",
              "      <td>-0.368545</td>\n",
              "    </tr>\n",
              "    <tr>\n",
              "      <th>2</th>\n",
              "      <td>2.072877</td>\n",
              "      <td>-0.262418</td>\n",
              "      <td>-1.292360</td>\n",
              "    </tr>\n",
              "    <tr>\n",
              "      <th>3</th>\n",
              "      <td>-3.023832</td>\n",
              "      <td>-1.551905</td>\n",
              "      <td>-0.114930</td>\n",
              "    </tr>\n",
              "    <tr>\n",
              "      <th>4</th>\n",
              "      <td>-0.534754</td>\n",
              "      <td>-0.142244</td>\n",
              "      <td>-0.811456</td>\n",
              "    </tr>\n",
              "    <tr>\n",
              "      <th>...</th>\n",
              "      <td>...</td>\n",
              "      <td>...</td>\n",
              "      <td>...</td>\n",
              "    </tr>\n",
              "    <tr>\n",
              "      <th>2207</th>\n",
              "      <td>2.963770</td>\n",
              "      <td>1.518773</td>\n",
              "      <td>-1.018647</td>\n",
              "    </tr>\n",
              "    <tr>\n",
              "      <th>2208</th>\n",
              "      <td>-1.428546</td>\n",
              "      <td>3.402517</td>\n",
              "      <td>1.379765</td>\n",
              "    </tr>\n",
              "    <tr>\n",
              "      <th>2209</th>\n",
              "      <td>2.346184</td>\n",
              "      <td>-0.704668</td>\n",
              "      <td>0.753231</td>\n",
              "    </tr>\n",
              "    <tr>\n",
              "      <th>2210</th>\n",
              "      <td>1.872424</td>\n",
              "      <td>1.061460</td>\n",
              "      <td>-1.422443</td>\n",
              "    </tr>\n",
              "    <tr>\n",
              "      <th>2211</th>\n",
              "      <td>-2.192480</td>\n",
              "      <td>1.423112</td>\n",
              "      <td>1.259195</td>\n",
              "    </tr>\n",
              "  </tbody>\n",
              "</table>\n",
              "<p>2212 rows × 3 columns</p>\n",
              "</div>\n",
              "      <button class=\"colab-df-convert\" onclick=\"convertToInteractive('df-d3358117-3d52-45a3-a196-f963fcb8d5f9')\"\n",
              "              title=\"Convert this dataframe to an interactive table.\"\n",
              "              style=\"display:none;\">\n",
              "        \n",
              "  <svg xmlns=\"http://www.w3.org/2000/svg\" height=\"24px\"viewBox=\"0 0 24 24\"\n",
              "       width=\"24px\">\n",
              "    <path d=\"M0 0h24v24H0V0z\" fill=\"none\"/>\n",
              "    <path d=\"M18.56 5.44l.94 2.06.94-2.06 2.06-.94-2.06-.94-.94-2.06-.94 2.06-2.06.94zm-11 1L8.5 8.5l.94-2.06 2.06-.94-2.06-.94L8.5 2.5l-.94 2.06-2.06.94zm10 10l.94 2.06.94-2.06 2.06-.94-2.06-.94-.94-2.06-.94 2.06-2.06.94z\"/><path d=\"M17.41 7.96l-1.37-1.37c-.4-.4-.92-.59-1.43-.59-.52 0-1.04.2-1.43.59L10.3 9.45l-7.72 7.72c-.78.78-.78 2.05 0 2.83L4 21.41c.39.39.9.59 1.41.59.51 0 1.02-.2 1.41-.59l7.78-7.78 2.81-2.81c.8-.78.8-2.07 0-2.86zM5.41 20L4 18.59l7.72-7.72 1.47 1.35L5.41 20z\"/>\n",
              "  </svg>\n",
              "      </button>\n",
              "      \n",
              "  <style>\n",
              "    .colab-df-container {\n",
              "      display:flex;\n",
              "      flex-wrap:wrap;\n",
              "      gap: 12px;\n",
              "    }\n",
              "\n",
              "    .colab-df-convert {\n",
              "      background-color: #E8F0FE;\n",
              "      border: none;\n",
              "      border-radius: 50%;\n",
              "      cursor: pointer;\n",
              "      display: none;\n",
              "      fill: #1967D2;\n",
              "      height: 32px;\n",
              "      padding: 0 0 0 0;\n",
              "      width: 32px;\n",
              "    }\n",
              "\n",
              "    .colab-df-convert:hover {\n",
              "      background-color: #E2EBFA;\n",
              "      box-shadow: 0px 1px 2px rgba(60, 64, 67, 0.3), 0px 1px 3px 1px rgba(60, 64, 67, 0.15);\n",
              "      fill: #174EA6;\n",
              "    }\n",
              "\n",
              "    [theme=dark] .colab-df-convert {\n",
              "      background-color: #3B4455;\n",
              "      fill: #D2E3FC;\n",
              "    }\n",
              "\n",
              "    [theme=dark] .colab-df-convert:hover {\n",
              "      background-color: #434B5C;\n",
              "      box-shadow: 0px 1px 3px 1px rgba(0, 0, 0, 0.15);\n",
              "      filter: drop-shadow(0px 1px 2px rgba(0, 0, 0, 0.3));\n",
              "      fill: #FFFFFF;\n",
              "    }\n",
              "  </style>\n",
              "\n",
              "      <script>\n",
              "        const buttonEl =\n",
              "          document.querySelector('#df-d3358117-3d52-45a3-a196-f963fcb8d5f9 button.colab-df-convert');\n",
              "        buttonEl.style.display =\n",
              "          google.colab.kernel.accessAllowed ? 'block' : 'none';\n",
              "\n",
              "        async function convertToInteractive(key) {\n",
              "          const element = document.querySelector('#df-d3358117-3d52-45a3-a196-f963fcb8d5f9');\n",
              "          const dataTable =\n",
              "            await google.colab.kernel.invokeFunction('convertToInteractive',\n",
              "                                                     [key], {});\n",
              "          if (!dataTable) return;\n",
              "\n",
              "          const docLinkHtml = 'Like what you see? Visit the ' +\n",
              "            '<a target=\"_blank\" href=https://colab.research.google.com/notebooks/data_table.ipynb>data table notebook</a>'\n",
              "            + ' to learn more about interactive tables.';\n",
              "          element.innerHTML = '';\n",
              "          dataTable['output_type'] = 'display_data';\n",
              "          await google.colab.output.renderOutput(dataTable, element);\n",
              "          const docLink = document.createElement('div');\n",
              "          docLink.innerHTML = docLinkHtml;\n",
              "          element.appendChild(docLink);\n",
              "        }\n",
              "      </script>\n",
              "    </div>\n",
              "  </div>\n",
              "  "
            ]
          },
          "metadata": {},
          "execution_count": 40
        }
      ],
      "source": [
        "pca = PCA(n_components=3)\n",
        "principalComponents = pca.fit_transform(df2)\n",
        "principalDf = pd.DataFrame(data = principalComponents, columns=['PC1', 'PC2', 'PC3'])\n",
        "\n",
        "principalDf"
      ]
    },
    {
      "cell_type": "markdown",
      "id": "4a53402f",
      "metadata": {
        "id": "4a53402f",
        "papermill": {
          "duration": 0.047221,
          "end_time": "2022-11-11T03:53:58.736387",
          "exception": false,
          "start_time": "2022-11-11T03:53:58.689166",
          "status": "completed"
        },
        "tags": []
      },
      "source": []
    },
    {
      "cell_type": "code",
      "execution_count": 41,
      "id": "9dec8ffb",
      "metadata": {
        "execution": {
          "iopub.execute_input": "2022-11-11T03:53:58.828853Z",
          "iopub.status.busy": "2022-11-11T03:53:58.828369Z",
          "iopub.status.idle": "2022-11-11T03:53:58.836831Z",
          "shell.execute_reply": "2022-11-11T03:53:58.835531Z"
        },
        "id": "9dec8ffb",
        "papermill": {
          "duration": 0.057694,
          "end_time": "2022-11-11T03:53:58.839329",
          "exception": false,
          "start_time": "2022-11-11T03:53:58.781635",
          "status": "completed"
        },
        "tags": []
      },
      "outputs": [],
      "source": [
        "def visualize_clustering(data, predictions=None, marker_size=3, title=\"Principal Components in 3-Dimensions\"):\n",
        "  if predictions is not None:\n",
        "    data['preds'] = predictions\n",
        "    fig = px.scatter_3d(data, x='PC1', y='PC2', z='PC3', color='preds',\n",
        "                      color_discrete_sequence=px.colors.qualitative.Pastel, opacity=0.5)\n",
        "  else:\n",
        "    fig = px.scatter_3d(data, x='PC1', y='PC2', z='PC3',\n",
        "                        color_discrete_sequence=px.colors.qualitative.Pastel, opacity=0.5)\n",
        "\n",
        "  fig.update_traces(marker_size = marker_size)\n",
        "  fig.update_layout(title_text=title, title_x=0.5)\n",
        "  fig.show()"
      ]
    },
    {
      "cell_type": "code",
      "execution_count": 42,
      "id": "bb1b93b4",
      "metadata": {
        "execution": {
          "iopub.execute_input": "2022-11-11T03:53:59.032833Z",
          "iopub.status.busy": "2022-11-11T03:53:59.031979Z",
          "iopub.status.idle": "2022-11-11T03:53:59.158886Z",
          "shell.execute_reply": "2022-11-11T03:53:59.157771Z"
        },
        "id": "bb1b93b4",
        "outputId": "886ca488-2468-4ebe-d61a-339a177e844a",
        "papermill": {
          "duration": 0.177093,
          "end_time": "2022-11-11T03:53:59.162139",
          "exception": false,
          "start_time": "2022-11-11T03:53:58.985046",
          "status": "completed"
        },
        "tags": [],
        "colab": {
          "base_uri": "https://localhost:8080/",
          "height": 542
        }
      },
      "outputs": [
        {
          "output_type": "display_data",
          "data": {
            "text/html": [
              "<html>\n",
              "<head><meta charset=\"utf-8\" /></head>\n",
              "<body>\n",
              "    <div>            <script src=\"https://cdnjs.cloudflare.com/ajax/libs/mathjax/2.7.5/MathJax.js?config=TeX-AMS-MML_SVG\"></script><script type=\"text/javascript\">if (window.MathJax) {MathJax.Hub.Config({SVG: {font: \"STIX-Web\"}});}</script>                <script type=\"text/javascript\">window.PlotlyConfig = {MathJaxConfig: 'local'};</script>\n",
              "        <script src=\"https://cdn.plot.ly/plotly-2.8.3.min.js\"></script>                <div id=\"f92f8998-053b-4573-a9f4-aa1cd33e5029\" class=\"plotly-graph-div\" style=\"height:525px; width:100%;\"></div>            <script type=\"text/javascript\">                                    window.PLOTLYENV=window.PLOTLYENV || {};                                    if (document.getElementById(\"f92f8998-053b-4573-a9f4-aa1cd33e5029\")) {                    Plotly.newPlot(                        \"f92f8998-053b-4573-a9f4-aa1cd33e5029\",                        [{\"hovertemplate\":\"PC1=%{x}<br>PC2=%{y}<br>PC3=%{z}<extra></extra>\",\"legendgroup\":\"\",\"marker\":{\"color\":\"rgb(102, 197, 204)\",\"opacity\":0.5,\"symbol\":\"circle\",\"size\":3},\"mode\":\"markers\",\"name\":\"\",\"scene\":\"scene\",\"showlegend\":false,\"x\":[4.737742137654944,-3.221759616173463,2.0728771425582817,-3.0238324756341783,-0.5347536400989716,0.8860199899021559,0.713531444936315,-2.550734980110283,-3.0702113510056925,-4.856320493484434,-2.7153184922028992,3.380241963715649,-1.6912185032476676,-2.7136379019638923,5.187457762944867,-3.1171734039316994,-0.3808460095101295,4.609939754285811,-2.32449994936816,-0.6669323472740167,3.1468168885007577,0.7263623054380188,0.26961891458073844,-0.744251780328633,-2.2542095755920535,-2.1214846854148544,-2.152716547890538,5.390863871529367,-2.6637175498395296,-0.32410701213743304,-1.780165319996324,-1.0578948114207212,2.63821145539448,-3.1438581241476413,1.7129514006066429,-2.9452290394708913,-2.4685927384929225,2.6686476740600193,3.8988450415760183,-3.4200568046965594,-2.919082947575542,-3.3872503664931832,3.767026645608885,-2.05669409307455,-3.178318972444014,1.4826951326878524,0.7025992111365476,5.2208726980904565,-2.8655882209891796,6.16346575850148,-0.07435316507233852,7.26161584409616,3.5857474659229687,-2.9660606615084775,-0.4340551918655081,4.663618226411483,-0.018771430380159264,1.4278642159695527,0.355329914012004,2.8091294588548696,-2.9645708017517767,-3.8229878065065055,4.789300315497054,1.3551636656669919,1.72705550270554,3.3150431928023307,2.530080252277639,-0.20183698292780577,-1.6551776708698536,-3.172636093914957,4.644610732543509,6.289903164945487,-2.6654205078352566,0.871752035961533,-2.5250686834186395,-3.4562530883899183,-3.041081186038359,-0.32410701213743304,3.1007590711310375,-3.3437112747959317,-2.6727988269527754,0.12727435281433747,4.851878262236482,-1.2827150200601973,-3.1975876396607257,-2.967012923402891,-3.057841974076726,0.3811917241676128,-3.156007158136824,4.002605269300495,0.28909123660750313,-2.6034435370376903,-2.6898746893149523,4.469984692891356,2.595940582045646,3.5693242613987692,-3.2583315679653397,-2.5044800536506195,1.96463816086604,-2.413974481632813,2.4738849369181377,2.765789059712605,3.6599476964511264,0.2385835352730781,3.4695190257701887,-0.6607313969461575,-2.725371972861207,6.03255399228807,0.3200716942712789,-3.114597468074988,-3.1241699175034743,1.0569464038200327,-2.550830628458788,-4.174689757562758,-3.177568247609482,5.945353249395177,1.4257948223838313,5.794609063640297,-2.943714602437431,0.16507314101976053,0.62954904675769,-0.6689855232359113,2.090149968117062,-2.3147189220772995,3.566295760749447,-3.619599365590144,-3.8511239725112243,-3.031088175844038,-3.416940708502551,5.1219959861658495,1.189382097850904,4.007682736985418,1.4830307997895864,-1.238572789076523,0.15636709345272518,-2.6179598238678015,-3.5217843278550656,-3.336728931013774,-1.3455376313728975,-0.28408604677635607,0.008779292196595088,-0.6359282966952561,-2.642330807306772,1.7767108786711563,4.008437801936627,-1.165456908875739,-3.5065273311652008,-1.2574323371376739,3.53451855564167,-4.452526102870816,3.6949031455453856,-2.990251811612192,2.5340421491785996,4.558115260303507,-3.584274009282441,1.2030552492700497,-0.408099391677614,3.686587896299851,-2.9750933753146263,-3.557235395935033,-3.1296256285108277,-2.897174964163566,-2.8361346072213665,-1.7961532401262048,4.524798994423874,5.35170243557032,-3.4804873469694604,-3.956293647894289,4.002605269300495,-1.6823296765405344,-3.1731666834366012,2.871225979983159,-3.1039618773122832,-2.4095897736651875,-3.3323999146401784,-2.743745616075734,0.40385093791019827,4.402413112656961,-3.232039964883266,-2.8803686848446284,4.284547866710433,-2.796434859093919,-1.784190625925995,-3.694194404551516,1.729630390605948,4.836360400024493,4.135667210947691,-2.03826341420567,0.37795527490439296,4.236751273140142,2.805234586635308,6.1893276633248755,-3.4797882644181013,-2.3881609746962416,-3.250595446914603,-1.7272320324449537,-2.5268185664866083,4.090085305210084,-1.064966327927378,2.949391468489304,-2.385074946780354,-1.227321007757532,3.5339178140649636,-0.9463448108583252,-4.376657939237515,4.945503014873426,-1.3957950959056127,2.1592012658536013,-2.285009236697752,2.3117383224669172,0.6464861668866124,-2.5806101873397793,2.6689319309398956,-2.3682215864002956,-0.02727129423886622,1.0151883024447919,4.239498578238932,-3.581874043245652,-1.3028114159559774,4.107789895322918,-3.338660371467263,-2.4395472100047413,2.371484873136226,-2.943184547839638,-3.5020217333664037,0.8863913528413266,-3.0967546977437697,6.090705031579964,2.458134969237877,-3.517919490121366,6.042170741110298,2.00725183886995,-3.665268086437,4.230919218524492,2.9658920955592647,5.749301982436721,3.442056724900183,-3.1570081484839294,-3.2214833618070675,7.505861478606134,-1.164009496995228,1.427442047823927,-3.179417037084397,1.451554123466455,-0.51944449178521,-3.2986672099162857,-4.352224234508389,-3.0526180178598725,1.0033680898117971,-1.6647736918651876,-3.4414519778523047,-2.017725509485926,-3.082005525917259,5.107015732429869,-2.324850139692475,3.266807896524996,-2.858090952038204,3.9369079108339426,-2.9529204842719445,-1.364669869731607,-3.3119154881647974,-3.0900934678026215,1.0852115623777037,3.7740800138402375,2.3033264094175605,3.196057548717036,1.4432606238383794,-2.7159208015840677,-0.02727129423886622,-0.3808460095101295,0.09680087753203939,-3.335687688814708,-2.841642487202722,3.46440834660369,1.028964825780089,5.211771004329899,-0.7655502072358298,-2.4783497253683002,-2.456341983764635,6.173718288682825,-3.937052395934114,-3.607736503610758,2.406469786947336,-3.26083613830198,-2.8779623398707344,1.5428321679767345,1.4356487790583712,-3.016440486775268,0.674128028856107,-2.5183062838441073,-1.8396610072055557,-2.945172640015901,5.336377137416789,-1.7484177712479159,3.19073254670274,0.12249093146285446,-1.1072456342754418,-3.0291530413909373,-4.276415853530264,3.656127006949816,-2.0123213423646376,-3.475920170451509,-3.022460216689633,-0.04766301615504199,-3.3921724470297985,1.0981209943914296,-3.2594007281728574,-3.6040194370085,2.1634969471248677,0.020661810108938305,2.817611953891146,-3.279328295945516,-3.331230709392563,-3.678173921199966,-2.6244930870860674,-3.559896621565661,-2.1179337812684054,1.5937298733973422,-2.790826894907578,-3.3892760442502397,2.427145828928128,5.892194311455616,-3.0815047073483828,5.1219639316773815,3.9799979367736937,-1.5747933114112571,1.6209329826369039,0.2627549084256265,-3.3112933462720493,3.6853891712421425,-3.324049673759405,4.638039981146671,-3.417391892344081,-3.382155440503091,1.6827885966442737,3.803482097202007,2.078826766768991,3.0789517267447075,1.382645078844937,-3.489197605427043,-1.8482211183493833,4.307337000620701,1.2821354612369644,-0.6615298166742226,7.169984353920299,0.3348324201450646,-3.3471627253887832,-3.4414519778523047,-0.9961791310879176,0.9085675875181034,4.138728363822109,-3.0107750188684594,5.310063863686757,0.491775201388459,-3.2469936489677846,-2.2679919525012977,-2.9749858136687353,2.310173446073289,-3.0636117614429352,-2.921643197047779,-2.1451313887017784,-3.2838333555142736,2.385405943449583,-3.030283038958911,-4.151993778026581,-3.5286756379381035,-0.5131252480720642,-3.336728931013774,-3.1258447711589206,-3.123988610797904,0.03248859471925163,2.65418554903488,-2.0953213992342583,1.2169426067702387,5.7417196200512395,-1.5813637866694392,3.3498655888877034,-1.097042501424079,1.2691384548008018,3.841775251262686,-2.597703631115803,-3.160720885354013,-3.3027400462923304,-2.5418864421430336,-3.221717890948761,3.1471114793922563,-2.5004962709029988,-0.5401859367042678,-1.2210818042975056,-3.292914588915552,-2.754455599938441,-1.800369466065116,-3.3182079558476,-0.7539688805774557,-2.6996489553030405,1.588909475819102,3.967541070582459,-0.5304634415096114,2.035310085329525,3.0516839739125317,-2.7534611310767936,4.7369331395753465,6.791680892187713,-0.5448556866586066,-3.1164064926090935,-3.057841974076726,-3.8270785442634474,4.591834997872892,5.7107963061001685,-3.8997843048083842,7.54701232340907,2.153587489977231,-3.339265368339171,3.0872907977911135,5.357913068228911,-0.11084341423472147,1.9835403505208327,2.8008512948393665,-2.9494269724475153,-2.4879590012315136,1.1601526790932146,-0.6792017470356478,-2.7444505592011446,-3.5698325856114956,-3.376682782860193,-1.4336689517995231,-2.642596081078424,-3.2838333555142736,-2.8341967614585615,-2.7844678501166333,-2.21746458465661,5.185203874234866,-3.2506037241033217,0.11825832632550323,1.7522944770751727,2.0263055662883294,-2.7593988838463854,-0.29236631432082744,1.8293602588071112,-2.2171576397257833,7.333330716180189,-1.4774781516979127,-0.7622574453899117,3.887449497204762,1.2562381070157482,3.9607178891641612,-2.0426826565238603,5.107015732429869,-2.543508559367342,2.7958021043376897,4.654679249124011,-3.4075767455894703,-0.244555409517383,0.7335234869968672,4.576203711296712,-3.1814016321417786,1.3587750494413544,-3.4974206631257627,-3.2929822813611156,2.288194652105054,-3.233757709525084,-0.3477703014260454,0.07480500946801448,-0.8567146752007552,-2.9045679302273064,-2.9254486980640375,-1.4336511866152717,-1.42296326920811,2.304207529960789,3.9914180767910517,0.9413854930089955,0.7676625549258937,-3.553780668822051,-1.4097665300389788,4.540370116812754,-1.5554292352570125,4.923811264869144,0.34170916099421655,1.123442310047889,0.710049337369723,-2.2451316813201347,3.024331058228229,2.135010327195813,1.940622738600487,-3.410456244421944,-2.618766055066027,-1.106379230735339,2.086330557117328,-2.4879590012315136,2.831616026243815,3.0676490934240817,3.7445332078192783,-1.888423300151754,1.6262284327593366,-2.1265100880252534,2.589379270368645,-1.0060743572282171,5.746590106020546,-0.9875797122458371,4.862083042429967,-2.974084058460574,-3.264485925833572,1.8213680855331065,5.619864678428673,-3.4586644768904873,3.487182864600137,-0.45877367816851927,4.081493760389502,-1.8888232072386693,-3.213028868730398,2.8604053045697215,0.3366778000119673,4.753718063733038,-1.1956272707963844,0.5012907593017739,2.7849498147523493,-1.0399613359563835,-1.5514930086469558,-3.071417040057275,-1.213102147514888,-2.2480363426451837,3.6065171597868426,-0.7465314262551936,-3.0592908678715767,-3.1503256246732656,-1.5954454440444723,-1.0420172054189638,4.877248458639978,1.2863256557044076,-3.087626165182202,4.4290778753860325,-2.247291622224135,-3.2234825464415144,-3.7791158920435968,-2.998882481202293,-2.6184085162808803,-0.22695827302036406,-1.7881681980451136,4.133235117841016,-2.1999842458782224,1.4491806610204594,5.878150219300862,-2.294759318414801,6.037522943992592,-2.6488459758231504,4.900669425774228,1.9012746820251547,2.87824134228599,-0.6526005817018791,-1.1579398852341427,1.2595946224044483,-3.648587578455599,-2.8086902935754385,-3.6312314563142847,-0.7562447619871236,-3.5973154874924607,-2.2982128306229583,-1.0104487075837219,-3.1580742411356217,2.919195258897549,-2.5348119420254505,-3.6668191053607493,-2.9502891000699734,-2.203376679005252,-2.084303891928572,-0.744251780328633,-3.411317576541833,-1.8342864439179867,-3.0230131519414725,-3.1577867507069417,6.183301977585571,1.1128201359870296,-0.24131277971171036,-2.0800319816151447,-2.709677738785034,7.875809198645555,4.9882904336211356,-2.8949046561008758,0.44667017318176583,-2.8495238344582337,-2.9509614686060317,-3.647405613101159,-2.9247558855118303,-2.8804424274551197,-2.873150193762678,1.395683122708806,3.0308266603361442,0.018787117353394472,-2.850062734713869,-2.389975684592021,-2.4685927384929225,-4.237943746996861,-2.9059487724122457,3.3577602503136386,-1.1327569673385784,-0.5888579930205164,-3.423701550639653,-4.276415853530264,2.5401866318390782,-1.5824163993390805,-4.329212717836838,-0.8717237507327629,-2.9608971108338498,-0.8846046732987021,-0.754551359120599,-2.0354641116288077,2.7799272342066432,-3.210797098800846,3.343202739768198,-3.2977878810155086,3.7780990516381046,4.590943858746923,-3.176829068722482,-2.4306557849400092,2.752705672803699,1.8181334389099557,2.87824134228599,-1.7126866197707797,4.871265463772025,-4.246903958181924,4.789508795443557,0.19661692603187617,3.074510631612116,2.3532146501607616,2.65418554903488,3.268667968287839,2.1003229798131886,-0.16264437807094753,6.432611447387768,-2.2885075680735087,7.981101917750409,-1.527693550385751,2.6569506301490637,0.6524117854207026,5.674763146937255,-3.363343890945556,2.938103436408267,-1.9507766986718367,-0.907599164277724,-0.4758353584222735,-1.6530736361453766,-1.164009496995228,3.200152210324249,-2.5398154209902013,0.10898667354302387,-3.5286756379381035,3.0411880597031926,-2.409525457604002,-2.7233956851297343,-2.4735472718072797,-2.9659145881038977,-3.139363774412895,-3.3798863536071297,-1.9974244847057843,2.588195316599779,-0.2113996637096336,2.7050905695235157,1.6894583232635274,0.491775201388459,-4.280725773372274,2.721657640629849,1.627036041985135,-2.330227895799335,1.7985133253067311,1.8629667885437193,6.326380808728994,0.32411187409712583,-1.3024837314694986,2.5735318053320775,1.117047347631472,6.177501986993125,6.070943396074208,4.235269224527958,2.4604270622766324,0.1652867948530452,1.982095054646126,-0.9832616175801864,-2.7289988227891135,-2.589584056612531,-2.0077361818915063,-2.696286281048469,-3.274393543733282,1.1214437052236703,3.763664834531944,1.0573627018400251,0.33802206176233524,2.424946466517058,4.898404879194282,-2.1126584266182062,3.803482097202007,-2.5941052418497788,0.01228860509790915,0.8775302653080163,-2.790826894907578,-3.5812927332477855,1.5680073244776986,-2.442598476942773,0.9042374639909684,-1.7507743170054944,4.244638284720895,4.194375924036109,-3.1538027565490347,3.1951674767315548,-3.535174798142826,1.0550698980852116,1.6895230324826653,-3.6174043988383717,6.232003978491924,-2.9008887953081777,-2.5268185664866083,4.6096122500242265,4.092858912659083,-2.1269629698448567,3.5665316851350606,-3.507191667483532,-1.252320306949667,-0.07435316507233852,-2.4639512108888204,3.1561189800147713,5.847939663337868,3.74784118347474,-0.10622396481273039,-3.7065067409259402,3.112619672599628,2.1884708137974904,-3.206630788220551,-3.2704886882071458,-2.4611312507850034,3.275612987414284,4.8610782067345735,-3.106267576496441,3.334412644566668,-3.1973198679832793,3.579279173850706,4.1385171683727515,-0.23080348138080634,3.0411880597031926,6.28863356328753,4.000644760420565,3.0692103523193963,1.7909872663924584,1.228496058909278,-2.548098445025439,-2.1902150539715444,-2.934668381327765,-0.13830178189762704,4.070361504639443,-2.6063427540190593,2.7839744856960653,-1.3976363711548203,4.883257310382432,4.67967981856993,-1.455879935805207,-0.43225992681086395,1.774612746912642,4.378118423620103,-0.2671691505659185,-3.2312840098411817,-3.256944333250624,-3.5764730880189592,-2.365590486279089,2.527310369013412,-2.9930956650236378,4.3399833275018285,3.4178325478611447,-3.3519665223782598,-3.3756694132063094,-3.393590147003441,-3.2523030723915323,-3.183760936177427,-3.58478862139791,1.4799040789858133,-0.3264506661368887,-1.0767845093866937,4.314991401774063,3.419588779306785,-2.354814658312998,-1.8255675849712998,-1.3086359030400627,-0.5520441402524844,1.184587491423106,2.1218507825114115,4.670086000238846,-3.0939799243934853,0.37004959420754563,-3.1086062878026435,-2.3722876456166526,4.594394472625466,4.868119656455725,-1.230503713438528,-2.0893581542154362,-0.14622664724162898,0.6714030065979465,4.093232996846119,-2.23997414450756,-3.022024479742735,2.1442260176085792,1.7310179282654177,4.832467122234142,0.07295134432304161,-3.720257339080075,0.656392032659486,0.8817716521656827,-3.230346842005589,5.3861695323954715,-3.1007635884376654,1.1449995402312758,-1.7881681980451136,6.037522943992592,3.9119131725190477,2.444975248549435,-3.9014899754285364,3.3889650689194464,-3.46035615570612,-2.9021634057590213,0.9143802709946982,-0.3786547792236337,-3.16654875365685,-3.603003011423984,3.4796589061203855,-1.2074889277770764,4.841206404148473,-2.7032326894962133,1.0421940565310872,-2.896380356563372,-0.7433328802385369,-2.642330807306772,-3.0764809600925735,2.990275807530121,6.542144214002231,3.2822973559233484,0.8944382360170253,-1.4774235297051153,-3.587311360466699,-0.8353460546996524,0.26961891458073844,6.396467133455027,-3.439777111583671,0.1273495681554062,3.7092245204930685,-2.9651773756942994,0.23765833813662207,-3.5262183414872976,3.648697051933023,-3.350006594824836,-2.3289937374641614,-2.9972144527069213,-1.1237064110365163,-0.9503491951884838,-0.46916258104263653,-0.7398378242335779,-4.3631042554421455,0.47933899850728123,-2.8760497588134513,3.6662974415539176,2.0223563746752546,-3.0840776741962443,-2.59717258544153,1.9966934168234975,6.02041656924155,-0.7359814366731633,-2.4379595304107906,4.377373073078288,-2.8762006450754636,-2.6005012268005796,-2.682855088418638,-3.831152026554995,-3.2439699556393267,6.177501986993125,5.509742310532107,-2.9018213270288378,-3.2795544154363463,-0.6134463997782371,2.728902114338989,-3.038089075443403,-1.41097808963091,3.5448133186155957,-3.6540409687175845,2.6686476740600193,2.2932099905843715,2.2340728637862766,4.992529256841307,-1.0181185017337533,-2.9206846947790837,2.749966464378005,-1.6068234531811658,2.1262725948422943,0.2420027738531236,-2.0939699027992282,4.574244396447714,4.261207927671117,-3.1093732254607076,-2.703185647093827,-1.2118088092277355,3.8851574503651394,2.988814042801974,2.1701244992554103,-2.0970558284943897,5.912877462237257,2.539451555679431,1.774323999600099,4.877248458639978,-0.44148057956409303,4.934509540343117,-2.924026905404105,3.798455260116067,-2.283617015169352,-2.9826203259693487,5.389033442033972,-0.3627874050538482,3.9287648188579714,5.789040493416546,3.3498655888877034,2.9829581323742285,2.579917046410511,-2.1315906960119624,1.7413377658430216,-3.43526343703341,2.7839744856960653,-3.177626537069817,2.3996890185117894,4.077572074945055,1.531132608055258,0.9056134684405914,1.5291528757834922,0.7898919841404819,4.032593327723235,7.80069222754825,-2.46344808170779,2.336026945516582,1.1746614552917327,-1.0652229531806374,-2.6890882011739983,0.9345100725791422,-2.999319117918187,-2.8862980821943465,-2.3568647854439124,-3.152078469433678,-3.3440092752426374,-3.630386525739132,0.9067487743325328,1.1091867773819497,-2.7643514461626664,-0.8759442326213323,3.4824858549358515,-0.01300542706330379,-2.4959382669344348,-2.0675833443023333,-2.131908219538617,1.616853789886536,5.950961478514002,-2.6895496874059264,-3.20831292512408,0.2905823298520833,3.7458639360970802,-3.7870807991145417,-3.1825563411227518,0.2906950390103349,4.654719039052279,3.220260321449013,5.278830901511889,-2.1269629698448567,-2.7862514933023035,1.9850983422337036,-3.2708422040646834,-3.464578778355694,-3.1047593233581625,2.805234586635308,6.633135272015827,-0.37952194302223446,4.599673793501378,7.6659374794979716,4.499460033865226,-3.287102354757788,6.191945080139134,-3.470875179098079,-0.811693995058588,1.5831408737660602,-2.3401391953130957,-2.696286281048469,3.8676890346202546,-2.9750933753146263,1.7424545129332683,-0.7988727944365079,1.8199127801295132,5.573456929587623,0.7599342540791434,-3.1971921397764493,-1.5671884940763052,0.6476431162265616,1.9365777710152157,4.8610782067345735,-3.471479151283424,-3.598538679774092,6.974121669901523,-1.8633170149291771,-2.068585459626942,-2.565201532056201,-3.296765823015846,0.5557672456166153,4.7766362074276785,-0.6508086892193742,-3.241727105927486,-1.75947439099917,-2.839940199819671,-3.221167986779656,1.0266844600399723,-2.6141325614166098,-3.1883121936613104,1.5905851082314415,-2.417177841161319,-3.3065128953629186,-2.709460189897209,3.0172033680380426,5.251228909985502,6.086739632689262,2.7071125080937497,-3.2122094221616098,4.851878262236482,-0.7955831567777213,-2.9624134102411523,-3.1368789928208938,-2.562535002584304,0.5489569806493523,1.2518621915439705,-3.4665887144496548,-2.6427869200802796,3.17457741054704,-2.897776011393704,-2.377088065760139,-2.0754051563630074,3.655998498970035,-0.40125864158729246,0.6564651328429444,4.7766362074276785,-3.9135536700157973,5.840061518637089,-3.092917120354715,-3.375322129964412,2.3296818267976622,-1.57516488827385,-0.9509709957384803,3.0954370729086556,2.665428873538185,0.5541320493335254,2.264546736299566,1.6335073238559947,-3.2790847806859467,0.23312487365977322,-3.5436938140039946,6.067725878107911,4.231519496086461,-2.7825840385828595,2.208929623690449,-3.177626537069817,3.906120612976746,1.054639379750816,-2.522377729500061,0.0025204262471190822,6.981165397226311,4.268115637768398,-3.8001717254179073,-0.9663131029029527,-3.315016525382736,2.654558689453073,-1.2836564476264258,3.854512059018333,-3.0904086783701277,5.927949593831089,1.366945346470085,-3.5024027546355505,4.285081794939921,-3.2225123324599694,3.9549312640564662,5.196418147737382,-2.3391289784004687,1.8213680855331065,-3.311608366284842,-2.499731390576529,0.17982544491389507,1.1349934284052787,2.0180716986533693,-3.5951865546578974,1.8821046944417636,7.270456209899201,-0.3647789339147621,-1.0465840035375291,-1.4944900624149169,-3.117794722559221,3.9225531421215503,-2.3692935317412114,-2.294759318414801,0.30543217460516503,-1.4110056418188561,2.8361611341019244,3.3329866614339694,-3.3937786359385735,5.674763146937255,-3.384281628847897,3.3074190585042467,-2.8701290778709825,0.354377765027903,-2.279185501968881,-0.28086775439845635,1.6213548932979722,-2.694262991043187,-1.7789241949425023,-1.8030083577834841,-0.8698764881430503,-1.3896635866009805,2.616072538919948,-3.5251420916532874,-2.741758477528566,3.4140265355394863,0.895396133286941,-3.7909744339892346,-2.8419321611816586,5.629321931775666,6.26863570434609,-1.4284229844479552,-3.3438036240078413,3.781003967792643,-2.6637175498395296,-1.1475456211743367,1.0569464038200327,-2.674654031090079,-3.1739212830311114,-2.5332227668673095,3.6821387212705488,-2.917822404125992,-2.036177210475095,-0.48572168336141347,-0.8299162021167265,-3.248653136239424,2.505751690433886,3.5570035780341307,-3.4388609901745686,6.305694451115932,-0.992198236082983,-3.552618562615026,-0.9176028594855338,3.2023509021836074,3.186379868087245,2.757069625693533,-1.1410792128953313,-0.48572168336141347,-0.02063750143135567,2.7133007170269123,-1.8631123442247948,0.5696028445475113,-2.0720699144413675,-3.420827764433728,3.0799425466447024,3.0765429179774566,-2.9593655633361253,-2.8341967614585615,3.8728999359679843,-0.9363101581537133,-3.137404090892584,-1.4832614127428834,-3.7648291863310632,0.13091571105798888,-3.0924092860634667,7.283072098190691,-0.451640766527293,-1.4762438272884464,1.7026533784537214,-3.040176301870434,-3.4936233217530774,-3.2349298646170674,-2.9621294830801213,2.3988650803753724,-2.218459938466635,-2.9816696894337555,5.071847838709031,3.544856502399714,-1.7572210239953427,-1.490691207378557,-2.7754325363531813,1.4432606238383794,-1.455879935805207,1.1668383743821495,1.9850392592821682,3.993879969410136,-2.183839258317399,1.6474729146834421,-1.483473130889288,-3.0526180178598725,2.2919507212971224,0.253073091767535,5.390863871529367,-2.5770920023522454,-2.9049834274487463,-2.258254154941546,-0.7537676680615474,1.3386678273133812,3.2736208550992068,5.289669010590252,-1.7077277859942173,-2.422212700036001,0.7155081270081911,-3.060325847085806,3.841775251262686,-2.3353041998929385,-2.909005634291415,-3.465740880512839,3.200069457398131,-3.2195060913029656,-2.94443152365263,1.9941284514597035,1.7255500880117935,-2.609481279062394,-0.6598823996026981,-3.3178989371244536,-2.643818690582637,-3.0528946247048685,-2.212984684063887,-3.229991996799108,-3.1464763707408525,1.335108339471123,-1.7727400626097292,5.587810889963814,-3.376682782860193,-2.5254735957039274,-3.4895572710475613,-3.468002645250445,3.20425496459102,1.255168644920563,-1.6386005067757496,-4.12246354432922,-3.0097065454265945,-3.4277708369032203,-3.7530461280503307,1.7672563924913964,4.308936479657096,2.1368548173609927,4.662413220067193,2.012720773071473,1.8629667885437193,-1.1253708271421732,0.6673958767784403,2.0043450092608084,-3.559825584356034,8.085412787866426,-3.2790847806859467,4.64900739620722,5.328255329116777,-3.5285662188585247,-2.8071222858023552,7.270456209899201,0.20003220295389484,-2.919940481301282,-1.7465623837790696,3.2281320177698554,1.8073951159801922,1.834485157595726,-1.56390527607014,-0.8660734017289692,-2.9630890304491904,1.8739905981058331,-3.1768362932706107,-3.3953168399062608,4.095026754142874,-0.9500554517654155,7.202962608440158,4.481604509484251,-3.602925646029543,0.16275577237859856,0.16174543381685938,-3.1224849421435694,0.10382963378267125,-2.8410130705693075,8.146030394677409,2.1873505070692576,-2.860529562610835,-3.517919490121366,-2.6985328216466993,-3.6504506004908746,-3.016140395117195,-1.1670668808219835,-3.3407369772262854,1.386549977050079,6.238942378549613,-3.4299623947176827,-1.1876251580227895,7.80069222754825,-2.679794156091064,-2.114554940085918,4.107593018611598,0.869466209821601,-1.6211439986405514,4.364487280755558,4.272919182620709,2.514822200947407,0.946579333229579,3.9051221572614225,-1.308297882480957,3.0360115651341433,-1.0711445943933602,-3.5843928167083647,-0.00633336839349377,-3.4666705149447594,-3.022460216689633,-2.814702725802586,4.968722767250052,-0.7126221773669692,4.30110457165165,-1.4772624492915543,-3.345708544845526,3.035675976098283,-2.4199048800045295,-2.105609682060573,-1.169830934659471,3.4026024769592285,-2.7125753617934745,-1.3074502159538055,4.401375758104646,5.684290519097643,3.0594860836151594,-0.5663133768710097,3.5479989905371387,-1.9790341781534255,-2.6272587681025716,-1.4790742035515498,-0.8169607503897195,-0.5645938749013109,0.8021286541754341,-2.3441762475876247,-3.6815746375357823,-2.442598476942773,-2.8919368612258145,0.28909123660750313,1.262496301797565,3.781003967792643,3.7270915898499637,3.615545644361453,-3.5360055477504346,-0.9249790139768924,4.506385538415744,2.6910203467374596,-2.574896106613511,1.5088139831784821,5.397556825826074,-2.9517415029904344,-0.4829384968724859,-3.322942053033577,-1.3074030993893506,2.737552163452312,0.053488562616846314,3.088277660201935,-0.6643075982922544,-3.2123773722935014,-2.1126584266182062,-0.7485739912824825,-1.2791025409913017,-2.905416770043609,-4.329212717836838,-0.08270980998886297,1.4483554637610754,-0.9382520706052494,-1.740417436362238,-2.68388127434619,-0.9200378846690475,-1.5859880903546224,-2.328441483962682,-3.342444074103367,5.534688559401202,-3.8001717254179073,-3.4574065513134644,4.000644760420565,-1.6360836268677883,-2.5009669342410175,-3.2042725702308914,-2.955865275155836,-3.1783483210923325,0.6308134554417814,-3.6276684972533775,-2.9318427345456395,1.4432606238383794,-0.8734252293556045,-1.7017398944632736,0.8817716521656827,-1.9264199088436804,-0.8604978570045895,0.0341272311454725,-3.0307299874033617,-1.213102147514888,1.8068804596635764,0.028194431790710742,-2.6670867760094383,1.540472809545419,4.230919218524492,-3.6912975484163284,5.415518288263667,-2.2536646511098795,0.23887896987200616,-2.279185501968881,-0.46846509531006086,-3.925733827877242,-3.4587441622532746,-4.443469095126545,3.416190744009557,2.310173446073289,-2.693498677377323,-2.4735472718072797,-2.8187234202263194,-3.456309529965987,-3.364632644293358,-3.2727657900990366,0.49663457054442567,-3.375322129964412,-3.1812459755167364,4.8812947317600335,-3.359978435442967,-1.3255859545492605,-3.6214940659310826,-1.7017398944632736,-2.874401865924719,-1.2002130833698261,-2.4379595304107906,-3.227968671294397,-3.563554335933014,-2.9411909515703902,5.792849410571657,7.838739884355566,0.14134959921109697,3.6055682385010814,1.0678013548195737,3.072267228550142,0.5992391540210117,-1.7578505018679835,3.451536785247291,4.542092997661276,-2.962916207100779,0.17097516680916724,2.7071125080937497,-1.7224441395298922,-3.185507450060232,8.106643363151914,1.1063633338753909,0.3384908027606678,0.900902301522002,-2.924026905404105,-3.209523345857111,-3.35770305848834,1.7296874511096374,-0.13333463059970743,4.8610782067345735,-3.341710274450111,3.1846315546360993,-3.3714597754270446,-2.4563372391918477,-2.6688844333197626,3.4061153086009393,2.346411218569997,-2.0970575575478967,3.9051221572614225,-1.9325216129619953,-1.1157848147579674,1.6533129000512319,3.7092245204930685,1.395683122708806,-3.5348453280985144,-3.301270585328207,3.3922986277449554,1.7914230460171612,3.6889019517141053,-1.4285462302121739,5.196288547612697,-1.0799606341377006,0.698226027786091,-2.2460790495640004,8.823870350144622,0.0038652840671891935,-2.811452624802138,4.2920225577757165,-3.062099297061996,0.8362499309123974,3.2411561184213364,3.994311047770416,-1.1523925523359637,-3.1812459755167364,-0.8611697834331271,-0.4049315625584502,2.6252011062856204,1.7052783983131574,-0.029066620115505107,3.109817219571098,4.171640310493578,1.4619274472021626,3.7458639360970802,-2.921643197047779,4.242193935604171,5.23287662676376,-2.1211763557030343,-1.2158031472996442,0.8636819628097798,-2.6488459758231504,-2.841401351542045,-2.587682963292003,5.006874952167838,5.346095547568116,-2.6768565953512486,-3.1164064926090935,-4.218651197915376,-0.17469153341127347,4.554204365196182,-2.9998491414083706,5.402121138964915,-2.5780107898321356,2.2490535021806184,-1.8255465163697078,1.5768578985370352,-2.6736465922058708,-2.820543098382155,-2.159149795282895,-3.668573801006788,3.249791861001247,1.1528711708684205,2.00298259081158,-2.936670380662226,1.4798946751439372,4.149869187207219,-3.645724391628989,0.7141753694396156,-2.8779623398707344,-2.2251617415569025,-1.4823094544341968,1.0639239383916501,-3.638769960084773,-1.6616870870746836,1.6454595239016305,2.621267514909408,3.17457741054704,2.938103436408267,-3.620883020179623,-2.083489719706953,-3.348819751894325,-3.580477024657511,2.683823666388511,-2.4379595304107906,-1.230503713438528,-3.5666998101656247,3.2414826405323307,-2.9118470985092513,-0.48193424653918027,2.340426832152451,2.099206216930497,-0.4837555539575544,0.08577295564520751,5.187457762944867,-3.4665887144496548,7.531068703032598,-3.291901086918546,-0.8611697834331271,-1.731731103772397,-2.725073290278012,4.6732040968409825,-1.888423300151754,0.030988298899276102,-4.304165228836769,2.5843327729573775,2.3887288541559664,-2.2450478182060496,3.348755675972945,-3.031088175844038,-2.21807252028333,0.2564456139544072,-2.218444429143348,5.280840929691382,-2.218459938466635,2.7339728289391774,-3.4403615569948265,-1.308297882480957,-2.0267786364499196,-0.6406241482138871,-3.58478862139791,-1.631184476910789,3.2416543718067214,-2.73052766053521,-0.13197600350488434,7.861734549780566,2.9905371213180727,-3.1776155282858474,-3.5472575609787866,-3.3945510491759965,2.53689027774021,0.15915441709767164,-0.851576146390279,0.23312487365977322,3.9799979367736937,-2.7458647552749476,4.421584698390461,-1.9276723777351499,-3.4461977997096076,2.2564735255268937,-3.4871605080104366,-1.0417600416643396,-0.9249790139768924,1.941820859128173,-1.8481098866231218,-3.011000348814471,3.887449497204762,-1.0008444364674383,-1.8377761230581264,-1.595332956096618,1.6616004264122688,1.3323808822871672,-2.885957562096844,-2.836462994754329,3.200152210324249,-1.8002341459836553,-2.7007769744883117,-3.631199275138085,-0.6615298166742226,0.3135227904718814,0.2725470517690138,3.15049084026617,-3.2173089956344354,-3.308166508588369,-3.4615762067983846,3.7010509471322237,-0.45141073387854264,-3.2583315679653397,1.7954142480984119,-2.380940359210941,-0.7231789918652123,2.125665864276174,3.227395056679505,-2.350312295411426,-2.765808696404886,4.220995109650718,-2.8610074272409642,6.090177608959146,-2.8770539408506552,-3.073329030216203,-1.2743839138372106,1.7566214326792016,0.7004032278915056,5.48820365815045,-0.920978144894395,-2.7436275774348133,1.7377037369642756,-3.0033327638641043,-2.1179337812684054,-2.874576653355882,0.8629899016386735,-2.837803545985139,2.752705672803699,4.662413220067193,-0.17300233152380076,4.919185130306001,5.5010534156318975,3.343202739768198,4.79139722694265,-2.044148282670952,-2.02246491672456,-3.5346736176112583,-1.224312041111485,-3.0339291310205505,5.2146000795596334,-2.7592700975499,-3.325300217476706,-3.3452562441756535,-0.9807629527386624,-3.3225692521221193,4.439389024257375,1.6364310664502342,2.322620768885581,3.7445332078192783,0.3793879589759423,2.9331119155324923,-3.715406221229551,-3.3858459224451587,-2.538717312629993,1.8658497516722028,-3.588933227183749,1.7897182138299537,-3.4052410225730676,4.575429995641707,2.758526075096424,-3.3178989371244536,-3.0348937480819957,0.11048979289334565,-2.710413220727677,-2.5074837424769574,3.042580723127756,-1.120948111123704,1.3766617962636492,-1.00789099960462,7.221269135011883,4.839791700361956,-2.4307966128571814,5.576708598051285,-3.117445960230119,-0.6492552464292005,1.66496030240642,-3.6801546835435346,-2.4018840368133514,1.9626060430946382,-3.8188509819674157,6.591748433834745,7.3393488015519255,5.294856904118742,-1.5944719575966393,-2.8497572088681373,-2.043758332439551,-2.8339905533144076,1.4798946751439372,4.585816423392595,-3.195617513049563,-2.4735472718072797,-3.2196925992476344,5.440530002189852,1.3970263032870447,3.0663537688837574,-0.13830178189762704,3.661966582288275,-0.3210149308916314,-3.1645923233603623,-1.4066030912477683,-1.1116398364356692,-1.3781889798241398,4.30868853006374,0.534833601766024,4.789856321470237,-2.6235952120618045,2.871225979983159,2.2799901506671234,6.629732296673096,1.6995507283083628,-0.7562447619871236,-3.2008656672107114,-0.0954605554816334,-3.417391892344081,-3.318403277343536,-2.9719048022014265,-2.2951616441181377,-3.163915409638791,1.5721754548002682,1.5180355833128196,-3.3612384074232424,0.4592672652276535,2.5934107962553967,-3.0146054781223826,2.3295555054752084,-3.170763372924379,3.5479989905371387,-2.4095897736651875,-1.672315054766474,-2.7681800484992376,-1.097042501424079,2.3296818267976622,3.607224431449477,-2.7983924313082484,-2.043758332439551,-2.5250686834186395,-1.4322212600949351,-2.758900515367714,1.6167595853030305,-3.130150260542297,-2.7325916503938807,3.407939469891227,1.5536872999577824,-1.7856630970738014,-2.2022370546646557,-0.3152977390856411,-2.5878440910030664,1.9145123724179203,2.765789059712605,-2.896380356563372,-3.016140395117195,4.927905815924393,-2.6768565953512486,-2.1296565142608856,-3.478735099893589,0.16186414591113082,-2.881315296185321,1.0127942956707658,1.7954142480984119,3.673256673794885,5.078396401272598,-2.200339400835346,-1.3028114159559774,-3.3250097274644324,1.4619274472021626,0.6330756963687236,-3.2986672099162857,4.720960905347403,4.08271269594845,-3.5262183414872976,1.1797550112880255,2.243966780214494,4.494538563346643,3.8421051784789295,-3.634898054862319,1.734954517644591,4.122891997689193,-0.39809977899761007,-3.8384488120151303,1.8552536799795871,-3.3099308372222787,-2.9517415029904344,2.4145481559334727,3.627508600058422,-3.338203971403325,-0.6059965682018568,4.228714020777652,4.5863551838888466,-2.307067614327851,-2.906569626334367,-1.7351088151166978,1.3413104515179848,-1.9913781221080176,-1.935842653475491,-2.914843850270246,4.156202418000005,-0.957038704600734,0.41939927193653204,3.6324847163163,-2.739148961655199,4.806038204430809,-3.205465612196179,2.4477708060937444,-1.336717037990616,3.202763565409462,-4.966834549427241,-2.34208574555268,-0.4595731775616776,-3.4416951516578678,4.848616657630958,-3.615497162074767,3.5990114263149104,3.8259971185744313,3.3320313466315437,3.181887352743184,-3.3075498027019585,-2.3753184827726073,4.133032989854631,0.13409517189024614,1.2175826985608942,-2.9669172333720075,0.17982544491389507,1.8292015998503381,4.506385538415744,0.1569826376973874,-3.2127248534679955,-3.234282390041135,-1.9004893547867665,8.259442368467722,-3.1368126777938934,3.763724334409319,-3.2540625000403263,0.49049900679667985,-2.1773199835026453,-2.6924971170809244,2.2628830854662407,5.975394712135763,2.3050796757781606,2.8794604999618416,4.470564370487031,-3.0029526882628446,-2.0876784836613655,2.4925343955489314,-2.2692886471757374,-0.46993668483990503,-3.134986840400184,4.743735357400368,1.5134598786714926,-0.9887330233029213,5.749301982436721,7.152253838321643,-3.0874124600528385,1.1572082089240403,1.976197502890795,-1.19846812807588,-2.8803686848446284,4.674028157252794,2.9308778988584896,0.2627549084256265,-3.232039964883266,-2.6608224982656745,0.1872276247804191,-2.9850033626899575,-0.8360221368160939,2.539451555679431,2.1558076791278356,-3.0150109647971326,-2.31321190814989,-3.140764397809372,4.540497596752356,3.7528518291906288,4.654719039052279,4.60415791815832,1.922127894413502,0.6974163289977208,-2.3441762475876247,-2.9324007569830792,-1.75947439099917,-3.673807275622875,-2.40341567153239,3.449099855865384,6.55607166348792,5.244670603136041,2.827278497635491,-3.284706005648334,1.6209329826369039,2.822698760298314,3.597306889732222,0.39390072532228765,-2.702584649035133,0.09461596791453183,-3.2303600511441015,-3.68392918075897,2.880863204213034,-3.545347461121326,0.2640188566463537,0.8414960048226973,-2.9813687018049873,-2.8648040657177023,4.827426745920698,-2.91714145188165,-3.2288466635023507,4.407977198389578,-2.41117778893785,3.236002367003583,4.437854660151132,2.4897415812242514,-3.2482764715020487,-2.0970575575478967,-1.340768920847386,0.7384934937386449,3.7235519365629024,4.547643159197222,0.2212522226520655,2.852498112375191,-3.2973975296651585,-0.4994931597895655,5.565731679180512,-2.350312295411426,3.0007187269479805,4.645794906409537,-2.9785158804247973,-2.480526698628614,-2.0806902560621747,5.5520563661460605,1.7868866275212127,3.380430674227349,5.176696754678959,4.0091781026318145,1.1129042904193522,-2.863235016286106,-1.7856630970738014,-0.6056042291341188,-1.9974244847057843,0.8203111150488511,1.4287532927279136,-3.1232720130721714,-2.841491162945265,-3.1540133966190527,-2.403797520993407,-2.7681800484992376,8.01495818165155,-1.6868847618574407,-1.4346216113787846,-2.919082947575542,-2.123981757062996,0.10803771650043553,-2.7312404044167438,0.03109984527774007,5.355998890255403,-1.934451526163857,6.572970267029395,4.541979713121264,-3.88813653393528,4.168536244978057,2.9782725808188224,0.15949263475873796,-1.4102108618063989,-0.2735203959478225,-3.2347839653380484,-3.3751424916143815,-2.336811222821529,-2.4066869584657318,-3.1368789928208938,-2.921736352994896,3.7973247943947417,-0.7409638075680721,-0.5692745740308347,0.8293472285840774,4.745378533062526,-2.4595237260127236,7.298005719002038,2.23232561262967,4.634835547243878,-3.638769960084773,-2.0873322643988153,-3.6229401116741324,-3.7890722190561084,-4.1168750057300505,-2.8655064508352086,-2.7536057405969814,-1.7949979040534412,1.8604803461575887,3.4504923439534436,-2.957171329208585,-3.607736503610758,-2.2565177106394634,1.5138522659458773,-3.169414188830108,2.1012131933427503,1.7560621045217537,-3.3133560172659258,3.5847215858234946,-0.9474372945065677,0.012238106676385608,2.319497497380485,1.2441199245672745,-2.85680221742333,4.738234984487002,1.568767170135866,2.194307191411205,-3.0497471155310003,-2.8586326533069326,-0.577027078660586,-1.7693677531538752,-1.6862239396634309,4.738809461538876,3.808431341828928,3.604214487556325,-3.2085165165424896,-0.38963492807664235,1.619252786404528,-3.375589643278442,-2.9995555146589195,-2.015372120681075,3.3705416657431218,2.683823666388511,2.028519228079029,-2.456341983764635,3.072267228550142,-3.1528337310502748,2.938103436408267,2.213114715278675,-1.5533658219171418,2.704538292675239,-2.541766518283809,-3.133843210736057,-0.04466769663216226,2.3173076859264654,-3.338203971403325,1.6335073238559947,4.055240425025396,0.9322149076139497,-3.3013480813467506,-1.9884597430074373,-2.2556183581274687,-0.6213717393314453,3.994311047770416,2.0263055662883294,2.408926540883063,4.3318934971544945,-2.604375179583211,-2.8527253698312305,-1.3331758432116296,-2.855885431939328,-0.18810443375301716,6.128310692201082,1.5138522659458773,-3.1440794647515222,5.330630416749589,-1.917000535989953,4.595097371621484,2.627794642320676,-3.1689449760039667,2.135010327195813,-3.3106980248545383,2.9943874349363298,-2.317173937206825,-3.183760936177427,-1.6868847618574407,0.9234103976266772,-1.460047519661014,5.901924776198491,-0.1254944797159574,2.0075125825305924,-3.3490417463376407,-1.9655133006913146,-0.7332964262054006,2.0705784827259923,-3.0948658916388045,2.5321832992662054,4.247537054011668,-3.293045256735362,-2.5812562473040885,-3.941998625648529,-2.2873869399630284,1.8990871249583798,-2.7151392742719507,5.587810889963814,0.40385093791019827,4.698937739807881,2.5772911993646637,-4.447982326906363,-3.177568247609482,4.775481532100037,-0.15149596048237587,-2.99112028757281,3.1509623364201653,-0.7166504137898525,-2.0376785255520637,-3.3756694132063094,-1.132592633080577,-2.661761285488303,-3.5293790800135088,-3.3869162111646816,-2.8351948057254117,-2.0447843850386818,1.7190339934708232,4.016233582835486,-3.4972370068326915,-3.3856424176948043,-1.5301005613463243,-2.2019242838859245,-3.2537418634006903,5.057345346017236,-3.0690797875570617,-2.0376785255520637,-3.308166508588369,-2.9957904120145753,-2.5968713826181844,-2.71693308862266,0.9265324715591313,-0.6857145367770993,3.925101226124165,-1.25306221476584,-0.4979001758687118,5.2124944664519575,-3.5880396488575586,-2.952601286532561,3.8421051784789295,4.173119080477207,6.562279626124545,-3.110540742758492,0.41875263853618727,4.180209892064477,2.918105151935762,2.551539781128148,1.5108840806988726,6.802641802491897,5.195053464394363,-0.8886207530557952,0.25647788970057206,-1.3024837314694986,-3.149562437714047,-0.3100857170178909,-1.2002130833698261,-2.7980820450197483,-2.468404386136667,2.975610759244891,2.4356231376915964,4.996920373509171,3.132144216676119,-2.927605753144526,5.15504539082659,-3.2728518463128267,-2.556579140698042,6.644463738296936,3.7604707338632135,-3.794401612733395,-1.772546187923077,0.13776703376330035,-0.624721384517719,-3.4582474716581286,-2.988235076747139,1.2729207394718065,-0.6406241482138871,2.6523202132958326,-2.3441762475876247,-2.690549861543816,2.4405293180300793,-3.0617303828022564,-2.951021196687992,-3.0404264125837406,-0.4507507793528509,4.039246300628563,-3.419610495069644,3.5530201484800195,-3.858295271096764,-3.4855516112377387,-3.229991996799108,4.554204365196182,-3.631199275138085,-1.1383058385584421,0.08966774951349493,4.663618226411483,-3.205044136249559,-3.511315187969241,0.5738497122583112,-0.4829384968724859,-0.5263510866060943,-0.19626036137763453,-3.7964506957482467,-3.2244036138366354,1.736312583321112,-2.4909013104257687,-3.2594007281728574,2.963770343853784,-1.4285462302121739,2.346183834660341,1.8724237725800799,-2.1924799069693672],\"y\":[0.12595514295225643,0.1904217629531811,-0.2624176858149211,-1.5519045578248647,-0.14224385186065389,1.3156185754983138,1.5027911637981533,-0.8649279352301222,-1.3035110181810843,0.798204044535972,-1.7487902778558744,-1.7897140338581705,1.8249735305993653,-2.0275542125317405,-0.32787416929671176,0.9220158693708183,-0.3411944987591978,2.318877223817379,-1.282506971975886,-1.2136937002358152,1.084657325051253,2.3389204600945446,1.3117347277081761,2.790689074166779,-1.5345872799806632,1.4802077547924222,-1.628315165266723,-1.1462893293814773,-2.3641484616158266,-1.6661369580947214,0.516608130336553,3.1118669660451714,-0.6392752283828114,0.548064396422091,2.0084925766049917,-0.8240227841264548,-0.6031883513458911,-0.1884932771423851,0.462479798296503,-1.299373800496309,-0.3114399708105237,-1.1622085245210327,-2.253434124356131,-1.5975197417672478,-0.9455820922652373,4.174792860170558,0.23190722883865805,-0.1971982121111609,-1.237111399090588,-2.3202875830061465,2.4116463431102053,-0.7749497445452681,-1.2749393729730356,-2.285906914209573,1.5116535849628956,-1.6906952154893888,2.012697793398939,2.73811704390244,1.4310064134793727,-0.7547608004642608,-1.5613585901897966,-0.21758010638324113,0.5671635029380361,0.9192719620407183,3.448893265294663,-0.5435250884758378,2.6200370598361746,3.235310730362646,-1.8368564855488132,-1.4765517288797874,-1.0748149116149224,-1.4092648212764858,-2.47946985428901,0.41777905535825277,-0.3041112934193616,-1.461741300740994,-0.6967130224245538,-1.6661369580947214,-1.5226029145086613,0.6033460128435061,1.7460915242784762,1.216907010268167,-2.040795294212153,-0.4823088260063828,-1.7132568411490794,-0.9547101518799916,-1.8301153252602231,2.830277062137683,0.39041029621684353,-0.4338060884979719,-1.31018374174981,0.10990743530707195,-0.22015156030840952,1.1210143226841083,-0.40571846186188354,-1.818002618012953,-1.805773014563672,1.5368149227365349,2.985956764328193,-0.7649139406345572,-1.121152122721723,0.71901787279678,-0.06944642364760115,2.0236426389462157,-1.0965240494187893,0.9615017818944608,0.6063960792015382,-3.2915209549196267,0.5813084582755884,0.21787493630036509,-1.0931614576872961,1.7210410844726993,-1.3313779819048894,-1.0283522529602855,-1.5359825696554468,-1.1050027688540178,-0.970882501021789,-2.2892588947190413,0.6237506266102157,2.3003362417019244,1.4642476487681446,3.326362379309697,-0.7771064378796425,2.1160893550617894,-0.28067021974171497,-1.2261358254022372,1.5116678513110386,-0.5830431967239399,0.4807123783157439,-1.1626488438702802,0.5746616679085587,-0.5195680774773875,1.7123633701188556,-0.7709928506882083,2.476239279966627,-1.3706498448204816,-1.4892721308835686,2.773993221824463,-2.109924914153944,1.746222948682541,1.8467871179031565,1.6276178447880798,-1.1047918212631516,2.7320600452092574,0.17774066559291563,1.2027783182379332,0.9179782614663757,-0.739229195181613,-1.0780884308302274,0.5751848067071164,1.6600251764002043,-0.7258758359260598,-0.7200075277761275,2.099852984683739,1.3787879444660693,-1.0718379140626133,-0.819501068170726,-2.3911939851024147,0.6120447100137322,0.18391712474969585,-1.146710795617342,-0.7298128625064172,0.38529075074033686,-0.7410812334583043,1.872335087850593,0.40688376642234403,0.2454903646852966,0.1240640641688415,-0.4338060884979719,-0.29935402095031466,-1.5224221362032715,0.3539762131744195,-1.9953482978860118,-1.9434109339813888,-1.343955736419063,-0.5948756692215826,1.4179049253896314,-1.1848818846920706,0.5562668585605498,-1.7043037201593865,-0.6526240526962717,-1.083245159378421,1.61878732859606,0.1500977157609865,-0.622134327210201,-1.6543740898202919,-0.9961685881644928,1.4320188339278659,2.062950250129275,-1.7063629066254944,1.954426982833457,-1.0458343804100598,0.3493417428122263,-2.7457131335399554,-1.72648028230165,1.789639886862797,-0.4114488691607598,3.522501804598526,1.014138525615517,-0.9859628295920231,2.959994294215845,3.5578390624317375,-2.1569268041548204,0.8944780459401329,0.04194201429816157,0.11362134212536637,0.8268419889009797,1.4519654734609455,-2.1929189841787395,-1.5825848173242028,2.3977898206718185,-0.21176170227170482,3.4022630701685412,-0.18889823651267554,1.6237804332885897,1.9851868243504414,-1.2938723912471732,-1.960223041989867,2.9151847235420703,-0.10411840501085806,-1.3536669004138993,-2.115372902067838,1.9481621498290491,-1.1829376411806982,-1.7085838672860558,0.9352858288026835,-0.5214180773274456,-0.6835242809746236,0.6773956166847,-1.2283445838771894,-2.3121534081880464,4.142192490063541,0.076352298750271,-0.474710383813273,1.8865868288662364,-1.4131126392961346,2.096474138023988,-1.1406650560063176,-1.5899535990704272,-1.4233292027356803,-0.8805710316595553,2.880935542848576,-1.1714587186262546,2.4118097855468035,0.9172330328829469,0.8926851466946878,0.7597229803418978,-1.545466289296639,3.4265471641328875,-0.30038014852338374,-1.26699745466971,2.2970892130639915,1.1317915464547297,-1.5502027063046357,1.0986879959830376,-2.041450204103434,-1.110960458678412,-0.48618312870491587,-1.2747469042731265,-0.034346572261987104,0.891012009099889,0.8258686530719349,1.61226283189952,-0.2898315423218746,-2.866098274515794,-2.640834291757948,1.6925492245989675,-0.9765236282181055,1.6237804332885897,-0.3411944987591978,0.06063603489885257,-0.10190466691772322,-1.1604882225866893,-0.3314274380466239,4.559205369384939,-1.9166510143894961,0.2680517422065153,-2.432335967293306,-0.5119512220219002,-1.6782578615748345,-0.20485111418995766,-0.08809124807164762,2.9230325628115557,-1.9164242158227351,-1.3543310537004385,-2.117195399122501,2.8191294094577852,0.9458323462802444,1.7134646547635362,-1.7710876519083085,-0.7609664518890427,-0.8337327484697655,-1.4287894657511457,-1.4240253265538187,-1.4690333013712793,1.7191722364497337,-2.0231935553563694,-0.8503078755545446,0.9895652814684174,-0.9050181788398529,1.7989688265454116,0.3318689049390015,0.6193914444655559,-0.8619518291614033,0.5522218837477807,1.0101614505292364,-1.4899450682673117,-0.23356298237442583,2.34030101500613,2.820546680059859,-0.5439822700008317,-0.871455059604415,-1.7065457961260428,0.820791878667785,-0.6609008925235443,-1.7098061936611701,-2.581798710685302,1.6951051718439496,-1.7951783993272001,-1.197875596756702,2.3860935862035455,-0.8923173281268896,-1.1155158967689949,-0.8926566949816396,-1.3618759630471087,-2.155937600705882,2.540761075714667,0.9729573308417938,-1.8956651014207178,-1.5353320926964558,0.3925497340574025,-2.1685771834594636,0.7853416528951774,-2.0433102346252854,1.9741495444663566,-0.7013267430355432,-1.0524741624647305,-1.2968545427564577,2.658325251941611,0.3135142988908927,0.48585981410271817,-1.6495280746878314,-0.5610522030830108,2.3596390513555368,-0.7003217393967172,1.230517387712053,-0.7539521219330613,-1.26699745466971,3.0535468130085786,1.440613113915751,-0.7784427588588458,-1.1674765187837983,-0.6254664700389615,0.9917520166517549,-2.0210482885433607,2.2947558284480163,-1.9158785314168487,2.777064087747908,0.5654004548149308,1.2364818552823424,-2.1626218771215626,-1.5960970458278845,1.6014604731016637,-1.3848181137278621,-0.8538063929222637,-1.8455628493072955,-0.33091656621340976,2.773993221824463,-2.4538721383585314,-1.2237411181627182,1.5306997923215881,2.167117462888885,0.42053781132532886,1.8273620481327568,-2.5703416538522834,-0.9720283230923868,-2.3182427470480937,-0.7650583625328045,1.3255956060372283,-1.165086022668963,1.5195998094442398,-1.354737168951093,-1.5919195163505655,-0.6989716012529366,1.0535352527325,0.03987402163288549,1.1032919041987272,-0.9167590932977195,5.0730304198025715,-0.07666728549033086,-0.7285318191663027,0.9577953557435311,-1.149797441354751,3.284079991296359,-1.0904334221869068,0.6961453688350085,2.8577522687649,-0.39751902553884105,1.2348342542870128,-1.0088335169877012,-1.261978363685824,-1.8819227285600915,-1.8326557084328678,4.00749565064306,-1.3169914184751885,-1.8301153252602231,-1.9448430438306585,-1.5473124384886907,-0.561820340325889,1.8516904781412835,-2.168870323480693,-0.577478596587794,-1.9778591572218267,1.0827468394956796,-1.4086358774150205,1.2139116777067396,5.219732497782442,1.5907746767524868,-1.5004763026484929,-0.303220006899554,1.44687922100044,1.7838684458582401,-0.5947081019518484,-1.3730494863490486,-1.71245789651151,0.39120118054063596,-1.7125335412212819,-1.5960970458278845,-2.180350582903779,-1.7170983239790067,-0.5191128979089126,-2.3484319213269624,-1.1023084780536558,0.7532865692717814,1.8980572325564535,1.8589745363587593,-1.4754043706194973,0.5601700580940523,2.0961166909846938,4.10074594312304,-0.9923923465106663,-0.66582173251984,0.17942487810780694,-1.6765410422758098,0.4453071529264651,-1.000487221394655,0.06546914405999373,-1.5502027063046357,-1.013046439421508,-1.4874544384845505,-0.8683565623362955,-1.2332506182988947,3.002823502293711,1.4239080944362865,1.639365393087753,-1.745453782168791,2.239980406561584,0.17419985255072074,-2.263733329304493,2.3702512191634764,-0.34648256563750096,0.5566221131257467,1.7776047820123706,1.5691539422532346,-1.3335488265658582,-1.4661984837759028,-0.3989330522063348,0.7627837927164319,-0.7812778855230602,-0.39561257872128003,0.7283752447348922,1.578908492936236,-1.6218219861188363,-0.8182521854601605,1.5869159791863332,0.05242024785428768,-0.6631844378421937,1.2774820614663036,0.8232373363728718,1.323463063282552,-1.03699301260525,0.8618918612770554,1.6601897085959367,-0.2693943989478125,1.0437977613392564,-0.46981089230200146,-1.7108002603997066,0.7845482826477191,-0.303220006899554,1.5142142214254246,0.08152292028683968,-1.5960692562124128,-2.061980505752334,2.328005352052272,-0.6461904504451877,0.46926872462328945,2.9955105133795117,-1.5472997168362512,2.036326228508521,-0.8581151474335665,1.3812749044760324,-1.854984307337842,-1.0095635233879208,-1.391448334106453,0.2886477326034412,-1.8390990341511937,-1.503046101965309,-0.004750193020110075,-0.9847859166443027,-1.4028487186397927,-0.519981356615177,-1.828636822803044,-0.760895443559408,2.388454068280466,0.6716882500001643,-0.06952558368566171,2.9963915137782995,0.9396616914909496,-1.389592507153337,1.6213171266217192,-0.5452948972664534,-1.976117782365173,0.2049235726256733,-0.9621947614831252,-0.7660659350343454,0.5081297387072102,-0.47522027164528835,-0.8444246178626066,0.3277665560476129,-1.77687478036642,-2.326878594071742,-1.2453366192231372,0.6003607979808092,-0.1700737521337641,-0.12362100496772843,-1.9564062576250134,0.9332626370924356,-1.3538514086754676,-1.011336945446013,2.5727898438762473,-0.08400486569334327,-2.1730018663147677,-1.7125873228415966,0.6739006642064094,-1.4926945783016996,-2.0957194154464514,1.492343474938252,1.0196865302827467,0.4711080514496934,0.45791809629929575,1.9773118800265903,0.17166964271183616,-0.8370615660690554,0.19872063641818016,1.4440166154919392,0.11586241548953012,-0.6797841740313136,0.30882178081806344,-1.2111040950065632,1.3379558234595248,0.9254425473488078,1.061299816938263,0.49399946033008846,2.1584704891565263,2.084277710077726,2.790689074166779,0.17232884779027605,-1.2955307552721125,-1.5001651351420147,0.4349311866049723,-0.99507931179505,0.6271579401780925,1.9514220461613259,-1.785602809042567,-1.2534315473132722,-2.8619907504887085,-1.6263348955952606,-1.9886069672128843,-1.6974351877542058,-1.0279572810438824,-1.0331225106422581,0.3280058679334904,-1.0794687438868302,-0.4523596562404241,-0.329990352579271,2.1535455030592545,-1.1874765662372488,3.4945291748952214,1.2141776718998485,-0.25951567573858736,-0.6031883513458911,0.7960312488400951,-0.26603968015581136,-1.5788784866411412,-1.2400712425199099,-0.9994797117766617,-1.278153348451271,0.9895652814684174,0.003911526064806279,1.9900098361770506,0.9158930894878395,-0.7587120673272035,-0.38434299251087534,1.032519704472342,1.416523051916593,-1.8195076761513138,-1.2918816059700167,-1.6727305490935434,-0.9370021904661753,-1.1894497648947646,0.43113929248463734,3.289700467480519,0.9159587223200315,-0.21093100396707481,1.097696119951775,-1.408584943904146,1.0196865302827467,-2.169714793385971,-1.339050863521872,0.38391551766427423,0.7516779824676442,0.21736390118337962,2.8163002925642604,0.7051281265448469,2.167117462888885,-0.8050682038961685,2.485855127401243,0.7430696271884145,-0.9695576808472757,1.9994540720328533,-0.8322146880742108,-1.0774987461509795,1.426496605433545,1.4956627183777218,-1.187131473488865,-1.0916551005714594,2.7896663612647696,-0.4509081353792005,1.493612510048051,-3.08550435780736,0.4352389881448442,-0.8805710316595553,1.8477920834597192,2.5137223934614754,2.3099582990087195,-1.8455628493072955,0.9510120638784321,-1.852883164241547,-1.7358607510727706,-1.3923970789878974,-0.6410379210688637,-1.684511759305435,-1.2647328780635172,0.723085850986912,1.55562416984455,3.3019971248662454,0.7689191614531212,0.5699623698543984,0.9917520166517549,-1.191621774592271,1.7451612796348028,-1.776974218425495,-0.7587271889183189,-1.407461040703083,1.7529205243071497,0.8592339348477941,-1.2375418823788966,0.6550246508595031,-1.403357690794252,0.8676963787783863,-1.1302164096160017,1.145630360849031,-2.4908884411256587,-1.714978462320421,2.421446695421174,-1.3937829847470469,0.2539761401795863,-1.7280815541347967,0.9032446371336604,1.190166205067051,-2.8579817093915842,0.9141191780271695,-0.24387379912318485,-0.3421210137230926,1.2552548552528227,0.11169685422395904,1.6039068168382462,-2.5807230658385896,-0.4464250575862135,-0.7013267430355432,-2.005339449114183,2.06421017277134,1.5624208297430648,-1.7951783993272001,-1.7520635953052266,2.2470257548703234,-1.2226656212490985,0.05268361166058779,-0.5028531138764069,-1.6064016335668507,-1.613537370164144,-1.1860514670233524,2.8627417125786434,-0.05168122710642517,0.961692749025227,0.9272655920064823,-1.732869203764214,-1.3871054036344488,-0.15088896134351495,-0.4114488691607598,-0.774531742559428,-1.7446713438285968,3.235735532123464,-0.514017323583011,0.10873643987799349,3.810312750108483,2.4116463431102053,3.837946052263342,0.7911450885192113,-0.9758009578535659,0.631370010613336,0.057359359455295654,-2.0284803083607432,0.9870421344291052,2.544628174492983,0.9234205128079694,2.165267359110422,-1.0148133691944825,-1.5076942221741774,-0.6059907141448374,-1.0633975324694531,-2.082349137085194,-1.6535287814013908,0.0516498148721146,-1.0313237600359337,0.8493476772712025,0.9510120638784321,-0.7562073618553512,-1.0893732859416125,-0.622664743491306,1.936608504570945,2.2156897798119615,-1.4161921939225188,-0.23077724483223327,-1.1866504075986863,1.5275539491905612,-1.4294307809968225,-1.8054253626030081,-1.130920864585865,0.9435727208827666,-1.6650092503277794,0.191123157822612,-0.27975876279532097,1.7881355364151716,0.5660773260586172,0.016870546600287407,3.2389113934976175,0.7125787044592992,0.4421075579557686,0.4192224498346066,-0.04098611462684388,-1.5059434332045227,0.2630985890684594,0.36530671606651427,-1.8756190415119092,-0.3004143786873893,-1.7312981008993604,-1.7513987027407714,-1.3449279731256303,-1.307538341200135,1.2970222290720932,1.7180140259430596,0.8322236549158224,1.5804922570057314,-1.5861178228002761,-1.45997193007996,-1.5536434227095948,1.0335206922330784,-0.14553837411739154,-0.5921978512646743,2.001604986909146,2.7154134218855988,-0.9070661266036745,-0.37117327580779286,1.1577874443427283,0.22093847944290818,1.1321917722818289,-0.08276554383013773,0.11024762106283696,3.4551325335442065,-1.0349368298927064,0.9597015376789021,3.025640838017099,0.33507070298306446,-2.286635660828543,-1.2305391951126163,-2.001248807024809,2.133617230868717,-1.784803510926203,0.4464835301476693,-0.42612039979715455,0.4794926121068312,1.3373226945948702,-1.197667394070954,-2.465549642714039,-1.067975583248076,-0.5958416772449802,-1.3538514086754676,0.6739006642064094,1.6336841268178526,3.420892976465247,1.9279795751267867,1.1806120401082656,-2.0455075962024263,-0.1291561485749696,-0.6546995342215082,2.839610994223117,-1.327168661740048,0.48923036114890356,2.0842960702959576,-0.14651381418508674,-0.048342725821087645,-0.8467635611699846,0.8034044213489291,0.9642076063188508,0.5120374116485482,-1.1047918212631516,-0.13781040758449684,-1.4928279684623935,-2.1120225237245935,-1.080269359980474,2.10475087954143,0.30020600880299175,-0.17098970429735058,0.5361112434739571,1.3117347277081761,-1.0175284796310973,-0.2136095724803003,0.9834925720301231,2.44632463349772,-0.8344234857795859,0.6730829709754046,0.7065347945074753,-1.4010367074583416,-1.1136518014046692,2.0051854769563016,-2.501231225323194,0.16892758044048503,-0.46531194699075146,0.7213332863703419,0.8803864543399327,-1.425478660421004,0.2549386702779303,-0.97428158381137,-0.647937981507759,0.6270486485749172,-0.8495357906746445,0.5321834646421854,-0.14708753047804735,-2.2281733969061794,2.5738748255174073,-0.9433114009027695,-0.6941031708825791,-0.5363148514214064,-1.2290553537379176,0.1299564099414071,-1.2731794652195274,-0.10669345134118853,-1.1302164096160017,-1.1311195776375798,2.9332603682293605,0.7327266362614857,3.3795823936743727,-0.9719388905869574,-0.9803001969616527,2.251463965433339,-1.2901225668217162,-2.3360483815096975,-0.1884932771423851,2.2068597002669006,0.7754026461334113,1.1383735815943086,-0.2158726238806417,-0.6090556041288735,-1.0135276400108943,0.3628086176825057,-1.458801460136754,-1.4133386605137337,3.1053559899266765,-1.6244178147476196,-1.6243354423091036,-1.5023772662338633,-1.5811283832828396,-2.2700935621415526,-1.2818931627332895,-1.9049891984658422,3.5569672306951294,-0.9777043292137677,-2.1596419788684673,-1.4402821559882966,-0.9660837732381777,-0.8444246178626066,0.3788133623428974,-0.6697648824998248,0.09472428552194376,-2.1455220210917876,-1.4437509226567447,0.661072828621213,-0.6154011927821021,-0.28148834612536805,-2.007355780999883,-1.1204569283112995,-2.3182427470480937,0.48789781038389923,-1.2281812435916004,-2.182378639016949,3.331442080916712,-1.5965940996247754,-1.130920864585865,-0.9937594601938959,-0.9420605474049115,2.4093093485011776,1.7482645053940327,0.3903763168974978,2.944708560795485,1.5854175446456034,-2.8820236417558003,-1.449735586559929,-1.5744718766230235,-0.29789290600347706,0.372391417255941,0.5359270755849262,-1.5244961290356565,0.9820327139090553,-1.8670108032453197,0.10457398134971575,0.756050948348366,-0.5956671117215734,-0.39652203228548133,1.232727708026195,1.0760119665332721,1.936095672524008,0.16364194145174635,1.4431646521191894,1.296328049665041,1.3300817310065587,-1.0578544820690432,0.6436950969297615,1.4720858581180674,1.3932699722130906,-1.743938003002002,-0.328515104671421,-1.6114628256841843,1.4275943131522273,-2.2034828917606286,1.699966187352145,-0.6627523456298355,1.1541014772295728,-0.6896711266888829,-1.360355543822564,-1.1970613544359956,3.235735532123464,0.7435841679017674,3.2422662305708414,-0.22934240389827656,-2.266470511775954,-1.5023363788496475,1.954426982833457,-1.4323968493709234,0.5660850875229947,-1.2540031875187387,-0.7644143363144644,-1.0465194226169605,0.24736423745606156,-1.562420016803255,-1.4348616636971494,1.2798945722894086,-0.29924041720881395,0.30955546142616513,-2.8579817093915842,-0.7364128286909123,0.6120447100137322,0.2951019157322554,1.194176834076752,1.1159637398334306,-2.902451502865764,1.7296602625677313,-1.3398995143873071,1.7876310656662047,0.9544637131444366,1.6668240703526798,-0.6059907141448374,0.7540743748071428,-0.027762921692360786,0.8431605951046544,-0.9518633623808105,0.848198636706205,0.11329719835452474,0.2892565414452428,-1.2722639849963462,-1.7868480642402536,-1.6123615181683353,-1.3872892190075994,-1.958041091299448,-0.8064972778226774,-1.2215575999939938,5.347136269965139,-0.7408849488495391,-0.9341805475593059,0.8602975643866,-1.7602323253407723,-1.4578561078452081,-0.5606484730462025,2.993429330697536,-1.853494869933,-1.5971945508465861,-1.7137307500818002,-1.4741875198333452,-2.040795294212153,-0.9494823662828452,0.9486200000040379,0.6077905302818225,-2.0335293908559433,2.097136438600441,0.9440633068364666,1.4950312990054633,1.485084615854378,-1.7292618705223883,-2.004003809066051,0.44882759009866124,-0.4017706850017329,0.9936468508061423,0.7802464008722543,2.756715131937052,-1.7868480642402536,-0.3036779318576985,0.5930619098534565,-0.13620242277734163,-1.699825224908285,-1.1785788468567466,1.4665770542800196,-0.4845315089661516,0.028145934052718813,-2.1636473932973637,5.066204786982283,3.5969116425779823,-1.44911496355969,-0.4293296198976064,0.2371059779004021,0.9294310705747177,-2.744246630478173,3.5730008762132006,-1.4065697794341334,-1.050523534584873,-0.9937594601938959,2.1500122811953895,2.5164928832490414,0.008132529567811818,-0.3381414114888975,-1.3690607220991469,-1.1013711687171688,0.033370365090471844,-0.5964701220198989,-1.6088925465283457,-1.859806896131678,1.035684979925782,-0.8820542031446945,-1.9312542971549087,-1.6478765821264332,2.545624106460625,-0.0739549278432462,-1.0376234360453,-1.9630338175278472,-2.136074701530695,-1.6719709766835975,-1.3781267257963352,-1.0095635233879208,0.7191140316412646,0.43249899367297756,-0.07137136655755702,0.0818591755054527,-1.939184249469573,-1.7944592387141698,1.062353715445939,-3.38209059424769,0.025532227052059382,0.6901736523840037,-0.37962362777969044,-1.4008016312370333,-1.1659160601361,-0.27774806344845837,-1.7125873228415966,0.11302074635306328,2.050544496082462,-1.195372781871981,-1.6559911095726585,-0.48435205640246987,-1.187131473488865,-0.9624428913651101,1.1857487296715223,-1.9465862350997178,-2.071170300727103,-1.7323639013039671,2.4349609334703235,0.8469370077919731,-0.8681073898435968,1.6631107753771994,-1.7394206760581106,1.2967950957674395,2.7606046218995446,2.3372813571929894,0.2756240736494074,-2.801260867737644,-0.2829495888038735,2.2247139982784745,-0.007978166793036834,-1.8891232291469782,0.5080612787980443,-1.6155035931053785,-0.5613309611426662,1.2216295325313211,-1.1781868998386986,-2.3641484616158266,1.0560154897247398,1.7210410844726993,-1.7034694531582053,-1.6447233758991813,0.15651888058501873,0.2117264658367834,-1.0222972488363526,-1.372114658964262,5.09785006378326,1.7640533702486973,-1.7908922198677122,1.1466135494973004,2.1153026088613194,-0.49724604493815755,-1.1171842260330782,-0.3231844663294676,0.798101588400047,3.130175328097723,-1.6019878909927716,-1.944860700958345,1.659133340811447,0.19662253202693222,5.09785006378326,1.9450420669514512,-1.1489712559719747,0.42111942379431,1.4105465944829074,-0.7789105250483096,2.481903459571096,-0.7013622449585948,-1.907270702780283,-3.1880891775127465,-2.180350582903779,-1.1218810264366172,2.378970910240069,-1.266475349588672,0.6143992860816208,0.5872574248332751,0.19297253275890797,0.3294308986236358,-2.7397175386987582,2.0653983399019427,0.47985628450899653,2.37374964718822,1.1215202974634788,-1.7947697952504047,-1.8964387239067413,0.33695654064001745,1.484688752902504,0.6304383236774558,0.4425998439956512,-1.4657228228022015,2.1335337485294357,-0.7131628767614259,0.14271526351841224,0.7298127343824463,1.6925492245989675,-0.27975876279532097,0.9136712090389513,-1.652879358361802,1.2211808880424433,0.7411386966878394,1.8220392150800004,0.29716256933161206,-1.545466289296639,-1.3648680541821563,2.1363071816090544,-1.1462893293814773,-2.276982683524498,0.6869281938911288,0.32288841904943455,1.5974989422019041,0.42504605031806864,1.5517001452760388,-1.314731003751472,1.9772090122234163,0.6171846344375991,0.3620603560571022,1.9708049461642676,-1.165086022668963,0.06752676535805308,-0.9049295594277953,-1.4397160348717675,-1.0071790449339573,0.14044155215694473,1.0867942983925387,1.3514069475364254,0.967841587390684,-1.6126603271253266,1.2567516015793625,0.9080109361702104,1.707694267276592,-1.8383940030072827,-0.31133933157236476,-1.1771626254366492,-1.784481982483545,0.6415266383471286,-0.3391896470092856,-0.41009246702116464,-1.71245789651151,1.413515404615069,-2.1353708155918323,0.8811463044751278,0.049841654019219125,-1.9312081769313074,0.4040404138741873,1.575049054053445,-0.7379114001800141,-0.17988070415811988,-1.7020630163002004,2.332193837466414,-2.1634433447283037,4.129425019713365,2.1639418172183245,0.47126889500074487,1.7529205243071497,2.1287582905415214,1.5496446951596088,-0.03674959073242787,-0.5944213950908048,-2.1684274001339845,-0.4293296198976064,-1.7020250474159717,-0.9689489039214694,0.9886462645955217,0.3991956713983568,-3.38209059424769,4.431741067966283,-0.6582619823106203,0.5364409585465668,-0.96859704402126,0.1783164937328525,1.158020851819833,-0.03519398002888636,3.710153765992601,-0.5307174575858815,2.3787387400017836,-1.8664584487895157,2.2276619306682863,-0.7265543734550088,1.3268960732693988,-1.9102064250114157,0.7974613275042115,0.9299214447536224,-0.10748948838878289,-0.499316101271125,-1.418673645165481,1.8394201542665214,0.11600518342342893,-2.0426168210771873,0.015638782761783196,-1.725437997769953,-1.2283445838771894,-1.4120529115117844,-0.21358971426398854,0.014475080340053183,-0.098260528607674,-1.2868240692338422,2.7100982278546457,-2.397078752118193,0.7431298763754332,-1.9414688932506763,-1.449735586559929,-2.3560528210125735,1.9815473497941885,-0.7298691601690883,2.815577472746671,2.517229497099597,-0.5830111273078373,-0.621708392036895,3.5880525448431917,0.8937306926642541,-0.2331425785417978,1.1032874779882813,1.1945992454226302,-1.2663318697971393,1.0370410895554782,1.0085461712465202,-0.2619407359988507,0.6193914444655559,-2.1090507963840315,-0.1524395656046192,1.2266042357817017,0.3100289270197026,1.0827287505822512,-1.289684772775841,3.3846713463679943,-2.0686243360594396,-1.1508340026112591,-1.620124298180056,-0.7450694088223052,-1.3604140983073696,1.9469302793473595,1.38943709426643,-0.32924787806671085,-0.6527317775765588,0.1880167310479231,-2.319461699698478,-2.1962037114447273,-0.2117150018976616,-0.040042684976020086,0.859971850738717,1.0092570586261917,4.912491210155948,-2.3690794790376586,-1.7620922024601209,-1.2226656212490985,-0.4117812635738971,-1.31018374174981,2.2909396070681076,-1.1781868998386986,-0.49299576775425247,-1.9883190233539225,-1.6816980828682597,-0.14539126237845684,-1.340112141359289,1.1095497955113862,-1.091300876316981,-0.6177506534862933,-1.6497373652110057,0.5683819553752346,3.1360201625482675,-1.7655559593273242,2.779361059172349,0.5600037038927809,1.271984968944667,0.5032425862051246,0.8691947685569306,-1.2812455965249616,-0.4464250575862135,-0.1582230963280143,0.012963045880195765,0.672688734699392,0.9158930894878395,2.5751602722475084,2.7037522280389554,1.8734784870115517,3.437037970001646,-1.77826539301186,1.3482467929791444,0.10909827934807856,1.4415501875824055,-0.9434406870820015,-1.4366533149645522,0.033370365090471844,0.1645174871365987,-1.0893732859416125,1.7025193413471922,-0.9140346850505376,-1.6538032420508078,0.0017696362482301805,-1.4530483738909257,3.1422416013960133,-0.4246813180445789,-1.365398541113325,1.6925492245989675,1.40439252506788,2.1462686292551227,1.3373226945948702,0.47289401995488,1.341488221783157,1.781956616392715,1.6290389700897052,1.6213171266217192,1.2516844380558239,1.5251224918603,1.63033362333077,1.0828949352453565,-0.474710383813273,-0.24040592455036355,-1.8352242734239657,-0.6192926329526199,-0.05964000556469318,-1.7323639013039671,-1.5788808721443683,0.6232372945596112,0.32301820674082865,0.07887180271455704,-1.1978447233088663,2.777064087747908,-0.5922889100945653,-1.3923970789878974,-0.7350946129122123,-1.4577492488578503,-1.393277291281359,0.34184331338602353,-1.2731726748460517,-1.699825224908285,-1.8740724819694103,-1.7782623009430807,0.24609686834573383,1.89484490305689,-0.05877957183790159,2.1462686292551227,-2.5544691443097434,-2.197534692272365,-0.9433114009027695,1.1926277619203363,0.2670218689547621,-0.5517234896200359,-0.33837791349751073,-0.2599373609309304,-1.478040329297746,-1.2500249846500742,2.891924406323751,-1.35952128981093,0.3855256361989493,-0.6164577633953299,-1.9728894887590156,-1.0513636053286277,-1.1750135763577387,-0.14971709094394703,-1.7137307500818002,0.7213647718031047,0.8530025942010465,-1.6395646444843854,-0.9155846627597061,2.1182316480841714,1.9834376209341904,0.09472428552194376,-1.0620657123552961,-1.8105757336468284,0.9183483674840572,2.473138891289357,-0.6059907141448374,-0.2062461236204881,1.874556873085758,0.40909222124217853,-0.2075739997175539,-0.5523305077958468,2.1348583237210157,1.5767196085884856,0.5067433793476108,-0.2331425785417978,-0.5308716850058686,-2.132974011863916,1.9064265818736283,2.44632463349772,2.1535455030592545,-1.652878408771542,-1.3797949301853385,0.27747930829573936,1.300669259888004,-1.7942307089572274,3.4025174704744154,2.377937714362385,0.37822697543405037,3.1925756413619384,2.1300133011811924,-2.0308361475062386,1.3332758947733683,-1.3495796625355512,-1.0139419135410908,-1.427126681474176,2.2256261009738254,2.3160691299935596,0.050322817040858815,2.1462824160480802,-1.8740724819694103,1.1237618846619388,5.072742769292677,0.24402167967004632,-1.9310054082645018,3.1060063837047482,2.1461786528163045,-1.5341723210334577,2.470257076111691,-2.2034828917606286,1.2364818552823424,2.3827789204004954,-1.7243592660238831,-1.9907871263628023,-1.1610768536384095,3.31585225934987,-1.4926945783016996,-1.0588482330315445,-0.87650100099788,-1.0524292415962662,-1.229047913414227,-1.6378612187055954,-1.3169914184751885,-1.6704483297194839,4.443161822166091,-1.9421992662330976,1.1860408714682877,-3.333193065938185,-0.14470585023319338,2.45687623535536,2.7194007633657344,1.78359378184711,1.0827682784560104,-0.9869724886013967,0.3777391431243162,-1.8348020455661054,-1.6250544098212063,2.1229110635190165,1.3738736127637932,-1.4218766285045146,2.8633618699265106,-1.2632477252981489,1.5260109441875478,2.5235152334822786,-1.3543310537004385,-2.3212971638400295,-1.1311079302938174,1.551280898514955,-0.3314718380291168,-0.4416583427795583,-1.5666313931705942,0.7293672544362645,-1.7292618705223883,2.7896663612647696,0.34158183447094403,2.3066430738738752,-1.6179085283904968,1.602524626492169,1.6113912670559816,-0.9433114009027695,3.4551325335442065,-1.592749175192407,-0.30046470926195373,-1.2762213487905443,1.060974567088481,2.2443842365744398,1.0334161463129785,3.704674979588941,5.263358373032485,-0.32787416929671176,1.4950312990054633,-2.8934311155250927,-1.8074088196237923,1.1237618846619388,1.4130437809524483,-1.2248737284303848,-0.7381497425505734,-2.061980505752334,0.618096303953905,0.4977531866906214,-1.1040286923267253,-1.1375807080845524,-0.4320567221688688,-1.6763164913349955,-0.5830431967239399,1.5223523053543828,-1.8297105806258416,0.37286979832879674,-1.275653723461399,0.6304383236774558,-1.5543016751922625,-1.6230411028698843,1.1032874779882813,-0.6856043907766602,1.820164101946533,1.2970222290720932,-0.16380710347716823,-0.21608548210366219,-2.0571656119756914,1.8080439824594094,-0.9834336554530846,0.14160014439998592,0.33873006741145917,0.4230272069683815,0.41510809321882225,1.2623749911017403,0.6088131831492143,1.4219541793047548,0.2371059779004021,-1.3618759630471087,-1.6800900363966846,-1.615760982125248,0.046461054980100905,-0.0036158610653472204,-0.26089919646943766,-1.743116542603852,-1.349639252023764,-0.14539126237845684,4.1848754437782425,0.44210935654895356,-0.6908828197427698,-1.6765410422758098,3.940579754150338,1.2140467116847304,0.7663047654279096,1.7394892737801648,-0.9412402071327335,-1.1934469213608507,-1.2696543772995357,1.8477920834597192,-0.278816748759524,0.4880655981750143,-1.567413193359369,2.3596390513555368,3.3518805441332047,1.79467572991851,-0.6462628641749516,0.1019598099400807,-1.6008967894439103,-0.3522676165746497,2.7236712807695693,3.4493453633834505,-1.805773014563672,-0.7846041677426501,-2.190816743153816,0.8096073124838277,-0.7051423388970386,-0.8732763712170143,0.7522649379404196,-1.501226542481455,-0.28403441344170405,1.0828793090056998,-2.464349142782525,0.10984337111048795,-1.7223170303577207,1.1864943232120417,1.0051201125782128,1.9477316475229234,-2.864176764760626,3.2644356939243493,0.7061451960674926,1.023611473030557,0.5280532032972453,-2.581798710685302,-1.6545151075216669,2.5820630940201563,0.49730213909576226,1.097696119951775,2.1639418172183245,-1.517779077492888,-1.1544848598479942,-1.2668780629481333,-0.9370021904661753,2.6724970231636473,-2.4141823528146893,-0.09532365156493007,-1.7412969590248277,-0.07176829047587938,-1.6765188282088708,-1.5694839898516622,0.7766833702037139,1.3373638643520258,-2.3705844746867184,0.9326981633716199,-0.2085537995512698,-1.7591655016586876,2.850732080776945,1.9547314101015971,-1.5960692562124128,2.2321462985439973,-1.0615161633231773,-1.759656941628913,-1.6003932129851608,-1.8949312316632847,0.7760675192664647,0.18113590731853005,-2.4091113634290076,0.4671634745297151,2.5885795679139214,2.51879968155821,0.9080109361702104,-1.0781949116469174,2.2127481642527016,-0.4476978931485718,-0.8445207539184789,2.5214940919940614,0.9018926347045988,-0.47896785947411313,-0.3646170226714246,-2.563584968275006,0.1765268728911707,-0.6182044261556761,-1.1869584447425803,-1.8610891772170286,0.9339599776985881,1.013096691635669,0.022313615014023413,1.5459508267423505,1.6463763832624003,-1.483002851170295,-1.2460505299104985,-2.581551903270554,-1.2243497222831645,-0.12116133052387654,-1.6202428983267905,2.2650702389808735,-0.6536156681868445,2.8633618699265106,1.9601049590020014,0.2931131391025775,-1.3923970789878974,0.2195564244655675,-1.9867310900659427,0.508713277256778,2.0769827030864985,1.5275539491905612,-1.0676544392401703,0.9043110256656771,-1.3277568227717336,0.6474152596111278,0.5513390004589973,-1.3874499480508717,0.06888923227839655,2.122468243853846,-0.7166456621485924,-1.3528562631742138,0.3539762131744195,1.5314807686063845,-1.0790852658917855,2.2580962087204703,1.4440166154919392,-2.010114789782582,2.3836012307079697,0.7853416528951774,0.106529040918622,0.7595910853713037,-0.7316574506885853,0.2563677956759154,0.09458865193674294,0.9750452258961696,-1.3576618580487103,0.11848356519725188,1.4109349802649123,-1.4714696129868756,2.280163834327125,-2.0595405416221597,-2.319461699698478,-1.9434109339813888,0.00350718692277665,-0.6163458840349512,-0.7650583625328045,-1.1785788468567466,-1.5057782912682887,-0.6556735492493022,2.2650702389808735,-0.3041112934193616,-0.6357204624140977,-1.164026458806487,-1.9143804059030611,-1.2436472693419254,0.2937936543469353,0.4264938793897116,2.4638203212290795,1.7152133230307525,1.8675936644804583,1.9260399054467932,-1.4245611200162387,3.7975843682124766,0.71901787279678,0.9642076063188508,0.014475080340053183,-1.0104102254413436,-1.6378612187055954,1.7395794423424704,0.10952370856876623,0.3176117072141494,-1.3815459212637542,1.7279443895806308,-0.7846041677426501,1.0270674150243608,1.6582182654364692,1.127764972391003,2.9151847235420703,0.3850373054318081,2.470257076111691,3.776989441994396,0.8926851466946878,-2.070273197277633,-1.339497556643553,0.7065347945074753,2.5019074836289965,-1.999075049328361,-2.785811073554938,0.9613102361939335,-1.5170100268081952,1.3102297246882366,-0.24439133103563865,3.042686039979476,-0.11503621558302113,0.22016585316152834,0.31280107743980734,0.5683819553752346,1.207208716694138,0.30614166791103065,-1.2983555384041214,0.8113857498749437,-2.1069638606785657,-0.7998162887480719,-0.7605787457275394,-1.0147529933951949,0.9375412967159839,3.277501134802305,-0.550458521074386,0.5874251198615063,0.6072502192247833,-1.409579408795206,1.435242141497154,1.703358271985942,4.281218204596508,-0.48258408119977125,-2.173449710714667,-1.3574083537441177,-1.1626384590270822,2.219978001758595,-1.6707870387792414,3.611344958627453,-2.2140870796313505,1.342775006594056,-1.7465085479962463,-1.4068670513297543,-1.46690850652849,-1.1935768023677729,-1.7459208229230994,-1.0422508802085422,2.7901932249864023,1.3712580822217402,-1.8185871823958968,-1.254325061921653,0.22425176521086007,0.5800986620359264,-2.374508574544048,-0.07137136655755702,-1.0496371494167618,-1.340112141359289,4.436893886221343,0.5656094084934108,-2.0288623478433947,1.0830239753161055,-2.2748297703553835,-1.3031039832186464,1.0597428432196918,0.11328489587435858,2.726195094143975,-0.6906381156161053,-2.6874391943736673,0.4252009125792529,-1.8998685587086404,1.9353825071702913,0.9419082420644899,-1.0701637392413599,-1.7104661137166293,0.1324080664965191,1.205008457697237,-2.8269134366236406,-0.07155274421079486,-0.14945329592219256,-1.9929255263747394,2.0588859195767037,-0.6402674158400585,-1.4131126392961346,-2.91303191652958,-1.244074019952455,3.0397684859361145,-2.482372229519397,0.6833800226492095,-1.7043037201593865,-1.6676497067599012,1.0592939493923028,0.9729573308417938,0.5562668585605498,-2.502417615086454,-1.8663145896353557,-0.7459739309182928,0.6151096867841865,-1.4402821559882966,1.8268386538919268,-1.5883755166455031,-1.700710757344545,-1.7785755100580192,-1.7583203634980373,1.722612358371529,-0.6896711266888829,1.498865505309385,3.7106808075214626,2.8174290459118305,-2.3690794790376586,-1.1951939876649686,-1.958041091299448,0.3091460691356095,-1.2276463831416922,0.4791865524892509,-0.5520503789967184,-0.024068566809084813,2.7796005015375167,-1.8083618139409787,2.540761075714667,-1.7467656953308939,-0.10382750911559488,2.815936702189196,0.12135367162621113,0.9858433410862454,-1.2742981766861183,-0.5991483022369901,1.2841830738893998,0.3130840560544713,1.1963485713705915,2.833057210833528,-0.8289144233631841,-1.6172072258507775,-2.2347243828694796,0.0710229273744493,-1.355052113377232,-1.4747656420003985,-0.7710794944745061,-0.5841747305992534,-1.8231059368931959,-0.278501647840866,0.8553462380655048,0.5067433793476108,-0.8737501737162195,0.29354043525918216,-0.9811579104249527,0.16274424632210907,-0.8845181985954284,-1.5767572108934012,-1.7832757716097698,1.644502764783642,-1.8556231372933822,0.7522649379404196,1.6614452395099055,-0.2030106419088637,0.048979111301765604,1.2386035168879814,-0.17646042261834402,-0.4050007664395318,1.3714161578797035,1.1509042640092235,-1.6641579224824148,-1.4413088938671401,0.6315304072733599,-2.2827589901584293,1.7152133230307525,0.7793979842323536,0.723085850986912,2.608390338549565,-0.968974192946893,1.0848976628963385,-1.7413406192672223,-1.882912394186921,-0.5292883622796695,-0.6163458840349512,-2.0633224367723293,-0.25163554558791634,2.6899622311927516,-0.3114399708105237,1.8999686351896203,-1.979873461766769,-0.8131921037977607,0.45809976128896923,-1.3962825376754973,0.1472672509755669,-0.2559344228036602,0.29145613605482046,0.572617157802685,-2.55507755027554,-1.4863270718540669,0.8510379906424006,0.4228179035488211,-0.5495618885638787,-1.5089554170669157,-1.579876577351061,-0.5505985163203803,-2.5421161462538295,0.6077905302818225,-0.10582680314451776,1.4072226423386782,1.340841629729689,0.1403500526152324,1.7355474473986667,-1.240051254254148,-0.7154656059694238,-1.5415097266668554,0.47198006204345005,-0.3110122584668381,-0.3314718380291168,-2.119741996395124,0.8363056124264834,0.4000264622699026,1.6031495994760978,-1.1602410243525967,-1.598817826176967,1.8577173231589794,1.2824390981989313,2.2300944445263675,-1.5516225352543864,-0.08809124807164762,-1.8188714167496036,2.5880999489167387,-0.543848152525218,1.9506464562782904,2.0111198285020997,-0.6745904574689592,2.300949475150209,-0.7117314215486087,0.6633137531591254,2.994326460181441,1.318121627988449,-1.4706822038413803,-0.545953980226445,-1.3446112382730617,4.849163795404033,-1.356981047540357,-1.5505936682059493,1.3918162036353752,-0.4102717174484395,-0.1260653668892523,-1.0494541074433366,-1.0328557106579996,-0.6619714345872918,0.2441201829076126,2.1968897488385473,0.36603595768251823,0.6621461262132343,0.10198699846357788,-1.462449527555656,0.621696015530256,1.6113912670559816,2.892144457702595,-0.5119512220219002,-1.35952128981093,0.10985441356050474,2.7896663612647696,0.6471144810554328,-1.4400874496620528,1.6301540228406828,-1.381810408009109,-1.5030059426966016,1.7775567349116388,0.6524242717517069,-1.2983555384041214,-1.44911496355969,-0.8295182725559591,-0.7548389124934795,-1.7029756473845197,-2.0520213527452964,-0.573068688598486,2.0397026290805353,0.050322817040858815,1.8589745363587593,-1.669158515358935,0.9201435894211568,-1.6277028948990286,-0.9340216050369083,2.173863633958375,-2.0901219357997918,-0.3094626383921246,-2.475095139711735,2.5880999489167387,0.401476288120638,-2.140254730318943,1.970884673327412,0.08851556512881774,0.970129524624825,-0.5345247060529582,1.6601897085959367,-1.3625499214452166,0.8632735135123891,-1.9412680469273942,-1.307538341200135,-0.25163554558791634,1.0887997339047772,1.2724044336513518,-1.1918034241395534,2.9346291209185686,0.16764124725813584,0.23779435211623298,-0.5176894593788804,2.057497516403817,1.5313920623481987,-1.359055660681686,1.5043773028571858,-0.7531912290675773,-1.4238538800606528,-0.764859212661437,-0.2175501318253082,0.5408251358324596,2.133386643754917,0.7218734443622169,-0.41009246702116464,1.4179049253896314,-1.7071365521525477,0.6460903189913046,0.4290919894908769,-1.5359825696554468,-1.7006349515049712,-2.243665053459517,-0.8495564437936123,-1.2866138742102962,0.7755582658109331,1.2568550722391632,-1.7312981008993604,-0.3666869308059924,1.2814224294606058,-1.7246534659578994,0.11938514608110859,1.1574922303740616,-1.7310306815141103,2.485645688279797,-0.4882609440273002,-1.4309578304070814,2.287770163097955,1.354566970770746,-0.17143628454533433,0.6683789533571104,-1.4628845041295935,-0.6372037380409031,1.2568550722391632,-1.6008967894439103,-1.5928272099691612,1.1420454807363178,-1.2119548252640462,1.9234092455157796,-0.16646817936559147,2.2254729346883373,-0.8027103704895568,1.9254867211042126,-0.8850190136367118,-1.8678158416395667,-0.9865611982452749,0.9613102361939335,-3.3128454984983358,-2.6177516528168665,-0.4206748981754747,1.4778151714947863,0.7855520367792265,0.2527393308290916,1.6493856681165309,1.835170908562528,-2.2159359601341166,-1.1921279034922383,1.9738776787728662,1.0683479520185788,0.6550246508595031,-0.5972120917801311,2.3224733963016075,-2.197534692272365,-1.2726851159284467,-0.6613365532009478,2.485346767875485,1.10956180812646,-1.3083775705926324,-1.2148965887062595,-1.8265535515526212,-1.2597417985652868,-0.0023956479138162326,-1.4133270885329612,-1.1712420564574313,1.9469119728502398,1.3184883196658101,-1.8529774129320595,0.7600399155178106,2.647795916296434,0.8371125957453444,-1.5512956965238196,1.8835546327695467,1.820164101946533,0.56287148813891,-2.3690794790376586,2.1347240856343674,1.0574784322129478,1.4602775738812737,-0.3244163926921088,0.15790011835892187,2.4248268386165894,-1.5774263345031974,0.5036850186655594,-1.7229150339868355,-0.7323665894622421,0.5332713289440058,-1.1771626254366492,-1.9421992662330976,-1.567413193359369,0.29247764678862354,0.6229255415106398,-1.6906952154893888,-0.7458385663343611,1.7646191396427786,0.9850334077573748,3.1360201625482675,3.6715790646999023,1.6257872394716821,-0.8298756287688468,-1.021292602125943,1.000162414619204,-2.4670448331881056,-1.4899450682673117,1.5187728387752997,3.4025174704744154,-0.704668008077768,1.061459881184008,1.4231117584142665],\"z\":[0.08915286816922545,-0.36854521032403015,-1.2923596272704525,-0.1149301295867766,-0.8114561989354723,-0.6291562163500954,-0.7247287034942307,0.30693720511443096,1.6499976522970776,2.005391907002331,0.10115905149345755,-2.3480831420380484,-0.08667973849100868,0.14039922070801053,2.923458673402603,0.27484124623541867,-0.7630588745930732,0.26040061980580365,0.015512381750672006,-0.31082647937769586,-0.37135957346667303,1.5623611641196782,-0.899711156240469,-0.41809503152282035,-0.3455796554226715,0.18790321037820099,-0.30609511357145974,-0.4090237050942394,-0.15279768953617212,-0.942249935974225,1.1940194036771477,0.8511105678180514,-0.9943449923521591,-0.03757572342386446,-0.8368098598770071,0.04895096288866073,-0.6872014370235889,0.966591325525644,-1.5904057686670205,0.21606301162226085,-0.27209570319063137,0.13263701387239352,-2.858390540701179,1.5826553580782936,0.1083671816806349,-0.06833283240820279,-1.5612704814307856,-1.404367065109103,0.08265973898004758,1.0944310056881494,-0.6792928899746953,0.4395647815332887,-0.4990701163634853,-0.2611400671031591,-0.37914969362073514,3.1506292924860104,-0.44392437275277086,-0.5435787086353743,-0.34011422027161603,-1.4818301814170862,1.132856889626091,-0.019305794295382997,2.0660622281981627,-1.3989944322170877,-0.3848492963992985,-1.1844401890580394,-1.5871106361950085,1.4531844806809713,-1.2299207450506873,0.18151249636454891,0.5440524121150446,0.8302940750924639,-0.4893730760829536,2.1143837143173534,0.38442625367927236,0.2077990019497015,0.019799191264607705,-0.942249935974225,-1.7449313062364393,-0.3825094372135831,1.6265786798528363,3.6787052920832277,-0.8911671522316609,-1.2192833184152698,-0.030672811640555717,-0.36923551115831776,-0.1430077785678359,1.3338850862810887,0.131947485846262,-0.5522147461071079,-0.9751459416285463,0.10965514781681722,-0.43311565982038797,-2.6255219714690665,-1.3576870080949686,-0.6297115910250418,-0.18465701140469715,0.09964598754156205,-1.835802992211598,0.4795979621608902,-1.3445212815444898,-1.6566930117357488,3.557017704904713,1.0772420593119876,2.8396983651348213,0.5074679682802651,-0.01530924166434438,0.6330166150440628,-0.9113953065868218,-0.36175233632869913,-0.08265311304279047,-1.4213551346113575,1.2292891312855256,0.4538651565942914,0.03738573678556129,3.732003662117056,-1.596436738332758,-0.5012667932209929,-0.38141475406188907,-0.8837921516169573,-1.328702819087162,0.37891469296943314,-1.5677287536163969,0.15622727266532077,0.5723568604489871,0.6485812930415606,0.3064662293573821,1.9093071601966363,-0.021499532437781535,-0.7332412573429115,1.3279301524803164,-1.6307766549460136,-0.5111517394278116,-0.17253156006707754,-0.0662215792156288,1.253266735792239,0.10004262476090092,0.49218909518522214,-1.0415432277004235,-1.3733569452311574,0.6026364899733079,-0.1020674016044117,0.036975258881622224,-0.4102827990460994,3.59648961806629,-0.13626462502768447,-0.3143398456034555,-0.9298891094250118,-1.8177760779636227,0.535263503198259,0.003773942570625043,-0.041004207000156986,-0.2773425896831846,-1.3845042524381874,-0.10517878883780107,-0.4454507909514821,0.7965927330888989,-2.202177941714181,-0.7131143992690233,-0.30645639274207553,0.05098437630504757,0.12900269342043907,-0.3119656026334313,0.050573392427982915,-0.7636000977223512,2.568469829979695,-0.2965321518064753,-0.7385051085055815,-0.5522147461071079,-0.7280319294523747,-0.1443632222123899,-1.292090499456343,0.0868782976553125,-0.6523997764235795,0.48827275944374016,-0.5574546324162768,-0.6899255925610123,-1.3665813668443478,0.08973732184975057,1.032433263457527,-1.9550174063368524,0.016047997013839067,-0.11618329664296959,0.23175084896004175,-1.0670448578248144,-0.34323334490644336,-1.9815301240956433,2.1003719472195432,0.7717338136963463,-2.395869261326686,-0.9467731001938346,3.791568503331107,0.004454524506272031,2.370162203584547,0.9809367865660317,-0.2348754091594666,-0.7778433664914077,2.0380039206215765,-0.9020674462761723,-1.5887655756431032,0.37573293819666875,0.31742216830163905,-2.142758293974847,-0.2036305718166574,0.5804771786901949,1.908391118914622,-0.1666271348289827,-0.18949542065012423,-0.6810112653378168,-1.295511243828658,-0.9476845084265992,0.3875736397440856,-0.27583707035715527,0.2546014477340964,-0.2179740607019925,0.08141568033373806,-1.125160710093962,0.07736197420416226,1.3436653956939781,0.5957413873021957,0.057847890896616266,-0.7874351270561221,-1.0275713800058959,-0.05038931636902535,0.2280302471299535,-0.9848276415724058,0.16948537700528016,-0.49974738004425395,-1.8225029717627577,0.2948229357078004,0.435173382106367,-0.09231923796603417,-0.22603752789095077,5.502815246585668,-1.1022340814552778,-1.4020803765829182,-0.8199699974840515,0.32155583937717636,0.14012600705172684,5.8676338757146596,-0.7210122910271203,-0.33957170093740946,0.36645064397570354,1.5387577516215332,-1.02089751118212,-0.35377774191645023,0.47799860291328944,2.433835950573577,-0.6523716452033386,-0.48530482407197056,0.5578413811404276,1.4917841458220038,0.10008796746418537,-1.7346264701846168,2.2271136553474364,-2.181638898633315,0.04945036217397394,0.8571240059255202,-0.07076334982651432,-0.4377781536231658,-0.42642063478003395,0.024314414266276476,-0.9740994804752561,-0.9656147949026189,-2.0617329852002815,1.17150474851884,-0.48347724818214166,0.008567402549737065,-0.2179740607019925,-0.7630588745930732,-1.341764271146638,-0.16191783802554774,-0.08057403895937469,-2.2533183619974557,-1.1617759730616775,-2.490936626029168,-0.09736562140622199,0.8837938198346104,-0.12003088643067128,-0.22658287637822844,0.22159718697159494,-0.04785625414597393,4.838626727161261,0.4139191870876844,0.3365693129191321,-0.9656569054233676,1.0800630695186693,-0.340973721325908,-0.5659276010352279,-0.5207258041382956,0.07157402848867873,0.07339262779778097,-1.443257768271725,1.1338301363176748,-0.09013641725003686,1.1086265900777381,-0.21703041392852337,-0.19145861106085124,0.3099031874079137,-0.8987868076528552,-0.1952122036539787,-0.5261469731786291,-0.08412948425529808,-0.5916997177055257,-0.324160744946586,-1.1811072223358958,-0.07562662265780362,0.082875875832771,-0.33239192313192406,-0.3816975549508428,-0.812567482842427,0.3916131061466212,0.3083426715687054,-0.18786426119479202,0.5005719697653851,0.2713981170384193,-0.23686571313006283,0.9531326801493896,2.3301153354862727,0.23107472561782816,-1.8005880977455455,4.159309313655672,0.3729058555536132,1.6119939416656697,-1.3226344787638213,-0.1961377884385653,4.95580381209791,-1.1450179398350382,2.4773360256986683,-2.347932774029563,-0.2318913695527238,-1.2039018575616012,0.3205882452324449,0.6137911227828985,-1.2308690319282667,1.0314693169545959,0.6853647821209551,-1.3385705434887873,0.5965168872734592,0.03165842797519554,0.8462067526708277,-1.3271913249917349,-1.0161243880526023,-0.8710071128741852,-1.3109211484546572,-0.6039638835516788,-0.20494623723104965,0.5578413811404276,0.004266548769655414,-0.7229602104380183,-1.848941911566878,0.01009552801733229,-1.3609663637206815,0.3110611420177201,-0.15838930306516152,0.26329692609596245,0.7644792581472397,1.5511465357499803,1.6458763458080397,0.3963221908928194,2.186761635310231,0.6373337294195398,-0.3878997433422012,-0.11888289625002314,0.4864156266750603,0.026254499153584576,-0.46792608142069386,0.49218909518522214,-0.16738707529595884,0.055371795628590285,2.587366321725451,-1.5746032832732137,-0.4603255166493503,-0.28764477673032296,-0.6449262919291668,-0.09281711053393547,-1.950067783256684,-0.7364726102750911,-1.2480363309742426,-0.8901821889947849,0.3287121972004929,1.6582858381413168,0.30931694709667673,1.3884431218907225,-0.1224049585105443,-1.1901133614423651,-0.2576225926369304,-0.6595429930992498,3.0192091436298196,-0.41296319137030435,1.7417094680652223,-0.0755347886864468,0.4286938498679504,-0.2566904981636251,1.5927849943832928,-1.1486225966337649,0.9270718000028246,-0.6100904242109942,-1.133978392647615,-1.8496651440978333,0.7994941606813672,6.67795030655832,1.8353734245207496,0.5712680674554813,0.048677974586015846,-0.1430077785678359,0.08197789828676111,3.0702189776598727,0.46801579122024645,-0.0076230484152873,1.3317381241598512,2.652448263078198,-0.15637312652889093,-1.8555142798778805,8.440065117249167,0.290088147462935,-0.867838673165592,-1.434035071333257,-0.15755277117202945,-0.5598001900606766,-0.8497744501170819,0.0702013743727071,-0.021062450936240432,0.14044127689770147,0.19623668963533974,-1.059969649573222,-0.49897256224921244,0.6373337294195398,-0.4260329409197493,-0.18959711873467336,0.0727704352148009,-0.41998954469329064,0.30023206422317383,-1.504269736298103,-1.2234349039853838,-0.6598949188184672,0.06090830387074821,-1.2377352524202754,-0.4194347782584568,-0.055914431825599645,2.2186382051368296,1.9904539413348983,-1.4793861091495313,-1.855416847246043,2.130896890673277,-2.7471773252042757,-0.37158216456008586,-1.7346264701846168,-0.21407874694661128,-1.1443049699285774,3.7331208769608755,0.5504985157220829,-1.2280813463420834,-0.07730507060231921,-2.137020208103917,1.5349584286007956,2.910597248426751,-0.1375754229572088,-0.09124276428941536,-1.3482387370050166,-0.4988757478417068,-0.42441487491886903,-0.5640963042096278,0.4536788956089395,0.06399837749311134,0.0714197307117631,2.588146487213146,-0.32159186284692287,-1.4013558556803334,-0.4805690272648055,0.10662635005118992,-0.7669944786458476,-0.032744725509530885,-0.3206426760101625,-0.5938769891163659,0.19799597552476617,-0.23255551473517755,0.22872369063919676,1.0315106381280603,-0.9662107744713654,-0.633991676071946,0.0137353217334466,-1.4743515383972594,-1.498865068347704,-0.060747898275361395,-0.3399481291602489,-0.014314870140510241,0.17969255062760336,-0.5598001900606766,-0.31834831403686176,-2.2528159088944197,-1.8566082245054065,-0.26352046205890883,-1.3261213422503129,0.8833128961805697,-1.571703662434751,0.7909942436675845,-0.3825808785911783,-0.3219525619750941,-0.5941859125259161,0.19934364134790705,0.1566445537425275,-1.2562114076874993,1.3122715337101354,-0.16987940929070772,0.3162361564524929,-0.5385226093150794,2.7410139771368787,1.4135550452302992,0.23916864195106946,-0.8376499962811458,-1.2751085137132905,-0.7328736620937327,-0.5286623353463195,-1.284053305729413,-1.5029299606362847,1.6077706551700308,-0.6444551886273088,0.10942958142829053,-0.46455324362314826,-0.49876614005021735,1.1729963333268734,-1.3282883824474017,0.26953762860437497,0.2311294161746562,-0.14679484146296307,0.3947493513857347,4.261013689610711,-1.4885738823910994,-0.349063144860422,-0.3855164192082767,-0.2730956300368501,2.041053432254686,-0.10251665116090845,-0.6428460318866528,2.325927092151284,-0.5160632348827165,-0.3946085342672015,-1.0404198750143094,-0.008596130598164942,-1.1150567168957508,-0.5521363361340458,-0.3496644100851932,8.133438580440023,-0.07340721444908056,-2.1778402708614006,-1.1857461911306872,-2.435132308368628,-0.7091511420132683,-0.9214736402498832,-0.23995974999416037,-0.31480292569223106,-0.1894518824644099,0.24547759391379587,-0.33477642880765435,-0.18665456250305457,0.2762041182221686,-0.4861621088067937,0.25225587749547634,7.17310082466062,-0.05607092431936488,0.11335756788744622,-0.21973297087886426,-0.2025526317881605,1.5586579461817784,-0.41809503152282035,0.013266799958241057,-0.44440394522752324,-0.1565050055226988,-0.2579140742340099,4.144749694340386,-1.6539832119746136,1.0507352803526442,-0.8603523975976174,1.6004229566985921,1.9271247360074264,-2.5882056215903537,-0.30502418739128767,-1.2861575333466706,1.536219459557221,0.12049905487949858,0.239848246724912,0.04417838449232396,0.30892099390902256,-0.1538617489089889,-0.9604302260524534,-1.6958878301594777,-0.8132531150578323,-0.05068681314628662,2.257922425443409,-0.6872014370235889,0.14821939683664737,0.07427881052471978,-0.28414172492389167,-0.46875241646034216,-1.0463604115806615,0.4030981209368721,0.3099031874079137,-0.002950045036428888,-0.23528489912634593,0.3358091883053201,-0.45465153738078684,-0.21716455597139528,-0.671360197842513,-0.3201696351746688,-0.36249492244768805,1.5686179092978214,0.22989780717937133,-0.13430377562828857,-0.15216631062810776,-2.0002834133396865,0.746903871887456,0.26650511938269467,0.4214045470293665,-0.2548029941181304,-1.211025947614563,-2.435132308368628,1.6950783358360897,-0.14434202331416252,0.2824301813190194,-1.5152196090866694,-1.342744811051217,0.846283339181149,-0.3211733224910743,-1.5746032832732137,-1.355132617397242,-0.028504406311663122,0.482975933517498,3.2140073608278263,-0.09618172021173943,1.4692272627553364,-0.10877677432880281,-1.2479438521370125,-0.9052677559670395,0.006117844659208276,0.5434422582700688,-0.9688406827503199,-1.2585487643728321,0.03508907617249058,-1.0972153379750844,-0.9067180752752294,-0.7210122910271203,-1.8574004856324424,0.6393776504191512,-0.41309089530013937,0.026254499153584576,-1.8796224624710636,0.15456443826878796,-0.5017953938204549,-0.2025032878288639,-0.133975413659454,0.28891980287298,0.18216484548739922,-0.5989670383346886,-1.5062340902455427,-0.7035386778478881,-1.5468203751965581,-1.5289906032160576,0.3110611420177201,0.3551285097305039,2.5560225893966995,-1.9349381186566177,2.6321482727297814,-1.339080733986182,-0.5197381906028383,-1.6417977650051472,-0.8358746979784406,-0.8949662413274255,-1.2636221357741353,-1.2151987869370193,-0.4486881818913678,-0.9323563642561581,1.4468470300013316,-1.1481001578685033,2.470265349952289,-1.0532973680080382,-1.082779908901602,-0.27752764919221684,1.4424457968442208,-1.0197393169330407,-0.2271574531403579,1.3828254172056385,-0.8446785896795517,-0.2366632143520941,-0.8690323578818293,-1.0288527131255654,0.6831940767973157,5.010971711385088,0.17795909316642755,1.0314693169545959,-0.4614753298363953,-0.3093865166768279,0.5073004602457033,2.3301153354862727,0.3440744673790703,-0.4883825948215434,0.05930624616585638,-0.9303902438957401,-0.21803022213040313,-1.329620781956457,1.2657394247199374,0.07697617279553479,-1.3049895512255891,-0.046215213240099244,-0.05408063448396949,-0.7690963087668498,0.0680286084250618,-2.488673084732912,2.695897884761651,-0.7778433664914077,-0.6006870685938462,-2.5328167012719813,0.32292990411550315,0.36049803338227526,-0.17344960046996752,0.23712554150129075,-0.6792928899746953,-0.05260658244120221,4.480029088387842,3.899943746443997,-1.9759309657198307,-1.5317946785071377,0.36915202396767877,-1.2015633295010604,-0.35348782678744617,0.11315541915603558,-0.5856843681116155,-0.18129084182547212,-0.5261813267528086,-0.1578869479710397,-0.041010501404588416,-1.9515474538743636,1.03955316825313,1.2340670911356646,-1.4258370163426681,-1.128139074882171,-1.8796224624710636,4.174874531102407,-1.6234903553890574,-1.5634223903132205,1.3103498566196508,0.08310121310061136,0.046135017173874616,-0.8063179810801756,0.28001927887460254,-0.6067317248362921,-1.5427760867793912,2.4662889841446725,-1.9168499576173417,-0.6931498909484388,-1.2596602440173632,-1.4525382668325408,-0.9942091656086686,-0.5092051864313375,-1.4953387112785501,-1.610468169673859,1.4313638128492039,0.06119405980896085,1.4251411571952932,-0.3012544974258753,-0.2971753983099245,-1.261458810572775,-0.47314194618416466,-1.7226437380303143,-2.0126179136708724,-0.4693423906776815,0.024402015107118296,0.02694088682534165,0.11390275209421154,0.5209286178840167,-0.29628177381762405,1.605119171439667,0.8147474989921683,0.21513921267151642,-1.8002816700433821,4.091351832094113,0.5077103961938135,-0.24660019524150426,-1.0489944469589954,1.2580329659293588,-1.1887230374590163,-0.1722165882975086,-1.9806010438085686,0.17593874087786737,-0.9608782791138434,-0.362451171093534,-0.5916124080745332,-2.1477291068104907,6.110745786111935,-0.12898923629926012,-1.0734174533432848,-1.0325995038071611,1.2742453583064275,-1.669197753887218,-0.14833921626197855,1.6666005935245383,-1.7248907264772377,-1.3134793412259937,-2.24792772983582,-0.824107571571027,-0.38899311499694034,-0.6690087957770585,-0.7379748554429556,0.26517021747182146,3.25877833263138,0.008582247302601122,4.002129821355877,-0.3946085342672015,8.133438580440023,-1.2869080258683294,2.7301623862374935,-0.05330727319476999,-0.9278240444482947,-0.050434598988851866,-0.20897665179425418,-0.31113216981199504,-0.5502048773280098,0.26756664271306374,-0.12507391483338798,-2.2796418079406755,0.15571546905394723,-1.2853155275280255,-0.11734283043110887,0.30131866085914016,-0.3189606122516377,-0.9018422162609875,0.036975258881622224,0.3396877358920936,-1.527668206650168,4.989216520385021,-0.6227070530467019,-0.3196079896650254,-0.6759134055174699,0.025780537872472406,-0.13747240928270682,-0.899711156240469,0.11432798391034059,0.5301069238676566,3.9021825684852263,-1.938046364442683,-0.17946770082916733,-0.6694675762658897,0.19552750165253688,0.5069288347579493,-0.11606311375780733,0.15975584958548666,-0.35623293672146833,-0.2813962786767978,-0.23622552632694113,-0.6491652992073776,-0.31564477376328637,0.5544986004646741,-1.4636945618169472,0.05957538288315975,4.928503068953145,0.18499784086893833,-0.11998225721136246,-0.022787817954264846,-0.8331195228161589,1.4128182373390308,0.12363859689332508,0.14392651001456702,-1.9718257781718556,0.04950712816145808,2.2432382452098163,0.11214864073770929,0.1097058650890742,-0.3053254438455397,-0.4486881818913678,-1.922885478615203,0.5462800056135098,-0.051084617266408894,-0.24951736409913644,-0.5020946690511724,1.0028467436187432,-0.014714963270992788,-2.1164015547234536,0.2676606995468511,0.966591325525644,-0.1602802385676832,-0.053574356515169855,-2.465492085173709,-0.3658490917155465,0.360272766987449,-1.928640556129539,-0.2504184918209053,-1.6259223098198805,-0.8895234025198578,-0.24412371707182678,-2.3961604406171944,1.60061319320809,0.16241193655643868,-0.5094634759124037,-0.663806630353074,-1.3651190443106782,-0.9143596878907139,1.412922903789077,1.4060688079034982,1.7277382640208352,-1.8109580277824056,-0.8956399125459952,4.261013689610711,-1.0009344657460193,-0.008731189718590866,3.8102453972651236,-1.7002643811309552,1.0881200942663811,-0.7213466343289383,-0.7304870118743545,-0.3453667001624674,-0.8972229429050022,-0.02446866052695593,-1.950067783256684,-0.7212072361990809,-1.2727649609356584,-0.5758642475558816,1.4640594696875089,0.36123615658091024,-1.9168499576173417,-0.07971035521361977,-1.3345947547419772,1.1286992747487765,-0.9323110448338919,-0.12559906471976823,-0.7109830364333369,-0.6561010872462459,1.005412317163435,3.945533617011534,0.11930152299871784,3.342492283404681,-1.480598883794878,-0.7532233166820794,-0.45420896485738116,0.09706775705395979,-0.4575415350517134,0.565256384736198,1.3984053921188728,0.43281517327717633,-0.30072385494515935,0.21147130007583073,-0.17247182399824734,-1.0613681097781313,-0.34857181460826037,-0.3004650429793803,-1.8232340811203698,-0.611389277992164,1.4209387143700034,-0.4836478310033579,-0.40897323919718825,-1.8768227535861108,2.7868736705963753,0.19345676596922246,1.450998445842017,-0.17461944812605756,-2.168955630379123,0.3102244311516768,0.50535225496606,-0.9135261096827585,-1.7994159028854484,-2.0889524517365974,0.12176937231207993,0.32292990411550315,-0.7427323217131026,0.3454682179582013,-0.25067907463931327,0.7737942995196674,0.17419951094530936,-0.9467731001938346,1.5493763514477912,-0.6777766286760432,-0.8638648621641872,3.8702529733257527,-1.9414821690623594,-0.14996540383490958,7.618975976147405,0.3243447582298503,1.570695885106352,-1.4131849379109853,-0.697506117854703,-0.2271574531403579,0.6485065653412889,-0.7131143992690233,0.23846907801984432,-0.6462106711554046,3.417915241780781,3.877003435347468,3.4807388881177337,0.2683920926055766,-0.15010656885748047,0.9210380396436314,-1.387181409773237,-0.1578869479710397,0.8197496298255597,-0.024990074367381637,2.92525008286512,-1.0184782482876933,0.4670322746272112,0.165658794817609,-0.20166704085734663,-1.6719593819650485,-0.7575953144444236,-1.0644075174094527,0.266614333988978,-0.31435206949219746,-0.1891106175982651,0.08048580887985511,1.3350482554041694,-0.5939321612382162,0.21939012801884775,-1.5549046249690364,2.181917133709677,0.3858844074402841,-0.35331182247001136,-0.8664564861538517,0.8234849396012075,-0.7204763988446871,-1.5545662387673358,-0.010780986361583558,-0.8911671522316609,-0.26663397151379153,-0.5312679938764933,0.35320871567175993,2.0118794415528156,-1.007799842686711,-0.5253639016642263,-0.14063176368382813,2.200959930385232,-0.37688922495662647,1.4613168135315888,0.24542628314195672,-0.8464608581607509,-2.0127261583599605,1.1717472943341753,0.6757908618885893,-0.7575953144444236,0.9009076302349894,-0.90752419270516,1.4446824713619875,0.15117010328421668,-0.9982655520515235,-0.11241380313457239,-0.27929040084842777,-0.921851062079168,-1.8120208789511294,2.372512791318414,-0.05965413924341403,0.021092615055118915,0.6880033577675095,-1.0734829785882007,0.17416568079942787,1.4571176996137272,-0.36134215993790475,-0.09191794311361103,-1.7235646363580615,-0.07971035521361977,-1.3558560365086119,-0.745920584448167,-0.9427097028482562,-0.4225195363941547,-0.8919137805854344,1.1877539457203994,0.2431964733132194,-0.2660286718290469,0.0664173042679804,-1.9102989065992915,1.7378237944579087,0.2601647292068548,-0.3881249677548438,1.7265593679944466,-0.06825648781591429,-0.036661444164017065,6.879526858877329,-0.23921061767032595,-0.8541755730057039,0.2574967316945766,-0.4208601725370606,-1.2562114076874993,0.4245725433789128,-0.494350750886547,-1.1566210370960623,-0.9940697417272463,-1.3718896143958186,0.282413293396096,-1.022162881407792,2.3451397472903546,-0.9339819481098279,-0.10464807308633005,-0.3204622445236997,0.0001573549252025316,-0.10260678647653372,-0.6361978361606222,-0.3496644100851932,0.9430692496087095,-0.7645256543469487,-1.6432102940934399,1.9531372935821811,-0.33930672500740666,0.006117844659208276,0.36009039669249776,2.898594573216995,2.4727260595876173,1.4205132154647833,-0.1495070943691677,-0.023548364552574974,-1.0744139963573682,0.42964274149615295,0.048783895166992976,-0.47584296614968935,-0.4732361244741031,1.4770747324622506,0.07815177690217563,-0.46928239555549983,-0.18011006201563362,0.015011407176019226,1.2397598364113989,-0.05895482165882288,-0.2744778748374115,-0.37088592609118104,4.571046394519576,-0.4457162498034524,0.3033131075063408,-0.2983866961045808,-0.15279768953617212,-0.47414385594310826,-1.4213551346113575,-0.15815041890502757,-0.07195363389554749,-0.3015400000049953,-2.0328357405798383,-0.29982733334050765,2.0920105431470084,0.4743975864040157,-0.31864590777059104,2.7634199431169235,-0.8873143708412838,-1.340039145657462,0.0470222831947401,1.2087224305795512,-1.1069042775176607,-0.18174071738054456,1.3564067465729597,-2.0422649668864934,-1.2794134939003663,-1.8169413485014334,-0.9119147190006741,0.4743975864040157,1.2054925166756372,-1.1633621089461335,-0.17625570001782448,-1.0047873770203362,-0.6492086382770252,0.0977235113827293,-1.964409708830698,-1.943149925262142,0.5056340024278687,-0.4260329409197493,-0.40185593952419807,1.2637333520724667,0.139994623023175,-0.7314831992194103,0.28109876815675366,-1.0090658562820223,-0.1237837357429093,-0.16688769398868222,-0.5322751821917294,-0.6696633089950895,3.1362558441245385,-0.23544218761142127,0.14661804007956886,-0.12119268539694102,-0.5805143120307983,0.7303363374769626,0.03077601289776959,-0.5274210054331772,0.20499341557930256,4.0035314114699485,-0.9475171529053013,-1.0143299958077254,-0.10098383267115184,-0.48347724818214166,-0.9942091656086686,1.8965055638785082,-1.134939506223311,-2.323158265001756,-0.25756796443144114,-1.7855396644523327,-0.6231489463622014,2.433835950573577,-1.3955895380478531,0.5745864138217355,-0.4090237050942394,0.009757209275278069,0.05597024357147227,-0.36004031062096553,0.8460649155995427,-2.3718876072360433,-0.3312636862741898,0.49794048544293973,-0.10222281253478624,1.243053427482301,-1.2171854612932373,0.43763503842179347,-0.8901821889947849,-0.2086507262668052,0.5741346193753265,0.1434287770856488,-0.39570563869295167,1.090172891190108,-0.25892973432666966,-0.7841326204133295,0.9693030847879995,2.236146648393343,-0.5736646388296328,-0.21257957844910252,0.22985979021603453,-0.160525772915888,-0.5253890611167111,0.156584250167861,-0.15903465881498774,-1.1264727224351387,-1.0581130011619595,4.614380800706041,0.19623668963533974,-0.20922631302525263,0.27524551038943607,-0.1788583394126489,-1.4803907779451642,-1.5223888707496183,0.2115183944109108,1.7207886275542366,0.6893057132348293,-0.3788153811579423,0.028408930635817738,0.7775454210289365,3.280073478734269,0.1590645024825458,0.7077683922744787,-1.7319061368031519,-0.5197381906028383,1.3382395407572938,0.8344424974015379,-2.505484153237294,0.7052256916403326,-0.0459831319634014,0.6880033577675095,2.0022184060274726,0.9330155668892749,0.06535855697597638,1.2009497205892268,2.3451397472903546,1.615284641384262,-0.15018612473448223,-0.3894199713304252,-1.0889593200914538,0.758313055062869,-1.3799756138490502,2.506360977064132,0.26558068441607147,0.23086308956443713,1.4140008835115598,1.0542472887758698,-0.4948924087802546,0.1467971746520988,-0.40975474098623743,0.8254414730041579,4.822988342879048,0.2477925118596201,-0.6869415407348122,-1.082485985241857,0.14274422002282566,2.6106047507992245,-0.43372144357232023,2.700919617686044,-1.4047201340543467,-0.16881097585022758,0.2948229357078004,-0.1628122614412717,0.01184292578382489,-0.3124541119168697,-1.1398105507170238,0.17091590589032604,0.6703656165692259,0.13170785063459553,0.3829776373635999,-0.6068854602069813,3.945533617011534,-0.3723782941630877,0.32828207769192924,-0.26163172024838405,-0.3036592368469227,0.08092862815550059,1.7814026153318014,7.603889796097843,-0.709539464822996,-1.3258878456463532,-1.1908809739687674,-0.3693977852797868,-2.4025463831732345,-0.9079187894113903,0.36515233461373553,-1.34221075879597,-0.2041622203724567,-0.08412948425529808,-0.41593154464434734,-1.4626437111903259,-0.5287788368545479,-0.9859955912556377,2.8086184825809957,0.25137026117606187,-0.034841402799542905,-0.4929627730804239,-0.18116066839164519,1.5112373355232025,0.739974624267579,-0.29137153921824777,1.1808092230170444,1.310294336229724,-2.7121320304353884,5.039716156445261,-0.9948879675320367,-1.9740956076496075,-0.18992458113833488,-0.3875497120172044,1.7950877473588143,0.6380118166485744,-0.11127525219493814,3.593816593747541,-0.13738850268633118,0.522112083885054,0.05930624616585638,-0.3746293212430755,-0.9751459416285463,1.2393192526275598,-0.2983866961045808,-1.362326161044364,0.157858902005758,0.5297082474306885,-1.0411735909853805,2.0133512950556978,-2.0580724306776124,0.8352931185017098,-1.6594550188453991,-1.9503030849172076,0.13788049954904585,-0.0425415025727766,1.4087921146642979,0.14912138991598245,-1.0753132329736796,1.940372513749465,-0.25496063311590533,-0.2966959582823852,-0.09514168096247548,0.17795909316642755,-1.0933035910792337,-0.809467315807418,-0.36337230355412153,0.3358091883053201,1.248961547523162,-0.5271887819868313,0.23145038598347176,-0.02575819751104453,2.2484425356427447,1.3673414020618015,-0.5186701429519626,-0.3548850999935797,0.4944811127995949,1.0644975404020136,0.2431964733132194,0.3027684013974063,-1.6234903553890574,0.04321771115669074,-0.3456272906554737,0.027425139800740725,0.08677874084686404,-0.14975066911289775,-0.6305513819554281,-0.27184310056643596,-0.18530675714575398,-0.48347724818214166,-0.2797958616498669,-0.21915415807100513,-0.7379748554429556,-0.4164356545924315,1.1598215816613484,0.3435192614669667,0.3743077505040374,-0.46455324362314826,-1.4527554857636766,-0.9052385970370199,1.707064000595609,-0.8837802545198418,5.502815246585668,-0.26583935845966694,0.08906243179555223,0.31025597094656815,-0.8208890750500928,-0.1495070943691677,-1.4585729005289199,-0.011920413308423888,-0.1139427768875567,0.21061956851522773,-1.9483821818299445,1.5511465357499803,-0.5925414663755977,-0.2025032878288639,-0.013650722845258048,0.2296946434128902,0.14024790559294106,-0.22050649728718238,-1.3346719844854242,0.15117010328421668,-0.0902820639712845,0.7624284351338608,-0.1181544983940116,-0.18302119046395487,0.9719577956677149,-0.21915415807100513,0.10748835260978,-1.4539570870572005,0.14392651001456702,-0.14576844242523326,-0.07373245893304535,1.6073882700064333,1.5003848629397178,0.14996636449082396,-1.6675411945424037,-1.6400876156129647,0.7382746965794124,-1.26295513172529,-1.0005948381692895,-0.29976928875428277,-2.3442607407505287,-0.26262571471246926,0.03766786447210699,-0.3423098662177849,-1.5545662387673358,1.1698975046641127,-0.17498764147698218,3.828263906449107,0.014969558829692238,1.0535330205093252,-1.347368631802676,3.8102453972651236,-0.08054892849431936,0.39444019276322767,-1.0803742817570208,-0.3361087096574494,-0.1578869479710397,-0.6370178201514538,-0.9798883918178549,-0.21781106647105158,0.1321493570751118,-0.47220235528122156,2.726134224213323,-0.7936020777560302,-0.40980370922313997,-1.1908809739687674,-0.602722206032917,-0.44737645391102143,0.08764698098850406,-1.938046364442683,-0.9604302260524534,0.32874518249019125,0.07682748783438326,-1.981073555954439,-1.1862018642698777,-1.255400502941058,1.3797654752278665,0.43899503613754104,-0.20135924615513098,0.6607641077483328,0.3194286084675368,2.849045787170492,-0.26235277581859556,-0.11724283686616754,-3.193798539203526,0.2478043300461314,2.5295203918990743,-0.7834986074103164,-1.0928753415782588,-0.24143086235660144,-0.0902820639712845,1.4993553321646236,0.4349736705536351,2.527796237263515,0.7355826365637714,-0.5508629348485139,-0.7447446012677188,-2.7291133726445307,-0.7180708442689114,-2.168955630379123,0.3963221908928194,-1.3534275381816585,-2.044123005097822,1.2634196165703446,-0.620396715469745,-0.11355861593386678,-0.07340721444908056,0.19582413202285148,1.7792141062424478,0.24846465363099132,-2.3947633844422,-0.27970855290417784,0.048677974586015846,1.100273074943801,0.36458412995137773,-2.931072845303701,-0.05166013186656441,2.921211534695657,-0.7065369551774069,1.0969689652491397,1.4293537740331947,-0.9662770741671363,1.6176259933219472,0.17610899612064237,0.4628083606924605,0.2936761013911649,-0.041506466779169256,1.785721900206253,-0.28102206515894884,0.12483211764274799,-0.9035197485223255,-2.089585562491612,-0.4505517880807474,-0.23341484301902188,0.3365693129191321,-0.08437133085598082,1.2598499108309522,-1.0183500824068088,-0.042421456683234965,-1.0352095410630864,-1.6237089065448291,-1.5787623892030918,-0.37688922495662647,-0.9688406827503199,-0.13446863894421382,2.3081417877181765,0.08602286996653981,0.11086371739948808,-1.1785946967123357,0.14392651001456702,-0.12898923629926012,0.5625903687014545,-2.6887154530664836,0.16530234019194356,-0.4483187650346094,0.9922135482967823,-1.7858115311162945,1.5905959505105594,0.04462086291156422,2.923458673402603,-0.14063176368382813,1.0544161084404449,0.23109512785990274,1.4993553321646236,-0.009028127657351283,1.3975903733948833,1.7998033302130962,-0.26352046205890883,-0.6402665711011578,-0.06750378106673499,-1.2747620077181878,-1.516711207424211,-0.9011477123798016,-0.5236275038073128,1.9093071601966363,1.0965624477897091,-1.648570367558921,0.3359191709589993,-0.29144693617917833,0.03077601289776959,-2.213111124799305,1.489385441866302,-0.3693977852797868,-0.7725515991892494,1.612480828986035,-0.29628177381762405,1.1828259345821297,-1.028650315469678,-0.5641532190861661,-0.22268630568638695,-0.9828799561572399,0.9012830589393194,-0.45072587842743905,-0.3701221976886293,-0.032680560996472,-1.3008392436228644,1.2829201500464344,-0.3599843926727144,-1.0734829785882007,-1.3226344787638213,0.25816205840019485,1.1470434711820565,0.055016978332698724,1.453054651389169,-1.717254095810107,0.20432436702329845,-0.40422980583180373,-1.0411735909853805,-0.12626688781975542,1.0947961097832268,0.150927986517076,-1.855416847246043,0.21522447397731473,-0.6412505172827669,-0.35499432479419046,-0.5926241757167006,-1.287971877680418,1.41199270501112,0.04500342395662041,-1.8574004856324424,-0.2029793764063501,-0.4335435614235286,0.26244600773999033,-0.8710071128741852,0.12386032952242679,-0.330375545700888,-2.1975805231680416,-0.30283247798111274,0.27223235651855815,-0.38601948172250533,6.829074485403266,0.06674009706611897,-0.18465701140469715,-1.3229431723680194,-0.26411043731160705,-0.3605530151067038,0.1700490994207031,0.1277250646273959,-0.5857752440898264,-0.6158972790195264,0.3157319537333084,1.8253923823747575,-1.3276692836277808,-0.4085326014898181,-0.0020368294957936726,-0.1675435459576419,-1.7389742477005665,-0.5953014588522143,2.8232207502046593,-0.23163985341206395,0.18724792846171537,-1.2020842508226444,-0.21642021269752143,-0.23686571313006283,0.1273702794615927,-1.1163252299851592,-0.7359334719118656,-0.2548029941181304,0.7077683922744787,3.9687191358395135,-2.2156053855357087,2.1454749707089804,-0.13430377562828857,-1.639290607046141,-0.18802894742655302,1.2026314946263434e-06,0.47713803098817786,0.2366877248169685,-0.019212545310773085,-0.42511832090937673,-0.5295723178653097,-0.05470153273397117,-0.39650736588299723,-0.8504836580537583,-0.6191786421042147,0.7239411424876581,5.834428388852442,-1.0321573072764596,-1.8566082245054065,-0.3854820770192072,-0.762419638651682,0.37837633584282393,0.34473106014097077,0.0512548004545657,-2.1982767298125285,0.040955066089983456,0.4906285847290362,0.3234250203836359,-2.4112625138432646,-1.2903782509133503,-0.21257957844910252,0.2194699159054341,-0.5544244281039907,1.7505795190936804,0.32079186565202716,1.0423088753910388,-0.3698595041007971,-1.5453405437784535,-1.1263775152361075,6.605756551038358,3.834381510817853,-0.6881011244972859,-0.7452031983294121,0.13917421870555186,-0.04955650809495139,-0.923682424171713,-0.14821382756875082,-0.11558264889503167,1.4878366785764208,-0.01120513483592417,4.363324211527717,3.7606405453821807,-0.176537890847569,1.5851029886038113,1.3841469298948945,1.5359881156682325,-0.26362479831829366,-0.9035197485223255,-2.4796197837393716,-0.2397174191833982,-0.2025032878288639,0.6439535276973575,-1.2868461443059844,-1.6758341506823524,-0.5135431602043692,-0.6067317248362921,-0.23194480017049857,0.5234647453059426,0.2454489358251724,0.6840126301766347,0.27921282817712034,0.8823339463059878,-0.3553951012070394,0.011040628750900717,-2.186876950941854,-0.1393161643880008,-1.292090499456343,-1.591900841202987,3.303643193039772,2.7600615540506594,-0.33477642880765435,0.21647339082913405,2.565379180669733,0.3205882452324449,-0.13955833880139942,-0.30021416750186436,1.8518447783556122,-0.620269000733797,-1.5313301954879588,-1.8971680850376187,0.33303126373773684,-1.4355618974223343,-0.938494719850452,-0.0702020980374685,-1.5202528945907268,-0.019907643915873404,-1.9740956076496075,-0.6523997764235795,0.7255832146579726,1.944836760852675,-0.7364726102750911,-0.9982655520515235,-2.1073838361367185,-0.5951795332248528,1.5359881156682325,0.38442625367927236,0.1342338765483128,0.2652562974931019,-1.845460410552508,0.29729813640831637,-0.2720397866107896,-1.0812413947749002,-0.8061776880777684,1.3702052625947272,0.4435583695297092,-0.021364360046911765,-0.07142527683210624,-0.8076667761499883,-1.6566930117357488,-0.3189606122516377,-0.3124541119168697,-0.5518566438541788,-0.27970855290417784,0.5592585631106868,-0.1414392706092599,-1.1765174747730263,-0.09243123092725992,0.326026982739274,-1.3229431723680194,-2.2267381780349194,0.4619442331805469,-0.4714338550504989,1.3436653956939781,0.3814509538431568,-0.7180708442689114,-1.2493970847294054,-0.35377774191645023,-0.774381657312496,0.12190407846008038,0.19552750165253688,0.13893753525290328,0.09733377225779934,-0.30438276666681346,-1.9004056003304526,0.26702868689519277,0.42550671623361125,-0.24763176202751047,-0.9733021774938395,-0.06511398110787353,-0.07587874667788187,0.2904043417322677,0.13788049954904585,-1.9017818168497433,-1.4325922724491276,0.13607293473164495,-0.6528864988434592,-0.24007992355955105,-1.6678209665220696,1.4806534726802771,0.48969239019540206,-0.19974783578339533,-0.6811018128025648,-0.13766453365093,0.9637358379976858,0.12640809502090458,-2.3547251131003484,0.86495917729739,-0.3868613050275886,0.8968386135636874,0.3447137033424425,3.6207406842332603,-0.18834683528425064,-1.4883384269477764,-0.025373219143134305,4.065014730030803,1.8350306041895648,-0.05822662933220339,-0.3706823903098076,0.1054335282733677,2.4673937847475234,0.0567666499839007,-1.2901455820213352,0.20975209875410397,0.6241903704950433,2.668254372894414,0.10625900450568378,-0.3041106444505511,-1.6820057601459444,-0.2871601562693679,-0.4973281092041632,0.08027596227915108,-1.1566210370960623,-1.328247786745721,2.0133512950556978,3.194543152154597,-0.25835803783138384,-0.05739148134189682,0.845677526356878,3.341547349645246,-0.1679479089626484,-2.5699779498465523,-0.29637659935744903,-0.33894106195149576,-1.1615179679488654,0.03957151294096673,0.3284076497730032,-1.7878569022080066,-0.9020162925661185,-0.34831993638387204,0.7514987464651324,2.105027700964065,-0.3193576414362019,0.1692312059772374,-0.5638006062130007,-0.15749641563074346,-0.46888753145911094,0.7095109675722048,-1.1259881681220854,0.5077684924198596,-1.4020803765829182,1.381171761164631,0.14493714393104137,2.8455625761576018,-1.9361239801236556,-0.6585255662009085,1.032433263457527,0.20406346087787516,-1.9438616937686575,-1.1450179398350382,0.08973732184975057,-0.06682220580707574,-1.0610492016691186,-0.018091907649146446,0.7297988003504896,-1.8109580277824056,-0.8517138968815271,-0.089558137270983,-0.40946595776415895,0.861987526599093,-2.8093131483011664,0.7902215227401196,-1.7994159028854484,3.6026866835668563,0.1916191013599486,5.735332026350849,-0.13738850268633118,0.0572327786676577,-0.31435206949219746,0.06830201851664662,-0.5520110563374153,-2.927357813118948,7.70843428420015,0.08346940248915227,-1.5072548997177482,0.1137560318791382,4.95580381209791,-1.2432472388069347,0.3500513419816557,-0.3521130288775512,-0.4092189149920573,-1.413974821428763,0.009917601341171223,0.21316298029053338,-2.1376342025862276,0.2437818624221123,0.38524277512872995,1.2300823369441505,-0.5960713031413183,-0.3842268314218417,4.07426055585568,-0.44119783732608225,0.298921539013093,-2.856255843412583,0.11154800679659274,-1.5774882802660228,-0.9688598758535445,-2.0678163494467188,0.1188009962882152,-0.40980370922313997,-0.68006983413566,-1.313308107549642,-1.8973729301122626,1.4361651839889185,-0.5035071325580911,-1.4824947553870318,-0.24720353036589252,0.3909133192387435,1.1972538968379185,-0.5857752440898264,-1.6818529208114912,7.801970233833227,-0.478089940235664,1.3614204726163208,-0.3306931920036228,-2.5064555693305572,-1.3625850350084314,-1.8993856542162775,0.5204124978320483,1.7939686859224997,0.4784889669687632,0.6901359120471664,1.3702052625947272,-0.3293235008573784,-0.5989670383346886,-0.8852724849337665,-1.6148583147092745,0.31798373323331536,1.381272922652638,2.6504534981290973,-0.05722833972630288,1.944836760852675,0.043881253525673486,-0.534326213820476,0.2070015388116453,-0.27209570319063137,0.08433164052306927,-0.7569811520852705,0.22145285683922916,-1.3385187777573533,1.7692387469247848,-0.5090811012316839,1.6636263744814643,1.7294590277085498,-0.1271630028900775,3.232492224886839,1.4320053987713366,-0.8133820293347149,1.1095603507753817,-1.2650269011269109,-0.038699515620398084,0.13566615037427773,1.450826356339835,-0.648973990749492,0.35320871567175993,-0.2910102744605352,-1.639075573921641,0.7632971463717564,-1.0760767029751988,-0.958078544677311,-1.4401872836862668,0.5108444828675058,3.5714601840709665,-1.5971250503378895,0.23969040388778334,-0.042421456683234965,1.286990410365937,-0.08449055486831514,-0.3378197051965561,0.04191867408740563,-0.21779717314852803,-0.017288087972943036,-0.6726437607602213,-0.7511813012693545,-1.3196474218933525,-0.24903437459036404,-0.04785625414597393,-0.47886719160673885,1.8877912106799077,0.3428672210338461,1.4298153369457687,-1.09066768458228,0.14949160960573377,-1.4242944552815096,0.6313324911352891,-1.25675408719909,-1.111361529813557,-1.4466792400397335,-0.12556171481157571,-0.7046196652220478,-1.2318320546970758,-0.7984289616477372,0.0723539201133366,-0.15646819038110205,-0.31345550022555524,-0.22223351229445928,-0.8731771989205699,1.2126975866972955,0.31316223929442494,-1.6459806782998263,-0.42241891417739014,1.4651560300567767,-1.2250755835215628,0.0339443278916659,-0.8532723497180401,-0.16694505587788014,-0.49858565739121763,-1.1785946967123357,-0.6344673119156323,-0.12003088643067128,-1.26295513172529,-0.43521772495906047,-0.9688406827503199,-1.5425740418424003,-0.8183385460040913,0.0968170359821348,-0.5326244904732089,-0.05595096159043751,-0.8125809296861791,-2.5185390228497972,0.13607293473164495,0.021092615055118915,-1.5581798889612444,0.33153040733523015,0.11899783758218338,-0.6741531272396442,0.05238504031506641,-0.09138610759139605,-1.0928753415782588,-0.6598949188184672,-1.0099662871034165,-0.22909103515448995,-0.14340903371087244,-0.49362629592821716,1.5444770594231352,-0.11075774465988289,-1.3013653473238032,1.7924884412361146,1.8877912106799077,-0.5457944068950249,-3.115504631740307,-0.04690512687469187,3.6951385460442694,4.940907012459736,-0.3784430054501514,-1.4743515383972594,1.9874627452936164,2.001570703420508,-0.3044963756702433,0.5209286178840167,-0.534326213820476,1.5368169170394066,-0.2622599771125225,1.2440430603288866,-0.4614274033675956,0.5852134145099726,-0.7096200822542525,-0.4569892792089171,-0.5563772525842213,-0.9083872874468143,0.2188613200783443,-1.5025099524237722,-1.3048965592245347,0.31324244934027323,0.31605012408486693,0.016511348301594578,0.13912701949301617,-1.7707784041755834,0.8508818707328485,4.614380800706041,-0.6899255925610123,2.015820925308201,1.2638667343095655,0.2016323549010674,0.03738573678556129,2.0681202779914543,-1.1828893419563733,0.3342489749342538,-1.7902520429617275,-0.4232513260639785,0.9353764057703714,0.024402015107118296,-1.198779615751561,1.933605853356636,0.17686151056237626,-0.24331679811618462,-0.2225727950221175,-0.6637642324605308,2.471957130485947,2.001027178306431,0.25699965639666394,-0.3866206843130422,-0.3381123901122485,-0.5128110426916449,0.030644390815888812,0.1985625622532517,-0.13902253526436054,0.9353764057703714,0.27223235651855815,0.014170569815810507,-0.20336478656306928,-0.6227046749199932,0.6829516787036354,-1.2554516117965508,0.7199047521333688,-0.35686743521399394,-0.6563126232550629,-0.6632361302860639,0.580703298177136,0.16854617100683264,-1.9004056003304526,6.91082256304073,0.9522464051447035,-0.24176084364644113,1.0591235049125127,6.944289874524687,-2.633806035730354,-1.0024118180766999,2.1637894806810465,2.609916254953927,-1.5225759716897231,0.39117702655690845,0.38416161130358284,-0.8949662413274255,0.19785464491315233,1.4243982810050482,-1.4539570870572005,0.14428732206228514,-0.704000370089442,-0.021771041313684056,-0.008196577316548624,-0.3352760071392137,-1.9103123740545946,-0.39881185691736115,-0.35786774498557133,0.017738679760584547,-0.1974033000667684,1.335631786339468,1.2574214925875262,0.21240940097420583,-0.2644034461554405,0.32785243009935844,2.0156318843520693,-0.05431107954235787,0.3559097634534844,-0.379476349626725,1.612480828986035,-2.213444309194345,-0.13738850268633118,0.3280363329098493,-1.0744532658162498,1.100672247339904,-0.22512212017011085,-0.15968703045674076,-0.16206362340068298,-1.5063099718528097,-0.06239529736578024,-0.7734161530924102,0.654824334843251,-0.24648199783449412,0.156584250167861,-2.931072845303701,0.26244600773999033,0.11178922722875208,-1.1643438172975886,3.1506292924860104,0.38514744387327576,-0.5339923011441845,0.42833110727617035,-0.042541502572776585,0.09528342174396427,-0.5610444945038258,0.2680391317210603,1.254549998219343,0.11045327722093459,-0.15461006245257178,-0.07562662265780364,-1.0186466885418415,1.3797654752278665,0.7532312630861089,-1.422443151040278,1.2591949161780287],\"type\":\"scatter3d\"}],                        {\"template\":{\"data\":{\"bar\":[{\"error_x\":{\"color\":\"#2a3f5f\"},\"error_y\":{\"color\":\"#2a3f5f\"},\"marker\":{\"line\":{\"color\":\"#E5ECF6\",\"width\":0.5},\"pattern\":{\"fillmode\":\"overlay\",\"size\":10,\"solidity\":0.2}},\"type\":\"bar\"}],\"barpolar\":[{\"marker\":{\"line\":{\"color\":\"#E5ECF6\",\"width\":0.5},\"pattern\":{\"fillmode\":\"overlay\",\"size\":10,\"solidity\":0.2}},\"type\":\"barpolar\"}],\"carpet\":[{\"aaxis\":{\"endlinecolor\":\"#2a3f5f\",\"gridcolor\":\"white\",\"linecolor\":\"white\",\"minorgridcolor\":\"white\",\"startlinecolor\":\"#2a3f5f\"},\"baxis\":{\"endlinecolor\":\"#2a3f5f\",\"gridcolor\":\"white\",\"linecolor\":\"white\",\"minorgridcolor\":\"white\",\"startlinecolor\":\"#2a3f5f\"},\"type\":\"carpet\"}],\"choropleth\":[{\"colorbar\":{\"outlinewidth\":0,\"ticks\":\"\"},\"type\":\"choropleth\"}],\"contour\":[{\"colorbar\":{\"outlinewidth\":0,\"ticks\":\"\"},\"colorscale\":[[0.0,\"#0d0887\"],[0.1111111111111111,\"#46039f\"],[0.2222222222222222,\"#7201a8\"],[0.3333333333333333,\"#9c179e\"],[0.4444444444444444,\"#bd3786\"],[0.5555555555555556,\"#d8576b\"],[0.6666666666666666,\"#ed7953\"],[0.7777777777777778,\"#fb9f3a\"],[0.8888888888888888,\"#fdca26\"],[1.0,\"#f0f921\"]],\"type\":\"contour\"}],\"contourcarpet\":[{\"colorbar\":{\"outlinewidth\":0,\"ticks\":\"\"},\"type\":\"contourcarpet\"}],\"heatmap\":[{\"colorbar\":{\"outlinewidth\":0,\"ticks\":\"\"},\"colorscale\":[[0.0,\"#0d0887\"],[0.1111111111111111,\"#46039f\"],[0.2222222222222222,\"#7201a8\"],[0.3333333333333333,\"#9c179e\"],[0.4444444444444444,\"#bd3786\"],[0.5555555555555556,\"#d8576b\"],[0.6666666666666666,\"#ed7953\"],[0.7777777777777778,\"#fb9f3a\"],[0.8888888888888888,\"#fdca26\"],[1.0,\"#f0f921\"]],\"type\":\"heatmap\"}],\"heatmapgl\":[{\"colorbar\":{\"outlinewidth\":0,\"ticks\":\"\"},\"colorscale\":[[0.0,\"#0d0887\"],[0.1111111111111111,\"#46039f\"],[0.2222222222222222,\"#7201a8\"],[0.3333333333333333,\"#9c179e\"],[0.4444444444444444,\"#bd3786\"],[0.5555555555555556,\"#d8576b\"],[0.6666666666666666,\"#ed7953\"],[0.7777777777777778,\"#fb9f3a\"],[0.8888888888888888,\"#fdca26\"],[1.0,\"#f0f921\"]],\"type\":\"heatmapgl\"}],\"histogram\":[{\"marker\":{\"pattern\":{\"fillmode\":\"overlay\",\"size\":10,\"solidity\":0.2}},\"type\":\"histogram\"}],\"histogram2d\":[{\"colorbar\":{\"outlinewidth\":0,\"ticks\":\"\"},\"colorscale\":[[0.0,\"#0d0887\"],[0.1111111111111111,\"#46039f\"],[0.2222222222222222,\"#7201a8\"],[0.3333333333333333,\"#9c179e\"],[0.4444444444444444,\"#bd3786\"],[0.5555555555555556,\"#d8576b\"],[0.6666666666666666,\"#ed7953\"],[0.7777777777777778,\"#fb9f3a\"],[0.8888888888888888,\"#fdca26\"],[1.0,\"#f0f921\"]],\"type\":\"histogram2d\"}],\"histogram2dcontour\":[{\"colorbar\":{\"outlinewidth\":0,\"ticks\":\"\"},\"colorscale\":[[0.0,\"#0d0887\"],[0.1111111111111111,\"#46039f\"],[0.2222222222222222,\"#7201a8\"],[0.3333333333333333,\"#9c179e\"],[0.4444444444444444,\"#bd3786\"],[0.5555555555555556,\"#d8576b\"],[0.6666666666666666,\"#ed7953\"],[0.7777777777777778,\"#fb9f3a\"],[0.8888888888888888,\"#fdca26\"],[1.0,\"#f0f921\"]],\"type\":\"histogram2dcontour\"}],\"mesh3d\":[{\"colorbar\":{\"outlinewidth\":0,\"ticks\":\"\"},\"type\":\"mesh3d\"}],\"parcoords\":[{\"line\":{\"colorbar\":{\"outlinewidth\":0,\"ticks\":\"\"}},\"type\":\"parcoords\"}],\"pie\":[{\"automargin\":true,\"type\":\"pie\"}],\"scatter\":[{\"marker\":{\"colorbar\":{\"outlinewidth\":0,\"ticks\":\"\"}},\"type\":\"scatter\"}],\"scatter3d\":[{\"line\":{\"colorbar\":{\"outlinewidth\":0,\"ticks\":\"\"}},\"marker\":{\"colorbar\":{\"outlinewidth\":0,\"ticks\":\"\"}},\"type\":\"scatter3d\"}],\"scattercarpet\":[{\"marker\":{\"colorbar\":{\"outlinewidth\":0,\"ticks\":\"\"}},\"type\":\"scattercarpet\"}],\"scattergeo\":[{\"marker\":{\"colorbar\":{\"outlinewidth\":0,\"ticks\":\"\"}},\"type\":\"scattergeo\"}],\"scattergl\":[{\"marker\":{\"colorbar\":{\"outlinewidth\":0,\"ticks\":\"\"}},\"type\":\"scattergl\"}],\"scattermapbox\":[{\"marker\":{\"colorbar\":{\"outlinewidth\":0,\"ticks\":\"\"}},\"type\":\"scattermapbox\"}],\"scatterpolar\":[{\"marker\":{\"colorbar\":{\"outlinewidth\":0,\"ticks\":\"\"}},\"type\":\"scatterpolar\"}],\"scatterpolargl\":[{\"marker\":{\"colorbar\":{\"outlinewidth\":0,\"ticks\":\"\"}},\"type\":\"scatterpolargl\"}],\"scatterternary\":[{\"marker\":{\"colorbar\":{\"outlinewidth\":0,\"ticks\":\"\"}},\"type\":\"scatterternary\"}],\"surface\":[{\"colorbar\":{\"outlinewidth\":0,\"ticks\":\"\"},\"colorscale\":[[0.0,\"#0d0887\"],[0.1111111111111111,\"#46039f\"],[0.2222222222222222,\"#7201a8\"],[0.3333333333333333,\"#9c179e\"],[0.4444444444444444,\"#bd3786\"],[0.5555555555555556,\"#d8576b\"],[0.6666666666666666,\"#ed7953\"],[0.7777777777777778,\"#fb9f3a\"],[0.8888888888888888,\"#fdca26\"],[1.0,\"#f0f921\"]],\"type\":\"surface\"}],\"table\":[{\"cells\":{\"fill\":{\"color\":\"#EBF0F8\"},\"line\":{\"color\":\"white\"}},\"header\":{\"fill\":{\"color\":\"#C8D4E3\"},\"line\":{\"color\":\"white\"}},\"type\":\"table\"}]},\"layout\":{\"annotationdefaults\":{\"arrowcolor\":\"#2a3f5f\",\"arrowhead\":0,\"arrowwidth\":1},\"autotypenumbers\":\"strict\",\"coloraxis\":{\"colorbar\":{\"outlinewidth\":0,\"ticks\":\"\"}},\"colorscale\":{\"diverging\":[[0,\"#8e0152\"],[0.1,\"#c51b7d\"],[0.2,\"#de77ae\"],[0.3,\"#f1b6da\"],[0.4,\"#fde0ef\"],[0.5,\"#f7f7f7\"],[0.6,\"#e6f5d0\"],[0.7,\"#b8e186\"],[0.8,\"#7fbc41\"],[0.9,\"#4d9221\"],[1,\"#276419\"]],\"sequential\":[[0.0,\"#0d0887\"],[0.1111111111111111,\"#46039f\"],[0.2222222222222222,\"#7201a8\"],[0.3333333333333333,\"#9c179e\"],[0.4444444444444444,\"#bd3786\"],[0.5555555555555556,\"#d8576b\"],[0.6666666666666666,\"#ed7953\"],[0.7777777777777778,\"#fb9f3a\"],[0.8888888888888888,\"#fdca26\"],[1.0,\"#f0f921\"]],\"sequentialminus\":[[0.0,\"#0d0887\"],[0.1111111111111111,\"#46039f\"],[0.2222222222222222,\"#7201a8\"],[0.3333333333333333,\"#9c179e\"],[0.4444444444444444,\"#bd3786\"],[0.5555555555555556,\"#d8576b\"],[0.6666666666666666,\"#ed7953\"],[0.7777777777777778,\"#fb9f3a\"],[0.8888888888888888,\"#fdca26\"],[1.0,\"#f0f921\"]]},\"colorway\":[\"#636efa\",\"#EF553B\",\"#00cc96\",\"#ab63fa\",\"#FFA15A\",\"#19d3f3\",\"#FF6692\",\"#B6E880\",\"#FF97FF\",\"#FECB52\"],\"font\":{\"color\":\"#2a3f5f\"},\"geo\":{\"bgcolor\":\"white\",\"lakecolor\":\"white\",\"landcolor\":\"#E5ECF6\",\"showlakes\":true,\"showland\":true,\"subunitcolor\":\"white\"},\"hoverlabel\":{\"align\":\"left\"},\"hovermode\":\"closest\",\"mapbox\":{\"style\":\"light\"},\"paper_bgcolor\":\"white\",\"plot_bgcolor\":\"#E5ECF6\",\"polar\":{\"angularaxis\":{\"gridcolor\":\"white\",\"linecolor\":\"white\",\"ticks\":\"\"},\"bgcolor\":\"#E5ECF6\",\"radialaxis\":{\"gridcolor\":\"white\",\"linecolor\":\"white\",\"ticks\":\"\"}},\"scene\":{\"xaxis\":{\"backgroundcolor\":\"#E5ECF6\",\"gridcolor\":\"white\",\"gridwidth\":2,\"linecolor\":\"white\",\"showbackground\":true,\"ticks\":\"\",\"zerolinecolor\":\"white\"},\"yaxis\":{\"backgroundcolor\":\"#E5ECF6\",\"gridcolor\":\"white\",\"gridwidth\":2,\"linecolor\":\"white\",\"showbackground\":true,\"ticks\":\"\",\"zerolinecolor\":\"white\"},\"zaxis\":{\"backgroundcolor\":\"#E5ECF6\",\"gridcolor\":\"white\",\"gridwidth\":2,\"linecolor\":\"white\",\"showbackground\":true,\"ticks\":\"\",\"zerolinecolor\":\"white\"}},\"shapedefaults\":{\"line\":{\"color\":\"#2a3f5f\"}},\"ternary\":{\"aaxis\":{\"gridcolor\":\"white\",\"linecolor\":\"white\",\"ticks\":\"\"},\"baxis\":{\"gridcolor\":\"white\",\"linecolor\":\"white\",\"ticks\":\"\"},\"bgcolor\":\"#E5ECF6\",\"caxis\":{\"gridcolor\":\"white\",\"linecolor\":\"white\",\"ticks\":\"\"}},\"title\":{\"x\":0.05},\"xaxis\":{\"automargin\":true,\"gridcolor\":\"white\",\"linecolor\":\"white\",\"ticks\":\"\",\"title\":{\"standoff\":15},\"zerolinecolor\":\"white\",\"zerolinewidth\":2},\"yaxis\":{\"automargin\":true,\"gridcolor\":\"white\",\"linecolor\":\"white\",\"ticks\":\"\",\"title\":{\"standoff\":15},\"zerolinecolor\":\"white\",\"zerolinewidth\":2}}},\"scene\":{\"domain\":{\"x\":[0.0,1.0],\"y\":[0.0,1.0]},\"xaxis\":{\"title\":{\"text\":\"PC1\"}},\"yaxis\":{\"title\":{\"text\":\"PC2\"}},\"zaxis\":{\"title\":{\"text\":\"PC3\"}}},\"legend\":{\"tracegroupgap\":0},\"margin\":{\"t\":60},\"title\":{\"text\":\"Principal Components in 3-Dimensions\",\"x\":0.5}},                        {\"responsive\": true}                    ).then(function(){\n",
              "                            \n",
              "var gd = document.getElementById('f92f8998-053b-4573-a9f4-aa1cd33e5029');\n",
              "var x = new MutationObserver(function (mutations, observer) {{\n",
              "        var display = window.getComputedStyle(gd).display;\n",
              "        if (!display || display === 'none') {{\n",
              "            console.log([gd, 'removed!']);\n",
              "            Plotly.purge(gd);\n",
              "            observer.disconnect();\n",
              "        }}\n",
              "}});\n",
              "\n",
              "// Listen for the removal of the full notebook cells\n",
              "var notebookContainer = gd.closest('#notebook-container');\n",
              "if (notebookContainer) {{\n",
              "    x.observe(notebookContainer, {childList: true});\n",
              "}}\n",
              "\n",
              "// Listen for the clearing of the current output cell\n",
              "var outputEl = gd.closest('.output');\n",
              "if (outputEl) {{\n",
              "    x.observe(outputEl, {childList: true});\n",
              "}}\n",
              "\n",
              "                        })                };                            </script>        </div>\n",
              "</body>\n",
              "</html>"
            ]
          },
          "metadata": {}
        }
      ],
      "source": [
        "visualize_clustering(principalDf)"
      ]
    },
    {
      "cell_type": "markdown",
      "id": "1481b5d0",
      "metadata": {
        "id": "1481b5d0",
        "papermill": {
          "duration": 0.04976,
          "end_time": "2022-11-11T03:53:59.260361",
          "exception": false,
          "start_time": "2022-11-11T03:53:59.210601",
          "status": "completed"
        },
        "tags": []
      },
      "source": [
        "\n",
        "\n",
        "> Indented block\n",
        "\n"
      ]
    },
    {
      "cell_type": "markdown",
      "id": "8b7890aa",
      "metadata": {
        "id": "8b7890aa",
        "papermill": {
          "duration": 0.046722,
          "end_time": "2022-11-11T03:53:59.354342",
          "exception": false,
          "start_time": "2022-11-11T03:53:59.307620",
          "status": "completed"
        },
        "tags": []
      },
      "source": [
        "# 7 Clustering <a class=\"anchor\" id=\"cluster\"></a>"
      ]
    },
    {
      "cell_type": "code",
      "execution_count": 43,
      "id": "0736206d",
      "metadata": {
        "execution": {
          "iopub.execute_input": "2022-11-11T03:53:59.451391Z",
          "iopub.status.busy": "2022-11-11T03:53:59.449935Z",
          "iopub.status.idle": "2022-11-11T03:53:59.456038Z",
          "shell.execute_reply": "2022-11-11T03:53:59.455169Z"
        },
        "id": "0736206d",
        "papermill": {
          "duration": 0.057119,
          "end_time": "2022-11-11T03:53:59.458526",
          "exception": false,
          "start_time": "2022-11-11T03:53:59.401407",
          "status": "completed"
        },
        "tags": []
      },
      "outputs": [],
      "source": [
        "# will be used later on for evaluation\n",
        "db = []\n",
        "sil = []"
      ]
    },
    {
      "cell_type": "markdown",
      "id": "5de41f04",
      "metadata": {
        "id": "5de41f04",
        "papermill": {
          "duration": 0.049607,
          "end_time": "2022-11-11T03:53:59.556515",
          "exception": false,
          "start_time": "2022-11-11T03:53:59.506908",
          "status": "completed"
        },
        "tags": []
      },
      "source": [
        "## 7.1 K-Means <a class=\"anchor\" id=\"cluster_k\"></a>"
      ]
    },
    {
      "cell_type": "code",
      "execution_count": 44,
      "id": "b5dfa260",
      "metadata": {
        "execution": {
          "iopub.execute_input": "2022-11-11T03:53:59.751109Z",
          "iopub.status.busy": "2022-11-11T03:53:59.749854Z",
          "iopub.status.idle": "2022-11-11T03:54:02.525292Z",
          "shell.execute_reply": "2022-11-11T03:54:02.524006Z"
        },
        "id": "b5dfa260",
        "outputId": "0b26a514-92ea-488a-8308-6aa19fb76137",
        "papermill": {
          "duration": 2.828077,
          "end_time": "2022-11-11T03:54:02.528639",
          "exception": false,
          "start_time": "2022-11-11T03:53:59.700562",
          "status": "completed"
        },
        "tags": [],
        "colab": {
          "base_uri": "https://localhost:8080/",
          "height": 294
        }
      },
      "outputs": [
        {
          "output_type": "display_data",
          "data": {
            "text/plain": [
              "<Figure size 432x288 with 2 Axes>"
            ],
            "image/png": "[encoded data removed]"
          },
          "metadata": {}
        }
      ],
      "source": [
        "visualizer = KElbowVisualizer(KMeans(), k=15);\n",
        "\n",
        "visualizer.fit(principalDf);\n",
        "visualizer.show();"
      ]
    },
    {
      "cell_type": "markdown",
      "id": "92785511",
      "metadata": {
        "id": "92785511",
        "papermill": {
          "duration": 0.049025,
          "end_time": "2022-11-11T03:54:02.627948",
          "exception": false,
          "start_time": "2022-11-11T03:54:02.578923",
          "status": "completed"
        },
        "tags": []
      },
      "source": [
        "The optimal number of clusters for our data is 5 clusters according to the elbow method."
      ]
    },
    {
      "cell_type": "code",
      "execution_count": 45,
      "id": "cd7f1e37",
      "metadata": {
        "execution": {
          "iopub.execute_input": "2022-11-11T03:54:02.735051Z",
          "iopub.status.busy": "2022-11-11T03:54:02.734528Z",
          "iopub.status.idle": "2022-11-11T03:54:02.974347Z",
          "shell.execute_reply": "2022-11-11T03:54:02.973413Z"
        },
        "id": "cd7f1e37",
        "outputId": "fe1e5e91-d426-4e8a-98c4-2f04cfecb100",
        "papermill": {
          "duration": 0.299893,
          "end_time": "2022-11-11T03:54:02.977604",
          "exception": false,
          "start_time": "2022-11-11T03:54:02.677711",
          "status": "completed"
        },
        "tags": [],
        "colab": {
          "base_uri": "https://localhost:8080/",
          "height": 542
        }
      },
      "outputs": [
        {
          "output_type": "display_data",
          "data": {
            "text/html": [
              "<html>\n",
              "<head><meta charset=\"utf-8\" /></head>\n",
              "<body>\n",
              "    <div>            <script src=\"https://cdnjs.cloudflare.com/ajax/libs/mathjax/2.7.5/MathJax.js?config=TeX-AMS-MML_SVG\"></script><script type=\"text/javascript\">if (window.MathJax) {MathJax.Hub.Config({SVG: {font: \"STIX-Web\"}});}</script>                <script type=\"text/javascript\">window.PlotlyConfig = {MathJaxConfig: 'local'};</script>\n",
              "        <script src=\"https://cdn.plot.ly/plotly-2.8.3.min.js\"></script>                <div id=\"54d14121-1e4b-47c0-bf25-c9c3ea9595c5\" class=\"plotly-graph-div\" style=\"height:525px; width:100%;\"></div>            <script type=\"text/javascript\">                                    window.PLOTLYENV=window.PLOTLYENV || {};                                    if (document.getElementById(\"54d14121-1e4b-47c0-bf25-c9c3ea9595c5\")) {                    Plotly.newPlot(                        \"54d14121-1e4b-47c0-bf25-c9c3ea9595c5\",                        [{\"hovertemplate\":\"PC1=%{x}<br>PC2=%{y}<br>PC3=%{z}<br>preds=%{marker.color}<extra></extra>\",\"legendgroup\":\"\",\"marker\":{\"color\":[2,1,2,1,0,4,4,1,1,1,1,2,0,1,3,1,0,4,1,1,4,0,0,0,1,0,1,2,1,1,0,0,2,1,4,1,1,4,2,1,1,1,2,1,1,4,4,2,1,3,0,3,2,1,0,3,0,4,0,2,1,1,3,4,4,2,4,0,1,1,2,3,1,0,1,1,1,1,2,1,0,0,2,1,1,1,1,0,1,2,0,1,1,2,2,2,1,0,4,1,2,4,3,0,3,0,1,2,0,1,1,4,1,1,1,3,2,2,1,0,4,0,2,0,2,1,1,1,1,2,4,2,4,1,0,1,1,0,1,0,0,0,1,4,3,0,1,1,2,1,4,1,2,4,1,2,1,2,1,1,1,1,1,1,4,3,1,1,2,1,1,4,1,1,1,1,0,2,1,1,2,1,0,1,2,2,2,0,0,2,4,3,1,1,1,0,1,4,0,2,0,0,2,0,1,3,0,4,1,2,4,1,4,1,0,4,2,1,0,2,1,1,4,1,1,4,1,2,4,1,2,4,1,3,4,2,4,1,1,3,1,4,1,4,0,1,1,1,4,1,1,0,1,2,0,2,1,2,1,1,1,1,4,2,2,2,4,1,0,0,0,1,1,2,4,2,0,1,1,2,1,1,3,1,1,2,4,1,4,1,1,1,2,1,2,0,1,1,1,2,0,1,1,0,1,4,1,1,4,0,2,1,1,1,1,1,1,4,1,1,4,3,1,3,2,1,3,0,1,2,1,2,1,1,4,2,2,2,4,1,0,2,4,0,2,0,1,1,0,4,2,1,2,0,1,0,1,4,1,1,1,1,4,1,1,1,0,0,1,1,0,4,1,4,2,1,2,1,4,2,0,1,1,1,1,2,0,1,0,1,1,0,1,0,1,4,4,0,4,2,1,3,3,0,1,1,1,3,2,1,3,3,1,4,3,0,4,4,1,1,4,0,1,1,1,0,1,1,1,1,1,2,1,0,4,4,1,0,4,0,3,1,0,2,0,2,1,2,1,2,3,1,0,4,4,1,0,1,1,4,1,0,0,0,1,1,1,0,2,2,4,4,1,1,4,1,2,0,4,4,1,4,4,4,1,1,1,4,1,4,2,2,1,4,1,4,0,2,0,2,1,1,2,3,1,2,1,3,1,1,2,1,2,0,4,2,0,0,1,0,1,2,0,1,1,0,1,3,4,1,2,1,1,1,1,1,0,1,2,0,4,2,1,3,1,2,4,4,0,0,4,1,1,1,0,1,1,0,1,3,1,1,1,0,0,0,1,1,1,1,3,4,0,1,1,3,2,1,2,1,1,1,1,1,1,4,2,0,1,1,1,1,1,2,1,1,1,1,4,0,1,1,1,0,0,1,2,1,2,1,2,4,1,1,4,2,4,1,2,1,2,0,4,4,4,2,4,0,3,0,3,1,4,4,2,1,4,1,0,1,0,1,4,0,0,1,4,1,1,1,1,1,1,0,4,0,4,4,0,1,4,2,1,2,4,2,0,0,2,4,2,2,3,2,0,2,0,1,1,0,1,1,4,2,4,0,4,3,1,2,1,0,4,1,1,4,1,4,1,2,2,1,4,1,4,4,1,2,1,1,2,2,0,2,1,0,0,0,3,3,2,0,1,4,4,1,0,1,2,2,1,2,1,2,2,0,4,3,2,2,4,4,1,1,1,0,2,1,2,0,2,2,1,0,4,2,0,1,1,1,1,2,1,2,2,1,1,1,1,1,1,4,0,0,2,3,1,0,1,0,4,4,2,1,0,1,0,2,3,0,1,0,0,2,1,1,2,4,2,0,1,4,4,1,3,1,3,1,3,4,4,1,4,1,1,4,0,1,1,4,1,2,1,4,1,0,1,1,2,3,2,4,0,1,0,0,2,1,0,4,1,0,1,2,1,0,1,0,1,0,0,1,4,1,3,4,1,1,4,3,0,1,2,1,1,1,1,1,2,2,0,1,0,2,1,0,2,1,4,4,4,2,0,1,2,0,2,1,0,2,3,1,1,1,2,2,4,1,3,2,2,3,0,2,1,2,1,1,2,0,2,2,2,4,2,1,4,1,2,1,2,4,4,4,4,4,2,3,1,3,4,0,1,4,1,1,1,1,1,1,4,4,1,0,4,0,1,0,0,4,3,1,1,0,2,1,1,0,2,2,2,0,1,4,1,1,1,4,3,0,2,3,2,1,3,1,0,4,1,1,2,1,4,0,3,3,0,1,0,0,4,2,1,1,3,1,0,1,1,2,2,1,1,1,1,1,4,1,1,4,1,1,1,4,2,2,2,1,2,1,1,1,1,4,4,1,0,2,1,1,1,4,0,0,2,1,2,1,1,2,0,1,2,2,0,4,2,1,0,1,3,4,1,2,1,4,4,1,0,2,2,1,1,1,2,0,2,1,3,4,1,3,1,2,2,1,2,1,1,0,4,2,1,4,3,0,0,1,1,2,1,1,0,0,2,3,1,2,1,3,1,1,1,0,4,1,0,1,0,0,4,1,1,2,0,1,1,2,3,1,1,2,1,0,4,1,1,1,2,1,1,0,0,1,4,4,1,3,1,1,0,2,2,4,0,0,0,2,1,4,1,0,2,2,1,1,2,0,1,0,1,0,1,2,0,0,4,1,1,1,1,4,1,1,2,3,1,0,1,4,1,0,2,4,0,4,0,1,2,0,2,1,1,1,0,4,4,2,0,1,4,0,2,1,1,1,2,1,1,4,4,1,0,1,0,1,1,1,1,4,1,3,1,0,1,1,2,2,0,1,1,1,1,4,3,4,4,4,4,0,0,4,1,2,1,3,2,1,1,3,0,1,0,2,4,4,1,0,1,4,1,0,2,0,3,3,1,0,0,1,0,1,3,4,1,1,1,1,1,0,1,4,2,1,1,3,1,0,2,4,0,3,3,4,4,2,0,4,1,1,0,1,1,1,2,0,2,0,1,4,1,1,1,2,1,0,4,2,3,0,2,1,1,1,0,0,0,1,1,1,1,0,4,2,2,2,1,0,3,4,1,2,2,1,0,1,0,4,0,4,0,1,1,0,0,1,1,0,4,0,0,1,0,1,0,1,3,1,1,2,0,1,1,1,1,4,1,1,4,0,0,4,1,0,0,0,0,4,0,0,4,3,1,2,1,0,1,1,1,1,1,2,4,1,1,1,1,1,1,2,1,1,2,1,0,1,0,1,1,1,1,1,1,3,2,1,2,4,2,4,1,2,2,1,0,2,0,1,3,4,0,4,1,1,1,4,0,2,1,4,1,1,1,4,4,1,2,1,1,4,4,4,1,1,2,4,2,0,4,0,0,0,3,0,1,2,1,0,4,2,0,1,0,0,3,2,0,4,2,4,2,1,4,2,1,1,4,1,1,1,2,2,1,1,1,0,2,1,3,1,4,0,4,1,1,1,1,2,4,4,1,4,2,1,4,1,1,1,4,1,1,2,4,2,4,1,0,1,1,4,1,0,1,2,1,0,4,4,0,0,3,1,3,1,0,0,1,3,1,0,1,2,2,1,2,1,0,1,1,2,1,2,1,0,1,0,1,1,2,1,0,2,4,1,1,1,4,0,0,0,2,1,2,1,1,2,1,1,0,4,0,1,2,0,0,0,4,2,1,1,4,1,1,1,0,0,0,2,1,1,1,3,0,1,2,1,0,2,2,1,1,2,1,2,1,1,0,4,4,3,0,1,4,1,1,1,4,1,4,4,1,2,3,2,4,1,1,1,0,1,2,1,1,1,0,1,2,3,4,2,0,2,1,1,1,4,1,2,1,4,4,1,1,0,1,1,4,0,4,1,3,3,1,2,1,0,4,1,0,4,1,3,3,2,1,1,0,1,4,4,1,1,1,2,4,4,0,2,0,1,0,0,1,2,0,2,1,4,4,3,4,0,1,0,1,1,1,1,1,4,4,1,4,4,1,4,1,2,1,1,1,1,2,2,1,0,1,1,1,2,1,1,2,4,0,0,0,1,4,4,1,1,2,1,0,1,0,1,4,2,4,4,0,0,1,4,4,1,2,2,1,4,2,2,4,1,4,2,0,1,4,1,1,4,2,1,0,2,2,1,1,0,4,1,0,1,2,0,0,4,1,3,1,2,0,3,0,1,0,1,3,1,2,2,2,4,1,1,2,0,4,1,0,2,3,0,1,1,0,3,1,4,1,0,1,1,4,2,4,4,2,1,1,4,1,0,1,2,4,1,2,3,1,0,2,0,1,2,4,0,1,1,1,1,0,2,4,1,1,1,2,4,2,3,4,0,1,1,1,1,1,2,3,2,4,1,3,2,2,0,1,0,1,1,4,1,0,0,1,1,3,1,1,2,1,2,2,2,1,1,1,4,2,3,0,2,1,0,3,1,4,3,1,0,1,2,4,4,2,3,4,1,0,0,0,4,2,1,1,1,1,1,2,1,0,1,0,1,1,0,3,1,3,3,1,3,2,0,0,0,1,1,1,1,1,1,4,0,0,4,2,1,3,4,2,1,1,1,1,1,1,1,0,4,4,1,1,1,4,1,4,4,1,4,1,0,4,4,1,2,2,4,1,1,0,1,1,3,2,2,1,0,4,1,1,1,4,4,4,1,2,1,4,4,1,4,1,1,0,4,1,2,2,4,1,1,1,0,2,4,2,2,1,1,0,1,0,3,4,1,2,0,3,3,1,4,1,4,1,1,1,0,0,3,0,4,1,1,0,4,1,4,2,1,1,1,1,4,1,3,0,3,4,1,1,3,1,1,2,0,0,1,1,0,1,1,1,1,4,3,1,0,0,1,1,2,1,0,1,1,0,1,4,0,4,1,0,2,1,1,4,3,3,1,0,3,2,4,4,3,2,0,0,0,1,0,1,1,1,4,4,2,2,1,2,1,1,3,4,1,1,0,0,1,1,4,0,4,1,0,4,0,1,1,0,2,1,2,1,1,1,2,1,0,0,3,1,1,0,0,0,0,1,1,4,1,1,4,0,2,4,0],\"coloraxis\":\"coloraxis\",\"opacity\":0.5,\"symbol\":\"circle\",\"size\":3},\"mode\":\"markers\",\"name\":\"\",\"scene\":\"scene\",\"showlegend\":false,\"x\":[4.737742137654944,-3.221759616173463,2.0728771425582817,-3.0238324756341783,-0.5347536400989716,0.8860199899021559,0.713531444936315,-2.550734980110283,-3.0702113510056925,-4.856320493484434,-2.7153184922028992,3.380241963715649,-1.6912185032476676,-2.7136379019638923,5.187457762944867,-3.1171734039316994,-0.3808460095101295,4.609939754285811,-2.32449994936816,-0.6669323472740167,3.1468168885007577,0.7263623054380188,0.26961891458073844,-0.744251780328633,-2.2542095755920535,-2.1214846854148544,-2.152716547890538,5.390863871529367,-2.6637175498395296,-0.32410701213743304,-1.780165319996324,-1.0578948114207212,2.63821145539448,-3.1438581241476413,1.7129514006066429,-2.9452290394708913,-2.4685927384929225,2.6686476740600193,3.8988450415760183,-3.4200568046965594,-2.919082947575542,-3.3872503664931832,3.767026645608885,-2.05669409307455,-3.178318972444014,1.4826951326878524,0.7025992111365476,5.2208726980904565,-2.8655882209891796,6.16346575850148,-0.07435316507233852,7.26161584409616,3.5857474659229687,-2.9660606615084775,-0.4340551918655081,4.663618226411483,-0.018771430380159264,1.4278642159695527,0.355329914012004,2.8091294588548696,-2.9645708017517767,-3.8229878065065055,4.789300315497054,1.3551636656669919,1.72705550270554,3.3150431928023307,2.530080252277639,-0.20183698292780577,-1.6551776708698536,-3.172636093914957,4.644610732543509,6.289903164945487,-2.6654205078352566,0.871752035961533,-2.5250686834186395,-3.4562530883899183,-3.041081186038359,-0.32410701213743304,3.1007590711310375,-3.3437112747959317,-2.6727988269527754,0.12727435281433747,4.851878262236482,-1.2827150200601973,-3.1975876396607257,-2.967012923402891,-3.057841974076726,0.3811917241676128,-3.156007158136824,4.002605269300495,0.28909123660750313,-2.6034435370376903,-2.6898746893149523,4.469984692891356,2.595940582045646,3.5693242613987692,-3.2583315679653397,-2.5044800536506195,1.96463816086604,-2.413974481632813,2.4738849369181377,2.765789059712605,3.6599476964511264,0.2385835352730781,3.4695190257701887,-0.6607313969461575,-2.725371972861207,6.03255399228807,0.3200716942712789,-3.114597468074988,-3.1241699175034743,1.0569464038200327,-2.550830628458788,-4.174689757562758,-3.177568247609482,5.945353249395177,1.4257948223838313,5.794609063640297,-2.943714602437431,0.16507314101976053,0.62954904675769,-0.6689855232359113,2.090149968117062,-2.3147189220772995,3.566295760749447,-3.619599365590144,-3.8511239725112243,-3.031088175844038,-3.416940708502551,5.1219959861658495,1.189382097850904,4.007682736985418,1.4830307997895864,-1.238572789076523,0.15636709345272518,-2.6179598238678015,-3.5217843278550656,-3.336728931013774,-1.3455376313728975,-0.28408604677635607,0.008779292196595088,-0.6359282966952561,-2.642330807306772,1.7767108786711563,4.008437801936627,-1.165456908875739,-3.5065273311652008,-1.2574323371376739,3.53451855564167,-4.452526102870816,3.6949031455453856,-2.990251811612192,2.5340421491785996,4.558115260303507,-3.584274009282441,1.2030552492700497,-0.408099391677614,3.686587896299851,-2.9750933753146263,-3.557235395935033,-3.1296256285108277,-2.897174964163566,-2.8361346072213665,-1.7961532401262048,4.524798994423874,5.35170243557032,-3.4804873469694604,-3.956293647894289,4.002605269300495,-1.6823296765405344,-3.1731666834366012,2.871225979983159,-3.1039618773122832,-2.4095897736651875,-3.3323999146401784,-2.743745616075734,0.40385093791019827,4.402413112656961,-3.232039964883266,-2.8803686848446284,4.284547866710433,-2.796434859093919,-1.784190625925995,-3.694194404551516,1.729630390605948,4.836360400024493,4.135667210947691,-2.03826341420567,0.37795527490439296,4.236751273140142,2.805234586635308,6.1893276633248755,-3.4797882644181013,-2.3881609746962416,-3.250595446914603,-1.7272320324449537,-2.5268185664866083,4.090085305210084,-1.064966327927378,2.949391468489304,-2.385074946780354,-1.227321007757532,3.5339178140649636,-0.9463448108583252,-4.376657939237515,4.945503014873426,-1.3957950959056127,2.1592012658536013,-2.285009236697752,2.3117383224669172,0.6464861668866124,-2.5806101873397793,2.6689319309398956,-2.3682215864002956,-0.02727129423886622,1.0151883024447919,4.239498578238932,-3.581874043245652,-1.3028114159559774,4.107789895322918,-3.338660371467263,-2.4395472100047413,2.371484873136226,-2.943184547839638,-3.5020217333664037,0.8863913528413266,-3.0967546977437697,6.090705031579964,2.458134969237877,-3.517919490121366,6.042170741110298,2.00725183886995,-3.665268086437,4.230919218524492,2.9658920955592647,5.749301982436721,3.442056724900183,-3.1570081484839294,-3.2214833618070675,7.505861478606134,-1.164009496995228,1.427442047823927,-3.179417037084397,1.451554123466455,-0.51944449178521,-3.2986672099162857,-4.352224234508389,-3.0526180178598725,1.0033680898117971,-1.6647736918651876,-3.4414519778523047,-2.017725509485926,-3.082005525917259,5.107015732429869,-2.324850139692475,3.266807896524996,-2.858090952038204,3.9369079108339426,-2.9529204842719445,-1.364669869731607,-3.3119154881647974,-3.0900934678026215,1.0852115623777037,3.7740800138402375,2.3033264094175605,3.196057548717036,1.4432606238383794,-2.7159208015840677,-0.02727129423886622,-0.3808460095101295,0.09680087753203939,-3.335687688814708,-2.841642487202722,3.46440834660369,1.028964825780089,5.211771004329899,-0.7655502072358298,-2.4783497253683002,-2.456341983764635,6.173718288682825,-3.937052395934114,-3.607736503610758,2.406469786947336,-3.26083613830198,-2.8779623398707344,1.5428321679767345,1.4356487790583712,-3.016440486775268,0.674128028856107,-2.5183062838441073,-1.8396610072055557,-2.945172640015901,5.336377137416789,-1.7484177712479159,3.19073254670274,0.12249093146285446,-1.1072456342754418,-3.0291530413909373,-4.276415853530264,3.656127006949816,-2.0123213423646376,-3.475920170451509,-3.022460216689633,-0.04766301615504199,-3.3921724470297985,1.0981209943914296,-3.2594007281728574,-3.6040194370085,2.1634969471248677,0.020661810108938305,2.817611953891146,-3.279328295945516,-3.331230709392563,-3.678173921199966,-2.6244930870860674,-3.559896621565661,-2.1179337812684054,1.5937298733973422,-2.790826894907578,-3.3892760442502397,2.427145828928128,5.892194311455616,-3.0815047073483828,5.1219639316773815,3.9799979367736937,-1.5747933114112571,1.6209329826369039,0.2627549084256265,-3.3112933462720493,3.6853891712421425,-3.324049673759405,4.638039981146671,-3.417391892344081,-3.382155440503091,1.6827885966442737,3.803482097202007,2.078826766768991,3.0789517267447075,1.382645078844937,-3.489197605427043,-1.8482211183493833,4.307337000620701,1.2821354612369644,-0.6615298166742226,7.169984353920299,0.3348324201450646,-3.3471627253887832,-3.4414519778523047,-0.9961791310879176,0.9085675875181034,4.138728363822109,-3.0107750188684594,5.310063863686757,0.491775201388459,-3.2469936489677846,-2.2679919525012977,-2.9749858136687353,2.310173446073289,-3.0636117614429352,-2.921643197047779,-2.1451313887017784,-3.2838333555142736,2.385405943449583,-3.030283038958911,-4.151993778026581,-3.5286756379381035,-0.5131252480720642,-3.336728931013774,-3.1258447711589206,-3.123988610797904,0.03248859471925163,2.65418554903488,-2.0953213992342583,1.2169426067702387,5.7417196200512395,-1.5813637866694392,3.3498655888877034,-1.097042501424079,1.2691384548008018,3.841775251262686,-2.597703631115803,-3.160720885354013,-3.3027400462923304,-2.5418864421430336,-3.221717890948761,3.1471114793922563,-2.5004962709029988,-0.5401859367042678,-1.2210818042975056,-3.292914588915552,-2.754455599938441,-1.800369466065116,-3.3182079558476,-0.7539688805774557,-2.6996489553030405,1.588909475819102,3.967541070582459,-0.5304634415096114,2.035310085329525,3.0516839739125317,-2.7534611310767936,4.7369331395753465,6.791680892187713,-0.5448556866586066,-3.1164064926090935,-3.057841974076726,-3.8270785442634474,4.591834997872892,5.7107963061001685,-3.8997843048083842,7.54701232340907,2.153587489977231,-3.339265368339171,3.0872907977911135,5.357913068228911,-0.11084341423472147,1.9835403505208327,2.8008512948393665,-2.9494269724475153,-2.4879590012315136,1.1601526790932146,-0.6792017470356478,-2.7444505592011446,-3.5698325856114956,-3.376682782860193,-1.4336689517995231,-2.642596081078424,-3.2838333555142736,-2.8341967614585615,-2.7844678501166333,-2.21746458465661,5.185203874234866,-3.2506037241033217,0.11825832632550323,1.7522944770751727,2.0263055662883294,-2.7593988838463854,-0.29236631432082744,1.8293602588071112,-2.2171576397257833,7.333330716180189,-1.4774781516979127,-0.7622574453899117,3.887449497204762,1.2562381070157482,3.9607178891641612,-2.0426826565238603,5.107015732429869,-2.543508559367342,2.7958021043376897,4.654679249124011,-3.4075767455894703,-0.244555409517383,0.7335234869968672,4.576203711296712,-3.1814016321417786,1.3587750494413544,-3.4974206631257627,-3.2929822813611156,2.288194652105054,-3.233757709525084,-0.3477703014260454,0.07480500946801448,-0.8567146752007552,-2.9045679302273064,-2.9254486980640375,-1.4336511866152717,-1.42296326920811,2.304207529960789,3.9914180767910517,0.9413854930089955,0.7676625549258937,-3.553780668822051,-1.4097665300389788,4.540370116812754,-1.5554292352570125,4.923811264869144,0.34170916099421655,1.123442310047889,0.710049337369723,-2.2451316813201347,3.024331058228229,2.135010327195813,1.940622738600487,-3.410456244421944,-2.618766055066027,-1.106379230735339,2.086330557117328,-2.4879590012315136,2.831616026243815,3.0676490934240817,3.7445332078192783,-1.888423300151754,1.6262284327593366,-2.1265100880252534,2.589379270368645,-1.0060743572282171,5.746590106020546,-0.9875797122458371,4.862083042429967,-2.974084058460574,-3.264485925833572,1.8213680855331065,5.619864678428673,-3.4586644768904873,3.487182864600137,-0.45877367816851927,4.081493760389502,-1.8888232072386693,-3.213028868730398,2.8604053045697215,0.3366778000119673,4.753718063733038,-1.1956272707963844,0.5012907593017739,2.7849498147523493,-1.0399613359563835,-1.5514930086469558,-3.071417040057275,-1.213102147514888,-2.2480363426451837,3.6065171597868426,-0.7465314262551936,-3.0592908678715767,-3.1503256246732656,-1.5954454440444723,-1.0420172054189638,4.877248458639978,1.2863256557044076,-3.087626165182202,4.4290778753860325,-2.247291622224135,-3.2234825464415144,-3.7791158920435968,-2.998882481202293,-2.6184085162808803,-0.22695827302036406,-1.7881681980451136,4.133235117841016,-2.1999842458782224,1.4491806610204594,5.878150219300862,-2.294759318414801,6.037522943992592,-2.6488459758231504,4.900669425774228,1.9012746820251547,2.87824134228599,-0.6526005817018791,-1.1579398852341427,1.2595946224044483,-3.648587578455599,-2.8086902935754385,-3.6312314563142847,-0.7562447619871236,-3.5973154874924607,-2.2982128306229583,-1.0104487075837219,-3.1580742411356217,2.919195258897549,-2.5348119420254505,-3.6668191053607493,-2.9502891000699734,-2.203376679005252,-2.084303891928572,-0.744251780328633,-3.411317576541833,-1.8342864439179867,-3.0230131519414725,-3.1577867507069417,6.183301977585571,1.1128201359870296,-0.24131277971171036,-2.0800319816151447,-2.709677738785034,7.875809198645555,4.9882904336211356,-2.8949046561008758,0.44667017318176583,-2.8495238344582337,-2.9509614686060317,-3.647405613101159,-2.9247558855118303,-2.8804424274551197,-2.873150193762678,1.395683122708806,3.0308266603361442,0.018787117353394472,-2.850062734713869,-2.389975684592021,-2.4685927384929225,-4.237943746996861,-2.9059487724122457,3.3577602503136386,-1.1327569673385784,-0.5888579930205164,-3.423701550639653,-4.276415853530264,2.5401866318390782,-1.5824163993390805,-4.329212717836838,-0.8717237507327629,-2.9608971108338498,-0.8846046732987021,-0.754551359120599,-2.0354641116288077,2.7799272342066432,-3.210797098800846,3.343202739768198,-3.2977878810155086,3.7780990516381046,4.590943858746923,-3.176829068722482,-2.4306557849400092,2.752705672803699,1.8181334389099557,2.87824134228599,-1.7126866197707797,4.871265463772025,-4.246903958181924,4.789508795443557,0.19661692603187617,3.074510631612116,2.3532146501607616,2.65418554903488,3.268667968287839,2.1003229798131886,-0.16264437807094753,6.432611447387768,-2.2885075680735087,7.981101917750409,-1.527693550385751,2.6569506301490637,0.6524117854207026,5.674763146937255,-3.363343890945556,2.938103436408267,-1.9507766986718367,-0.907599164277724,-0.4758353584222735,-1.6530736361453766,-1.164009496995228,3.200152210324249,-2.5398154209902013,0.10898667354302387,-3.5286756379381035,3.0411880597031926,-2.409525457604002,-2.7233956851297343,-2.4735472718072797,-2.9659145881038977,-3.139363774412895,-3.3798863536071297,-1.9974244847057843,2.588195316599779,-0.2113996637096336,2.7050905695235157,1.6894583232635274,0.491775201388459,-4.280725773372274,2.721657640629849,1.627036041985135,-2.330227895799335,1.7985133253067311,1.8629667885437193,6.326380808728994,0.32411187409712583,-1.3024837314694986,2.5735318053320775,1.117047347631472,6.177501986993125,6.070943396074208,4.235269224527958,2.4604270622766324,0.1652867948530452,1.982095054646126,-0.9832616175801864,-2.7289988227891135,-2.589584056612531,-2.0077361818915063,-2.696286281048469,-3.274393543733282,1.1214437052236703,3.763664834531944,1.0573627018400251,0.33802206176233524,2.424946466517058,4.898404879194282,-2.1126584266182062,3.803482097202007,-2.5941052418497788,0.01228860509790915,0.8775302653080163,-2.790826894907578,-3.5812927332477855,1.5680073244776986,-2.442598476942773,0.9042374639909684,-1.7507743170054944,4.244638284720895,4.194375924036109,-3.1538027565490347,3.1951674767315548,-3.535174798142826,1.0550698980852116,1.6895230324826653,-3.6174043988383717,6.232003978491924,-2.9008887953081777,-2.5268185664866083,4.6096122500242265,4.092858912659083,-2.1269629698448567,3.5665316851350606,-3.507191667483532,-1.252320306949667,-0.07435316507233852,-2.4639512108888204,3.1561189800147713,5.847939663337868,3.74784118347474,-0.10622396481273039,-3.7065067409259402,3.112619672599628,2.1884708137974904,-3.206630788220551,-3.2704886882071458,-2.4611312507850034,3.275612987414284,4.8610782067345735,-3.106267576496441,3.334412644566668,-3.1973198679832793,3.579279173850706,4.1385171683727515,-0.23080348138080634,3.0411880597031926,6.28863356328753,4.000644760420565,3.0692103523193963,1.7909872663924584,1.228496058909278,-2.548098445025439,-2.1902150539715444,-2.934668381327765,-0.13830178189762704,4.070361504639443,-2.6063427540190593,2.7839744856960653,-1.3976363711548203,4.883257310382432,4.67967981856993,-1.455879935805207,-0.43225992681086395,1.774612746912642,4.378118423620103,-0.2671691505659185,-3.2312840098411817,-3.256944333250624,-3.5764730880189592,-2.365590486279089,2.527310369013412,-2.9930956650236378,4.3399833275018285,3.4178325478611447,-3.3519665223782598,-3.3756694132063094,-3.393590147003441,-3.2523030723915323,-3.183760936177427,-3.58478862139791,1.4799040789858133,-0.3264506661368887,-1.0767845093866937,4.314991401774063,3.419588779306785,-2.354814658312998,-1.8255675849712998,-1.3086359030400627,-0.5520441402524844,1.184587491423106,2.1218507825114115,4.670086000238846,-3.0939799243934853,0.37004959420754563,-3.1086062878026435,-2.3722876456166526,4.594394472625466,4.868119656455725,-1.230503713438528,-2.0893581542154362,-0.14622664724162898,0.6714030065979465,4.093232996846119,-2.23997414450756,-3.022024479742735,2.1442260176085792,1.7310179282654177,4.832467122234142,0.07295134432304161,-3.720257339080075,0.656392032659486,0.8817716521656827,-3.230346842005589,5.3861695323954715,-3.1007635884376654,1.1449995402312758,-1.7881681980451136,6.037522943992592,3.9119131725190477,2.444975248549435,-3.9014899754285364,3.3889650689194464,-3.46035615570612,-2.9021634057590213,0.9143802709946982,-0.3786547792236337,-3.16654875365685,-3.603003011423984,3.4796589061203855,-1.2074889277770764,4.841206404148473,-2.7032326894962133,1.0421940565310872,-2.896380356563372,-0.7433328802385369,-2.642330807306772,-3.0764809600925735,2.990275807530121,6.542144214002231,3.2822973559233484,0.8944382360170253,-1.4774235297051153,-3.587311360466699,-0.8353460546996524,0.26961891458073844,6.396467133455027,-3.439777111583671,0.1273495681554062,3.7092245204930685,-2.9651773756942994,0.23765833813662207,-3.5262183414872976,3.648697051933023,-3.350006594824836,-2.3289937374641614,-2.9972144527069213,-1.1237064110365163,-0.9503491951884838,-0.46916258104263653,-0.7398378242335779,-4.3631042554421455,0.47933899850728123,-2.8760497588134513,3.6662974415539176,2.0223563746752546,-3.0840776741962443,-2.59717258544153,1.9966934168234975,6.02041656924155,-0.7359814366731633,-2.4379595304107906,4.377373073078288,-2.8762006450754636,-2.6005012268005796,-2.682855088418638,-3.831152026554995,-3.2439699556393267,6.177501986993125,5.509742310532107,-2.9018213270288378,-3.2795544154363463,-0.6134463997782371,2.728902114338989,-3.038089075443403,-1.41097808963091,3.5448133186155957,-3.6540409687175845,2.6686476740600193,2.2932099905843715,2.2340728637862766,4.992529256841307,-1.0181185017337533,-2.9206846947790837,2.749966464378005,-1.6068234531811658,2.1262725948422943,0.2420027738531236,-2.0939699027992282,4.574244396447714,4.261207927671117,-3.1093732254607076,-2.703185647093827,-1.2118088092277355,3.8851574503651394,2.988814042801974,2.1701244992554103,-2.0970558284943897,5.912877462237257,2.539451555679431,1.774323999600099,4.877248458639978,-0.44148057956409303,4.934509540343117,-2.924026905404105,3.798455260116067,-2.283617015169352,-2.9826203259693487,5.389033442033972,-0.3627874050538482,3.9287648188579714,5.789040493416546,3.3498655888877034,2.9829581323742285,2.579917046410511,-2.1315906960119624,1.7413377658430216,-3.43526343703341,2.7839744856960653,-3.177626537069817,2.3996890185117894,4.077572074945055,1.531132608055258,0.9056134684405914,1.5291528757834922,0.7898919841404819,4.032593327723235,7.80069222754825,-2.46344808170779,2.336026945516582,1.1746614552917327,-1.0652229531806374,-2.6890882011739983,0.9345100725791422,-2.999319117918187,-2.8862980821943465,-2.3568647854439124,-3.152078469433678,-3.3440092752426374,-3.630386525739132,0.9067487743325328,1.1091867773819497,-2.7643514461626664,-0.8759442326213323,3.4824858549358515,-0.01300542706330379,-2.4959382669344348,-2.0675833443023333,-2.131908219538617,1.616853789886536,5.950961478514002,-2.6895496874059264,-3.20831292512408,0.2905823298520833,3.7458639360970802,-3.7870807991145417,-3.1825563411227518,0.2906950390103349,4.654719039052279,3.220260321449013,5.278830901511889,-2.1269629698448567,-2.7862514933023035,1.9850983422337036,-3.2708422040646834,-3.464578778355694,-3.1047593233581625,2.805234586635308,6.633135272015827,-0.37952194302223446,4.599673793501378,7.6659374794979716,4.499460033865226,-3.287102354757788,6.191945080139134,-3.470875179098079,-0.811693995058588,1.5831408737660602,-2.3401391953130957,-2.696286281048469,3.8676890346202546,-2.9750933753146263,1.7424545129332683,-0.7988727944365079,1.8199127801295132,5.573456929587623,0.7599342540791434,-3.1971921397764493,-1.5671884940763052,0.6476431162265616,1.9365777710152157,4.8610782067345735,-3.471479151283424,-3.598538679774092,6.974121669901523,-1.8633170149291771,-2.068585459626942,-2.565201532056201,-3.296765823015846,0.5557672456166153,4.7766362074276785,-0.6508086892193742,-3.241727105927486,-1.75947439099917,-2.839940199819671,-3.221167986779656,1.0266844600399723,-2.6141325614166098,-3.1883121936613104,1.5905851082314415,-2.417177841161319,-3.3065128953629186,-2.709460189897209,3.0172033680380426,5.251228909985502,6.086739632689262,2.7071125080937497,-3.2122094221616098,4.851878262236482,-0.7955831567777213,-2.9624134102411523,-3.1368789928208938,-2.562535002584304,0.5489569806493523,1.2518621915439705,-3.4665887144496548,-2.6427869200802796,3.17457741054704,-2.897776011393704,-2.377088065760139,-2.0754051563630074,3.655998498970035,-0.40125864158729246,0.6564651328429444,4.7766362074276785,-3.9135536700157973,5.840061518637089,-3.092917120354715,-3.375322129964412,2.3296818267976622,-1.57516488827385,-0.9509709957384803,3.0954370729086556,2.665428873538185,0.5541320493335254,2.264546736299566,1.6335073238559947,-3.2790847806859467,0.23312487365977322,-3.5436938140039946,6.067725878107911,4.231519496086461,-2.7825840385828595,2.208929623690449,-3.177626537069817,3.906120612976746,1.054639379750816,-2.522377729500061,0.0025204262471190822,6.981165397226311,4.268115637768398,-3.8001717254179073,-0.9663131029029527,-3.315016525382736,2.654558689453073,-1.2836564476264258,3.854512059018333,-3.0904086783701277,5.927949593831089,1.366945346470085,-3.5024027546355505,4.285081794939921,-3.2225123324599694,3.9549312640564662,5.196418147737382,-2.3391289784004687,1.8213680855331065,-3.311608366284842,-2.499731390576529,0.17982544491389507,1.1349934284052787,2.0180716986533693,-3.5951865546578974,1.8821046944417636,7.270456209899201,-0.3647789339147621,-1.0465840035375291,-1.4944900624149169,-3.117794722559221,3.9225531421215503,-2.3692935317412114,-2.294759318414801,0.30543217460516503,-1.4110056418188561,2.8361611341019244,3.3329866614339694,-3.3937786359385735,5.674763146937255,-3.384281628847897,3.3074190585042467,-2.8701290778709825,0.354377765027903,-2.279185501968881,-0.28086775439845635,1.6213548932979722,-2.694262991043187,-1.7789241949425023,-1.8030083577834841,-0.8698764881430503,-1.3896635866009805,2.616072538919948,-3.5251420916532874,-2.741758477528566,3.4140265355394863,0.895396133286941,-3.7909744339892346,-2.8419321611816586,5.629321931775666,6.26863570434609,-1.4284229844479552,-3.3438036240078413,3.781003967792643,-2.6637175498395296,-1.1475456211743367,1.0569464038200327,-2.674654031090079,-3.1739212830311114,-2.5332227668673095,3.6821387212705488,-2.917822404125992,-2.036177210475095,-0.48572168336141347,-0.8299162021167265,-3.248653136239424,2.505751690433886,3.5570035780341307,-3.4388609901745686,6.305694451115932,-0.992198236082983,-3.552618562615026,-0.9176028594855338,3.2023509021836074,3.186379868087245,2.757069625693533,-1.1410792128953313,-0.48572168336141347,-0.02063750143135567,2.7133007170269123,-1.8631123442247948,0.5696028445475113,-2.0720699144413675,-3.420827764433728,3.0799425466447024,3.0765429179774566,-2.9593655633361253,-2.8341967614585615,3.8728999359679843,-0.9363101581537133,-3.137404090892584,-1.4832614127428834,-3.7648291863310632,0.13091571105798888,-3.0924092860634667,7.283072098190691,-0.451640766527293,-1.4762438272884464,1.7026533784537214,-3.040176301870434,-3.4936233217530774,-3.2349298646170674,-2.9621294830801213,2.3988650803753724,-2.218459938466635,-2.9816696894337555,5.071847838709031,3.544856502399714,-1.7572210239953427,-1.490691207378557,-2.7754325363531813,1.4432606238383794,-1.455879935805207,1.1668383743821495,1.9850392592821682,3.993879969410136,-2.183839258317399,1.6474729146834421,-1.483473130889288,-3.0526180178598725,2.2919507212971224,0.253073091767535,5.390863871529367,-2.5770920023522454,-2.9049834274487463,-2.258254154941546,-0.7537676680615474,1.3386678273133812,3.2736208550992068,5.289669010590252,-1.7077277859942173,-2.422212700036001,0.7155081270081911,-3.060325847085806,3.841775251262686,-2.3353041998929385,-2.909005634291415,-3.465740880512839,3.200069457398131,-3.2195060913029656,-2.94443152365263,1.9941284514597035,1.7255500880117935,-2.609481279062394,-0.6598823996026981,-3.3178989371244536,-2.643818690582637,-3.0528946247048685,-2.212984684063887,-3.229991996799108,-3.1464763707408525,1.335108339471123,-1.7727400626097292,5.587810889963814,-3.376682782860193,-2.5254735957039274,-3.4895572710475613,-3.468002645250445,3.20425496459102,1.255168644920563,-1.6386005067757496,-4.12246354432922,-3.0097065454265945,-3.4277708369032203,-3.7530461280503307,1.7672563924913964,4.308936479657096,2.1368548173609927,4.662413220067193,2.012720773071473,1.8629667885437193,-1.1253708271421732,0.6673958767784403,2.0043450092608084,-3.559825584356034,8.085412787866426,-3.2790847806859467,4.64900739620722,5.328255329116777,-3.5285662188585247,-2.8071222858023552,7.270456209899201,0.20003220295389484,-2.919940481301282,-1.7465623837790696,3.2281320177698554,1.8073951159801922,1.834485157595726,-1.56390527607014,-0.8660734017289692,-2.9630890304491904,1.8739905981058331,-3.1768362932706107,-3.3953168399062608,4.095026754142874,-0.9500554517654155,7.202962608440158,4.481604509484251,-3.602925646029543,0.16275577237859856,0.16174543381685938,-3.1224849421435694,0.10382963378267125,-2.8410130705693075,8.146030394677409,2.1873505070692576,-2.860529562610835,-3.517919490121366,-2.6985328216466993,-3.6504506004908746,-3.016140395117195,-1.1670668808219835,-3.3407369772262854,1.386549977050079,6.238942378549613,-3.4299623947176827,-1.1876251580227895,7.80069222754825,-2.679794156091064,-2.114554940085918,4.107593018611598,0.869466209821601,-1.6211439986405514,4.364487280755558,4.272919182620709,2.514822200947407,0.946579333229579,3.9051221572614225,-1.308297882480957,3.0360115651341433,-1.0711445943933602,-3.5843928167083647,-0.00633336839349377,-3.4666705149447594,-3.022460216689633,-2.814702725802586,4.968722767250052,-0.7126221773669692,4.30110457165165,-1.4772624492915543,-3.345708544845526,3.035675976098283,-2.4199048800045295,-2.105609682060573,-1.169830934659471,3.4026024769592285,-2.7125753617934745,-1.3074502159538055,4.401375758104646,5.684290519097643,3.0594860836151594,-0.5663133768710097,3.5479989905371387,-1.9790341781534255,-2.6272587681025716,-1.4790742035515498,-0.8169607503897195,-0.5645938749013109,0.8021286541754341,-2.3441762475876247,-3.6815746375357823,-2.442598476942773,-2.8919368612258145,0.28909123660750313,1.262496301797565,3.781003967792643,3.7270915898499637,3.615545644361453,-3.5360055477504346,-0.9249790139768924,4.506385538415744,2.6910203467374596,-2.574896106613511,1.5088139831784821,5.397556825826074,-2.9517415029904344,-0.4829384968724859,-3.322942053033577,-1.3074030993893506,2.737552163452312,0.053488562616846314,3.088277660201935,-0.6643075982922544,-3.2123773722935014,-2.1126584266182062,-0.7485739912824825,-1.2791025409913017,-2.905416770043609,-4.329212717836838,-0.08270980998886297,1.4483554637610754,-0.9382520706052494,-1.740417436362238,-2.68388127434619,-0.9200378846690475,-1.5859880903546224,-2.328441483962682,-3.342444074103367,5.534688559401202,-3.8001717254179073,-3.4574065513134644,4.000644760420565,-1.6360836268677883,-2.5009669342410175,-3.2042725702308914,-2.955865275155836,-3.1783483210923325,0.6308134554417814,-3.6276684972533775,-2.9318427345456395,1.4432606238383794,-0.8734252293556045,-1.7017398944632736,0.8817716521656827,-1.9264199088436804,-0.8604978570045895,0.0341272311454725,-3.0307299874033617,-1.213102147514888,1.8068804596635764,0.028194431790710742,-2.6670867760094383,1.540472809545419,4.230919218524492,-3.6912975484163284,5.415518288263667,-2.2536646511098795,0.23887896987200616,-2.279185501968881,-0.46846509531006086,-3.925733827877242,-3.4587441622532746,-4.443469095126545,3.416190744009557,2.310173446073289,-2.693498677377323,-2.4735472718072797,-2.8187234202263194,-3.456309529965987,-3.364632644293358,-3.2727657900990366,0.49663457054442567,-3.375322129964412,-3.1812459755167364,4.8812947317600335,-3.359978435442967,-1.3255859545492605,-3.6214940659310826,-1.7017398944632736,-2.874401865924719,-1.2002130833698261,-2.4379595304107906,-3.227968671294397,-3.563554335933014,-2.9411909515703902,5.792849410571657,7.838739884355566,0.14134959921109697,3.6055682385010814,1.0678013548195737,3.072267228550142,0.5992391540210117,-1.7578505018679835,3.451536785247291,4.542092997661276,-2.962916207100779,0.17097516680916724,2.7071125080937497,-1.7224441395298922,-3.185507450060232,8.106643363151914,1.1063633338753909,0.3384908027606678,0.900902301522002,-2.924026905404105,-3.209523345857111,-3.35770305848834,1.7296874511096374,-0.13333463059970743,4.8610782067345735,-3.341710274450111,3.1846315546360993,-3.3714597754270446,-2.4563372391918477,-2.6688844333197626,3.4061153086009393,2.346411218569997,-2.0970575575478967,3.9051221572614225,-1.9325216129619953,-1.1157848147579674,1.6533129000512319,3.7092245204930685,1.395683122708806,-3.5348453280985144,-3.301270585328207,3.3922986277449554,1.7914230460171612,3.6889019517141053,-1.4285462302121739,5.196288547612697,-1.0799606341377006,0.698226027786091,-2.2460790495640004,8.823870350144622,0.0038652840671891935,-2.811452624802138,4.2920225577757165,-3.062099297061996,0.8362499309123974,3.2411561184213364,3.994311047770416,-1.1523925523359637,-3.1812459755167364,-0.8611697834331271,-0.4049315625584502,2.6252011062856204,1.7052783983131574,-0.029066620115505107,3.109817219571098,4.171640310493578,1.4619274472021626,3.7458639360970802,-2.921643197047779,4.242193935604171,5.23287662676376,-2.1211763557030343,-1.2158031472996442,0.8636819628097798,-2.6488459758231504,-2.841401351542045,-2.587682963292003,5.006874952167838,5.346095547568116,-2.6768565953512486,-3.1164064926090935,-4.218651197915376,-0.17469153341127347,4.554204365196182,-2.9998491414083706,5.402121138964915,-2.5780107898321356,2.2490535021806184,-1.8255465163697078,1.5768578985370352,-2.6736465922058708,-2.820543098382155,-2.159149795282895,-3.668573801006788,3.249791861001247,1.1528711708684205,2.00298259081158,-2.936670380662226,1.4798946751439372,4.149869187207219,-3.645724391628989,0.7141753694396156,-2.8779623398707344,-2.2251617415569025,-1.4823094544341968,1.0639239383916501,-3.638769960084773,-1.6616870870746836,1.6454595239016305,2.621267514909408,3.17457741054704,2.938103436408267,-3.620883020179623,-2.083489719706953,-3.348819751894325,-3.580477024657511,2.683823666388511,-2.4379595304107906,-1.230503713438528,-3.5666998101656247,3.2414826405323307,-2.9118470985092513,-0.48193424653918027,2.340426832152451,2.099206216930497,-0.4837555539575544,0.08577295564520751,5.187457762944867,-3.4665887144496548,7.531068703032598,-3.291901086918546,-0.8611697834331271,-1.731731103772397,-2.725073290278012,4.6732040968409825,-1.888423300151754,0.030988298899276102,-4.304165228836769,2.5843327729573775,2.3887288541559664,-2.2450478182060496,3.348755675972945,-3.031088175844038,-2.21807252028333,0.2564456139544072,-2.218444429143348,5.280840929691382,-2.218459938466635,2.7339728289391774,-3.4403615569948265,-1.308297882480957,-2.0267786364499196,-0.6406241482138871,-3.58478862139791,-1.631184476910789,3.2416543718067214,-2.73052766053521,-0.13197600350488434,7.861734549780566,2.9905371213180727,-3.1776155282858474,-3.5472575609787866,-3.3945510491759965,2.53689027774021,0.15915441709767164,-0.851576146390279,0.23312487365977322,3.9799979367736937,-2.7458647552749476,4.421584698390461,-1.9276723777351499,-3.4461977997096076,2.2564735255268937,-3.4871605080104366,-1.0417600416643396,-0.9249790139768924,1.941820859128173,-1.8481098866231218,-3.011000348814471,3.887449497204762,-1.0008444364674383,-1.8377761230581264,-1.595332956096618,1.6616004264122688,1.3323808822871672,-2.885957562096844,-2.836462994754329,3.200152210324249,-1.8002341459836553,-2.7007769744883117,-3.631199275138085,-0.6615298166742226,0.3135227904718814,0.2725470517690138,3.15049084026617,-3.2173089956344354,-3.308166508588369,-3.4615762067983846,3.7010509471322237,-0.45141073387854264,-3.2583315679653397,1.7954142480984119,-2.380940359210941,-0.7231789918652123,2.125665864276174,3.227395056679505,-2.350312295411426,-2.765808696404886,4.220995109650718,-2.8610074272409642,6.090177608959146,-2.8770539408506552,-3.073329030216203,-1.2743839138372106,1.7566214326792016,0.7004032278915056,5.48820365815045,-0.920978144894395,-2.7436275774348133,1.7377037369642756,-3.0033327638641043,-2.1179337812684054,-2.874576653355882,0.8629899016386735,-2.837803545985139,2.752705672803699,4.662413220067193,-0.17300233152380076,4.919185130306001,5.5010534156318975,3.343202739768198,4.79139722694265,-2.044148282670952,-2.02246491672456,-3.5346736176112583,-1.224312041111485,-3.0339291310205505,5.2146000795596334,-2.7592700975499,-3.325300217476706,-3.3452562441756535,-0.9807629527386624,-3.3225692521221193,4.439389024257375,1.6364310664502342,2.322620768885581,3.7445332078192783,0.3793879589759423,2.9331119155324923,-3.715406221229551,-3.3858459224451587,-2.538717312629993,1.8658497516722028,-3.588933227183749,1.7897182138299537,-3.4052410225730676,4.575429995641707,2.758526075096424,-3.3178989371244536,-3.0348937480819957,0.11048979289334565,-2.710413220727677,-2.5074837424769574,3.042580723127756,-1.120948111123704,1.3766617962636492,-1.00789099960462,7.221269135011883,4.839791700361956,-2.4307966128571814,5.576708598051285,-3.117445960230119,-0.6492552464292005,1.66496030240642,-3.6801546835435346,-2.4018840368133514,1.9626060430946382,-3.8188509819674157,6.591748433834745,7.3393488015519255,5.294856904118742,-1.5944719575966393,-2.8497572088681373,-2.043758332439551,-2.8339905533144076,1.4798946751439372,4.585816423392595,-3.195617513049563,-2.4735472718072797,-3.2196925992476344,5.440530002189852,1.3970263032870447,3.0663537688837574,-0.13830178189762704,3.661966582288275,-0.3210149308916314,-3.1645923233603623,-1.4066030912477683,-1.1116398364356692,-1.3781889798241398,4.30868853006374,0.534833601766024,4.789856321470237,-2.6235952120618045,2.871225979983159,2.2799901506671234,6.629732296673096,1.6995507283083628,-0.7562447619871236,-3.2008656672107114,-0.0954605554816334,-3.417391892344081,-3.318403277343536,-2.9719048022014265,-2.2951616441181377,-3.163915409638791,1.5721754548002682,1.5180355833128196,-3.3612384074232424,0.4592672652276535,2.5934107962553967,-3.0146054781223826,2.3295555054752084,-3.170763372924379,3.5479989905371387,-2.4095897736651875,-1.672315054766474,-2.7681800484992376,-1.097042501424079,2.3296818267976622,3.607224431449477,-2.7983924313082484,-2.043758332439551,-2.5250686834186395,-1.4322212600949351,-2.758900515367714,1.6167595853030305,-3.130150260542297,-2.7325916503938807,3.407939469891227,1.5536872999577824,-1.7856630970738014,-2.2022370546646557,-0.3152977390856411,-2.5878440910030664,1.9145123724179203,2.765789059712605,-2.896380356563372,-3.016140395117195,4.927905815924393,-2.6768565953512486,-2.1296565142608856,-3.478735099893589,0.16186414591113082,-2.881315296185321,1.0127942956707658,1.7954142480984119,3.673256673794885,5.078396401272598,-2.200339400835346,-1.3028114159559774,-3.3250097274644324,1.4619274472021626,0.6330756963687236,-3.2986672099162857,4.720960905347403,4.08271269594845,-3.5262183414872976,1.1797550112880255,2.243966780214494,4.494538563346643,3.8421051784789295,-3.634898054862319,1.734954517644591,4.122891997689193,-0.39809977899761007,-3.8384488120151303,1.8552536799795871,-3.3099308372222787,-2.9517415029904344,2.4145481559334727,3.627508600058422,-3.338203971403325,-0.6059965682018568,4.228714020777652,4.5863551838888466,-2.307067614327851,-2.906569626334367,-1.7351088151166978,1.3413104515179848,-1.9913781221080176,-1.935842653475491,-2.914843850270246,4.156202418000005,-0.957038704600734,0.41939927193653204,3.6324847163163,-2.739148961655199,4.806038204430809,-3.205465612196179,2.4477708060937444,-1.336717037990616,3.202763565409462,-4.966834549427241,-2.34208574555268,-0.4595731775616776,-3.4416951516578678,4.848616657630958,-3.615497162074767,3.5990114263149104,3.8259971185744313,3.3320313466315437,3.181887352743184,-3.3075498027019585,-2.3753184827726073,4.133032989854631,0.13409517189024614,1.2175826985608942,-2.9669172333720075,0.17982544491389507,1.8292015998503381,4.506385538415744,0.1569826376973874,-3.2127248534679955,-3.234282390041135,-1.9004893547867665,8.259442368467722,-3.1368126777938934,3.763724334409319,-3.2540625000403263,0.49049900679667985,-2.1773199835026453,-2.6924971170809244,2.2628830854662407,5.975394712135763,2.3050796757781606,2.8794604999618416,4.470564370487031,-3.0029526882628446,-2.0876784836613655,2.4925343955489314,-2.2692886471757374,-0.46993668483990503,-3.134986840400184,4.743735357400368,1.5134598786714926,-0.9887330233029213,5.749301982436721,7.152253838321643,-3.0874124600528385,1.1572082089240403,1.976197502890795,-1.19846812807588,-2.8803686848446284,4.674028157252794,2.9308778988584896,0.2627549084256265,-3.232039964883266,-2.6608224982656745,0.1872276247804191,-2.9850033626899575,-0.8360221368160939,2.539451555679431,2.1558076791278356,-3.0150109647971326,-2.31321190814989,-3.140764397809372,4.540497596752356,3.7528518291906288,4.654719039052279,4.60415791815832,1.922127894413502,0.6974163289977208,-2.3441762475876247,-2.9324007569830792,-1.75947439099917,-3.673807275622875,-2.40341567153239,3.449099855865384,6.55607166348792,5.244670603136041,2.827278497635491,-3.284706005648334,1.6209329826369039,2.822698760298314,3.597306889732222,0.39390072532228765,-2.702584649035133,0.09461596791453183,-3.2303600511441015,-3.68392918075897,2.880863204213034,-3.545347461121326,0.2640188566463537,0.8414960048226973,-2.9813687018049873,-2.8648040657177023,4.827426745920698,-2.91714145188165,-3.2288466635023507,4.407977198389578,-2.41117778893785,3.236002367003583,4.437854660151132,2.4897415812242514,-3.2482764715020487,-2.0970575575478967,-1.340768920847386,0.7384934937386449,3.7235519365629024,4.547643159197222,0.2212522226520655,2.852498112375191,-3.2973975296651585,-0.4994931597895655,5.565731679180512,-2.350312295411426,3.0007187269479805,4.645794906409537,-2.9785158804247973,-2.480526698628614,-2.0806902560621747,5.5520563661460605,1.7868866275212127,3.380430674227349,5.176696754678959,4.0091781026318145,1.1129042904193522,-2.863235016286106,-1.7856630970738014,-0.6056042291341188,-1.9974244847057843,0.8203111150488511,1.4287532927279136,-3.1232720130721714,-2.841491162945265,-3.1540133966190527,-2.403797520993407,-2.7681800484992376,8.01495818165155,-1.6868847618574407,-1.4346216113787846,-2.919082947575542,-2.123981757062996,0.10803771650043553,-2.7312404044167438,0.03109984527774007,5.355998890255403,-1.934451526163857,6.572970267029395,4.541979713121264,-3.88813653393528,4.168536244978057,2.9782725808188224,0.15949263475873796,-1.4102108618063989,-0.2735203959478225,-3.2347839653380484,-3.3751424916143815,-2.336811222821529,-2.4066869584657318,-3.1368789928208938,-2.921736352994896,3.7973247943947417,-0.7409638075680721,-0.5692745740308347,0.8293472285840774,4.745378533062526,-2.4595237260127236,7.298005719002038,2.23232561262967,4.634835547243878,-3.638769960084773,-2.0873322643988153,-3.6229401116741324,-3.7890722190561084,-4.1168750057300505,-2.8655064508352086,-2.7536057405969814,-1.7949979040534412,1.8604803461575887,3.4504923439534436,-2.957171329208585,-3.607736503610758,-2.2565177106394634,1.5138522659458773,-3.169414188830108,2.1012131933427503,1.7560621045217537,-3.3133560172659258,3.5847215858234946,-0.9474372945065677,0.012238106676385608,2.319497497380485,1.2441199245672745,-2.85680221742333,4.738234984487002,1.568767170135866,2.194307191411205,-3.0497471155310003,-2.8586326533069326,-0.577027078660586,-1.7693677531538752,-1.6862239396634309,4.738809461538876,3.808431341828928,3.604214487556325,-3.2085165165424896,-0.38963492807664235,1.619252786404528,-3.375589643278442,-2.9995555146589195,-2.015372120681075,3.3705416657431218,2.683823666388511,2.028519228079029,-2.456341983764635,3.072267228550142,-3.1528337310502748,2.938103436408267,2.213114715278675,-1.5533658219171418,2.704538292675239,-2.541766518283809,-3.133843210736057,-0.04466769663216226,2.3173076859264654,-3.338203971403325,1.6335073238559947,4.055240425025396,0.9322149076139497,-3.3013480813467506,-1.9884597430074373,-2.2556183581274687,-0.6213717393314453,3.994311047770416,2.0263055662883294,2.408926540883063,4.3318934971544945,-2.604375179583211,-2.8527253698312305,-1.3331758432116296,-2.855885431939328,-0.18810443375301716,6.128310692201082,1.5138522659458773,-3.1440794647515222,5.330630416749589,-1.917000535989953,4.595097371621484,2.627794642320676,-3.1689449760039667,2.135010327195813,-3.3106980248545383,2.9943874349363298,-2.317173937206825,-3.183760936177427,-1.6868847618574407,0.9234103976266772,-1.460047519661014,5.901924776198491,-0.1254944797159574,2.0075125825305924,-3.3490417463376407,-1.9655133006913146,-0.7332964262054006,2.0705784827259923,-3.0948658916388045,2.5321832992662054,4.247537054011668,-3.293045256735362,-2.5812562473040885,-3.941998625648529,-2.2873869399630284,1.8990871249583798,-2.7151392742719507,5.587810889963814,0.40385093791019827,4.698937739807881,2.5772911993646637,-4.447982326906363,-3.177568247609482,4.775481532100037,-0.15149596048237587,-2.99112028757281,3.1509623364201653,-0.7166504137898525,-2.0376785255520637,-3.3756694132063094,-1.132592633080577,-2.661761285488303,-3.5293790800135088,-3.3869162111646816,-2.8351948057254117,-2.0447843850386818,1.7190339934708232,4.016233582835486,-3.4972370068326915,-3.3856424176948043,-1.5301005613463243,-2.2019242838859245,-3.2537418634006903,5.057345346017236,-3.0690797875570617,-2.0376785255520637,-3.308166508588369,-2.9957904120145753,-2.5968713826181844,-2.71693308862266,0.9265324715591313,-0.6857145367770993,3.925101226124165,-1.25306221476584,-0.4979001758687118,5.2124944664519575,-3.5880396488575586,-2.952601286532561,3.8421051784789295,4.173119080477207,6.562279626124545,-3.110540742758492,0.41875263853618727,4.180209892064477,2.918105151935762,2.551539781128148,1.5108840806988726,6.802641802491897,5.195053464394363,-0.8886207530557952,0.25647788970057206,-1.3024837314694986,-3.149562437714047,-0.3100857170178909,-1.2002130833698261,-2.7980820450197483,-2.468404386136667,2.975610759244891,2.4356231376915964,4.996920373509171,3.132144216676119,-2.927605753144526,5.15504539082659,-3.2728518463128267,-2.556579140698042,6.644463738296936,3.7604707338632135,-3.794401612733395,-1.772546187923077,0.13776703376330035,-0.624721384517719,-3.4582474716581286,-2.988235076747139,1.2729207394718065,-0.6406241482138871,2.6523202132958326,-2.3441762475876247,-2.690549861543816,2.4405293180300793,-3.0617303828022564,-2.951021196687992,-3.0404264125837406,-0.4507507793528509,4.039246300628563,-3.419610495069644,3.5530201484800195,-3.858295271096764,-3.4855516112377387,-3.229991996799108,4.554204365196182,-3.631199275138085,-1.1383058385584421,0.08966774951349493,4.663618226411483,-3.205044136249559,-3.511315187969241,0.5738497122583112,-0.4829384968724859,-0.5263510866060943,-0.19626036137763453,-3.7964506957482467,-3.2244036138366354,1.736312583321112,-2.4909013104257687,-3.2594007281728574,2.963770343853784,-1.4285462302121739,2.346183834660341,1.8724237725800799,-2.1924799069693672],\"y\":[0.12595514295225643,0.1904217629531811,-0.2624176858149211,-1.5519045578248647,-0.14224385186065389,1.3156185754983138,1.5027911637981533,-0.8649279352301222,-1.3035110181810843,0.798204044535972,-1.7487902778558744,-1.7897140338581705,1.8249735305993653,-2.0275542125317405,-0.32787416929671176,0.9220158693708183,-0.3411944987591978,2.318877223817379,-1.282506971975886,-1.2136937002358152,1.084657325051253,2.3389204600945446,1.3117347277081761,2.790689074166779,-1.5345872799806632,1.4802077547924222,-1.628315165266723,-1.1462893293814773,-2.3641484616158266,-1.6661369580947214,0.516608130336553,3.1118669660451714,-0.6392752283828114,0.548064396422091,2.0084925766049917,-0.8240227841264548,-0.6031883513458911,-0.1884932771423851,0.462479798296503,-1.299373800496309,-0.3114399708105237,-1.1622085245210327,-2.253434124356131,-1.5975197417672478,-0.9455820922652373,4.174792860170558,0.23190722883865805,-0.1971982121111609,-1.237111399090588,-2.3202875830061465,2.4116463431102053,-0.7749497445452681,-1.2749393729730356,-2.285906914209573,1.5116535849628956,-1.6906952154893888,2.012697793398939,2.73811704390244,1.4310064134793727,-0.7547608004642608,-1.5613585901897966,-0.21758010638324113,0.5671635029380361,0.9192719620407183,3.448893265294663,-0.5435250884758378,2.6200370598361746,3.235310730362646,-1.8368564855488132,-1.4765517288797874,-1.0748149116149224,-1.4092648212764858,-2.47946985428901,0.41777905535825277,-0.3041112934193616,-1.461741300740994,-0.6967130224245538,-1.6661369580947214,-1.5226029145086613,0.6033460128435061,1.7460915242784762,1.216907010268167,-2.040795294212153,-0.4823088260063828,-1.7132568411490794,-0.9547101518799916,-1.8301153252602231,2.830277062137683,0.39041029621684353,-0.4338060884979719,-1.31018374174981,0.10990743530707195,-0.22015156030840952,1.1210143226841083,-0.40571846186188354,-1.818002618012953,-1.805773014563672,1.5368149227365349,2.985956764328193,-0.7649139406345572,-1.121152122721723,0.71901787279678,-0.06944642364760115,2.0236426389462157,-1.0965240494187893,0.9615017818944608,0.6063960792015382,-3.2915209549196267,0.5813084582755884,0.21787493630036509,-1.0931614576872961,1.7210410844726993,-1.3313779819048894,-1.0283522529602855,-1.5359825696554468,-1.1050027688540178,-0.970882501021789,-2.2892588947190413,0.6237506266102157,2.3003362417019244,1.4642476487681446,3.326362379309697,-0.7771064378796425,2.1160893550617894,-0.28067021974171497,-1.2261358254022372,1.5116678513110386,-0.5830431967239399,0.4807123783157439,-1.1626488438702802,0.5746616679085587,-0.5195680774773875,1.7123633701188556,-0.7709928506882083,2.476239279966627,-1.3706498448204816,-1.4892721308835686,2.773993221824463,-2.109924914153944,1.746222948682541,1.8467871179031565,1.6276178447880798,-1.1047918212631516,2.7320600452092574,0.17774066559291563,1.2027783182379332,0.9179782614663757,-0.739229195181613,-1.0780884308302274,0.5751848067071164,1.6600251764002043,-0.7258758359260598,-0.7200075277761275,2.099852984683739,1.3787879444660693,-1.0718379140626133,-0.819501068170726,-2.3911939851024147,0.6120447100137322,0.18391712474969585,-1.146710795617342,-0.7298128625064172,0.38529075074033686,-0.7410812334583043,1.872335087850593,0.40688376642234403,0.2454903646852966,0.1240640641688415,-0.4338060884979719,-0.29935402095031466,-1.5224221362032715,0.3539762131744195,-1.9953482978860118,-1.9434109339813888,-1.343955736419063,-0.5948756692215826,1.4179049253896314,-1.1848818846920706,0.5562668585605498,-1.7043037201593865,-0.6526240526962717,-1.083245159378421,1.61878732859606,0.1500977157609865,-0.622134327210201,-1.6543740898202919,-0.9961685881644928,1.4320188339278659,2.062950250129275,-1.7063629066254944,1.954426982833457,-1.0458343804100598,0.3493417428122263,-2.7457131335399554,-1.72648028230165,1.789639886862797,-0.4114488691607598,3.522501804598526,1.014138525615517,-0.9859628295920231,2.959994294215845,3.5578390624317375,-2.1569268041548204,0.8944780459401329,0.04194201429816157,0.11362134212536637,0.8268419889009797,1.4519654734609455,-2.1929189841787395,-1.5825848173242028,2.3977898206718185,-0.21176170227170482,3.4022630701685412,-0.18889823651267554,1.6237804332885897,1.9851868243504414,-1.2938723912471732,-1.960223041989867,2.9151847235420703,-0.10411840501085806,-1.3536669004138993,-2.115372902067838,1.9481621498290491,-1.1829376411806982,-1.7085838672860558,0.9352858288026835,-0.5214180773274456,-0.6835242809746236,0.6773956166847,-1.2283445838771894,-2.3121534081880464,4.142192490063541,0.076352298750271,-0.474710383813273,1.8865868288662364,-1.4131126392961346,2.096474138023988,-1.1406650560063176,-1.5899535990704272,-1.4233292027356803,-0.8805710316595553,2.880935542848576,-1.1714587186262546,2.4118097855468035,0.9172330328829469,0.8926851466946878,0.7597229803418978,-1.545466289296639,3.4265471641328875,-0.30038014852338374,-1.26699745466971,2.2970892130639915,1.1317915464547297,-1.5502027063046357,1.0986879959830376,-2.041450204103434,-1.110960458678412,-0.48618312870491587,-1.2747469042731265,-0.034346572261987104,0.891012009099889,0.8258686530719349,1.61226283189952,-0.2898315423218746,-2.866098274515794,-2.640834291757948,1.6925492245989675,-0.9765236282181055,1.6237804332885897,-0.3411944987591978,0.06063603489885257,-0.10190466691772322,-1.1604882225866893,-0.3314274380466239,4.559205369384939,-1.9166510143894961,0.2680517422065153,-2.432335967293306,-0.5119512220219002,-1.6782578615748345,-0.20485111418995766,-0.08809124807164762,2.9230325628115557,-1.9164242158227351,-1.3543310537004385,-2.117195399122501,2.8191294094577852,0.9458323462802444,1.7134646547635362,-1.7710876519083085,-0.7609664518890427,-0.8337327484697655,-1.4287894657511457,-1.4240253265538187,-1.4690333013712793,1.7191722364497337,-2.0231935553563694,-0.8503078755545446,0.9895652814684174,-0.9050181788398529,1.7989688265454116,0.3318689049390015,0.6193914444655559,-0.8619518291614033,0.5522218837477807,1.0101614505292364,-1.4899450682673117,-0.23356298237442583,2.34030101500613,2.820546680059859,-0.5439822700008317,-0.871455059604415,-1.7065457961260428,0.820791878667785,-0.6609008925235443,-1.7098061936611701,-2.581798710685302,1.6951051718439496,-1.7951783993272001,-1.197875596756702,2.3860935862035455,-0.8923173281268896,-1.1155158967689949,-0.8926566949816396,-1.3618759630471087,-2.155937600705882,2.540761075714667,0.9729573308417938,-1.8956651014207178,-1.5353320926964558,0.3925497340574025,-2.1685771834594636,0.7853416528951774,-2.0433102346252854,1.9741495444663566,-0.7013267430355432,-1.0524741624647305,-1.2968545427564577,2.658325251941611,0.3135142988908927,0.48585981410271817,-1.6495280746878314,-0.5610522030830108,2.3596390513555368,-0.7003217393967172,1.230517387712053,-0.7539521219330613,-1.26699745466971,3.0535468130085786,1.440613113915751,-0.7784427588588458,-1.1674765187837983,-0.6254664700389615,0.9917520166517549,-2.0210482885433607,2.2947558284480163,-1.9158785314168487,2.777064087747908,0.5654004548149308,1.2364818552823424,-2.1626218771215626,-1.5960970458278845,1.6014604731016637,-1.3848181137278621,-0.8538063929222637,-1.8455628493072955,-0.33091656621340976,2.773993221824463,-2.4538721383585314,-1.2237411181627182,1.5306997923215881,2.167117462888885,0.42053781132532886,1.8273620481327568,-2.5703416538522834,-0.9720283230923868,-2.3182427470480937,-0.7650583625328045,1.3255956060372283,-1.165086022668963,1.5195998094442398,-1.354737168951093,-1.5919195163505655,-0.6989716012529366,1.0535352527325,0.03987402163288549,1.1032919041987272,-0.9167590932977195,5.0730304198025715,-0.07666728549033086,-0.7285318191663027,0.9577953557435311,-1.149797441354751,3.284079991296359,-1.0904334221869068,0.6961453688350085,2.8577522687649,-0.39751902553884105,1.2348342542870128,-1.0088335169877012,-1.261978363685824,-1.8819227285600915,-1.8326557084328678,4.00749565064306,-1.3169914184751885,-1.8301153252602231,-1.9448430438306585,-1.5473124384886907,-0.561820340325889,1.8516904781412835,-2.168870323480693,-0.577478596587794,-1.9778591572218267,1.0827468394956796,-1.4086358774150205,1.2139116777067396,5.219732497782442,1.5907746767524868,-1.5004763026484929,-0.303220006899554,1.44687922100044,1.7838684458582401,-0.5947081019518484,-1.3730494863490486,-1.71245789651151,0.39120118054063596,-1.7125335412212819,-1.5960970458278845,-2.180350582903779,-1.7170983239790067,-0.5191128979089126,-2.3484319213269624,-1.1023084780536558,0.7532865692717814,1.8980572325564535,1.8589745363587593,-1.4754043706194973,0.5601700580940523,2.0961166909846938,4.10074594312304,-0.9923923465106663,-0.66582173251984,0.17942487810780694,-1.6765410422758098,0.4453071529264651,-1.000487221394655,0.06546914405999373,-1.5502027063046357,-1.013046439421508,-1.4874544384845505,-0.8683565623362955,-1.2332506182988947,3.002823502293711,1.4239080944362865,1.639365393087753,-1.745453782168791,2.239980406561584,0.17419985255072074,-2.263733329304493,2.3702512191634764,-0.34648256563750096,0.5566221131257467,1.7776047820123706,1.5691539422532346,-1.3335488265658582,-1.4661984837759028,-0.3989330522063348,0.7627837927164319,-0.7812778855230602,-0.39561257872128003,0.7283752447348922,1.578908492936236,-1.6218219861188363,-0.8182521854601605,1.5869159791863332,0.05242024785428768,-0.6631844378421937,1.2774820614663036,0.8232373363728718,1.323463063282552,-1.03699301260525,0.8618918612770554,1.6601897085959367,-0.2693943989478125,1.0437977613392564,-0.46981089230200146,-1.7108002603997066,0.7845482826477191,-0.303220006899554,1.5142142214254246,0.08152292028683968,-1.5960692562124128,-2.061980505752334,2.328005352052272,-0.6461904504451877,0.46926872462328945,2.9955105133795117,-1.5472997168362512,2.036326228508521,-0.8581151474335665,1.3812749044760324,-1.854984307337842,-1.0095635233879208,-1.391448334106453,0.2886477326034412,-1.8390990341511937,-1.503046101965309,-0.004750193020110075,-0.9847859166443027,-1.4028487186397927,-0.519981356615177,-1.828636822803044,-0.760895443559408,2.388454068280466,0.6716882500001643,-0.06952558368566171,2.9963915137782995,0.9396616914909496,-1.389592507153337,1.6213171266217192,-0.5452948972664534,-1.976117782365173,0.2049235726256733,-0.9621947614831252,-0.7660659350343454,0.5081297387072102,-0.47522027164528835,-0.8444246178626066,0.3277665560476129,-1.77687478036642,-2.326878594071742,-1.2453366192231372,0.6003607979808092,-0.1700737521337641,-0.12362100496772843,-1.9564062576250134,0.9332626370924356,-1.3538514086754676,-1.011336945446013,2.5727898438762473,-0.08400486569334327,-2.1730018663147677,-1.7125873228415966,0.6739006642064094,-1.4926945783016996,-2.0957194154464514,1.492343474938252,1.0196865302827467,0.4711080514496934,0.45791809629929575,1.9773118800265903,0.17166964271183616,-0.8370615660690554,0.19872063641818016,1.4440166154919392,0.11586241548953012,-0.6797841740313136,0.30882178081806344,-1.2111040950065632,1.3379558234595248,0.9254425473488078,1.061299816938263,0.49399946033008846,2.1584704891565263,2.084277710077726,2.790689074166779,0.17232884779027605,-1.2955307552721125,-1.5001651351420147,0.4349311866049723,-0.99507931179505,0.6271579401780925,1.9514220461613259,-1.785602809042567,-1.2534315473132722,-2.8619907504887085,-1.6263348955952606,-1.9886069672128843,-1.6974351877542058,-1.0279572810438824,-1.0331225106422581,0.3280058679334904,-1.0794687438868302,-0.4523596562404241,-0.329990352579271,2.1535455030592545,-1.1874765662372488,3.4945291748952214,1.2141776718998485,-0.25951567573858736,-0.6031883513458911,0.7960312488400951,-0.26603968015581136,-1.5788784866411412,-1.2400712425199099,-0.9994797117766617,-1.278153348451271,0.9895652814684174,0.003911526064806279,1.9900098361770506,0.9158930894878395,-0.7587120673272035,-0.38434299251087534,1.032519704472342,1.416523051916593,-1.8195076761513138,-1.2918816059700167,-1.6727305490935434,-0.9370021904661753,-1.1894497648947646,0.43113929248463734,3.289700467480519,0.9159587223200315,-0.21093100396707481,1.097696119951775,-1.408584943904146,1.0196865302827467,-2.169714793385971,-1.339050863521872,0.38391551766427423,0.7516779824676442,0.21736390118337962,2.8163002925642604,0.7051281265448469,2.167117462888885,-0.8050682038961685,2.485855127401243,0.7430696271884145,-0.9695576808472757,1.9994540720328533,-0.8322146880742108,-1.0774987461509795,1.426496605433545,1.4956627183777218,-1.187131473488865,-1.0916551005714594,2.7896663612647696,-0.4509081353792005,1.493612510048051,-3.08550435780736,0.4352389881448442,-0.8805710316595553,1.8477920834597192,2.5137223934614754,2.3099582990087195,-1.8455628493072955,0.9510120638784321,-1.852883164241547,-1.7358607510727706,-1.3923970789878974,-0.6410379210688637,-1.684511759305435,-1.2647328780635172,0.723085850986912,1.55562416984455,3.3019971248662454,0.7689191614531212,0.5699623698543984,0.9917520166517549,-1.191621774592271,1.7451612796348028,-1.776974218425495,-0.7587271889183189,-1.407461040703083,1.7529205243071497,0.8592339348477941,-1.2375418823788966,0.6550246508595031,-1.403357690794252,0.8676963787783863,-1.1302164096160017,1.145630360849031,-2.4908884411256587,-1.714978462320421,2.421446695421174,-1.3937829847470469,0.2539761401795863,-1.7280815541347967,0.9032446371336604,1.190166205067051,-2.8579817093915842,0.9141191780271695,-0.24387379912318485,-0.3421210137230926,1.2552548552528227,0.11169685422395904,1.6039068168382462,-2.5807230658385896,-0.4464250575862135,-0.7013267430355432,-2.005339449114183,2.06421017277134,1.5624208297430648,-1.7951783993272001,-1.7520635953052266,2.2470257548703234,-1.2226656212490985,0.05268361166058779,-0.5028531138764069,-1.6064016335668507,-1.613537370164144,-1.1860514670233524,2.8627417125786434,-0.05168122710642517,0.961692749025227,0.9272655920064823,-1.732869203764214,-1.3871054036344488,-0.15088896134351495,-0.4114488691607598,-0.774531742559428,-1.7446713438285968,3.235735532123464,-0.514017323583011,0.10873643987799349,3.810312750108483,2.4116463431102053,3.837946052263342,0.7911450885192113,-0.9758009578535659,0.631370010613336,0.057359359455295654,-2.0284803083607432,0.9870421344291052,2.544628174492983,0.9234205128079694,2.165267359110422,-1.0148133691944825,-1.5076942221741774,-0.6059907141448374,-1.0633975324694531,-2.082349137085194,-1.6535287814013908,0.0516498148721146,-1.0313237600359337,0.8493476772712025,0.9510120638784321,-0.7562073618553512,-1.0893732859416125,-0.622664743491306,1.936608504570945,2.2156897798119615,-1.4161921939225188,-0.23077724483223327,-1.1866504075986863,1.5275539491905612,-1.4294307809968225,-1.8054253626030081,-1.130920864585865,0.9435727208827666,-1.6650092503277794,0.191123157822612,-0.27975876279532097,1.7881355364151716,0.5660773260586172,0.016870546600287407,3.2389113934976175,0.7125787044592992,0.4421075579557686,0.4192224498346066,-0.04098611462684388,-1.5059434332045227,0.2630985890684594,0.36530671606651427,-1.8756190415119092,-0.3004143786873893,-1.7312981008993604,-1.7513987027407714,-1.3449279731256303,-1.307538341200135,1.2970222290720932,1.7180140259430596,0.8322236549158224,1.5804922570057314,-1.5861178228002761,-1.45997193007996,-1.5536434227095948,1.0335206922330784,-0.14553837411739154,-0.5921978512646743,2.001604986909146,2.7154134218855988,-0.9070661266036745,-0.37117327580779286,1.1577874443427283,0.22093847944290818,1.1321917722818289,-0.08276554383013773,0.11024762106283696,3.4551325335442065,-1.0349368298927064,0.9597015376789021,3.025640838017099,0.33507070298306446,-2.286635660828543,-1.2305391951126163,-2.001248807024809,2.133617230868717,-1.784803510926203,0.4464835301476693,-0.42612039979715455,0.4794926121068312,1.3373226945948702,-1.197667394070954,-2.465549642714039,-1.067975583248076,-0.5958416772449802,-1.3538514086754676,0.6739006642064094,1.6336841268178526,3.420892976465247,1.9279795751267867,1.1806120401082656,-2.0455075962024263,-0.1291561485749696,-0.6546995342215082,2.839610994223117,-1.327168661740048,0.48923036114890356,2.0842960702959576,-0.14651381418508674,-0.048342725821087645,-0.8467635611699846,0.8034044213489291,0.9642076063188508,0.5120374116485482,-1.1047918212631516,-0.13781040758449684,-1.4928279684623935,-2.1120225237245935,-1.080269359980474,2.10475087954143,0.30020600880299175,-0.17098970429735058,0.5361112434739571,1.3117347277081761,-1.0175284796310973,-0.2136095724803003,0.9834925720301231,2.44632463349772,-0.8344234857795859,0.6730829709754046,0.7065347945074753,-1.4010367074583416,-1.1136518014046692,2.0051854769563016,-2.501231225323194,0.16892758044048503,-0.46531194699075146,0.7213332863703419,0.8803864543399327,-1.425478660421004,0.2549386702779303,-0.97428158381137,-0.647937981507759,0.6270486485749172,-0.8495357906746445,0.5321834646421854,-0.14708753047804735,-2.2281733969061794,2.5738748255174073,-0.9433114009027695,-0.6941031708825791,-0.5363148514214064,-1.2290553537379176,0.1299564099414071,-1.2731794652195274,-0.10669345134118853,-1.1302164096160017,-1.1311195776375798,2.9332603682293605,0.7327266362614857,3.3795823936743727,-0.9719388905869574,-0.9803001969616527,2.251463965433339,-1.2901225668217162,-2.3360483815096975,-0.1884932771423851,2.2068597002669006,0.7754026461334113,1.1383735815943086,-0.2158726238806417,-0.6090556041288735,-1.0135276400108943,0.3628086176825057,-1.458801460136754,-1.4133386605137337,3.1053559899266765,-1.6244178147476196,-1.6243354423091036,-1.5023772662338633,-1.5811283832828396,-2.2700935621415526,-1.2818931627332895,-1.9049891984658422,3.5569672306951294,-0.9777043292137677,-2.1596419788684673,-1.4402821559882966,-0.9660837732381777,-0.8444246178626066,0.3788133623428974,-0.6697648824998248,0.09472428552194376,-2.1455220210917876,-1.4437509226567447,0.661072828621213,-0.6154011927821021,-0.28148834612536805,-2.007355780999883,-1.1204569283112995,-2.3182427470480937,0.48789781038389923,-1.2281812435916004,-2.182378639016949,3.331442080916712,-1.5965940996247754,-1.130920864585865,-0.9937594601938959,-0.9420605474049115,2.4093093485011776,1.7482645053940327,0.3903763168974978,2.944708560795485,1.5854175446456034,-2.8820236417558003,-1.449735586559929,-1.5744718766230235,-0.29789290600347706,0.372391417255941,0.5359270755849262,-1.5244961290356565,0.9820327139090553,-1.8670108032453197,0.10457398134971575,0.756050948348366,-0.5956671117215734,-0.39652203228548133,1.232727708026195,1.0760119665332721,1.936095672524008,0.16364194145174635,1.4431646521191894,1.296328049665041,1.3300817310065587,-1.0578544820690432,0.6436950969297615,1.4720858581180674,1.3932699722130906,-1.743938003002002,-0.328515104671421,-1.6114628256841843,1.4275943131522273,-2.2034828917606286,1.699966187352145,-0.6627523456298355,1.1541014772295728,-0.6896711266888829,-1.360355543822564,-1.1970613544359956,3.235735532123464,0.7435841679017674,3.2422662305708414,-0.22934240389827656,-2.266470511775954,-1.5023363788496475,1.954426982833457,-1.4323968493709234,0.5660850875229947,-1.2540031875187387,-0.7644143363144644,-1.0465194226169605,0.24736423745606156,-1.562420016803255,-1.4348616636971494,1.2798945722894086,-0.29924041720881395,0.30955546142616513,-2.8579817093915842,-0.7364128286909123,0.6120447100137322,0.2951019157322554,1.194176834076752,1.1159637398334306,-2.902451502865764,1.7296602625677313,-1.3398995143873071,1.7876310656662047,0.9544637131444366,1.6668240703526798,-0.6059907141448374,0.7540743748071428,-0.027762921692360786,0.8431605951046544,-0.9518633623808105,0.848198636706205,0.11329719835452474,0.2892565414452428,-1.2722639849963462,-1.7868480642402536,-1.6123615181683353,-1.3872892190075994,-1.958041091299448,-0.8064972778226774,-1.2215575999939938,5.347136269965139,-0.7408849488495391,-0.9341805475593059,0.8602975643866,-1.7602323253407723,-1.4578561078452081,-0.5606484730462025,2.993429330697536,-1.853494869933,-1.5971945508465861,-1.7137307500818002,-1.4741875198333452,-2.040795294212153,-0.9494823662828452,0.9486200000040379,0.6077905302818225,-2.0335293908559433,2.097136438600441,0.9440633068364666,1.4950312990054633,1.485084615854378,-1.7292618705223883,-2.004003809066051,0.44882759009866124,-0.4017706850017329,0.9936468508061423,0.7802464008722543,2.756715131937052,-1.7868480642402536,-0.3036779318576985,0.5930619098534565,-0.13620242277734163,-1.699825224908285,-1.1785788468567466,1.4665770542800196,-0.4845315089661516,0.028145934052718813,-2.1636473932973637,5.066204786982283,3.5969116425779823,-1.44911496355969,-0.4293296198976064,0.2371059779004021,0.9294310705747177,-2.744246630478173,3.5730008762132006,-1.4065697794341334,-1.050523534584873,-0.9937594601938959,2.1500122811953895,2.5164928832490414,0.008132529567811818,-0.3381414114888975,-1.3690607220991469,-1.1013711687171688,0.033370365090471844,-0.5964701220198989,-1.6088925465283457,-1.859806896131678,1.035684979925782,-0.8820542031446945,-1.9312542971549087,-1.6478765821264332,2.545624106460625,-0.0739549278432462,-1.0376234360453,-1.9630338175278472,-2.136074701530695,-1.6719709766835975,-1.3781267257963352,-1.0095635233879208,0.7191140316412646,0.43249899367297756,-0.07137136655755702,0.0818591755054527,-1.939184249469573,-1.7944592387141698,1.062353715445939,-3.38209059424769,0.025532227052059382,0.6901736523840037,-0.37962362777969044,-1.4008016312370333,-1.1659160601361,-0.27774806344845837,-1.7125873228415966,0.11302074635306328,2.050544496082462,-1.195372781871981,-1.6559911095726585,-0.48435205640246987,-1.187131473488865,-0.9624428913651101,1.1857487296715223,-1.9465862350997178,-2.071170300727103,-1.7323639013039671,2.4349609334703235,0.8469370077919731,-0.8681073898435968,1.6631107753771994,-1.7394206760581106,1.2967950957674395,2.7606046218995446,2.3372813571929894,0.2756240736494074,-2.801260867737644,-0.2829495888038735,2.2247139982784745,-0.007978166793036834,-1.8891232291469782,0.5080612787980443,-1.6155035931053785,-0.5613309611426662,1.2216295325313211,-1.1781868998386986,-2.3641484616158266,1.0560154897247398,1.7210410844726993,-1.7034694531582053,-1.6447233758991813,0.15651888058501873,0.2117264658367834,-1.0222972488363526,-1.372114658964262,5.09785006378326,1.7640533702486973,-1.7908922198677122,1.1466135494973004,2.1153026088613194,-0.49724604493815755,-1.1171842260330782,-0.3231844663294676,0.798101588400047,3.130175328097723,-1.6019878909927716,-1.944860700958345,1.659133340811447,0.19662253202693222,5.09785006378326,1.9450420669514512,-1.1489712559719747,0.42111942379431,1.4105465944829074,-0.7789105250483096,2.481903459571096,-0.7013622449585948,-1.907270702780283,-3.1880891775127465,-2.180350582903779,-1.1218810264366172,2.378970910240069,-1.266475349588672,0.6143992860816208,0.5872574248332751,0.19297253275890797,0.3294308986236358,-2.7397175386987582,2.0653983399019427,0.47985628450899653,2.37374964718822,1.1215202974634788,-1.7947697952504047,-1.8964387239067413,0.33695654064001745,1.484688752902504,0.6304383236774558,0.4425998439956512,-1.4657228228022015,2.1335337485294357,-0.7131628767614259,0.14271526351841224,0.7298127343824463,1.6925492245989675,-0.27975876279532097,0.9136712090389513,-1.652879358361802,1.2211808880424433,0.7411386966878394,1.8220392150800004,0.29716256933161206,-1.545466289296639,-1.3648680541821563,2.1363071816090544,-1.1462893293814773,-2.276982683524498,0.6869281938911288,0.32288841904943455,1.5974989422019041,0.42504605031806864,1.5517001452760388,-1.314731003751472,1.9772090122234163,0.6171846344375991,0.3620603560571022,1.9708049461642676,-1.165086022668963,0.06752676535805308,-0.9049295594277953,-1.4397160348717675,-1.0071790449339573,0.14044155215694473,1.0867942983925387,1.3514069475364254,0.967841587390684,-1.6126603271253266,1.2567516015793625,0.9080109361702104,1.707694267276592,-1.8383940030072827,-0.31133933157236476,-1.1771626254366492,-1.784481982483545,0.6415266383471286,-0.3391896470092856,-0.41009246702116464,-1.71245789651151,1.413515404615069,-2.1353708155918323,0.8811463044751278,0.049841654019219125,-1.9312081769313074,0.4040404138741873,1.575049054053445,-0.7379114001800141,-0.17988070415811988,-1.7020630163002004,2.332193837466414,-2.1634433447283037,4.129425019713365,2.1639418172183245,0.47126889500074487,1.7529205243071497,2.1287582905415214,1.5496446951596088,-0.03674959073242787,-0.5944213950908048,-2.1684274001339845,-0.4293296198976064,-1.7020250474159717,-0.9689489039214694,0.9886462645955217,0.3991956713983568,-3.38209059424769,4.431741067966283,-0.6582619823106203,0.5364409585465668,-0.96859704402126,0.1783164937328525,1.158020851819833,-0.03519398002888636,3.710153765992601,-0.5307174575858815,2.3787387400017836,-1.8664584487895157,2.2276619306682863,-0.7265543734550088,1.3268960732693988,-1.9102064250114157,0.7974613275042115,0.9299214447536224,-0.10748948838878289,-0.499316101271125,-1.418673645165481,1.8394201542665214,0.11600518342342893,-2.0426168210771873,0.015638782761783196,-1.725437997769953,-1.2283445838771894,-1.4120529115117844,-0.21358971426398854,0.014475080340053183,-0.098260528607674,-1.2868240692338422,2.7100982278546457,-2.397078752118193,0.7431298763754332,-1.9414688932506763,-1.449735586559929,-2.3560528210125735,1.9815473497941885,-0.7298691601690883,2.815577472746671,2.517229497099597,-0.5830111273078373,-0.621708392036895,3.5880525448431917,0.8937306926642541,-0.2331425785417978,1.1032874779882813,1.1945992454226302,-1.2663318697971393,1.0370410895554782,1.0085461712465202,-0.2619407359988507,0.6193914444655559,-2.1090507963840315,-0.1524395656046192,1.2266042357817017,0.3100289270197026,1.0827287505822512,-1.289684772775841,3.3846713463679943,-2.0686243360594396,-1.1508340026112591,-1.620124298180056,-0.7450694088223052,-1.3604140983073696,1.9469302793473595,1.38943709426643,-0.32924787806671085,-0.6527317775765588,0.1880167310479231,-2.319461699698478,-2.1962037114447273,-0.2117150018976616,-0.040042684976020086,0.859971850738717,1.0092570586261917,4.912491210155948,-2.3690794790376586,-1.7620922024601209,-1.2226656212490985,-0.4117812635738971,-1.31018374174981,2.2909396070681076,-1.1781868998386986,-0.49299576775425247,-1.9883190233539225,-1.6816980828682597,-0.14539126237845684,-1.340112141359289,1.1095497955113862,-1.091300876316981,-0.6177506534862933,-1.6497373652110057,0.5683819553752346,3.1360201625482675,-1.7655559593273242,2.779361059172349,0.5600037038927809,1.271984968944667,0.5032425862051246,0.8691947685569306,-1.2812455965249616,-0.4464250575862135,-0.1582230963280143,0.012963045880195765,0.672688734699392,0.9158930894878395,2.5751602722475084,2.7037522280389554,1.8734784870115517,3.437037970001646,-1.77826539301186,1.3482467929791444,0.10909827934807856,1.4415501875824055,-0.9434406870820015,-1.4366533149645522,0.033370365090471844,0.1645174871365987,-1.0893732859416125,1.7025193413471922,-0.9140346850505376,-1.6538032420508078,0.0017696362482301805,-1.4530483738909257,3.1422416013960133,-0.4246813180445789,-1.365398541113325,1.6925492245989675,1.40439252506788,2.1462686292551227,1.3373226945948702,0.47289401995488,1.341488221783157,1.781956616392715,1.6290389700897052,1.6213171266217192,1.2516844380558239,1.5251224918603,1.63033362333077,1.0828949352453565,-0.474710383813273,-0.24040592455036355,-1.8352242734239657,-0.6192926329526199,-0.05964000556469318,-1.7323639013039671,-1.5788808721443683,0.6232372945596112,0.32301820674082865,0.07887180271455704,-1.1978447233088663,2.777064087747908,-0.5922889100945653,-1.3923970789878974,-0.7350946129122123,-1.4577492488578503,-1.393277291281359,0.34184331338602353,-1.2731726748460517,-1.699825224908285,-1.8740724819694103,-1.7782623009430807,0.24609686834573383,1.89484490305689,-0.05877957183790159,2.1462686292551227,-2.5544691443097434,-2.197534692272365,-0.9433114009027695,1.1926277619203363,0.2670218689547621,-0.5517234896200359,-0.33837791349751073,-0.2599373609309304,-1.478040329297746,-1.2500249846500742,2.891924406323751,-1.35952128981093,0.3855256361989493,-0.6164577633953299,-1.9728894887590156,-1.0513636053286277,-1.1750135763577387,-0.14971709094394703,-1.7137307500818002,0.7213647718031047,0.8530025942010465,-1.6395646444843854,-0.9155846627597061,2.1182316480841714,1.9834376209341904,0.09472428552194376,-1.0620657123552961,-1.8105757336468284,0.9183483674840572,2.473138891289357,-0.6059907141448374,-0.2062461236204881,1.874556873085758,0.40909222124217853,-0.2075739997175539,-0.5523305077958468,2.1348583237210157,1.5767196085884856,0.5067433793476108,-0.2331425785417978,-0.5308716850058686,-2.132974011863916,1.9064265818736283,2.44632463349772,2.1535455030592545,-1.652878408771542,-1.3797949301853385,0.27747930829573936,1.300669259888004,-1.7942307089572274,3.4025174704744154,2.377937714362385,0.37822697543405037,3.1925756413619384,2.1300133011811924,-2.0308361475062386,1.3332758947733683,-1.3495796625355512,-1.0139419135410908,-1.427126681474176,2.2256261009738254,2.3160691299935596,0.050322817040858815,2.1462824160480802,-1.8740724819694103,1.1237618846619388,5.072742769292677,0.24402167967004632,-1.9310054082645018,3.1060063837047482,2.1461786528163045,-1.5341723210334577,2.470257076111691,-2.2034828917606286,1.2364818552823424,2.3827789204004954,-1.7243592660238831,-1.9907871263628023,-1.1610768536384095,3.31585225934987,-1.4926945783016996,-1.0588482330315445,-0.87650100099788,-1.0524292415962662,-1.229047913414227,-1.6378612187055954,-1.3169914184751885,-1.6704483297194839,4.443161822166091,-1.9421992662330976,1.1860408714682877,-3.333193065938185,-0.14470585023319338,2.45687623535536,2.7194007633657344,1.78359378184711,1.0827682784560104,-0.9869724886013967,0.3777391431243162,-1.8348020455661054,-1.6250544098212063,2.1229110635190165,1.3738736127637932,-1.4218766285045146,2.8633618699265106,-1.2632477252981489,1.5260109441875478,2.5235152334822786,-1.3543310537004385,-2.3212971638400295,-1.1311079302938174,1.551280898514955,-0.3314718380291168,-0.4416583427795583,-1.5666313931705942,0.7293672544362645,-1.7292618705223883,2.7896663612647696,0.34158183447094403,2.3066430738738752,-1.6179085283904968,1.602524626492169,1.6113912670559816,-0.9433114009027695,3.4551325335442065,-1.592749175192407,-0.30046470926195373,-1.2762213487905443,1.060974567088481,2.2443842365744398,1.0334161463129785,3.704674979588941,5.263358373032485,-0.32787416929671176,1.4950312990054633,-2.8934311155250927,-1.8074088196237923,1.1237618846619388,1.4130437809524483,-1.2248737284303848,-0.7381497425505734,-2.061980505752334,0.618096303953905,0.4977531866906214,-1.1040286923267253,-1.1375807080845524,-0.4320567221688688,-1.6763164913349955,-0.5830431967239399,1.5223523053543828,-1.8297105806258416,0.37286979832879674,-1.275653723461399,0.6304383236774558,-1.5543016751922625,-1.6230411028698843,1.1032874779882813,-0.6856043907766602,1.820164101946533,1.2970222290720932,-0.16380710347716823,-0.21608548210366219,-2.0571656119756914,1.8080439824594094,-0.9834336554530846,0.14160014439998592,0.33873006741145917,0.4230272069683815,0.41510809321882225,1.2623749911017403,0.6088131831492143,1.4219541793047548,0.2371059779004021,-1.3618759630471087,-1.6800900363966846,-1.615760982125248,0.046461054980100905,-0.0036158610653472204,-0.26089919646943766,-1.743116542603852,-1.349639252023764,-0.14539126237845684,4.1848754437782425,0.44210935654895356,-0.6908828197427698,-1.6765410422758098,3.940579754150338,1.2140467116847304,0.7663047654279096,1.7394892737801648,-0.9412402071327335,-1.1934469213608507,-1.2696543772995357,1.8477920834597192,-0.278816748759524,0.4880655981750143,-1.567413193359369,2.3596390513555368,3.3518805441332047,1.79467572991851,-0.6462628641749516,0.1019598099400807,-1.6008967894439103,-0.3522676165746497,2.7236712807695693,3.4493453633834505,-1.805773014563672,-0.7846041677426501,-2.190816743153816,0.8096073124838277,-0.7051423388970386,-0.8732763712170143,0.7522649379404196,-1.501226542481455,-0.28403441344170405,1.0828793090056998,-2.464349142782525,0.10984337111048795,-1.7223170303577207,1.1864943232120417,1.0051201125782128,1.9477316475229234,-2.864176764760626,3.2644356939243493,0.7061451960674926,1.023611473030557,0.5280532032972453,-2.581798710685302,-1.6545151075216669,2.5820630940201563,0.49730213909576226,1.097696119951775,2.1639418172183245,-1.517779077492888,-1.1544848598479942,-1.2668780629481333,-0.9370021904661753,2.6724970231636473,-2.4141823528146893,-0.09532365156493007,-1.7412969590248277,-0.07176829047587938,-1.6765188282088708,-1.5694839898516622,0.7766833702037139,1.3373638643520258,-2.3705844746867184,0.9326981633716199,-0.2085537995512698,-1.7591655016586876,2.850732080776945,1.9547314101015971,-1.5960692562124128,2.2321462985439973,-1.0615161633231773,-1.759656941628913,-1.6003932129851608,-1.8949312316632847,0.7760675192664647,0.18113590731853005,-2.4091113634290076,0.4671634745297151,2.5885795679139214,2.51879968155821,0.9080109361702104,-1.0781949116469174,2.2127481642527016,-0.4476978931485718,-0.8445207539184789,2.5214940919940614,0.9018926347045988,-0.47896785947411313,-0.3646170226714246,-2.563584968275006,0.1765268728911707,-0.6182044261556761,-1.1869584447425803,-1.8610891772170286,0.9339599776985881,1.013096691635669,0.022313615014023413,1.5459508267423505,1.6463763832624003,-1.483002851170295,-1.2460505299104985,-2.581551903270554,-1.2243497222831645,-0.12116133052387654,-1.6202428983267905,2.2650702389808735,-0.6536156681868445,2.8633618699265106,1.9601049590020014,0.2931131391025775,-1.3923970789878974,0.2195564244655675,-1.9867310900659427,0.508713277256778,2.0769827030864985,1.5275539491905612,-1.0676544392401703,0.9043110256656771,-1.3277568227717336,0.6474152596111278,0.5513390004589973,-1.3874499480508717,0.06888923227839655,2.122468243853846,-0.7166456621485924,-1.3528562631742138,0.3539762131744195,1.5314807686063845,-1.0790852658917855,2.2580962087204703,1.4440166154919392,-2.010114789782582,2.3836012307079697,0.7853416528951774,0.106529040918622,0.7595910853713037,-0.7316574506885853,0.2563677956759154,0.09458865193674294,0.9750452258961696,-1.3576618580487103,0.11848356519725188,1.4109349802649123,-1.4714696129868756,2.280163834327125,-2.0595405416221597,-2.319461699698478,-1.9434109339813888,0.00350718692277665,-0.6163458840349512,-0.7650583625328045,-1.1785788468567466,-1.5057782912682887,-0.6556735492493022,2.2650702389808735,-0.3041112934193616,-0.6357204624140977,-1.164026458806487,-1.9143804059030611,-1.2436472693419254,0.2937936543469353,0.4264938793897116,2.4638203212290795,1.7152133230307525,1.8675936644804583,1.9260399054467932,-1.4245611200162387,3.7975843682124766,0.71901787279678,0.9642076063188508,0.014475080340053183,-1.0104102254413436,-1.6378612187055954,1.7395794423424704,0.10952370856876623,0.3176117072141494,-1.3815459212637542,1.7279443895806308,-0.7846041677426501,1.0270674150243608,1.6582182654364692,1.127764972391003,2.9151847235420703,0.3850373054318081,2.470257076111691,3.776989441994396,0.8926851466946878,-2.070273197277633,-1.339497556643553,0.7065347945074753,2.5019074836289965,-1.999075049328361,-2.785811073554938,0.9613102361939335,-1.5170100268081952,1.3102297246882366,-0.24439133103563865,3.042686039979476,-0.11503621558302113,0.22016585316152834,0.31280107743980734,0.5683819553752346,1.207208716694138,0.30614166791103065,-1.2983555384041214,0.8113857498749437,-2.1069638606785657,-0.7998162887480719,-0.7605787457275394,-1.0147529933951949,0.9375412967159839,3.277501134802305,-0.550458521074386,0.5874251198615063,0.6072502192247833,-1.409579408795206,1.435242141497154,1.703358271985942,4.281218204596508,-0.48258408119977125,-2.173449710714667,-1.3574083537441177,-1.1626384590270822,2.219978001758595,-1.6707870387792414,3.611344958627453,-2.2140870796313505,1.342775006594056,-1.7465085479962463,-1.4068670513297543,-1.46690850652849,-1.1935768023677729,-1.7459208229230994,-1.0422508802085422,2.7901932249864023,1.3712580822217402,-1.8185871823958968,-1.254325061921653,0.22425176521086007,0.5800986620359264,-2.374508574544048,-0.07137136655755702,-1.0496371494167618,-1.340112141359289,4.436893886221343,0.5656094084934108,-2.0288623478433947,1.0830239753161055,-2.2748297703553835,-1.3031039832186464,1.0597428432196918,0.11328489587435858,2.726195094143975,-0.6906381156161053,-2.6874391943736673,0.4252009125792529,-1.8998685587086404,1.9353825071702913,0.9419082420644899,-1.0701637392413599,-1.7104661137166293,0.1324080664965191,1.205008457697237,-2.8269134366236406,-0.07155274421079486,-0.14945329592219256,-1.9929255263747394,2.0588859195767037,-0.6402674158400585,-1.4131126392961346,-2.91303191652958,-1.244074019952455,3.0397684859361145,-2.482372229519397,0.6833800226492095,-1.7043037201593865,-1.6676497067599012,1.0592939493923028,0.9729573308417938,0.5562668585605498,-2.502417615086454,-1.8663145896353557,-0.7459739309182928,0.6151096867841865,-1.4402821559882966,1.8268386538919268,-1.5883755166455031,-1.700710757344545,-1.7785755100580192,-1.7583203634980373,1.722612358371529,-0.6896711266888829,1.498865505309385,3.7106808075214626,2.8174290459118305,-2.3690794790376586,-1.1951939876649686,-1.958041091299448,0.3091460691356095,-1.2276463831416922,0.4791865524892509,-0.5520503789967184,-0.024068566809084813,2.7796005015375167,-1.8083618139409787,2.540761075714667,-1.7467656953308939,-0.10382750911559488,2.815936702189196,0.12135367162621113,0.9858433410862454,-1.2742981766861183,-0.5991483022369901,1.2841830738893998,0.3130840560544713,1.1963485713705915,2.833057210833528,-0.8289144233631841,-1.6172072258507775,-2.2347243828694796,0.0710229273744493,-1.355052113377232,-1.4747656420003985,-0.7710794944745061,-0.5841747305992534,-1.8231059368931959,-0.278501647840866,0.8553462380655048,0.5067433793476108,-0.8737501737162195,0.29354043525918216,-0.9811579104249527,0.16274424632210907,-0.8845181985954284,-1.5767572108934012,-1.7832757716097698,1.644502764783642,-1.8556231372933822,0.7522649379404196,1.6614452395099055,-0.2030106419088637,0.048979111301765604,1.2386035168879814,-0.17646042261834402,-0.4050007664395318,1.3714161578797035,1.1509042640092235,-1.6641579224824148,-1.4413088938671401,0.6315304072733599,-2.2827589901584293,1.7152133230307525,0.7793979842323536,0.723085850986912,2.608390338549565,-0.968974192946893,1.0848976628963385,-1.7413406192672223,-1.882912394186921,-0.5292883622796695,-0.6163458840349512,-2.0633224367723293,-0.25163554558791634,2.6899622311927516,-0.3114399708105237,1.8999686351896203,-1.979873461766769,-0.8131921037977607,0.45809976128896923,-1.3962825376754973,0.1472672509755669,-0.2559344228036602,0.29145613605482046,0.572617157802685,-2.55507755027554,-1.4863270718540669,0.8510379906424006,0.4228179035488211,-0.5495618885638787,-1.5089554170669157,-1.579876577351061,-0.5505985163203803,-2.5421161462538295,0.6077905302818225,-0.10582680314451776,1.4072226423386782,1.340841629729689,0.1403500526152324,1.7355474473986667,-1.240051254254148,-0.7154656059694238,-1.5415097266668554,0.47198006204345005,-0.3110122584668381,-0.3314718380291168,-2.119741996395124,0.8363056124264834,0.4000264622699026,1.6031495994760978,-1.1602410243525967,-1.598817826176967,1.8577173231589794,1.2824390981989313,2.2300944445263675,-1.5516225352543864,-0.08809124807164762,-1.8188714167496036,2.5880999489167387,-0.543848152525218,1.9506464562782904,2.0111198285020997,-0.6745904574689592,2.300949475150209,-0.7117314215486087,0.6633137531591254,2.994326460181441,1.318121627988449,-1.4706822038413803,-0.545953980226445,-1.3446112382730617,4.849163795404033,-1.356981047540357,-1.5505936682059493,1.3918162036353752,-0.4102717174484395,-0.1260653668892523,-1.0494541074433366,-1.0328557106579996,-0.6619714345872918,0.2441201829076126,2.1968897488385473,0.36603595768251823,0.6621461262132343,0.10198699846357788,-1.462449527555656,0.621696015530256,1.6113912670559816,2.892144457702595,-0.5119512220219002,-1.35952128981093,0.10985441356050474,2.7896663612647696,0.6471144810554328,-1.4400874496620528,1.6301540228406828,-1.381810408009109,-1.5030059426966016,1.7775567349116388,0.6524242717517069,-1.2983555384041214,-1.44911496355969,-0.8295182725559591,-0.7548389124934795,-1.7029756473845197,-2.0520213527452964,-0.573068688598486,2.0397026290805353,0.050322817040858815,1.8589745363587593,-1.669158515358935,0.9201435894211568,-1.6277028948990286,-0.9340216050369083,2.173863633958375,-2.0901219357997918,-0.3094626383921246,-2.475095139711735,2.5880999489167387,0.401476288120638,-2.140254730318943,1.970884673327412,0.08851556512881774,0.970129524624825,-0.5345247060529582,1.6601897085959367,-1.3625499214452166,0.8632735135123891,-1.9412680469273942,-1.307538341200135,-0.25163554558791634,1.0887997339047772,1.2724044336513518,-1.1918034241395534,2.9346291209185686,0.16764124725813584,0.23779435211623298,-0.5176894593788804,2.057497516403817,1.5313920623481987,-1.359055660681686,1.5043773028571858,-0.7531912290675773,-1.4238538800606528,-0.764859212661437,-0.2175501318253082,0.5408251358324596,2.133386643754917,0.7218734443622169,-0.41009246702116464,1.4179049253896314,-1.7071365521525477,0.6460903189913046,0.4290919894908769,-1.5359825696554468,-1.7006349515049712,-2.243665053459517,-0.8495564437936123,-1.2866138742102962,0.7755582658109331,1.2568550722391632,-1.7312981008993604,-0.3666869308059924,1.2814224294606058,-1.7246534659578994,0.11938514608110859,1.1574922303740616,-1.7310306815141103,2.485645688279797,-0.4882609440273002,-1.4309578304070814,2.287770163097955,1.354566970770746,-0.17143628454533433,0.6683789533571104,-1.4628845041295935,-0.6372037380409031,1.2568550722391632,-1.6008967894439103,-1.5928272099691612,1.1420454807363178,-1.2119548252640462,1.9234092455157796,-0.16646817936559147,2.2254729346883373,-0.8027103704895568,1.9254867211042126,-0.8850190136367118,-1.8678158416395667,-0.9865611982452749,0.9613102361939335,-3.3128454984983358,-2.6177516528168665,-0.4206748981754747,1.4778151714947863,0.7855520367792265,0.2527393308290916,1.6493856681165309,1.835170908562528,-2.2159359601341166,-1.1921279034922383,1.9738776787728662,1.0683479520185788,0.6550246508595031,-0.5972120917801311,2.3224733963016075,-2.197534692272365,-1.2726851159284467,-0.6613365532009478,2.485346767875485,1.10956180812646,-1.3083775705926324,-1.2148965887062595,-1.8265535515526212,-1.2597417985652868,-0.0023956479138162326,-1.4133270885329612,-1.1712420564574313,1.9469119728502398,1.3184883196658101,-1.8529774129320595,0.7600399155178106,2.647795916296434,0.8371125957453444,-1.5512956965238196,1.8835546327695467,1.820164101946533,0.56287148813891,-2.3690794790376586,2.1347240856343674,1.0574784322129478,1.4602775738812737,-0.3244163926921088,0.15790011835892187,2.4248268386165894,-1.5774263345031974,0.5036850186655594,-1.7229150339868355,-0.7323665894622421,0.5332713289440058,-1.1771626254366492,-1.9421992662330976,-1.567413193359369,0.29247764678862354,0.6229255415106398,-1.6906952154893888,-0.7458385663343611,1.7646191396427786,0.9850334077573748,3.1360201625482675,3.6715790646999023,1.6257872394716821,-0.8298756287688468,-1.021292602125943,1.000162414619204,-2.4670448331881056,-1.4899450682673117,1.5187728387752997,3.4025174704744154,-0.704668008077768,1.061459881184008,1.4231117584142665],\"z\":[0.08915286816922545,-0.36854521032403015,-1.2923596272704525,-0.1149301295867766,-0.8114561989354723,-0.6291562163500954,-0.7247287034942307,0.30693720511443096,1.6499976522970776,2.005391907002331,0.10115905149345755,-2.3480831420380484,-0.08667973849100868,0.14039922070801053,2.923458673402603,0.27484124623541867,-0.7630588745930732,0.26040061980580365,0.015512381750672006,-0.31082647937769586,-0.37135957346667303,1.5623611641196782,-0.899711156240469,-0.41809503152282035,-0.3455796554226715,0.18790321037820099,-0.30609511357145974,-0.4090237050942394,-0.15279768953617212,-0.942249935974225,1.1940194036771477,0.8511105678180514,-0.9943449923521591,-0.03757572342386446,-0.8368098598770071,0.04895096288866073,-0.6872014370235889,0.966591325525644,-1.5904057686670205,0.21606301162226085,-0.27209570319063137,0.13263701387239352,-2.858390540701179,1.5826553580782936,0.1083671816806349,-0.06833283240820279,-1.5612704814307856,-1.404367065109103,0.08265973898004758,1.0944310056881494,-0.6792928899746953,0.4395647815332887,-0.4990701163634853,-0.2611400671031591,-0.37914969362073514,3.1506292924860104,-0.44392437275277086,-0.5435787086353743,-0.34011422027161603,-1.4818301814170862,1.132856889626091,-0.019305794295382997,2.0660622281981627,-1.3989944322170877,-0.3848492963992985,-1.1844401890580394,-1.5871106361950085,1.4531844806809713,-1.2299207450506873,0.18151249636454891,0.5440524121150446,0.8302940750924639,-0.4893730760829536,2.1143837143173534,0.38442625367927236,0.2077990019497015,0.019799191264607705,-0.942249935974225,-1.7449313062364393,-0.3825094372135831,1.6265786798528363,3.6787052920832277,-0.8911671522316609,-1.2192833184152698,-0.030672811640555717,-0.36923551115831776,-0.1430077785678359,1.3338850862810887,0.131947485846262,-0.5522147461071079,-0.9751459416285463,0.10965514781681722,-0.43311565982038797,-2.6255219714690665,-1.3576870080949686,-0.6297115910250418,-0.18465701140469715,0.09964598754156205,-1.835802992211598,0.4795979621608902,-1.3445212815444898,-1.6566930117357488,3.557017704904713,1.0772420593119876,2.8396983651348213,0.5074679682802651,-0.01530924166434438,0.6330166150440628,-0.9113953065868218,-0.36175233632869913,-0.08265311304279047,-1.4213551346113575,1.2292891312855256,0.4538651565942914,0.03738573678556129,3.732003662117056,-1.596436738332758,-0.5012667932209929,-0.38141475406188907,-0.8837921516169573,-1.328702819087162,0.37891469296943314,-1.5677287536163969,0.15622727266532077,0.5723568604489871,0.6485812930415606,0.3064662293573821,1.9093071601966363,-0.021499532437781535,-0.7332412573429115,1.3279301524803164,-1.6307766549460136,-0.5111517394278116,-0.17253156006707754,-0.0662215792156288,1.253266735792239,0.10004262476090092,0.49218909518522214,-1.0415432277004235,-1.3733569452311574,0.6026364899733079,-0.1020674016044117,0.036975258881622224,-0.4102827990460994,3.59648961806629,-0.13626462502768447,-0.3143398456034555,-0.9298891094250118,-1.8177760779636227,0.535263503198259,0.003773942570625043,-0.041004207000156986,-0.2773425896831846,-1.3845042524381874,-0.10517878883780107,-0.4454507909514821,0.7965927330888989,-2.202177941714181,-0.7131143992690233,-0.30645639274207553,0.05098437630504757,0.12900269342043907,-0.3119656026334313,0.050573392427982915,-0.7636000977223512,2.568469829979695,-0.2965321518064753,-0.7385051085055815,-0.5522147461071079,-0.7280319294523747,-0.1443632222123899,-1.292090499456343,0.0868782976553125,-0.6523997764235795,0.48827275944374016,-0.5574546324162768,-0.6899255925610123,-1.3665813668443478,0.08973732184975057,1.032433263457527,-1.9550174063368524,0.016047997013839067,-0.11618329664296959,0.23175084896004175,-1.0670448578248144,-0.34323334490644336,-1.9815301240956433,2.1003719472195432,0.7717338136963463,-2.395869261326686,-0.9467731001938346,3.791568503331107,0.004454524506272031,2.370162203584547,0.9809367865660317,-0.2348754091594666,-0.7778433664914077,2.0380039206215765,-0.9020674462761723,-1.5887655756431032,0.37573293819666875,0.31742216830163905,-2.142758293974847,-0.2036305718166574,0.5804771786901949,1.908391118914622,-0.1666271348289827,-0.18949542065012423,-0.6810112653378168,-1.295511243828658,-0.9476845084265992,0.3875736397440856,-0.27583707035715527,0.2546014477340964,-0.2179740607019925,0.08141568033373806,-1.125160710093962,0.07736197420416226,1.3436653956939781,0.5957413873021957,0.057847890896616266,-0.7874351270561221,-1.0275713800058959,-0.05038931636902535,0.2280302471299535,-0.9848276415724058,0.16948537700528016,-0.49974738004425395,-1.8225029717627577,0.2948229357078004,0.435173382106367,-0.09231923796603417,-0.22603752789095077,5.502815246585668,-1.1022340814552778,-1.4020803765829182,-0.8199699974840515,0.32155583937717636,0.14012600705172684,5.8676338757146596,-0.7210122910271203,-0.33957170093740946,0.36645064397570354,1.5387577516215332,-1.02089751118212,-0.35377774191645023,0.47799860291328944,2.433835950573577,-0.6523716452033386,-0.48530482407197056,0.5578413811404276,1.4917841458220038,0.10008796746418537,-1.7346264701846168,2.2271136553474364,-2.181638898633315,0.04945036217397394,0.8571240059255202,-0.07076334982651432,-0.4377781536231658,-0.42642063478003395,0.024314414266276476,-0.9740994804752561,-0.9656147949026189,-2.0617329852002815,1.17150474851884,-0.48347724818214166,0.008567402549737065,-0.2179740607019925,-0.7630588745930732,-1.341764271146638,-0.16191783802554774,-0.08057403895937469,-2.2533183619974557,-1.1617759730616775,-2.490936626029168,-0.09736562140622199,0.8837938198346104,-0.12003088643067128,-0.22658287637822844,0.22159718697159494,-0.04785625414597393,4.838626727161261,0.4139191870876844,0.3365693129191321,-0.9656569054233676,1.0800630695186693,-0.340973721325908,-0.5659276010352279,-0.5207258041382956,0.07157402848867873,0.07339262779778097,-1.443257768271725,1.1338301363176748,-0.09013641725003686,1.1086265900777381,-0.21703041392852337,-0.19145861106085124,0.3099031874079137,-0.8987868076528552,-0.1952122036539787,-0.5261469731786291,-0.08412948425529808,-0.5916997177055257,-0.324160744946586,-1.1811072223358958,-0.07562662265780362,0.082875875832771,-0.33239192313192406,-0.3816975549508428,-0.812567482842427,0.3916131061466212,0.3083426715687054,-0.18786426119479202,0.5005719697653851,0.2713981170384193,-0.23686571313006283,0.9531326801493896,2.3301153354862727,0.23107472561782816,-1.8005880977455455,4.159309313655672,0.3729058555536132,1.6119939416656697,-1.3226344787638213,-0.1961377884385653,4.95580381209791,-1.1450179398350382,2.4773360256986683,-2.347932774029563,-0.2318913695527238,-1.2039018575616012,0.3205882452324449,0.6137911227828985,-1.2308690319282667,1.0314693169545959,0.6853647821209551,-1.3385705434887873,0.5965168872734592,0.03165842797519554,0.8462067526708277,-1.3271913249917349,-1.0161243880526023,-0.8710071128741852,-1.3109211484546572,-0.6039638835516788,-0.20494623723104965,0.5578413811404276,0.004266548769655414,-0.7229602104380183,-1.848941911566878,0.01009552801733229,-1.3609663637206815,0.3110611420177201,-0.15838930306516152,0.26329692609596245,0.7644792581472397,1.5511465357499803,1.6458763458080397,0.3963221908928194,2.186761635310231,0.6373337294195398,-0.3878997433422012,-0.11888289625002314,0.4864156266750603,0.026254499153584576,-0.46792608142069386,0.49218909518522214,-0.16738707529595884,0.055371795628590285,2.587366321725451,-1.5746032832732137,-0.4603255166493503,-0.28764477673032296,-0.6449262919291668,-0.09281711053393547,-1.950067783256684,-0.7364726102750911,-1.2480363309742426,-0.8901821889947849,0.3287121972004929,1.6582858381413168,0.30931694709667673,1.3884431218907225,-0.1224049585105443,-1.1901133614423651,-0.2576225926369304,-0.6595429930992498,3.0192091436298196,-0.41296319137030435,1.7417094680652223,-0.0755347886864468,0.4286938498679504,-0.2566904981636251,1.5927849943832928,-1.1486225966337649,0.9270718000028246,-0.6100904242109942,-1.133978392647615,-1.8496651440978333,0.7994941606813672,6.67795030655832,1.8353734245207496,0.5712680674554813,0.048677974586015846,-0.1430077785678359,0.08197789828676111,3.0702189776598727,0.46801579122024645,-0.0076230484152873,1.3317381241598512,2.652448263078198,-0.15637312652889093,-1.8555142798778805,8.440065117249167,0.290088147462935,-0.867838673165592,-1.434035071333257,-0.15755277117202945,-0.5598001900606766,-0.8497744501170819,0.0702013743727071,-0.021062450936240432,0.14044127689770147,0.19623668963533974,-1.059969649573222,-0.49897256224921244,0.6373337294195398,-0.4260329409197493,-0.18959711873467336,0.0727704352148009,-0.41998954469329064,0.30023206422317383,-1.504269736298103,-1.2234349039853838,-0.6598949188184672,0.06090830387074821,-1.2377352524202754,-0.4194347782584568,-0.055914431825599645,2.2186382051368296,1.9904539413348983,-1.4793861091495313,-1.855416847246043,2.130896890673277,-2.7471773252042757,-0.37158216456008586,-1.7346264701846168,-0.21407874694661128,-1.1443049699285774,3.7331208769608755,0.5504985157220829,-1.2280813463420834,-0.07730507060231921,-2.137020208103917,1.5349584286007956,2.910597248426751,-0.1375754229572088,-0.09124276428941536,-1.3482387370050166,-0.4988757478417068,-0.42441487491886903,-0.5640963042096278,0.4536788956089395,0.06399837749311134,0.0714197307117631,2.588146487213146,-0.32159186284692287,-1.4013558556803334,-0.4805690272648055,0.10662635005118992,-0.7669944786458476,-0.032744725509530885,-0.3206426760101625,-0.5938769891163659,0.19799597552476617,-0.23255551473517755,0.22872369063919676,1.0315106381280603,-0.9662107744713654,-0.633991676071946,0.0137353217334466,-1.4743515383972594,-1.498865068347704,-0.060747898275361395,-0.3399481291602489,-0.014314870140510241,0.17969255062760336,-0.5598001900606766,-0.31834831403686176,-2.2528159088944197,-1.8566082245054065,-0.26352046205890883,-1.3261213422503129,0.8833128961805697,-1.571703662434751,0.7909942436675845,-0.3825808785911783,-0.3219525619750941,-0.5941859125259161,0.19934364134790705,0.1566445537425275,-1.2562114076874993,1.3122715337101354,-0.16987940929070772,0.3162361564524929,-0.5385226093150794,2.7410139771368787,1.4135550452302992,0.23916864195106946,-0.8376499962811458,-1.2751085137132905,-0.7328736620937327,-0.5286623353463195,-1.284053305729413,-1.5029299606362847,1.6077706551700308,-0.6444551886273088,0.10942958142829053,-0.46455324362314826,-0.49876614005021735,1.1729963333268734,-1.3282883824474017,0.26953762860437497,0.2311294161746562,-0.14679484146296307,0.3947493513857347,4.261013689610711,-1.4885738823910994,-0.349063144860422,-0.3855164192082767,-0.2730956300368501,2.041053432254686,-0.10251665116090845,-0.6428460318866528,2.325927092151284,-0.5160632348827165,-0.3946085342672015,-1.0404198750143094,-0.008596130598164942,-1.1150567168957508,-0.5521363361340458,-0.3496644100851932,8.133438580440023,-0.07340721444908056,-2.1778402708614006,-1.1857461911306872,-2.435132308368628,-0.7091511420132683,-0.9214736402498832,-0.23995974999416037,-0.31480292569223106,-0.1894518824644099,0.24547759391379587,-0.33477642880765435,-0.18665456250305457,0.2762041182221686,-0.4861621088067937,0.25225587749547634,7.17310082466062,-0.05607092431936488,0.11335756788744622,-0.21973297087886426,-0.2025526317881605,1.5586579461817784,-0.41809503152282035,0.013266799958241057,-0.44440394522752324,-0.1565050055226988,-0.2579140742340099,4.144749694340386,-1.6539832119746136,1.0507352803526442,-0.8603523975976174,1.6004229566985921,1.9271247360074264,-2.5882056215903537,-0.30502418739128767,-1.2861575333466706,1.536219459557221,0.12049905487949858,0.239848246724912,0.04417838449232396,0.30892099390902256,-0.1538617489089889,-0.9604302260524534,-1.6958878301594777,-0.8132531150578323,-0.05068681314628662,2.257922425443409,-0.6872014370235889,0.14821939683664737,0.07427881052471978,-0.28414172492389167,-0.46875241646034216,-1.0463604115806615,0.4030981209368721,0.3099031874079137,-0.002950045036428888,-0.23528489912634593,0.3358091883053201,-0.45465153738078684,-0.21716455597139528,-0.671360197842513,-0.3201696351746688,-0.36249492244768805,1.5686179092978214,0.22989780717937133,-0.13430377562828857,-0.15216631062810776,-2.0002834133396865,0.746903871887456,0.26650511938269467,0.4214045470293665,-0.2548029941181304,-1.211025947614563,-2.435132308368628,1.6950783358360897,-0.14434202331416252,0.2824301813190194,-1.5152196090866694,-1.342744811051217,0.846283339181149,-0.3211733224910743,-1.5746032832732137,-1.355132617397242,-0.028504406311663122,0.482975933517498,3.2140073608278263,-0.09618172021173943,1.4692272627553364,-0.10877677432880281,-1.2479438521370125,-0.9052677559670395,0.006117844659208276,0.5434422582700688,-0.9688406827503199,-1.2585487643728321,0.03508907617249058,-1.0972153379750844,-0.9067180752752294,-0.7210122910271203,-1.8574004856324424,0.6393776504191512,-0.41309089530013937,0.026254499153584576,-1.8796224624710636,0.15456443826878796,-0.5017953938204549,-0.2025032878288639,-0.133975413659454,0.28891980287298,0.18216484548739922,-0.5989670383346886,-1.5062340902455427,-0.7035386778478881,-1.5468203751965581,-1.5289906032160576,0.3110611420177201,0.3551285097305039,2.5560225893966995,-1.9349381186566177,2.6321482727297814,-1.339080733986182,-0.5197381906028383,-1.6417977650051472,-0.8358746979784406,-0.8949662413274255,-1.2636221357741353,-1.2151987869370193,-0.4486881818913678,-0.9323563642561581,1.4468470300013316,-1.1481001578685033,2.470265349952289,-1.0532973680080382,-1.082779908901602,-0.27752764919221684,1.4424457968442208,-1.0197393169330407,-0.2271574531403579,1.3828254172056385,-0.8446785896795517,-0.2366632143520941,-0.8690323578818293,-1.0288527131255654,0.6831940767973157,5.010971711385088,0.17795909316642755,1.0314693169545959,-0.4614753298363953,-0.3093865166768279,0.5073004602457033,2.3301153354862727,0.3440744673790703,-0.4883825948215434,0.05930624616585638,-0.9303902438957401,-0.21803022213040313,-1.329620781956457,1.2657394247199374,0.07697617279553479,-1.3049895512255891,-0.046215213240099244,-0.05408063448396949,-0.7690963087668498,0.0680286084250618,-2.488673084732912,2.695897884761651,-0.7778433664914077,-0.6006870685938462,-2.5328167012719813,0.32292990411550315,0.36049803338227526,-0.17344960046996752,0.23712554150129075,-0.6792928899746953,-0.05260658244120221,4.480029088387842,3.899943746443997,-1.9759309657198307,-1.5317946785071377,0.36915202396767877,-1.2015633295010604,-0.35348782678744617,0.11315541915603558,-0.5856843681116155,-0.18129084182547212,-0.5261813267528086,-0.1578869479710397,-0.041010501404588416,-1.9515474538743636,1.03955316825313,1.2340670911356646,-1.4258370163426681,-1.128139074882171,-1.8796224624710636,4.174874531102407,-1.6234903553890574,-1.5634223903132205,1.3103498566196508,0.08310121310061136,0.046135017173874616,-0.8063179810801756,0.28001927887460254,-0.6067317248362921,-1.5427760867793912,2.4662889841446725,-1.9168499576173417,-0.6931498909484388,-1.2596602440173632,-1.4525382668325408,-0.9942091656086686,-0.5092051864313375,-1.4953387112785501,-1.610468169673859,1.4313638128492039,0.06119405980896085,1.4251411571952932,-0.3012544974258753,-0.2971753983099245,-1.261458810572775,-0.47314194618416466,-1.7226437380303143,-2.0126179136708724,-0.4693423906776815,0.024402015107118296,0.02694088682534165,0.11390275209421154,0.5209286178840167,-0.29628177381762405,1.605119171439667,0.8147474989921683,0.21513921267151642,-1.8002816700433821,4.091351832094113,0.5077103961938135,-0.24660019524150426,-1.0489944469589954,1.2580329659293588,-1.1887230374590163,-0.1722165882975086,-1.9806010438085686,0.17593874087786737,-0.9608782791138434,-0.362451171093534,-0.5916124080745332,-2.1477291068104907,6.110745786111935,-0.12898923629926012,-1.0734174533432848,-1.0325995038071611,1.2742453583064275,-1.669197753887218,-0.14833921626197855,1.6666005935245383,-1.7248907264772377,-1.3134793412259937,-2.24792772983582,-0.824107571571027,-0.38899311499694034,-0.6690087957770585,-0.7379748554429556,0.26517021747182146,3.25877833263138,0.008582247302601122,4.002129821355877,-0.3946085342672015,8.133438580440023,-1.2869080258683294,2.7301623862374935,-0.05330727319476999,-0.9278240444482947,-0.050434598988851866,-0.20897665179425418,-0.31113216981199504,-0.5502048773280098,0.26756664271306374,-0.12507391483338798,-2.2796418079406755,0.15571546905394723,-1.2853155275280255,-0.11734283043110887,0.30131866085914016,-0.3189606122516377,-0.9018422162609875,0.036975258881622224,0.3396877358920936,-1.527668206650168,4.989216520385021,-0.6227070530467019,-0.3196079896650254,-0.6759134055174699,0.025780537872472406,-0.13747240928270682,-0.899711156240469,0.11432798391034059,0.5301069238676566,3.9021825684852263,-1.938046364442683,-0.17946770082916733,-0.6694675762658897,0.19552750165253688,0.5069288347579493,-0.11606311375780733,0.15975584958548666,-0.35623293672146833,-0.2813962786767978,-0.23622552632694113,-0.6491652992073776,-0.31564477376328637,0.5544986004646741,-1.4636945618169472,0.05957538288315975,4.928503068953145,0.18499784086893833,-0.11998225721136246,-0.022787817954264846,-0.8331195228161589,1.4128182373390308,0.12363859689332508,0.14392651001456702,-1.9718257781718556,0.04950712816145808,2.2432382452098163,0.11214864073770929,0.1097058650890742,-0.3053254438455397,-0.4486881818913678,-1.922885478615203,0.5462800056135098,-0.051084617266408894,-0.24951736409913644,-0.5020946690511724,1.0028467436187432,-0.014714963270992788,-2.1164015547234536,0.2676606995468511,0.966591325525644,-0.1602802385676832,-0.053574356515169855,-2.465492085173709,-0.3658490917155465,0.360272766987449,-1.928640556129539,-0.2504184918209053,-1.6259223098198805,-0.8895234025198578,-0.24412371707182678,-2.3961604406171944,1.60061319320809,0.16241193655643868,-0.5094634759124037,-0.663806630353074,-1.3651190443106782,-0.9143596878907139,1.412922903789077,1.4060688079034982,1.7277382640208352,-1.8109580277824056,-0.8956399125459952,4.261013689610711,-1.0009344657460193,-0.008731189718590866,3.8102453972651236,-1.7002643811309552,1.0881200942663811,-0.7213466343289383,-0.7304870118743545,-0.3453667001624674,-0.8972229429050022,-0.02446866052695593,-1.950067783256684,-0.7212072361990809,-1.2727649609356584,-0.5758642475558816,1.4640594696875089,0.36123615658091024,-1.9168499576173417,-0.07971035521361977,-1.3345947547419772,1.1286992747487765,-0.9323110448338919,-0.12559906471976823,-0.7109830364333369,-0.6561010872462459,1.005412317163435,3.945533617011534,0.11930152299871784,3.342492283404681,-1.480598883794878,-0.7532233166820794,-0.45420896485738116,0.09706775705395979,-0.4575415350517134,0.565256384736198,1.3984053921188728,0.43281517327717633,-0.30072385494515935,0.21147130007583073,-0.17247182399824734,-1.0613681097781313,-0.34857181460826037,-0.3004650429793803,-1.8232340811203698,-0.611389277992164,1.4209387143700034,-0.4836478310033579,-0.40897323919718825,-1.8768227535861108,2.7868736705963753,0.19345676596922246,1.450998445842017,-0.17461944812605756,-2.168955630379123,0.3102244311516768,0.50535225496606,-0.9135261096827585,-1.7994159028854484,-2.0889524517365974,0.12176937231207993,0.32292990411550315,-0.7427323217131026,0.3454682179582013,-0.25067907463931327,0.7737942995196674,0.17419951094530936,-0.9467731001938346,1.5493763514477912,-0.6777766286760432,-0.8638648621641872,3.8702529733257527,-1.9414821690623594,-0.14996540383490958,7.618975976147405,0.3243447582298503,1.570695885106352,-1.4131849379109853,-0.697506117854703,-0.2271574531403579,0.6485065653412889,-0.7131143992690233,0.23846907801984432,-0.6462106711554046,3.417915241780781,3.877003435347468,3.4807388881177337,0.2683920926055766,-0.15010656885748047,0.9210380396436314,-1.387181409773237,-0.1578869479710397,0.8197496298255597,-0.024990074367381637,2.92525008286512,-1.0184782482876933,0.4670322746272112,0.165658794817609,-0.20166704085734663,-1.6719593819650485,-0.7575953144444236,-1.0644075174094527,0.266614333988978,-0.31435206949219746,-0.1891106175982651,0.08048580887985511,1.3350482554041694,-0.5939321612382162,0.21939012801884775,-1.5549046249690364,2.181917133709677,0.3858844074402841,-0.35331182247001136,-0.8664564861538517,0.8234849396012075,-0.7204763988446871,-1.5545662387673358,-0.010780986361583558,-0.8911671522316609,-0.26663397151379153,-0.5312679938764933,0.35320871567175993,2.0118794415528156,-1.007799842686711,-0.5253639016642263,-0.14063176368382813,2.200959930385232,-0.37688922495662647,1.4613168135315888,0.24542628314195672,-0.8464608581607509,-2.0127261583599605,1.1717472943341753,0.6757908618885893,-0.7575953144444236,0.9009076302349894,-0.90752419270516,1.4446824713619875,0.15117010328421668,-0.9982655520515235,-0.11241380313457239,-0.27929040084842777,-0.921851062079168,-1.8120208789511294,2.372512791318414,-0.05965413924341403,0.021092615055118915,0.6880033577675095,-1.0734829785882007,0.17416568079942787,1.4571176996137272,-0.36134215993790475,-0.09191794311361103,-1.7235646363580615,-0.07971035521361977,-1.3558560365086119,-0.745920584448167,-0.9427097028482562,-0.4225195363941547,-0.8919137805854344,1.1877539457203994,0.2431964733132194,-0.2660286718290469,0.0664173042679804,-1.9102989065992915,1.7378237944579087,0.2601647292068548,-0.3881249677548438,1.7265593679944466,-0.06825648781591429,-0.036661444164017065,6.879526858877329,-0.23921061767032595,-0.8541755730057039,0.2574967316945766,-0.4208601725370606,-1.2562114076874993,0.4245725433789128,-0.494350750886547,-1.1566210370960623,-0.9940697417272463,-1.3718896143958186,0.282413293396096,-1.022162881407792,2.3451397472903546,-0.9339819481098279,-0.10464807308633005,-0.3204622445236997,0.0001573549252025316,-0.10260678647653372,-0.6361978361606222,-0.3496644100851932,0.9430692496087095,-0.7645256543469487,-1.6432102940934399,1.9531372935821811,-0.33930672500740666,0.006117844659208276,0.36009039669249776,2.898594573216995,2.4727260595876173,1.4205132154647833,-0.1495070943691677,-0.023548364552574974,-1.0744139963573682,0.42964274149615295,0.048783895166992976,-0.47584296614968935,-0.4732361244741031,1.4770747324622506,0.07815177690217563,-0.46928239555549983,-0.18011006201563362,0.015011407176019226,1.2397598364113989,-0.05895482165882288,-0.2744778748374115,-0.37088592609118104,4.571046394519576,-0.4457162498034524,0.3033131075063408,-0.2983866961045808,-0.15279768953617212,-0.47414385594310826,-1.4213551346113575,-0.15815041890502757,-0.07195363389554749,-0.3015400000049953,-2.0328357405798383,-0.29982733334050765,2.0920105431470084,0.4743975864040157,-0.31864590777059104,2.7634199431169235,-0.8873143708412838,-1.340039145657462,0.0470222831947401,1.2087224305795512,-1.1069042775176607,-0.18174071738054456,1.3564067465729597,-2.0422649668864934,-1.2794134939003663,-1.8169413485014334,-0.9119147190006741,0.4743975864040157,1.2054925166756372,-1.1633621089461335,-0.17625570001782448,-1.0047873770203362,-0.6492086382770252,0.0977235113827293,-1.964409708830698,-1.943149925262142,0.5056340024278687,-0.4260329409197493,-0.40185593952419807,1.2637333520724667,0.139994623023175,-0.7314831992194103,0.28109876815675366,-1.0090658562820223,-0.1237837357429093,-0.16688769398868222,-0.5322751821917294,-0.6696633089950895,3.1362558441245385,-0.23544218761142127,0.14661804007956886,-0.12119268539694102,-0.5805143120307983,0.7303363374769626,0.03077601289776959,-0.5274210054331772,0.20499341557930256,4.0035314114699485,-0.9475171529053013,-1.0143299958077254,-0.10098383267115184,-0.48347724818214166,-0.9942091656086686,1.8965055638785082,-1.134939506223311,-2.323158265001756,-0.25756796443144114,-1.7855396644523327,-0.6231489463622014,2.433835950573577,-1.3955895380478531,0.5745864138217355,-0.4090237050942394,0.009757209275278069,0.05597024357147227,-0.36004031062096553,0.8460649155995427,-2.3718876072360433,-0.3312636862741898,0.49794048544293973,-0.10222281253478624,1.243053427482301,-1.2171854612932373,0.43763503842179347,-0.8901821889947849,-0.2086507262668052,0.5741346193753265,0.1434287770856488,-0.39570563869295167,1.090172891190108,-0.25892973432666966,-0.7841326204133295,0.9693030847879995,2.236146648393343,-0.5736646388296328,-0.21257957844910252,0.22985979021603453,-0.160525772915888,-0.5253890611167111,0.156584250167861,-0.15903465881498774,-1.1264727224351387,-1.0581130011619595,4.614380800706041,0.19623668963533974,-0.20922631302525263,0.27524551038943607,-0.1788583394126489,-1.4803907779451642,-1.5223888707496183,0.2115183944109108,1.7207886275542366,0.6893057132348293,-0.3788153811579423,0.028408930635817738,0.7775454210289365,3.280073478734269,0.1590645024825458,0.7077683922744787,-1.7319061368031519,-0.5197381906028383,1.3382395407572938,0.8344424974015379,-2.505484153237294,0.7052256916403326,-0.0459831319634014,0.6880033577675095,2.0022184060274726,0.9330155668892749,0.06535855697597638,1.2009497205892268,2.3451397472903546,1.615284641384262,-0.15018612473448223,-0.3894199713304252,-1.0889593200914538,0.758313055062869,-1.3799756138490502,2.506360977064132,0.26558068441607147,0.23086308956443713,1.4140008835115598,1.0542472887758698,-0.4948924087802546,0.1467971746520988,-0.40975474098623743,0.8254414730041579,4.822988342879048,0.2477925118596201,-0.6869415407348122,-1.082485985241857,0.14274422002282566,2.6106047507992245,-0.43372144357232023,2.700919617686044,-1.4047201340543467,-0.16881097585022758,0.2948229357078004,-0.1628122614412717,0.01184292578382489,-0.3124541119168697,-1.1398105507170238,0.17091590589032604,0.6703656165692259,0.13170785063459553,0.3829776373635999,-0.6068854602069813,3.945533617011534,-0.3723782941630877,0.32828207769192924,-0.26163172024838405,-0.3036592368469227,0.08092862815550059,1.7814026153318014,7.603889796097843,-0.709539464822996,-1.3258878456463532,-1.1908809739687674,-0.3693977852797868,-2.4025463831732345,-0.9079187894113903,0.36515233461373553,-1.34221075879597,-0.2041622203724567,-0.08412948425529808,-0.41593154464434734,-1.4626437111903259,-0.5287788368545479,-0.9859955912556377,2.8086184825809957,0.25137026117606187,-0.034841402799542905,-0.4929627730804239,-0.18116066839164519,1.5112373355232025,0.739974624267579,-0.29137153921824777,1.1808092230170444,1.310294336229724,-2.7121320304353884,5.039716156445261,-0.9948879675320367,-1.9740956076496075,-0.18992458113833488,-0.3875497120172044,1.7950877473588143,0.6380118166485744,-0.11127525219493814,3.593816593747541,-0.13738850268633118,0.522112083885054,0.05930624616585638,-0.3746293212430755,-0.9751459416285463,1.2393192526275598,-0.2983866961045808,-1.362326161044364,0.157858902005758,0.5297082474306885,-1.0411735909853805,2.0133512950556978,-2.0580724306776124,0.8352931185017098,-1.6594550188453991,-1.9503030849172076,0.13788049954904585,-0.0425415025727766,1.4087921146642979,0.14912138991598245,-1.0753132329736796,1.940372513749465,-0.25496063311590533,-0.2966959582823852,-0.09514168096247548,0.17795909316642755,-1.0933035910792337,-0.809467315807418,-0.36337230355412153,0.3358091883053201,1.248961547523162,-0.5271887819868313,0.23145038598347176,-0.02575819751104453,2.2484425356427447,1.3673414020618015,-0.5186701429519626,-0.3548850999935797,0.4944811127995949,1.0644975404020136,0.2431964733132194,0.3027684013974063,-1.6234903553890574,0.04321771115669074,-0.3456272906554737,0.027425139800740725,0.08677874084686404,-0.14975066911289775,-0.6305513819554281,-0.27184310056643596,-0.18530675714575398,-0.48347724818214166,-0.2797958616498669,-0.21915415807100513,-0.7379748554429556,-0.4164356545924315,1.1598215816613484,0.3435192614669667,0.3743077505040374,-0.46455324362314826,-1.4527554857636766,-0.9052385970370199,1.707064000595609,-0.8837802545198418,5.502815246585668,-0.26583935845966694,0.08906243179555223,0.31025597094656815,-0.8208890750500928,-0.1495070943691677,-1.4585729005289199,-0.011920413308423888,-0.1139427768875567,0.21061956851522773,-1.9483821818299445,1.5511465357499803,-0.5925414663755977,-0.2025032878288639,-0.013650722845258048,0.2296946434128902,0.14024790559294106,-0.22050649728718238,-1.3346719844854242,0.15117010328421668,-0.0902820639712845,0.7624284351338608,-0.1181544983940116,-0.18302119046395487,0.9719577956677149,-0.21915415807100513,0.10748835260978,-1.4539570870572005,0.14392651001456702,-0.14576844242523326,-0.07373245893304535,1.6073882700064333,1.5003848629397178,0.14996636449082396,-1.6675411945424037,-1.6400876156129647,0.7382746965794124,-1.26295513172529,-1.0005948381692895,-0.29976928875428277,-2.3442607407505287,-0.26262571471246926,0.03766786447210699,-0.3423098662177849,-1.5545662387673358,1.1698975046641127,-0.17498764147698218,3.828263906449107,0.014969558829692238,1.0535330205093252,-1.347368631802676,3.8102453972651236,-0.08054892849431936,0.39444019276322767,-1.0803742817570208,-0.3361087096574494,-0.1578869479710397,-0.6370178201514538,-0.9798883918178549,-0.21781106647105158,0.1321493570751118,-0.47220235528122156,2.726134224213323,-0.7936020777560302,-0.40980370922313997,-1.1908809739687674,-0.602722206032917,-0.44737645391102143,0.08764698098850406,-1.938046364442683,-0.9604302260524534,0.32874518249019125,0.07682748783438326,-1.981073555954439,-1.1862018642698777,-1.255400502941058,1.3797654752278665,0.43899503613754104,-0.20135924615513098,0.6607641077483328,0.3194286084675368,2.849045787170492,-0.26235277581859556,-0.11724283686616754,-3.193798539203526,0.2478043300461314,2.5295203918990743,-0.7834986074103164,-1.0928753415782588,-0.24143086235660144,-0.0902820639712845,1.4993553321646236,0.4349736705536351,2.527796237263515,0.7355826365637714,-0.5508629348485139,-0.7447446012677188,-2.7291133726445307,-0.7180708442689114,-2.168955630379123,0.3963221908928194,-1.3534275381816585,-2.044123005097822,1.2634196165703446,-0.620396715469745,-0.11355861593386678,-0.07340721444908056,0.19582413202285148,1.7792141062424478,0.24846465363099132,-2.3947633844422,-0.27970855290417784,0.048677974586015846,1.100273074943801,0.36458412995137773,-2.931072845303701,-0.05166013186656441,2.921211534695657,-0.7065369551774069,1.0969689652491397,1.4293537740331947,-0.9662770741671363,1.6176259933219472,0.17610899612064237,0.4628083606924605,0.2936761013911649,-0.041506466779169256,1.785721900206253,-0.28102206515894884,0.12483211764274799,-0.9035197485223255,-2.089585562491612,-0.4505517880807474,-0.23341484301902188,0.3365693129191321,-0.08437133085598082,1.2598499108309522,-1.0183500824068088,-0.042421456683234965,-1.0352095410630864,-1.6237089065448291,-1.5787623892030918,-0.37688922495662647,-0.9688406827503199,-0.13446863894421382,2.3081417877181765,0.08602286996653981,0.11086371739948808,-1.1785946967123357,0.14392651001456702,-0.12898923629926012,0.5625903687014545,-2.6887154530664836,0.16530234019194356,-0.4483187650346094,0.9922135482967823,-1.7858115311162945,1.5905959505105594,0.04462086291156422,2.923458673402603,-0.14063176368382813,1.0544161084404449,0.23109512785990274,1.4993553321646236,-0.009028127657351283,1.3975903733948833,1.7998033302130962,-0.26352046205890883,-0.6402665711011578,-0.06750378106673499,-1.2747620077181878,-1.516711207424211,-0.9011477123798016,-0.5236275038073128,1.9093071601966363,1.0965624477897091,-1.648570367558921,0.3359191709589993,-0.29144693617917833,0.03077601289776959,-2.213111124799305,1.489385441866302,-0.3693977852797868,-0.7725515991892494,1.612480828986035,-0.29628177381762405,1.1828259345821297,-1.028650315469678,-0.5641532190861661,-0.22268630568638695,-0.9828799561572399,0.9012830589393194,-0.45072587842743905,-0.3701221976886293,-0.032680560996472,-1.3008392436228644,1.2829201500464344,-0.3599843926727144,-1.0734829785882007,-1.3226344787638213,0.25816205840019485,1.1470434711820565,0.055016978332698724,1.453054651389169,-1.717254095810107,0.20432436702329845,-0.40422980583180373,-1.0411735909853805,-0.12626688781975542,1.0947961097832268,0.150927986517076,-1.855416847246043,0.21522447397731473,-0.6412505172827669,-0.35499432479419046,-0.5926241757167006,-1.287971877680418,1.41199270501112,0.04500342395662041,-1.8574004856324424,-0.2029793764063501,-0.4335435614235286,0.26244600773999033,-0.8710071128741852,0.12386032952242679,-0.330375545700888,-2.1975805231680416,-0.30283247798111274,0.27223235651855815,-0.38601948172250533,6.829074485403266,0.06674009706611897,-0.18465701140469715,-1.3229431723680194,-0.26411043731160705,-0.3605530151067038,0.1700490994207031,0.1277250646273959,-0.5857752440898264,-0.6158972790195264,0.3157319537333084,1.8253923823747575,-1.3276692836277808,-0.4085326014898181,-0.0020368294957936726,-0.1675435459576419,-1.7389742477005665,-0.5953014588522143,2.8232207502046593,-0.23163985341206395,0.18724792846171537,-1.2020842508226444,-0.21642021269752143,-0.23686571313006283,0.1273702794615927,-1.1163252299851592,-0.7359334719118656,-0.2548029941181304,0.7077683922744787,3.9687191358395135,-2.2156053855357087,2.1454749707089804,-0.13430377562828857,-1.639290607046141,-0.18802894742655302,1.2026314946263434e-06,0.47713803098817786,0.2366877248169685,-0.019212545310773085,-0.42511832090937673,-0.5295723178653097,-0.05470153273397117,-0.39650736588299723,-0.8504836580537583,-0.6191786421042147,0.7239411424876581,5.834428388852442,-1.0321573072764596,-1.8566082245054065,-0.3854820770192072,-0.762419638651682,0.37837633584282393,0.34473106014097077,0.0512548004545657,-2.1982767298125285,0.040955066089983456,0.4906285847290362,0.3234250203836359,-2.4112625138432646,-1.2903782509133503,-0.21257957844910252,0.2194699159054341,-0.5544244281039907,1.7505795190936804,0.32079186565202716,1.0423088753910388,-0.3698595041007971,-1.5453405437784535,-1.1263775152361075,6.605756551038358,3.834381510817853,-0.6881011244972859,-0.7452031983294121,0.13917421870555186,-0.04955650809495139,-0.923682424171713,-0.14821382756875082,-0.11558264889503167,1.4878366785764208,-0.01120513483592417,4.363324211527717,3.7606405453821807,-0.176537890847569,1.5851029886038113,1.3841469298948945,1.5359881156682325,-0.26362479831829366,-0.9035197485223255,-2.4796197837393716,-0.2397174191833982,-0.2025032878288639,0.6439535276973575,-1.2868461443059844,-1.6758341506823524,-0.5135431602043692,-0.6067317248362921,-0.23194480017049857,0.5234647453059426,0.2454489358251724,0.6840126301766347,0.27921282817712034,0.8823339463059878,-0.3553951012070394,0.011040628750900717,-2.186876950941854,-0.1393161643880008,-1.292090499456343,-1.591900841202987,3.303643193039772,2.7600615540506594,-0.33477642880765435,0.21647339082913405,2.565379180669733,0.3205882452324449,-0.13955833880139942,-0.30021416750186436,1.8518447783556122,-0.620269000733797,-1.5313301954879588,-1.8971680850376187,0.33303126373773684,-1.4355618974223343,-0.938494719850452,-0.0702020980374685,-1.5202528945907268,-0.019907643915873404,-1.9740956076496075,-0.6523997764235795,0.7255832146579726,1.944836760852675,-0.7364726102750911,-0.9982655520515235,-2.1073838361367185,-0.5951795332248528,1.5359881156682325,0.38442625367927236,0.1342338765483128,0.2652562974931019,-1.845460410552508,0.29729813640831637,-0.2720397866107896,-1.0812413947749002,-0.8061776880777684,1.3702052625947272,0.4435583695297092,-0.021364360046911765,-0.07142527683210624,-0.8076667761499883,-1.6566930117357488,-0.3189606122516377,-0.3124541119168697,-0.5518566438541788,-0.27970855290417784,0.5592585631106868,-0.1414392706092599,-1.1765174747730263,-0.09243123092725992,0.326026982739274,-1.3229431723680194,-2.2267381780349194,0.4619442331805469,-0.4714338550504989,1.3436653956939781,0.3814509538431568,-0.7180708442689114,-1.2493970847294054,-0.35377774191645023,-0.774381657312496,0.12190407846008038,0.19552750165253688,0.13893753525290328,0.09733377225779934,-0.30438276666681346,-1.9004056003304526,0.26702868689519277,0.42550671623361125,-0.24763176202751047,-0.9733021774938395,-0.06511398110787353,-0.07587874667788187,0.2904043417322677,0.13788049954904585,-1.9017818168497433,-1.4325922724491276,0.13607293473164495,-0.6528864988434592,-0.24007992355955105,-1.6678209665220696,1.4806534726802771,0.48969239019540206,-0.19974783578339533,-0.6811018128025648,-0.13766453365093,0.9637358379976858,0.12640809502090458,-2.3547251131003484,0.86495917729739,-0.3868613050275886,0.8968386135636874,0.3447137033424425,3.6207406842332603,-0.18834683528425064,-1.4883384269477764,-0.025373219143134305,4.065014730030803,1.8350306041895648,-0.05822662933220339,-0.3706823903098076,0.1054335282733677,2.4673937847475234,0.0567666499839007,-1.2901455820213352,0.20975209875410397,0.6241903704950433,2.668254372894414,0.10625900450568378,-0.3041106444505511,-1.6820057601459444,-0.2871601562693679,-0.4973281092041632,0.08027596227915108,-1.1566210370960623,-1.328247786745721,2.0133512950556978,3.194543152154597,-0.25835803783138384,-0.05739148134189682,0.845677526356878,3.341547349645246,-0.1679479089626484,-2.5699779498465523,-0.29637659935744903,-0.33894106195149576,-1.1615179679488654,0.03957151294096673,0.3284076497730032,-1.7878569022080066,-0.9020162925661185,-0.34831993638387204,0.7514987464651324,2.105027700964065,-0.3193576414362019,0.1692312059772374,-0.5638006062130007,-0.15749641563074346,-0.46888753145911094,0.7095109675722048,-1.1259881681220854,0.5077684924198596,-1.4020803765829182,1.381171761164631,0.14493714393104137,2.8455625761576018,-1.9361239801236556,-0.6585255662009085,1.032433263457527,0.20406346087787516,-1.9438616937686575,-1.1450179398350382,0.08973732184975057,-0.06682220580707574,-1.0610492016691186,-0.018091907649146446,0.7297988003504896,-1.8109580277824056,-0.8517138968815271,-0.089558137270983,-0.40946595776415895,0.861987526599093,-2.8093131483011664,0.7902215227401196,-1.7994159028854484,3.6026866835668563,0.1916191013599486,5.735332026350849,-0.13738850268633118,0.0572327786676577,-0.31435206949219746,0.06830201851664662,-0.5520110563374153,-2.927357813118948,7.70843428420015,0.08346940248915227,-1.5072548997177482,0.1137560318791382,4.95580381209791,-1.2432472388069347,0.3500513419816557,-0.3521130288775512,-0.4092189149920573,-1.413974821428763,0.009917601341171223,0.21316298029053338,-2.1376342025862276,0.2437818624221123,0.38524277512872995,1.2300823369441505,-0.5960713031413183,-0.3842268314218417,4.07426055585568,-0.44119783732608225,0.298921539013093,-2.856255843412583,0.11154800679659274,-1.5774882802660228,-0.9688598758535445,-2.0678163494467188,0.1188009962882152,-0.40980370922313997,-0.68006983413566,-1.313308107549642,-1.8973729301122626,1.4361651839889185,-0.5035071325580911,-1.4824947553870318,-0.24720353036589252,0.3909133192387435,1.1972538968379185,-0.5857752440898264,-1.6818529208114912,7.801970233833227,-0.478089940235664,1.3614204726163208,-0.3306931920036228,-2.5064555693305572,-1.3625850350084314,-1.8993856542162775,0.5204124978320483,1.7939686859224997,0.4784889669687632,0.6901359120471664,1.3702052625947272,-0.3293235008573784,-0.5989670383346886,-0.8852724849337665,-1.6148583147092745,0.31798373323331536,1.381272922652638,2.6504534981290973,-0.05722833972630288,1.944836760852675,0.043881253525673486,-0.534326213820476,0.2070015388116453,-0.27209570319063137,0.08433164052306927,-0.7569811520852705,0.22145285683922916,-1.3385187777573533,1.7692387469247848,-0.5090811012316839,1.6636263744814643,1.7294590277085498,-0.1271630028900775,3.232492224886839,1.4320053987713366,-0.8133820293347149,1.1095603507753817,-1.2650269011269109,-0.038699515620398084,0.13566615037427773,1.450826356339835,-0.648973990749492,0.35320871567175993,-0.2910102744605352,-1.639075573921641,0.7632971463717564,-1.0760767029751988,-0.958078544677311,-1.4401872836862668,0.5108444828675058,3.5714601840709665,-1.5971250503378895,0.23969040388778334,-0.042421456683234965,1.286990410365937,-0.08449055486831514,-0.3378197051965561,0.04191867408740563,-0.21779717314852803,-0.017288087972943036,-0.6726437607602213,-0.7511813012693545,-1.3196474218933525,-0.24903437459036404,-0.04785625414597393,-0.47886719160673885,1.8877912106799077,0.3428672210338461,1.4298153369457687,-1.09066768458228,0.14949160960573377,-1.4242944552815096,0.6313324911352891,-1.25675408719909,-1.111361529813557,-1.4466792400397335,-0.12556171481157571,-0.7046196652220478,-1.2318320546970758,-0.7984289616477372,0.0723539201133366,-0.15646819038110205,-0.31345550022555524,-0.22223351229445928,-0.8731771989205699,1.2126975866972955,0.31316223929442494,-1.6459806782998263,-0.42241891417739014,1.4651560300567767,-1.2250755835215628,0.0339443278916659,-0.8532723497180401,-0.16694505587788014,-0.49858565739121763,-1.1785946967123357,-0.6344673119156323,-0.12003088643067128,-1.26295513172529,-0.43521772495906047,-0.9688406827503199,-1.5425740418424003,-0.8183385460040913,0.0968170359821348,-0.5326244904732089,-0.05595096159043751,-0.8125809296861791,-2.5185390228497972,0.13607293473164495,0.021092615055118915,-1.5581798889612444,0.33153040733523015,0.11899783758218338,-0.6741531272396442,0.05238504031506641,-0.09138610759139605,-1.0928753415782588,-0.6598949188184672,-1.0099662871034165,-0.22909103515448995,-0.14340903371087244,-0.49362629592821716,1.5444770594231352,-0.11075774465988289,-1.3013653473238032,1.7924884412361146,1.8877912106799077,-0.5457944068950249,-3.115504631740307,-0.04690512687469187,3.6951385460442694,4.940907012459736,-0.3784430054501514,-1.4743515383972594,1.9874627452936164,2.001570703420508,-0.3044963756702433,0.5209286178840167,-0.534326213820476,1.5368169170394066,-0.2622599771125225,1.2440430603288866,-0.4614274033675956,0.5852134145099726,-0.7096200822542525,-0.4569892792089171,-0.5563772525842213,-0.9083872874468143,0.2188613200783443,-1.5025099524237722,-1.3048965592245347,0.31324244934027323,0.31605012408486693,0.016511348301594578,0.13912701949301617,-1.7707784041755834,0.8508818707328485,4.614380800706041,-0.6899255925610123,2.015820925308201,1.2638667343095655,0.2016323549010674,0.03738573678556129,2.0681202779914543,-1.1828893419563733,0.3342489749342538,-1.7902520429617275,-0.4232513260639785,0.9353764057703714,0.024402015107118296,-1.198779615751561,1.933605853356636,0.17686151056237626,-0.24331679811618462,-0.2225727950221175,-0.6637642324605308,2.471957130485947,2.001027178306431,0.25699965639666394,-0.3866206843130422,-0.3381123901122485,-0.5128110426916449,0.030644390815888812,0.1985625622532517,-0.13902253526436054,0.9353764057703714,0.27223235651855815,0.014170569815810507,-0.20336478656306928,-0.6227046749199932,0.6829516787036354,-1.2554516117965508,0.7199047521333688,-0.35686743521399394,-0.6563126232550629,-0.6632361302860639,0.580703298177136,0.16854617100683264,-1.9004056003304526,6.91082256304073,0.9522464051447035,-0.24176084364644113,1.0591235049125127,6.944289874524687,-2.633806035730354,-1.0024118180766999,2.1637894806810465,2.609916254953927,-1.5225759716897231,0.39117702655690845,0.38416161130358284,-0.8949662413274255,0.19785464491315233,1.4243982810050482,-1.4539570870572005,0.14428732206228514,-0.704000370089442,-0.021771041313684056,-0.008196577316548624,-0.3352760071392137,-1.9103123740545946,-0.39881185691736115,-0.35786774498557133,0.017738679760584547,-0.1974033000667684,1.335631786339468,1.2574214925875262,0.21240940097420583,-0.2644034461554405,0.32785243009935844,2.0156318843520693,-0.05431107954235787,0.3559097634534844,-0.379476349626725,1.612480828986035,-2.213444309194345,-0.13738850268633118,0.3280363329098493,-1.0744532658162498,1.100672247339904,-0.22512212017011085,-0.15968703045674076,-0.16206362340068298,-1.5063099718528097,-0.06239529736578024,-0.7734161530924102,0.654824334843251,-0.24648199783449412,0.156584250167861,-2.931072845303701,0.26244600773999033,0.11178922722875208,-1.1643438172975886,3.1506292924860104,0.38514744387327576,-0.5339923011441845,0.42833110727617035,-0.042541502572776585,0.09528342174396427,-0.5610444945038258,0.2680391317210603,1.254549998219343,0.11045327722093459,-0.15461006245257178,-0.07562662265780364,-1.0186466885418415,1.3797654752278665,0.7532312630861089,-1.422443151040278,1.2591949161780287],\"type\":\"scatter3d\"}],                        {\"template\":{\"data\":{\"bar\":[{\"error_x\":{\"color\":\"#2a3f5f\"},\"error_y\":{\"color\":\"#2a3f5f\"},\"marker\":{\"line\":{\"color\":\"#E5ECF6\",\"width\":0.5},\"pattern\":{\"fillmode\":\"overlay\",\"size\":10,\"solidity\":0.2}},\"type\":\"bar\"}],\"barpolar\":[{\"marker\":{\"line\":{\"color\":\"#E5ECF6\",\"width\":0.5},\"pattern\":{\"fillmode\":\"overlay\",\"size\":10,\"solidity\":0.2}},\"type\":\"barpolar\"}],\"carpet\":[{\"aaxis\":{\"endlinecolor\":\"#2a3f5f\",\"gridcolor\":\"white\",\"linecolor\":\"white\",\"minorgridcolor\":\"white\",\"startlinecolor\":\"#2a3f5f\"},\"baxis\":{\"endlinecolor\":\"#2a3f5f\",\"gridcolor\":\"white\",\"linecolor\":\"white\",\"minorgridcolor\":\"white\",\"startlinecolor\":\"#2a3f5f\"},\"type\":\"carpet\"}],\"choropleth\":[{\"colorbar\":{\"outlinewidth\":0,\"ticks\":\"\"},\"type\":\"choropleth\"}],\"contour\":[{\"colorbar\":{\"outlinewidth\":0,\"ticks\":\"\"},\"colorscale\":[[0.0,\"#0d0887\"],[0.1111111111111111,\"#46039f\"],[0.2222222222222222,\"#7201a8\"],[0.3333333333333333,\"#9c179e\"],[0.4444444444444444,\"#bd3786\"],[0.5555555555555556,\"#d8576b\"],[0.6666666666666666,\"#ed7953\"],[0.7777777777777778,\"#fb9f3a\"],[0.8888888888888888,\"#fdca26\"],[1.0,\"#f0f921\"]],\"type\":\"contour\"}],\"contourcarpet\":[{\"colorbar\":{\"outlinewidth\":0,\"ticks\":\"\"},\"type\":\"contourcarpet\"}],\"heatmap\":[{\"colorbar\":{\"outlinewidth\":0,\"ticks\":\"\"},\"colorscale\":[[0.0,\"#0d0887\"],[0.1111111111111111,\"#46039f\"],[0.2222222222222222,\"#7201a8\"],[0.3333333333333333,\"#9c179e\"],[0.4444444444444444,\"#bd3786\"],[0.5555555555555556,\"#d8576b\"],[0.6666666666666666,\"#ed7953\"],[0.7777777777777778,\"#fb9f3a\"],[0.8888888888888888,\"#fdca26\"],[1.0,\"#f0f921\"]],\"type\":\"heatmap\"}],\"heatmapgl\":[{\"colorbar\":{\"outlinewidth\":0,\"ticks\":\"\"},\"colorscale\":[[0.0,\"#0d0887\"],[0.1111111111111111,\"#46039f\"],[0.2222222222222222,\"#7201a8\"],[0.3333333333333333,\"#9c179e\"],[0.4444444444444444,\"#bd3786\"],[0.5555555555555556,\"#d8576b\"],[0.6666666666666666,\"#ed7953\"],[0.7777777777777778,\"#fb9f3a\"],[0.8888888888888888,\"#fdca26\"],[1.0,\"#f0f921\"]],\"type\":\"heatmapgl\"}],\"histogram\":[{\"marker\":{\"pattern\":{\"fillmode\":\"overlay\",\"size\":10,\"solidity\":0.2}},\"type\":\"histogram\"}],\"histogram2d\":[{\"colorbar\":{\"outlinewidth\":0,\"ticks\":\"\"},\"colorscale\":[[0.0,\"#0d0887\"],[0.1111111111111111,\"#46039f\"],[0.2222222222222222,\"#7201a8\"],[0.3333333333333333,\"#9c179e\"],[0.4444444444444444,\"#bd3786\"],[0.5555555555555556,\"#d8576b\"],[0.6666666666666666,\"#ed7953\"],[0.7777777777777778,\"#fb9f3a\"],[0.8888888888888888,\"#fdca26\"],[1.0,\"#f0f921\"]],\"type\":\"histogram2d\"}],\"histogram2dcontour\":[{\"colorbar\":{\"outlinewidth\":0,\"ticks\":\"\"},\"colorscale\":[[0.0,\"#0d0887\"],[0.1111111111111111,\"#46039f\"],[0.2222222222222222,\"#7201a8\"],[0.3333333333333333,\"#9c179e\"],[0.4444444444444444,\"#bd3786\"],[0.5555555555555556,\"#d8576b\"],[0.6666666666666666,\"#ed7953\"],[0.7777777777777778,\"#fb9f3a\"],[0.8888888888888888,\"#fdca26\"],[1.0,\"#f0f921\"]],\"type\":\"histogram2dcontour\"}],\"mesh3d\":[{\"colorbar\":{\"outlinewidth\":0,\"ticks\":\"\"},\"type\":\"mesh3d\"}],\"parcoords\":[{\"line\":{\"colorbar\":{\"outlinewidth\":0,\"ticks\":\"\"}},\"type\":\"parcoords\"}],\"pie\":[{\"automargin\":true,\"type\":\"pie\"}],\"scatter\":[{\"marker\":{\"colorbar\":{\"outlinewidth\":0,\"ticks\":\"\"}},\"type\":\"scatter\"}],\"scatter3d\":[{\"line\":{\"colorbar\":{\"outlinewidth\":0,\"ticks\":\"\"}},\"marker\":{\"colorbar\":{\"outlinewidth\":0,\"ticks\":\"\"}},\"type\":\"scatter3d\"}],\"scattercarpet\":[{\"marker\":{\"colorbar\":{\"outlinewidth\":0,\"ticks\":\"\"}},\"type\":\"scattercarpet\"}],\"scattergeo\":[{\"marker\":{\"colorbar\":{\"outlinewidth\":0,\"ticks\":\"\"}},\"type\":\"scattergeo\"}],\"scattergl\":[{\"marker\":{\"colorbar\":{\"outlinewidth\":0,\"ticks\":\"\"}},\"type\":\"scattergl\"}],\"scattermapbox\":[{\"marker\":{\"colorbar\":{\"outlinewidth\":0,\"ticks\":\"\"}},\"type\":\"scattermapbox\"}],\"scatterpolar\":[{\"marker\":{\"colorbar\":{\"outlinewidth\":0,\"ticks\":\"\"}},\"type\":\"scatterpolar\"}],\"scatterpolargl\":[{\"marker\":{\"colorbar\":{\"outlinewidth\":0,\"ticks\":\"\"}},\"type\":\"scatterpolargl\"}],\"scatterternary\":[{\"marker\":{\"colorbar\":{\"outlinewidth\":0,\"ticks\":\"\"}},\"type\":\"scatterternary\"}],\"surface\":[{\"colorbar\":{\"outlinewidth\":0,\"ticks\":\"\"},\"colorscale\":[[0.0,\"#0d0887\"],[0.1111111111111111,\"#46039f\"],[0.2222222222222222,\"#7201a8\"],[0.3333333333333333,\"#9c179e\"],[0.4444444444444444,\"#bd3786\"],[0.5555555555555556,\"#d8576b\"],[0.6666666666666666,\"#ed7953\"],[0.7777777777777778,\"#fb9f3a\"],[0.8888888888888888,\"#fdca26\"],[1.0,\"#f0f921\"]],\"type\":\"surface\"}],\"table\":[{\"cells\":{\"fill\":{\"color\":\"#EBF0F8\"},\"line\":{\"color\":\"white\"}},\"header\":{\"fill\":{\"color\":\"#C8D4E3\"},\"line\":{\"color\":\"white\"}},\"type\":\"table\"}]},\"layout\":{\"annotationdefaults\":{\"arrowcolor\":\"#2a3f5f\",\"arrowhead\":0,\"arrowwidth\":1},\"autotypenumbers\":\"strict\",\"coloraxis\":{\"colorbar\":{\"outlinewidth\":0,\"ticks\":\"\"}},\"colorscale\":{\"diverging\":[[0,\"#8e0152\"],[0.1,\"#c51b7d\"],[0.2,\"#de77ae\"],[0.3,\"#f1b6da\"],[0.4,\"#fde0ef\"],[0.5,\"#f7f7f7\"],[0.6,\"#e6f5d0\"],[0.7,\"#b8e186\"],[0.8,\"#7fbc41\"],[0.9,\"#4d9221\"],[1,\"#276419\"]],\"sequential\":[[0.0,\"#0d0887\"],[0.1111111111111111,\"#46039f\"],[0.2222222222222222,\"#7201a8\"],[0.3333333333333333,\"#9c179e\"],[0.4444444444444444,\"#bd3786\"],[0.5555555555555556,\"#d8576b\"],[0.6666666666666666,\"#ed7953\"],[0.7777777777777778,\"#fb9f3a\"],[0.8888888888888888,\"#fdca26\"],[1.0,\"#f0f921\"]],\"sequentialminus\":[[0.0,\"#0d0887\"],[0.1111111111111111,\"#46039f\"],[0.2222222222222222,\"#7201a8\"],[0.3333333333333333,\"#9c179e\"],[0.4444444444444444,\"#bd3786\"],[0.5555555555555556,\"#d8576b\"],[0.6666666666666666,\"#ed7953\"],[0.7777777777777778,\"#fb9f3a\"],[0.8888888888888888,\"#fdca26\"],[1.0,\"#f0f921\"]]},\"colorway\":[\"#636efa\",\"#EF553B\",\"#00cc96\",\"#ab63fa\",\"#FFA15A\",\"#19d3f3\",\"#FF6692\",\"#B6E880\",\"#FF97FF\",\"#FECB52\"],\"font\":{\"color\":\"#2a3f5f\"},\"geo\":{\"bgcolor\":\"white\",\"lakecolor\":\"white\",\"landcolor\":\"#E5ECF6\",\"showlakes\":true,\"showland\":true,\"subunitcolor\":\"white\"},\"hoverlabel\":{\"align\":\"left\"},\"hovermode\":\"closest\",\"mapbox\":{\"style\":\"light\"},\"paper_bgcolor\":\"white\",\"plot_bgcolor\":\"#E5ECF6\",\"polar\":{\"angularaxis\":{\"gridcolor\":\"white\",\"linecolor\":\"white\",\"ticks\":\"\"},\"bgcolor\":\"#E5ECF6\",\"radialaxis\":{\"gridcolor\":\"white\",\"linecolor\":\"white\",\"ticks\":\"\"}},\"scene\":{\"xaxis\":{\"backgroundcolor\":\"#E5ECF6\",\"gridcolor\":\"white\",\"gridwidth\":2,\"linecolor\":\"white\",\"showbackground\":true,\"ticks\":\"\",\"zerolinecolor\":\"white\"},\"yaxis\":{\"backgroundcolor\":\"#E5ECF6\",\"gridcolor\":\"white\",\"gridwidth\":2,\"linecolor\":\"white\",\"showbackground\":true,\"ticks\":\"\",\"zerolinecolor\":\"white\"},\"zaxis\":{\"backgroundcolor\":\"#E5ECF6\",\"gridcolor\":\"white\",\"gridwidth\":2,\"linecolor\":\"white\",\"showbackground\":true,\"ticks\":\"\",\"zerolinecolor\":\"white\"}},\"shapedefaults\":{\"line\":{\"color\":\"#2a3f5f\"}},\"ternary\":{\"aaxis\":{\"gridcolor\":\"white\",\"linecolor\":\"white\",\"ticks\":\"\"},\"baxis\":{\"gridcolor\":\"white\",\"linecolor\":\"white\",\"ticks\":\"\"},\"bgcolor\":\"#E5ECF6\",\"caxis\":{\"gridcolor\":\"white\",\"linecolor\":\"white\",\"ticks\":\"\"}},\"title\":{\"x\":0.05},\"xaxis\":{\"automargin\":true,\"gridcolor\":\"white\",\"linecolor\":\"white\",\"ticks\":\"\",\"title\":{\"standoff\":15},\"zerolinecolor\":\"white\",\"zerolinewidth\":2},\"yaxis\":{\"automargin\":true,\"gridcolor\":\"white\",\"linecolor\":\"white\",\"ticks\":\"\",\"title\":{\"standoff\":15},\"zerolinecolor\":\"white\",\"zerolinewidth\":2}}},\"scene\":{\"domain\":{\"x\":[0.0,1.0],\"y\":[0.0,1.0]},\"xaxis\":{\"title\":{\"text\":\"PC1\"}},\"yaxis\":{\"title\":{\"text\":\"PC2\"}},\"zaxis\":{\"title\":{\"text\":\"PC3\"}}},\"coloraxis\":{\"colorbar\":{\"title\":{\"text\":\"preds\"}},\"colorscale\":[[0.0,\"#0d0887\"],[0.1111111111111111,\"#46039f\"],[0.2222222222222222,\"#7201a8\"],[0.3333333333333333,\"#9c179e\"],[0.4444444444444444,\"#bd3786\"],[0.5555555555555556,\"#d8576b\"],[0.6666666666666666,\"#ed7953\"],[0.7777777777777778,\"#fb9f3a\"],[0.8888888888888888,\"#fdca26\"],[1.0,\"#f0f921\"]]},\"legend\":{\"tracegroupgap\":0},\"margin\":{\"t\":60},\"title\":{\"text\":\"KMeans Clustering K=5\",\"x\":0.5}},                        {\"responsive\": true}                    ).then(function(){\n",
              "                            \n",
              "var gd = document.getElementById('54d14121-1e4b-47c0-bf25-c9c3ea9595c5');\n",
              "var x = new MutationObserver(function (mutations, observer) {{\n",
              "        var display = window.getComputedStyle(gd).display;\n",
              "        if (!display || display === 'none') {{\n",
              "            console.log([gd, 'removed!']);\n",
              "            Plotly.purge(gd);\n",
              "            observer.disconnect();\n",
              "        }}\n",
              "}});\n",
              "\n",
              "// Listen for the removal of the full notebook cells\n",
              "var notebookContainer = gd.closest('#notebook-container');\n",
              "if (notebookContainer) {{\n",
              "    x.observe(notebookContainer, {childList: true});\n",
              "}}\n",
              "\n",
              "// Listen for the clearing of the current output cell\n",
              "var outputEl = gd.closest('.output');\n",
              "if (outputEl) {{\n",
              "    x.observe(outputEl, {childList: true});\n",
              "}}\n",
              "\n",
              "                        })                };                            </script>        </div>\n",
              "</body>\n",
              "</html>"
            ]
          },
          "metadata": {}
        }
      ],
      "source": [
        "cluster_k = KMeans(n_clusters=5)\n",
        "cluster_k.fit(principalDf)\n",
        "\n",
        "visualize_clustering(principalDf, cluster_k.labels_, title=\"KMeans Clustering K=5\")"
      ]
    },
    {
      "cell_type": "code",
      "execution_count": 46,
      "id": "743d199a",
      "metadata": {
        "execution": {
          "iopub.execute_input": "2022-11-11T03:54:03.183971Z",
          "iopub.status.busy": "2022-11-11T03:54:03.182633Z",
          "iopub.status.idle": "2022-11-11T03:54:03.345668Z",
          "shell.execute_reply": "2022-11-11T03:54:03.344361Z"
        },
        "id": "743d199a",
        "papermill": {
          "duration": 0.217993,
          "end_time": "2022-11-11T03:54:03.348534",
          "exception": false,
          "start_time": "2022-11-11T03:54:03.130541",
          "status": "completed"
        },
        "tags": []
      },
      "outputs": [],
      "source": [
        "db.append(davies_bouldin_score(principalDf, cluster_k.labels_))\n",
        "sil.append(silhouette_score(principalDf, cluster_k.labels_))"
      ]
    },
    {
      "cell_type": "markdown",
      "id": "cbc2057a",
      "metadata": {
        "id": "cbc2057a",
        "papermill": {
          "duration": 0.049669,
          "end_time": "2022-11-11T03:54:03.449116",
          "exception": false,
          "start_time": "2022-11-11T03:54:03.399447",
          "status": "completed"
        },
        "tags": []
      },
      "source": [
        "## 7.2 DBSCAN <a class=\"anchor\" id=\"cluster_db\"></a>\n",
        "\n"
      ]
    },
    {
      "cell_type": "code",
      "execution_count": 47,
      "id": "f229ba40",
      "metadata": {
        "execution": {
          "iopub.execute_input": "2022-11-11T03:54:03.552438Z",
          "iopub.status.busy": "2022-11-11T03:54:03.551523Z",
          "iopub.status.idle": "2022-11-11T03:54:03.634994Z",
          "shell.execute_reply": "2022-11-11T03:54:03.633765Z"
        },
        "id": "f229ba40",
        "outputId": "bfce5e60-bece-4160-d181-ca127341375a",
        "papermill": {
          "duration": 0.139157,
          "end_time": "2022-11-11T03:54:03.638245",
          "exception": false,
          "start_time": "2022-11-11T03:54:03.499088",
          "status": "completed"
        },
        "tags": [],
        "colab": {
          "base_uri": "https://localhost:8080/",
          "height": 542
        }
      },
      "outputs": [
        {
          "output_type": "display_data",
          "data": {
            "text/html": [
              "<html>\n",
              "<head><meta charset=\"utf-8\" /></head>\n",
              "<body>\n",
              "    <div>            <script src=\"https://cdnjs.cloudflare.com/ajax/libs/mathjax/2.7.5/MathJax.js?config=TeX-AMS-MML_SVG\"></script><script type=\"text/javascript\">if (window.MathJax) {MathJax.Hub.Config({SVG: {font: \"STIX-Web\"}});}</script>                <script type=\"text/javascript\">window.PlotlyConfig = {MathJaxConfig: 'local'};</script>\n",
              "        <script src=\"https://cdn.plot.ly/plotly-2.8.3.min.js\"></script>                <div id=\"6862a9cd-bd39-4fc7-9b89-09b62459486b\" class=\"plotly-graph-div\" style=\"height:525px; width:100%;\"></div>            <script type=\"text/javascript\">                                    window.PLOTLYENV=window.PLOTLYENV || {};                                    if (document.getElementById(\"6862a9cd-bd39-4fc7-9b89-09b62459486b\")) {                    Plotly.newPlot(                        \"6862a9cd-bd39-4fc7-9b89-09b62459486b\",                        [{\"hovertemplate\":\"PC1=%{x}<br>PC2=%{y}<br>PC3=%{z}<br>preds=%{marker.color}<extra></extra>\",\"legendgroup\":\"\",\"marker\":{\"color\":[-1,0,-1,1,-1,-1,-1,-1,-1,-1,1,-1,-1,-1,-1,-1,-1,-1,-1,-1,-1,-1,-1,-1,2,-1,2,-1,-1,-1,-1,-1,-1,0,-1,1,-1,-1,-1,1,3,1,-1,-1,1,-1,-1,-1,1,-1,-1,-1,-1,-1,7,-1,-1,-1,-1,-1,-1,0,-1,-1,-1,-1,-1,-1,-1,1,-1,-1,-1,-1,-1,1,1,-1,-1,0,-1,-1,-1,-1,1,-1,1,-1,0,-1,-1,-1,-1,-1,-1,-1,1,-1,-1,-1,4,-1,-1,-1,-1,-1,-1,-1,-1,0,1,-1,-1,-1,1,-1,-1,-1,0,-1,-1,-1,-1,-1,-1,-1,-1,-1,0,-1,-1,-1,-1,-1,-1,-1,1,-1,-1,-1,-1,-1,1,-1,-1,-1,10,-1,-1,-1,-1,1,-1,-1,-1,-1,-1,-1,-1,0,1,1,-1,-1,-1,-1,0,-1,-1,-1,1,-1,1,-1,1,-1,-1,-1,0,-1,-1,1,-1,-1,-1,-1,-1,-1,-1,-1,-1,-1,0,-1,-1,-1,-1,-1,-1,-1,-1,-1,-1,-1,-1,-1,-1,-1,-1,-1,-1,-1,-1,-1,-1,-1,-1,1,-1,-1,1,-1,-1,1,1,-1,1,-1,-1,1,-1,-1,0,-1,-1,-1,-1,1,1,-1,-1,-1,1,-1,-1,10,-1,-1,-1,-1,1,-1,-1,-1,-1,-1,1,-1,1,-1,-1,0,-1,-1,-1,-1,-1,1,-1,-1,-1,-1,1,-1,-1,-1,-1,-1,-1,-1,-1,0,-1,-1,1,-1,-1,5,-1,-1,-1,1,-1,-1,-1,-1,-1,1,-1,-1,-1,-1,0,-1,0,-1,1,0,-1,-1,-1,-1,1,10,-1,1,-1,-1,-1,1,-1,-1,1,-1,-1,-1,-1,-1,-1,-1,0,-1,6,-1,-1,-1,-1,-1,-1,0,-1,-1,-1,-1,-1,-1,-1,1,-1,-1,-1,1,-1,-1,1,-1,-1,-1,-1,-1,-1,-1,-1,1,-1,1,-1,-1,-1,1,-1,-1,-1,-1,-1,-1,-1,-1,-1,-1,-1,-1,1,-1,10,-1,-1,-1,-1,-1,-1,-1,1,-1,-1,-1,-1,-1,-1,-1,-1,-1,-1,-1,1,1,-1,-1,-1,-1,-1,-1,1,-1,-1,-1,-1,-1,1,-1,-1,-1,1,1,1,-1,-1,-1,-1,1,-1,-1,1,-1,-1,-1,1,-1,-1,-1,-1,-1,-1,-1,-1,-1,-1,-1,-1,-1,-1,1,-1,-1,-1,-1,-1,0,-1,-1,8,-1,-1,-1,1,1,-1,-1,-1,-1,-1,-1,1,-1,-1,-1,-1,-1,-1,-1,-1,-1,-1,-1,-1,-1,-1,-1,-1,-1,-1,-1,-1,-1,-1,-1,-1,-1,-1,-1,-1,1,-1,-1,0,-1,-1,-1,-1,1,-1,-1,-1,-1,-1,-1,-1,-1,1,-1,-1,-1,-1,1,1,-1,-1,-1,-1,1,-1,-1,-1,0,-1,-1,-1,-1,-1,-1,-1,-1,2,-1,1,-1,-1,-1,-1,-1,-1,0,1,-1,7,0,-1,-1,1,-1,-1,-1,0,-1,-1,-1,0,-1,1,0,-1,-1,-1,-1,-1,-1,-1,11,-1,-1,1,-1,1,-1,3,-1,-1,-1,-1,-1,-1,-1,-1,-1,-1,-1,1,-1,-1,-1,-1,-1,3,-1,7,-1,-1,1,-1,1,-1,-1,-1,-1,-1,-1,-1,-1,-1,-1,-1,-1,-1,-1,-1,-1,-1,-1,-1,-1,-1,-1,-1,-1,-1,1,-1,-1,-1,-1,-1,-1,-1,-1,-1,1,-1,-1,-1,1,1,1,1,-1,-1,-1,-1,-1,-1,-1,-1,-1,-1,-1,-1,-1,-1,-1,-1,-1,-1,-1,-1,-1,-1,-1,-1,1,-1,-1,-1,-1,-1,-1,-1,-1,-1,-1,-1,-1,-1,-1,-1,-1,1,-1,-1,-1,-1,-1,-1,1,-1,0,-1,-1,1,-1,-1,-1,-1,-1,-1,-1,0,-1,-1,-1,-1,-1,-1,-1,-1,-1,-1,-1,-1,-1,-1,-1,1,-1,-1,-1,-1,-1,-1,-1,-1,-1,-1,-1,1,-1,1,-1,-1,-1,-1,-1,-1,-1,-1,-1,-1,-1,-1,0,-1,0,-1,-1,0,-1,-1,8,1,1,1,1,-1,-1,-1,-1,-1,-1,-1,-1,-1,-1,-1,-1,-1,1,-1,0,-1,-1,-1,-1,-1,-1,-1,-1,9,-1,-1,-1,-1,-1,-1,-1,-1,1,-1,1,-1,-1,-1,-1,-1,-1,-1,1,3,-1,-1,1,0,-1,-1,-1,1,-1,5,-1,1,-1,-1,-1,-1,-1,-1,0,-1,-1,-1,-1,-1,-1,1,-1,6,-1,1,-1,-1,-1,-1,-1,-1,-1,-1,1,-1,-1,1,-1,-1,-1,-1,-1,-1,-1,-1,-1,-1,-1,-1,-1,-1,0,-1,-1,-1,-1,-1,-1,-1,-1,-1,-1,-1,-1,-1,-1,-1,-1,-1,-1,-1,1,-1,-1,-1,-1,-1,-1,-1,-1,-1,-1,-1,-1,-1,-1,-1,-1,-1,-1,-1,-1,-1,-1,4,-1,-1,1,-1,1,4,-1,-1,-1,-1,-1,-1,-1,-1,-1,-1,-1,-1,-1,11,-1,-1,-1,8,-1,-1,-1,0,7,-1,-1,-1,-1,-1,-1,-1,-1,-1,-1,-1,-1,-1,-1,-1,-1,-1,-1,-1,-1,-1,-1,1,-1,-1,-1,-1,-1,-1,0,-1,1,-1,-1,-1,-1,-1,-1,-1,-1,-1,-1,-1,1,-1,-1,-1,-1,-1,0,-1,-1,-1,-1,0,-1,-1,-1,1,-1,1,1,-1,-1,1,-1,-1,1,1,-1,-1,-1,-1,1,-1,-1,5,-1,-1,-1,-1,-1,-1,-1,-1,-1,-1,-1,-1,-1,-1,-1,-1,-1,1,-1,-1,-1,-1,-1,-1,-1,-1,-1,-1,-1,-1,-1,1,-1,1,-1,-1,-1,-1,-1,-1,-1,-1,1,-1,-1,-1,11,-1,-1,0,-1,1,-1,-1,2,-1,6,-1,-1,-1,-1,1,-1,-1,-1,-1,-1,1,-1,-1,2,-1,-1,-1,-1,-1,-1,-1,-1,-1,-1,-1,-1,-1,-1,-1,-1,7,-1,-1,0,-1,-1,-1,0,1,-1,-1,-1,-1,-1,-1,-1,-1,1,1,-1,-1,-1,-1,-1,-1,-1,-1,-1,-1,-1,-1,10,-1,-1,-1,-1,-1,-1,-1,-1,-1,-1,-1,-1,-1,-1,-1,-1,-1,-1,1,-1,-1,-1,0,-1,-1,-1,-1,5,1,1,-1,-1,-1,-1,-1,-1,-1,-1,-1,-1,-1,-1,-1,-1,-1,-1,-1,-1,-1,-1,-1,-1,0,-1,-1,-1,-1,-1,-1,-1,-1,-1,-1,-1,-1,1,-1,-1,5,-1,-1,-1,-1,10,-1,1,-1,1,1,-1,-1,-1,1,-1,-1,10,-1,-1,-1,-1,-1,8,1,-1,-1,-1,-1,-1,-1,-1,-1,-1,-1,-1,-1,-1,-1,-1,-1,-1,-1,1,-1,-1,-1,-1,-1,-1,1,-1,-1,-1,-1,7,-1,-1,-1,-1,-1,1,-1,0,-1,-1,1,1,1,0,0,-1,1,-1,-1,6,-1,-1,-1,-1,-1,-1,-1,-1,-1,-1,-1,-1,-1,-1,-1,-1,-1,-1,0,-1,-1,-1,-1,-1,1,-1,-1,-1,-1,-1,1,-1,-1,-1,-1,-1,-1,-1,-1,-1,-1,-1,-1,9,1,-1,3,-1,-1,-1,-1,-1,1,-1,-1,-1,-1,-1,-1,0,-1,-1,-1,-1,-1,-1,-1,1,-1,-1,-1,-1,-1,-1,-1,-1,-1,-1,-1,-1,-1,1,-1,-1,-1,-1,-1,-1,1,-1,1,-1,-1,1,-1,7,-1,-1,-1,-1,-1,-1,-1,-1,-1,-1,-1,-1,0,-1,-1,-1,-1,-1,-1,0,-1,-1,-1,-1,1,1,1,1,0,-1,1,1,-1,0,-1,-1,-1,-1,-1,-1,-1,0,-1,-1,-1,-1,-1,-1,-1,-1,-1,-1,-1,1,-1,-1,-1,10,-1,-1,-1,-1,-1,1,1,-1,-1,-1,8,-1,0,-1,-1,-1,-1,-1,-1,-1,-1,-1,-1,-1,1,1,-1,-1,-1,-1,-1,-1,-1,-1,-1,-1,1,-1,1,-1,-1,-1,-1,1,-1,-1,-1,-1,-1,-1,-1,-1,-1,-1,-1,-1,-1,-1,-1,1,1,-1,-1,-1,1,1,-1,-1,-1,-1,-1,-1,-1,-1,-1,-1,1,-1,1,-1,-1,-1,1,-1,-1,-1,-1,1,9,-1,-1,0,-1,-1,-1,-1,-1,0,-1,1,-1,-1,-1,-1,1,-1,1,-1,-1,-1,-1,-1,-1,-1,-1,1,-1,-1,-1,-1,-1,-1,-1,4,4,-1,-1,-1,-1,-1,-1,-1,-1,-1,-1,-1,-1,-1,-1,-1,-1,-1,-1,-1,-1,0,0,0,-1,-1,7,-1,-1,-1,-1,-1,-1,-1,1,-1,-1,-1,-1,1,-1,-1,-1,-1,-1,-1,-1,1,-1,-1,-1,1,-1,-1,-1,-1,0,1,8,-1,-1,1,-1,-1,-1,-1,-1,-1,-1,-1,-1,-1,0,1,-1,-1,-1,-1,-1,-1,-1,0,-1,1,-1,-1,-1,-1,-1,-1,-1,-1,-1,-1,-1,1,-1,1,-1,-1,-1,-1,-1,8,-1,-1,-1,-1,-1,-1,1,1,-1,-1,0,-1,-1,-1,-1,10,1,-1,-1,-1,-1,-1,-1,-1,-1,-1,-1,-1,1,-1,-1,0,-1,-1,-1,-1,-1,-1,-1,-1,-1,1,-1,-1,0,1,-1,-1,-1,-1,-1,-1,-1,1,-1,-1,-1,-1,-1,-1,1,-1,-1,-1,-1,7,1,-1,6,0,5,-1,0,-1,-1,1,-1,-1,1,-1,1,-1,-1,-1,-1,-1,-1,-1,-1,-1,-1,-1,1,-1,1,-1,-1,-1,-1,-1,-1,1,-1,-1,5,0,-1,1,-1,0,-1,1,-1,-1,-1,-1,-1,-1,-1,-1,-1,10,-1,-1,6,-1,-1,-1,-1,1,-1,-1,-1,0,-1,-1,0,-1,-1,1,-1,-1,-1,-1,-1,-1,-1,-1,-1,0,-1,-1,-1,-1,-1,-1,1,4,-1,-1,-1,9,7,1,-1,1,-1,-1,-1,-1,-1,2,-1,-1,-1,-1,-1,-1,-1,-1,0,1,-1,-1,1,-1,0,-1,-1,-1,-1,-1,-1,-1,-1,-1,-1,-1,-1,-1,-1,-1,-1,-1,-1,-1,1,-1,-1,-1,-1,-1,-1,-1,0,-1,-1,1,-1,-1,-1,1,2,-1,-1,-1,-1,-1,-1,-1,9,1,-1,0,-1,-1,-1,-1,-1,1,-1,-1,-1,-1,0,-1,1,-1,-1,-1,-1,-1,-1,1,-1,0,1,-1,-1,-1,-1,-1,0,-1,-1,-1,-1,-1,-1,-1,1,-1,-1,-1,-1,-1,0,-1,-1,-1,-1,-1,-1,-1,-1,-1,-1,-1,-1,-1,-1,-1,-1,-1,-1,-1,-1,-1,-1,3,-1,-1,-1,-1,-1,-1,-1,-1,-1,-1,-1,-1,-1,-1,1,1,-1,-1,-1,0,-1,-1,-1,-1,-1,-1,-1,-1,-1,0,-1,10,-1,-1,1,1,-1,-1,-1,1,0,2,-1,1,-1,-1,1,-1,-1,-1,-1,-1,1,-1,-1,-1,1,1,7,-1,-1,-1,-1,-1,0,-1,-1,0,-1,-1,-1,-1,-1,-1,-1,0,-1,-1,-1,-1,-1,1,-1,-1,1,-1,-1,-1,1,-1,-1,-1,-1,-1,-1,-1,1,-1,-1,-1,-1,-1,-1,0,-1,-1,-1,-1,-1,-1,-1,-1,-1,1,-1,-1,-1,-1,-1,-1,-1,-1,-1,-1,1,-1,-1,1,-1,-1,-1,-1,-1,-1,-1,-1,-1,-1,1,-1,-1,1,-1,-1,-1,1,-1,-1,1,0,5,-1,-1,-1,1,-1,-1,-1,0,-1,1,-1,1,1,-1,-1,-1,-1,-1,-1,-1,-1,1,1,-1,-1,-1,3,-1,-1,-1,-1,-1,-1,-1,-1,-1,-1,1,-1,-1,1,-1,-1,-1,-1,-1,11,-1,0,1,-1,-1,-1,-1,-1,-1,10,1,-1,-1,-1,9,-1,-1,-1,3,-1,-1,-1,0,-1,-1,0,1,-1,1,-1,-1,-1,-1,-1,-1,-1,-1,-1,-1,-1,-1,9,1,-1,-1,-1,-1,-1],\"coloraxis\":\"coloraxis\",\"opacity\":0.5,\"symbol\":\"circle\",\"size\":3},\"mode\":\"markers\",\"name\":\"\",\"scene\":\"scene\",\"showlegend\":false,\"x\":[4.737742137654944,-3.221759616173463,2.0728771425582817,-3.0238324756341783,-0.5347536400989716,0.8860199899021559,0.713531444936315,-2.550734980110283,-3.0702113510056925,-4.856320493484434,-2.7153184922028992,3.380241963715649,-1.6912185032476676,-2.7136379019638923,5.187457762944867,-3.1171734039316994,-0.3808460095101295,4.609939754285811,-2.32449994936816,-0.6669323472740167,3.1468168885007577,0.7263623054380188,0.26961891458073844,-0.744251780328633,-2.2542095755920535,-2.1214846854148544,-2.152716547890538,5.390863871529367,-2.6637175498395296,-0.32410701213743304,-1.780165319996324,-1.0578948114207212,2.63821145539448,-3.1438581241476413,1.7129514006066429,-2.9452290394708913,-2.4685927384929225,2.6686476740600193,3.8988450415760183,-3.4200568046965594,-2.919082947575542,-3.3872503664931832,3.767026645608885,-2.05669409307455,-3.178318972444014,1.4826951326878524,0.7025992111365476,5.2208726980904565,-2.8655882209891796,6.16346575850148,-0.07435316507233852,7.26161584409616,3.5857474659229687,-2.9660606615084775,-0.4340551918655081,4.663618226411483,-0.018771430380159264,1.4278642159695527,0.355329914012004,2.8091294588548696,-2.9645708017517767,-3.8229878065065055,4.789300315497054,1.3551636656669919,1.72705550270554,3.3150431928023307,2.530080252277639,-0.20183698292780577,-1.6551776708698536,-3.172636093914957,4.644610732543509,6.289903164945487,-2.6654205078352566,0.871752035961533,-2.5250686834186395,-3.4562530883899183,-3.041081186038359,-0.32410701213743304,3.1007590711310375,-3.3437112747959317,-2.6727988269527754,0.12727435281433747,4.851878262236482,-1.2827150200601973,-3.1975876396607257,-2.967012923402891,-3.057841974076726,0.3811917241676128,-3.156007158136824,4.002605269300495,0.28909123660750313,-2.6034435370376903,-2.6898746893149523,4.469984692891356,2.595940582045646,3.5693242613987692,-3.2583315679653397,-2.5044800536506195,1.96463816086604,-2.413974481632813,2.4738849369181377,2.765789059712605,3.6599476964511264,0.2385835352730781,3.4695190257701887,-0.6607313969461575,-2.725371972861207,6.03255399228807,0.3200716942712789,-3.114597468074988,-3.1241699175034743,1.0569464038200327,-2.550830628458788,-4.174689757562758,-3.177568247609482,5.945353249395177,1.4257948223838313,5.794609063640297,-2.943714602437431,0.16507314101976053,0.62954904675769,-0.6689855232359113,2.090149968117062,-2.3147189220772995,3.566295760749447,-3.619599365590144,-3.8511239725112243,-3.031088175844038,-3.416940708502551,5.1219959861658495,1.189382097850904,4.007682736985418,1.4830307997895864,-1.238572789076523,0.15636709345272518,-2.6179598238678015,-3.5217843278550656,-3.336728931013774,-1.3455376313728975,-0.28408604677635607,0.008779292196595088,-0.6359282966952561,-2.642330807306772,1.7767108786711563,4.008437801936627,-1.165456908875739,-3.5065273311652008,-1.2574323371376739,3.53451855564167,-4.452526102870816,3.6949031455453856,-2.990251811612192,2.5340421491785996,4.558115260303507,-3.584274009282441,1.2030552492700497,-0.408099391677614,3.686587896299851,-2.9750933753146263,-3.557235395935033,-3.1296256285108277,-2.897174964163566,-2.8361346072213665,-1.7961532401262048,4.524798994423874,5.35170243557032,-3.4804873469694604,-3.956293647894289,4.002605269300495,-1.6823296765405344,-3.1731666834366012,2.871225979983159,-3.1039618773122832,-2.4095897736651875,-3.3323999146401784,-2.743745616075734,0.40385093791019827,4.402413112656961,-3.232039964883266,-2.8803686848446284,4.284547866710433,-2.796434859093919,-1.784190625925995,-3.694194404551516,1.729630390605948,4.836360400024493,4.135667210947691,-2.03826341420567,0.37795527490439296,4.236751273140142,2.805234586635308,6.1893276633248755,-3.4797882644181013,-2.3881609746962416,-3.250595446914603,-1.7272320324449537,-2.5268185664866083,4.090085305210084,-1.064966327927378,2.949391468489304,-2.385074946780354,-1.227321007757532,3.5339178140649636,-0.9463448108583252,-4.376657939237515,4.945503014873426,-1.3957950959056127,2.1592012658536013,-2.285009236697752,2.3117383224669172,0.6464861668866124,-2.5806101873397793,2.6689319309398956,-2.3682215864002956,-0.02727129423886622,1.0151883024447919,4.239498578238932,-3.581874043245652,-1.3028114159559774,4.107789895322918,-3.338660371467263,-2.4395472100047413,2.371484873136226,-2.943184547839638,-3.5020217333664037,0.8863913528413266,-3.0967546977437697,6.090705031579964,2.458134969237877,-3.517919490121366,6.042170741110298,2.00725183886995,-3.665268086437,4.230919218524492,2.9658920955592647,5.749301982436721,3.442056724900183,-3.1570081484839294,-3.2214833618070675,7.505861478606134,-1.164009496995228,1.427442047823927,-3.179417037084397,1.451554123466455,-0.51944449178521,-3.2986672099162857,-4.352224234508389,-3.0526180178598725,1.0033680898117971,-1.6647736918651876,-3.4414519778523047,-2.017725509485926,-3.082005525917259,5.107015732429869,-2.324850139692475,3.266807896524996,-2.858090952038204,3.9369079108339426,-2.9529204842719445,-1.364669869731607,-3.3119154881647974,-3.0900934678026215,1.0852115623777037,3.7740800138402375,2.3033264094175605,3.196057548717036,1.4432606238383794,-2.7159208015840677,-0.02727129423886622,-0.3808460095101295,0.09680087753203939,-3.335687688814708,-2.841642487202722,3.46440834660369,1.028964825780089,5.211771004329899,-0.7655502072358298,-2.4783497253683002,-2.456341983764635,6.173718288682825,-3.937052395934114,-3.607736503610758,2.406469786947336,-3.26083613830198,-2.8779623398707344,1.5428321679767345,1.4356487790583712,-3.016440486775268,0.674128028856107,-2.5183062838441073,-1.8396610072055557,-2.945172640015901,5.336377137416789,-1.7484177712479159,3.19073254670274,0.12249093146285446,-1.1072456342754418,-3.0291530413909373,-4.276415853530264,3.656127006949816,-2.0123213423646376,-3.475920170451509,-3.022460216689633,-0.04766301615504199,-3.3921724470297985,1.0981209943914296,-3.2594007281728574,-3.6040194370085,2.1634969471248677,0.020661810108938305,2.817611953891146,-3.279328295945516,-3.331230709392563,-3.678173921199966,-2.6244930870860674,-3.559896621565661,-2.1179337812684054,1.5937298733973422,-2.790826894907578,-3.3892760442502397,2.427145828928128,5.892194311455616,-3.0815047073483828,5.1219639316773815,3.9799979367736937,-1.5747933114112571,1.6209329826369039,0.2627549084256265,-3.3112933462720493,3.6853891712421425,-3.324049673759405,4.638039981146671,-3.417391892344081,-3.382155440503091,1.6827885966442737,3.803482097202007,2.078826766768991,3.0789517267447075,1.382645078844937,-3.489197605427043,-1.8482211183493833,4.307337000620701,1.2821354612369644,-0.6615298166742226,7.169984353920299,0.3348324201450646,-3.3471627253887832,-3.4414519778523047,-0.9961791310879176,0.9085675875181034,4.138728363822109,-3.0107750188684594,5.310063863686757,0.491775201388459,-3.2469936489677846,-2.2679919525012977,-2.9749858136687353,2.310173446073289,-3.0636117614429352,-2.921643197047779,-2.1451313887017784,-3.2838333555142736,2.385405943449583,-3.030283038958911,-4.151993778026581,-3.5286756379381035,-0.5131252480720642,-3.336728931013774,-3.1258447711589206,-3.123988610797904,0.03248859471925163,2.65418554903488,-2.0953213992342583,1.2169426067702387,5.7417196200512395,-1.5813637866694392,3.3498655888877034,-1.097042501424079,1.2691384548008018,3.841775251262686,-2.597703631115803,-3.160720885354013,-3.3027400462923304,-2.5418864421430336,-3.221717890948761,3.1471114793922563,-2.5004962709029988,-0.5401859367042678,-1.2210818042975056,-3.292914588915552,-2.754455599938441,-1.800369466065116,-3.3182079558476,-0.7539688805774557,-2.6996489553030405,1.588909475819102,3.967541070582459,-0.5304634415096114,2.035310085329525,3.0516839739125317,-2.7534611310767936,4.7369331395753465,6.791680892187713,-0.5448556866586066,-3.1164064926090935,-3.057841974076726,-3.8270785442634474,4.591834997872892,5.7107963061001685,-3.8997843048083842,7.54701232340907,2.153587489977231,-3.339265368339171,3.0872907977911135,5.357913068228911,-0.11084341423472147,1.9835403505208327,2.8008512948393665,-2.9494269724475153,-2.4879590012315136,1.1601526790932146,-0.6792017470356478,-2.7444505592011446,-3.5698325856114956,-3.376682782860193,-1.4336689517995231,-2.642596081078424,-3.2838333555142736,-2.8341967614585615,-2.7844678501166333,-2.21746458465661,5.185203874234866,-3.2506037241033217,0.11825832632550323,1.7522944770751727,2.0263055662883294,-2.7593988838463854,-0.29236631432082744,1.8293602588071112,-2.2171576397257833,7.333330716180189,-1.4774781516979127,-0.7622574453899117,3.887449497204762,1.2562381070157482,3.9607178891641612,-2.0426826565238603,5.107015732429869,-2.543508559367342,2.7958021043376897,4.654679249124011,-3.4075767455894703,-0.244555409517383,0.7335234869968672,4.576203711296712,-3.1814016321417786,1.3587750494413544,-3.4974206631257627,-3.2929822813611156,2.288194652105054,-3.233757709525084,-0.3477703014260454,0.07480500946801448,-0.8567146752007552,-2.9045679302273064,-2.9254486980640375,-1.4336511866152717,-1.42296326920811,2.304207529960789,3.9914180767910517,0.9413854930089955,0.7676625549258937,-3.553780668822051,-1.4097665300389788,4.540370116812754,-1.5554292352570125,4.923811264869144,0.34170916099421655,1.123442310047889,0.710049337369723,-2.2451316813201347,3.024331058228229,2.135010327195813,1.940622738600487,-3.410456244421944,-2.618766055066027,-1.106379230735339,2.086330557117328,-2.4879590012315136,2.831616026243815,3.0676490934240817,3.7445332078192783,-1.888423300151754,1.6262284327593366,-2.1265100880252534,2.589379270368645,-1.0060743572282171,5.746590106020546,-0.9875797122458371,4.862083042429967,-2.974084058460574,-3.264485925833572,1.8213680855331065,5.619864678428673,-3.4586644768904873,3.487182864600137,-0.45877367816851927,4.081493760389502,-1.8888232072386693,-3.213028868730398,2.8604053045697215,0.3366778000119673,4.753718063733038,-1.1956272707963844,0.5012907593017739,2.7849498147523493,-1.0399613359563835,-1.5514930086469558,-3.071417040057275,-1.213102147514888,-2.2480363426451837,3.6065171597868426,-0.7465314262551936,-3.0592908678715767,-3.1503256246732656,-1.5954454440444723,-1.0420172054189638,4.877248458639978,1.2863256557044076,-3.087626165182202,4.4290778753860325,-2.247291622224135,-3.2234825464415144,-3.7791158920435968,-2.998882481202293,-2.6184085162808803,-0.22695827302036406,-1.7881681980451136,4.133235117841016,-2.1999842458782224,1.4491806610204594,5.878150219300862,-2.294759318414801,6.037522943992592,-2.6488459758231504,4.900669425774228,1.9012746820251547,2.87824134228599,-0.6526005817018791,-1.1579398852341427,1.2595946224044483,-3.648587578455599,-2.8086902935754385,-3.6312314563142847,-0.7562447619871236,-3.5973154874924607,-2.2982128306229583,-1.0104487075837219,-3.1580742411356217,2.919195258897549,-2.5348119420254505,-3.6668191053607493,-2.9502891000699734,-2.203376679005252,-2.084303891928572,-0.744251780328633,-3.411317576541833,-1.8342864439179867,-3.0230131519414725,-3.1577867507069417,6.183301977585571,1.1128201359870296,-0.24131277971171036,-2.0800319816151447,-2.709677738785034,7.875809198645555,4.9882904336211356,-2.8949046561008758,0.44667017318176583,-2.8495238344582337,-2.9509614686060317,-3.647405613101159,-2.9247558855118303,-2.8804424274551197,-2.873150193762678,1.395683122708806,3.0308266603361442,0.018787117353394472,-2.850062734713869,-2.389975684592021,-2.4685927384929225,-4.237943746996861,-2.9059487724122457,3.3577602503136386,-1.1327569673385784,-0.5888579930205164,-3.423701550639653,-4.276415853530264,2.5401866318390782,-1.5824163993390805,-4.329212717836838,-0.8717237507327629,-2.9608971108338498,-0.8846046732987021,-0.754551359120599,-2.0354641116288077,2.7799272342066432,-3.210797098800846,3.343202739768198,-3.2977878810155086,3.7780990516381046,4.590943858746923,-3.176829068722482,-2.4306557849400092,2.752705672803699,1.8181334389099557,2.87824134228599,-1.7126866197707797,4.871265463772025,-4.246903958181924,4.789508795443557,0.19661692603187617,3.074510631612116,2.3532146501607616,2.65418554903488,3.268667968287839,2.1003229798131886,-0.16264437807094753,6.432611447387768,-2.2885075680735087,7.981101917750409,-1.527693550385751,2.6569506301490637,0.6524117854207026,5.674763146937255,-3.363343890945556,2.938103436408267,-1.9507766986718367,-0.907599164277724,-0.4758353584222735,-1.6530736361453766,-1.164009496995228,3.200152210324249,-2.5398154209902013,0.10898667354302387,-3.5286756379381035,3.0411880597031926,-2.409525457604002,-2.7233956851297343,-2.4735472718072797,-2.9659145881038977,-3.139363774412895,-3.3798863536071297,-1.9974244847057843,2.588195316599779,-0.2113996637096336,2.7050905695235157,1.6894583232635274,0.491775201388459,-4.280725773372274,2.721657640629849,1.627036041985135,-2.330227895799335,1.7985133253067311,1.8629667885437193,6.326380808728994,0.32411187409712583,-1.3024837314694986,2.5735318053320775,1.117047347631472,6.177501986993125,6.070943396074208,4.235269224527958,2.4604270622766324,0.1652867948530452,1.982095054646126,-0.9832616175801864,-2.7289988227891135,-2.589584056612531,-2.0077361818915063,-2.696286281048469,-3.274393543733282,1.1214437052236703,3.763664834531944,1.0573627018400251,0.33802206176233524,2.424946466517058,4.898404879194282,-2.1126584266182062,3.803482097202007,-2.5941052418497788,0.01228860509790915,0.8775302653080163,-2.790826894907578,-3.5812927332477855,1.5680073244776986,-2.442598476942773,0.9042374639909684,-1.7507743170054944,4.244638284720895,4.194375924036109,-3.1538027565490347,3.1951674767315548,-3.535174798142826,1.0550698980852116,1.6895230324826653,-3.6174043988383717,6.232003978491924,-2.9008887953081777,-2.5268185664866083,4.6096122500242265,4.092858912659083,-2.1269629698448567,3.5665316851350606,-3.507191667483532,-1.252320306949667,-0.07435316507233852,-2.4639512108888204,3.1561189800147713,5.847939663337868,3.74784118347474,-0.10622396481273039,-3.7065067409259402,3.112619672599628,2.1884708137974904,-3.206630788220551,-3.2704886882071458,-2.4611312507850034,3.275612987414284,4.8610782067345735,-3.106267576496441,3.334412644566668,-3.1973198679832793,3.579279173850706,4.1385171683727515,-0.23080348138080634,3.0411880597031926,6.28863356328753,4.000644760420565,3.0692103523193963,1.7909872663924584,1.228496058909278,-2.548098445025439,-2.1902150539715444,-2.934668381327765,-0.13830178189762704,4.070361504639443,-2.6063427540190593,2.7839744856960653,-1.3976363711548203,4.883257310382432,4.67967981856993,-1.455879935805207,-0.43225992681086395,1.774612746912642,4.378118423620103,-0.2671691505659185,-3.2312840098411817,-3.256944333250624,-3.5764730880189592,-2.365590486279089,2.527310369013412,-2.9930956650236378,4.3399833275018285,3.4178325478611447,-3.3519665223782598,-3.3756694132063094,-3.393590147003441,-3.2523030723915323,-3.183760936177427,-3.58478862139791,1.4799040789858133,-0.3264506661368887,-1.0767845093866937,4.314991401774063,3.419588779306785,-2.354814658312998,-1.8255675849712998,-1.3086359030400627,-0.5520441402524844,1.184587491423106,2.1218507825114115,4.670086000238846,-3.0939799243934853,0.37004959420754563,-3.1086062878026435,-2.3722876456166526,4.594394472625466,4.868119656455725,-1.230503713438528,-2.0893581542154362,-0.14622664724162898,0.6714030065979465,4.093232996846119,-2.23997414450756,-3.022024479742735,2.1442260176085792,1.7310179282654177,4.832467122234142,0.07295134432304161,-3.720257339080075,0.656392032659486,0.8817716521656827,-3.230346842005589,5.3861695323954715,-3.1007635884376654,1.1449995402312758,-1.7881681980451136,6.037522943992592,3.9119131725190477,2.444975248549435,-3.9014899754285364,3.3889650689194464,-3.46035615570612,-2.9021634057590213,0.9143802709946982,-0.3786547792236337,-3.16654875365685,-3.603003011423984,3.4796589061203855,-1.2074889277770764,4.841206404148473,-2.7032326894962133,1.0421940565310872,-2.896380356563372,-0.7433328802385369,-2.642330807306772,-3.0764809600925735,2.990275807530121,6.542144214002231,3.2822973559233484,0.8944382360170253,-1.4774235297051153,-3.587311360466699,-0.8353460546996524,0.26961891458073844,6.396467133455027,-3.439777111583671,0.1273495681554062,3.7092245204930685,-2.9651773756942994,0.23765833813662207,-3.5262183414872976,3.648697051933023,-3.350006594824836,-2.3289937374641614,-2.9972144527069213,-1.1237064110365163,-0.9503491951884838,-0.46916258104263653,-0.7398378242335779,-4.3631042554421455,0.47933899850728123,-2.8760497588134513,3.6662974415539176,2.0223563746752546,-3.0840776741962443,-2.59717258544153,1.9966934168234975,6.02041656924155,-0.7359814366731633,-2.4379595304107906,4.377373073078288,-2.8762006450754636,-2.6005012268005796,-2.682855088418638,-3.831152026554995,-3.2439699556393267,6.177501986993125,5.509742310532107,-2.9018213270288378,-3.2795544154363463,-0.6134463997782371,2.728902114338989,-3.038089075443403,-1.41097808963091,3.5448133186155957,-3.6540409687175845,2.6686476740600193,2.2932099905843715,2.2340728637862766,4.992529256841307,-1.0181185017337533,-2.9206846947790837,2.749966464378005,-1.6068234531811658,2.1262725948422943,0.2420027738531236,-2.0939699027992282,4.574244396447714,4.261207927671117,-3.1093732254607076,-2.703185647093827,-1.2118088092277355,3.8851574503651394,2.988814042801974,2.1701244992554103,-2.0970558284943897,5.912877462237257,2.539451555679431,1.774323999600099,4.877248458639978,-0.44148057956409303,4.934509540343117,-2.924026905404105,3.798455260116067,-2.283617015169352,-2.9826203259693487,5.389033442033972,-0.3627874050538482,3.9287648188579714,5.789040493416546,3.3498655888877034,2.9829581323742285,2.579917046410511,-2.1315906960119624,1.7413377658430216,-3.43526343703341,2.7839744856960653,-3.177626537069817,2.3996890185117894,4.077572074945055,1.531132608055258,0.9056134684405914,1.5291528757834922,0.7898919841404819,4.032593327723235,7.80069222754825,-2.46344808170779,2.336026945516582,1.1746614552917327,-1.0652229531806374,-2.6890882011739983,0.9345100725791422,-2.999319117918187,-2.8862980821943465,-2.3568647854439124,-3.152078469433678,-3.3440092752426374,-3.630386525739132,0.9067487743325328,1.1091867773819497,-2.7643514461626664,-0.8759442326213323,3.4824858549358515,-0.01300542706330379,-2.4959382669344348,-2.0675833443023333,-2.131908219538617,1.616853789886536,5.950961478514002,-2.6895496874059264,-3.20831292512408,0.2905823298520833,3.7458639360970802,-3.7870807991145417,-3.1825563411227518,0.2906950390103349,4.654719039052279,3.220260321449013,5.278830901511889,-2.1269629698448567,-2.7862514933023035,1.9850983422337036,-3.2708422040646834,-3.464578778355694,-3.1047593233581625,2.805234586635308,6.633135272015827,-0.37952194302223446,4.599673793501378,7.6659374794979716,4.499460033865226,-3.287102354757788,6.191945080139134,-3.470875179098079,-0.811693995058588,1.5831408737660602,-2.3401391953130957,-2.696286281048469,3.8676890346202546,-2.9750933753146263,1.7424545129332683,-0.7988727944365079,1.8199127801295132,5.573456929587623,0.7599342540791434,-3.1971921397764493,-1.5671884940763052,0.6476431162265616,1.9365777710152157,4.8610782067345735,-3.471479151283424,-3.598538679774092,6.974121669901523,-1.8633170149291771,-2.068585459626942,-2.565201532056201,-3.296765823015846,0.5557672456166153,4.7766362074276785,-0.6508086892193742,-3.241727105927486,-1.75947439099917,-2.839940199819671,-3.221167986779656,1.0266844600399723,-2.6141325614166098,-3.1883121936613104,1.5905851082314415,-2.417177841161319,-3.3065128953629186,-2.709460189897209,3.0172033680380426,5.251228909985502,6.086739632689262,2.7071125080937497,-3.2122094221616098,4.851878262236482,-0.7955831567777213,-2.9624134102411523,-3.1368789928208938,-2.562535002584304,0.5489569806493523,1.2518621915439705,-3.4665887144496548,-2.6427869200802796,3.17457741054704,-2.897776011393704,-2.377088065760139,-2.0754051563630074,3.655998498970035,-0.40125864158729246,0.6564651328429444,4.7766362074276785,-3.9135536700157973,5.840061518637089,-3.092917120354715,-3.375322129964412,2.3296818267976622,-1.57516488827385,-0.9509709957384803,3.0954370729086556,2.665428873538185,0.5541320493335254,2.264546736299566,1.6335073238559947,-3.2790847806859467,0.23312487365977322,-3.5436938140039946,6.067725878107911,4.231519496086461,-2.7825840385828595,2.208929623690449,-3.177626537069817,3.906120612976746,1.054639379750816,-2.522377729500061,0.0025204262471190822,6.981165397226311,4.268115637768398,-3.8001717254179073,-0.9663131029029527,-3.315016525382736,2.654558689453073,-1.2836564476264258,3.854512059018333,-3.0904086783701277,5.927949593831089,1.366945346470085,-3.5024027546355505,4.285081794939921,-3.2225123324599694,3.9549312640564662,5.196418147737382,-2.3391289784004687,1.8213680855331065,-3.311608366284842,-2.499731390576529,0.17982544491389507,1.1349934284052787,2.0180716986533693,-3.5951865546578974,1.8821046944417636,7.270456209899201,-0.3647789339147621,-1.0465840035375291,-1.4944900624149169,-3.117794722559221,3.9225531421215503,-2.3692935317412114,-2.294759318414801,0.30543217460516503,-1.4110056418188561,2.8361611341019244,3.3329866614339694,-3.3937786359385735,5.674763146937255,-3.384281628847897,3.3074190585042467,-2.8701290778709825,0.354377765027903,-2.279185501968881,-0.28086775439845635,1.6213548932979722,-2.694262991043187,-1.7789241949425023,-1.8030083577834841,-0.8698764881430503,-1.3896635866009805,2.616072538919948,-3.5251420916532874,-2.741758477528566,3.4140265355394863,0.895396133286941,-3.7909744339892346,-2.8419321611816586,5.629321931775666,6.26863570434609,-1.4284229844479552,-3.3438036240078413,3.781003967792643,-2.6637175498395296,-1.1475456211743367,1.0569464038200327,-2.674654031090079,-3.1739212830311114,-2.5332227668673095,3.6821387212705488,-2.917822404125992,-2.036177210475095,-0.48572168336141347,-0.8299162021167265,-3.248653136239424,2.505751690433886,3.5570035780341307,-3.4388609901745686,6.305694451115932,-0.992198236082983,-3.552618562615026,-0.9176028594855338,3.2023509021836074,3.186379868087245,2.757069625693533,-1.1410792128953313,-0.48572168336141347,-0.02063750143135567,2.7133007170269123,-1.8631123442247948,0.5696028445475113,-2.0720699144413675,-3.420827764433728,3.0799425466447024,3.0765429179774566,-2.9593655633361253,-2.8341967614585615,3.8728999359679843,-0.9363101581537133,-3.137404090892584,-1.4832614127428834,-3.7648291863310632,0.13091571105798888,-3.0924092860634667,7.283072098190691,-0.451640766527293,-1.4762438272884464,1.7026533784537214,-3.040176301870434,-3.4936233217530774,-3.2349298646170674,-2.9621294830801213,2.3988650803753724,-2.218459938466635,-2.9816696894337555,5.071847838709031,3.544856502399714,-1.7572210239953427,-1.490691207378557,-2.7754325363531813,1.4432606238383794,-1.455879935805207,1.1668383743821495,1.9850392592821682,3.993879969410136,-2.183839258317399,1.6474729146834421,-1.483473130889288,-3.0526180178598725,2.2919507212971224,0.253073091767535,5.390863871529367,-2.5770920023522454,-2.9049834274487463,-2.258254154941546,-0.7537676680615474,1.3386678273133812,3.2736208550992068,5.289669010590252,-1.7077277859942173,-2.422212700036001,0.7155081270081911,-3.060325847085806,3.841775251262686,-2.3353041998929385,-2.909005634291415,-3.465740880512839,3.200069457398131,-3.2195060913029656,-2.94443152365263,1.9941284514597035,1.7255500880117935,-2.609481279062394,-0.6598823996026981,-3.3178989371244536,-2.643818690582637,-3.0528946247048685,-2.212984684063887,-3.229991996799108,-3.1464763707408525,1.335108339471123,-1.7727400626097292,5.587810889963814,-3.376682782860193,-2.5254735957039274,-3.4895572710475613,-3.468002645250445,3.20425496459102,1.255168644920563,-1.6386005067757496,-4.12246354432922,-3.0097065454265945,-3.4277708369032203,-3.7530461280503307,1.7672563924913964,4.308936479657096,2.1368548173609927,4.662413220067193,2.012720773071473,1.8629667885437193,-1.1253708271421732,0.6673958767784403,2.0043450092608084,-3.559825584356034,8.085412787866426,-3.2790847806859467,4.64900739620722,5.328255329116777,-3.5285662188585247,-2.8071222858023552,7.270456209899201,0.20003220295389484,-2.919940481301282,-1.7465623837790696,3.2281320177698554,1.8073951159801922,1.834485157595726,-1.56390527607014,-0.8660734017289692,-2.9630890304491904,1.8739905981058331,-3.1768362932706107,-3.3953168399062608,4.095026754142874,-0.9500554517654155,7.202962608440158,4.481604509484251,-3.602925646029543,0.16275577237859856,0.16174543381685938,-3.1224849421435694,0.10382963378267125,-2.8410130705693075,8.146030394677409,2.1873505070692576,-2.860529562610835,-3.517919490121366,-2.6985328216466993,-3.6504506004908746,-3.016140395117195,-1.1670668808219835,-3.3407369772262854,1.386549977050079,6.238942378549613,-3.4299623947176827,-1.1876251580227895,7.80069222754825,-2.679794156091064,-2.114554940085918,4.107593018611598,0.869466209821601,-1.6211439986405514,4.364487280755558,4.272919182620709,2.514822200947407,0.946579333229579,3.9051221572614225,-1.308297882480957,3.0360115651341433,-1.0711445943933602,-3.5843928167083647,-0.00633336839349377,-3.4666705149447594,-3.022460216689633,-2.814702725802586,4.968722767250052,-0.7126221773669692,4.30110457165165,-1.4772624492915543,-3.345708544845526,3.035675976098283,-2.4199048800045295,-2.105609682060573,-1.169830934659471,3.4026024769592285,-2.7125753617934745,-1.3074502159538055,4.401375758104646,5.684290519097643,3.0594860836151594,-0.5663133768710097,3.5479989905371387,-1.9790341781534255,-2.6272587681025716,-1.4790742035515498,-0.8169607503897195,-0.5645938749013109,0.8021286541754341,-2.3441762475876247,-3.6815746375357823,-2.442598476942773,-2.8919368612258145,0.28909123660750313,1.262496301797565,3.781003967792643,3.7270915898499637,3.615545644361453,-3.5360055477504346,-0.9249790139768924,4.506385538415744,2.6910203467374596,-2.574896106613511,1.5088139831784821,5.397556825826074,-2.9517415029904344,-0.4829384968724859,-3.322942053033577,-1.3074030993893506,2.737552163452312,0.053488562616846314,3.088277660201935,-0.6643075982922544,-3.2123773722935014,-2.1126584266182062,-0.7485739912824825,-1.2791025409913017,-2.905416770043609,-4.329212717836838,-0.08270980998886297,1.4483554637610754,-0.9382520706052494,-1.740417436362238,-2.68388127434619,-0.9200378846690475,-1.5859880903546224,-2.328441483962682,-3.342444074103367,5.534688559401202,-3.8001717254179073,-3.4574065513134644,4.000644760420565,-1.6360836268677883,-2.5009669342410175,-3.2042725702308914,-2.955865275155836,-3.1783483210923325,0.6308134554417814,-3.6276684972533775,-2.9318427345456395,1.4432606238383794,-0.8734252293556045,-1.7017398944632736,0.8817716521656827,-1.9264199088436804,-0.8604978570045895,0.0341272311454725,-3.0307299874033617,-1.213102147514888,1.8068804596635764,0.028194431790710742,-2.6670867760094383,1.540472809545419,4.230919218524492,-3.6912975484163284,5.415518288263667,-2.2536646511098795,0.23887896987200616,-2.279185501968881,-0.46846509531006086,-3.925733827877242,-3.4587441622532746,-4.443469095126545,3.416190744009557,2.310173446073289,-2.693498677377323,-2.4735472718072797,-2.8187234202263194,-3.456309529965987,-3.364632644293358,-3.2727657900990366,0.49663457054442567,-3.375322129964412,-3.1812459755167364,4.8812947317600335,-3.359978435442967,-1.3255859545492605,-3.6214940659310826,-1.7017398944632736,-2.874401865924719,-1.2002130833698261,-2.4379595304107906,-3.227968671294397,-3.563554335933014,-2.9411909515703902,5.792849410571657,7.838739884355566,0.14134959921109697,3.6055682385010814,1.0678013548195737,3.072267228550142,0.5992391540210117,-1.7578505018679835,3.451536785247291,4.542092997661276,-2.962916207100779,0.17097516680916724,2.7071125080937497,-1.7224441395298922,-3.185507450060232,8.106643363151914,1.1063633338753909,0.3384908027606678,0.900902301522002,-2.924026905404105,-3.209523345857111,-3.35770305848834,1.7296874511096374,-0.13333463059970743,4.8610782067345735,-3.341710274450111,3.1846315546360993,-3.3714597754270446,-2.4563372391918477,-2.6688844333197626,3.4061153086009393,2.346411218569997,-2.0970575575478967,3.9051221572614225,-1.9325216129619953,-1.1157848147579674,1.6533129000512319,3.7092245204930685,1.395683122708806,-3.5348453280985144,-3.301270585328207,3.3922986277449554,1.7914230460171612,3.6889019517141053,-1.4285462302121739,5.196288547612697,-1.0799606341377006,0.698226027786091,-2.2460790495640004,8.823870350144622,0.0038652840671891935,-2.811452624802138,4.2920225577757165,-3.062099297061996,0.8362499309123974,3.2411561184213364,3.994311047770416,-1.1523925523359637,-3.1812459755167364,-0.8611697834331271,-0.4049315625584502,2.6252011062856204,1.7052783983131574,-0.029066620115505107,3.109817219571098,4.171640310493578,1.4619274472021626,3.7458639360970802,-2.921643197047779,4.242193935604171,5.23287662676376,-2.1211763557030343,-1.2158031472996442,0.8636819628097798,-2.6488459758231504,-2.841401351542045,-2.587682963292003,5.006874952167838,5.346095547568116,-2.6768565953512486,-3.1164064926090935,-4.218651197915376,-0.17469153341127347,4.554204365196182,-2.9998491414083706,5.402121138964915,-2.5780107898321356,2.2490535021806184,-1.8255465163697078,1.5768578985370352,-2.6736465922058708,-2.820543098382155,-2.159149795282895,-3.668573801006788,3.249791861001247,1.1528711708684205,2.00298259081158,-2.936670380662226,1.4798946751439372,4.149869187207219,-3.645724391628989,0.7141753694396156,-2.8779623398707344,-2.2251617415569025,-1.4823094544341968,1.0639239383916501,-3.638769960084773,-1.6616870870746836,1.6454595239016305,2.621267514909408,3.17457741054704,2.938103436408267,-3.620883020179623,-2.083489719706953,-3.348819751894325,-3.580477024657511,2.683823666388511,-2.4379595304107906,-1.230503713438528,-3.5666998101656247,3.2414826405323307,-2.9118470985092513,-0.48193424653918027,2.340426832152451,2.099206216930497,-0.4837555539575544,0.08577295564520751,5.187457762944867,-3.4665887144496548,7.531068703032598,-3.291901086918546,-0.8611697834331271,-1.731731103772397,-2.725073290278012,4.6732040968409825,-1.888423300151754,0.030988298899276102,-4.304165228836769,2.5843327729573775,2.3887288541559664,-2.2450478182060496,3.348755675972945,-3.031088175844038,-2.21807252028333,0.2564456139544072,-2.218444429143348,5.280840929691382,-2.218459938466635,2.7339728289391774,-3.4403615569948265,-1.308297882480957,-2.0267786364499196,-0.6406241482138871,-3.58478862139791,-1.631184476910789,3.2416543718067214,-2.73052766053521,-0.13197600350488434,7.861734549780566,2.9905371213180727,-3.1776155282858474,-3.5472575609787866,-3.3945510491759965,2.53689027774021,0.15915441709767164,-0.851576146390279,0.23312487365977322,3.9799979367736937,-2.7458647552749476,4.421584698390461,-1.9276723777351499,-3.4461977997096076,2.2564735255268937,-3.4871605080104366,-1.0417600416643396,-0.9249790139768924,1.941820859128173,-1.8481098866231218,-3.011000348814471,3.887449497204762,-1.0008444364674383,-1.8377761230581264,-1.595332956096618,1.6616004264122688,1.3323808822871672,-2.885957562096844,-2.836462994754329,3.200152210324249,-1.8002341459836553,-2.7007769744883117,-3.631199275138085,-0.6615298166742226,0.3135227904718814,0.2725470517690138,3.15049084026617,-3.2173089956344354,-3.308166508588369,-3.4615762067983846,3.7010509471322237,-0.45141073387854264,-3.2583315679653397,1.7954142480984119,-2.380940359210941,-0.7231789918652123,2.125665864276174,3.227395056679505,-2.350312295411426,-2.765808696404886,4.220995109650718,-2.8610074272409642,6.090177608959146,-2.8770539408506552,-3.073329030216203,-1.2743839138372106,1.7566214326792016,0.7004032278915056,5.48820365815045,-0.920978144894395,-2.7436275774348133,1.7377037369642756,-3.0033327638641043,-2.1179337812684054,-2.874576653355882,0.8629899016386735,-2.837803545985139,2.752705672803699,4.662413220067193,-0.17300233152380076,4.919185130306001,5.5010534156318975,3.343202739768198,4.79139722694265,-2.044148282670952,-2.02246491672456,-3.5346736176112583,-1.224312041111485,-3.0339291310205505,5.2146000795596334,-2.7592700975499,-3.325300217476706,-3.3452562441756535,-0.9807629527386624,-3.3225692521221193,4.439389024257375,1.6364310664502342,2.322620768885581,3.7445332078192783,0.3793879589759423,2.9331119155324923,-3.715406221229551,-3.3858459224451587,-2.538717312629993,1.8658497516722028,-3.588933227183749,1.7897182138299537,-3.4052410225730676,4.575429995641707,2.758526075096424,-3.3178989371244536,-3.0348937480819957,0.11048979289334565,-2.710413220727677,-2.5074837424769574,3.042580723127756,-1.120948111123704,1.3766617962636492,-1.00789099960462,7.221269135011883,4.839791700361956,-2.4307966128571814,5.576708598051285,-3.117445960230119,-0.6492552464292005,1.66496030240642,-3.6801546835435346,-2.4018840368133514,1.9626060430946382,-3.8188509819674157,6.591748433834745,7.3393488015519255,5.294856904118742,-1.5944719575966393,-2.8497572088681373,-2.043758332439551,-2.8339905533144076,1.4798946751439372,4.585816423392595,-3.195617513049563,-2.4735472718072797,-3.2196925992476344,5.440530002189852,1.3970263032870447,3.0663537688837574,-0.13830178189762704,3.661966582288275,-0.3210149308916314,-3.1645923233603623,-1.4066030912477683,-1.1116398364356692,-1.3781889798241398,4.30868853006374,0.534833601766024,4.789856321470237,-2.6235952120618045,2.871225979983159,2.2799901506671234,6.629732296673096,1.6995507283083628,-0.7562447619871236,-3.2008656672107114,-0.0954605554816334,-3.417391892344081,-3.318403277343536,-2.9719048022014265,-2.2951616441181377,-3.163915409638791,1.5721754548002682,1.5180355833128196,-3.3612384074232424,0.4592672652276535,2.5934107962553967,-3.0146054781223826,2.3295555054752084,-3.170763372924379,3.5479989905371387,-2.4095897736651875,-1.672315054766474,-2.7681800484992376,-1.097042501424079,2.3296818267976622,3.607224431449477,-2.7983924313082484,-2.043758332439551,-2.5250686834186395,-1.4322212600949351,-2.758900515367714,1.6167595853030305,-3.130150260542297,-2.7325916503938807,3.407939469891227,1.5536872999577824,-1.7856630970738014,-2.2022370546646557,-0.3152977390856411,-2.5878440910030664,1.9145123724179203,2.765789059712605,-2.896380356563372,-3.016140395117195,4.927905815924393,-2.6768565953512486,-2.1296565142608856,-3.478735099893589,0.16186414591113082,-2.881315296185321,1.0127942956707658,1.7954142480984119,3.673256673794885,5.078396401272598,-2.200339400835346,-1.3028114159559774,-3.3250097274644324,1.4619274472021626,0.6330756963687236,-3.2986672099162857,4.720960905347403,4.08271269594845,-3.5262183414872976,1.1797550112880255,2.243966780214494,4.494538563346643,3.8421051784789295,-3.634898054862319,1.734954517644591,4.122891997689193,-0.39809977899761007,-3.8384488120151303,1.8552536799795871,-3.3099308372222787,-2.9517415029904344,2.4145481559334727,3.627508600058422,-3.338203971403325,-0.6059965682018568,4.228714020777652,4.5863551838888466,-2.307067614327851,-2.906569626334367,-1.7351088151166978,1.3413104515179848,-1.9913781221080176,-1.935842653475491,-2.914843850270246,4.156202418000005,-0.957038704600734,0.41939927193653204,3.6324847163163,-2.739148961655199,4.806038204430809,-3.205465612196179,2.4477708060937444,-1.336717037990616,3.202763565409462,-4.966834549427241,-2.34208574555268,-0.4595731775616776,-3.4416951516578678,4.848616657630958,-3.615497162074767,3.5990114263149104,3.8259971185744313,3.3320313466315437,3.181887352743184,-3.3075498027019585,-2.3753184827726073,4.133032989854631,0.13409517189024614,1.2175826985608942,-2.9669172333720075,0.17982544491389507,1.8292015998503381,4.506385538415744,0.1569826376973874,-3.2127248534679955,-3.234282390041135,-1.9004893547867665,8.259442368467722,-3.1368126777938934,3.763724334409319,-3.2540625000403263,0.49049900679667985,-2.1773199835026453,-2.6924971170809244,2.2628830854662407,5.975394712135763,2.3050796757781606,2.8794604999618416,4.470564370487031,-3.0029526882628446,-2.0876784836613655,2.4925343955489314,-2.2692886471757374,-0.46993668483990503,-3.134986840400184,4.743735357400368,1.5134598786714926,-0.9887330233029213,5.749301982436721,7.152253838321643,-3.0874124600528385,1.1572082089240403,1.976197502890795,-1.19846812807588,-2.8803686848446284,4.674028157252794,2.9308778988584896,0.2627549084256265,-3.232039964883266,-2.6608224982656745,0.1872276247804191,-2.9850033626899575,-0.8360221368160939,2.539451555679431,2.1558076791278356,-3.0150109647971326,-2.31321190814989,-3.140764397809372,4.540497596752356,3.7528518291906288,4.654719039052279,4.60415791815832,1.922127894413502,0.6974163289977208,-2.3441762475876247,-2.9324007569830792,-1.75947439099917,-3.673807275622875,-2.40341567153239,3.449099855865384,6.55607166348792,5.244670603136041,2.827278497635491,-3.284706005648334,1.6209329826369039,2.822698760298314,3.597306889732222,0.39390072532228765,-2.702584649035133,0.09461596791453183,-3.2303600511441015,-3.68392918075897,2.880863204213034,-3.545347461121326,0.2640188566463537,0.8414960048226973,-2.9813687018049873,-2.8648040657177023,4.827426745920698,-2.91714145188165,-3.2288466635023507,4.407977198389578,-2.41117778893785,3.236002367003583,4.437854660151132,2.4897415812242514,-3.2482764715020487,-2.0970575575478967,-1.340768920847386,0.7384934937386449,3.7235519365629024,4.547643159197222,0.2212522226520655,2.852498112375191,-3.2973975296651585,-0.4994931597895655,5.565731679180512,-2.350312295411426,3.0007187269479805,4.645794906409537,-2.9785158804247973,-2.480526698628614,-2.0806902560621747,5.5520563661460605,1.7868866275212127,3.380430674227349,5.176696754678959,4.0091781026318145,1.1129042904193522,-2.863235016286106,-1.7856630970738014,-0.6056042291341188,-1.9974244847057843,0.8203111150488511,1.4287532927279136,-3.1232720130721714,-2.841491162945265,-3.1540133966190527,-2.403797520993407,-2.7681800484992376,8.01495818165155,-1.6868847618574407,-1.4346216113787846,-2.919082947575542,-2.123981757062996,0.10803771650043553,-2.7312404044167438,0.03109984527774007,5.355998890255403,-1.934451526163857,6.572970267029395,4.541979713121264,-3.88813653393528,4.168536244978057,2.9782725808188224,0.15949263475873796,-1.4102108618063989,-0.2735203959478225,-3.2347839653380484,-3.3751424916143815,-2.336811222821529,-2.4066869584657318,-3.1368789928208938,-2.921736352994896,3.7973247943947417,-0.7409638075680721,-0.5692745740308347,0.8293472285840774,4.745378533062526,-2.4595237260127236,7.298005719002038,2.23232561262967,4.634835547243878,-3.638769960084773,-2.0873322643988153,-3.6229401116741324,-3.7890722190561084,-4.1168750057300505,-2.8655064508352086,-2.7536057405969814,-1.7949979040534412,1.8604803461575887,3.4504923439534436,-2.957171329208585,-3.607736503610758,-2.2565177106394634,1.5138522659458773,-3.169414188830108,2.1012131933427503,1.7560621045217537,-3.3133560172659258,3.5847215858234946,-0.9474372945065677,0.012238106676385608,2.319497497380485,1.2441199245672745,-2.85680221742333,4.738234984487002,1.568767170135866,2.194307191411205,-3.0497471155310003,-2.8586326533069326,-0.577027078660586,-1.7693677531538752,-1.6862239396634309,4.738809461538876,3.808431341828928,3.604214487556325,-3.2085165165424896,-0.38963492807664235,1.619252786404528,-3.375589643278442,-2.9995555146589195,-2.015372120681075,3.3705416657431218,2.683823666388511,2.028519228079029,-2.456341983764635,3.072267228550142,-3.1528337310502748,2.938103436408267,2.213114715278675,-1.5533658219171418,2.704538292675239,-2.541766518283809,-3.133843210736057,-0.04466769663216226,2.3173076859264654,-3.338203971403325,1.6335073238559947,4.055240425025396,0.9322149076139497,-3.3013480813467506,-1.9884597430074373,-2.2556183581274687,-0.6213717393314453,3.994311047770416,2.0263055662883294,2.408926540883063,4.3318934971544945,-2.604375179583211,-2.8527253698312305,-1.3331758432116296,-2.855885431939328,-0.18810443375301716,6.128310692201082,1.5138522659458773,-3.1440794647515222,5.330630416749589,-1.917000535989953,4.595097371621484,2.627794642320676,-3.1689449760039667,2.135010327195813,-3.3106980248545383,2.9943874349363298,-2.317173937206825,-3.183760936177427,-1.6868847618574407,0.9234103976266772,-1.460047519661014,5.901924776198491,-0.1254944797159574,2.0075125825305924,-3.3490417463376407,-1.9655133006913146,-0.7332964262054006,2.0705784827259923,-3.0948658916388045,2.5321832992662054,4.247537054011668,-3.293045256735362,-2.5812562473040885,-3.941998625648529,-2.2873869399630284,1.8990871249583798,-2.7151392742719507,5.587810889963814,0.40385093791019827,4.698937739807881,2.5772911993646637,-4.447982326906363,-3.177568247609482,4.775481532100037,-0.15149596048237587,-2.99112028757281,3.1509623364201653,-0.7166504137898525,-2.0376785255520637,-3.3756694132063094,-1.132592633080577,-2.661761285488303,-3.5293790800135088,-3.3869162111646816,-2.8351948057254117,-2.0447843850386818,1.7190339934708232,4.016233582835486,-3.4972370068326915,-3.3856424176948043,-1.5301005613463243,-2.2019242838859245,-3.2537418634006903,5.057345346017236,-3.0690797875570617,-2.0376785255520637,-3.308166508588369,-2.9957904120145753,-2.5968713826181844,-2.71693308862266,0.9265324715591313,-0.6857145367770993,3.925101226124165,-1.25306221476584,-0.4979001758687118,5.2124944664519575,-3.5880396488575586,-2.952601286532561,3.8421051784789295,4.173119080477207,6.562279626124545,-3.110540742758492,0.41875263853618727,4.180209892064477,2.918105151935762,2.551539781128148,1.5108840806988726,6.802641802491897,5.195053464394363,-0.8886207530557952,0.25647788970057206,-1.3024837314694986,-3.149562437714047,-0.3100857170178909,-1.2002130833698261,-2.7980820450197483,-2.468404386136667,2.975610759244891,2.4356231376915964,4.996920373509171,3.132144216676119,-2.927605753144526,5.15504539082659,-3.2728518463128267,-2.556579140698042,6.644463738296936,3.7604707338632135,-3.794401612733395,-1.772546187923077,0.13776703376330035,-0.624721384517719,-3.4582474716581286,-2.988235076747139,1.2729207394718065,-0.6406241482138871,2.6523202132958326,-2.3441762475876247,-2.690549861543816,2.4405293180300793,-3.0617303828022564,-2.951021196687992,-3.0404264125837406,-0.4507507793528509,4.039246300628563,-3.419610495069644,3.5530201484800195,-3.858295271096764,-3.4855516112377387,-3.229991996799108,4.554204365196182,-3.631199275138085,-1.1383058385584421,0.08966774951349493,4.663618226411483,-3.205044136249559,-3.511315187969241,0.5738497122583112,-0.4829384968724859,-0.5263510866060943,-0.19626036137763453,-3.7964506957482467,-3.2244036138366354,1.736312583321112,-2.4909013104257687,-3.2594007281728574,2.963770343853784,-1.4285462302121739,2.346183834660341,1.8724237725800799,-2.1924799069693672],\"y\":[0.12595514295225643,0.1904217629531811,-0.2624176858149211,-1.5519045578248647,-0.14224385186065389,1.3156185754983138,1.5027911637981533,-0.8649279352301222,-1.3035110181810843,0.798204044535972,-1.7487902778558744,-1.7897140338581705,1.8249735305993653,-2.0275542125317405,-0.32787416929671176,0.9220158693708183,-0.3411944987591978,2.318877223817379,-1.282506971975886,-1.2136937002358152,1.084657325051253,2.3389204600945446,1.3117347277081761,2.790689074166779,-1.5345872799806632,1.4802077547924222,-1.628315165266723,-1.1462893293814773,-2.3641484616158266,-1.6661369580947214,0.516608130336553,3.1118669660451714,-0.6392752283828114,0.548064396422091,2.0084925766049917,-0.8240227841264548,-0.6031883513458911,-0.1884932771423851,0.462479798296503,-1.299373800496309,-0.3114399708105237,-1.1622085245210327,-2.253434124356131,-1.5975197417672478,-0.9455820922652373,4.174792860170558,0.23190722883865805,-0.1971982121111609,-1.237111399090588,-2.3202875830061465,2.4116463431102053,-0.7749497445452681,-1.2749393729730356,-2.285906914209573,1.5116535849628956,-1.6906952154893888,2.012697793398939,2.73811704390244,1.4310064134793727,-0.7547608004642608,-1.5613585901897966,-0.21758010638324113,0.5671635029380361,0.9192719620407183,3.448893265294663,-0.5435250884758378,2.6200370598361746,3.235310730362646,-1.8368564855488132,-1.4765517288797874,-1.0748149116149224,-1.4092648212764858,-2.47946985428901,0.41777905535825277,-0.3041112934193616,-1.461741300740994,-0.6967130224245538,-1.6661369580947214,-1.5226029145086613,0.6033460128435061,1.7460915242784762,1.216907010268167,-2.040795294212153,-0.4823088260063828,-1.7132568411490794,-0.9547101518799916,-1.8301153252602231,2.830277062137683,0.39041029621684353,-0.4338060884979719,-1.31018374174981,0.10990743530707195,-0.22015156030840952,1.1210143226841083,-0.40571846186188354,-1.818002618012953,-1.805773014563672,1.5368149227365349,2.985956764328193,-0.7649139406345572,-1.121152122721723,0.71901787279678,-0.06944642364760115,2.0236426389462157,-1.0965240494187893,0.9615017818944608,0.6063960792015382,-3.2915209549196267,0.5813084582755884,0.21787493630036509,-1.0931614576872961,1.7210410844726993,-1.3313779819048894,-1.0283522529602855,-1.5359825696554468,-1.1050027688540178,-0.970882501021789,-2.2892588947190413,0.6237506266102157,2.3003362417019244,1.4642476487681446,3.326362379309697,-0.7771064378796425,2.1160893550617894,-0.28067021974171497,-1.2261358254022372,1.5116678513110386,-0.5830431967239399,0.4807123783157439,-1.1626488438702802,0.5746616679085587,-0.5195680774773875,1.7123633701188556,-0.7709928506882083,2.476239279966627,-1.3706498448204816,-1.4892721308835686,2.773993221824463,-2.109924914153944,1.746222948682541,1.8467871179031565,1.6276178447880798,-1.1047918212631516,2.7320600452092574,0.17774066559291563,1.2027783182379332,0.9179782614663757,-0.739229195181613,-1.0780884308302274,0.5751848067071164,1.6600251764002043,-0.7258758359260598,-0.7200075277761275,2.099852984683739,1.3787879444660693,-1.0718379140626133,-0.819501068170726,-2.3911939851024147,0.6120447100137322,0.18391712474969585,-1.146710795617342,-0.7298128625064172,0.38529075074033686,-0.7410812334583043,1.872335087850593,0.40688376642234403,0.2454903646852966,0.1240640641688415,-0.4338060884979719,-0.29935402095031466,-1.5224221362032715,0.3539762131744195,-1.9953482978860118,-1.9434109339813888,-1.343955736419063,-0.5948756692215826,1.4179049253896314,-1.1848818846920706,0.5562668585605498,-1.7043037201593865,-0.6526240526962717,-1.083245159378421,1.61878732859606,0.1500977157609865,-0.622134327210201,-1.6543740898202919,-0.9961685881644928,1.4320188339278659,2.062950250129275,-1.7063629066254944,1.954426982833457,-1.0458343804100598,0.3493417428122263,-2.7457131335399554,-1.72648028230165,1.789639886862797,-0.4114488691607598,3.522501804598526,1.014138525615517,-0.9859628295920231,2.959994294215845,3.5578390624317375,-2.1569268041548204,0.8944780459401329,0.04194201429816157,0.11362134212536637,0.8268419889009797,1.4519654734609455,-2.1929189841787395,-1.5825848173242028,2.3977898206718185,-0.21176170227170482,3.4022630701685412,-0.18889823651267554,1.6237804332885897,1.9851868243504414,-1.2938723912471732,-1.960223041989867,2.9151847235420703,-0.10411840501085806,-1.3536669004138993,-2.115372902067838,1.9481621498290491,-1.1829376411806982,-1.7085838672860558,0.9352858288026835,-0.5214180773274456,-0.6835242809746236,0.6773956166847,-1.2283445838771894,-2.3121534081880464,4.142192490063541,0.076352298750271,-0.474710383813273,1.8865868288662364,-1.4131126392961346,2.096474138023988,-1.1406650560063176,-1.5899535990704272,-1.4233292027356803,-0.8805710316595553,2.880935542848576,-1.1714587186262546,2.4118097855468035,0.9172330328829469,0.8926851466946878,0.7597229803418978,-1.545466289296639,3.4265471641328875,-0.30038014852338374,-1.26699745466971,2.2970892130639915,1.1317915464547297,-1.5502027063046357,1.0986879959830376,-2.041450204103434,-1.110960458678412,-0.48618312870491587,-1.2747469042731265,-0.034346572261987104,0.891012009099889,0.8258686530719349,1.61226283189952,-0.2898315423218746,-2.866098274515794,-2.640834291757948,1.6925492245989675,-0.9765236282181055,1.6237804332885897,-0.3411944987591978,0.06063603489885257,-0.10190466691772322,-1.1604882225866893,-0.3314274380466239,4.559205369384939,-1.9166510143894961,0.2680517422065153,-2.432335967293306,-0.5119512220219002,-1.6782578615748345,-0.20485111418995766,-0.08809124807164762,2.9230325628115557,-1.9164242158227351,-1.3543310537004385,-2.117195399122501,2.8191294094577852,0.9458323462802444,1.7134646547635362,-1.7710876519083085,-0.7609664518890427,-0.8337327484697655,-1.4287894657511457,-1.4240253265538187,-1.4690333013712793,1.7191722364497337,-2.0231935553563694,-0.8503078755545446,0.9895652814684174,-0.9050181788398529,1.7989688265454116,0.3318689049390015,0.6193914444655559,-0.8619518291614033,0.5522218837477807,1.0101614505292364,-1.4899450682673117,-0.23356298237442583,2.34030101500613,2.820546680059859,-0.5439822700008317,-0.871455059604415,-1.7065457961260428,0.820791878667785,-0.6609008925235443,-1.7098061936611701,-2.581798710685302,1.6951051718439496,-1.7951783993272001,-1.197875596756702,2.3860935862035455,-0.8923173281268896,-1.1155158967689949,-0.8926566949816396,-1.3618759630471087,-2.155937600705882,2.540761075714667,0.9729573308417938,-1.8956651014207178,-1.5353320926964558,0.3925497340574025,-2.1685771834594636,0.7853416528951774,-2.0433102346252854,1.9741495444663566,-0.7013267430355432,-1.0524741624647305,-1.2968545427564577,2.658325251941611,0.3135142988908927,0.48585981410271817,-1.6495280746878314,-0.5610522030830108,2.3596390513555368,-0.7003217393967172,1.230517387712053,-0.7539521219330613,-1.26699745466971,3.0535468130085786,1.440613113915751,-0.7784427588588458,-1.1674765187837983,-0.6254664700389615,0.9917520166517549,-2.0210482885433607,2.2947558284480163,-1.9158785314168487,2.777064087747908,0.5654004548149308,1.2364818552823424,-2.1626218771215626,-1.5960970458278845,1.6014604731016637,-1.3848181137278621,-0.8538063929222637,-1.8455628493072955,-0.33091656621340976,2.773993221824463,-2.4538721383585314,-1.2237411181627182,1.5306997923215881,2.167117462888885,0.42053781132532886,1.8273620481327568,-2.5703416538522834,-0.9720283230923868,-2.3182427470480937,-0.7650583625328045,1.3255956060372283,-1.165086022668963,1.5195998094442398,-1.354737168951093,-1.5919195163505655,-0.6989716012529366,1.0535352527325,0.03987402163288549,1.1032919041987272,-0.9167590932977195,5.0730304198025715,-0.07666728549033086,-0.7285318191663027,0.9577953557435311,-1.149797441354751,3.284079991296359,-1.0904334221869068,0.6961453688350085,2.8577522687649,-0.39751902553884105,1.2348342542870128,-1.0088335169877012,-1.261978363685824,-1.8819227285600915,-1.8326557084328678,4.00749565064306,-1.3169914184751885,-1.8301153252602231,-1.9448430438306585,-1.5473124384886907,-0.561820340325889,1.8516904781412835,-2.168870323480693,-0.577478596587794,-1.9778591572218267,1.0827468394956796,-1.4086358774150205,1.2139116777067396,5.219732497782442,1.5907746767524868,-1.5004763026484929,-0.303220006899554,1.44687922100044,1.7838684458582401,-0.5947081019518484,-1.3730494863490486,-1.71245789651151,0.39120118054063596,-1.7125335412212819,-1.5960970458278845,-2.180350582903779,-1.7170983239790067,-0.5191128979089126,-2.3484319213269624,-1.1023084780536558,0.7532865692717814,1.8980572325564535,1.8589745363587593,-1.4754043706194973,0.5601700580940523,2.0961166909846938,4.10074594312304,-0.9923923465106663,-0.66582173251984,0.17942487810780694,-1.6765410422758098,0.4453071529264651,-1.000487221394655,0.06546914405999373,-1.5502027063046357,-1.013046439421508,-1.4874544384845505,-0.8683565623362955,-1.2332506182988947,3.002823502293711,1.4239080944362865,1.639365393087753,-1.745453782168791,2.239980406561584,0.17419985255072074,-2.263733329304493,2.3702512191634764,-0.34648256563750096,0.5566221131257467,1.7776047820123706,1.5691539422532346,-1.3335488265658582,-1.4661984837759028,-0.3989330522063348,0.7627837927164319,-0.7812778855230602,-0.39561257872128003,0.7283752447348922,1.578908492936236,-1.6218219861188363,-0.8182521854601605,1.5869159791863332,0.05242024785428768,-0.6631844378421937,1.2774820614663036,0.8232373363728718,1.323463063282552,-1.03699301260525,0.8618918612770554,1.6601897085959367,-0.2693943989478125,1.0437977613392564,-0.46981089230200146,-1.7108002603997066,0.7845482826477191,-0.303220006899554,1.5142142214254246,0.08152292028683968,-1.5960692562124128,-2.061980505752334,2.328005352052272,-0.6461904504451877,0.46926872462328945,2.9955105133795117,-1.5472997168362512,2.036326228508521,-0.8581151474335665,1.3812749044760324,-1.854984307337842,-1.0095635233879208,-1.391448334106453,0.2886477326034412,-1.8390990341511937,-1.503046101965309,-0.004750193020110075,-0.9847859166443027,-1.4028487186397927,-0.519981356615177,-1.828636822803044,-0.760895443559408,2.388454068280466,0.6716882500001643,-0.06952558368566171,2.9963915137782995,0.9396616914909496,-1.389592507153337,1.6213171266217192,-0.5452948972664534,-1.976117782365173,0.2049235726256733,-0.9621947614831252,-0.7660659350343454,0.5081297387072102,-0.47522027164528835,-0.8444246178626066,0.3277665560476129,-1.77687478036642,-2.326878594071742,-1.2453366192231372,0.6003607979808092,-0.1700737521337641,-0.12362100496772843,-1.9564062576250134,0.9332626370924356,-1.3538514086754676,-1.011336945446013,2.5727898438762473,-0.08400486569334327,-2.1730018663147677,-1.7125873228415966,0.6739006642064094,-1.4926945783016996,-2.0957194154464514,1.492343474938252,1.0196865302827467,0.4711080514496934,0.45791809629929575,1.9773118800265903,0.17166964271183616,-0.8370615660690554,0.19872063641818016,1.4440166154919392,0.11586241548953012,-0.6797841740313136,0.30882178081806344,-1.2111040950065632,1.3379558234595248,0.9254425473488078,1.061299816938263,0.49399946033008846,2.1584704891565263,2.084277710077726,2.790689074166779,0.17232884779027605,-1.2955307552721125,-1.5001651351420147,0.4349311866049723,-0.99507931179505,0.6271579401780925,1.9514220461613259,-1.785602809042567,-1.2534315473132722,-2.8619907504887085,-1.6263348955952606,-1.9886069672128843,-1.6974351877542058,-1.0279572810438824,-1.0331225106422581,0.3280058679334904,-1.0794687438868302,-0.4523596562404241,-0.329990352579271,2.1535455030592545,-1.1874765662372488,3.4945291748952214,1.2141776718998485,-0.25951567573858736,-0.6031883513458911,0.7960312488400951,-0.26603968015581136,-1.5788784866411412,-1.2400712425199099,-0.9994797117766617,-1.278153348451271,0.9895652814684174,0.003911526064806279,1.9900098361770506,0.9158930894878395,-0.7587120673272035,-0.38434299251087534,1.032519704472342,1.416523051916593,-1.8195076761513138,-1.2918816059700167,-1.6727305490935434,-0.9370021904661753,-1.1894497648947646,0.43113929248463734,3.289700467480519,0.9159587223200315,-0.21093100396707481,1.097696119951775,-1.408584943904146,1.0196865302827467,-2.169714793385971,-1.339050863521872,0.38391551766427423,0.7516779824676442,0.21736390118337962,2.8163002925642604,0.7051281265448469,2.167117462888885,-0.8050682038961685,2.485855127401243,0.7430696271884145,-0.9695576808472757,1.9994540720328533,-0.8322146880742108,-1.0774987461509795,1.426496605433545,1.4956627183777218,-1.187131473488865,-1.0916551005714594,2.7896663612647696,-0.4509081353792005,1.493612510048051,-3.08550435780736,0.4352389881448442,-0.8805710316595553,1.8477920834597192,2.5137223934614754,2.3099582990087195,-1.8455628493072955,0.9510120638784321,-1.852883164241547,-1.7358607510727706,-1.3923970789878974,-0.6410379210688637,-1.684511759305435,-1.2647328780635172,0.723085850986912,1.55562416984455,3.3019971248662454,0.7689191614531212,0.5699623698543984,0.9917520166517549,-1.191621774592271,1.7451612796348028,-1.776974218425495,-0.7587271889183189,-1.407461040703083,1.7529205243071497,0.8592339348477941,-1.2375418823788966,0.6550246508595031,-1.403357690794252,0.8676963787783863,-1.1302164096160017,1.145630360849031,-2.4908884411256587,-1.714978462320421,2.421446695421174,-1.3937829847470469,0.2539761401795863,-1.7280815541347967,0.9032446371336604,1.190166205067051,-2.8579817093915842,0.9141191780271695,-0.24387379912318485,-0.3421210137230926,1.2552548552528227,0.11169685422395904,1.6039068168382462,-2.5807230658385896,-0.4464250575862135,-0.7013267430355432,-2.005339449114183,2.06421017277134,1.5624208297430648,-1.7951783993272001,-1.7520635953052266,2.2470257548703234,-1.2226656212490985,0.05268361166058779,-0.5028531138764069,-1.6064016335668507,-1.613537370164144,-1.1860514670233524,2.8627417125786434,-0.05168122710642517,0.961692749025227,0.9272655920064823,-1.732869203764214,-1.3871054036344488,-0.15088896134351495,-0.4114488691607598,-0.774531742559428,-1.7446713438285968,3.235735532123464,-0.514017323583011,0.10873643987799349,3.810312750108483,2.4116463431102053,3.837946052263342,0.7911450885192113,-0.9758009578535659,0.631370010613336,0.057359359455295654,-2.0284803083607432,0.9870421344291052,2.544628174492983,0.9234205128079694,2.165267359110422,-1.0148133691944825,-1.5076942221741774,-0.6059907141448374,-1.0633975324694531,-2.082349137085194,-1.6535287814013908,0.0516498148721146,-1.0313237600359337,0.8493476772712025,0.9510120638784321,-0.7562073618553512,-1.0893732859416125,-0.622664743491306,1.936608504570945,2.2156897798119615,-1.4161921939225188,-0.23077724483223327,-1.1866504075986863,1.5275539491905612,-1.4294307809968225,-1.8054253626030081,-1.130920864585865,0.9435727208827666,-1.6650092503277794,0.191123157822612,-0.27975876279532097,1.7881355364151716,0.5660773260586172,0.016870546600287407,3.2389113934976175,0.7125787044592992,0.4421075579557686,0.4192224498346066,-0.04098611462684388,-1.5059434332045227,0.2630985890684594,0.36530671606651427,-1.8756190415119092,-0.3004143786873893,-1.7312981008993604,-1.7513987027407714,-1.3449279731256303,-1.307538341200135,1.2970222290720932,1.7180140259430596,0.8322236549158224,1.5804922570057314,-1.5861178228002761,-1.45997193007996,-1.5536434227095948,1.0335206922330784,-0.14553837411739154,-0.5921978512646743,2.001604986909146,2.7154134218855988,-0.9070661266036745,-0.37117327580779286,1.1577874443427283,0.22093847944290818,1.1321917722818289,-0.08276554383013773,0.11024762106283696,3.4551325335442065,-1.0349368298927064,0.9597015376789021,3.025640838017099,0.33507070298306446,-2.286635660828543,-1.2305391951126163,-2.001248807024809,2.133617230868717,-1.784803510926203,0.4464835301476693,-0.42612039979715455,0.4794926121068312,1.3373226945948702,-1.197667394070954,-2.465549642714039,-1.067975583248076,-0.5958416772449802,-1.3538514086754676,0.6739006642064094,1.6336841268178526,3.420892976465247,1.9279795751267867,1.1806120401082656,-2.0455075962024263,-0.1291561485749696,-0.6546995342215082,2.839610994223117,-1.327168661740048,0.48923036114890356,2.0842960702959576,-0.14651381418508674,-0.048342725821087645,-0.8467635611699846,0.8034044213489291,0.9642076063188508,0.5120374116485482,-1.1047918212631516,-0.13781040758449684,-1.4928279684623935,-2.1120225237245935,-1.080269359980474,2.10475087954143,0.30020600880299175,-0.17098970429735058,0.5361112434739571,1.3117347277081761,-1.0175284796310973,-0.2136095724803003,0.9834925720301231,2.44632463349772,-0.8344234857795859,0.6730829709754046,0.7065347945074753,-1.4010367074583416,-1.1136518014046692,2.0051854769563016,-2.501231225323194,0.16892758044048503,-0.46531194699075146,0.7213332863703419,0.8803864543399327,-1.425478660421004,0.2549386702779303,-0.97428158381137,-0.647937981507759,0.6270486485749172,-0.8495357906746445,0.5321834646421854,-0.14708753047804735,-2.2281733969061794,2.5738748255174073,-0.9433114009027695,-0.6941031708825791,-0.5363148514214064,-1.2290553537379176,0.1299564099414071,-1.2731794652195274,-0.10669345134118853,-1.1302164096160017,-1.1311195776375798,2.9332603682293605,0.7327266362614857,3.3795823936743727,-0.9719388905869574,-0.9803001969616527,2.251463965433339,-1.2901225668217162,-2.3360483815096975,-0.1884932771423851,2.2068597002669006,0.7754026461334113,1.1383735815943086,-0.2158726238806417,-0.6090556041288735,-1.0135276400108943,0.3628086176825057,-1.458801460136754,-1.4133386605137337,3.1053559899266765,-1.6244178147476196,-1.6243354423091036,-1.5023772662338633,-1.5811283832828396,-2.2700935621415526,-1.2818931627332895,-1.9049891984658422,3.5569672306951294,-0.9777043292137677,-2.1596419788684673,-1.4402821559882966,-0.9660837732381777,-0.8444246178626066,0.3788133623428974,-0.6697648824998248,0.09472428552194376,-2.1455220210917876,-1.4437509226567447,0.661072828621213,-0.6154011927821021,-0.28148834612536805,-2.007355780999883,-1.1204569283112995,-2.3182427470480937,0.48789781038389923,-1.2281812435916004,-2.182378639016949,3.331442080916712,-1.5965940996247754,-1.130920864585865,-0.9937594601938959,-0.9420605474049115,2.4093093485011776,1.7482645053940327,0.3903763168974978,2.944708560795485,1.5854175446456034,-2.8820236417558003,-1.449735586559929,-1.5744718766230235,-0.29789290600347706,0.372391417255941,0.5359270755849262,-1.5244961290356565,0.9820327139090553,-1.8670108032453197,0.10457398134971575,0.756050948348366,-0.5956671117215734,-0.39652203228548133,1.232727708026195,1.0760119665332721,1.936095672524008,0.16364194145174635,1.4431646521191894,1.296328049665041,1.3300817310065587,-1.0578544820690432,0.6436950969297615,1.4720858581180674,1.3932699722130906,-1.743938003002002,-0.328515104671421,-1.6114628256841843,1.4275943131522273,-2.2034828917606286,1.699966187352145,-0.6627523456298355,1.1541014772295728,-0.6896711266888829,-1.360355543822564,-1.1970613544359956,3.235735532123464,0.7435841679017674,3.2422662305708414,-0.22934240389827656,-2.266470511775954,-1.5023363788496475,1.954426982833457,-1.4323968493709234,0.5660850875229947,-1.2540031875187387,-0.7644143363144644,-1.0465194226169605,0.24736423745606156,-1.562420016803255,-1.4348616636971494,1.2798945722894086,-0.29924041720881395,0.30955546142616513,-2.8579817093915842,-0.7364128286909123,0.6120447100137322,0.2951019157322554,1.194176834076752,1.1159637398334306,-2.902451502865764,1.7296602625677313,-1.3398995143873071,1.7876310656662047,0.9544637131444366,1.6668240703526798,-0.6059907141448374,0.7540743748071428,-0.027762921692360786,0.8431605951046544,-0.9518633623808105,0.848198636706205,0.11329719835452474,0.2892565414452428,-1.2722639849963462,-1.7868480642402536,-1.6123615181683353,-1.3872892190075994,-1.958041091299448,-0.8064972778226774,-1.2215575999939938,5.347136269965139,-0.7408849488495391,-0.9341805475593059,0.8602975643866,-1.7602323253407723,-1.4578561078452081,-0.5606484730462025,2.993429330697536,-1.853494869933,-1.5971945508465861,-1.7137307500818002,-1.4741875198333452,-2.040795294212153,-0.9494823662828452,0.9486200000040379,0.6077905302818225,-2.0335293908559433,2.097136438600441,0.9440633068364666,1.4950312990054633,1.485084615854378,-1.7292618705223883,-2.004003809066051,0.44882759009866124,-0.4017706850017329,0.9936468508061423,0.7802464008722543,2.756715131937052,-1.7868480642402536,-0.3036779318576985,0.5930619098534565,-0.13620242277734163,-1.699825224908285,-1.1785788468567466,1.4665770542800196,-0.4845315089661516,0.028145934052718813,-2.1636473932973637,5.066204786982283,3.5969116425779823,-1.44911496355969,-0.4293296198976064,0.2371059779004021,0.9294310705747177,-2.744246630478173,3.5730008762132006,-1.4065697794341334,-1.050523534584873,-0.9937594601938959,2.1500122811953895,2.5164928832490414,0.008132529567811818,-0.3381414114888975,-1.3690607220991469,-1.1013711687171688,0.033370365090471844,-0.5964701220198989,-1.6088925465283457,-1.859806896131678,1.035684979925782,-0.8820542031446945,-1.9312542971549087,-1.6478765821264332,2.545624106460625,-0.0739549278432462,-1.0376234360453,-1.9630338175278472,-2.136074701530695,-1.6719709766835975,-1.3781267257963352,-1.0095635233879208,0.7191140316412646,0.43249899367297756,-0.07137136655755702,0.0818591755054527,-1.939184249469573,-1.7944592387141698,1.062353715445939,-3.38209059424769,0.025532227052059382,0.6901736523840037,-0.37962362777969044,-1.4008016312370333,-1.1659160601361,-0.27774806344845837,-1.7125873228415966,0.11302074635306328,2.050544496082462,-1.195372781871981,-1.6559911095726585,-0.48435205640246987,-1.187131473488865,-0.9624428913651101,1.1857487296715223,-1.9465862350997178,-2.071170300727103,-1.7323639013039671,2.4349609334703235,0.8469370077919731,-0.8681073898435968,1.6631107753771994,-1.7394206760581106,1.2967950957674395,2.7606046218995446,2.3372813571929894,0.2756240736494074,-2.801260867737644,-0.2829495888038735,2.2247139982784745,-0.007978166793036834,-1.8891232291469782,0.5080612787980443,-1.6155035931053785,-0.5613309611426662,1.2216295325313211,-1.1781868998386986,-2.3641484616158266,1.0560154897247398,1.7210410844726993,-1.7034694531582053,-1.6447233758991813,0.15651888058501873,0.2117264658367834,-1.0222972488363526,-1.372114658964262,5.09785006378326,1.7640533702486973,-1.7908922198677122,1.1466135494973004,2.1153026088613194,-0.49724604493815755,-1.1171842260330782,-0.3231844663294676,0.798101588400047,3.130175328097723,-1.6019878909927716,-1.944860700958345,1.659133340811447,0.19662253202693222,5.09785006378326,1.9450420669514512,-1.1489712559719747,0.42111942379431,1.4105465944829074,-0.7789105250483096,2.481903459571096,-0.7013622449585948,-1.907270702780283,-3.1880891775127465,-2.180350582903779,-1.1218810264366172,2.378970910240069,-1.266475349588672,0.6143992860816208,0.5872574248332751,0.19297253275890797,0.3294308986236358,-2.7397175386987582,2.0653983399019427,0.47985628450899653,2.37374964718822,1.1215202974634788,-1.7947697952504047,-1.8964387239067413,0.33695654064001745,1.484688752902504,0.6304383236774558,0.4425998439956512,-1.4657228228022015,2.1335337485294357,-0.7131628767614259,0.14271526351841224,0.7298127343824463,1.6925492245989675,-0.27975876279532097,0.9136712090389513,-1.652879358361802,1.2211808880424433,0.7411386966878394,1.8220392150800004,0.29716256933161206,-1.545466289296639,-1.3648680541821563,2.1363071816090544,-1.1462893293814773,-2.276982683524498,0.6869281938911288,0.32288841904943455,1.5974989422019041,0.42504605031806864,1.5517001452760388,-1.314731003751472,1.9772090122234163,0.6171846344375991,0.3620603560571022,1.9708049461642676,-1.165086022668963,0.06752676535805308,-0.9049295594277953,-1.4397160348717675,-1.0071790449339573,0.14044155215694473,1.0867942983925387,1.3514069475364254,0.967841587390684,-1.6126603271253266,1.2567516015793625,0.9080109361702104,1.707694267276592,-1.8383940030072827,-0.31133933157236476,-1.1771626254366492,-1.784481982483545,0.6415266383471286,-0.3391896470092856,-0.41009246702116464,-1.71245789651151,1.413515404615069,-2.1353708155918323,0.8811463044751278,0.049841654019219125,-1.9312081769313074,0.4040404138741873,1.575049054053445,-0.7379114001800141,-0.17988070415811988,-1.7020630163002004,2.332193837466414,-2.1634433447283037,4.129425019713365,2.1639418172183245,0.47126889500074487,1.7529205243071497,2.1287582905415214,1.5496446951596088,-0.03674959073242787,-0.5944213950908048,-2.1684274001339845,-0.4293296198976064,-1.7020250474159717,-0.9689489039214694,0.9886462645955217,0.3991956713983568,-3.38209059424769,4.431741067966283,-0.6582619823106203,0.5364409585465668,-0.96859704402126,0.1783164937328525,1.158020851819833,-0.03519398002888636,3.710153765992601,-0.5307174575858815,2.3787387400017836,-1.8664584487895157,2.2276619306682863,-0.7265543734550088,1.3268960732693988,-1.9102064250114157,0.7974613275042115,0.9299214447536224,-0.10748948838878289,-0.499316101271125,-1.418673645165481,1.8394201542665214,0.11600518342342893,-2.0426168210771873,0.015638782761783196,-1.725437997769953,-1.2283445838771894,-1.4120529115117844,-0.21358971426398854,0.014475080340053183,-0.098260528607674,-1.2868240692338422,2.7100982278546457,-2.397078752118193,0.7431298763754332,-1.9414688932506763,-1.449735586559929,-2.3560528210125735,1.9815473497941885,-0.7298691601690883,2.815577472746671,2.517229497099597,-0.5830111273078373,-0.621708392036895,3.5880525448431917,0.8937306926642541,-0.2331425785417978,1.1032874779882813,1.1945992454226302,-1.2663318697971393,1.0370410895554782,1.0085461712465202,-0.2619407359988507,0.6193914444655559,-2.1090507963840315,-0.1524395656046192,1.2266042357817017,0.3100289270197026,1.0827287505822512,-1.289684772775841,3.3846713463679943,-2.0686243360594396,-1.1508340026112591,-1.620124298180056,-0.7450694088223052,-1.3604140983073696,1.9469302793473595,1.38943709426643,-0.32924787806671085,-0.6527317775765588,0.1880167310479231,-2.319461699698478,-2.1962037114447273,-0.2117150018976616,-0.040042684976020086,0.859971850738717,1.0092570586261917,4.912491210155948,-2.3690794790376586,-1.7620922024601209,-1.2226656212490985,-0.4117812635738971,-1.31018374174981,2.2909396070681076,-1.1781868998386986,-0.49299576775425247,-1.9883190233539225,-1.6816980828682597,-0.14539126237845684,-1.340112141359289,1.1095497955113862,-1.091300876316981,-0.6177506534862933,-1.6497373652110057,0.5683819553752346,3.1360201625482675,-1.7655559593273242,2.779361059172349,0.5600037038927809,1.271984968944667,0.5032425862051246,0.8691947685569306,-1.2812455965249616,-0.4464250575862135,-0.1582230963280143,0.012963045880195765,0.672688734699392,0.9158930894878395,2.5751602722475084,2.7037522280389554,1.8734784870115517,3.437037970001646,-1.77826539301186,1.3482467929791444,0.10909827934807856,1.4415501875824055,-0.9434406870820015,-1.4366533149645522,0.033370365090471844,0.1645174871365987,-1.0893732859416125,1.7025193413471922,-0.9140346850505376,-1.6538032420508078,0.0017696362482301805,-1.4530483738909257,3.1422416013960133,-0.4246813180445789,-1.365398541113325,1.6925492245989675,1.40439252506788,2.1462686292551227,1.3373226945948702,0.47289401995488,1.341488221783157,1.781956616392715,1.6290389700897052,1.6213171266217192,1.2516844380558239,1.5251224918603,1.63033362333077,1.0828949352453565,-0.474710383813273,-0.24040592455036355,-1.8352242734239657,-0.6192926329526199,-0.05964000556469318,-1.7323639013039671,-1.5788808721443683,0.6232372945596112,0.32301820674082865,0.07887180271455704,-1.1978447233088663,2.777064087747908,-0.5922889100945653,-1.3923970789878974,-0.7350946129122123,-1.4577492488578503,-1.393277291281359,0.34184331338602353,-1.2731726748460517,-1.699825224908285,-1.8740724819694103,-1.7782623009430807,0.24609686834573383,1.89484490305689,-0.05877957183790159,2.1462686292551227,-2.5544691443097434,-2.197534692272365,-0.9433114009027695,1.1926277619203363,0.2670218689547621,-0.5517234896200359,-0.33837791349751073,-0.2599373609309304,-1.478040329297746,-1.2500249846500742,2.891924406323751,-1.35952128981093,0.3855256361989493,-0.6164577633953299,-1.9728894887590156,-1.0513636053286277,-1.1750135763577387,-0.14971709094394703,-1.7137307500818002,0.7213647718031047,0.8530025942010465,-1.6395646444843854,-0.9155846627597061,2.1182316480841714,1.9834376209341904,0.09472428552194376,-1.0620657123552961,-1.8105757336468284,0.9183483674840572,2.473138891289357,-0.6059907141448374,-0.2062461236204881,1.874556873085758,0.40909222124217853,-0.2075739997175539,-0.5523305077958468,2.1348583237210157,1.5767196085884856,0.5067433793476108,-0.2331425785417978,-0.5308716850058686,-2.132974011863916,1.9064265818736283,2.44632463349772,2.1535455030592545,-1.652878408771542,-1.3797949301853385,0.27747930829573936,1.300669259888004,-1.7942307089572274,3.4025174704744154,2.377937714362385,0.37822697543405037,3.1925756413619384,2.1300133011811924,-2.0308361475062386,1.3332758947733683,-1.3495796625355512,-1.0139419135410908,-1.427126681474176,2.2256261009738254,2.3160691299935596,0.050322817040858815,2.1462824160480802,-1.8740724819694103,1.1237618846619388,5.072742769292677,0.24402167967004632,-1.9310054082645018,3.1060063837047482,2.1461786528163045,-1.5341723210334577,2.470257076111691,-2.2034828917606286,1.2364818552823424,2.3827789204004954,-1.7243592660238831,-1.9907871263628023,-1.1610768536384095,3.31585225934987,-1.4926945783016996,-1.0588482330315445,-0.87650100099788,-1.0524292415962662,-1.229047913414227,-1.6378612187055954,-1.3169914184751885,-1.6704483297194839,4.443161822166091,-1.9421992662330976,1.1860408714682877,-3.333193065938185,-0.14470585023319338,2.45687623535536,2.7194007633657344,1.78359378184711,1.0827682784560104,-0.9869724886013967,0.3777391431243162,-1.8348020455661054,-1.6250544098212063,2.1229110635190165,1.3738736127637932,-1.4218766285045146,2.8633618699265106,-1.2632477252981489,1.5260109441875478,2.5235152334822786,-1.3543310537004385,-2.3212971638400295,-1.1311079302938174,1.551280898514955,-0.3314718380291168,-0.4416583427795583,-1.5666313931705942,0.7293672544362645,-1.7292618705223883,2.7896663612647696,0.34158183447094403,2.3066430738738752,-1.6179085283904968,1.602524626492169,1.6113912670559816,-0.9433114009027695,3.4551325335442065,-1.592749175192407,-0.30046470926195373,-1.2762213487905443,1.060974567088481,2.2443842365744398,1.0334161463129785,3.704674979588941,5.263358373032485,-0.32787416929671176,1.4950312990054633,-2.8934311155250927,-1.8074088196237923,1.1237618846619388,1.4130437809524483,-1.2248737284303848,-0.7381497425505734,-2.061980505752334,0.618096303953905,0.4977531866906214,-1.1040286923267253,-1.1375807080845524,-0.4320567221688688,-1.6763164913349955,-0.5830431967239399,1.5223523053543828,-1.8297105806258416,0.37286979832879674,-1.275653723461399,0.6304383236774558,-1.5543016751922625,-1.6230411028698843,1.1032874779882813,-0.6856043907766602,1.820164101946533,1.2970222290720932,-0.16380710347716823,-0.21608548210366219,-2.0571656119756914,1.8080439824594094,-0.9834336554530846,0.14160014439998592,0.33873006741145917,0.4230272069683815,0.41510809321882225,1.2623749911017403,0.6088131831492143,1.4219541793047548,0.2371059779004021,-1.3618759630471087,-1.6800900363966846,-1.615760982125248,0.046461054980100905,-0.0036158610653472204,-0.26089919646943766,-1.743116542603852,-1.349639252023764,-0.14539126237845684,4.1848754437782425,0.44210935654895356,-0.6908828197427698,-1.6765410422758098,3.940579754150338,1.2140467116847304,0.7663047654279096,1.7394892737801648,-0.9412402071327335,-1.1934469213608507,-1.2696543772995357,1.8477920834597192,-0.278816748759524,0.4880655981750143,-1.567413193359369,2.3596390513555368,3.3518805441332047,1.79467572991851,-0.6462628641749516,0.1019598099400807,-1.6008967894439103,-0.3522676165746497,2.7236712807695693,3.4493453633834505,-1.805773014563672,-0.7846041677426501,-2.190816743153816,0.8096073124838277,-0.7051423388970386,-0.8732763712170143,0.7522649379404196,-1.501226542481455,-0.28403441344170405,1.0828793090056998,-2.464349142782525,0.10984337111048795,-1.7223170303577207,1.1864943232120417,1.0051201125782128,1.9477316475229234,-2.864176764760626,3.2644356939243493,0.7061451960674926,1.023611473030557,0.5280532032972453,-2.581798710685302,-1.6545151075216669,2.5820630940201563,0.49730213909576226,1.097696119951775,2.1639418172183245,-1.517779077492888,-1.1544848598479942,-1.2668780629481333,-0.9370021904661753,2.6724970231636473,-2.4141823528146893,-0.09532365156493007,-1.7412969590248277,-0.07176829047587938,-1.6765188282088708,-1.5694839898516622,0.7766833702037139,1.3373638643520258,-2.3705844746867184,0.9326981633716199,-0.2085537995512698,-1.7591655016586876,2.850732080776945,1.9547314101015971,-1.5960692562124128,2.2321462985439973,-1.0615161633231773,-1.759656941628913,-1.6003932129851608,-1.8949312316632847,0.7760675192664647,0.18113590731853005,-2.4091113634290076,0.4671634745297151,2.5885795679139214,2.51879968155821,0.9080109361702104,-1.0781949116469174,2.2127481642527016,-0.4476978931485718,-0.8445207539184789,2.5214940919940614,0.9018926347045988,-0.47896785947411313,-0.3646170226714246,-2.563584968275006,0.1765268728911707,-0.6182044261556761,-1.1869584447425803,-1.8610891772170286,0.9339599776985881,1.013096691635669,0.022313615014023413,1.5459508267423505,1.6463763832624003,-1.483002851170295,-1.2460505299104985,-2.581551903270554,-1.2243497222831645,-0.12116133052387654,-1.6202428983267905,2.2650702389808735,-0.6536156681868445,2.8633618699265106,1.9601049590020014,0.2931131391025775,-1.3923970789878974,0.2195564244655675,-1.9867310900659427,0.508713277256778,2.0769827030864985,1.5275539491905612,-1.0676544392401703,0.9043110256656771,-1.3277568227717336,0.6474152596111278,0.5513390004589973,-1.3874499480508717,0.06888923227839655,2.122468243853846,-0.7166456621485924,-1.3528562631742138,0.3539762131744195,1.5314807686063845,-1.0790852658917855,2.2580962087204703,1.4440166154919392,-2.010114789782582,2.3836012307079697,0.7853416528951774,0.106529040918622,0.7595910853713037,-0.7316574506885853,0.2563677956759154,0.09458865193674294,0.9750452258961696,-1.3576618580487103,0.11848356519725188,1.4109349802649123,-1.4714696129868756,2.280163834327125,-2.0595405416221597,-2.319461699698478,-1.9434109339813888,0.00350718692277665,-0.6163458840349512,-0.7650583625328045,-1.1785788468567466,-1.5057782912682887,-0.6556735492493022,2.2650702389808735,-0.3041112934193616,-0.6357204624140977,-1.164026458806487,-1.9143804059030611,-1.2436472693419254,0.2937936543469353,0.4264938793897116,2.4638203212290795,1.7152133230307525,1.8675936644804583,1.9260399054467932,-1.4245611200162387,3.7975843682124766,0.71901787279678,0.9642076063188508,0.014475080340053183,-1.0104102254413436,-1.6378612187055954,1.7395794423424704,0.10952370856876623,0.3176117072141494,-1.3815459212637542,1.7279443895806308,-0.7846041677426501,1.0270674150243608,1.6582182654364692,1.127764972391003,2.9151847235420703,0.3850373054318081,2.470257076111691,3.776989441994396,0.8926851466946878,-2.070273197277633,-1.339497556643553,0.7065347945074753,2.5019074836289965,-1.999075049328361,-2.785811073554938,0.9613102361939335,-1.5170100268081952,1.3102297246882366,-0.24439133103563865,3.042686039979476,-0.11503621558302113,0.22016585316152834,0.31280107743980734,0.5683819553752346,1.207208716694138,0.30614166791103065,-1.2983555384041214,0.8113857498749437,-2.1069638606785657,-0.7998162887480719,-0.7605787457275394,-1.0147529933951949,0.9375412967159839,3.277501134802305,-0.550458521074386,0.5874251198615063,0.6072502192247833,-1.409579408795206,1.435242141497154,1.703358271985942,4.281218204596508,-0.48258408119977125,-2.173449710714667,-1.3574083537441177,-1.1626384590270822,2.219978001758595,-1.6707870387792414,3.611344958627453,-2.2140870796313505,1.342775006594056,-1.7465085479962463,-1.4068670513297543,-1.46690850652849,-1.1935768023677729,-1.7459208229230994,-1.0422508802085422,2.7901932249864023,1.3712580822217402,-1.8185871823958968,-1.254325061921653,0.22425176521086007,0.5800986620359264,-2.374508574544048,-0.07137136655755702,-1.0496371494167618,-1.340112141359289,4.436893886221343,0.5656094084934108,-2.0288623478433947,1.0830239753161055,-2.2748297703553835,-1.3031039832186464,1.0597428432196918,0.11328489587435858,2.726195094143975,-0.6906381156161053,-2.6874391943736673,0.4252009125792529,-1.8998685587086404,1.9353825071702913,0.9419082420644899,-1.0701637392413599,-1.7104661137166293,0.1324080664965191,1.205008457697237,-2.8269134366236406,-0.07155274421079486,-0.14945329592219256,-1.9929255263747394,2.0588859195767037,-0.6402674158400585,-1.4131126392961346,-2.91303191652958,-1.244074019952455,3.0397684859361145,-2.482372229519397,0.6833800226492095,-1.7043037201593865,-1.6676497067599012,1.0592939493923028,0.9729573308417938,0.5562668585605498,-2.502417615086454,-1.8663145896353557,-0.7459739309182928,0.6151096867841865,-1.4402821559882966,1.8268386538919268,-1.5883755166455031,-1.700710757344545,-1.7785755100580192,-1.7583203634980373,1.722612358371529,-0.6896711266888829,1.498865505309385,3.7106808075214626,2.8174290459118305,-2.3690794790376586,-1.1951939876649686,-1.958041091299448,0.3091460691356095,-1.2276463831416922,0.4791865524892509,-0.5520503789967184,-0.024068566809084813,2.7796005015375167,-1.8083618139409787,2.540761075714667,-1.7467656953308939,-0.10382750911559488,2.815936702189196,0.12135367162621113,0.9858433410862454,-1.2742981766861183,-0.5991483022369901,1.2841830738893998,0.3130840560544713,1.1963485713705915,2.833057210833528,-0.8289144233631841,-1.6172072258507775,-2.2347243828694796,0.0710229273744493,-1.355052113377232,-1.4747656420003985,-0.7710794944745061,-0.5841747305992534,-1.8231059368931959,-0.278501647840866,0.8553462380655048,0.5067433793476108,-0.8737501737162195,0.29354043525918216,-0.9811579104249527,0.16274424632210907,-0.8845181985954284,-1.5767572108934012,-1.7832757716097698,1.644502764783642,-1.8556231372933822,0.7522649379404196,1.6614452395099055,-0.2030106419088637,0.048979111301765604,1.2386035168879814,-0.17646042261834402,-0.4050007664395318,1.3714161578797035,1.1509042640092235,-1.6641579224824148,-1.4413088938671401,0.6315304072733599,-2.2827589901584293,1.7152133230307525,0.7793979842323536,0.723085850986912,2.608390338549565,-0.968974192946893,1.0848976628963385,-1.7413406192672223,-1.882912394186921,-0.5292883622796695,-0.6163458840349512,-2.0633224367723293,-0.25163554558791634,2.6899622311927516,-0.3114399708105237,1.8999686351896203,-1.979873461766769,-0.8131921037977607,0.45809976128896923,-1.3962825376754973,0.1472672509755669,-0.2559344228036602,0.29145613605482046,0.572617157802685,-2.55507755027554,-1.4863270718540669,0.8510379906424006,0.4228179035488211,-0.5495618885638787,-1.5089554170669157,-1.579876577351061,-0.5505985163203803,-2.5421161462538295,0.6077905302818225,-0.10582680314451776,1.4072226423386782,1.340841629729689,0.1403500526152324,1.7355474473986667,-1.240051254254148,-0.7154656059694238,-1.5415097266668554,0.47198006204345005,-0.3110122584668381,-0.3314718380291168,-2.119741996395124,0.8363056124264834,0.4000264622699026,1.6031495994760978,-1.1602410243525967,-1.598817826176967,1.8577173231589794,1.2824390981989313,2.2300944445263675,-1.5516225352543864,-0.08809124807164762,-1.8188714167496036,2.5880999489167387,-0.543848152525218,1.9506464562782904,2.0111198285020997,-0.6745904574689592,2.300949475150209,-0.7117314215486087,0.6633137531591254,2.994326460181441,1.318121627988449,-1.4706822038413803,-0.545953980226445,-1.3446112382730617,4.849163795404033,-1.356981047540357,-1.5505936682059493,1.3918162036353752,-0.4102717174484395,-0.1260653668892523,-1.0494541074433366,-1.0328557106579996,-0.6619714345872918,0.2441201829076126,2.1968897488385473,0.36603595768251823,0.6621461262132343,0.10198699846357788,-1.462449527555656,0.621696015530256,1.6113912670559816,2.892144457702595,-0.5119512220219002,-1.35952128981093,0.10985441356050474,2.7896663612647696,0.6471144810554328,-1.4400874496620528,1.6301540228406828,-1.381810408009109,-1.5030059426966016,1.7775567349116388,0.6524242717517069,-1.2983555384041214,-1.44911496355969,-0.8295182725559591,-0.7548389124934795,-1.7029756473845197,-2.0520213527452964,-0.573068688598486,2.0397026290805353,0.050322817040858815,1.8589745363587593,-1.669158515358935,0.9201435894211568,-1.6277028948990286,-0.9340216050369083,2.173863633958375,-2.0901219357997918,-0.3094626383921246,-2.475095139711735,2.5880999489167387,0.401476288120638,-2.140254730318943,1.970884673327412,0.08851556512881774,0.970129524624825,-0.5345247060529582,1.6601897085959367,-1.3625499214452166,0.8632735135123891,-1.9412680469273942,-1.307538341200135,-0.25163554558791634,1.0887997339047772,1.2724044336513518,-1.1918034241395534,2.9346291209185686,0.16764124725813584,0.23779435211623298,-0.5176894593788804,2.057497516403817,1.5313920623481987,-1.359055660681686,1.5043773028571858,-0.7531912290675773,-1.4238538800606528,-0.764859212661437,-0.2175501318253082,0.5408251358324596,2.133386643754917,0.7218734443622169,-0.41009246702116464,1.4179049253896314,-1.7071365521525477,0.6460903189913046,0.4290919894908769,-1.5359825696554468,-1.7006349515049712,-2.243665053459517,-0.8495564437936123,-1.2866138742102962,0.7755582658109331,1.2568550722391632,-1.7312981008993604,-0.3666869308059924,1.2814224294606058,-1.7246534659578994,0.11938514608110859,1.1574922303740616,-1.7310306815141103,2.485645688279797,-0.4882609440273002,-1.4309578304070814,2.287770163097955,1.354566970770746,-0.17143628454533433,0.6683789533571104,-1.4628845041295935,-0.6372037380409031,1.2568550722391632,-1.6008967894439103,-1.5928272099691612,1.1420454807363178,-1.2119548252640462,1.9234092455157796,-0.16646817936559147,2.2254729346883373,-0.8027103704895568,1.9254867211042126,-0.8850190136367118,-1.8678158416395667,-0.9865611982452749,0.9613102361939335,-3.3128454984983358,-2.6177516528168665,-0.4206748981754747,1.4778151714947863,0.7855520367792265,0.2527393308290916,1.6493856681165309,1.835170908562528,-2.2159359601341166,-1.1921279034922383,1.9738776787728662,1.0683479520185788,0.6550246508595031,-0.5972120917801311,2.3224733963016075,-2.197534692272365,-1.2726851159284467,-0.6613365532009478,2.485346767875485,1.10956180812646,-1.3083775705926324,-1.2148965887062595,-1.8265535515526212,-1.2597417985652868,-0.0023956479138162326,-1.4133270885329612,-1.1712420564574313,1.9469119728502398,1.3184883196658101,-1.8529774129320595,0.7600399155178106,2.647795916296434,0.8371125957453444,-1.5512956965238196,1.8835546327695467,1.820164101946533,0.56287148813891,-2.3690794790376586,2.1347240856343674,1.0574784322129478,1.4602775738812737,-0.3244163926921088,0.15790011835892187,2.4248268386165894,-1.5774263345031974,0.5036850186655594,-1.7229150339868355,-0.7323665894622421,0.5332713289440058,-1.1771626254366492,-1.9421992662330976,-1.567413193359369,0.29247764678862354,0.6229255415106398,-1.6906952154893888,-0.7458385663343611,1.7646191396427786,0.9850334077573748,3.1360201625482675,3.6715790646999023,1.6257872394716821,-0.8298756287688468,-1.021292602125943,1.000162414619204,-2.4670448331881056,-1.4899450682673117,1.5187728387752997,3.4025174704744154,-0.704668008077768,1.061459881184008,1.4231117584142665],\"z\":[0.08915286816922545,-0.36854521032403015,-1.2923596272704525,-0.1149301295867766,-0.8114561989354723,-0.6291562163500954,-0.7247287034942307,0.30693720511443096,1.6499976522970776,2.005391907002331,0.10115905149345755,-2.3480831420380484,-0.08667973849100868,0.14039922070801053,2.923458673402603,0.27484124623541867,-0.7630588745930732,0.26040061980580365,0.015512381750672006,-0.31082647937769586,-0.37135957346667303,1.5623611641196782,-0.899711156240469,-0.41809503152282035,-0.3455796554226715,0.18790321037820099,-0.30609511357145974,-0.4090237050942394,-0.15279768953617212,-0.942249935974225,1.1940194036771477,0.8511105678180514,-0.9943449923521591,-0.03757572342386446,-0.8368098598770071,0.04895096288866073,-0.6872014370235889,0.966591325525644,-1.5904057686670205,0.21606301162226085,-0.27209570319063137,0.13263701387239352,-2.858390540701179,1.5826553580782936,0.1083671816806349,-0.06833283240820279,-1.5612704814307856,-1.404367065109103,0.08265973898004758,1.0944310056881494,-0.6792928899746953,0.4395647815332887,-0.4990701163634853,-0.2611400671031591,-0.37914969362073514,3.1506292924860104,-0.44392437275277086,-0.5435787086353743,-0.34011422027161603,-1.4818301814170862,1.132856889626091,-0.019305794295382997,2.0660622281981627,-1.3989944322170877,-0.3848492963992985,-1.1844401890580394,-1.5871106361950085,1.4531844806809713,-1.2299207450506873,0.18151249636454891,0.5440524121150446,0.8302940750924639,-0.4893730760829536,2.1143837143173534,0.38442625367927236,0.2077990019497015,0.019799191264607705,-0.942249935974225,-1.7449313062364393,-0.3825094372135831,1.6265786798528363,3.6787052920832277,-0.8911671522316609,-1.2192833184152698,-0.030672811640555717,-0.36923551115831776,-0.1430077785678359,1.3338850862810887,0.131947485846262,-0.5522147461071079,-0.9751459416285463,0.10965514781681722,-0.43311565982038797,-2.6255219714690665,-1.3576870080949686,-0.6297115910250418,-0.18465701140469715,0.09964598754156205,-1.835802992211598,0.4795979621608902,-1.3445212815444898,-1.6566930117357488,3.557017704904713,1.0772420593119876,2.8396983651348213,0.5074679682802651,-0.01530924166434438,0.6330166150440628,-0.9113953065868218,-0.36175233632869913,-0.08265311304279047,-1.4213551346113575,1.2292891312855256,0.4538651565942914,0.03738573678556129,3.732003662117056,-1.596436738332758,-0.5012667932209929,-0.38141475406188907,-0.8837921516169573,-1.328702819087162,0.37891469296943314,-1.5677287536163969,0.15622727266532077,0.5723568604489871,0.6485812930415606,0.3064662293573821,1.9093071601966363,-0.021499532437781535,-0.7332412573429115,1.3279301524803164,-1.6307766549460136,-0.5111517394278116,-0.17253156006707754,-0.0662215792156288,1.253266735792239,0.10004262476090092,0.49218909518522214,-1.0415432277004235,-1.3733569452311574,0.6026364899733079,-0.1020674016044117,0.036975258881622224,-0.4102827990460994,3.59648961806629,-0.13626462502768447,-0.3143398456034555,-0.9298891094250118,-1.8177760779636227,0.535263503198259,0.003773942570625043,-0.041004207000156986,-0.2773425896831846,-1.3845042524381874,-0.10517878883780107,-0.4454507909514821,0.7965927330888989,-2.202177941714181,-0.7131143992690233,-0.30645639274207553,0.05098437630504757,0.12900269342043907,-0.3119656026334313,0.050573392427982915,-0.7636000977223512,2.568469829979695,-0.2965321518064753,-0.7385051085055815,-0.5522147461071079,-0.7280319294523747,-0.1443632222123899,-1.292090499456343,0.0868782976553125,-0.6523997764235795,0.48827275944374016,-0.5574546324162768,-0.6899255925610123,-1.3665813668443478,0.08973732184975057,1.032433263457527,-1.9550174063368524,0.016047997013839067,-0.11618329664296959,0.23175084896004175,-1.0670448578248144,-0.34323334490644336,-1.9815301240956433,2.1003719472195432,0.7717338136963463,-2.395869261326686,-0.9467731001938346,3.791568503331107,0.004454524506272031,2.370162203584547,0.9809367865660317,-0.2348754091594666,-0.7778433664914077,2.0380039206215765,-0.9020674462761723,-1.5887655756431032,0.37573293819666875,0.31742216830163905,-2.142758293974847,-0.2036305718166574,0.5804771786901949,1.908391118914622,-0.1666271348289827,-0.18949542065012423,-0.6810112653378168,-1.295511243828658,-0.9476845084265992,0.3875736397440856,-0.27583707035715527,0.2546014477340964,-0.2179740607019925,0.08141568033373806,-1.125160710093962,0.07736197420416226,1.3436653956939781,0.5957413873021957,0.057847890896616266,-0.7874351270561221,-1.0275713800058959,-0.05038931636902535,0.2280302471299535,-0.9848276415724058,0.16948537700528016,-0.49974738004425395,-1.8225029717627577,0.2948229357078004,0.435173382106367,-0.09231923796603417,-0.22603752789095077,5.502815246585668,-1.1022340814552778,-1.4020803765829182,-0.8199699974840515,0.32155583937717636,0.14012600705172684,5.8676338757146596,-0.7210122910271203,-0.33957170093740946,0.36645064397570354,1.5387577516215332,-1.02089751118212,-0.35377774191645023,0.47799860291328944,2.433835950573577,-0.6523716452033386,-0.48530482407197056,0.5578413811404276,1.4917841458220038,0.10008796746418537,-1.7346264701846168,2.2271136553474364,-2.181638898633315,0.04945036217397394,0.8571240059255202,-0.07076334982651432,-0.4377781536231658,-0.42642063478003395,0.024314414266276476,-0.9740994804752561,-0.9656147949026189,-2.0617329852002815,1.17150474851884,-0.48347724818214166,0.008567402549737065,-0.2179740607019925,-0.7630588745930732,-1.341764271146638,-0.16191783802554774,-0.08057403895937469,-2.2533183619974557,-1.1617759730616775,-2.490936626029168,-0.09736562140622199,0.8837938198346104,-0.12003088643067128,-0.22658287637822844,0.22159718697159494,-0.04785625414597393,4.838626727161261,0.4139191870876844,0.3365693129191321,-0.9656569054233676,1.0800630695186693,-0.340973721325908,-0.5659276010352279,-0.5207258041382956,0.07157402848867873,0.07339262779778097,-1.443257768271725,1.1338301363176748,-0.09013641725003686,1.1086265900777381,-0.21703041392852337,-0.19145861106085124,0.3099031874079137,-0.8987868076528552,-0.1952122036539787,-0.5261469731786291,-0.08412948425529808,-0.5916997177055257,-0.324160744946586,-1.1811072223358958,-0.07562662265780362,0.082875875832771,-0.33239192313192406,-0.3816975549508428,-0.812567482842427,0.3916131061466212,0.3083426715687054,-0.18786426119479202,0.5005719697653851,0.2713981170384193,-0.23686571313006283,0.9531326801493896,2.3301153354862727,0.23107472561782816,-1.8005880977455455,4.159309313655672,0.3729058555536132,1.6119939416656697,-1.3226344787638213,-0.1961377884385653,4.95580381209791,-1.1450179398350382,2.4773360256986683,-2.347932774029563,-0.2318913695527238,-1.2039018575616012,0.3205882452324449,0.6137911227828985,-1.2308690319282667,1.0314693169545959,0.6853647821209551,-1.3385705434887873,0.5965168872734592,0.03165842797519554,0.8462067526708277,-1.3271913249917349,-1.0161243880526023,-0.8710071128741852,-1.3109211484546572,-0.6039638835516788,-0.20494623723104965,0.5578413811404276,0.004266548769655414,-0.7229602104380183,-1.848941911566878,0.01009552801733229,-1.3609663637206815,0.3110611420177201,-0.15838930306516152,0.26329692609596245,0.7644792581472397,1.5511465357499803,1.6458763458080397,0.3963221908928194,2.186761635310231,0.6373337294195398,-0.3878997433422012,-0.11888289625002314,0.4864156266750603,0.026254499153584576,-0.46792608142069386,0.49218909518522214,-0.16738707529595884,0.055371795628590285,2.587366321725451,-1.5746032832732137,-0.4603255166493503,-0.28764477673032296,-0.6449262919291668,-0.09281711053393547,-1.950067783256684,-0.7364726102750911,-1.2480363309742426,-0.8901821889947849,0.3287121972004929,1.6582858381413168,0.30931694709667673,1.3884431218907225,-0.1224049585105443,-1.1901133614423651,-0.2576225926369304,-0.6595429930992498,3.0192091436298196,-0.41296319137030435,1.7417094680652223,-0.0755347886864468,0.4286938498679504,-0.2566904981636251,1.5927849943832928,-1.1486225966337649,0.9270718000028246,-0.6100904242109942,-1.133978392647615,-1.8496651440978333,0.7994941606813672,6.67795030655832,1.8353734245207496,0.5712680674554813,0.048677974586015846,-0.1430077785678359,0.08197789828676111,3.0702189776598727,0.46801579122024645,-0.0076230484152873,1.3317381241598512,2.652448263078198,-0.15637312652889093,-1.8555142798778805,8.440065117249167,0.290088147462935,-0.867838673165592,-1.434035071333257,-0.15755277117202945,-0.5598001900606766,-0.8497744501170819,0.0702013743727071,-0.021062450936240432,0.14044127689770147,0.19623668963533974,-1.059969649573222,-0.49897256224921244,0.6373337294195398,-0.4260329409197493,-0.18959711873467336,0.0727704352148009,-0.41998954469329064,0.30023206422317383,-1.504269736298103,-1.2234349039853838,-0.6598949188184672,0.06090830387074821,-1.2377352524202754,-0.4194347782584568,-0.055914431825599645,2.2186382051368296,1.9904539413348983,-1.4793861091495313,-1.855416847246043,2.130896890673277,-2.7471773252042757,-0.37158216456008586,-1.7346264701846168,-0.21407874694661128,-1.1443049699285774,3.7331208769608755,0.5504985157220829,-1.2280813463420834,-0.07730507060231921,-2.137020208103917,1.5349584286007956,2.910597248426751,-0.1375754229572088,-0.09124276428941536,-1.3482387370050166,-0.4988757478417068,-0.42441487491886903,-0.5640963042096278,0.4536788956089395,0.06399837749311134,0.0714197307117631,2.588146487213146,-0.32159186284692287,-1.4013558556803334,-0.4805690272648055,0.10662635005118992,-0.7669944786458476,-0.032744725509530885,-0.3206426760101625,-0.5938769891163659,0.19799597552476617,-0.23255551473517755,0.22872369063919676,1.0315106381280603,-0.9662107744713654,-0.633991676071946,0.0137353217334466,-1.4743515383972594,-1.498865068347704,-0.060747898275361395,-0.3399481291602489,-0.014314870140510241,0.17969255062760336,-0.5598001900606766,-0.31834831403686176,-2.2528159088944197,-1.8566082245054065,-0.26352046205890883,-1.3261213422503129,0.8833128961805697,-1.571703662434751,0.7909942436675845,-0.3825808785911783,-0.3219525619750941,-0.5941859125259161,0.19934364134790705,0.1566445537425275,-1.2562114076874993,1.3122715337101354,-0.16987940929070772,0.3162361564524929,-0.5385226093150794,2.7410139771368787,1.4135550452302992,0.23916864195106946,-0.8376499962811458,-1.2751085137132905,-0.7328736620937327,-0.5286623353463195,-1.284053305729413,-1.5029299606362847,1.6077706551700308,-0.6444551886273088,0.10942958142829053,-0.46455324362314826,-0.49876614005021735,1.1729963333268734,-1.3282883824474017,0.26953762860437497,0.2311294161746562,-0.14679484146296307,0.3947493513857347,4.261013689610711,-1.4885738823910994,-0.349063144860422,-0.3855164192082767,-0.2730956300368501,2.041053432254686,-0.10251665116090845,-0.6428460318866528,2.325927092151284,-0.5160632348827165,-0.3946085342672015,-1.0404198750143094,-0.008596130598164942,-1.1150567168957508,-0.5521363361340458,-0.3496644100851932,8.133438580440023,-0.07340721444908056,-2.1778402708614006,-1.1857461911306872,-2.435132308368628,-0.7091511420132683,-0.9214736402498832,-0.23995974999416037,-0.31480292569223106,-0.1894518824644099,0.24547759391379587,-0.33477642880765435,-0.18665456250305457,0.2762041182221686,-0.4861621088067937,0.25225587749547634,7.17310082466062,-0.05607092431936488,0.11335756788744622,-0.21973297087886426,-0.2025526317881605,1.5586579461817784,-0.41809503152282035,0.013266799958241057,-0.44440394522752324,-0.1565050055226988,-0.2579140742340099,4.144749694340386,-1.6539832119746136,1.0507352803526442,-0.8603523975976174,1.6004229566985921,1.9271247360074264,-2.5882056215903537,-0.30502418739128767,-1.2861575333466706,1.536219459557221,0.12049905487949858,0.239848246724912,0.04417838449232396,0.30892099390902256,-0.1538617489089889,-0.9604302260524534,-1.6958878301594777,-0.8132531150578323,-0.05068681314628662,2.257922425443409,-0.6872014370235889,0.14821939683664737,0.07427881052471978,-0.28414172492389167,-0.46875241646034216,-1.0463604115806615,0.4030981209368721,0.3099031874079137,-0.002950045036428888,-0.23528489912634593,0.3358091883053201,-0.45465153738078684,-0.21716455597139528,-0.671360197842513,-0.3201696351746688,-0.36249492244768805,1.5686179092978214,0.22989780717937133,-0.13430377562828857,-0.15216631062810776,-2.0002834133396865,0.746903871887456,0.26650511938269467,0.4214045470293665,-0.2548029941181304,-1.211025947614563,-2.435132308368628,1.6950783358360897,-0.14434202331416252,0.2824301813190194,-1.5152196090866694,-1.342744811051217,0.846283339181149,-0.3211733224910743,-1.5746032832732137,-1.355132617397242,-0.028504406311663122,0.482975933517498,3.2140073608278263,-0.09618172021173943,1.4692272627553364,-0.10877677432880281,-1.2479438521370125,-0.9052677559670395,0.006117844659208276,0.5434422582700688,-0.9688406827503199,-1.2585487643728321,0.03508907617249058,-1.0972153379750844,-0.9067180752752294,-0.7210122910271203,-1.8574004856324424,0.6393776504191512,-0.41309089530013937,0.026254499153584576,-1.8796224624710636,0.15456443826878796,-0.5017953938204549,-0.2025032878288639,-0.133975413659454,0.28891980287298,0.18216484548739922,-0.5989670383346886,-1.5062340902455427,-0.7035386778478881,-1.5468203751965581,-1.5289906032160576,0.3110611420177201,0.3551285097305039,2.5560225893966995,-1.9349381186566177,2.6321482727297814,-1.339080733986182,-0.5197381906028383,-1.6417977650051472,-0.8358746979784406,-0.8949662413274255,-1.2636221357741353,-1.2151987869370193,-0.4486881818913678,-0.9323563642561581,1.4468470300013316,-1.1481001578685033,2.470265349952289,-1.0532973680080382,-1.082779908901602,-0.27752764919221684,1.4424457968442208,-1.0197393169330407,-0.2271574531403579,1.3828254172056385,-0.8446785896795517,-0.2366632143520941,-0.8690323578818293,-1.0288527131255654,0.6831940767973157,5.010971711385088,0.17795909316642755,1.0314693169545959,-0.4614753298363953,-0.3093865166768279,0.5073004602457033,2.3301153354862727,0.3440744673790703,-0.4883825948215434,0.05930624616585638,-0.9303902438957401,-0.21803022213040313,-1.329620781956457,1.2657394247199374,0.07697617279553479,-1.3049895512255891,-0.046215213240099244,-0.05408063448396949,-0.7690963087668498,0.0680286084250618,-2.488673084732912,2.695897884761651,-0.7778433664914077,-0.6006870685938462,-2.5328167012719813,0.32292990411550315,0.36049803338227526,-0.17344960046996752,0.23712554150129075,-0.6792928899746953,-0.05260658244120221,4.480029088387842,3.899943746443997,-1.9759309657198307,-1.5317946785071377,0.36915202396767877,-1.2015633295010604,-0.35348782678744617,0.11315541915603558,-0.5856843681116155,-0.18129084182547212,-0.5261813267528086,-0.1578869479710397,-0.041010501404588416,-1.9515474538743636,1.03955316825313,1.2340670911356646,-1.4258370163426681,-1.128139074882171,-1.8796224624710636,4.174874531102407,-1.6234903553890574,-1.5634223903132205,1.3103498566196508,0.08310121310061136,0.046135017173874616,-0.8063179810801756,0.28001927887460254,-0.6067317248362921,-1.5427760867793912,2.4662889841446725,-1.9168499576173417,-0.6931498909484388,-1.2596602440173632,-1.4525382668325408,-0.9942091656086686,-0.5092051864313375,-1.4953387112785501,-1.610468169673859,1.4313638128492039,0.06119405980896085,1.4251411571952932,-0.3012544974258753,-0.2971753983099245,-1.261458810572775,-0.47314194618416466,-1.7226437380303143,-2.0126179136708724,-0.4693423906776815,0.024402015107118296,0.02694088682534165,0.11390275209421154,0.5209286178840167,-0.29628177381762405,1.605119171439667,0.8147474989921683,0.21513921267151642,-1.8002816700433821,4.091351832094113,0.5077103961938135,-0.24660019524150426,-1.0489944469589954,1.2580329659293588,-1.1887230374590163,-0.1722165882975086,-1.9806010438085686,0.17593874087786737,-0.9608782791138434,-0.362451171093534,-0.5916124080745332,-2.1477291068104907,6.110745786111935,-0.12898923629926012,-1.0734174533432848,-1.0325995038071611,1.2742453583064275,-1.669197753887218,-0.14833921626197855,1.6666005935245383,-1.7248907264772377,-1.3134793412259937,-2.24792772983582,-0.824107571571027,-0.38899311499694034,-0.6690087957770585,-0.7379748554429556,0.26517021747182146,3.25877833263138,0.008582247302601122,4.002129821355877,-0.3946085342672015,8.133438580440023,-1.2869080258683294,2.7301623862374935,-0.05330727319476999,-0.9278240444482947,-0.050434598988851866,-0.20897665179425418,-0.31113216981199504,-0.5502048773280098,0.26756664271306374,-0.12507391483338798,-2.2796418079406755,0.15571546905394723,-1.2853155275280255,-0.11734283043110887,0.30131866085914016,-0.3189606122516377,-0.9018422162609875,0.036975258881622224,0.3396877358920936,-1.527668206650168,4.989216520385021,-0.6227070530467019,-0.3196079896650254,-0.6759134055174699,0.025780537872472406,-0.13747240928270682,-0.899711156240469,0.11432798391034059,0.5301069238676566,3.9021825684852263,-1.938046364442683,-0.17946770082916733,-0.6694675762658897,0.19552750165253688,0.5069288347579493,-0.11606311375780733,0.15975584958548666,-0.35623293672146833,-0.2813962786767978,-0.23622552632694113,-0.6491652992073776,-0.31564477376328637,0.5544986004646741,-1.4636945618169472,0.05957538288315975,4.928503068953145,0.18499784086893833,-0.11998225721136246,-0.022787817954264846,-0.8331195228161589,1.4128182373390308,0.12363859689332508,0.14392651001456702,-1.9718257781718556,0.04950712816145808,2.2432382452098163,0.11214864073770929,0.1097058650890742,-0.3053254438455397,-0.4486881818913678,-1.922885478615203,0.5462800056135098,-0.051084617266408894,-0.24951736409913644,-0.5020946690511724,1.0028467436187432,-0.014714963270992788,-2.1164015547234536,0.2676606995468511,0.966591325525644,-0.1602802385676832,-0.053574356515169855,-2.465492085173709,-0.3658490917155465,0.360272766987449,-1.928640556129539,-0.2504184918209053,-1.6259223098198805,-0.8895234025198578,-0.24412371707182678,-2.3961604406171944,1.60061319320809,0.16241193655643868,-0.5094634759124037,-0.663806630353074,-1.3651190443106782,-0.9143596878907139,1.412922903789077,1.4060688079034982,1.7277382640208352,-1.8109580277824056,-0.8956399125459952,4.261013689610711,-1.0009344657460193,-0.008731189718590866,3.8102453972651236,-1.7002643811309552,1.0881200942663811,-0.7213466343289383,-0.7304870118743545,-0.3453667001624674,-0.8972229429050022,-0.02446866052695593,-1.950067783256684,-0.7212072361990809,-1.2727649609356584,-0.5758642475558816,1.4640594696875089,0.36123615658091024,-1.9168499576173417,-0.07971035521361977,-1.3345947547419772,1.1286992747487765,-0.9323110448338919,-0.12559906471976823,-0.7109830364333369,-0.6561010872462459,1.005412317163435,3.945533617011534,0.11930152299871784,3.342492283404681,-1.480598883794878,-0.7532233166820794,-0.45420896485738116,0.09706775705395979,-0.4575415350517134,0.565256384736198,1.3984053921188728,0.43281517327717633,-0.30072385494515935,0.21147130007583073,-0.17247182399824734,-1.0613681097781313,-0.34857181460826037,-0.3004650429793803,-1.8232340811203698,-0.611389277992164,1.4209387143700034,-0.4836478310033579,-0.40897323919718825,-1.8768227535861108,2.7868736705963753,0.19345676596922246,1.450998445842017,-0.17461944812605756,-2.168955630379123,0.3102244311516768,0.50535225496606,-0.9135261096827585,-1.7994159028854484,-2.0889524517365974,0.12176937231207993,0.32292990411550315,-0.7427323217131026,0.3454682179582013,-0.25067907463931327,0.7737942995196674,0.17419951094530936,-0.9467731001938346,1.5493763514477912,-0.6777766286760432,-0.8638648621641872,3.8702529733257527,-1.9414821690623594,-0.14996540383490958,7.618975976147405,0.3243447582298503,1.570695885106352,-1.4131849379109853,-0.697506117854703,-0.2271574531403579,0.6485065653412889,-0.7131143992690233,0.23846907801984432,-0.6462106711554046,3.417915241780781,3.877003435347468,3.4807388881177337,0.2683920926055766,-0.15010656885748047,0.9210380396436314,-1.387181409773237,-0.1578869479710397,0.8197496298255597,-0.024990074367381637,2.92525008286512,-1.0184782482876933,0.4670322746272112,0.165658794817609,-0.20166704085734663,-1.6719593819650485,-0.7575953144444236,-1.0644075174094527,0.266614333988978,-0.31435206949219746,-0.1891106175982651,0.08048580887985511,1.3350482554041694,-0.5939321612382162,0.21939012801884775,-1.5549046249690364,2.181917133709677,0.3858844074402841,-0.35331182247001136,-0.8664564861538517,0.8234849396012075,-0.7204763988446871,-1.5545662387673358,-0.010780986361583558,-0.8911671522316609,-0.26663397151379153,-0.5312679938764933,0.35320871567175993,2.0118794415528156,-1.007799842686711,-0.5253639016642263,-0.14063176368382813,2.200959930385232,-0.37688922495662647,1.4613168135315888,0.24542628314195672,-0.8464608581607509,-2.0127261583599605,1.1717472943341753,0.6757908618885893,-0.7575953144444236,0.9009076302349894,-0.90752419270516,1.4446824713619875,0.15117010328421668,-0.9982655520515235,-0.11241380313457239,-0.27929040084842777,-0.921851062079168,-1.8120208789511294,2.372512791318414,-0.05965413924341403,0.021092615055118915,0.6880033577675095,-1.0734829785882007,0.17416568079942787,1.4571176996137272,-0.36134215993790475,-0.09191794311361103,-1.7235646363580615,-0.07971035521361977,-1.3558560365086119,-0.745920584448167,-0.9427097028482562,-0.4225195363941547,-0.8919137805854344,1.1877539457203994,0.2431964733132194,-0.2660286718290469,0.0664173042679804,-1.9102989065992915,1.7378237944579087,0.2601647292068548,-0.3881249677548438,1.7265593679944466,-0.06825648781591429,-0.036661444164017065,6.879526858877329,-0.23921061767032595,-0.8541755730057039,0.2574967316945766,-0.4208601725370606,-1.2562114076874993,0.4245725433789128,-0.494350750886547,-1.1566210370960623,-0.9940697417272463,-1.3718896143958186,0.282413293396096,-1.022162881407792,2.3451397472903546,-0.9339819481098279,-0.10464807308633005,-0.3204622445236997,0.0001573549252025316,-0.10260678647653372,-0.6361978361606222,-0.3496644100851932,0.9430692496087095,-0.7645256543469487,-1.6432102940934399,1.9531372935821811,-0.33930672500740666,0.006117844659208276,0.36009039669249776,2.898594573216995,2.4727260595876173,1.4205132154647833,-0.1495070943691677,-0.023548364552574974,-1.0744139963573682,0.42964274149615295,0.048783895166992976,-0.47584296614968935,-0.4732361244741031,1.4770747324622506,0.07815177690217563,-0.46928239555549983,-0.18011006201563362,0.015011407176019226,1.2397598364113989,-0.05895482165882288,-0.2744778748374115,-0.37088592609118104,4.571046394519576,-0.4457162498034524,0.3033131075063408,-0.2983866961045808,-0.15279768953617212,-0.47414385594310826,-1.4213551346113575,-0.15815041890502757,-0.07195363389554749,-0.3015400000049953,-2.0328357405798383,-0.29982733334050765,2.0920105431470084,0.4743975864040157,-0.31864590777059104,2.7634199431169235,-0.8873143708412838,-1.340039145657462,0.0470222831947401,1.2087224305795512,-1.1069042775176607,-0.18174071738054456,1.3564067465729597,-2.0422649668864934,-1.2794134939003663,-1.8169413485014334,-0.9119147190006741,0.4743975864040157,1.2054925166756372,-1.1633621089461335,-0.17625570001782448,-1.0047873770203362,-0.6492086382770252,0.0977235113827293,-1.964409708830698,-1.943149925262142,0.5056340024278687,-0.4260329409197493,-0.40185593952419807,1.2637333520724667,0.139994623023175,-0.7314831992194103,0.28109876815675366,-1.0090658562820223,-0.1237837357429093,-0.16688769398868222,-0.5322751821917294,-0.6696633089950895,3.1362558441245385,-0.23544218761142127,0.14661804007956886,-0.12119268539694102,-0.5805143120307983,0.7303363374769626,0.03077601289776959,-0.5274210054331772,0.20499341557930256,4.0035314114699485,-0.9475171529053013,-1.0143299958077254,-0.10098383267115184,-0.48347724818214166,-0.9942091656086686,1.8965055638785082,-1.134939506223311,-2.323158265001756,-0.25756796443144114,-1.7855396644523327,-0.6231489463622014,2.433835950573577,-1.3955895380478531,0.5745864138217355,-0.4090237050942394,0.009757209275278069,0.05597024357147227,-0.36004031062096553,0.8460649155995427,-2.3718876072360433,-0.3312636862741898,0.49794048544293973,-0.10222281253478624,1.243053427482301,-1.2171854612932373,0.43763503842179347,-0.8901821889947849,-0.2086507262668052,0.5741346193753265,0.1434287770856488,-0.39570563869295167,1.090172891190108,-0.25892973432666966,-0.7841326204133295,0.9693030847879995,2.236146648393343,-0.5736646388296328,-0.21257957844910252,0.22985979021603453,-0.160525772915888,-0.5253890611167111,0.156584250167861,-0.15903465881498774,-1.1264727224351387,-1.0581130011619595,4.614380800706041,0.19623668963533974,-0.20922631302525263,0.27524551038943607,-0.1788583394126489,-1.4803907779451642,-1.5223888707496183,0.2115183944109108,1.7207886275542366,0.6893057132348293,-0.3788153811579423,0.028408930635817738,0.7775454210289365,3.280073478734269,0.1590645024825458,0.7077683922744787,-1.7319061368031519,-0.5197381906028383,1.3382395407572938,0.8344424974015379,-2.505484153237294,0.7052256916403326,-0.0459831319634014,0.6880033577675095,2.0022184060274726,0.9330155668892749,0.06535855697597638,1.2009497205892268,2.3451397472903546,1.615284641384262,-0.15018612473448223,-0.3894199713304252,-1.0889593200914538,0.758313055062869,-1.3799756138490502,2.506360977064132,0.26558068441607147,0.23086308956443713,1.4140008835115598,1.0542472887758698,-0.4948924087802546,0.1467971746520988,-0.40975474098623743,0.8254414730041579,4.822988342879048,0.2477925118596201,-0.6869415407348122,-1.082485985241857,0.14274422002282566,2.6106047507992245,-0.43372144357232023,2.700919617686044,-1.4047201340543467,-0.16881097585022758,0.2948229357078004,-0.1628122614412717,0.01184292578382489,-0.3124541119168697,-1.1398105507170238,0.17091590589032604,0.6703656165692259,0.13170785063459553,0.3829776373635999,-0.6068854602069813,3.945533617011534,-0.3723782941630877,0.32828207769192924,-0.26163172024838405,-0.3036592368469227,0.08092862815550059,1.7814026153318014,7.603889796097843,-0.709539464822996,-1.3258878456463532,-1.1908809739687674,-0.3693977852797868,-2.4025463831732345,-0.9079187894113903,0.36515233461373553,-1.34221075879597,-0.2041622203724567,-0.08412948425529808,-0.41593154464434734,-1.4626437111903259,-0.5287788368545479,-0.9859955912556377,2.8086184825809957,0.25137026117606187,-0.034841402799542905,-0.4929627730804239,-0.18116066839164519,1.5112373355232025,0.739974624267579,-0.29137153921824777,1.1808092230170444,1.310294336229724,-2.7121320304353884,5.039716156445261,-0.9948879675320367,-1.9740956076496075,-0.18992458113833488,-0.3875497120172044,1.7950877473588143,0.6380118166485744,-0.11127525219493814,3.593816593747541,-0.13738850268633118,0.522112083885054,0.05930624616585638,-0.3746293212430755,-0.9751459416285463,1.2393192526275598,-0.2983866961045808,-1.362326161044364,0.157858902005758,0.5297082474306885,-1.0411735909853805,2.0133512950556978,-2.0580724306776124,0.8352931185017098,-1.6594550188453991,-1.9503030849172076,0.13788049954904585,-0.0425415025727766,1.4087921146642979,0.14912138991598245,-1.0753132329736796,1.940372513749465,-0.25496063311590533,-0.2966959582823852,-0.09514168096247548,0.17795909316642755,-1.0933035910792337,-0.809467315807418,-0.36337230355412153,0.3358091883053201,1.248961547523162,-0.5271887819868313,0.23145038598347176,-0.02575819751104453,2.2484425356427447,1.3673414020618015,-0.5186701429519626,-0.3548850999935797,0.4944811127995949,1.0644975404020136,0.2431964733132194,0.3027684013974063,-1.6234903553890574,0.04321771115669074,-0.3456272906554737,0.027425139800740725,0.08677874084686404,-0.14975066911289775,-0.6305513819554281,-0.27184310056643596,-0.18530675714575398,-0.48347724818214166,-0.2797958616498669,-0.21915415807100513,-0.7379748554429556,-0.4164356545924315,1.1598215816613484,0.3435192614669667,0.3743077505040374,-0.46455324362314826,-1.4527554857636766,-0.9052385970370199,1.707064000595609,-0.8837802545198418,5.502815246585668,-0.26583935845966694,0.08906243179555223,0.31025597094656815,-0.8208890750500928,-0.1495070943691677,-1.4585729005289199,-0.011920413308423888,-0.1139427768875567,0.21061956851522773,-1.9483821818299445,1.5511465357499803,-0.5925414663755977,-0.2025032878288639,-0.013650722845258048,0.2296946434128902,0.14024790559294106,-0.22050649728718238,-1.3346719844854242,0.15117010328421668,-0.0902820639712845,0.7624284351338608,-0.1181544983940116,-0.18302119046395487,0.9719577956677149,-0.21915415807100513,0.10748835260978,-1.4539570870572005,0.14392651001456702,-0.14576844242523326,-0.07373245893304535,1.6073882700064333,1.5003848629397178,0.14996636449082396,-1.6675411945424037,-1.6400876156129647,0.7382746965794124,-1.26295513172529,-1.0005948381692895,-0.29976928875428277,-2.3442607407505287,-0.26262571471246926,0.03766786447210699,-0.3423098662177849,-1.5545662387673358,1.1698975046641127,-0.17498764147698218,3.828263906449107,0.014969558829692238,1.0535330205093252,-1.347368631802676,3.8102453972651236,-0.08054892849431936,0.39444019276322767,-1.0803742817570208,-0.3361087096574494,-0.1578869479710397,-0.6370178201514538,-0.9798883918178549,-0.21781106647105158,0.1321493570751118,-0.47220235528122156,2.726134224213323,-0.7936020777560302,-0.40980370922313997,-1.1908809739687674,-0.602722206032917,-0.44737645391102143,0.08764698098850406,-1.938046364442683,-0.9604302260524534,0.32874518249019125,0.07682748783438326,-1.981073555954439,-1.1862018642698777,-1.255400502941058,1.3797654752278665,0.43899503613754104,-0.20135924615513098,0.6607641077483328,0.3194286084675368,2.849045787170492,-0.26235277581859556,-0.11724283686616754,-3.193798539203526,0.2478043300461314,2.5295203918990743,-0.7834986074103164,-1.0928753415782588,-0.24143086235660144,-0.0902820639712845,1.4993553321646236,0.4349736705536351,2.527796237263515,0.7355826365637714,-0.5508629348485139,-0.7447446012677188,-2.7291133726445307,-0.7180708442689114,-2.168955630379123,0.3963221908928194,-1.3534275381816585,-2.044123005097822,1.2634196165703446,-0.620396715469745,-0.11355861593386678,-0.07340721444908056,0.19582413202285148,1.7792141062424478,0.24846465363099132,-2.3947633844422,-0.27970855290417784,0.048677974586015846,1.100273074943801,0.36458412995137773,-2.931072845303701,-0.05166013186656441,2.921211534695657,-0.7065369551774069,1.0969689652491397,1.4293537740331947,-0.9662770741671363,1.6176259933219472,0.17610899612064237,0.4628083606924605,0.2936761013911649,-0.041506466779169256,1.785721900206253,-0.28102206515894884,0.12483211764274799,-0.9035197485223255,-2.089585562491612,-0.4505517880807474,-0.23341484301902188,0.3365693129191321,-0.08437133085598082,1.2598499108309522,-1.0183500824068088,-0.042421456683234965,-1.0352095410630864,-1.6237089065448291,-1.5787623892030918,-0.37688922495662647,-0.9688406827503199,-0.13446863894421382,2.3081417877181765,0.08602286996653981,0.11086371739948808,-1.1785946967123357,0.14392651001456702,-0.12898923629926012,0.5625903687014545,-2.6887154530664836,0.16530234019194356,-0.4483187650346094,0.9922135482967823,-1.7858115311162945,1.5905959505105594,0.04462086291156422,2.923458673402603,-0.14063176368382813,1.0544161084404449,0.23109512785990274,1.4993553321646236,-0.009028127657351283,1.3975903733948833,1.7998033302130962,-0.26352046205890883,-0.6402665711011578,-0.06750378106673499,-1.2747620077181878,-1.516711207424211,-0.9011477123798016,-0.5236275038073128,1.9093071601966363,1.0965624477897091,-1.648570367558921,0.3359191709589993,-0.29144693617917833,0.03077601289776959,-2.213111124799305,1.489385441866302,-0.3693977852797868,-0.7725515991892494,1.612480828986035,-0.29628177381762405,1.1828259345821297,-1.028650315469678,-0.5641532190861661,-0.22268630568638695,-0.9828799561572399,0.9012830589393194,-0.45072587842743905,-0.3701221976886293,-0.032680560996472,-1.3008392436228644,1.2829201500464344,-0.3599843926727144,-1.0734829785882007,-1.3226344787638213,0.25816205840019485,1.1470434711820565,0.055016978332698724,1.453054651389169,-1.717254095810107,0.20432436702329845,-0.40422980583180373,-1.0411735909853805,-0.12626688781975542,1.0947961097832268,0.150927986517076,-1.855416847246043,0.21522447397731473,-0.6412505172827669,-0.35499432479419046,-0.5926241757167006,-1.287971877680418,1.41199270501112,0.04500342395662041,-1.8574004856324424,-0.2029793764063501,-0.4335435614235286,0.26244600773999033,-0.8710071128741852,0.12386032952242679,-0.330375545700888,-2.1975805231680416,-0.30283247798111274,0.27223235651855815,-0.38601948172250533,6.829074485403266,0.06674009706611897,-0.18465701140469715,-1.3229431723680194,-0.26411043731160705,-0.3605530151067038,0.1700490994207031,0.1277250646273959,-0.5857752440898264,-0.6158972790195264,0.3157319537333084,1.8253923823747575,-1.3276692836277808,-0.4085326014898181,-0.0020368294957936726,-0.1675435459576419,-1.7389742477005665,-0.5953014588522143,2.8232207502046593,-0.23163985341206395,0.18724792846171537,-1.2020842508226444,-0.21642021269752143,-0.23686571313006283,0.1273702794615927,-1.1163252299851592,-0.7359334719118656,-0.2548029941181304,0.7077683922744787,3.9687191358395135,-2.2156053855357087,2.1454749707089804,-0.13430377562828857,-1.639290607046141,-0.18802894742655302,1.2026314946263434e-06,0.47713803098817786,0.2366877248169685,-0.019212545310773085,-0.42511832090937673,-0.5295723178653097,-0.05470153273397117,-0.39650736588299723,-0.8504836580537583,-0.6191786421042147,0.7239411424876581,5.834428388852442,-1.0321573072764596,-1.8566082245054065,-0.3854820770192072,-0.762419638651682,0.37837633584282393,0.34473106014097077,0.0512548004545657,-2.1982767298125285,0.040955066089983456,0.4906285847290362,0.3234250203836359,-2.4112625138432646,-1.2903782509133503,-0.21257957844910252,0.2194699159054341,-0.5544244281039907,1.7505795190936804,0.32079186565202716,1.0423088753910388,-0.3698595041007971,-1.5453405437784535,-1.1263775152361075,6.605756551038358,3.834381510817853,-0.6881011244972859,-0.7452031983294121,0.13917421870555186,-0.04955650809495139,-0.923682424171713,-0.14821382756875082,-0.11558264889503167,1.4878366785764208,-0.01120513483592417,4.363324211527717,3.7606405453821807,-0.176537890847569,1.5851029886038113,1.3841469298948945,1.5359881156682325,-0.26362479831829366,-0.9035197485223255,-2.4796197837393716,-0.2397174191833982,-0.2025032878288639,0.6439535276973575,-1.2868461443059844,-1.6758341506823524,-0.5135431602043692,-0.6067317248362921,-0.23194480017049857,0.5234647453059426,0.2454489358251724,0.6840126301766347,0.27921282817712034,0.8823339463059878,-0.3553951012070394,0.011040628750900717,-2.186876950941854,-0.1393161643880008,-1.292090499456343,-1.591900841202987,3.303643193039772,2.7600615540506594,-0.33477642880765435,0.21647339082913405,2.565379180669733,0.3205882452324449,-0.13955833880139942,-0.30021416750186436,1.8518447783556122,-0.620269000733797,-1.5313301954879588,-1.8971680850376187,0.33303126373773684,-1.4355618974223343,-0.938494719850452,-0.0702020980374685,-1.5202528945907268,-0.019907643915873404,-1.9740956076496075,-0.6523997764235795,0.7255832146579726,1.944836760852675,-0.7364726102750911,-0.9982655520515235,-2.1073838361367185,-0.5951795332248528,1.5359881156682325,0.38442625367927236,0.1342338765483128,0.2652562974931019,-1.845460410552508,0.29729813640831637,-0.2720397866107896,-1.0812413947749002,-0.8061776880777684,1.3702052625947272,0.4435583695297092,-0.021364360046911765,-0.07142527683210624,-0.8076667761499883,-1.6566930117357488,-0.3189606122516377,-0.3124541119168697,-0.5518566438541788,-0.27970855290417784,0.5592585631106868,-0.1414392706092599,-1.1765174747730263,-0.09243123092725992,0.326026982739274,-1.3229431723680194,-2.2267381780349194,0.4619442331805469,-0.4714338550504989,1.3436653956939781,0.3814509538431568,-0.7180708442689114,-1.2493970847294054,-0.35377774191645023,-0.774381657312496,0.12190407846008038,0.19552750165253688,0.13893753525290328,0.09733377225779934,-0.30438276666681346,-1.9004056003304526,0.26702868689519277,0.42550671623361125,-0.24763176202751047,-0.9733021774938395,-0.06511398110787353,-0.07587874667788187,0.2904043417322677,0.13788049954904585,-1.9017818168497433,-1.4325922724491276,0.13607293473164495,-0.6528864988434592,-0.24007992355955105,-1.6678209665220696,1.4806534726802771,0.48969239019540206,-0.19974783578339533,-0.6811018128025648,-0.13766453365093,0.9637358379976858,0.12640809502090458,-2.3547251131003484,0.86495917729739,-0.3868613050275886,0.8968386135636874,0.3447137033424425,3.6207406842332603,-0.18834683528425064,-1.4883384269477764,-0.025373219143134305,4.065014730030803,1.8350306041895648,-0.05822662933220339,-0.3706823903098076,0.1054335282733677,2.4673937847475234,0.0567666499839007,-1.2901455820213352,0.20975209875410397,0.6241903704950433,2.668254372894414,0.10625900450568378,-0.3041106444505511,-1.6820057601459444,-0.2871601562693679,-0.4973281092041632,0.08027596227915108,-1.1566210370960623,-1.328247786745721,2.0133512950556978,3.194543152154597,-0.25835803783138384,-0.05739148134189682,0.845677526356878,3.341547349645246,-0.1679479089626484,-2.5699779498465523,-0.29637659935744903,-0.33894106195149576,-1.1615179679488654,0.03957151294096673,0.3284076497730032,-1.7878569022080066,-0.9020162925661185,-0.34831993638387204,0.7514987464651324,2.105027700964065,-0.3193576414362019,0.1692312059772374,-0.5638006062130007,-0.15749641563074346,-0.46888753145911094,0.7095109675722048,-1.1259881681220854,0.5077684924198596,-1.4020803765829182,1.381171761164631,0.14493714393104137,2.8455625761576018,-1.9361239801236556,-0.6585255662009085,1.032433263457527,0.20406346087787516,-1.9438616937686575,-1.1450179398350382,0.08973732184975057,-0.06682220580707574,-1.0610492016691186,-0.018091907649146446,0.7297988003504896,-1.8109580277824056,-0.8517138968815271,-0.089558137270983,-0.40946595776415895,0.861987526599093,-2.8093131483011664,0.7902215227401196,-1.7994159028854484,3.6026866835668563,0.1916191013599486,5.735332026350849,-0.13738850268633118,0.0572327786676577,-0.31435206949219746,0.06830201851664662,-0.5520110563374153,-2.927357813118948,7.70843428420015,0.08346940248915227,-1.5072548997177482,0.1137560318791382,4.95580381209791,-1.2432472388069347,0.3500513419816557,-0.3521130288775512,-0.4092189149920573,-1.413974821428763,0.009917601341171223,0.21316298029053338,-2.1376342025862276,0.2437818624221123,0.38524277512872995,1.2300823369441505,-0.5960713031413183,-0.3842268314218417,4.07426055585568,-0.44119783732608225,0.298921539013093,-2.856255843412583,0.11154800679659274,-1.5774882802660228,-0.9688598758535445,-2.0678163494467188,0.1188009962882152,-0.40980370922313997,-0.68006983413566,-1.313308107549642,-1.8973729301122626,1.4361651839889185,-0.5035071325580911,-1.4824947553870318,-0.24720353036589252,0.3909133192387435,1.1972538968379185,-0.5857752440898264,-1.6818529208114912,7.801970233833227,-0.478089940235664,1.3614204726163208,-0.3306931920036228,-2.5064555693305572,-1.3625850350084314,-1.8993856542162775,0.5204124978320483,1.7939686859224997,0.4784889669687632,0.6901359120471664,1.3702052625947272,-0.3293235008573784,-0.5989670383346886,-0.8852724849337665,-1.6148583147092745,0.31798373323331536,1.381272922652638,2.6504534981290973,-0.05722833972630288,1.944836760852675,0.043881253525673486,-0.534326213820476,0.2070015388116453,-0.27209570319063137,0.08433164052306927,-0.7569811520852705,0.22145285683922916,-1.3385187777573533,1.7692387469247848,-0.5090811012316839,1.6636263744814643,1.7294590277085498,-0.1271630028900775,3.232492224886839,1.4320053987713366,-0.8133820293347149,1.1095603507753817,-1.2650269011269109,-0.038699515620398084,0.13566615037427773,1.450826356339835,-0.648973990749492,0.35320871567175993,-0.2910102744605352,-1.639075573921641,0.7632971463717564,-1.0760767029751988,-0.958078544677311,-1.4401872836862668,0.5108444828675058,3.5714601840709665,-1.5971250503378895,0.23969040388778334,-0.042421456683234965,1.286990410365937,-0.08449055486831514,-0.3378197051965561,0.04191867408740563,-0.21779717314852803,-0.017288087972943036,-0.6726437607602213,-0.7511813012693545,-1.3196474218933525,-0.24903437459036404,-0.04785625414597393,-0.47886719160673885,1.8877912106799077,0.3428672210338461,1.4298153369457687,-1.09066768458228,0.14949160960573377,-1.4242944552815096,0.6313324911352891,-1.25675408719909,-1.111361529813557,-1.4466792400397335,-0.12556171481157571,-0.7046196652220478,-1.2318320546970758,-0.7984289616477372,0.0723539201133366,-0.15646819038110205,-0.31345550022555524,-0.22223351229445928,-0.8731771989205699,1.2126975866972955,0.31316223929442494,-1.6459806782998263,-0.42241891417739014,1.4651560300567767,-1.2250755835215628,0.0339443278916659,-0.8532723497180401,-0.16694505587788014,-0.49858565739121763,-1.1785946967123357,-0.6344673119156323,-0.12003088643067128,-1.26295513172529,-0.43521772495906047,-0.9688406827503199,-1.5425740418424003,-0.8183385460040913,0.0968170359821348,-0.5326244904732089,-0.05595096159043751,-0.8125809296861791,-2.5185390228497972,0.13607293473164495,0.021092615055118915,-1.5581798889612444,0.33153040733523015,0.11899783758218338,-0.6741531272396442,0.05238504031506641,-0.09138610759139605,-1.0928753415782588,-0.6598949188184672,-1.0099662871034165,-0.22909103515448995,-0.14340903371087244,-0.49362629592821716,1.5444770594231352,-0.11075774465988289,-1.3013653473238032,1.7924884412361146,1.8877912106799077,-0.5457944068950249,-3.115504631740307,-0.04690512687469187,3.6951385460442694,4.940907012459736,-0.3784430054501514,-1.4743515383972594,1.9874627452936164,2.001570703420508,-0.3044963756702433,0.5209286178840167,-0.534326213820476,1.5368169170394066,-0.2622599771125225,1.2440430603288866,-0.4614274033675956,0.5852134145099726,-0.7096200822542525,-0.4569892792089171,-0.5563772525842213,-0.9083872874468143,0.2188613200783443,-1.5025099524237722,-1.3048965592245347,0.31324244934027323,0.31605012408486693,0.016511348301594578,0.13912701949301617,-1.7707784041755834,0.8508818707328485,4.614380800706041,-0.6899255925610123,2.015820925308201,1.2638667343095655,0.2016323549010674,0.03738573678556129,2.0681202779914543,-1.1828893419563733,0.3342489749342538,-1.7902520429617275,-0.4232513260639785,0.9353764057703714,0.024402015107118296,-1.198779615751561,1.933605853356636,0.17686151056237626,-0.24331679811618462,-0.2225727950221175,-0.6637642324605308,2.471957130485947,2.001027178306431,0.25699965639666394,-0.3866206843130422,-0.3381123901122485,-0.5128110426916449,0.030644390815888812,0.1985625622532517,-0.13902253526436054,0.9353764057703714,0.27223235651855815,0.014170569815810507,-0.20336478656306928,-0.6227046749199932,0.6829516787036354,-1.2554516117965508,0.7199047521333688,-0.35686743521399394,-0.6563126232550629,-0.6632361302860639,0.580703298177136,0.16854617100683264,-1.9004056003304526,6.91082256304073,0.9522464051447035,-0.24176084364644113,1.0591235049125127,6.944289874524687,-2.633806035730354,-1.0024118180766999,2.1637894806810465,2.609916254953927,-1.5225759716897231,0.39117702655690845,0.38416161130358284,-0.8949662413274255,0.19785464491315233,1.4243982810050482,-1.4539570870572005,0.14428732206228514,-0.704000370089442,-0.021771041313684056,-0.008196577316548624,-0.3352760071392137,-1.9103123740545946,-0.39881185691736115,-0.35786774498557133,0.017738679760584547,-0.1974033000667684,1.335631786339468,1.2574214925875262,0.21240940097420583,-0.2644034461554405,0.32785243009935844,2.0156318843520693,-0.05431107954235787,0.3559097634534844,-0.379476349626725,1.612480828986035,-2.213444309194345,-0.13738850268633118,0.3280363329098493,-1.0744532658162498,1.100672247339904,-0.22512212017011085,-0.15968703045674076,-0.16206362340068298,-1.5063099718528097,-0.06239529736578024,-0.7734161530924102,0.654824334843251,-0.24648199783449412,0.156584250167861,-2.931072845303701,0.26244600773999033,0.11178922722875208,-1.1643438172975886,3.1506292924860104,0.38514744387327576,-0.5339923011441845,0.42833110727617035,-0.042541502572776585,0.09528342174396427,-0.5610444945038258,0.2680391317210603,1.254549998219343,0.11045327722093459,-0.15461006245257178,-0.07562662265780364,-1.0186466885418415,1.3797654752278665,0.7532312630861089,-1.422443151040278,1.2591949161780287],\"type\":\"scatter3d\"}],                        {\"template\":{\"data\":{\"bar\":[{\"error_x\":{\"color\":\"#2a3f5f\"},\"error_y\":{\"color\":\"#2a3f5f\"},\"marker\":{\"line\":{\"color\":\"#E5ECF6\",\"width\":0.5},\"pattern\":{\"fillmode\":\"overlay\",\"size\":10,\"solidity\":0.2}},\"type\":\"bar\"}],\"barpolar\":[{\"marker\":{\"line\":{\"color\":\"#E5ECF6\",\"width\":0.5},\"pattern\":{\"fillmode\":\"overlay\",\"size\":10,\"solidity\":0.2}},\"type\":\"barpolar\"}],\"carpet\":[{\"aaxis\":{\"endlinecolor\":\"#2a3f5f\",\"gridcolor\":\"white\",\"linecolor\":\"white\",\"minorgridcolor\":\"white\",\"startlinecolor\":\"#2a3f5f\"},\"baxis\":{\"endlinecolor\":\"#2a3f5f\",\"gridcolor\":\"white\",\"linecolor\":\"white\",\"minorgridcolor\":\"white\",\"startlinecolor\":\"#2a3f5f\"},\"type\":\"carpet\"}],\"choropleth\":[{\"colorbar\":{\"outlinewidth\":0,\"ticks\":\"\"},\"type\":\"choropleth\"}],\"contour\":[{\"colorbar\":{\"outlinewidth\":0,\"ticks\":\"\"},\"colorscale\":[[0.0,\"#0d0887\"],[0.1111111111111111,\"#46039f\"],[0.2222222222222222,\"#7201a8\"],[0.3333333333333333,\"#9c179e\"],[0.4444444444444444,\"#bd3786\"],[0.5555555555555556,\"#d8576b\"],[0.6666666666666666,\"#ed7953\"],[0.7777777777777778,\"#fb9f3a\"],[0.8888888888888888,\"#fdca26\"],[1.0,\"#f0f921\"]],\"type\":\"contour\"}],\"contourcarpet\":[{\"colorbar\":{\"outlinewidth\":0,\"ticks\":\"\"},\"type\":\"contourcarpet\"}],\"heatmap\":[{\"colorbar\":{\"outlinewidth\":0,\"ticks\":\"\"},\"colorscale\":[[0.0,\"#0d0887\"],[0.1111111111111111,\"#46039f\"],[0.2222222222222222,\"#7201a8\"],[0.3333333333333333,\"#9c179e\"],[0.4444444444444444,\"#bd3786\"],[0.5555555555555556,\"#d8576b\"],[0.6666666666666666,\"#ed7953\"],[0.7777777777777778,\"#fb9f3a\"],[0.8888888888888888,\"#fdca26\"],[1.0,\"#f0f921\"]],\"type\":\"heatmap\"}],\"heatmapgl\":[{\"colorbar\":{\"outlinewidth\":0,\"ticks\":\"\"},\"colorscale\":[[0.0,\"#0d0887\"],[0.1111111111111111,\"#46039f\"],[0.2222222222222222,\"#7201a8\"],[0.3333333333333333,\"#9c179e\"],[0.4444444444444444,\"#bd3786\"],[0.5555555555555556,\"#d8576b\"],[0.6666666666666666,\"#ed7953\"],[0.7777777777777778,\"#fb9f3a\"],[0.8888888888888888,\"#fdca26\"],[1.0,\"#f0f921\"]],\"type\":\"heatmapgl\"}],\"histogram\":[{\"marker\":{\"pattern\":{\"fillmode\":\"overlay\",\"size\":10,\"solidity\":0.2}},\"type\":\"histogram\"}],\"histogram2d\":[{\"colorbar\":{\"outlinewidth\":0,\"ticks\":\"\"},\"colorscale\":[[0.0,\"#0d0887\"],[0.1111111111111111,\"#46039f\"],[0.2222222222222222,\"#7201a8\"],[0.3333333333333333,\"#9c179e\"],[0.4444444444444444,\"#bd3786\"],[0.5555555555555556,\"#d8576b\"],[0.6666666666666666,\"#ed7953\"],[0.7777777777777778,\"#fb9f3a\"],[0.8888888888888888,\"#fdca26\"],[1.0,\"#f0f921\"]],\"type\":\"histogram2d\"}],\"histogram2dcontour\":[{\"colorbar\":{\"outlinewidth\":0,\"ticks\":\"\"},\"colorscale\":[[0.0,\"#0d0887\"],[0.1111111111111111,\"#46039f\"],[0.2222222222222222,\"#7201a8\"],[0.3333333333333333,\"#9c179e\"],[0.4444444444444444,\"#bd3786\"],[0.5555555555555556,\"#d8576b\"],[0.6666666666666666,\"#ed7953\"],[0.7777777777777778,\"#fb9f3a\"],[0.8888888888888888,\"#fdca26\"],[1.0,\"#f0f921\"]],\"type\":\"histogram2dcontour\"}],\"mesh3d\":[{\"colorbar\":{\"outlinewidth\":0,\"ticks\":\"\"},\"type\":\"mesh3d\"}],\"parcoords\":[{\"line\":{\"colorbar\":{\"outlinewidth\":0,\"ticks\":\"\"}},\"type\":\"parcoords\"}],\"pie\":[{\"automargin\":true,\"type\":\"pie\"}],\"scatter\":[{\"marker\":{\"colorbar\":{\"outlinewidth\":0,\"ticks\":\"\"}},\"type\":\"scatter\"}],\"scatter3d\":[{\"line\":{\"colorbar\":{\"outlinewidth\":0,\"ticks\":\"\"}},\"marker\":{\"colorbar\":{\"outlinewidth\":0,\"ticks\":\"\"}},\"type\":\"scatter3d\"}],\"scattercarpet\":[{\"marker\":{\"colorbar\":{\"outlinewidth\":0,\"ticks\":\"\"}},\"type\":\"scattercarpet\"}],\"scattergeo\":[{\"marker\":{\"colorbar\":{\"outlinewidth\":0,\"ticks\":\"\"}},\"type\":\"scattergeo\"}],\"scattergl\":[{\"marker\":{\"colorbar\":{\"outlinewidth\":0,\"ticks\":\"\"}},\"type\":\"scattergl\"}],\"scattermapbox\":[{\"marker\":{\"colorbar\":{\"outlinewidth\":0,\"ticks\":\"\"}},\"type\":\"scattermapbox\"}],\"scatterpolar\":[{\"marker\":{\"colorbar\":{\"outlinewidth\":0,\"ticks\":\"\"}},\"type\":\"scatterpolar\"}],\"scatterpolargl\":[{\"marker\":{\"colorbar\":{\"outlinewidth\":0,\"ticks\":\"\"}},\"type\":\"scatterpolargl\"}],\"scatterternary\":[{\"marker\":{\"colorbar\":{\"outlinewidth\":0,\"ticks\":\"\"}},\"type\":\"scatterternary\"}],\"surface\":[{\"colorbar\":{\"outlinewidth\":0,\"ticks\":\"\"},\"colorscale\":[[0.0,\"#0d0887\"],[0.1111111111111111,\"#46039f\"],[0.2222222222222222,\"#7201a8\"],[0.3333333333333333,\"#9c179e\"],[0.4444444444444444,\"#bd3786\"],[0.5555555555555556,\"#d8576b\"],[0.6666666666666666,\"#ed7953\"],[0.7777777777777778,\"#fb9f3a\"],[0.8888888888888888,\"#fdca26\"],[1.0,\"#f0f921\"]],\"type\":\"surface\"}],\"table\":[{\"cells\":{\"fill\":{\"color\":\"#EBF0F8\"},\"line\":{\"color\":\"white\"}},\"header\":{\"fill\":{\"color\":\"#C8D4E3\"},\"line\":{\"color\":\"white\"}},\"type\":\"table\"}]},\"layout\":{\"annotationdefaults\":{\"arrowcolor\":\"#2a3f5f\",\"arrowhead\":0,\"arrowwidth\":1},\"autotypenumbers\":\"strict\",\"coloraxis\":{\"colorbar\":{\"outlinewidth\":0,\"ticks\":\"\"}},\"colorscale\":{\"diverging\":[[0,\"#8e0152\"],[0.1,\"#c51b7d\"],[0.2,\"#de77ae\"],[0.3,\"#f1b6da\"],[0.4,\"#fde0ef\"],[0.5,\"#f7f7f7\"],[0.6,\"#e6f5d0\"],[0.7,\"#b8e186\"],[0.8,\"#7fbc41\"],[0.9,\"#4d9221\"],[1,\"#276419\"]],\"sequential\":[[0.0,\"#0d0887\"],[0.1111111111111111,\"#46039f\"],[0.2222222222222222,\"#7201a8\"],[0.3333333333333333,\"#9c179e\"],[0.4444444444444444,\"#bd3786\"],[0.5555555555555556,\"#d8576b\"],[0.6666666666666666,\"#ed7953\"],[0.7777777777777778,\"#fb9f3a\"],[0.8888888888888888,\"#fdca26\"],[1.0,\"#f0f921\"]],\"sequentialminus\":[[0.0,\"#0d0887\"],[0.1111111111111111,\"#46039f\"],[0.2222222222222222,\"#7201a8\"],[0.3333333333333333,\"#9c179e\"],[0.4444444444444444,\"#bd3786\"],[0.5555555555555556,\"#d8576b\"],[0.6666666666666666,\"#ed7953\"],[0.7777777777777778,\"#fb9f3a\"],[0.8888888888888888,\"#fdca26\"],[1.0,\"#f0f921\"]]},\"colorway\":[\"#636efa\",\"#EF553B\",\"#00cc96\",\"#ab63fa\",\"#FFA15A\",\"#19d3f3\",\"#FF6692\",\"#B6E880\",\"#FF97FF\",\"#FECB52\"],\"font\":{\"color\":\"#2a3f5f\"},\"geo\":{\"bgcolor\":\"white\",\"lakecolor\":\"white\",\"landcolor\":\"#E5ECF6\",\"showlakes\":true,\"showland\":true,\"subunitcolor\":\"white\"},\"hoverlabel\":{\"align\":\"left\"},\"hovermode\":\"closest\",\"mapbox\":{\"style\":\"light\"},\"paper_bgcolor\":\"white\",\"plot_bgcolor\":\"#E5ECF6\",\"polar\":{\"angularaxis\":{\"gridcolor\":\"white\",\"linecolor\":\"white\",\"ticks\":\"\"},\"bgcolor\":\"#E5ECF6\",\"radialaxis\":{\"gridcolor\":\"white\",\"linecolor\":\"white\",\"ticks\":\"\"}},\"scene\":{\"xaxis\":{\"backgroundcolor\":\"#E5ECF6\",\"gridcolor\":\"white\",\"gridwidth\":2,\"linecolor\":\"white\",\"showbackground\":true,\"ticks\":\"\",\"zerolinecolor\":\"white\"},\"yaxis\":{\"backgroundcolor\":\"#E5ECF6\",\"gridcolor\":\"white\",\"gridwidth\":2,\"linecolor\":\"white\",\"showbackground\":true,\"ticks\":\"\",\"zerolinecolor\":\"white\"},\"zaxis\":{\"backgroundcolor\":\"#E5ECF6\",\"gridcolor\":\"white\",\"gridwidth\":2,\"linecolor\":\"white\",\"showbackground\":true,\"ticks\":\"\",\"zerolinecolor\":\"white\"}},\"shapedefaults\":{\"line\":{\"color\":\"#2a3f5f\"}},\"ternary\":{\"aaxis\":{\"gridcolor\":\"white\",\"linecolor\":\"white\",\"ticks\":\"\"},\"baxis\":{\"gridcolor\":\"white\",\"linecolor\":\"white\",\"ticks\":\"\"},\"bgcolor\":\"#E5ECF6\",\"caxis\":{\"gridcolor\":\"white\",\"linecolor\":\"white\",\"ticks\":\"\"}},\"title\":{\"x\":0.05},\"xaxis\":{\"automargin\":true,\"gridcolor\":\"white\",\"linecolor\":\"white\",\"ticks\":\"\",\"title\":{\"standoff\":15},\"zerolinecolor\":\"white\",\"zerolinewidth\":2},\"yaxis\":{\"automargin\":true,\"gridcolor\":\"white\",\"linecolor\":\"white\",\"ticks\":\"\",\"title\":{\"standoff\":15},\"zerolinecolor\":\"white\",\"zerolinewidth\":2}}},\"scene\":{\"domain\":{\"x\":[0.0,1.0],\"y\":[0.0,1.0]},\"xaxis\":{\"title\":{\"text\":\"PC1\"}},\"yaxis\":{\"title\":{\"text\":\"PC2\"}},\"zaxis\":{\"title\":{\"text\":\"PC3\"}}},\"coloraxis\":{\"colorbar\":{\"title\":{\"text\":\"preds\"}},\"colorscale\":[[0.0,\"#0d0887\"],[0.1111111111111111,\"#46039f\"],[0.2222222222222222,\"#7201a8\"],[0.3333333333333333,\"#9c179e\"],[0.4444444444444444,\"#bd3786\"],[0.5555555555555556,\"#d8576b\"],[0.6666666666666666,\"#ed7953\"],[0.7777777777777778,\"#fb9f3a\"],[0.8888888888888888,\"#fdca26\"],[1.0,\"#f0f921\"]]},\"legend\":{\"tracegroupgap\":0},\"margin\":{\"t\":60},\"title\":{\"text\":\"DBSCAN\",\"x\":0.5}},                        {\"responsive\": true}                    ).then(function(){\n",
              "                            \n",
              "var gd = document.getElementById('6862a9cd-bd39-4fc7-9b89-09b62459486b');\n",
              "var x = new MutationObserver(function (mutations, observer) {{\n",
              "        var display = window.getComputedStyle(gd).display;\n",
              "        if (!display || display === 'none') {{\n",
              "            console.log([gd, 'removed!']);\n",
              "            Plotly.purge(gd);\n",
              "            observer.disconnect();\n",
              "        }}\n",
              "}});\n",
              "\n",
              "// Listen for the removal of the full notebook cells\n",
              "var notebookContainer = gd.closest('#notebook-container');\n",
              "if (notebookContainer) {{\n",
              "    x.observe(notebookContainer, {childList: true});\n",
              "}}\n",
              "\n",
              "// Listen for the clearing of the current output cell\n",
              "var outputEl = gd.closest('.output');\n",
              "if (outputEl) {{\n",
              "    x.observe(outputEl, {childList: true});\n",
              "}}\n",
              "\n",
              "                        })                };                            </script>        </div>\n",
              "</body>\n",
              "</html>"
            ]
          },
          "metadata": {}
        }
      ],
      "source": [
        "cluster_db = DBSCAN(eps=0.2, min_samples=6)\n",
        "cluster_db.fit(principalDf)\n",
        "\n",
        "visualize_clustering(principalDf, cluster_db.labels_, title=\"DBSCAN\")"
      ]
    },
    {
      "cell_type": "code",
      "execution_count": 48,
      "id": "dc7f2439",
      "metadata": {
        "execution": {
          "iopub.execute_input": "2022-11-11T03:54:03.854094Z",
          "iopub.status.busy": "2022-11-11T03:54:03.853080Z",
          "iopub.status.idle": "2022-11-11T03:54:04.013936Z",
          "shell.execute_reply": "2022-11-11T03:54:04.012589Z"
        },
        "id": "dc7f2439",
        "papermill": {
          "duration": 0.218909,
          "end_time": "2022-11-11T03:54:04.017197",
          "exception": false,
          "start_time": "2022-11-11T03:54:03.798288",
          "status": "completed"
        },
        "tags": []
      },
      "outputs": [],
      "source": [
        "db.append(davies_bouldin_score(principalDf, cluster_db.labels_))\n",
        "sil.append(silhouette_score(principalDf, cluster_db.labels_))"
      ]
    },
    {
      "cell_type": "markdown",
      "id": "e02c8d72",
      "metadata": {
        "id": "e02c8d72",
        "papermill": {
          "duration": 0.052025,
          "end_time": "2022-11-11T03:54:04.123724",
          "exception": false,
          "start_time": "2022-11-11T03:54:04.071699",
          "status": "completed"
        },
        "tags": []
      },
      "source": [
        "## 7.3 Agglomerative <a class=\"anchor\" id=\"cluster_agg\"></a>\n",
        "\n"
      ]
    },
    {
      "cell_type": "code",
      "execution_count": 49,
      "id": "f425a991",
      "metadata": {
        "execution": {
          "iopub.execute_input": "2022-11-11T03:54:04.233965Z",
          "iopub.status.busy": "2022-11-11T03:54:04.232487Z",
          "iopub.status.idle": "2022-11-11T03:54:04.475009Z",
          "shell.execute_reply": "2022-11-11T03:54:04.474046Z"
        },
        "id": "f425a991",
        "outputId": "2f72ab31-b1a3-44ba-8304-afd51309f04d",
        "papermill": {
          "duration": 0.300464,
          "end_time": "2022-11-11T03:54:04.478465",
          "exception": false,
          "start_time": "2022-11-11T03:54:04.178001",
          "status": "completed"
        },
        "tags": [],
        "colab": {
          "base_uri": "https://localhost:8080/",
          "height": 542
        }
      },
      "outputs": [
        {
          "output_type": "display_data",
          "data": {
            "text/html": [
              "<html>\n",
              "<head><meta charset=\"utf-8\" /></head>\n",
              "<body>\n",
              "    <div>            <script src=\"https://cdnjs.cloudflare.com/ajax/libs/mathjax/2.7.5/MathJax.js?config=TeX-AMS-MML_SVG\"></script><script type=\"text/javascript\">if (window.MathJax) {MathJax.Hub.Config({SVG: {font: \"STIX-Web\"}});}</script>                <script type=\"text/javascript\">window.PlotlyConfig = {MathJaxConfig: 'local'};</script>\n",
              "        <script src=\"https://cdn.plot.ly/plotly-2.8.3.min.js\"></script>                <div id=\"c496eab4-9e80-44d2-951b-a3a7f54b4ae0\" class=\"plotly-graph-div\" style=\"height:525px; width:100%;\"></div>            <script type=\"text/javascript\">                                    window.PLOTLYENV=window.PLOTLYENV || {};                                    if (document.getElementById(\"c496eab4-9e80-44d2-951b-a3a7f54b4ae0\")) {                    Plotly.newPlot(                        \"c496eab4-9e80-44d2-951b-a3a7f54b4ae0\",                        [{\"hovertemplate\":\"PC1=%{x}<br>PC2=%{y}<br>PC3=%{z}<br>preds=%{marker.color}<extra></extra>\",\"legendgroup\":\"\",\"marker\":{\"color\":[2,1,0,1,1,0,0,1,1,1,1,2,0,1,2,1,1,2,1,1,0,0,0,0,1,1,1,2,1,0,1,0,2,1,0,1,1,0,0,1,3,1,2,1,1,0,0,2,1,4,0,4,2,1,3,4,0,0,0,2,1,1,2,0,0,2,0,0,1,1,2,4,1,0,1,1,1,0,0,1,1,0,2,1,1,1,1,0,1,2,0,1,1,0,0,2,1,1,0,1,0,0,2,0,4,0,1,2,0,1,1,0,1,1,1,4,0,2,1,0,0,0,0,1,2,1,1,1,1,2,0,2,0,1,0,1,1,1,1,0,0,0,1,0,2,0,3,1,2,1,0,1,0,0,1,0,1,2,1,1,1,1,1,1,2,2,1,1,2,1,1,0,1,1,1,1,0,2,1,1,2,1,0,1,0,2,2,1,0,2,0,4,1,1,1,0,1,2,0,2,0,0,2,0,1,2,0,0,1,0,0,1,0,1,0,0,2,1,0,2,1,1,0,1,1,0,1,2,0,1,2,0,1,4,0,2,0,1,1,4,1,0,1,0,0,3,1,1,0,1,1,1,1,2,1,2,1,2,1,1,1,1,0,2,0,2,0,1,0,1,0,1,1,2,0,2,0,1,1,2,1,1,0,1,1,0,0,3,0,1,1,1,2,1,2,0,1,1,1,2,1,1,1,0,1,0,1,1,0,0,2,1,1,3,1,1,1,0,1,1,0,4,1,2,2,1,0,0,1,2,1,2,3,1,0,2,0,0,0,1,1,2,0,0,4,0,1,1,0,0,2,1,2,0,1,1,1,0,1,1,1,1,0,1,1,1,1,1,1,1,0,0,1,0,2,1,2,1,0,2,1,1,1,1,3,2,1,1,0,1,1,0,1,0,1,0,2,1,0,2,1,4,4,0,1,1,1,4,2,1,4,0,1,0,4,0,0,0,1,1,0,0,1,1,1,0,1,1,1,1,1,2,1,0,0,0,1,0,0,0,4,1,1,2,0,2,1,2,1,0,4,1,0,0,0,1,0,1,1,0,3,0,0,0,1,1,1,0,0,2,0,0,1,1,2,1,2,0,0,0,1,0,0,0,1,1,1,0,1,0,0,2,1,0,1,0,0,2,0,2,1,1,0,2,1,2,1,2,1,1,2,0,2,0,0,0,0,0,1,0,1,2,1,1,1,1,1,4,0,1,2,1,1,1,1,1,0,1,2,1,0,2,1,4,1,2,0,0,0,0,0,1,1,1,3,1,1,0,1,4,1,1,1,1,1,0,1,1,1,1,4,0,0,1,1,4,2,3,0,1,1,1,1,1,3,0,2,0,1,1,1,1,1,2,1,1,1,1,0,0,1,1,3,0,3,1,2,1,2,1,0,2,1,1,0,0,0,1,2,1,2,0,0,0,0,2,0,0,4,1,4,1,0,0,2,1,0,1,0,1,0,1,0,1,0,1,0,1,1,1,1,1,1,1,0,0,0,0,0,1,2,0,1,0,0,2,0,0,0,0,2,2,2,0,0,0,1,1,1,1,1,1,0,2,0,0,0,4,1,2,1,0,0,1,1,0,1,0,1,2,2,1,0,1,0,0,1,2,1,1,2,2,0,2,1,0,0,0,4,4,0,0,1,0,0,1,1,1,2,2,1,2,1,0,2,0,0,4,2,2,0,0,1,1,1,0,2,1,2,0,2,2,1,0,0,2,0,1,1,1,1,0,1,2,2,3,1,1,1,1,1,0,0,0,2,4,1,0,1,1,0,0,2,1,0,1,1,2,4,0,1,0,0,0,3,1,0,0,2,0,1,0,0,1,4,1,0,1,4,0,0,1,0,1,3,0,0,1,1,0,0,2,1,0,3,0,1,1,0,4,2,0,0,1,0,0,2,1,0,0,1,0,3,2,1,1,1,0,1,0,0,1,0,1,4,0,1,1,0,4,0,1,2,1,1,1,1,1,2,2,1,1,0,2,1,0,2,1,0,0,0,0,1,1,2,1,0,0,0,2,2,1,1,1,2,0,0,1,4,0,0,4,1,2,1,2,1,1,2,1,2,2,2,0,0,1,0,1,2,1,0,2,0,0,0,0,2,4,1,0,0,0,1,0,3,1,1,1,3,1,0,0,1,3,0,0,1,1,1,0,4,1,1,0,2,1,1,0,2,2,2,0,1,0,1,1,1,0,4,0,2,4,2,1,4,1,0,0,1,1,2,1,0,0,0,4,0,1,0,0,0,2,1,1,4,1,1,1,1,0,2,0,1,1,1,1,0,1,1,0,1,1,1,0,2,2,0,1,2,1,3,1,1,0,0,1,1,2,1,1,1,0,0,0,2,1,2,1,1,0,0,1,2,0,0,0,0,1,0,1,4,2,1,0,1,0,0,1,1,4,2,1,1,1,0,0,2,3,2,0,1,4,1,2,2,1,0,3,1,0,0,0,1,0,4,1,0,1,1,2,1,1,0,0,2,2,1,2,1,2,1,0,1,0,0,1,0,1,3,0,0,1,1,2,0,1,1,2,4,1,1,2,1,0,0,1,1,1,0,1,1,0,0,1,0,0,1,4,1,3,0,2,0,0,1,0,0,0,1,0,1,1,2,2,1,1,2,0,1,0,1,0,1,4,0,0,0,3,1,1,1,0,1,1,2,2,1,0,1,0,1,0,0,0,1,0,0,1,0,0,2,1,1,1,0,0,0,2,0,1,0,1,2,1,1,1,2,1,3,0,0,1,0,3,1,1,1,1,1,0,1,4,1,1,1,3,2,0,1,1,1,3,1,0,4,0,2,0,0,0,0,0,1,4,1,2,2,1,1,4,0,1,1,2,0,0,1,0,1,0,1,1,2,3,4,4,1,0,0,1,0,1,4,0,1,1,1,1,1,1,1,0,2,3,1,4,1,1,2,0,0,2,4,0,0,2,0,0,1,1,0,1,1,1,2,0,2,1,1,0,1,1,1,2,1,0,2,2,4,1,2,1,1,1,0,0,0,3,1,1,3,0,0,2,2,2,1,1,2,0,1,0,2,1,0,1,0,0,0,0,0,1,1,1,1,1,1,0,0,0,0,1,0,1,1,1,2,1,1,2,0,1,1,1,1,0,1,1,0,3,0,0,1,0,0,1,0,0,0,1,0,4,1,2,1,0,1,0,1,1,1,2,0,1,1,1,1,1,1,0,1,1,2,1,0,1,0,1,1,1,1,1,1,4,4,0,2,0,0,0,1,2,2,1,1,0,1,3,4,0,0,0,1,1,1,0,0,2,3,0,1,1,1,2,0,1,2,1,1,0,0,0,1,1,0,0,2,0,2,0,0,1,4,0,1,2,1,0,0,2,0,1,0,0,0,0,0,0,2,0,2,1,0,2,1,1,0,1,1,1,2,2,1,1,1,0,2,1,4,1,0,0,0,1,1,1,1,2,0,0,1,0,2,1,0,1,3,1,0,1,1,0,0,2,0,1,1,1,1,0,1,0,1,2,1,0,0,0,0,0,2,1,4,1,0,0,1,2,1,0,1,0,0,1,2,1,1,0,1,2,1,2,1,0,1,0,1,1,2,1,0,4,0,1,1,1,0,0,3,0,2,1,2,1,1,0,1,1,1,0,1,1,2,0,1,0,0,0,1,1,0,1,1,1,0,0,0,2,1,1,3,4,0,1,0,1,0,0,2,1,1,2,1,2,1,1,0,0,0,4,0,1,0,1,1,1,0,1,0,2,0,2,2,2,0,1,1,1,0,1,2,1,1,1,0,3,2,0,0,2,0,2,1,1,1,0,1,0,1,0,0,3,1,0,1,1,0,0,0,1,4,2,1,2,1,0,0,1,1,0,1,4,4,2,1,1,1,1,0,0,1,1,1,2,0,0,0,2,0,1,1,0,1,2,0,2,1,0,0,4,0,3,1,0,3,1,3,1,1,0,0,1,0,0,1,0,1,2,1,1,1,1,0,2,1,1,1,1,1,0,1,1,2,0,1,1,0,1,0,0,3,1,2,1,1,1,0,1,0,0,0,2,1,0,1,0,0,3,2,2,3,0,0,2,0,1,0,2,0,1,0,1,1,0,2,1,0,2,2,1,1,0,0,1,1,1,2,0,0,2,1,4,1,0,0,4,1,3,3,1,2,1,2,2,2,2,1,1,2,1,0,1,0,0,2,0,1,1,1,4,1,0,1,0,1,1,0,2,0,0,2,1,1,0,1,1,1,2,0,1,2,4,1,0,0,0,1,2,0,0,1,1,0,1,0,0,0,1,1,1,2,2,2,2,0,0,3,1,1,1,1,0,4,2,0,1,0,0,2,0,1,0,1,1,0,1,0,0,1,1,4,1,1,2,1,2,2,0,1,1,1,0,2,2,0,0,1,0,2,1,0,4,1,1,1,2,0,0,2,2,0,1,1,0,1,0,0,1,1,1,1,1,4,1,0,3,1,0,1,0,2,1,4,2,1,4,2,0,1,0,1,1,1,1,1,1,0,0,1,0,2,1,4,0,2,1,1,3,1,1,1,1,0,0,0,1,1,1,0,1,0,0,1,0,1,0,0,0,1,2,0,0,1,1,3,1,1,2,2,2,1,0,0,1,1,1,0,0,0,1,0,1,0,0,1,0,1,1,0,0,1,0,2,0,1,1,1,0,2,0,0,2,1,1,0,1,0,4,0,1,2,1,2,4,1,0,1,0,1,1,1,0,0,4,0,0,1,1,0,0,1,0,2,1,1,1,1,0,1,4,0,2,0,1,1,2,0,1,2,0,1,1,1,1,1,1,3,1,0,2,1,1,0,1,1,2,1,1,1,1,1,1,0,1,2,1,0,2,1,1,0,4,4,3,0,4,0,0,0,4,2,0,0,0,1,0,1,1,1,0,0,2,2,3,2,1,1,4,2,1,1,0,0,3,1,0,0,0,3,1,0,1,3,1,0,2,1,2,1,1,1,2,1,0,0,4,1,1,0,0,0,0,1,1,0,3,1,0,0,0,0,1],\"coloraxis\":\"coloraxis\",\"opacity\":0.5,\"symbol\":\"circle\",\"size\":3},\"mode\":\"markers\",\"name\":\"\",\"scene\":\"scene\",\"showlegend\":false,\"x\":[4.737742137654944,-3.221759616173463,2.0728771425582817,-3.0238324756341783,-0.5347536400989716,0.8860199899021559,0.713531444936315,-2.550734980110283,-3.0702113510056925,-4.856320493484434,-2.7153184922028992,3.380241963715649,-1.6912185032476676,-2.7136379019638923,5.187457762944867,-3.1171734039316994,-0.3808460095101295,4.609939754285811,-2.32449994936816,-0.6669323472740167,3.1468168885007577,0.7263623054380188,0.26961891458073844,-0.744251780328633,-2.2542095755920535,-2.1214846854148544,-2.152716547890538,5.390863871529367,-2.6637175498395296,-0.32410701213743304,-1.780165319996324,-1.0578948114207212,2.63821145539448,-3.1438581241476413,1.7129514006066429,-2.9452290394708913,-2.4685927384929225,2.6686476740600193,3.8988450415760183,-3.4200568046965594,-2.919082947575542,-3.3872503664931832,3.767026645608885,-2.05669409307455,-3.178318972444014,1.4826951326878524,0.7025992111365476,5.2208726980904565,-2.8655882209891796,6.16346575850148,-0.07435316507233852,7.26161584409616,3.5857474659229687,-2.9660606615084775,-0.4340551918655081,4.663618226411483,-0.018771430380159264,1.4278642159695527,0.355329914012004,2.8091294588548696,-2.9645708017517767,-3.8229878065065055,4.789300315497054,1.3551636656669919,1.72705550270554,3.3150431928023307,2.530080252277639,-0.20183698292780577,-1.6551776708698536,-3.172636093914957,4.644610732543509,6.289903164945487,-2.6654205078352566,0.871752035961533,-2.5250686834186395,-3.4562530883899183,-3.041081186038359,-0.32410701213743304,3.1007590711310375,-3.3437112747959317,-2.6727988269527754,0.12727435281433747,4.851878262236482,-1.2827150200601973,-3.1975876396607257,-2.967012923402891,-3.057841974076726,0.3811917241676128,-3.156007158136824,4.002605269300495,0.28909123660750313,-2.6034435370376903,-2.6898746893149523,4.469984692891356,2.595940582045646,3.5693242613987692,-3.2583315679653397,-2.5044800536506195,1.96463816086604,-2.413974481632813,2.4738849369181377,2.765789059712605,3.6599476964511264,0.2385835352730781,3.4695190257701887,-0.6607313969461575,-2.725371972861207,6.03255399228807,0.3200716942712789,-3.114597468074988,-3.1241699175034743,1.0569464038200327,-2.550830628458788,-4.174689757562758,-3.177568247609482,5.945353249395177,1.4257948223838313,5.794609063640297,-2.943714602437431,0.16507314101976053,0.62954904675769,-0.6689855232359113,2.090149968117062,-2.3147189220772995,3.566295760749447,-3.619599365590144,-3.8511239725112243,-3.031088175844038,-3.416940708502551,5.1219959861658495,1.189382097850904,4.007682736985418,1.4830307997895864,-1.238572789076523,0.15636709345272518,-2.6179598238678015,-3.5217843278550656,-3.336728931013774,-1.3455376313728975,-0.28408604677635607,0.008779292196595088,-0.6359282966952561,-2.642330807306772,1.7767108786711563,4.008437801936627,-1.165456908875739,-3.5065273311652008,-1.2574323371376739,3.53451855564167,-4.452526102870816,3.6949031455453856,-2.990251811612192,2.5340421491785996,4.558115260303507,-3.584274009282441,1.2030552492700497,-0.408099391677614,3.686587896299851,-2.9750933753146263,-3.557235395935033,-3.1296256285108277,-2.897174964163566,-2.8361346072213665,-1.7961532401262048,4.524798994423874,5.35170243557032,-3.4804873469694604,-3.956293647894289,4.002605269300495,-1.6823296765405344,-3.1731666834366012,2.871225979983159,-3.1039618773122832,-2.4095897736651875,-3.3323999146401784,-2.743745616075734,0.40385093791019827,4.402413112656961,-3.232039964883266,-2.8803686848446284,4.284547866710433,-2.796434859093919,-1.784190625925995,-3.694194404551516,1.729630390605948,4.836360400024493,4.135667210947691,-2.03826341420567,0.37795527490439296,4.236751273140142,2.805234586635308,6.1893276633248755,-3.4797882644181013,-2.3881609746962416,-3.250595446914603,-1.7272320324449537,-2.5268185664866083,4.090085305210084,-1.064966327927378,2.949391468489304,-2.385074946780354,-1.227321007757532,3.5339178140649636,-0.9463448108583252,-4.376657939237515,4.945503014873426,-1.3957950959056127,2.1592012658536013,-2.285009236697752,2.3117383224669172,0.6464861668866124,-2.5806101873397793,2.6689319309398956,-2.3682215864002956,-0.02727129423886622,1.0151883024447919,4.239498578238932,-3.581874043245652,-1.3028114159559774,4.107789895322918,-3.338660371467263,-2.4395472100047413,2.371484873136226,-2.943184547839638,-3.5020217333664037,0.8863913528413266,-3.0967546977437697,6.090705031579964,2.458134969237877,-3.517919490121366,6.042170741110298,2.00725183886995,-3.665268086437,4.230919218524492,2.9658920955592647,5.749301982436721,3.442056724900183,-3.1570081484839294,-3.2214833618070675,7.505861478606134,-1.164009496995228,1.427442047823927,-3.179417037084397,1.451554123466455,-0.51944449178521,-3.2986672099162857,-4.352224234508389,-3.0526180178598725,1.0033680898117971,-1.6647736918651876,-3.4414519778523047,-2.017725509485926,-3.082005525917259,5.107015732429869,-2.324850139692475,3.266807896524996,-2.858090952038204,3.9369079108339426,-2.9529204842719445,-1.364669869731607,-3.3119154881647974,-3.0900934678026215,1.0852115623777037,3.7740800138402375,2.3033264094175605,3.196057548717036,1.4432606238383794,-2.7159208015840677,-0.02727129423886622,-0.3808460095101295,0.09680087753203939,-3.335687688814708,-2.841642487202722,3.46440834660369,1.028964825780089,5.211771004329899,-0.7655502072358298,-2.4783497253683002,-2.456341983764635,6.173718288682825,-3.937052395934114,-3.607736503610758,2.406469786947336,-3.26083613830198,-2.8779623398707344,1.5428321679767345,1.4356487790583712,-3.016440486775268,0.674128028856107,-2.5183062838441073,-1.8396610072055557,-2.945172640015901,5.336377137416789,-1.7484177712479159,3.19073254670274,0.12249093146285446,-1.1072456342754418,-3.0291530413909373,-4.276415853530264,3.656127006949816,-2.0123213423646376,-3.475920170451509,-3.022460216689633,-0.04766301615504199,-3.3921724470297985,1.0981209943914296,-3.2594007281728574,-3.6040194370085,2.1634969471248677,0.020661810108938305,2.817611953891146,-3.279328295945516,-3.331230709392563,-3.678173921199966,-2.6244930870860674,-3.559896621565661,-2.1179337812684054,1.5937298733973422,-2.790826894907578,-3.3892760442502397,2.427145828928128,5.892194311455616,-3.0815047073483828,5.1219639316773815,3.9799979367736937,-1.5747933114112571,1.6209329826369039,0.2627549084256265,-3.3112933462720493,3.6853891712421425,-3.324049673759405,4.638039981146671,-3.417391892344081,-3.382155440503091,1.6827885966442737,3.803482097202007,2.078826766768991,3.0789517267447075,1.382645078844937,-3.489197605427043,-1.8482211183493833,4.307337000620701,1.2821354612369644,-0.6615298166742226,7.169984353920299,0.3348324201450646,-3.3471627253887832,-3.4414519778523047,-0.9961791310879176,0.9085675875181034,4.138728363822109,-3.0107750188684594,5.310063863686757,0.491775201388459,-3.2469936489677846,-2.2679919525012977,-2.9749858136687353,2.310173446073289,-3.0636117614429352,-2.921643197047779,-2.1451313887017784,-3.2838333555142736,2.385405943449583,-3.030283038958911,-4.151993778026581,-3.5286756379381035,-0.5131252480720642,-3.336728931013774,-3.1258447711589206,-3.123988610797904,0.03248859471925163,2.65418554903488,-2.0953213992342583,1.2169426067702387,5.7417196200512395,-1.5813637866694392,3.3498655888877034,-1.097042501424079,1.2691384548008018,3.841775251262686,-2.597703631115803,-3.160720885354013,-3.3027400462923304,-2.5418864421430336,-3.221717890948761,3.1471114793922563,-2.5004962709029988,-0.5401859367042678,-1.2210818042975056,-3.292914588915552,-2.754455599938441,-1.800369466065116,-3.3182079558476,-0.7539688805774557,-2.6996489553030405,1.588909475819102,3.967541070582459,-0.5304634415096114,2.035310085329525,3.0516839739125317,-2.7534611310767936,4.7369331395753465,6.791680892187713,-0.5448556866586066,-3.1164064926090935,-3.057841974076726,-3.8270785442634474,4.591834997872892,5.7107963061001685,-3.8997843048083842,7.54701232340907,2.153587489977231,-3.339265368339171,3.0872907977911135,5.357913068228911,-0.11084341423472147,1.9835403505208327,2.8008512948393665,-2.9494269724475153,-2.4879590012315136,1.1601526790932146,-0.6792017470356478,-2.7444505592011446,-3.5698325856114956,-3.376682782860193,-1.4336689517995231,-2.642596081078424,-3.2838333555142736,-2.8341967614585615,-2.7844678501166333,-2.21746458465661,5.185203874234866,-3.2506037241033217,0.11825832632550323,1.7522944770751727,2.0263055662883294,-2.7593988838463854,-0.29236631432082744,1.8293602588071112,-2.2171576397257833,7.333330716180189,-1.4774781516979127,-0.7622574453899117,3.887449497204762,1.2562381070157482,3.9607178891641612,-2.0426826565238603,5.107015732429869,-2.543508559367342,2.7958021043376897,4.654679249124011,-3.4075767455894703,-0.244555409517383,0.7335234869968672,4.576203711296712,-3.1814016321417786,1.3587750494413544,-3.4974206631257627,-3.2929822813611156,2.288194652105054,-3.233757709525084,-0.3477703014260454,0.07480500946801448,-0.8567146752007552,-2.9045679302273064,-2.9254486980640375,-1.4336511866152717,-1.42296326920811,2.304207529960789,3.9914180767910517,0.9413854930089955,0.7676625549258937,-3.553780668822051,-1.4097665300389788,4.540370116812754,-1.5554292352570125,4.923811264869144,0.34170916099421655,1.123442310047889,0.710049337369723,-2.2451316813201347,3.024331058228229,2.135010327195813,1.940622738600487,-3.410456244421944,-2.618766055066027,-1.106379230735339,2.086330557117328,-2.4879590012315136,2.831616026243815,3.0676490934240817,3.7445332078192783,-1.888423300151754,1.6262284327593366,-2.1265100880252534,2.589379270368645,-1.0060743572282171,5.746590106020546,-0.9875797122458371,4.862083042429967,-2.974084058460574,-3.264485925833572,1.8213680855331065,5.619864678428673,-3.4586644768904873,3.487182864600137,-0.45877367816851927,4.081493760389502,-1.8888232072386693,-3.213028868730398,2.8604053045697215,0.3366778000119673,4.753718063733038,-1.1956272707963844,0.5012907593017739,2.7849498147523493,-1.0399613359563835,-1.5514930086469558,-3.071417040057275,-1.213102147514888,-2.2480363426451837,3.6065171597868426,-0.7465314262551936,-3.0592908678715767,-3.1503256246732656,-1.5954454440444723,-1.0420172054189638,4.877248458639978,1.2863256557044076,-3.087626165182202,4.4290778753860325,-2.247291622224135,-3.2234825464415144,-3.7791158920435968,-2.998882481202293,-2.6184085162808803,-0.22695827302036406,-1.7881681980451136,4.133235117841016,-2.1999842458782224,1.4491806610204594,5.878150219300862,-2.294759318414801,6.037522943992592,-2.6488459758231504,4.900669425774228,1.9012746820251547,2.87824134228599,-0.6526005817018791,-1.1579398852341427,1.2595946224044483,-3.648587578455599,-2.8086902935754385,-3.6312314563142847,-0.7562447619871236,-3.5973154874924607,-2.2982128306229583,-1.0104487075837219,-3.1580742411356217,2.919195258897549,-2.5348119420254505,-3.6668191053607493,-2.9502891000699734,-2.203376679005252,-2.084303891928572,-0.744251780328633,-3.411317576541833,-1.8342864439179867,-3.0230131519414725,-3.1577867507069417,6.183301977585571,1.1128201359870296,-0.24131277971171036,-2.0800319816151447,-2.709677738785034,7.875809198645555,4.9882904336211356,-2.8949046561008758,0.44667017318176583,-2.8495238344582337,-2.9509614686060317,-3.647405613101159,-2.9247558855118303,-2.8804424274551197,-2.873150193762678,1.395683122708806,3.0308266603361442,0.018787117353394472,-2.850062734713869,-2.389975684592021,-2.4685927384929225,-4.237943746996861,-2.9059487724122457,3.3577602503136386,-1.1327569673385784,-0.5888579930205164,-3.423701550639653,-4.276415853530264,2.5401866318390782,-1.5824163993390805,-4.329212717836838,-0.8717237507327629,-2.9608971108338498,-0.8846046732987021,-0.754551359120599,-2.0354641116288077,2.7799272342066432,-3.210797098800846,3.343202739768198,-3.2977878810155086,3.7780990516381046,4.590943858746923,-3.176829068722482,-2.4306557849400092,2.752705672803699,1.8181334389099557,2.87824134228599,-1.7126866197707797,4.871265463772025,-4.246903958181924,4.789508795443557,0.19661692603187617,3.074510631612116,2.3532146501607616,2.65418554903488,3.268667968287839,2.1003229798131886,-0.16264437807094753,6.432611447387768,-2.2885075680735087,7.981101917750409,-1.527693550385751,2.6569506301490637,0.6524117854207026,5.674763146937255,-3.363343890945556,2.938103436408267,-1.9507766986718367,-0.907599164277724,-0.4758353584222735,-1.6530736361453766,-1.164009496995228,3.200152210324249,-2.5398154209902013,0.10898667354302387,-3.5286756379381035,3.0411880597031926,-2.409525457604002,-2.7233956851297343,-2.4735472718072797,-2.9659145881038977,-3.139363774412895,-3.3798863536071297,-1.9974244847057843,2.588195316599779,-0.2113996637096336,2.7050905695235157,1.6894583232635274,0.491775201388459,-4.280725773372274,2.721657640629849,1.627036041985135,-2.330227895799335,1.7985133253067311,1.8629667885437193,6.326380808728994,0.32411187409712583,-1.3024837314694986,2.5735318053320775,1.117047347631472,6.177501986993125,6.070943396074208,4.235269224527958,2.4604270622766324,0.1652867948530452,1.982095054646126,-0.9832616175801864,-2.7289988227891135,-2.589584056612531,-2.0077361818915063,-2.696286281048469,-3.274393543733282,1.1214437052236703,3.763664834531944,1.0573627018400251,0.33802206176233524,2.424946466517058,4.898404879194282,-2.1126584266182062,3.803482097202007,-2.5941052418497788,0.01228860509790915,0.8775302653080163,-2.790826894907578,-3.5812927332477855,1.5680073244776986,-2.442598476942773,0.9042374639909684,-1.7507743170054944,4.244638284720895,4.194375924036109,-3.1538027565490347,3.1951674767315548,-3.535174798142826,1.0550698980852116,1.6895230324826653,-3.6174043988383717,6.232003978491924,-2.9008887953081777,-2.5268185664866083,4.6096122500242265,4.092858912659083,-2.1269629698448567,3.5665316851350606,-3.507191667483532,-1.252320306949667,-0.07435316507233852,-2.4639512108888204,3.1561189800147713,5.847939663337868,3.74784118347474,-0.10622396481273039,-3.7065067409259402,3.112619672599628,2.1884708137974904,-3.206630788220551,-3.2704886882071458,-2.4611312507850034,3.275612987414284,4.8610782067345735,-3.106267576496441,3.334412644566668,-3.1973198679832793,3.579279173850706,4.1385171683727515,-0.23080348138080634,3.0411880597031926,6.28863356328753,4.000644760420565,3.0692103523193963,1.7909872663924584,1.228496058909278,-2.548098445025439,-2.1902150539715444,-2.934668381327765,-0.13830178189762704,4.070361504639443,-2.6063427540190593,2.7839744856960653,-1.3976363711548203,4.883257310382432,4.67967981856993,-1.455879935805207,-0.43225992681086395,1.774612746912642,4.378118423620103,-0.2671691505659185,-3.2312840098411817,-3.256944333250624,-3.5764730880189592,-2.365590486279089,2.527310369013412,-2.9930956650236378,4.3399833275018285,3.4178325478611447,-3.3519665223782598,-3.3756694132063094,-3.393590147003441,-3.2523030723915323,-3.183760936177427,-3.58478862139791,1.4799040789858133,-0.3264506661368887,-1.0767845093866937,4.314991401774063,3.419588779306785,-2.354814658312998,-1.8255675849712998,-1.3086359030400627,-0.5520441402524844,1.184587491423106,2.1218507825114115,4.670086000238846,-3.0939799243934853,0.37004959420754563,-3.1086062878026435,-2.3722876456166526,4.594394472625466,4.868119656455725,-1.230503713438528,-2.0893581542154362,-0.14622664724162898,0.6714030065979465,4.093232996846119,-2.23997414450756,-3.022024479742735,2.1442260176085792,1.7310179282654177,4.832467122234142,0.07295134432304161,-3.720257339080075,0.656392032659486,0.8817716521656827,-3.230346842005589,5.3861695323954715,-3.1007635884376654,1.1449995402312758,-1.7881681980451136,6.037522943992592,3.9119131725190477,2.444975248549435,-3.9014899754285364,3.3889650689194464,-3.46035615570612,-2.9021634057590213,0.9143802709946982,-0.3786547792236337,-3.16654875365685,-3.603003011423984,3.4796589061203855,-1.2074889277770764,4.841206404148473,-2.7032326894962133,1.0421940565310872,-2.896380356563372,-0.7433328802385369,-2.642330807306772,-3.0764809600925735,2.990275807530121,6.542144214002231,3.2822973559233484,0.8944382360170253,-1.4774235297051153,-3.587311360466699,-0.8353460546996524,0.26961891458073844,6.396467133455027,-3.439777111583671,0.1273495681554062,3.7092245204930685,-2.9651773756942994,0.23765833813662207,-3.5262183414872976,3.648697051933023,-3.350006594824836,-2.3289937374641614,-2.9972144527069213,-1.1237064110365163,-0.9503491951884838,-0.46916258104263653,-0.7398378242335779,-4.3631042554421455,0.47933899850728123,-2.8760497588134513,3.6662974415539176,2.0223563746752546,-3.0840776741962443,-2.59717258544153,1.9966934168234975,6.02041656924155,-0.7359814366731633,-2.4379595304107906,4.377373073078288,-2.8762006450754636,-2.6005012268005796,-2.682855088418638,-3.831152026554995,-3.2439699556393267,6.177501986993125,5.509742310532107,-2.9018213270288378,-3.2795544154363463,-0.6134463997782371,2.728902114338989,-3.038089075443403,-1.41097808963091,3.5448133186155957,-3.6540409687175845,2.6686476740600193,2.2932099905843715,2.2340728637862766,4.992529256841307,-1.0181185017337533,-2.9206846947790837,2.749966464378005,-1.6068234531811658,2.1262725948422943,0.2420027738531236,-2.0939699027992282,4.574244396447714,4.261207927671117,-3.1093732254607076,-2.703185647093827,-1.2118088092277355,3.8851574503651394,2.988814042801974,2.1701244992554103,-2.0970558284943897,5.912877462237257,2.539451555679431,1.774323999600099,4.877248458639978,-0.44148057956409303,4.934509540343117,-2.924026905404105,3.798455260116067,-2.283617015169352,-2.9826203259693487,5.389033442033972,-0.3627874050538482,3.9287648188579714,5.789040493416546,3.3498655888877034,2.9829581323742285,2.579917046410511,-2.1315906960119624,1.7413377658430216,-3.43526343703341,2.7839744856960653,-3.177626537069817,2.3996890185117894,4.077572074945055,1.531132608055258,0.9056134684405914,1.5291528757834922,0.7898919841404819,4.032593327723235,7.80069222754825,-2.46344808170779,2.336026945516582,1.1746614552917327,-1.0652229531806374,-2.6890882011739983,0.9345100725791422,-2.999319117918187,-2.8862980821943465,-2.3568647854439124,-3.152078469433678,-3.3440092752426374,-3.630386525739132,0.9067487743325328,1.1091867773819497,-2.7643514461626664,-0.8759442326213323,3.4824858549358515,-0.01300542706330379,-2.4959382669344348,-2.0675833443023333,-2.131908219538617,1.616853789886536,5.950961478514002,-2.6895496874059264,-3.20831292512408,0.2905823298520833,3.7458639360970802,-3.7870807991145417,-3.1825563411227518,0.2906950390103349,4.654719039052279,3.220260321449013,5.278830901511889,-2.1269629698448567,-2.7862514933023035,1.9850983422337036,-3.2708422040646834,-3.464578778355694,-3.1047593233581625,2.805234586635308,6.633135272015827,-0.37952194302223446,4.599673793501378,7.6659374794979716,4.499460033865226,-3.287102354757788,6.191945080139134,-3.470875179098079,-0.811693995058588,1.5831408737660602,-2.3401391953130957,-2.696286281048469,3.8676890346202546,-2.9750933753146263,1.7424545129332683,-0.7988727944365079,1.8199127801295132,5.573456929587623,0.7599342540791434,-3.1971921397764493,-1.5671884940763052,0.6476431162265616,1.9365777710152157,4.8610782067345735,-3.471479151283424,-3.598538679774092,6.974121669901523,-1.8633170149291771,-2.068585459626942,-2.565201532056201,-3.296765823015846,0.5557672456166153,4.7766362074276785,-0.6508086892193742,-3.241727105927486,-1.75947439099917,-2.839940199819671,-3.221167986779656,1.0266844600399723,-2.6141325614166098,-3.1883121936613104,1.5905851082314415,-2.417177841161319,-3.3065128953629186,-2.709460189897209,3.0172033680380426,5.251228909985502,6.086739632689262,2.7071125080937497,-3.2122094221616098,4.851878262236482,-0.7955831567777213,-2.9624134102411523,-3.1368789928208938,-2.562535002584304,0.5489569806493523,1.2518621915439705,-3.4665887144496548,-2.6427869200802796,3.17457741054704,-2.897776011393704,-2.377088065760139,-2.0754051563630074,3.655998498970035,-0.40125864158729246,0.6564651328429444,4.7766362074276785,-3.9135536700157973,5.840061518637089,-3.092917120354715,-3.375322129964412,2.3296818267976622,-1.57516488827385,-0.9509709957384803,3.0954370729086556,2.665428873538185,0.5541320493335254,2.264546736299566,1.6335073238559947,-3.2790847806859467,0.23312487365977322,-3.5436938140039946,6.067725878107911,4.231519496086461,-2.7825840385828595,2.208929623690449,-3.177626537069817,3.906120612976746,1.054639379750816,-2.522377729500061,0.0025204262471190822,6.981165397226311,4.268115637768398,-3.8001717254179073,-0.9663131029029527,-3.315016525382736,2.654558689453073,-1.2836564476264258,3.854512059018333,-3.0904086783701277,5.927949593831089,1.366945346470085,-3.5024027546355505,4.285081794939921,-3.2225123324599694,3.9549312640564662,5.196418147737382,-2.3391289784004687,1.8213680855331065,-3.311608366284842,-2.499731390576529,0.17982544491389507,1.1349934284052787,2.0180716986533693,-3.5951865546578974,1.8821046944417636,7.270456209899201,-0.3647789339147621,-1.0465840035375291,-1.4944900624149169,-3.117794722559221,3.9225531421215503,-2.3692935317412114,-2.294759318414801,0.30543217460516503,-1.4110056418188561,2.8361611341019244,3.3329866614339694,-3.3937786359385735,5.674763146937255,-3.384281628847897,3.3074190585042467,-2.8701290778709825,0.354377765027903,-2.279185501968881,-0.28086775439845635,1.6213548932979722,-2.694262991043187,-1.7789241949425023,-1.8030083577834841,-0.8698764881430503,-1.3896635866009805,2.616072538919948,-3.5251420916532874,-2.741758477528566,3.4140265355394863,0.895396133286941,-3.7909744339892346,-2.8419321611816586,5.629321931775666,6.26863570434609,-1.4284229844479552,-3.3438036240078413,3.781003967792643,-2.6637175498395296,-1.1475456211743367,1.0569464038200327,-2.674654031090079,-3.1739212830311114,-2.5332227668673095,3.6821387212705488,-2.917822404125992,-2.036177210475095,-0.48572168336141347,-0.8299162021167265,-3.248653136239424,2.505751690433886,3.5570035780341307,-3.4388609901745686,6.305694451115932,-0.992198236082983,-3.552618562615026,-0.9176028594855338,3.2023509021836074,3.186379868087245,2.757069625693533,-1.1410792128953313,-0.48572168336141347,-0.02063750143135567,2.7133007170269123,-1.8631123442247948,0.5696028445475113,-2.0720699144413675,-3.420827764433728,3.0799425466447024,3.0765429179774566,-2.9593655633361253,-2.8341967614585615,3.8728999359679843,-0.9363101581537133,-3.137404090892584,-1.4832614127428834,-3.7648291863310632,0.13091571105798888,-3.0924092860634667,7.283072098190691,-0.451640766527293,-1.4762438272884464,1.7026533784537214,-3.040176301870434,-3.4936233217530774,-3.2349298646170674,-2.9621294830801213,2.3988650803753724,-2.218459938466635,-2.9816696894337555,5.071847838709031,3.544856502399714,-1.7572210239953427,-1.490691207378557,-2.7754325363531813,1.4432606238383794,-1.455879935805207,1.1668383743821495,1.9850392592821682,3.993879969410136,-2.183839258317399,1.6474729146834421,-1.483473130889288,-3.0526180178598725,2.2919507212971224,0.253073091767535,5.390863871529367,-2.5770920023522454,-2.9049834274487463,-2.258254154941546,-0.7537676680615474,1.3386678273133812,3.2736208550992068,5.289669010590252,-1.7077277859942173,-2.422212700036001,0.7155081270081911,-3.060325847085806,3.841775251262686,-2.3353041998929385,-2.909005634291415,-3.465740880512839,3.200069457398131,-3.2195060913029656,-2.94443152365263,1.9941284514597035,1.7255500880117935,-2.609481279062394,-0.6598823996026981,-3.3178989371244536,-2.643818690582637,-3.0528946247048685,-2.212984684063887,-3.229991996799108,-3.1464763707408525,1.335108339471123,-1.7727400626097292,5.587810889963814,-3.376682782860193,-2.5254735957039274,-3.4895572710475613,-3.468002645250445,3.20425496459102,1.255168644920563,-1.6386005067757496,-4.12246354432922,-3.0097065454265945,-3.4277708369032203,-3.7530461280503307,1.7672563924913964,4.308936479657096,2.1368548173609927,4.662413220067193,2.012720773071473,1.8629667885437193,-1.1253708271421732,0.6673958767784403,2.0043450092608084,-3.559825584356034,8.085412787866426,-3.2790847806859467,4.64900739620722,5.328255329116777,-3.5285662188585247,-2.8071222858023552,7.270456209899201,0.20003220295389484,-2.919940481301282,-1.7465623837790696,3.2281320177698554,1.8073951159801922,1.834485157595726,-1.56390527607014,-0.8660734017289692,-2.9630890304491904,1.8739905981058331,-3.1768362932706107,-3.3953168399062608,4.095026754142874,-0.9500554517654155,7.202962608440158,4.481604509484251,-3.602925646029543,0.16275577237859856,0.16174543381685938,-3.1224849421435694,0.10382963378267125,-2.8410130705693075,8.146030394677409,2.1873505070692576,-2.860529562610835,-3.517919490121366,-2.6985328216466993,-3.6504506004908746,-3.016140395117195,-1.1670668808219835,-3.3407369772262854,1.386549977050079,6.238942378549613,-3.4299623947176827,-1.1876251580227895,7.80069222754825,-2.679794156091064,-2.114554940085918,4.107593018611598,0.869466209821601,-1.6211439986405514,4.364487280755558,4.272919182620709,2.514822200947407,0.946579333229579,3.9051221572614225,-1.308297882480957,3.0360115651341433,-1.0711445943933602,-3.5843928167083647,-0.00633336839349377,-3.4666705149447594,-3.022460216689633,-2.814702725802586,4.968722767250052,-0.7126221773669692,4.30110457165165,-1.4772624492915543,-3.345708544845526,3.035675976098283,-2.4199048800045295,-2.105609682060573,-1.169830934659471,3.4026024769592285,-2.7125753617934745,-1.3074502159538055,4.401375758104646,5.684290519097643,3.0594860836151594,-0.5663133768710097,3.5479989905371387,-1.9790341781534255,-2.6272587681025716,-1.4790742035515498,-0.8169607503897195,-0.5645938749013109,0.8021286541754341,-2.3441762475876247,-3.6815746375357823,-2.442598476942773,-2.8919368612258145,0.28909123660750313,1.262496301797565,3.781003967792643,3.7270915898499637,3.615545644361453,-3.5360055477504346,-0.9249790139768924,4.506385538415744,2.6910203467374596,-2.574896106613511,1.5088139831784821,5.397556825826074,-2.9517415029904344,-0.4829384968724859,-3.322942053033577,-1.3074030993893506,2.737552163452312,0.053488562616846314,3.088277660201935,-0.6643075982922544,-3.2123773722935014,-2.1126584266182062,-0.7485739912824825,-1.2791025409913017,-2.905416770043609,-4.329212717836838,-0.08270980998886297,1.4483554637610754,-0.9382520706052494,-1.740417436362238,-2.68388127434619,-0.9200378846690475,-1.5859880903546224,-2.328441483962682,-3.342444074103367,5.534688559401202,-3.8001717254179073,-3.4574065513134644,4.000644760420565,-1.6360836268677883,-2.5009669342410175,-3.2042725702308914,-2.955865275155836,-3.1783483210923325,0.6308134554417814,-3.6276684972533775,-2.9318427345456395,1.4432606238383794,-0.8734252293556045,-1.7017398944632736,0.8817716521656827,-1.9264199088436804,-0.8604978570045895,0.0341272311454725,-3.0307299874033617,-1.213102147514888,1.8068804596635764,0.028194431790710742,-2.6670867760094383,1.540472809545419,4.230919218524492,-3.6912975484163284,5.415518288263667,-2.2536646511098795,0.23887896987200616,-2.279185501968881,-0.46846509531006086,-3.925733827877242,-3.4587441622532746,-4.443469095126545,3.416190744009557,2.310173446073289,-2.693498677377323,-2.4735472718072797,-2.8187234202263194,-3.456309529965987,-3.364632644293358,-3.2727657900990366,0.49663457054442567,-3.375322129964412,-3.1812459755167364,4.8812947317600335,-3.359978435442967,-1.3255859545492605,-3.6214940659310826,-1.7017398944632736,-2.874401865924719,-1.2002130833698261,-2.4379595304107906,-3.227968671294397,-3.563554335933014,-2.9411909515703902,5.792849410571657,7.838739884355566,0.14134959921109697,3.6055682385010814,1.0678013548195737,3.072267228550142,0.5992391540210117,-1.7578505018679835,3.451536785247291,4.542092997661276,-2.962916207100779,0.17097516680916724,2.7071125080937497,-1.7224441395298922,-3.185507450060232,8.106643363151914,1.1063633338753909,0.3384908027606678,0.900902301522002,-2.924026905404105,-3.209523345857111,-3.35770305848834,1.7296874511096374,-0.13333463059970743,4.8610782067345735,-3.341710274450111,3.1846315546360993,-3.3714597754270446,-2.4563372391918477,-2.6688844333197626,3.4061153086009393,2.346411218569997,-2.0970575575478967,3.9051221572614225,-1.9325216129619953,-1.1157848147579674,1.6533129000512319,3.7092245204930685,1.395683122708806,-3.5348453280985144,-3.301270585328207,3.3922986277449554,1.7914230460171612,3.6889019517141053,-1.4285462302121739,5.196288547612697,-1.0799606341377006,0.698226027786091,-2.2460790495640004,8.823870350144622,0.0038652840671891935,-2.811452624802138,4.2920225577757165,-3.062099297061996,0.8362499309123974,3.2411561184213364,3.994311047770416,-1.1523925523359637,-3.1812459755167364,-0.8611697834331271,-0.4049315625584502,2.6252011062856204,1.7052783983131574,-0.029066620115505107,3.109817219571098,4.171640310493578,1.4619274472021626,3.7458639360970802,-2.921643197047779,4.242193935604171,5.23287662676376,-2.1211763557030343,-1.2158031472996442,0.8636819628097798,-2.6488459758231504,-2.841401351542045,-2.587682963292003,5.006874952167838,5.346095547568116,-2.6768565953512486,-3.1164064926090935,-4.218651197915376,-0.17469153341127347,4.554204365196182,-2.9998491414083706,5.402121138964915,-2.5780107898321356,2.2490535021806184,-1.8255465163697078,1.5768578985370352,-2.6736465922058708,-2.820543098382155,-2.159149795282895,-3.668573801006788,3.249791861001247,1.1528711708684205,2.00298259081158,-2.936670380662226,1.4798946751439372,4.149869187207219,-3.645724391628989,0.7141753694396156,-2.8779623398707344,-2.2251617415569025,-1.4823094544341968,1.0639239383916501,-3.638769960084773,-1.6616870870746836,1.6454595239016305,2.621267514909408,3.17457741054704,2.938103436408267,-3.620883020179623,-2.083489719706953,-3.348819751894325,-3.580477024657511,2.683823666388511,-2.4379595304107906,-1.230503713438528,-3.5666998101656247,3.2414826405323307,-2.9118470985092513,-0.48193424653918027,2.340426832152451,2.099206216930497,-0.4837555539575544,0.08577295564520751,5.187457762944867,-3.4665887144496548,7.531068703032598,-3.291901086918546,-0.8611697834331271,-1.731731103772397,-2.725073290278012,4.6732040968409825,-1.888423300151754,0.030988298899276102,-4.304165228836769,2.5843327729573775,2.3887288541559664,-2.2450478182060496,3.348755675972945,-3.031088175844038,-2.21807252028333,0.2564456139544072,-2.218444429143348,5.280840929691382,-2.218459938466635,2.7339728289391774,-3.4403615569948265,-1.308297882480957,-2.0267786364499196,-0.6406241482138871,-3.58478862139791,-1.631184476910789,3.2416543718067214,-2.73052766053521,-0.13197600350488434,7.861734549780566,2.9905371213180727,-3.1776155282858474,-3.5472575609787866,-3.3945510491759965,2.53689027774021,0.15915441709767164,-0.851576146390279,0.23312487365977322,3.9799979367736937,-2.7458647552749476,4.421584698390461,-1.9276723777351499,-3.4461977997096076,2.2564735255268937,-3.4871605080104366,-1.0417600416643396,-0.9249790139768924,1.941820859128173,-1.8481098866231218,-3.011000348814471,3.887449497204762,-1.0008444364674383,-1.8377761230581264,-1.595332956096618,1.6616004264122688,1.3323808822871672,-2.885957562096844,-2.836462994754329,3.200152210324249,-1.8002341459836553,-2.7007769744883117,-3.631199275138085,-0.6615298166742226,0.3135227904718814,0.2725470517690138,3.15049084026617,-3.2173089956344354,-3.308166508588369,-3.4615762067983846,3.7010509471322237,-0.45141073387854264,-3.2583315679653397,1.7954142480984119,-2.380940359210941,-0.7231789918652123,2.125665864276174,3.227395056679505,-2.350312295411426,-2.765808696404886,4.220995109650718,-2.8610074272409642,6.090177608959146,-2.8770539408506552,-3.073329030216203,-1.2743839138372106,1.7566214326792016,0.7004032278915056,5.48820365815045,-0.920978144894395,-2.7436275774348133,1.7377037369642756,-3.0033327638641043,-2.1179337812684054,-2.874576653355882,0.8629899016386735,-2.837803545985139,2.752705672803699,4.662413220067193,-0.17300233152380076,4.919185130306001,5.5010534156318975,3.343202739768198,4.79139722694265,-2.044148282670952,-2.02246491672456,-3.5346736176112583,-1.224312041111485,-3.0339291310205505,5.2146000795596334,-2.7592700975499,-3.325300217476706,-3.3452562441756535,-0.9807629527386624,-3.3225692521221193,4.439389024257375,1.6364310664502342,2.322620768885581,3.7445332078192783,0.3793879589759423,2.9331119155324923,-3.715406221229551,-3.3858459224451587,-2.538717312629993,1.8658497516722028,-3.588933227183749,1.7897182138299537,-3.4052410225730676,4.575429995641707,2.758526075096424,-3.3178989371244536,-3.0348937480819957,0.11048979289334565,-2.710413220727677,-2.5074837424769574,3.042580723127756,-1.120948111123704,1.3766617962636492,-1.00789099960462,7.221269135011883,4.839791700361956,-2.4307966128571814,5.576708598051285,-3.117445960230119,-0.6492552464292005,1.66496030240642,-3.6801546835435346,-2.4018840368133514,1.9626060430946382,-3.8188509819674157,6.591748433834745,7.3393488015519255,5.294856904118742,-1.5944719575966393,-2.8497572088681373,-2.043758332439551,-2.8339905533144076,1.4798946751439372,4.585816423392595,-3.195617513049563,-2.4735472718072797,-3.2196925992476344,5.440530002189852,1.3970263032870447,3.0663537688837574,-0.13830178189762704,3.661966582288275,-0.3210149308916314,-3.1645923233603623,-1.4066030912477683,-1.1116398364356692,-1.3781889798241398,4.30868853006374,0.534833601766024,4.789856321470237,-2.6235952120618045,2.871225979983159,2.2799901506671234,6.629732296673096,1.6995507283083628,-0.7562447619871236,-3.2008656672107114,-0.0954605554816334,-3.417391892344081,-3.318403277343536,-2.9719048022014265,-2.2951616441181377,-3.163915409638791,1.5721754548002682,1.5180355833128196,-3.3612384074232424,0.4592672652276535,2.5934107962553967,-3.0146054781223826,2.3295555054752084,-3.170763372924379,3.5479989905371387,-2.4095897736651875,-1.672315054766474,-2.7681800484992376,-1.097042501424079,2.3296818267976622,3.607224431449477,-2.7983924313082484,-2.043758332439551,-2.5250686834186395,-1.4322212600949351,-2.758900515367714,1.6167595853030305,-3.130150260542297,-2.7325916503938807,3.407939469891227,1.5536872999577824,-1.7856630970738014,-2.2022370546646557,-0.3152977390856411,-2.5878440910030664,1.9145123724179203,2.765789059712605,-2.896380356563372,-3.016140395117195,4.927905815924393,-2.6768565953512486,-2.1296565142608856,-3.478735099893589,0.16186414591113082,-2.881315296185321,1.0127942956707658,1.7954142480984119,3.673256673794885,5.078396401272598,-2.200339400835346,-1.3028114159559774,-3.3250097274644324,1.4619274472021626,0.6330756963687236,-3.2986672099162857,4.720960905347403,4.08271269594845,-3.5262183414872976,1.1797550112880255,2.243966780214494,4.494538563346643,3.8421051784789295,-3.634898054862319,1.734954517644591,4.122891997689193,-0.39809977899761007,-3.8384488120151303,1.8552536799795871,-3.3099308372222787,-2.9517415029904344,2.4145481559334727,3.627508600058422,-3.338203971403325,-0.6059965682018568,4.228714020777652,4.5863551838888466,-2.307067614327851,-2.906569626334367,-1.7351088151166978,1.3413104515179848,-1.9913781221080176,-1.935842653475491,-2.914843850270246,4.156202418000005,-0.957038704600734,0.41939927193653204,3.6324847163163,-2.739148961655199,4.806038204430809,-3.205465612196179,2.4477708060937444,-1.336717037990616,3.202763565409462,-4.966834549427241,-2.34208574555268,-0.4595731775616776,-3.4416951516578678,4.848616657630958,-3.615497162074767,3.5990114263149104,3.8259971185744313,3.3320313466315437,3.181887352743184,-3.3075498027019585,-2.3753184827726073,4.133032989854631,0.13409517189024614,1.2175826985608942,-2.9669172333720075,0.17982544491389507,1.8292015998503381,4.506385538415744,0.1569826376973874,-3.2127248534679955,-3.234282390041135,-1.9004893547867665,8.259442368467722,-3.1368126777938934,3.763724334409319,-3.2540625000403263,0.49049900679667985,-2.1773199835026453,-2.6924971170809244,2.2628830854662407,5.975394712135763,2.3050796757781606,2.8794604999618416,4.470564370487031,-3.0029526882628446,-2.0876784836613655,2.4925343955489314,-2.2692886471757374,-0.46993668483990503,-3.134986840400184,4.743735357400368,1.5134598786714926,-0.9887330233029213,5.749301982436721,7.152253838321643,-3.0874124600528385,1.1572082089240403,1.976197502890795,-1.19846812807588,-2.8803686848446284,4.674028157252794,2.9308778988584896,0.2627549084256265,-3.232039964883266,-2.6608224982656745,0.1872276247804191,-2.9850033626899575,-0.8360221368160939,2.539451555679431,2.1558076791278356,-3.0150109647971326,-2.31321190814989,-3.140764397809372,4.540497596752356,3.7528518291906288,4.654719039052279,4.60415791815832,1.922127894413502,0.6974163289977208,-2.3441762475876247,-2.9324007569830792,-1.75947439099917,-3.673807275622875,-2.40341567153239,3.449099855865384,6.55607166348792,5.244670603136041,2.827278497635491,-3.284706005648334,1.6209329826369039,2.822698760298314,3.597306889732222,0.39390072532228765,-2.702584649035133,0.09461596791453183,-3.2303600511441015,-3.68392918075897,2.880863204213034,-3.545347461121326,0.2640188566463537,0.8414960048226973,-2.9813687018049873,-2.8648040657177023,4.827426745920698,-2.91714145188165,-3.2288466635023507,4.407977198389578,-2.41117778893785,3.236002367003583,4.437854660151132,2.4897415812242514,-3.2482764715020487,-2.0970575575478967,-1.340768920847386,0.7384934937386449,3.7235519365629024,4.547643159197222,0.2212522226520655,2.852498112375191,-3.2973975296651585,-0.4994931597895655,5.565731679180512,-2.350312295411426,3.0007187269479805,4.645794906409537,-2.9785158804247973,-2.480526698628614,-2.0806902560621747,5.5520563661460605,1.7868866275212127,3.380430674227349,5.176696754678959,4.0091781026318145,1.1129042904193522,-2.863235016286106,-1.7856630970738014,-0.6056042291341188,-1.9974244847057843,0.8203111150488511,1.4287532927279136,-3.1232720130721714,-2.841491162945265,-3.1540133966190527,-2.403797520993407,-2.7681800484992376,8.01495818165155,-1.6868847618574407,-1.4346216113787846,-2.919082947575542,-2.123981757062996,0.10803771650043553,-2.7312404044167438,0.03109984527774007,5.355998890255403,-1.934451526163857,6.572970267029395,4.541979713121264,-3.88813653393528,4.168536244978057,2.9782725808188224,0.15949263475873796,-1.4102108618063989,-0.2735203959478225,-3.2347839653380484,-3.3751424916143815,-2.336811222821529,-2.4066869584657318,-3.1368789928208938,-2.921736352994896,3.7973247943947417,-0.7409638075680721,-0.5692745740308347,0.8293472285840774,4.745378533062526,-2.4595237260127236,7.298005719002038,2.23232561262967,4.634835547243878,-3.638769960084773,-2.0873322643988153,-3.6229401116741324,-3.7890722190561084,-4.1168750057300505,-2.8655064508352086,-2.7536057405969814,-1.7949979040534412,1.8604803461575887,3.4504923439534436,-2.957171329208585,-3.607736503610758,-2.2565177106394634,1.5138522659458773,-3.169414188830108,2.1012131933427503,1.7560621045217537,-3.3133560172659258,3.5847215858234946,-0.9474372945065677,0.012238106676385608,2.319497497380485,1.2441199245672745,-2.85680221742333,4.738234984487002,1.568767170135866,2.194307191411205,-3.0497471155310003,-2.8586326533069326,-0.577027078660586,-1.7693677531538752,-1.6862239396634309,4.738809461538876,3.808431341828928,3.604214487556325,-3.2085165165424896,-0.38963492807664235,1.619252786404528,-3.375589643278442,-2.9995555146589195,-2.015372120681075,3.3705416657431218,2.683823666388511,2.028519228079029,-2.456341983764635,3.072267228550142,-3.1528337310502748,2.938103436408267,2.213114715278675,-1.5533658219171418,2.704538292675239,-2.541766518283809,-3.133843210736057,-0.04466769663216226,2.3173076859264654,-3.338203971403325,1.6335073238559947,4.055240425025396,0.9322149076139497,-3.3013480813467506,-1.9884597430074373,-2.2556183581274687,-0.6213717393314453,3.994311047770416,2.0263055662883294,2.408926540883063,4.3318934971544945,-2.604375179583211,-2.8527253698312305,-1.3331758432116296,-2.855885431939328,-0.18810443375301716,6.128310692201082,1.5138522659458773,-3.1440794647515222,5.330630416749589,-1.917000535989953,4.595097371621484,2.627794642320676,-3.1689449760039667,2.135010327195813,-3.3106980248545383,2.9943874349363298,-2.317173937206825,-3.183760936177427,-1.6868847618574407,0.9234103976266772,-1.460047519661014,5.901924776198491,-0.1254944797159574,2.0075125825305924,-3.3490417463376407,-1.9655133006913146,-0.7332964262054006,2.0705784827259923,-3.0948658916388045,2.5321832992662054,4.247537054011668,-3.293045256735362,-2.5812562473040885,-3.941998625648529,-2.2873869399630284,1.8990871249583798,-2.7151392742719507,5.587810889963814,0.40385093791019827,4.698937739807881,2.5772911993646637,-4.447982326906363,-3.177568247609482,4.775481532100037,-0.15149596048237587,-2.99112028757281,3.1509623364201653,-0.7166504137898525,-2.0376785255520637,-3.3756694132063094,-1.132592633080577,-2.661761285488303,-3.5293790800135088,-3.3869162111646816,-2.8351948057254117,-2.0447843850386818,1.7190339934708232,4.016233582835486,-3.4972370068326915,-3.3856424176948043,-1.5301005613463243,-2.2019242838859245,-3.2537418634006903,5.057345346017236,-3.0690797875570617,-2.0376785255520637,-3.308166508588369,-2.9957904120145753,-2.5968713826181844,-2.71693308862266,0.9265324715591313,-0.6857145367770993,3.925101226124165,-1.25306221476584,-0.4979001758687118,5.2124944664519575,-3.5880396488575586,-2.952601286532561,3.8421051784789295,4.173119080477207,6.562279626124545,-3.110540742758492,0.41875263853618727,4.180209892064477,2.918105151935762,2.551539781128148,1.5108840806988726,6.802641802491897,5.195053464394363,-0.8886207530557952,0.25647788970057206,-1.3024837314694986,-3.149562437714047,-0.3100857170178909,-1.2002130833698261,-2.7980820450197483,-2.468404386136667,2.975610759244891,2.4356231376915964,4.996920373509171,3.132144216676119,-2.927605753144526,5.15504539082659,-3.2728518463128267,-2.556579140698042,6.644463738296936,3.7604707338632135,-3.794401612733395,-1.772546187923077,0.13776703376330035,-0.624721384517719,-3.4582474716581286,-2.988235076747139,1.2729207394718065,-0.6406241482138871,2.6523202132958326,-2.3441762475876247,-2.690549861543816,2.4405293180300793,-3.0617303828022564,-2.951021196687992,-3.0404264125837406,-0.4507507793528509,4.039246300628563,-3.419610495069644,3.5530201484800195,-3.858295271096764,-3.4855516112377387,-3.229991996799108,4.554204365196182,-3.631199275138085,-1.1383058385584421,0.08966774951349493,4.663618226411483,-3.205044136249559,-3.511315187969241,0.5738497122583112,-0.4829384968724859,-0.5263510866060943,-0.19626036137763453,-3.7964506957482467,-3.2244036138366354,1.736312583321112,-2.4909013104257687,-3.2594007281728574,2.963770343853784,-1.4285462302121739,2.346183834660341,1.8724237725800799,-2.1924799069693672],\"y\":[0.12595514295225643,0.1904217629531811,-0.2624176858149211,-1.5519045578248647,-0.14224385186065389,1.3156185754983138,1.5027911637981533,-0.8649279352301222,-1.3035110181810843,0.798204044535972,-1.7487902778558744,-1.7897140338581705,1.8249735305993653,-2.0275542125317405,-0.32787416929671176,0.9220158693708183,-0.3411944987591978,2.318877223817379,-1.282506971975886,-1.2136937002358152,1.084657325051253,2.3389204600945446,1.3117347277081761,2.790689074166779,-1.5345872799806632,1.4802077547924222,-1.628315165266723,-1.1462893293814773,-2.3641484616158266,-1.6661369580947214,0.516608130336553,3.1118669660451714,-0.6392752283828114,0.548064396422091,2.0084925766049917,-0.8240227841264548,-0.6031883513458911,-0.1884932771423851,0.462479798296503,-1.299373800496309,-0.3114399708105237,-1.1622085245210327,-2.253434124356131,-1.5975197417672478,-0.9455820922652373,4.174792860170558,0.23190722883865805,-0.1971982121111609,-1.237111399090588,-2.3202875830061465,2.4116463431102053,-0.7749497445452681,-1.2749393729730356,-2.285906914209573,1.5116535849628956,-1.6906952154893888,2.012697793398939,2.73811704390244,1.4310064134793727,-0.7547608004642608,-1.5613585901897966,-0.21758010638324113,0.5671635029380361,0.9192719620407183,3.448893265294663,-0.5435250884758378,2.6200370598361746,3.235310730362646,-1.8368564855488132,-1.4765517288797874,-1.0748149116149224,-1.4092648212764858,-2.47946985428901,0.41777905535825277,-0.3041112934193616,-1.461741300740994,-0.6967130224245538,-1.6661369580947214,-1.5226029145086613,0.6033460128435061,1.7460915242784762,1.216907010268167,-2.040795294212153,-0.4823088260063828,-1.7132568411490794,-0.9547101518799916,-1.8301153252602231,2.830277062137683,0.39041029621684353,-0.4338060884979719,-1.31018374174981,0.10990743530707195,-0.22015156030840952,1.1210143226841083,-0.40571846186188354,-1.818002618012953,-1.805773014563672,1.5368149227365349,2.985956764328193,-0.7649139406345572,-1.121152122721723,0.71901787279678,-0.06944642364760115,2.0236426389462157,-1.0965240494187893,0.9615017818944608,0.6063960792015382,-3.2915209549196267,0.5813084582755884,0.21787493630036509,-1.0931614576872961,1.7210410844726993,-1.3313779819048894,-1.0283522529602855,-1.5359825696554468,-1.1050027688540178,-0.970882501021789,-2.2892588947190413,0.6237506266102157,2.3003362417019244,1.4642476487681446,3.326362379309697,-0.7771064378796425,2.1160893550617894,-0.28067021974171497,-1.2261358254022372,1.5116678513110386,-0.5830431967239399,0.4807123783157439,-1.1626488438702802,0.5746616679085587,-0.5195680774773875,1.7123633701188556,-0.7709928506882083,2.476239279966627,-1.3706498448204816,-1.4892721308835686,2.773993221824463,-2.109924914153944,1.746222948682541,1.8467871179031565,1.6276178447880798,-1.1047918212631516,2.7320600452092574,0.17774066559291563,1.2027783182379332,0.9179782614663757,-0.739229195181613,-1.0780884308302274,0.5751848067071164,1.6600251764002043,-0.7258758359260598,-0.7200075277761275,2.099852984683739,1.3787879444660693,-1.0718379140626133,-0.819501068170726,-2.3911939851024147,0.6120447100137322,0.18391712474969585,-1.146710795617342,-0.7298128625064172,0.38529075074033686,-0.7410812334583043,1.872335087850593,0.40688376642234403,0.2454903646852966,0.1240640641688415,-0.4338060884979719,-0.29935402095031466,-1.5224221362032715,0.3539762131744195,-1.9953482978860118,-1.9434109339813888,-1.343955736419063,-0.5948756692215826,1.4179049253896314,-1.1848818846920706,0.5562668585605498,-1.7043037201593865,-0.6526240526962717,-1.083245159378421,1.61878732859606,0.1500977157609865,-0.622134327210201,-1.6543740898202919,-0.9961685881644928,1.4320188339278659,2.062950250129275,-1.7063629066254944,1.954426982833457,-1.0458343804100598,0.3493417428122263,-2.7457131335399554,-1.72648028230165,1.789639886862797,-0.4114488691607598,3.522501804598526,1.014138525615517,-0.9859628295920231,2.959994294215845,3.5578390624317375,-2.1569268041548204,0.8944780459401329,0.04194201429816157,0.11362134212536637,0.8268419889009797,1.4519654734609455,-2.1929189841787395,-1.5825848173242028,2.3977898206718185,-0.21176170227170482,3.4022630701685412,-0.18889823651267554,1.6237804332885897,1.9851868243504414,-1.2938723912471732,-1.960223041989867,2.9151847235420703,-0.10411840501085806,-1.3536669004138993,-2.115372902067838,1.9481621498290491,-1.1829376411806982,-1.7085838672860558,0.9352858288026835,-0.5214180773274456,-0.6835242809746236,0.6773956166847,-1.2283445838771894,-2.3121534081880464,4.142192490063541,0.076352298750271,-0.474710383813273,1.8865868288662364,-1.4131126392961346,2.096474138023988,-1.1406650560063176,-1.5899535990704272,-1.4233292027356803,-0.8805710316595553,2.880935542848576,-1.1714587186262546,2.4118097855468035,0.9172330328829469,0.8926851466946878,0.7597229803418978,-1.545466289296639,3.4265471641328875,-0.30038014852338374,-1.26699745466971,2.2970892130639915,1.1317915464547297,-1.5502027063046357,1.0986879959830376,-2.041450204103434,-1.110960458678412,-0.48618312870491587,-1.2747469042731265,-0.034346572261987104,0.891012009099889,0.8258686530719349,1.61226283189952,-0.2898315423218746,-2.866098274515794,-2.640834291757948,1.6925492245989675,-0.9765236282181055,1.6237804332885897,-0.3411944987591978,0.06063603489885257,-0.10190466691772322,-1.1604882225866893,-0.3314274380466239,4.559205369384939,-1.9166510143894961,0.2680517422065153,-2.432335967293306,-0.5119512220219002,-1.6782578615748345,-0.20485111418995766,-0.08809124807164762,2.9230325628115557,-1.9164242158227351,-1.3543310537004385,-2.117195399122501,2.8191294094577852,0.9458323462802444,1.7134646547635362,-1.7710876519083085,-0.7609664518890427,-0.8337327484697655,-1.4287894657511457,-1.4240253265538187,-1.4690333013712793,1.7191722364497337,-2.0231935553563694,-0.8503078755545446,0.9895652814684174,-0.9050181788398529,1.7989688265454116,0.3318689049390015,0.6193914444655559,-0.8619518291614033,0.5522218837477807,1.0101614505292364,-1.4899450682673117,-0.23356298237442583,2.34030101500613,2.820546680059859,-0.5439822700008317,-0.871455059604415,-1.7065457961260428,0.820791878667785,-0.6609008925235443,-1.7098061936611701,-2.581798710685302,1.6951051718439496,-1.7951783993272001,-1.197875596756702,2.3860935862035455,-0.8923173281268896,-1.1155158967689949,-0.8926566949816396,-1.3618759630471087,-2.155937600705882,2.540761075714667,0.9729573308417938,-1.8956651014207178,-1.5353320926964558,0.3925497340574025,-2.1685771834594636,0.7853416528951774,-2.0433102346252854,1.9741495444663566,-0.7013267430355432,-1.0524741624647305,-1.2968545427564577,2.658325251941611,0.3135142988908927,0.48585981410271817,-1.6495280746878314,-0.5610522030830108,2.3596390513555368,-0.7003217393967172,1.230517387712053,-0.7539521219330613,-1.26699745466971,3.0535468130085786,1.440613113915751,-0.7784427588588458,-1.1674765187837983,-0.6254664700389615,0.9917520166517549,-2.0210482885433607,2.2947558284480163,-1.9158785314168487,2.777064087747908,0.5654004548149308,1.2364818552823424,-2.1626218771215626,-1.5960970458278845,1.6014604731016637,-1.3848181137278621,-0.8538063929222637,-1.8455628493072955,-0.33091656621340976,2.773993221824463,-2.4538721383585314,-1.2237411181627182,1.5306997923215881,2.167117462888885,0.42053781132532886,1.8273620481327568,-2.5703416538522834,-0.9720283230923868,-2.3182427470480937,-0.7650583625328045,1.3255956060372283,-1.165086022668963,1.5195998094442398,-1.354737168951093,-1.5919195163505655,-0.6989716012529366,1.0535352527325,0.03987402163288549,1.1032919041987272,-0.9167590932977195,5.0730304198025715,-0.07666728549033086,-0.7285318191663027,0.9577953557435311,-1.149797441354751,3.284079991296359,-1.0904334221869068,0.6961453688350085,2.8577522687649,-0.39751902553884105,1.2348342542870128,-1.0088335169877012,-1.261978363685824,-1.8819227285600915,-1.8326557084328678,4.00749565064306,-1.3169914184751885,-1.8301153252602231,-1.9448430438306585,-1.5473124384886907,-0.561820340325889,1.8516904781412835,-2.168870323480693,-0.577478596587794,-1.9778591572218267,1.0827468394956796,-1.4086358774150205,1.2139116777067396,5.219732497782442,1.5907746767524868,-1.5004763026484929,-0.303220006899554,1.44687922100044,1.7838684458582401,-0.5947081019518484,-1.3730494863490486,-1.71245789651151,0.39120118054063596,-1.7125335412212819,-1.5960970458278845,-2.180350582903779,-1.7170983239790067,-0.5191128979089126,-2.3484319213269624,-1.1023084780536558,0.7532865692717814,1.8980572325564535,1.8589745363587593,-1.4754043706194973,0.5601700580940523,2.0961166909846938,4.10074594312304,-0.9923923465106663,-0.66582173251984,0.17942487810780694,-1.6765410422758098,0.4453071529264651,-1.000487221394655,0.06546914405999373,-1.5502027063046357,-1.013046439421508,-1.4874544384845505,-0.8683565623362955,-1.2332506182988947,3.002823502293711,1.4239080944362865,1.639365393087753,-1.745453782168791,2.239980406561584,0.17419985255072074,-2.263733329304493,2.3702512191634764,-0.34648256563750096,0.5566221131257467,1.7776047820123706,1.5691539422532346,-1.3335488265658582,-1.4661984837759028,-0.3989330522063348,0.7627837927164319,-0.7812778855230602,-0.39561257872128003,0.7283752447348922,1.578908492936236,-1.6218219861188363,-0.8182521854601605,1.5869159791863332,0.05242024785428768,-0.6631844378421937,1.2774820614663036,0.8232373363728718,1.323463063282552,-1.03699301260525,0.8618918612770554,1.6601897085959367,-0.2693943989478125,1.0437977613392564,-0.46981089230200146,-1.7108002603997066,0.7845482826477191,-0.303220006899554,1.5142142214254246,0.08152292028683968,-1.5960692562124128,-2.061980505752334,2.328005352052272,-0.6461904504451877,0.46926872462328945,2.9955105133795117,-1.5472997168362512,2.036326228508521,-0.8581151474335665,1.3812749044760324,-1.854984307337842,-1.0095635233879208,-1.391448334106453,0.2886477326034412,-1.8390990341511937,-1.503046101965309,-0.004750193020110075,-0.9847859166443027,-1.4028487186397927,-0.519981356615177,-1.828636822803044,-0.760895443559408,2.388454068280466,0.6716882500001643,-0.06952558368566171,2.9963915137782995,0.9396616914909496,-1.389592507153337,1.6213171266217192,-0.5452948972664534,-1.976117782365173,0.2049235726256733,-0.9621947614831252,-0.7660659350343454,0.5081297387072102,-0.47522027164528835,-0.8444246178626066,0.3277665560476129,-1.77687478036642,-2.326878594071742,-1.2453366192231372,0.6003607979808092,-0.1700737521337641,-0.12362100496772843,-1.9564062576250134,0.9332626370924356,-1.3538514086754676,-1.011336945446013,2.5727898438762473,-0.08400486569334327,-2.1730018663147677,-1.7125873228415966,0.6739006642064094,-1.4926945783016996,-2.0957194154464514,1.492343474938252,1.0196865302827467,0.4711080514496934,0.45791809629929575,1.9773118800265903,0.17166964271183616,-0.8370615660690554,0.19872063641818016,1.4440166154919392,0.11586241548953012,-0.6797841740313136,0.30882178081806344,-1.2111040950065632,1.3379558234595248,0.9254425473488078,1.061299816938263,0.49399946033008846,2.1584704891565263,2.084277710077726,2.790689074166779,0.17232884779027605,-1.2955307552721125,-1.5001651351420147,0.4349311866049723,-0.99507931179505,0.6271579401780925,1.9514220461613259,-1.785602809042567,-1.2534315473132722,-2.8619907504887085,-1.6263348955952606,-1.9886069672128843,-1.6974351877542058,-1.0279572810438824,-1.0331225106422581,0.3280058679334904,-1.0794687438868302,-0.4523596562404241,-0.329990352579271,2.1535455030592545,-1.1874765662372488,3.4945291748952214,1.2141776718998485,-0.25951567573858736,-0.6031883513458911,0.7960312488400951,-0.26603968015581136,-1.5788784866411412,-1.2400712425199099,-0.9994797117766617,-1.278153348451271,0.9895652814684174,0.003911526064806279,1.9900098361770506,0.9158930894878395,-0.7587120673272035,-0.38434299251087534,1.032519704472342,1.416523051916593,-1.8195076761513138,-1.2918816059700167,-1.6727305490935434,-0.9370021904661753,-1.1894497648947646,0.43113929248463734,3.289700467480519,0.9159587223200315,-0.21093100396707481,1.097696119951775,-1.408584943904146,1.0196865302827467,-2.169714793385971,-1.339050863521872,0.38391551766427423,0.7516779824676442,0.21736390118337962,2.8163002925642604,0.7051281265448469,2.167117462888885,-0.8050682038961685,2.485855127401243,0.7430696271884145,-0.9695576808472757,1.9994540720328533,-0.8322146880742108,-1.0774987461509795,1.426496605433545,1.4956627183777218,-1.187131473488865,-1.0916551005714594,2.7896663612647696,-0.4509081353792005,1.493612510048051,-3.08550435780736,0.4352389881448442,-0.8805710316595553,1.8477920834597192,2.5137223934614754,2.3099582990087195,-1.8455628493072955,0.9510120638784321,-1.852883164241547,-1.7358607510727706,-1.3923970789878974,-0.6410379210688637,-1.684511759305435,-1.2647328780635172,0.723085850986912,1.55562416984455,3.3019971248662454,0.7689191614531212,0.5699623698543984,0.9917520166517549,-1.191621774592271,1.7451612796348028,-1.776974218425495,-0.7587271889183189,-1.407461040703083,1.7529205243071497,0.8592339348477941,-1.2375418823788966,0.6550246508595031,-1.403357690794252,0.8676963787783863,-1.1302164096160017,1.145630360849031,-2.4908884411256587,-1.714978462320421,2.421446695421174,-1.3937829847470469,0.2539761401795863,-1.7280815541347967,0.9032446371336604,1.190166205067051,-2.8579817093915842,0.9141191780271695,-0.24387379912318485,-0.3421210137230926,1.2552548552528227,0.11169685422395904,1.6039068168382462,-2.5807230658385896,-0.4464250575862135,-0.7013267430355432,-2.005339449114183,2.06421017277134,1.5624208297430648,-1.7951783993272001,-1.7520635953052266,2.2470257548703234,-1.2226656212490985,0.05268361166058779,-0.5028531138764069,-1.6064016335668507,-1.613537370164144,-1.1860514670233524,2.8627417125786434,-0.05168122710642517,0.961692749025227,0.9272655920064823,-1.732869203764214,-1.3871054036344488,-0.15088896134351495,-0.4114488691607598,-0.774531742559428,-1.7446713438285968,3.235735532123464,-0.514017323583011,0.10873643987799349,3.810312750108483,2.4116463431102053,3.837946052263342,0.7911450885192113,-0.9758009578535659,0.631370010613336,0.057359359455295654,-2.0284803083607432,0.9870421344291052,2.544628174492983,0.9234205128079694,2.165267359110422,-1.0148133691944825,-1.5076942221741774,-0.6059907141448374,-1.0633975324694531,-2.082349137085194,-1.6535287814013908,0.0516498148721146,-1.0313237600359337,0.8493476772712025,0.9510120638784321,-0.7562073618553512,-1.0893732859416125,-0.622664743491306,1.936608504570945,2.2156897798119615,-1.4161921939225188,-0.23077724483223327,-1.1866504075986863,1.5275539491905612,-1.4294307809968225,-1.8054253626030081,-1.130920864585865,0.9435727208827666,-1.6650092503277794,0.191123157822612,-0.27975876279532097,1.7881355364151716,0.5660773260586172,0.016870546600287407,3.2389113934976175,0.7125787044592992,0.4421075579557686,0.4192224498346066,-0.04098611462684388,-1.5059434332045227,0.2630985890684594,0.36530671606651427,-1.8756190415119092,-0.3004143786873893,-1.7312981008993604,-1.7513987027407714,-1.3449279731256303,-1.307538341200135,1.2970222290720932,1.7180140259430596,0.8322236549158224,1.5804922570057314,-1.5861178228002761,-1.45997193007996,-1.5536434227095948,1.0335206922330784,-0.14553837411739154,-0.5921978512646743,2.001604986909146,2.7154134218855988,-0.9070661266036745,-0.37117327580779286,1.1577874443427283,0.22093847944290818,1.1321917722818289,-0.08276554383013773,0.11024762106283696,3.4551325335442065,-1.0349368298927064,0.9597015376789021,3.025640838017099,0.33507070298306446,-2.286635660828543,-1.2305391951126163,-2.001248807024809,2.133617230868717,-1.784803510926203,0.4464835301476693,-0.42612039979715455,0.4794926121068312,1.3373226945948702,-1.197667394070954,-2.465549642714039,-1.067975583248076,-0.5958416772449802,-1.3538514086754676,0.6739006642064094,1.6336841268178526,3.420892976465247,1.9279795751267867,1.1806120401082656,-2.0455075962024263,-0.1291561485749696,-0.6546995342215082,2.839610994223117,-1.327168661740048,0.48923036114890356,2.0842960702959576,-0.14651381418508674,-0.048342725821087645,-0.8467635611699846,0.8034044213489291,0.9642076063188508,0.5120374116485482,-1.1047918212631516,-0.13781040758449684,-1.4928279684623935,-2.1120225237245935,-1.080269359980474,2.10475087954143,0.30020600880299175,-0.17098970429735058,0.5361112434739571,1.3117347277081761,-1.0175284796310973,-0.2136095724803003,0.9834925720301231,2.44632463349772,-0.8344234857795859,0.6730829709754046,0.7065347945074753,-1.4010367074583416,-1.1136518014046692,2.0051854769563016,-2.501231225323194,0.16892758044048503,-0.46531194699075146,0.7213332863703419,0.8803864543399327,-1.425478660421004,0.2549386702779303,-0.97428158381137,-0.647937981507759,0.6270486485749172,-0.8495357906746445,0.5321834646421854,-0.14708753047804735,-2.2281733969061794,2.5738748255174073,-0.9433114009027695,-0.6941031708825791,-0.5363148514214064,-1.2290553537379176,0.1299564099414071,-1.2731794652195274,-0.10669345134118853,-1.1302164096160017,-1.1311195776375798,2.9332603682293605,0.7327266362614857,3.3795823936743727,-0.9719388905869574,-0.9803001969616527,2.251463965433339,-1.2901225668217162,-2.3360483815096975,-0.1884932771423851,2.2068597002669006,0.7754026461334113,1.1383735815943086,-0.2158726238806417,-0.6090556041288735,-1.0135276400108943,0.3628086176825057,-1.458801460136754,-1.4133386605137337,3.1053559899266765,-1.6244178147476196,-1.6243354423091036,-1.5023772662338633,-1.5811283832828396,-2.2700935621415526,-1.2818931627332895,-1.9049891984658422,3.5569672306951294,-0.9777043292137677,-2.1596419788684673,-1.4402821559882966,-0.9660837732381777,-0.8444246178626066,0.3788133623428974,-0.6697648824998248,0.09472428552194376,-2.1455220210917876,-1.4437509226567447,0.661072828621213,-0.6154011927821021,-0.28148834612536805,-2.007355780999883,-1.1204569283112995,-2.3182427470480937,0.48789781038389923,-1.2281812435916004,-2.182378639016949,3.331442080916712,-1.5965940996247754,-1.130920864585865,-0.9937594601938959,-0.9420605474049115,2.4093093485011776,1.7482645053940327,0.3903763168974978,2.944708560795485,1.5854175446456034,-2.8820236417558003,-1.449735586559929,-1.5744718766230235,-0.29789290600347706,0.372391417255941,0.5359270755849262,-1.5244961290356565,0.9820327139090553,-1.8670108032453197,0.10457398134971575,0.756050948348366,-0.5956671117215734,-0.39652203228548133,1.232727708026195,1.0760119665332721,1.936095672524008,0.16364194145174635,1.4431646521191894,1.296328049665041,1.3300817310065587,-1.0578544820690432,0.6436950969297615,1.4720858581180674,1.3932699722130906,-1.743938003002002,-0.328515104671421,-1.6114628256841843,1.4275943131522273,-2.2034828917606286,1.699966187352145,-0.6627523456298355,1.1541014772295728,-0.6896711266888829,-1.360355543822564,-1.1970613544359956,3.235735532123464,0.7435841679017674,3.2422662305708414,-0.22934240389827656,-2.266470511775954,-1.5023363788496475,1.954426982833457,-1.4323968493709234,0.5660850875229947,-1.2540031875187387,-0.7644143363144644,-1.0465194226169605,0.24736423745606156,-1.562420016803255,-1.4348616636971494,1.2798945722894086,-0.29924041720881395,0.30955546142616513,-2.8579817093915842,-0.7364128286909123,0.6120447100137322,0.2951019157322554,1.194176834076752,1.1159637398334306,-2.902451502865764,1.7296602625677313,-1.3398995143873071,1.7876310656662047,0.9544637131444366,1.6668240703526798,-0.6059907141448374,0.7540743748071428,-0.027762921692360786,0.8431605951046544,-0.9518633623808105,0.848198636706205,0.11329719835452474,0.2892565414452428,-1.2722639849963462,-1.7868480642402536,-1.6123615181683353,-1.3872892190075994,-1.958041091299448,-0.8064972778226774,-1.2215575999939938,5.347136269965139,-0.7408849488495391,-0.9341805475593059,0.8602975643866,-1.7602323253407723,-1.4578561078452081,-0.5606484730462025,2.993429330697536,-1.853494869933,-1.5971945508465861,-1.7137307500818002,-1.4741875198333452,-2.040795294212153,-0.9494823662828452,0.9486200000040379,0.6077905302818225,-2.0335293908559433,2.097136438600441,0.9440633068364666,1.4950312990054633,1.485084615854378,-1.7292618705223883,-2.004003809066051,0.44882759009866124,-0.4017706850017329,0.9936468508061423,0.7802464008722543,2.756715131937052,-1.7868480642402536,-0.3036779318576985,0.5930619098534565,-0.13620242277734163,-1.699825224908285,-1.1785788468567466,1.4665770542800196,-0.4845315089661516,0.028145934052718813,-2.1636473932973637,5.066204786982283,3.5969116425779823,-1.44911496355969,-0.4293296198976064,0.2371059779004021,0.9294310705747177,-2.744246630478173,3.5730008762132006,-1.4065697794341334,-1.050523534584873,-0.9937594601938959,2.1500122811953895,2.5164928832490414,0.008132529567811818,-0.3381414114888975,-1.3690607220991469,-1.1013711687171688,0.033370365090471844,-0.5964701220198989,-1.6088925465283457,-1.859806896131678,1.035684979925782,-0.8820542031446945,-1.9312542971549087,-1.6478765821264332,2.545624106460625,-0.0739549278432462,-1.0376234360453,-1.9630338175278472,-2.136074701530695,-1.6719709766835975,-1.3781267257963352,-1.0095635233879208,0.7191140316412646,0.43249899367297756,-0.07137136655755702,0.0818591755054527,-1.939184249469573,-1.7944592387141698,1.062353715445939,-3.38209059424769,0.025532227052059382,0.6901736523840037,-0.37962362777969044,-1.4008016312370333,-1.1659160601361,-0.27774806344845837,-1.7125873228415966,0.11302074635306328,2.050544496082462,-1.195372781871981,-1.6559911095726585,-0.48435205640246987,-1.187131473488865,-0.9624428913651101,1.1857487296715223,-1.9465862350997178,-2.071170300727103,-1.7323639013039671,2.4349609334703235,0.8469370077919731,-0.8681073898435968,1.6631107753771994,-1.7394206760581106,1.2967950957674395,2.7606046218995446,2.3372813571929894,0.2756240736494074,-2.801260867737644,-0.2829495888038735,2.2247139982784745,-0.007978166793036834,-1.8891232291469782,0.5080612787980443,-1.6155035931053785,-0.5613309611426662,1.2216295325313211,-1.1781868998386986,-2.3641484616158266,1.0560154897247398,1.7210410844726993,-1.7034694531582053,-1.6447233758991813,0.15651888058501873,0.2117264658367834,-1.0222972488363526,-1.372114658964262,5.09785006378326,1.7640533702486973,-1.7908922198677122,1.1466135494973004,2.1153026088613194,-0.49724604493815755,-1.1171842260330782,-0.3231844663294676,0.798101588400047,3.130175328097723,-1.6019878909927716,-1.944860700958345,1.659133340811447,0.19662253202693222,5.09785006378326,1.9450420669514512,-1.1489712559719747,0.42111942379431,1.4105465944829074,-0.7789105250483096,2.481903459571096,-0.7013622449585948,-1.907270702780283,-3.1880891775127465,-2.180350582903779,-1.1218810264366172,2.378970910240069,-1.266475349588672,0.6143992860816208,0.5872574248332751,0.19297253275890797,0.3294308986236358,-2.7397175386987582,2.0653983399019427,0.47985628450899653,2.37374964718822,1.1215202974634788,-1.7947697952504047,-1.8964387239067413,0.33695654064001745,1.484688752902504,0.6304383236774558,0.4425998439956512,-1.4657228228022015,2.1335337485294357,-0.7131628767614259,0.14271526351841224,0.7298127343824463,1.6925492245989675,-0.27975876279532097,0.9136712090389513,-1.652879358361802,1.2211808880424433,0.7411386966878394,1.8220392150800004,0.29716256933161206,-1.545466289296639,-1.3648680541821563,2.1363071816090544,-1.1462893293814773,-2.276982683524498,0.6869281938911288,0.32288841904943455,1.5974989422019041,0.42504605031806864,1.5517001452760388,-1.314731003751472,1.9772090122234163,0.6171846344375991,0.3620603560571022,1.9708049461642676,-1.165086022668963,0.06752676535805308,-0.9049295594277953,-1.4397160348717675,-1.0071790449339573,0.14044155215694473,1.0867942983925387,1.3514069475364254,0.967841587390684,-1.6126603271253266,1.2567516015793625,0.9080109361702104,1.707694267276592,-1.8383940030072827,-0.31133933157236476,-1.1771626254366492,-1.784481982483545,0.6415266383471286,-0.3391896470092856,-0.41009246702116464,-1.71245789651151,1.413515404615069,-2.1353708155918323,0.8811463044751278,0.049841654019219125,-1.9312081769313074,0.4040404138741873,1.575049054053445,-0.7379114001800141,-0.17988070415811988,-1.7020630163002004,2.332193837466414,-2.1634433447283037,4.129425019713365,2.1639418172183245,0.47126889500074487,1.7529205243071497,2.1287582905415214,1.5496446951596088,-0.03674959073242787,-0.5944213950908048,-2.1684274001339845,-0.4293296198976064,-1.7020250474159717,-0.9689489039214694,0.9886462645955217,0.3991956713983568,-3.38209059424769,4.431741067966283,-0.6582619823106203,0.5364409585465668,-0.96859704402126,0.1783164937328525,1.158020851819833,-0.03519398002888636,3.710153765992601,-0.5307174575858815,2.3787387400017836,-1.8664584487895157,2.2276619306682863,-0.7265543734550088,1.3268960732693988,-1.9102064250114157,0.7974613275042115,0.9299214447536224,-0.10748948838878289,-0.499316101271125,-1.418673645165481,1.8394201542665214,0.11600518342342893,-2.0426168210771873,0.015638782761783196,-1.725437997769953,-1.2283445838771894,-1.4120529115117844,-0.21358971426398854,0.014475080340053183,-0.098260528607674,-1.2868240692338422,2.7100982278546457,-2.397078752118193,0.7431298763754332,-1.9414688932506763,-1.449735586559929,-2.3560528210125735,1.9815473497941885,-0.7298691601690883,2.815577472746671,2.517229497099597,-0.5830111273078373,-0.621708392036895,3.5880525448431917,0.8937306926642541,-0.2331425785417978,1.1032874779882813,1.1945992454226302,-1.2663318697971393,1.0370410895554782,1.0085461712465202,-0.2619407359988507,0.6193914444655559,-2.1090507963840315,-0.1524395656046192,1.2266042357817017,0.3100289270197026,1.0827287505822512,-1.289684772775841,3.3846713463679943,-2.0686243360594396,-1.1508340026112591,-1.620124298180056,-0.7450694088223052,-1.3604140983073696,1.9469302793473595,1.38943709426643,-0.32924787806671085,-0.6527317775765588,0.1880167310479231,-2.319461699698478,-2.1962037114447273,-0.2117150018976616,-0.040042684976020086,0.859971850738717,1.0092570586261917,4.912491210155948,-2.3690794790376586,-1.7620922024601209,-1.2226656212490985,-0.4117812635738971,-1.31018374174981,2.2909396070681076,-1.1781868998386986,-0.49299576775425247,-1.9883190233539225,-1.6816980828682597,-0.14539126237845684,-1.340112141359289,1.1095497955113862,-1.091300876316981,-0.6177506534862933,-1.6497373652110057,0.5683819553752346,3.1360201625482675,-1.7655559593273242,2.779361059172349,0.5600037038927809,1.271984968944667,0.5032425862051246,0.8691947685569306,-1.2812455965249616,-0.4464250575862135,-0.1582230963280143,0.012963045880195765,0.672688734699392,0.9158930894878395,2.5751602722475084,2.7037522280389554,1.8734784870115517,3.437037970001646,-1.77826539301186,1.3482467929791444,0.10909827934807856,1.4415501875824055,-0.9434406870820015,-1.4366533149645522,0.033370365090471844,0.1645174871365987,-1.0893732859416125,1.7025193413471922,-0.9140346850505376,-1.6538032420508078,0.0017696362482301805,-1.4530483738909257,3.1422416013960133,-0.4246813180445789,-1.365398541113325,1.6925492245989675,1.40439252506788,2.1462686292551227,1.3373226945948702,0.47289401995488,1.341488221783157,1.781956616392715,1.6290389700897052,1.6213171266217192,1.2516844380558239,1.5251224918603,1.63033362333077,1.0828949352453565,-0.474710383813273,-0.24040592455036355,-1.8352242734239657,-0.6192926329526199,-0.05964000556469318,-1.7323639013039671,-1.5788808721443683,0.6232372945596112,0.32301820674082865,0.07887180271455704,-1.1978447233088663,2.777064087747908,-0.5922889100945653,-1.3923970789878974,-0.7350946129122123,-1.4577492488578503,-1.393277291281359,0.34184331338602353,-1.2731726748460517,-1.699825224908285,-1.8740724819694103,-1.7782623009430807,0.24609686834573383,1.89484490305689,-0.05877957183790159,2.1462686292551227,-2.5544691443097434,-2.197534692272365,-0.9433114009027695,1.1926277619203363,0.2670218689547621,-0.5517234896200359,-0.33837791349751073,-0.2599373609309304,-1.478040329297746,-1.2500249846500742,2.891924406323751,-1.35952128981093,0.3855256361989493,-0.6164577633953299,-1.9728894887590156,-1.0513636053286277,-1.1750135763577387,-0.14971709094394703,-1.7137307500818002,0.7213647718031047,0.8530025942010465,-1.6395646444843854,-0.9155846627597061,2.1182316480841714,1.9834376209341904,0.09472428552194376,-1.0620657123552961,-1.8105757336468284,0.9183483674840572,2.473138891289357,-0.6059907141448374,-0.2062461236204881,1.874556873085758,0.40909222124217853,-0.2075739997175539,-0.5523305077958468,2.1348583237210157,1.5767196085884856,0.5067433793476108,-0.2331425785417978,-0.5308716850058686,-2.132974011863916,1.9064265818736283,2.44632463349772,2.1535455030592545,-1.652878408771542,-1.3797949301853385,0.27747930829573936,1.300669259888004,-1.7942307089572274,3.4025174704744154,2.377937714362385,0.37822697543405037,3.1925756413619384,2.1300133011811924,-2.0308361475062386,1.3332758947733683,-1.3495796625355512,-1.0139419135410908,-1.427126681474176,2.2256261009738254,2.3160691299935596,0.050322817040858815,2.1462824160480802,-1.8740724819694103,1.1237618846619388,5.072742769292677,0.24402167967004632,-1.9310054082645018,3.1060063837047482,2.1461786528163045,-1.5341723210334577,2.470257076111691,-2.2034828917606286,1.2364818552823424,2.3827789204004954,-1.7243592660238831,-1.9907871263628023,-1.1610768536384095,3.31585225934987,-1.4926945783016996,-1.0588482330315445,-0.87650100099788,-1.0524292415962662,-1.229047913414227,-1.6378612187055954,-1.3169914184751885,-1.6704483297194839,4.443161822166091,-1.9421992662330976,1.1860408714682877,-3.333193065938185,-0.14470585023319338,2.45687623535536,2.7194007633657344,1.78359378184711,1.0827682784560104,-0.9869724886013967,0.3777391431243162,-1.8348020455661054,-1.6250544098212063,2.1229110635190165,1.3738736127637932,-1.4218766285045146,2.8633618699265106,-1.2632477252981489,1.5260109441875478,2.5235152334822786,-1.3543310537004385,-2.3212971638400295,-1.1311079302938174,1.551280898514955,-0.3314718380291168,-0.4416583427795583,-1.5666313931705942,0.7293672544362645,-1.7292618705223883,2.7896663612647696,0.34158183447094403,2.3066430738738752,-1.6179085283904968,1.602524626492169,1.6113912670559816,-0.9433114009027695,3.4551325335442065,-1.592749175192407,-0.30046470926195373,-1.2762213487905443,1.060974567088481,2.2443842365744398,1.0334161463129785,3.704674979588941,5.263358373032485,-0.32787416929671176,1.4950312990054633,-2.8934311155250927,-1.8074088196237923,1.1237618846619388,1.4130437809524483,-1.2248737284303848,-0.7381497425505734,-2.061980505752334,0.618096303953905,0.4977531866906214,-1.1040286923267253,-1.1375807080845524,-0.4320567221688688,-1.6763164913349955,-0.5830431967239399,1.5223523053543828,-1.8297105806258416,0.37286979832879674,-1.275653723461399,0.6304383236774558,-1.5543016751922625,-1.6230411028698843,1.1032874779882813,-0.6856043907766602,1.820164101946533,1.2970222290720932,-0.16380710347716823,-0.21608548210366219,-2.0571656119756914,1.8080439824594094,-0.9834336554530846,0.14160014439998592,0.33873006741145917,0.4230272069683815,0.41510809321882225,1.2623749911017403,0.6088131831492143,1.4219541793047548,0.2371059779004021,-1.3618759630471087,-1.6800900363966846,-1.615760982125248,0.046461054980100905,-0.0036158610653472204,-0.26089919646943766,-1.743116542603852,-1.349639252023764,-0.14539126237845684,4.1848754437782425,0.44210935654895356,-0.6908828197427698,-1.6765410422758098,3.940579754150338,1.2140467116847304,0.7663047654279096,1.7394892737801648,-0.9412402071327335,-1.1934469213608507,-1.2696543772995357,1.8477920834597192,-0.278816748759524,0.4880655981750143,-1.567413193359369,2.3596390513555368,3.3518805441332047,1.79467572991851,-0.6462628641749516,0.1019598099400807,-1.6008967894439103,-0.3522676165746497,2.7236712807695693,3.4493453633834505,-1.805773014563672,-0.7846041677426501,-2.190816743153816,0.8096073124838277,-0.7051423388970386,-0.8732763712170143,0.7522649379404196,-1.501226542481455,-0.28403441344170405,1.0828793090056998,-2.464349142782525,0.10984337111048795,-1.7223170303577207,1.1864943232120417,1.0051201125782128,1.9477316475229234,-2.864176764760626,3.2644356939243493,0.7061451960674926,1.023611473030557,0.5280532032972453,-2.581798710685302,-1.6545151075216669,2.5820630940201563,0.49730213909576226,1.097696119951775,2.1639418172183245,-1.517779077492888,-1.1544848598479942,-1.2668780629481333,-0.9370021904661753,2.6724970231636473,-2.4141823528146893,-0.09532365156493007,-1.7412969590248277,-0.07176829047587938,-1.6765188282088708,-1.5694839898516622,0.7766833702037139,1.3373638643520258,-2.3705844746867184,0.9326981633716199,-0.2085537995512698,-1.7591655016586876,2.850732080776945,1.9547314101015971,-1.5960692562124128,2.2321462985439973,-1.0615161633231773,-1.759656941628913,-1.6003932129851608,-1.8949312316632847,0.7760675192664647,0.18113590731853005,-2.4091113634290076,0.4671634745297151,2.5885795679139214,2.51879968155821,0.9080109361702104,-1.0781949116469174,2.2127481642527016,-0.4476978931485718,-0.8445207539184789,2.5214940919940614,0.9018926347045988,-0.47896785947411313,-0.3646170226714246,-2.563584968275006,0.1765268728911707,-0.6182044261556761,-1.1869584447425803,-1.8610891772170286,0.9339599776985881,1.013096691635669,0.022313615014023413,1.5459508267423505,1.6463763832624003,-1.483002851170295,-1.2460505299104985,-2.581551903270554,-1.2243497222831645,-0.12116133052387654,-1.6202428983267905,2.2650702389808735,-0.6536156681868445,2.8633618699265106,1.9601049590020014,0.2931131391025775,-1.3923970789878974,0.2195564244655675,-1.9867310900659427,0.508713277256778,2.0769827030864985,1.5275539491905612,-1.0676544392401703,0.9043110256656771,-1.3277568227717336,0.6474152596111278,0.5513390004589973,-1.3874499480508717,0.06888923227839655,2.122468243853846,-0.7166456621485924,-1.3528562631742138,0.3539762131744195,1.5314807686063845,-1.0790852658917855,2.2580962087204703,1.4440166154919392,-2.010114789782582,2.3836012307079697,0.7853416528951774,0.106529040918622,0.7595910853713037,-0.7316574506885853,0.2563677956759154,0.09458865193674294,0.9750452258961696,-1.3576618580487103,0.11848356519725188,1.4109349802649123,-1.4714696129868756,2.280163834327125,-2.0595405416221597,-2.319461699698478,-1.9434109339813888,0.00350718692277665,-0.6163458840349512,-0.7650583625328045,-1.1785788468567466,-1.5057782912682887,-0.6556735492493022,2.2650702389808735,-0.3041112934193616,-0.6357204624140977,-1.164026458806487,-1.9143804059030611,-1.2436472693419254,0.2937936543469353,0.4264938793897116,2.4638203212290795,1.7152133230307525,1.8675936644804583,1.9260399054467932,-1.4245611200162387,3.7975843682124766,0.71901787279678,0.9642076063188508,0.014475080340053183,-1.0104102254413436,-1.6378612187055954,1.7395794423424704,0.10952370856876623,0.3176117072141494,-1.3815459212637542,1.7279443895806308,-0.7846041677426501,1.0270674150243608,1.6582182654364692,1.127764972391003,2.9151847235420703,0.3850373054318081,2.470257076111691,3.776989441994396,0.8926851466946878,-2.070273197277633,-1.339497556643553,0.7065347945074753,2.5019074836289965,-1.999075049328361,-2.785811073554938,0.9613102361939335,-1.5170100268081952,1.3102297246882366,-0.24439133103563865,3.042686039979476,-0.11503621558302113,0.22016585316152834,0.31280107743980734,0.5683819553752346,1.207208716694138,0.30614166791103065,-1.2983555384041214,0.8113857498749437,-2.1069638606785657,-0.7998162887480719,-0.7605787457275394,-1.0147529933951949,0.9375412967159839,3.277501134802305,-0.550458521074386,0.5874251198615063,0.6072502192247833,-1.409579408795206,1.435242141497154,1.703358271985942,4.281218204596508,-0.48258408119977125,-2.173449710714667,-1.3574083537441177,-1.1626384590270822,2.219978001758595,-1.6707870387792414,3.611344958627453,-2.2140870796313505,1.342775006594056,-1.7465085479962463,-1.4068670513297543,-1.46690850652849,-1.1935768023677729,-1.7459208229230994,-1.0422508802085422,2.7901932249864023,1.3712580822217402,-1.8185871823958968,-1.254325061921653,0.22425176521086007,0.5800986620359264,-2.374508574544048,-0.07137136655755702,-1.0496371494167618,-1.340112141359289,4.436893886221343,0.5656094084934108,-2.0288623478433947,1.0830239753161055,-2.2748297703553835,-1.3031039832186464,1.0597428432196918,0.11328489587435858,2.726195094143975,-0.6906381156161053,-2.6874391943736673,0.4252009125792529,-1.8998685587086404,1.9353825071702913,0.9419082420644899,-1.0701637392413599,-1.7104661137166293,0.1324080664965191,1.205008457697237,-2.8269134366236406,-0.07155274421079486,-0.14945329592219256,-1.9929255263747394,2.0588859195767037,-0.6402674158400585,-1.4131126392961346,-2.91303191652958,-1.244074019952455,3.0397684859361145,-2.482372229519397,0.6833800226492095,-1.7043037201593865,-1.6676497067599012,1.0592939493923028,0.9729573308417938,0.5562668585605498,-2.502417615086454,-1.8663145896353557,-0.7459739309182928,0.6151096867841865,-1.4402821559882966,1.8268386538919268,-1.5883755166455031,-1.700710757344545,-1.7785755100580192,-1.7583203634980373,1.722612358371529,-0.6896711266888829,1.498865505309385,3.7106808075214626,2.8174290459118305,-2.3690794790376586,-1.1951939876649686,-1.958041091299448,0.3091460691356095,-1.2276463831416922,0.4791865524892509,-0.5520503789967184,-0.024068566809084813,2.7796005015375167,-1.8083618139409787,2.540761075714667,-1.7467656953308939,-0.10382750911559488,2.815936702189196,0.12135367162621113,0.9858433410862454,-1.2742981766861183,-0.5991483022369901,1.2841830738893998,0.3130840560544713,1.1963485713705915,2.833057210833528,-0.8289144233631841,-1.6172072258507775,-2.2347243828694796,0.0710229273744493,-1.355052113377232,-1.4747656420003985,-0.7710794944745061,-0.5841747305992534,-1.8231059368931959,-0.278501647840866,0.8553462380655048,0.5067433793476108,-0.8737501737162195,0.29354043525918216,-0.9811579104249527,0.16274424632210907,-0.8845181985954284,-1.5767572108934012,-1.7832757716097698,1.644502764783642,-1.8556231372933822,0.7522649379404196,1.6614452395099055,-0.2030106419088637,0.048979111301765604,1.2386035168879814,-0.17646042261834402,-0.4050007664395318,1.3714161578797035,1.1509042640092235,-1.6641579224824148,-1.4413088938671401,0.6315304072733599,-2.2827589901584293,1.7152133230307525,0.7793979842323536,0.723085850986912,2.608390338549565,-0.968974192946893,1.0848976628963385,-1.7413406192672223,-1.882912394186921,-0.5292883622796695,-0.6163458840349512,-2.0633224367723293,-0.25163554558791634,2.6899622311927516,-0.3114399708105237,1.8999686351896203,-1.979873461766769,-0.8131921037977607,0.45809976128896923,-1.3962825376754973,0.1472672509755669,-0.2559344228036602,0.29145613605482046,0.572617157802685,-2.55507755027554,-1.4863270718540669,0.8510379906424006,0.4228179035488211,-0.5495618885638787,-1.5089554170669157,-1.579876577351061,-0.5505985163203803,-2.5421161462538295,0.6077905302818225,-0.10582680314451776,1.4072226423386782,1.340841629729689,0.1403500526152324,1.7355474473986667,-1.240051254254148,-0.7154656059694238,-1.5415097266668554,0.47198006204345005,-0.3110122584668381,-0.3314718380291168,-2.119741996395124,0.8363056124264834,0.4000264622699026,1.6031495994760978,-1.1602410243525967,-1.598817826176967,1.8577173231589794,1.2824390981989313,2.2300944445263675,-1.5516225352543864,-0.08809124807164762,-1.8188714167496036,2.5880999489167387,-0.543848152525218,1.9506464562782904,2.0111198285020997,-0.6745904574689592,2.300949475150209,-0.7117314215486087,0.6633137531591254,2.994326460181441,1.318121627988449,-1.4706822038413803,-0.545953980226445,-1.3446112382730617,4.849163795404033,-1.356981047540357,-1.5505936682059493,1.3918162036353752,-0.4102717174484395,-0.1260653668892523,-1.0494541074433366,-1.0328557106579996,-0.6619714345872918,0.2441201829076126,2.1968897488385473,0.36603595768251823,0.6621461262132343,0.10198699846357788,-1.462449527555656,0.621696015530256,1.6113912670559816,2.892144457702595,-0.5119512220219002,-1.35952128981093,0.10985441356050474,2.7896663612647696,0.6471144810554328,-1.4400874496620528,1.6301540228406828,-1.381810408009109,-1.5030059426966016,1.7775567349116388,0.6524242717517069,-1.2983555384041214,-1.44911496355969,-0.8295182725559591,-0.7548389124934795,-1.7029756473845197,-2.0520213527452964,-0.573068688598486,2.0397026290805353,0.050322817040858815,1.8589745363587593,-1.669158515358935,0.9201435894211568,-1.6277028948990286,-0.9340216050369083,2.173863633958375,-2.0901219357997918,-0.3094626383921246,-2.475095139711735,2.5880999489167387,0.401476288120638,-2.140254730318943,1.970884673327412,0.08851556512881774,0.970129524624825,-0.5345247060529582,1.6601897085959367,-1.3625499214452166,0.8632735135123891,-1.9412680469273942,-1.307538341200135,-0.25163554558791634,1.0887997339047772,1.2724044336513518,-1.1918034241395534,2.9346291209185686,0.16764124725813584,0.23779435211623298,-0.5176894593788804,2.057497516403817,1.5313920623481987,-1.359055660681686,1.5043773028571858,-0.7531912290675773,-1.4238538800606528,-0.764859212661437,-0.2175501318253082,0.5408251358324596,2.133386643754917,0.7218734443622169,-0.41009246702116464,1.4179049253896314,-1.7071365521525477,0.6460903189913046,0.4290919894908769,-1.5359825696554468,-1.7006349515049712,-2.243665053459517,-0.8495564437936123,-1.2866138742102962,0.7755582658109331,1.2568550722391632,-1.7312981008993604,-0.3666869308059924,1.2814224294606058,-1.7246534659578994,0.11938514608110859,1.1574922303740616,-1.7310306815141103,2.485645688279797,-0.4882609440273002,-1.4309578304070814,2.287770163097955,1.354566970770746,-0.17143628454533433,0.6683789533571104,-1.4628845041295935,-0.6372037380409031,1.2568550722391632,-1.6008967894439103,-1.5928272099691612,1.1420454807363178,-1.2119548252640462,1.9234092455157796,-0.16646817936559147,2.2254729346883373,-0.8027103704895568,1.9254867211042126,-0.8850190136367118,-1.8678158416395667,-0.9865611982452749,0.9613102361939335,-3.3128454984983358,-2.6177516528168665,-0.4206748981754747,1.4778151714947863,0.7855520367792265,0.2527393308290916,1.6493856681165309,1.835170908562528,-2.2159359601341166,-1.1921279034922383,1.9738776787728662,1.0683479520185788,0.6550246508595031,-0.5972120917801311,2.3224733963016075,-2.197534692272365,-1.2726851159284467,-0.6613365532009478,2.485346767875485,1.10956180812646,-1.3083775705926324,-1.2148965887062595,-1.8265535515526212,-1.2597417985652868,-0.0023956479138162326,-1.4133270885329612,-1.1712420564574313,1.9469119728502398,1.3184883196658101,-1.8529774129320595,0.7600399155178106,2.647795916296434,0.8371125957453444,-1.5512956965238196,1.8835546327695467,1.820164101946533,0.56287148813891,-2.3690794790376586,2.1347240856343674,1.0574784322129478,1.4602775738812737,-0.3244163926921088,0.15790011835892187,2.4248268386165894,-1.5774263345031974,0.5036850186655594,-1.7229150339868355,-0.7323665894622421,0.5332713289440058,-1.1771626254366492,-1.9421992662330976,-1.567413193359369,0.29247764678862354,0.6229255415106398,-1.6906952154893888,-0.7458385663343611,1.7646191396427786,0.9850334077573748,3.1360201625482675,3.6715790646999023,1.6257872394716821,-0.8298756287688468,-1.021292602125943,1.000162414619204,-2.4670448331881056,-1.4899450682673117,1.5187728387752997,3.4025174704744154,-0.704668008077768,1.061459881184008,1.4231117584142665],\"z\":[0.08915286816922545,-0.36854521032403015,-1.2923596272704525,-0.1149301295867766,-0.8114561989354723,-0.6291562163500954,-0.7247287034942307,0.30693720511443096,1.6499976522970776,2.005391907002331,0.10115905149345755,-2.3480831420380484,-0.08667973849100868,0.14039922070801053,2.923458673402603,0.27484124623541867,-0.7630588745930732,0.26040061980580365,0.015512381750672006,-0.31082647937769586,-0.37135957346667303,1.5623611641196782,-0.899711156240469,-0.41809503152282035,-0.3455796554226715,0.18790321037820099,-0.30609511357145974,-0.4090237050942394,-0.15279768953617212,-0.942249935974225,1.1940194036771477,0.8511105678180514,-0.9943449923521591,-0.03757572342386446,-0.8368098598770071,0.04895096288866073,-0.6872014370235889,0.966591325525644,-1.5904057686670205,0.21606301162226085,-0.27209570319063137,0.13263701387239352,-2.858390540701179,1.5826553580782936,0.1083671816806349,-0.06833283240820279,-1.5612704814307856,-1.404367065109103,0.08265973898004758,1.0944310056881494,-0.6792928899746953,0.4395647815332887,-0.4990701163634853,-0.2611400671031591,-0.37914969362073514,3.1506292924860104,-0.44392437275277086,-0.5435787086353743,-0.34011422027161603,-1.4818301814170862,1.132856889626091,-0.019305794295382997,2.0660622281981627,-1.3989944322170877,-0.3848492963992985,-1.1844401890580394,-1.5871106361950085,1.4531844806809713,-1.2299207450506873,0.18151249636454891,0.5440524121150446,0.8302940750924639,-0.4893730760829536,2.1143837143173534,0.38442625367927236,0.2077990019497015,0.019799191264607705,-0.942249935974225,-1.7449313062364393,-0.3825094372135831,1.6265786798528363,3.6787052920832277,-0.8911671522316609,-1.2192833184152698,-0.030672811640555717,-0.36923551115831776,-0.1430077785678359,1.3338850862810887,0.131947485846262,-0.5522147461071079,-0.9751459416285463,0.10965514781681722,-0.43311565982038797,-2.6255219714690665,-1.3576870080949686,-0.6297115910250418,-0.18465701140469715,0.09964598754156205,-1.835802992211598,0.4795979621608902,-1.3445212815444898,-1.6566930117357488,3.557017704904713,1.0772420593119876,2.8396983651348213,0.5074679682802651,-0.01530924166434438,0.6330166150440628,-0.9113953065868218,-0.36175233632869913,-0.08265311304279047,-1.4213551346113575,1.2292891312855256,0.4538651565942914,0.03738573678556129,3.732003662117056,-1.596436738332758,-0.5012667932209929,-0.38141475406188907,-0.8837921516169573,-1.328702819087162,0.37891469296943314,-1.5677287536163969,0.15622727266532077,0.5723568604489871,0.6485812930415606,0.3064662293573821,1.9093071601966363,-0.021499532437781535,-0.7332412573429115,1.3279301524803164,-1.6307766549460136,-0.5111517394278116,-0.17253156006707754,-0.0662215792156288,1.253266735792239,0.10004262476090092,0.49218909518522214,-1.0415432277004235,-1.3733569452311574,0.6026364899733079,-0.1020674016044117,0.036975258881622224,-0.4102827990460994,3.59648961806629,-0.13626462502768447,-0.3143398456034555,-0.9298891094250118,-1.8177760779636227,0.535263503198259,0.003773942570625043,-0.041004207000156986,-0.2773425896831846,-1.3845042524381874,-0.10517878883780107,-0.4454507909514821,0.7965927330888989,-2.202177941714181,-0.7131143992690233,-0.30645639274207553,0.05098437630504757,0.12900269342043907,-0.3119656026334313,0.050573392427982915,-0.7636000977223512,2.568469829979695,-0.2965321518064753,-0.7385051085055815,-0.5522147461071079,-0.7280319294523747,-0.1443632222123899,-1.292090499456343,0.0868782976553125,-0.6523997764235795,0.48827275944374016,-0.5574546324162768,-0.6899255925610123,-1.3665813668443478,0.08973732184975057,1.032433263457527,-1.9550174063368524,0.016047997013839067,-0.11618329664296959,0.23175084896004175,-1.0670448578248144,-0.34323334490644336,-1.9815301240956433,2.1003719472195432,0.7717338136963463,-2.395869261326686,-0.9467731001938346,3.791568503331107,0.004454524506272031,2.370162203584547,0.9809367865660317,-0.2348754091594666,-0.7778433664914077,2.0380039206215765,-0.9020674462761723,-1.5887655756431032,0.37573293819666875,0.31742216830163905,-2.142758293974847,-0.2036305718166574,0.5804771786901949,1.908391118914622,-0.1666271348289827,-0.18949542065012423,-0.6810112653378168,-1.295511243828658,-0.9476845084265992,0.3875736397440856,-0.27583707035715527,0.2546014477340964,-0.2179740607019925,0.08141568033373806,-1.125160710093962,0.07736197420416226,1.3436653956939781,0.5957413873021957,0.057847890896616266,-0.7874351270561221,-1.0275713800058959,-0.05038931636902535,0.2280302471299535,-0.9848276415724058,0.16948537700528016,-0.49974738004425395,-1.8225029717627577,0.2948229357078004,0.435173382106367,-0.09231923796603417,-0.22603752789095077,5.502815246585668,-1.1022340814552778,-1.4020803765829182,-0.8199699974840515,0.32155583937717636,0.14012600705172684,5.8676338757146596,-0.7210122910271203,-0.33957170093740946,0.36645064397570354,1.5387577516215332,-1.02089751118212,-0.35377774191645023,0.47799860291328944,2.433835950573577,-0.6523716452033386,-0.48530482407197056,0.5578413811404276,1.4917841458220038,0.10008796746418537,-1.7346264701846168,2.2271136553474364,-2.181638898633315,0.04945036217397394,0.8571240059255202,-0.07076334982651432,-0.4377781536231658,-0.42642063478003395,0.024314414266276476,-0.9740994804752561,-0.9656147949026189,-2.0617329852002815,1.17150474851884,-0.48347724818214166,0.008567402549737065,-0.2179740607019925,-0.7630588745930732,-1.341764271146638,-0.16191783802554774,-0.08057403895937469,-2.2533183619974557,-1.1617759730616775,-2.490936626029168,-0.09736562140622199,0.8837938198346104,-0.12003088643067128,-0.22658287637822844,0.22159718697159494,-0.04785625414597393,4.838626727161261,0.4139191870876844,0.3365693129191321,-0.9656569054233676,1.0800630695186693,-0.340973721325908,-0.5659276010352279,-0.5207258041382956,0.07157402848867873,0.07339262779778097,-1.443257768271725,1.1338301363176748,-0.09013641725003686,1.1086265900777381,-0.21703041392852337,-0.19145861106085124,0.3099031874079137,-0.8987868076528552,-0.1952122036539787,-0.5261469731786291,-0.08412948425529808,-0.5916997177055257,-0.324160744946586,-1.1811072223358958,-0.07562662265780362,0.082875875832771,-0.33239192313192406,-0.3816975549508428,-0.812567482842427,0.3916131061466212,0.3083426715687054,-0.18786426119479202,0.5005719697653851,0.2713981170384193,-0.23686571313006283,0.9531326801493896,2.3301153354862727,0.23107472561782816,-1.8005880977455455,4.159309313655672,0.3729058555536132,1.6119939416656697,-1.3226344787638213,-0.1961377884385653,4.95580381209791,-1.1450179398350382,2.4773360256986683,-2.347932774029563,-0.2318913695527238,-1.2039018575616012,0.3205882452324449,0.6137911227828985,-1.2308690319282667,1.0314693169545959,0.6853647821209551,-1.3385705434887873,0.5965168872734592,0.03165842797519554,0.8462067526708277,-1.3271913249917349,-1.0161243880526023,-0.8710071128741852,-1.3109211484546572,-0.6039638835516788,-0.20494623723104965,0.5578413811404276,0.004266548769655414,-0.7229602104380183,-1.848941911566878,0.01009552801733229,-1.3609663637206815,0.3110611420177201,-0.15838930306516152,0.26329692609596245,0.7644792581472397,1.5511465357499803,1.6458763458080397,0.3963221908928194,2.186761635310231,0.6373337294195398,-0.3878997433422012,-0.11888289625002314,0.4864156266750603,0.026254499153584576,-0.46792608142069386,0.49218909518522214,-0.16738707529595884,0.055371795628590285,2.587366321725451,-1.5746032832732137,-0.4603255166493503,-0.28764477673032296,-0.6449262919291668,-0.09281711053393547,-1.950067783256684,-0.7364726102750911,-1.2480363309742426,-0.8901821889947849,0.3287121972004929,1.6582858381413168,0.30931694709667673,1.3884431218907225,-0.1224049585105443,-1.1901133614423651,-0.2576225926369304,-0.6595429930992498,3.0192091436298196,-0.41296319137030435,1.7417094680652223,-0.0755347886864468,0.4286938498679504,-0.2566904981636251,1.5927849943832928,-1.1486225966337649,0.9270718000028246,-0.6100904242109942,-1.133978392647615,-1.8496651440978333,0.7994941606813672,6.67795030655832,1.8353734245207496,0.5712680674554813,0.048677974586015846,-0.1430077785678359,0.08197789828676111,3.0702189776598727,0.46801579122024645,-0.0076230484152873,1.3317381241598512,2.652448263078198,-0.15637312652889093,-1.8555142798778805,8.440065117249167,0.290088147462935,-0.867838673165592,-1.434035071333257,-0.15755277117202945,-0.5598001900606766,-0.8497744501170819,0.0702013743727071,-0.021062450936240432,0.14044127689770147,0.19623668963533974,-1.059969649573222,-0.49897256224921244,0.6373337294195398,-0.4260329409197493,-0.18959711873467336,0.0727704352148009,-0.41998954469329064,0.30023206422317383,-1.504269736298103,-1.2234349039853838,-0.6598949188184672,0.06090830387074821,-1.2377352524202754,-0.4194347782584568,-0.055914431825599645,2.2186382051368296,1.9904539413348983,-1.4793861091495313,-1.855416847246043,2.130896890673277,-2.7471773252042757,-0.37158216456008586,-1.7346264701846168,-0.21407874694661128,-1.1443049699285774,3.7331208769608755,0.5504985157220829,-1.2280813463420834,-0.07730507060231921,-2.137020208103917,1.5349584286007956,2.910597248426751,-0.1375754229572088,-0.09124276428941536,-1.3482387370050166,-0.4988757478417068,-0.42441487491886903,-0.5640963042096278,0.4536788956089395,0.06399837749311134,0.0714197307117631,2.588146487213146,-0.32159186284692287,-1.4013558556803334,-0.4805690272648055,0.10662635005118992,-0.7669944786458476,-0.032744725509530885,-0.3206426760101625,-0.5938769891163659,0.19799597552476617,-0.23255551473517755,0.22872369063919676,1.0315106381280603,-0.9662107744713654,-0.633991676071946,0.0137353217334466,-1.4743515383972594,-1.498865068347704,-0.060747898275361395,-0.3399481291602489,-0.014314870140510241,0.17969255062760336,-0.5598001900606766,-0.31834831403686176,-2.2528159088944197,-1.8566082245054065,-0.26352046205890883,-1.3261213422503129,0.8833128961805697,-1.571703662434751,0.7909942436675845,-0.3825808785911783,-0.3219525619750941,-0.5941859125259161,0.19934364134790705,0.1566445537425275,-1.2562114076874993,1.3122715337101354,-0.16987940929070772,0.3162361564524929,-0.5385226093150794,2.7410139771368787,1.4135550452302992,0.23916864195106946,-0.8376499962811458,-1.2751085137132905,-0.7328736620937327,-0.5286623353463195,-1.284053305729413,-1.5029299606362847,1.6077706551700308,-0.6444551886273088,0.10942958142829053,-0.46455324362314826,-0.49876614005021735,1.1729963333268734,-1.3282883824474017,0.26953762860437497,0.2311294161746562,-0.14679484146296307,0.3947493513857347,4.261013689610711,-1.4885738823910994,-0.349063144860422,-0.3855164192082767,-0.2730956300368501,2.041053432254686,-0.10251665116090845,-0.6428460318866528,2.325927092151284,-0.5160632348827165,-0.3946085342672015,-1.0404198750143094,-0.008596130598164942,-1.1150567168957508,-0.5521363361340458,-0.3496644100851932,8.133438580440023,-0.07340721444908056,-2.1778402708614006,-1.1857461911306872,-2.435132308368628,-0.7091511420132683,-0.9214736402498832,-0.23995974999416037,-0.31480292569223106,-0.1894518824644099,0.24547759391379587,-0.33477642880765435,-0.18665456250305457,0.2762041182221686,-0.4861621088067937,0.25225587749547634,7.17310082466062,-0.05607092431936488,0.11335756788744622,-0.21973297087886426,-0.2025526317881605,1.5586579461817784,-0.41809503152282035,0.013266799958241057,-0.44440394522752324,-0.1565050055226988,-0.2579140742340099,4.144749694340386,-1.6539832119746136,1.0507352803526442,-0.8603523975976174,1.6004229566985921,1.9271247360074264,-2.5882056215903537,-0.30502418739128767,-1.2861575333466706,1.536219459557221,0.12049905487949858,0.239848246724912,0.04417838449232396,0.30892099390902256,-0.1538617489089889,-0.9604302260524534,-1.6958878301594777,-0.8132531150578323,-0.05068681314628662,2.257922425443409,-0.6872014370235889,0.14821939683664737,0.07427881052471978,-0.28414172492389167,-0.46875241646034216,-1.0463604115806615,0.4030981209368721,0.3099031874079137,-0.002950045036428888,-0.23528489912634593,0.3358091883053201,-0.45465153738078684,-0.21716455597139528,-0.671360197842513,-0.3201696351746688,-0.36249492244768805,1.5686179092978214,0.22989780717937133,-0.13430377562828857,-0.15216631062810776,-2.0002834133396865,0.746903871887456,0.26650511938269467,0.4214045470293665,-0.2548029941181304,-1.211025947614563,-2.435132308368628,1.6950783358360897,-0.14434202331416252,0.2824301813190194,-1.5152196090866694,-1.342744811051217,0.846283339181149,-0.3211733224910743,-1.5746032832732137,-1.355132617397242,-0.028504406311663122,0.482975933517498,3.2140073608278263,-0.09618172021173943,1.4692272627553364,-0.10877677432880281,-1.2479438521370125,-0.9052677559670395,0.006117844659208276,0.5434422582700688,-0.9688406827503199,-1.2585487643728321,0.03508907617249058,-1.0972153379750844,-0.9067180752752294,-0.7210122910271203,-1.8574004856324424,0.6393776504191512,-0.41309089530013937,0.026254499153584576,-1.8796224624710636,0.15456443826878796,-0.5017953938204549,-0.2025032878288639,-0.133975413659454,0.28891980287298,0.18216484548739922,-0.5989670383346886,-1.5062340902455427,-0.7035386778478881,-1.5468203751965581,-1.5289906032160576,0.3110611420177201,0.3551285097305039,2.5560225893966995,-1.9349381186566177,2.6321482727297814,-1.339080733986182,-0.5197381906028383,-1.6417977650051472,-0.8358746979784406,-0.8949662413274255,-1.2636221357741353,-1.2151987869370193,-0.4486881818913678,-0.9323563642561581,1.4468470300013316,-1.1481001578685033,2.470265349952289,-1.0532973680080382,-1.082779908901602,-0.27752764919221684,1.4424457968442208,-1.0197393169330407,-0.2271574531403579,1.3828254172056385,-0.8446785896795517,-0.2366632143520941,-0.8690323578818293,-1.0288527131255654,0.6831940767973157,5.010971711385088,0.17795909316642755,1.0314693169545959,-0.4614753298363953,-0.3093865166768279,0.5073004602457033,2.3301153354862727,0.3440744673790703,-0.4883825948215434,0.05930624616585638,-0.9303902438957401,-0.21803022213040313,-1.329620781956457,1.2657394247199374,0.07697617279553479,-1.3049895512255891,-0.046215213240099244,-0.05408063448396949,-0.7690963087668498,0.0680286084250618,-2.488673084732912,2.695897884761651,-0.7778433664914077,-0.6006870685938462,-2.5328167012719813,0.32292990411550315,0.36049803338227526,-0.17344960046996752,0.23712554150129075,-0.6792928899746953,-0.05260658244120221,4.480029088387842,3.899943746443997,-1.9759309657198307,-1.5317946785071377,0.36915202396767877,-1.2015633295010604,-0.35348782678744617,0.11315541915603558,-0.5856843681116155,-0.18129084182547212,-0.5261813267528086,-0.1578869479710397,-0.041010501404588416,-1.9515474538743636,1.03955316825313,1.2340670911356646,-1.4258370163426681,-1.128139074882171,-1.8796224624710636,4.174874531102407,-1.6234903553890574,-1.5634223903132205,1.3103498566196508,0.08310121310061136,0.046135017173874616,-0.8063179810801756,0.28001927887460254,-0.6067317248362921,-1.5427760867793912,2.4662889841446725,-1.9168499576173417,-0.6931498909484388,-1.2596602440173632,-1.4525382668325408,-0.9942091656086686,-0.5092051864313375,-1.4953387112785501,-1.610468169673859,1.4313638128492039,0.06119405980896085,1.4251411571952932,-0.3012544974258753,-0.2971753983099245,-1.261458810572775,-0.47314194618416466,-1.7226437380303143,-2.0126179136708724,-0.4693423906776815,0.024402015107118296,0.02694088682534165,0.11390275209421154,0.5209286178840167,-0.29628177381762405,1.605119171439667,0.8147474989921683,0.21513921267151642,-1.8002816700433821,4.091351832094113,0.5077103961938135,-0.24660019524150426,-1.0489944469589954,1.2580329659293588,-1.1887230374590163,-0.1722165882975086,-1.9806010438085686,0.17593874087786737,-0.9608782791138434,-0.362451171093534,-0.5916124080745332,-2.1477291068104907,6.110745786111935,-0.12898923629926012,-1.0734174533432848,-1.0325995038071611,1.2742453583064275,-1.669197753887218,-0.14833921626197855,1.6666005935245383,-1.7248907264772377,-1.3134793412259937,-2.24792772983582,-0.824107571571027,-0.38899311499694034,-0.6690087957770585,-0.7379748554429556,0.26517021747182146,3.25877833263138,0.008582247302601122,4.002129821355877,-0.3946085342672015,8.133438580440023,-1.2869080258683294,2.7301623862374935,-0.05330727319476999,-0.9278240444482947,-0.050434598988851866,-0.20897665179425418,-0.31113216981199504,-0.5502048773280098,0.26756664271306374,-0.12507391483338798,-2.2796418079406755,0.15571546905394723,-1.2853155275280255,-0.11734283043110887,0.30131866085914016,-0.3189606122516377,-0.9018422162609875,0.036975258881622224,0.3396877358920936,-1.527668206650168,4.989216520385021,-0.6227070530467019,-0.3196079896650254,-0.6759134055174699,0.025780537872472406,-0.13747240928270682,-0.899711156240469,0.11432798391034059,0.5301069238676566,3.9021825684852263,-1.938046364442683,-0.17946770082916733,-0.6694675762658897,0.19552750165253688,0.5069288347579493,-0.11606311375780733,0.15975584958548666,-0.35623293672146833,-0.2813962786767978,-0.23622552632694113,-0.6491652992073776,-0.31564477376328637,0.5544986004646741,-1.4636945618169472,0.05957538288315975,4.928503068953145,0.18499784086893833,-0.11998225721136246,-0.022787817954264846,-0.8331195228161589,1.4128182373390308,0.12363859689332508,0.14392651001456702,-1.9718257781718556,0.04950712816145808,2.2432382452098163,0.11214864073770929,0.1097058650890742,-0.3053254438455397,-0.4486881818913678,-1.922885478615203,0.5462800056135098,-0.051084617266408894,-0.24951736409913644,-0.5020946690511724,1.0028467436187432,-0.014714963270992788,-2.1164015547234536,0.2676606995468511,0.966591325525644,-0.1602802385676832,-0.053574356515169855,-2.465492085173709,-0.3658490917155465,0.360272766987449,-1.928640556129539,-0.2504184918209053,-1.6259223098198805,-0.8895234025198578,-0.24412371707182678,-2.3961604406171944,1.60061319320809,0.16241193655643868,-0.5094634759124037,-0.663806630353074,-1.3651190443106782,-0.9143596878907139,1.412922903789077,1.4060688079034982,1.7277382640208352,-1.8109580277824056,-0.8956399125459952,4.261013689610711,-1.0009344657460193,-0.008731189718590866,3.8102453972651236,-1.7002643811309552,1.0881200942663811,-0.7213466343289383,-0.7304870118743545,-0.3453667001624674,-0.8972229429050022,-0.02446866052695593,-1.950067783256684,-0.7212072361990809,-1.2727649609356584,-0.5758642475558816,1.4640594696875089,0.36123615658091024,-1.9168499576173417,-0.07971035521361977,-1.3345947547419772,1.1286992747487765,-0.9323110448338919,-0.12559906471976823,-0.7109830364333369,-0.6561010872462459,1.005412317163435,3.945533617011534,0.11930152299871784,3.342492283404681,-1.480598883794878,-0.7532233166820794,-0.45420896485738116,0.09706775705395979,-0.4575415350517134,0.565256384736198,1.3984053921188728,0.43281517327717633,-0.30072385494515935,0.21147130007583073,-0.17247182399824734,-1.0613681097781313,-0.34857181460826037,-0.3004650429793803,-1.8232340811203698,-0.611389277992164,1.4209387143700034,-0.4836478310033579,-0.40897323919718825,-1.8768227535861108,2.7868736705963753,0.19345676596922246,1.450998445842017,-0.17461944812605756,-2.168955630379123,0.3102244311516768,0.50535225496606,-0.9135261096827585,-1.7994159028854484,-2.0889524517365974,0.12176937231207993,0.32292990411550315,-0.7427323217131026,0.3454682179582013,-0.25067907463931327,0.7737942995196674,0.17419951094530936,-0.9467731001938346,1.5493763514477912,-0.6777766286760432,-0.8638648621641872,3.8702529733257527,-1.9414821690623594,-0.14996540383490958,7.618975976147405,0.3243447582298503,1.570695885106352,-1.4131849379109853,-0.697506117854703,-0.2271574531403579,0.6485065653412889,-0.7131143992690233,0.23846907801984432,-0.6462106711554046,3.417915241780781,3.877003435347468,3.4807388881177337,0.2683920926055766,-0.15010656885748047,0.9210380396436314,-1.387181409773237,-0.1578869479710397,0.8197496298255597,-0.024990074367381637,2.92525008286512,-1.0184782482876933,0.4670322746272112,0.165658794817609,-0.20166704085734663,-1.6719593819650485,-0.7575953144444236,-1.0644075174094527,0.266614333988978,-0.31435206949219746,-0.1891106175982651,0.08048580887985511,1.3350482554041694,-0.5939321612382162,0.21939012801884775,-1.5549046249690364,2.181917133709677,0.3858844074402841,-0.35331182247001136,-0.8664564861538517,0.8234849396012075,-0.7204763988446871,-1.5545662387673358,-0.010780986361583558,-0.8911671522316609,-0.26663397151379153,-0.5312679938764933,0.35320871567175993,2.0118794415528156,-1.007799842686711,-0.5253639016642263,-0.14063176368382813,2.200959930385232,-0.37688922495662647,1.4613168135315888,0.24542628314195672,-0.8464608581607509,-2.0127261583599605,1.1717472943341753,0.6757908618885893,-0.7575953144444236,0.9009076302349894,-0.90752419270516,1.4446824713619875,0.15117010328421668,-0.9982655520515235,-0.11241380313457239,-0.27929040084842777,-0.921851062079168,-1.8120208789511294,2.372512791318414,-0.05965413924341403,0.021092615055118915,0.6880033577675095,-1.0734829785882007,0.17416568079942787,1.4571176996137272,-0.36134215993790475,-0.09191794311361103,-1.7235646363580615,-0.07971035521361977,-1.3558560365086119,-0.745920584448167,-0.9427097028482562,-0.4225195363941547,-0.8919137805854344,1.1877539457203994,0.2431964733132194,-0.2660286718290469,0.0664173042679804,-1.9102989065992915,1.7378237944579087,0.2601647292068548,-0.3881249677548438,1.7265593679944466,-0.06825648781591429,-0.036661444164017065,6.879526858877329,-0.23921061767032595,-0.8541755730057039,0.2574967316945766,-0.4208601725370606,-1.2562114076874993,0.4245725433789128,-0.494350750886547,-1.1566210370960623,-0.9940697417272463,-1.3718896143958186,0.282413293396096,-1.022162881407792,2.3451397472903546,-0.9339819481098279,-0.10464807308633005,-0.3204622445236997,0.0001573549252025316,-0.10260678647653372,-0.6361978361606222,-0.3496644100851932,0.9430692496087095,-0.7645256543469487,-1.6432102940934399,1.9531372935821811,-0.33930672500740666,0.006117844659208276,0.36009039669249776,2.898594573216995,2.4727260595876173,1.4205132154647833,-0.1495070943691677,-0.023548364552574974,-1.0744139963573682,0.42964274149615295,0.048783895166992976,-0.47584296614968935,-0.4732361244741031,1.4770747324622506,0.07815177690217563,-0.46928239555549983,-0.18011006201563362,0.015011407176019226,1.2397598364113989,-0.05895482165882288,-0.2744778748374115,-0.37088592609118104,4.571046394519576,-0.4457162498034524,0.3033131075063408,-0.2983866961045808,-0.15279768953617212,-0.47414385594310826,-1.4213551346113575,-0.15815041890502757,-0.07195363389554749,-0.3015400000049953,-2.0328357405798383,-0.29982733334050765,2.0920105431470084,0.4743975864040157,-0.31864590777059104,2.7634199431169235,-0.8873143708412838,-1.340039145657462,0.0470222831947401,1.2087224305795512,-1.1069042775176607,-0.18174071738054456,1.3564067465729597,-2.0422649668864934,-1.2794134939003663,-1.8169413485014334,-0.9119147190006741,0.4743975864040157,1.2054925166756372,-1.1633621089461335,-0.17625570001782448,-1.0047873770203362,-0.6492086382770252,0.0977235113827293,-1.964409708830698,-1.943149925262142,0.5056340024278687,-0.4260329409197493,-0.40185593952419807,1.2637333520724667,0.139994623023175,-0.7314831992194103,0.28109876815675366,-1.0090658562820223,-0.1237837357429093,-0.16688769398868222,-0.5322751821917294,-0.6696633089950895,3.1362558441245385,-0.23544218761142127,0.14661804007956886,-0.12119268539694102,-0.5805143120307983,0.7303363374769626,0.03077601289776959,-0.5274210054331772,0.20499341557930256,4.0035314114699485,-0.9475171529053013,-1.0143299958077254,-0.10098383267115184,-0.48347724818214166,-0.9942091656086686,1.8965055638785082,-1.134939506223311,-2.323158265001756,-0.25756796443144114,-1.7855396644523327,-0.6231489463622014,2.433835950573577,-1.3955895380478531,0.5745864138217355,-0.4090237050942394,0.009757209275278069,0.05597024357147227,-0.36004031062096553,0.8460649155995427,-2.3718876072360433,-0.3312636862741898,0.49794048544293973,-0.10222281253478624,1.243053427482301,-1.2171854612932373,0.43763503842179347,-0.8901821889947849,-0.2086507262668052,0.5741346193753265,0.1434287770856488,-0.39570563869295167,1.090172891190108,-0.25892973432666966,-0.7841326204133295,0.9693030847879995,2.236146648393343,-0.5736646388296328,-0.21257957844910252,0.22985979021603453,-0.160525772915888,-0.5253890611167111,0.156584250167861,-0.15903465881498774,-1.1264727224351387,-1.0581130011619595,4.614380800706041,0.19623668963533974,-0.20922631302525263,0.27524551038943607,-0.1788583394126489,-1.4803907779451642,-1.5223888707496183,0.2115183944109108,1.7207886275542366,0.6893057132348293,-0.3788153811579423,0.028408930635817738,0.7775454210289365,3.280073478734269,0.1590645024825458,0.7077683922744787,-1.7319061368031519,-0.5197381906028383,1.3382395407572938,0.8344424974015379,-2.505484153237294,0.7052256916403326,-0.0459831319634014,0.6880033577675095,2.0022184060274726,0.9330155668892749,0.06535855697597638,1.2009497205892268,2.3451397472903546,1.615284641384262,-0.15018612473448223,-0.3894199713304252,-1.0889593200914538,0.758313055062869,-1.3799756138490502,2.506360977064132,0.26558068441607147,0.23086308956443713,1.4140008835115598,1.0542472887758698,-0.4948924087802546,0.1467971746520988,-0.40975474098623743,0.8254414730041579,4.822988342879048,0.2477925118596201,-0.6869415407348122,-1.082485985241857,0.14274422002282566,2.6106047507992245,-0.43372144357232023,2.700919617686044,-1.4047201340543467,-0.16881097585022758,0.2948229357078004,-0.1628122614412717,0.01184292578382489,-0.3124541119168697,-1.1398105507170238,0.17091590589032604,0.6703656165692259,0.13170785063459553,0.3829776373635999,-0.6068854602069813,3.945533617011534,-0.3723782941630877,0.32828207769192924,-0.26163172024838405,-0.3036592368469227,0.08092862815550059,1.7814026153318014,7.603889796097843,-0.709539464822996,-1.3258878456463532,-1.1908809739687674,-0.3693977852797868,-2.4025463831732345,-0.9079187894113903,0.36515233461373553,-1.34221075879597,-0.2041622203724567,-0.08412948425529808,-0.41593154464434734,-1.4626437111903259,-0.5287788368545479,-0.9859955912556377,2.8086184825809957,0.25137026117606187,-0.034841402799542905,-0.4929627730804239,-0.18116066839164519,1.5112373355232025,0.739974624267579,-0.29137153921824777,1.1808092230170444,1.310294336229724,-2.7121320304353884,5.039716156445261,-0.9948879675320367,-1.9740956076496075,-0.18992458113833488,-0.3875497120172044,1.7950877473588143,0.6380118166485744,-0.11127525219493814,3.593816593747541,-0.13738850268633118,0.522112083885054,0.05930624616585638,-0.3746293212430755,-0.9751459416285463,1.2393192526275598,-0.2983866961045808,-1.362326161044364,0.157858902005758,0.5297082474306885,-1.0411735909853805,2.0133512950556978,-2.0580724306776124,0.8352931185017098,-1.6594550188453991,-1.9503030849172076,0.13788049954904585,-0.0425415025727766,1.4087921146642979,0.14912138991598245,-1.0753132329736796,1.940372513749465,-0.25496063311590533,-0.2966959582823852,-0.09514168096247548,0.17795909316642755,-1.0933035910792337,-0.809467315807418,-0.36337230355412153,0.3358091883053201,1.248961547523162,-0.5271887819868313,0.23145038598347176,-0.02575819751104453,2.2484425356427447,1.3673414020618015,-0.5186701429519626,-0.3548850999935797,0.4944811127995949,1.0644975404020136,0.2431964733132194,0.3027684013974063,-1.6234903553890574,0.04321771115669074,-0.3456272906554737,0.027425139800740725,0.08677874084686404,-0.14975066911289775,-0.6305513819554281,-0.27184310056643596,-0.18530675714575398,-0.48347724818214166,-0.2797958616498669,-0.21915415807100513,-0.7379748554429556,-0.4164356545924315,1.1598215816613484,0.3435192614669667,0.3743077505040374,-0.46455324362314826,-1.4527554857636766,-0.9052385970370199,1.707064000595609,-0.8837802545198418,5.502815246585668,-0.26583935845966694,0.08906243179555223,0.31025597094656815,-0.8208890750500928,-0.1495070943691677,-1.4585729005289199,-0.011920413308423888,-0.1139427768875567,0.21061956851522773,-1.9483821818299445,1.5511465357499803,-0.5925414663755977,-0.2025032878288639,-0.013650722845258048,0.2296946434128902,0.14024790559294106,-0.22050649728718238,-1.3346719844854242,0.15117010328421668,-0.0902820639712845,0.7624284351338608,-0.1181544983940116,-0.18302119046395487,0.9719577956677149,-0.21915415807100513,0.10748835260978,-1.4539570870572005,0.14392651001456702,-0.14576844242523326,-0.07373245893304535,1.6073882700064333,1.5003848629397178,0.14996636449082396,-1.6675411945424037,-1.6400876156129647,0.7382746965794124,-1.26295513172529,-1.0005948381692895,-0.29976928875428277,-2.3442607407505287,-0.26262571471246926,0.03766786447210699,-0.3423098662177849,-1.5545662387673358,1.1698975046641127,-0.17498764147698218,3.828263906449107,0.014969558829692238,1.0535330205093252,-1.347368631802676,3.8102453972651236,-0.08054892849431936,0.39444019276322767,-1.0803742817570208,-0.3361087096574494,-0.1578869479710397,-0.6370178201514538,-0.9798883918178549,-0.21781106647105158,0.1321493570751118,-0.47220235528122156,2.726134224213323,-0.7936020777560302,-0.40980370922313997,-1.1908809739687674,-0.602722206032917,-0.44737645391102143,0.08764698098850406,-1.938046364442683,-0.9604302260524534,0.32874518249019125,0.07682748783438326,-1.981073555954439,-1.1862018642698777,-1.255400502941058,1.3797654752278665,0.43899503613754104,-0.20135924615513098,0.6607641077483328,0.3194286084675368,2.849045787170492,-0.26235277581859556,-0.11724283686616754,-3.193798539203526,0.2478043300461314,2.5295203918990743,-0.7834986074103164,-1.0928753415782588,-0.24143086235660144,-0.0902820639712845,1.4993553321646236,0.4349736705536351,2.527796237263515,0.7355826365637714,-0.5508629348485139,-0.7447446012677188,-2.7291133726445307,-0.7180708442689114,-2.168955630379123,0.3963221908928194,-1.3534275381816585,-2.044123005097822,1.2634196165703446,-0.620396715469745,-0.11355861593386678,-0.07340721444908056,0.19582413202285148,1.7792141062424478,0.24846465363099132,-2.3947633844422,-0.27970855290417784,0.048677974586015846,1.100273074943801,0.36458412995137773,-2.931072845303701,-0.05166013186656441,2.921211534695657,-0.7065369551774069,1.0969689652491397,1.4293537740331947,-0.9662770741671363,1.6176259933219472,0.17610899612064237,0.4628083606924605,0.2936761013911649,-0.041506466779169256,1.785721900206253,-0.28102206515894884,0.12483211764274799,-0.9035197485223255,-2.089585562491612,-0.4505517880807474,-0.23341484301902188,0.3365693129191321,-0.08437133085598082,1.2598499108309522,-1.0183500824068088,-0.042421456683234965,-1.0352095410630864,-1.6237089065448291,-1.5787623892030918,-0.37688922495662647,-0.9688406827503199,-0.13446863894421382,2.3081417877181765,0.08602286996653981,0.11086371739948808,-1.1785946967123357,0.14392651001456702,-0.12898923629926012,0.5625903687014545,-2.6887154530664836,0.16530234019194356,-0.4483187650346094,0.9922135482967823,-1.7858115311162945,1.5905959505105594,0.04462086291156422,2.923458673402603,-0.14063176368382813,1.0544161084404449,0.23109512785990274,1.4993553321646236,-0.009028127657351283,1.3975903733948833,1.7998033302130962,-0.26352046205890883,-0.6402665711011578,-0.06750378106673499,-1.2747620077181878,-1.516711207424211,-0.9011477123798016,-0.5236275038073128,1.9093071601966363,1.0965624477897091,-1.648570367558921,0.3359191709589993,-0.29144693617917833,0.03077601289776959,-2.213111124799305,1.489385441866302,-0.3693977852797868,-0.7725515991892494,1.612480828986035,-0.29628177381762405,1.1828259345821297,-1.028650315469678,-0.5641532190861661,-0.22268630568638695,-0.9828799561572399,0.9012830589393194,-0.45072587842743905,-0.3701221976886293,-0.032680560996472,-1.3008392436228644,1.2829201500464344,-0.3599843926727144,-1.0734829785882007,-1.3226344787638213,0.25816205840019485,1.1470434711820565,0.055016978332698724,1.453054651389169,-1.717254095810107,0.20432436702329845,-0.40422980583180373,-1.0411735909853805,-0.12626688781975542,1.0947961097832268,0.150927986517076,-1.855416847246043,0.21522447397731473,-0.6412505172827669,-0.35499432479419046,-0.5926241757167006,-1.287971877680418,1.41199270501112,0.04500342395662041,-1.8574004856324424,-0.2029793764063501,-0.4335435614235286,0.26244600773999033,-0.8710071128741852,0.12386032952242679,-0.330375545700888,-2.1975805231680416,-0.30283247798111274,0.27223235651855815,-0.38601948172250533,6.829074485403266,0.06674009706611897,-0.18465701140469715,-1.3229431723680194,-0.26411043731160705,-0.3605530151067038,0.1700490994207031,0.1277250646273959,-0.5857752440898264,-0.6158972790195264,0.3157319537333084,1.8253923823747575,-1.3276692836277808,-0.4085326014898181,-0.0020368294957936726,-0.1675435459576419,-1.7389742477005665,-0.5953014588522143,2.8232207502046593,-0.23163985341206395,0.18724792846171537,-1.2020842508226444,-0.21642021269752143,-0.23686571313006283,0.1273702794615927,-1.1163252299851592,-0.7359334719118656,-0.2548029941181304,0.7077683922744787,3.9687191358395135,-2.2156053855357087,2.1454749707089804,-0.13430377562828857,-1.639290607046141,-0.18802894742655302,1.2026314946263434e-06,0.47713803098817786,0.2366877248169685,-0.019212545310773085,-0.42511832090937673,-0.5295723178653097,-0.05470153273397117,-0.39650736588299723,-0.8504836580537583,-0.6191786421042147,0.7239411424876581,5.834428388852442,-1.0321573072764596,-1.8566082245054065,-0.3854820770192072,-0.762419638651682,0.37837633584282393,0.34473106014097077,0.0512548004545657,-2.1982767298125285,0.040955066089983456,0.4906285847290362,0.3234250203836359,-2.4112625138432646,-1.2903782509133503,-0.21257957844910252,0.2194699159054341,-0.5544244281039907,1.7505795190936804,0.32079186565202716,1.0423088753910388,-0.3698595041007971,-1.5453405437784535,-1.1263775152361075,6.605756551038358,3.834381510817853,-0.6881011244972859,-0.7452031983294121,0.13917421870555186,-0.04955650809495139,-0.923682424171713,-0.14821382756875082,-0.11558264889503167,1.4878366785764208,-0.01120513483592417,4.363324211527717,3.7606405453821807,-0.176537890847569,1.5851029886038113,1.3841469298948945,1.5359881156682325,-0.26362479831829366,-0.9035197485223255,-2.4796197837393716,-0.2397174191833982,-0.2025032878288639,0.6439535276973575,-1.2868461443059844,-1.6758341506823524,-0.5135431602043692,-0.6067317248362921,-0.23194480017049857,0.5234647453059426,0.2454489358251724,0.6840126301766347,0.27921282817712034,0.8823339463059878,-0.3553951012070394,0.011040628750900717,-2.186876950941854,-0.1393161643880008,-1.292090499456343,-1.591900841202987,3.303643193039772,2.7600615540506594,-0.33477642880765435,0.21647339082913405,2.565379180669733,0.3205882452324449,-0.13955833880139942,-0.30021416750186436,1.8518447783556122,-0.620269000733797,-1.5313301954879588,-1.8971680850376187,0.33303126373773684,-1.4355618974223343,-0.938494719850452,-0.0702020980374685,-1.5202528945907268,-0.019907643915873404,-1.9740956076496075,-0.6523997764235795,0.7255832146579726,1.944836760852675,-0.7364726102750911,-0.9982655520515235,-2.1073838361367185,-0.5951795332248528,1.5359881156682325,0.38442625367927236,0.1342338765483128,0.2652562974931019,-1.845460410552508,0.29729813640831637,-0.2720397866107896,-1.0812413947749002,-0.8061776880777684,1.3702052625947272,0.4435583695297092,-0.021364360046911765,-0.07142527683210624,-0.8076667761499883,-1.6566930117357488,-0.3189606122516377,-0.3124541119168697,-0.5518566438541788,-0.27970855290417784,0.5592585631106868,-0.1414392706092599,-1.1765174747730263,-0.09243123092725992,0.326026982739274,-1.3229431723680194,-2.2267381780349194,0.4619442331805469,-0.4714338550504989,1.3436653956939781,0.3814509538431568,-0.7180708442689114,-1.2493970847294054,-0.35377774191645023,-0.774381657312496,0.12190407846008038,0.19552750165253688,0.13893753525290328,0.09733377225779934,-0.30438276666681346,-1.9004056003304526,0.26702868689519277,0.42550671623361125,-0.24763176202751047,-0.9733021774938395,-0.06511398110787353,-0.07587874667788187,0.2904043417322677,0.13788049954904585,-1.9017818168497433,-1.4325922724491276,0.13607293473164495,-0.6528864988434592,-0.24007992355955105,-1.6678209665220696,1.4806534726802771,0.48969239019540206,-0.19974783578339533,-0.6811018128025648,-0.13766453365093,0.9637358379976858,0.12640809502090458,-2.3547251131003484,0.86495917729739,-0.3868613050275886,0.8968386135636874,0.3447137033424425,3.6207406842332603,-0.18834683528425064,-1.4883384269477764,-0.025373219143134305,4.065014730030803,1.8350306041895648,-0.05822662933220339,-0.3706823903098076,0.1054335282733677,2.4673937847475234,0.0567666499839007,-1.2901455820213352,0.20975209875410397,0.6241903704950433,2.668254372894414,0.10625900450568378,-0.3041106444505511,-1.6820057601459444,-0.2871601562693679,-0.4973281092041632,0.08027596227915108,-1.1566210370960623,-1.328247786745721,2.0133512950556978,3.194543152154597,-0.25835803783138384,-0.05739148134189682,0.845677526356878,3.341547349645246,-0.1679479089626484,-2.5699779498465523,-0.29637659935744903,-0.33894106195149576,-1.1615179679488654,0.03957151294096673,0.3284076497730032,-1.7878569022080066,-0.9020162925661185,-0.34831993638387204,0.7514987464651324,2.105027700964065,-0.3193576414362019,0.1692312059772374,-0.5638006062130007,-0.15749641563074346,-0.46888753145911094,0.7095109675722048,-1.1259881681220854,0.5077684924198596,-1.4020803765829182,1.381171761164631,0.14493714393104137,2.8455625761576018,-1.9361239801236556,-0.6585255662009085,1.032433263457527,0.20406346087787516,-1.9438616937686575,-1.1450179398350382,0.08973732184975057,-0.06682220580707574,-1.0610492016691186,-0.018091907649146446,0.7297988003504896,-1.8109580277824056,-0.8517138968815271,-0.089558137270983,-0.40946595776415895,0.861987526599093,-2.8093131483011664,0.7902215227401196,-1.7994159028854484,3.6026866835668563,0.1916191013599486,5.735332026350849,-0.13738850268633118,0.0572327786676577,-0.31435206949219746,0.06830201851664662,-0.5520110563374153,-2.927357813118948,7.70843428420015,0.08346940248915227,-1.5072548997177482,0.1137560318791382,4.95580381209791,-1.2432472388069347,0.3500513419816557,-0.3521130288775512,-0.4092189149920573,-1.413974821428763,0.009917601341171223,0.21316298029053338,-2.1376342025862276,0.2437818624221123,0.38524277512872995,1.2300823369441505,-0.5960713031413183,-0.3842268314218417,4.07426055585568,-0.44119783732608225,0.298921539013093,-2.856255843412583,0.11154800679659274,-1.5774882802660228,-0.9688598758535445,-2.0678163494467188,0.1188009962882152,-0.40980370922313997,-0.68006983413566,-1.313308107549642,-1.8973729301122626,1.4361651839889185,-0.5035071325580911,-1.4824947553870318,-0.24720353036589252,0.3909133192387435,1.1972538968379185,-0.5857752440898264,-1.6818529208114912,7.801970233833227,-0.478089940235664,1.3614204726163208,-0.3306931920036228,-2.5064555693305572,-1.3625850350084314,-1.8993856542162775,0.5204124978320483,1.7939686859224997,0.4784889669687632,0.6901359120471664,1.3702052625947272,-0.3293235008573784,-0.5989670383346886,-0.8852724849337665,-1.6148583147092745,0.31798373323331536,1.381272922652638,2.6504534981290973,-0.05722833972630288,1.944836760852675,0.043881253525673486,-0.534326213820476,0.2070015388116453,-0.27209570319063137,0.08433164052306927,-0.7569811520852705,0.22145285683922916,-1.3385187777573533,1.7692387469247848,-0.5090811012316839,1.6636263744814643,1.7294590277085498,-0.1271630028900775,3.232492224886839,1.4320053987713366,-0.8133820293347149,1.1095603507753817,-1.2650269011269109,-0.038699515620398084,0.13566615037427773,1.450826356339835,-0.648973990749492,0.35320871567175993,-0.2910102744605352,-1.639075573921641,0.7632971463717564,-1.0760767029751988,-0.958078544677311,-1.4401872836862668,0.5108444828675058,3.5714601840709665,-1.5971250503378895,0.23969040388778334,-0.042421456683234965,1.286990410365937,-0.08449055486831514,-0.3378197051965561,0.04191867408740563,-0.21779717314852803,-0.017288087972943036,-0.6726437607602213,-0.7511813012693545,-1.3196474218933525,-0.24903437459036404,-0.04785625414597393,-0.47886719160673885,1.8877912106799077,0.3428672210338461,1.4298153369457687,-1.09066768458228,0.14949160960573377,-1.4242944552815096,0.6313324911352891,-1.25675408719909,-1.111361529813557,-1.4466792400397335,-0.12556171481157571,-0.7046196652220478,-1.2318320546970758,-0.7984289616477372,0.0723539201133366,-0.15646819038110205,-0.31345550022555524,-0.22223351229445928,-0.8731771989205699,1.2126975866972955,0.31316223929442494,-1.6459806782998263,-0.42241891417739014,1.4651560300567767,-1.2250755835215628,0.0339443278916659,-0.8532723497180401,-0.16694505587788014,-0.49858565739121763,-1.1785946967123357,-0.6344673119156323,-0.12003088643067128,-1.26295513172529,-0.43521772495906047,-0.9688406827503199,-1.5425740418424003,-0.8183385460040913,0.0968170359821348,-0.5326244904732089,-0.05595096159043751,-0.8125809296861791,-2.5185390228497972,0.13607293473164495,0.021092615055118915,-1.5581798889612444,0.33153040733523015,0.11899783758218338,-0.6741531272396442,0.05238504031506641,-0.09138610759139605,-1.0928753415782588,-0.6598949188184672,-1.0099662871034165,-0.22909103515448995,-0.14340903371087244,-0.49362629592821716,1.5444770594231352,-0.11075774465988289,-1.3013653473238032,1.7924884412361146,1.8877912106799077,-0.5457944068950249,-3.115504631740307,-0.04690512687469187,3.6951385460442694,4.940907012459736,-0.3784430054501514,-1.4743515383972594,1.9874627452936164,2.001570703420508,-0.3044963756702433,0.5209286178840167,-0.534326213820476,1.5368169170394066,-0.2622599771125225,1.2440430603288866,-0.4614274033675956,0.5852134145099726,-0.7096200822542525,-0.4569892792089171,-0.5563772525842213,-0.9083872874468143,0.2188613200783443,-1.5025099524237722,-1.3048965592245347,0.31324244934027323,0.31605012408486693,0.016511348301594578,0.13912701949301617,-1.7707784041755834,0.8508818707328485,4.614380800706041,-0.6899255925610123,2.015820925308201,1.2638667343095655,0.2016323549010674,0.03738573678556129,2.0681202779914543,-1.1828893419563733,0.3342489749342538,-1.7902520429617275,-0.4232513260639785,0.9353764057703714,0.024402015107118296,-1.198779615751561,1.933605853356636,0.17686151056237626,-0.24331679811618462,-0.2225727950221175,-0.6637642324605308,2.471957130485947,2.001027178306431,0.25699965639666394,-0.3866206843130422,-0.3381123901122485,-0.5128110426916449,0.030644390815888812,0.1985625622532517,-0.13902253526436054,0.9353764057703714,0.27223235651855815,0.014170569815810507,-0.20336478656306928,-0.6227046749199932,0.6829516787036354,-1.2554516117965508,0.7199047521333688,-0.35686743521399394,-0.6563126232550629,-0.6632361302860639,0.580703298177136,0.16854617100683264,-1.9004056003304526,6.91082256304073,0.9522464051447035,-0.24176084364644113,1.0591235049125127,6.944289874524687,-2.633806035730354,-1.0024118180766999,2.1637894806810465,2.609916254953927,-1.5225759716897231,0.39117702655690845,0.38416161130358284,-0.8949662413274255,0.19785464491315233,1.4243982810050482,-1.4539570870572005,0.14428732206228514,-0.704000370089442,-0.021771041313684056,-0.008196577316548624,-0.3352760071392137,-1.9103123740545946,-0.39881185691736115,-0.35786774498557133,0.017738679760584547,-0.1974033000667684,1.335631786339468,1.2574214925875262,0.21240940097420583,-0.2644034461554405,0.32785243009935844,2.0156318843520693,-0.05431107954235787,0.3559097634534844,-0.379476349626725,1.612480828986035,-2.213444309194345,-0.13738850268633118,0.3280363329098493,-1.0744532658162498,1.100672247339904,-0.22512212017011085,-0.15968703045674076,-0.16206362340068298,-1.5063099718528097,-0.06239529736578024,-0.7734161530924102,0.654824334843251,-0.24648199783449412,0.156584250167861,-2.931072845303701,0.26244600773999033,0.11178922722875208,-1.1643438172975886,3.1506292924860104,0.38514744387327576,-0.5339923011441845,0.42833110727617035,-0.042541502572776585,0.09528342174396427,-0.5610444945038258,0.2680391317210603,1.254549998219343,0.11045327722093459,-0.15461006245257178,-0.07562662265780364,-1.0186466885418415,1.3797654752278665,0.7532312630861089,-1.422443151040278,1.2591949161780287],\"type\":\"scatter3d\"}],                        {\"template\":{\"data\":{\"bar\":[{\"error_x\":{\"color\":\"#2a3f5f\"},\"error_y\":{\"color\":\"#2a3f5f\"},\"marker\":{\"line\":{\"color\":\"#E5ECF6\",\"width\":0.5},\"pattern\":{\"fillmode\":\"overlay\",\"size\":10,\"solidity\":0.2}},\"type\":\"bar\"}],\"barpolar\":[{\"marker\":{\"line\":{\"color\":\"#E5ECF6\",\"width\":0.5},\"pattern\":{\"fillmode\":\"overlay\",\"size\":10,\"solidity\":0.2}},\"type\":\"barpolar\"}],\"carpet\":[{\"aaxis\":{\"endlinecolor\":\"#2a3f5f\",\"gridcolor\":\"white\",\"linecolor\":\"white\",\"minorgridcolor\":\"white\",\"startlinecolor\":\"#2a3f5f\"},\"baxis\":{\"endlinecolor\":\"#2a3f5f\",\"gridcolor\":\"white\",\"linecolor\":\"white\",\"minorgridcolor\":\"white\",\"startlinecolor\":\"#2a3f5f\"},\"type\":\"carpet\"}],\"choropleth\":[{\"colorbar\":{\"outlinewidth\":0,\"ticks\":\"\"},\"type\":\"choropleth\"}],\"contour\":[{\"colorbar\":{\"outlinewidth\":0,\"ticks\":\"\"},\"colorscale\":[[0.0,\"#0d0887\"],[0.1111111111111111,\"#46039f\"],[0.2222222222222222,\"#7201a8\"],[0.3333333333333333,\"#9c179e\"],[0.4444444444444444,\"#bd3786\"],[0.5555555555555556,\"#d8576b\"],[0.6666666666666666,\"#ed7953\"],[0.7777777777777778,\"#fb9f3a\"],[0.8888888888888888,\"#fdca26\"],[1.0,\"#f0f921\"]],\"type\":\"contour\"}],\"contourcarpet\":[{\"colorbar\":{\"outlinewidth\":0,\"ticks\":\"\"},\"type\":\"contourcarpet\"}],\"heatmap\":[{\"colorbar\":{\"outlinewidth\":0,\"ticks\":\"\"},\"colorscale\":[[0.0,\"#0d0887\"],[0.1111111111111111,\"#46039f\"],[0.2222222222222222,\"#7201a8\"],[0.3333333333333333,\"#9c179e\"],[0.4444444444444444,\"#bd3786\"],[0.5555555555555556,\"#d8576b\"],[0.6666666666666666,\"#ed7953\"],[0.7777777777777778,\"#fb9f3a\"],[0.8888888888888888,\"#fdca26\"],[1.0,\"#f0f921\"]],\"type\":\"heatmap\"}],\"heatmapgl\":[{\"colorbar\":{\"outlinewidth\":0,\"ticks\":\"\"},\"colorscale\":[[0.0,\"#0d0887\"],[0.1111111111111111,\"#46039f\"],[0.2222222222222222,\"#7201a8\"],[0.3333333333333333,\"#9c179e\"],[0.4444444444444444,\"#bd3786\"],[0.5555555555555556,\"#d8576b\"],[0.6666666666666666,\"#ed7953\"],[0.7777777777777778,\"#fb9f3a\"],[0.8888888888888888,\"#fdca26\"],[1.0,\"#f0f921\"]],\"type\":\"heatmapgl\"}],\"histogram\":[{\"marker\":{\"pattern\":{\"fillmode\":\"overlay\",\"size\":10,\"solidity\":0.2}},\"type\":\"histogram\"}],\"histogram2d\":[{\"colorbar\":{\"outlinewidth\":0,\"ticks\":\"\"},\"colorscale\":[[0.0,\"#0d0887\"],[0.1111111111111111,\"#46039f\"],[0.2222222222222222,\"#7201a8\"],[0.3333333333333333,\"#9c179e\"],[0.4444444444444444,\"#bd3786\"],[0.5555555555555556,\"#d8576b\"],[0.6666666666666666,\"#ed7953\"],[0.7777777777777778,\"#fb9f3a\"],[0.8888888888888888,\"#fdca26\"],[1.0,\"#f0f921\"]],\"type\":\"histogram2d\"}],\"histogram2dcontour\":[{\"colorbar\":{\"outlinewidth\":0,\"ticks\":\"\"},\"colorscale\":[[0.0,\"#0d0887\"],[0.1111111111111111,\"#46039f\"],[0.2222222222222222,\"#7201a8\"],[0.3333333333333333,\"#9c179e\"],[0.4444444444444444,\"#bd3786\"],[0.5555555555555556,\"#d8576b\"],[0.6666666666666666,\"#ed7953\"],[0.7777777777777778,\"#fb9f3a\"],[0.8888888888888888,\"#fdca26\"],[1.0,\"#f0f921\"]],\"type\":\"histogram2dcontour\"}],\"mesh3d\":[{\"colorbar\":{\"outlinewidth\":0,\"ticks\":\"\"},\"type\":\"mesh3d\"}],\"parcoords\":[{\"line\":{\"colorbar\":{\"outlinewidth\":0,\"ticks\":\"\"}},\"type\":\"parcoords\"}],\"pie\":[{\"automargin\":true,\"type\":\"pie\"}],\"scatter\":[{\"marker\":{\"colorbar\":{\"outlinewidth\":0,\"ticks\":\"\"}},\"type\":\"scatter\"}],\"scatter3d\":[{\"line\":{\"colorbar\":{\"outlinewidth\":0,\"ticks\":\"\"}},\"marker\":{\"colorbar\":{\"outlinewidth\":0,\"ticks\":\"\"}},\"type\":\"scatter3d\"}],\"scattercarpet\":[{\"marker\":{\"colorbar\":{\"outlinewidth\":0,\"ticks\":\"\"}},\"type\":\"scattercarpet\"}],\"scattergeo\":[{\"marker\":{\"colorbar\":{\"outlinewidth\":0,\"ticks\":\"\"}},\"type\":\"scattergeo\"}],\"scattergl\":[{\"marker\":{\"colorbar\":{\"outlinewidth\":0,\"ticks\":\"\"}},\"type\":\"scattergl\"}],\"scattermapbox\":[{\"marker\":{\"colorbar\":{\"outlinewidth\":0,\"ticks\":\"\"}},\"type\":\"scattermapbox\"}],\"scatterpolar\":[{\"marker\":{\"colorbar\":{\"outlinewidth\":0,\"ticks\":\"\"}},\"type\":\"scatterpolar\"}],\"scatterpolargl\":[{\"marker\":{\"colorbar\":{\"outlinewidth\":0,\"ticks\":\"\"}},\"type\":\"scatterpolargl\"}],\"scatterternary\":[{\"marker\":{\"colorbar\":{\"outlinewidth\":0,\"ticks\":\"\"}},\"type\":\"scatterternary\"}],\"surface\":[{\"colorbar\":{\"outlinewidth\":0,\"ticks\":\"\"},\"colorscale\":[[0.0,\"#0d0887\"],[0.1111111111111111,\"#46039f\"],[0.2222222222222222,\"#7201a8\"],[0.3333333333333333,\"#9c179e\"],[0.4444444444444444,\"#bd3786\"],[0.5555555555555556,\"#d8576b\"],[0.6666666666666666,\"#ed7953\"],[0.7777777777777778,\"#fb9f3a\"],[0.8888888888888888,\"#fdca26\"],[1.0,\"#f0f921\"]],\"type\":\"surface\"}],\"table\":[{\"cells\":{\"fill\":{\"color\":\"#EBF0F8\"},\"line\":{\"color\":\"white\"}},\"header\":{\"fill\":{\"color\":\"#C8D4E3\"},\"line\":{\"color\":\"white\"}},\"type\":\"table\"}]},\"layout\":{\"annotationdefaults\":{\"arrowcolor\":\"#2a3f5f\",\"arrowhead\":0,\"arrowwidth\":1},\"autotypenumbers\":\"strict\",\"coloraxis\":{\"colorbar\":{\"outlinewidth\":0,\"ticks\":\"\"}},\"colorscale\":{\"diverging\":[[0,\"#8e0152\"],[0.1,\"#c51b7d\"],[0.2,\"#de77ae\"],[0.3,\"#f1b6da\"],[0.4,\"#fde0ef\"],[0.5,\"#f7f7f7\"],[0.6,\"#e6f5d0\"],[0.7,\"#b8e186\"],[0.8,\"#7fbc41\"],[0.9,\"#4d9221\"],[1,\"#276419\"]],\"sequential\":[[0.0,\"#0d0887\"],[0.1111111111111111,\"#46039f\"],[0.2222222222222222,\"#7201a8\"],[0.3333333333333333,\"#9c179e\"],[0.4444444444444444,\"#bd3786\"],[0.5555555555555556,\"#d8576b\"],[0.6666666666666666,\"#ed7953\"],[0.7777777777777778,\"#fb9f3a\"],[0.8888888888888888,\"#fdca26\"],[1.0,\"#f0f921\"]],\"sequentialminus\":[[0.0,\"#0d0887\"],[0.1111111111111111,\"#46039f\"],[0.2222222222222222,\"#7201a8\"],[0.3333333333333333,\"#9c179e\"],[0.4444444444444444,\"#bd3786\"],[0.5555555555555556,\"#d8576b\"],[0.6666666666666666,\"#ed7953\"],[0.7777777777777778,\"#fb9f3a\"],[0.8888888888888888,\"#fdca26\"],[1.0,\"#f0f921\"]]},\"colorway\":[\"#636efa\",\"#EF553B\",\"#00cc96\",\"#ab63fa\",\"#FFA15A\",\"#19d3f3\",\"#FF6692\",\"#B6E880\",\"#FF97FF\",\"#FECB52\"],\"font\":{\"color\":\"#2a3f5f\"},\"geo\":{\"bgcolor\":\"white\",\"lakecolor\":\"white\",\"landcolor\":\"#E5ECF6\",\"showlakes\":true,\"showland\":true,\"subunitcolor\":\"white\"},\"hoverlabel\":{\"align\":\"left\"},\"hovermode\":\"closest\",\"mapbox\":{\"style\":\"light\"},\"paper_bgcolor\":\"white\",\"plot_bgcolor\":\"#E5ECF6\",\"polar\":{\"angularaxis\":{\"gridcolor\":\"white\",\"linecolor\":\"white\",\"ticks\":\"\"},\"bgcolor\":\"#E5ECF6\",\"radialaxis\":{\"gridcolor\":\"white\",\"linecolor\":\"white\",\"ticks\":\"\"}},\"scene\":{\"xaxis\":{\"backgroundcolor\":\"#E5ECF6\",\"gridcolor\":\"white\",\"gridwidth\":2,\"linecolor\":\"white\",\"showbackground\":true,\"ticks\":\"\",\"zerolinecolor\":\"white\"},\"yaxis\":{\"backgroundcolor\":\"#E5ECF6\",\"gridcolor\":\"white\",\"gridwidth\":2,\"linecolor\":\"white\",\"showbackground\":true,\"ticks\":\"\",\"zerolinecolor\":\"white\"},\"zaxis\":{\"backgroundcolor\":\"#E5ECF6\",\"gridcolor\":\"white\",\"gridwidth\":2,\"linecolor\":\"white\",\"showbackground\":true,\"ticks\":\"\",\"zerolinecolor\":\"white\"}},\"shapedefaults\":{\"line\":{\"color\":\"#2a3f5f\"}},\"ternary\":{\"aaxis\":{\"gridcolor\":\"white\",\"linecolor\":\"white\",\"ticks\":\"\"},\"baxis\":{\"gridcolor\":\"white\",\"linecolor\":\"white\",\"ticks\":\"\"},\"bgcolor\":\"#E5ECF6\",\"caxis\":{\"gridcolor\":\"white\",\"linecolor\":\"white\",\"ticks\":\"\"}},\"title\":{\"x\":0.05},\"xaxis\":{\"automargin\":true,\"gridcolor\":\"white\",\"linecolor\":\"white\",\"ticks\":\"\",\"title\":{\"standoff\":15},\"zerolinecolor\":\"white\",\"zerolinewidth\":2},\"yaxis\":{\"automargin\":true,\"gridcolor\":\"white\",\"linecolor\":\"white\",\"ticks\":\"\",\"title\":{\"standoff\":15},\"zerolinecolor\":\"white\",\"zerolinewidth\":2}}},\"scene\":{\"domain\":{\"x\":[0.0,1.0],\"y\":[0.0,1.0]},\"xaxis\":{\"title\":{\"text\":\"PC1\"}},\"yaxis\":{\"title\":{\"text\":\"PC2\"}},\"zaxis\":{\"title\":{\"text\":\"PC3\"}}},\"coloraxis\":{\"colorbar\":{\"title\":{\"text\":\"preds\"}},\"colorscale\":[[0.0,\"#0d0887\"],[0.1111111111111111,\"#46039f\"],[0.2222222222222222,\"#7201a8\"],[0.3333333333333333,\"#9c179e\"],[0.4444444444444444,\"#bd3786\"],[0.5555555555555556,\"#d8576b\"],[0.6666666666666666,\"#ed7953\"],[0.7777777777777778,\"#fb9f3a\"],[0.8888888888888888,\"#fdca26\"],[1.0,\"#f0f921\"]]},\"legend\":{\"tracegroupgap\":0},\"margin\":{\"t\":60},\"title\":{\"text\":\"Agglomerative Clustering K=5\",\"x\":0.5}},                        {\"responsive\": true}                    ).then(function(){\n",
              "                            \n",
              "var gd = document.getElementById('c496eab4-9e80-44d2-951b-a3a7f54b4ae0');\n",
              "var x = new MutationObserver(function (mutations, observer) {{\n",
              "        var display = window.getComputedStyle(gd).display;\n",
              "        if (!display || display === 'none') {{\n",
              "            console.log([gd, 'removed!']);\n",
              "            Plotly.purge(gd);\n",
              "            observer.disconnect();\n",
              "        }}\n",
              "}});\n",
              "\n",
              "// Listen for the removal of the full notebook cells\n",
              "var notebookContainer = gd.closest('#notebook-container');\n",
              "if (notebookContainer) {{\n",
              "    x.observe(notebookContainer, {childList: true});\n",
              "}}\n",
              "\n",
              "// Listen for the clearing of the current output cell\n",
              "var outputEl = gd.closest('.output');\n",
              "if (outputEl) {{\n",
              "    x.observe(outputEl, {childList: true});\n",
              "}}\n",
              "\n",
              "                        })                };                            </script>        </div>\n",
              "</body>\n",
              "</html>"
            ]
          },
          "metadata": {}
        }
      ],
      "source": [
        "cluster_agg = AgglomerativeClustering(n_clusters=5)\n",
        "cluster_agg.fit(principalDf)\n",
        "\n",
        "visualize_clustering(principalDf, cluster_agg.labels_, title=\"Agglomerative Clustering K=5\")"
      ]
    },
    {
      "cell_type": "code",
      "execution_count": 50,
      "id": "45f439f6",
      "metadata": {
        "execution": {
          "iopub.execute_input": "2022-11-11T03:54:04.699517Z",
          "iopub.status.busy": "2022-11-11T03:54:04.698386Z",
          "iopub.status.idle": "2022-11-11T03:54:04.854343Z",
          "shell.execute_reply": "2022-11-11T03:54:04.853006Z"
        },
        "id": "45f439f6",
        "papermill": {
          "duration": 0.215001,
          "end_time": "2022-11-11T03:54:04.857612",
          "exception": false,
          "start_time": "2022-11-11T03:54:04.642611",
          "status": "completed"
        },
        "tags": []
      },
      "outputs": [],
      "source": [
        "db.append(davies_bouldin_score(principalDf, cluster_agg.labels_))\n",
        "sil.append(silhouette_score(principalDf, cluster_agg.labels_))"
      ]
    },
    {
      "cell_type": "markdown",
      "id": "61822ef0",
      "metadata": {
        "id": "61822ef0",
        "papermill": {
          "duration": 0.053645,
          "end_time": "2022-11-11T03:54:04.964863",
          "exception": false,
          "start_time": "2022-11-11T03:54:04.911218",
          "status": "completed"
        },
        "tags": []
      },
      "source": [
        "## 7.4 Evaluation <a class=\"anchor\" id=\"cluster_eval\"></a>\n",
        "\n"
      ]
    },
    {
      "cell_type": "code",
      "execution_count": 51,
      "id": "73a79a4e",
      "metadata": {
        "execution": {
          "iopub.execute_input": "2022-11-11T03:54:05.076078Z",
          "iopub.status.busy": "2022-11-11T03:54:05.075326Z",
          "iopub.status.idle": "2022-11-11T03:54:05.087875Z",
          "shell.execute_reply": "2022-11-11T03:54:05.086583Z"
        },
        "id": "73a79a4e",
        "outputId": "bc007a76-d38e-45d5-e9f4-163fb162051b",
        "papermill": {
          "duration": 0.071759,
          "end_time": "2022-11-11T03:54:05.090849",
          "exception": false,
          "start_time": "2022-11-11T03:54:05.019090",
          "status": "completed"
        },
        "tags": [],
        "colab": {
          "base_uri": "https://localhost:8080/",
          "height": 175
        }
      },
      "outputs": [
        {
          "output_type": "execute_result",
          "data": {
            "text/plain": [
              "               Davies Bouldin Index  Silhouette Index\n",
              "Algorithm                                            \n",
              "KMeans                     0.884431          0.453153\n",
              "DBSCAN                     0.568676          0.033743\n",
              "Agglomerative              1.070920          0.323736"
            ],
            "text/html": [
              "\n",
              "  <div id=\"df-2624c2ed-8b6d-47ac-8a5f-c62bcd891d11\">\n",
              "    <div class=\"colab-df-container\">\n",
              "      <div>\n",
              "<style scoped>\n",
              "    .dataframe tbody tr th:only-of-type {\n",
              "        vertical-align: middle;\n",
              "    }\n",
              "\n",
              "    .dataframe tbody tr th {\n",
              "        vertical-align: top;\n",
              "    }\n",
              "\n",
              "    .dataframe thead th {\n",
              "        text-align: right;\n",
              "    }\n",
              "</style>\n",
              "<table border=\"1\" class=\"dataframe\">\n",
              "  <thead>\n",
              "    <tr style=\"text-align: right;\">\n",
              "      <th></th>\n",
              "      <th>Davies Bouldin Index</th>\n",
              "      <th>Silhouette Index</th>\n",
              "    </tr>\n",
              "    <tr>\n",
              "      <th>Algorithm</th>\n",
              "      <th></th>\n",
              "      <th></th>\n",
              "    </tr>\n",
              "  </thead>\n",
              "  <tbody>\n",
              "    <tr>\n",
              "      <th>KMeans</th>\n",
              "      <td>0.884431</td>\n",
              "      <td>0.453153</td>\n",
              "    </tr>\n",
              "    <tr>\n",
              "      <th>DBSCAN</th>\n",
              "      <td>0.568676</td>\n",
              "      <td>0.033743</td>\n",
              "    </tr>\n",
              "    <tr>\n",
              "      <th>Agglomerative</th>\n",
              "      <td>1.070920</td>\n",
              "      <td>0.323736</td>\n",
              "    </tr>\n",
              "  </tbody>\n",
              "</table>\n",
              "</div>\n",
              "      <button class=\"colab-df-convert\" onclick=\"convertToInteractive('df-2624c2ed-8b6d-47ac-8a5f-c62bcd891d11')\"\n",
              "              title=\"Convert this dataframe to an interactive table.\"\n",
              "              style=\"display:none;\">\n",
              "        \n",
              "  <svg xmlns=\"http://www.w3.org/2000/svg\" height=\"24px\"viewBox=\"0 0 24 24\"\n",
              "       width=\"24px\">\n",
              "    <path d=\"M0 0h24v24H0V0z\" fill=\"none\"/>\n",
              "    <path d=\"M18.56 5.44l.94 2.06.94-2.06 2.06-.94-2.06-.94-.94-2.06-.94 2.06-2.06.94zm-11 1L8.5 8.5l.94-2.06 2.06-.94-2.06-.94L8.5 2.5l-.94 2.06-2.06.94zm10 10l.94 2.06.94-2.06 2.06-.94-2.06-.94-.94-2.06-.94 2.06-2.06.94z\"/><path d=\"M17.41 7.96l-1.37-1.37c-.4-.4-.92-.59-1.43-.59-.52 0-1.04.2-1.43.59L10.3 9.45l-7.72 7.72c-.78.78-.78 2.05 0 2.83L4 21.41c.39.39.9.59 1.41.59.51 0 1.02-.2 1.41-.59l7.78-7.78 2.81-2.81c.8-.78.8-2.07 0-2.86zM5.41 20L4 18.59l7.72-7.72 1.47 1.35L5.41 20z\"/>\n",
              "  </svg>\n",
              "      </button>\n",
              "      \n",
              "  <style>\n",
              "    .colab-df-container {\n",
              "      display:flex;\n",
              "      flex-wrap:wrap;\n",
              "      gap: 12px;\n",
              "    }\n",
              "\n",
              "    .colab-df-convert {\n",
              "      background-color: #E8F0FE;\n",
              "      border: none;\n",
              "      border-radius: 50%;\n",
              "      cursor: pointer;\n",
              "      display: none;\n",
              "      fill: #1967D2;\n",
              "      height: 32px;\n",
              "      padding: 0 0 0 0;\n",
              "      width: 32px;\n",
              "    }\n",
              "\n",
              "    .colab-df-convert:hover {\n",
              "      background-color: #E2EBFA;\n",
              "      box-shadow: 0px 1px 2px rgba(60, 64, 67, 0.3), 0px 1px 3px 1px rgba(60, 64, 67, 0.15);\n",
              "      fill: #174EA6;\n",
              "    }\n",
              "\n",
              "    [theme=dark] .colab-df-convert {\n",
              "      background-color: #3B4455;\n",
              "      fill: #D2E3FC;\n",
              "    }\n",
              "\n",
              "    [theme=dark] .colab-df-convert:hover {\n",
              "      background-color: #434B5C;\n",
              "      box-shadow: 0px 1px 3px 1px rgba(0, 0, 0, 0.15);\n",
              "      filter: drop-shadow(0px 1px 2px rgba(0, 0, 0, 0.3));\n",
              "      fill: #FFFFFF;\n",
              "    }\n",
              "  </style>\n",
              "\n",
              "      <script>\n",
              "        const buttonEl =\n",
              "          document.querySelector('#df-2624c2ed-8b6d-47ac-8a5f-c62bcd891d11 button.colab-df-convert');\n",
              "        buttonEl.style.display =\n",
              "          google.colab.kernel.accessAllowed ? 'block' : 'none';\n",
              "\n",
              "        async function convertToInteractive(key) {\n",
              "          const element = document.querySelector('#df-2624c2ed-8b6d-47ac-8a5f-c62bcd891d11');\n",
              "          const dataTable =\n",
              "            await google.colab.kernel.invokeFunction('convertToInteractive',\n",
              "                                                     [key], {});\n",
              "          if (!dataTable) return;\n",
              "\n",
              "          const docLinkHtml = 'Like what you see? Visit the ' +\n",
              "            '<a target=\"_blank\" href=https://colab.research.google.com/notebooks/data_table.ipynb>data table notebook</a>'\n",
              "            + ' to learn more about interactive tables.';\n",
              "          element.innerHTML = '';\n",
              "          dataTable['output_type'] = 'display_data';\n",
              "          await google.colab.output.renderOutput(dataTable, element);\n",
              "          const docLink = document.createElement('div');\n",
              "          docLink.innerHTML = docLinkHtml;\n",
              "          element.appendChild(docLink);\n",
              "        }\n",
              "      </script>\n",
              "    </div>\n",
              "  </div>\n",
              "  "
            ]
          },
          "metadata": {},
          "execution_count": 51
        }
      ],
      "source": [
        "res = pd.DataFrame({'Davies Bouldin Index': db, 'Silhouette Index': sil}, index=['KMeans', 'DBSCAN', 'Agglomerative'])\n",
        "res.index.names = ['Algorithm']\n",
        "\n",
        "res"
      ]
    },
    {
      "cell_type": "code",
      "execution_count": 52,
      "id": "a22509a2",
      "metadata": {
        "execution": {
          "iopub.execute_input": "2022-11-11T03:54:05.313559Z",
          "iopub.status.busy": "2022-11-11T03:54:05.313097Z",
          "iopub.status.idle": "2022-11-11T03:54:05.338120Z",
          "shell.execute_reply": "2022-11-11T03:54:05.337015Z"
        },
        "id": "a22509a2",
        "outputId": "7bada2e3-22d9-44b3-efe4-047326656db0",
        "papermill": {
          "duration": 0.084655,
          "end_time": "2022-11-11T03:54:05.341031",
          "exception": false,
          "start_time": "2022-11-11T03:54:05.256376",
          "status": "completed"
        },
        "tags": [],
        "colab": {
          "base_uri": "https://localhost:8080/",
          "height": 299
        }
      },
      "outputs": [
        {
          "output_type": "execute_result",
          "data": {
            "text/plain": [
              "   Year_Birth      Education   Marital_Status   Income  Kidhome  Teenhome  \\\n",
              "0        1957  UnderGraduate           Single  58138.0        0         0   \n",
              "1        1954  UnderGraduate           Single  46344.0        1         1   \n",
              "2        1965  UnderGraduate  In Relationship  71613.0        0         0   \n",
              "3        1984  UnderGraduate  In Relationship  26646.0        1         0   \n",
              "4        1981            PhD  In Relationship  58293.0        1         0   \n",
              "\n",
              "   CustomerSince  Recency  MntWines  MntFruits  ...  AcceptedCmp5  \\\n",
              "0           2012       58       635         88  ...             0   \n",
              "1           2014       38        11          1  ...             0   \n",
              "2           2013       26       426         49  ...             0   \n",
              "3           2014       26        11          4  ...             0   \n",
              "4           2014       94       173         43  ...             0   \n",
              "\n",
              "   AcceptedCmp1  AcceptedCmp2  Complain  AcceptedCmpCurrent  NumPurchases  \\\n",
              "0             0             0         0                   1            22   \n",
              "1             0             0         0                   0             4   \n",
              "2             0             0         0                   0            20   \n",
              "3             0             0         0                   0             6   \n",
              "4             0             0         0                   0            14   \n",
              "\n",
              "   AmountSpent  AmountPerPurchase  PersonsInHome  Cluster  \n",
              "0         1617          73.167421              2        2  \n",
              "1           27           6.585366              4        1  \n",
              "2          776          38.606965              2        2  \n",
              "3           53           8.688525              3        1  \n",
              "4          422          29.929078              3        0  \n",
              "\n",
              "[5 rows x 31 columns]"
            ],
            "text/html": [
              "\n",
              "  <div id=\"df-f3b69f20-c743-41a0-b824-e018986de499\">\n",
              "    <div class=\"colab-df-container\">\n",
              "      <div>\n",
              "<style scoped>\n",
              "    .dataframe tbody tr th:only-of-type {\n",
              "        vertical-align: middle;\n",
              "    }\n",
              "\n",
              "    .dataframe tbody tr th {\n",
              "        vertical-align: top;\n",
              "    }\n",
              "\n",
              "    .dataframe thead th {\n",
              "        text-align: right;\n",
              "    }\n",
              "</style>\n",
              "<table border=\"1\" class=\"dataframe\">\n",
              "  <thead>\n",
              "    <tr style=\"text-align: right;\">\n",
              "      <th></th>\n",
              "      <th>Year_Birth</th>\n",
              "      <th>Education</th>\n",
              "      <th>Marital_Status</th>\n",
              "      <th>Income</th>\n",
              "      <th>Kidhome</th>\n",
              "      <th>Teenhome</th>\n",
              "      <th>CustomerSince</th>\n",
              "      <th>Recency</th>\n",
              "      <th>MntWines</th>\n",
              "      <th>MntFruits</th>\n",
              "      <th>...</th>\n",
              "      <th>AcceptedCmp5</th>\n",
              "      <th>AcceptedCmp1</th>\n",
              "      <th>AcceptedCmp2</th>\n",
              "      <th>Complain</th>\n",
              "      <th>AcceptedCmpCurrent</th>\n",
              "      <th>NumPurchases</th>\n",
              "      <th>AmountSpent</th>\n",
              "      <th>AmountPerPurchase</th>\n",
              "      <th>PersonsInHome</th>\n",
              "      <th>Cluster</th>\n",
              "    </tr>\n",
              "  </thead>\n",
              "  <tbody>\n",
              "    <tr>\n",
              "      <th>0</th>\n",
              "      <td>1957</td>\n",
              "      <td>UnderGraduate</td>\n",
              "      <td>Single</td>\n",
              "      <td>58138.0</td>\n",
              "      <td>0</td>\n",
              "      <td>0</td>\n",
              "      <td>2012</td>\n",
              "      <td>58</td>\n",
              "      <td>635</td>\n",
              "      <td>88</td>\n",
              "      <td>...</td>\n",
              "      <td>0</td>\n",
              "      <td>0</td>\n",
              "      <td>0</td>\n",
              "      <td>0</td>\n",
              "      <td>1</td>\n",
              "      <td>22</td>\n",
              "      <td>1617</td>\n",
              "      <td>73.167421</td>\n",
              "      <td>2</td>\n",
              "      <td>2</td>\n",
              "    </tr>\n",
              "    <tr>\n",
              "      <th>1</th>\n",
              "      <td>1954</td>\n",
              "      <td>UnderGraduate</td>\n",
              "      <td>Single</td>\n",
              "      <td>46344.0</td>\n",
              "      <td>1</td>\n",
              "      <td>1</td>\n",
              "      <td>2014</td>\n",
              "      <td>38</td>\n",
              "      <td>11</td>\n",
              "      <td>1</td>\n",
              "      <td>...</td>\n",
              "      <td>0</td>\n",
              "      <td>0</td>\n",
              "      <td>0</td>\n",
              "      <td>0</td>\n",
              "      <td>0</td>\n",
              "      <td>4</td>\n",
              "      <td>27</td>\n",
              "      <td>6.585366</td>\n",
              "      <td>4</td>\n",
              "      <td>1</td>\n",
              "    </tr>\n",
              "    <tr>\n",
              "      <th>2</th>\n",
              "      <td>1965</td>\n",
              "      <td>UnderGraduate</td>\n",
              "      <td>In Relationship</td>\n",
              "      <td>71613.0</td>\n",
              "      <td>0</td>\n",
              "      <td>0</td>\n",
              "      <td>2013</td>\n",
              "      <td>26</td>\n",
              "      <td>426</td>\n",
              "      <td>49</td>\n",
              "      <td>...</td>\n",
              "      <td>0</td>\n",
              "      <td>0</td>\n",
              "      <td>0</td>\n",
              "      <td>0</td>\n",
              "      <td>0</td>\n",
              "      <td>20</td>\n",
              "      <td>776</td>\n",
              "      <td>38.606965</td>\n",
              "      <td>2</td>\n",
              "      <td>2</td>\n",
              "    </tr>\n",
              "    <tr>\n",
              "      <th>3</th>\n",
              "      <td>1984</td>\n",
              "      <td>UnderGraduate</td>\n",
              "      <td>In Relationship</td>\n",
              "      <td>26646.0</td>\n",
              "      <td>1</td>\n",
              "      <td>0</td>\n",
              "      <td>2014</td>\n",
              "      <td>26</td>\n",
              "      <td>11</td>\n",
              "      <td>4</td>\n",
              "      <td>...</td>\n",
              "      <td>0</td>\n",
              "      <td>0</td>\n",
              "      <td>0</td>\n",
              "      <td>0</td>\n",
              "      <td>0</td>\n",
              "      <td>6</td>\n",
              "      <td>53</td>\n",
              "      <td>8.688525</td>\n",
              "      <td>3</td>\n",
              "      <td>1</td>\n",
              "    </tr>\n",
              "    <tr>\n",
              "      <th>4</th>\n",
              "      <td>1981</td>\n",
              "      <td>PhD</td>\n",
              "      <td>In Relationship</td>\n",
              "      <td>58293.0</td>\n",
              "      <td>1</td>\n",
              "      <td>0</td>\n",
              "      <td>2014</td>\n",
              "      <td>94</td>\n",
              "      <td>173</td>\n",
              "      <td>43</td>\n",
              "      <td>...</td>\n",
              "      <td>0</td>\n",
              "      <td>0</td>\n",
              "      <td>0</td>\n",
              "      <td>0</td>\n",
              "      <td>0</td>\n",
              "      <td>14</td>\n",
              "      <td>422</td>\n",
              "      <td>29.929078</td>\n",
              "      <td>3</td>\n",
              "      <td>0</td>\n",
              "    </tr>\n",
              "  </tbody>\n",
              "</table>\n",
              "<p>5 rows × 31 columns</p>\n",
              "</div>\n",
              "      <button class=\"colab-df-convert\" onclick=\"convertToInteractive('df-f3b69f20-c743-41a0-b824-e018986de499')\"\n",
              "              title=\"Convert this dataframe to an interactive table.\"\n",
              "              style=\"display:none;\">\n",
              "        \n",
              "  <svg xmlns=\"http://www.w3.org/2000/svg\" height=\"24px\"viewBox=\"0 0 24 24\"\n",
              "       width=\"24px\">\n",
              "    <path d=\"M0 0h24v24H0V0z\" fill=\"none\"/>\n",
              "    <path d=\"M18.56 5.44l.94 2.06.94-2.06 2.06-.94-2.06-.94-.94-2.06-.94 2.06-2.06.94zm-11 1L8.5 8.5l.94-2.06 2.06-.94-2.06-.94L8.5 2.5l-.94 2.06-2.06.94zm10 10l.94 2.06.94-2.06 2.06-.94-2.06-.94-.94-2.06-.94 2.06-2.06.94z\"/><path d=\"M17.41 7.96l-1.37-1.37c-.4-.4-.92-.59-1.43-.59-.52 0-1.04.2-1.43.59L10.3 9.45l-7.72 7.72c-.78.78-.78 2.05 0 2.83L4 21.41c.39.39.9.59 1.41.59.51 0 1.02-.2 1.41-.59l7.78-7.78 2.81-2.81c.8-.78.8-2.07 0-2.86zM5.41 20L4 18.59l7.72-7.72 1.47 1.35L5.41 20z\"/>\n",
              "  </svg>\n",
              "      </button>\n",
              "      \n",
              "  <style>\n",
              "    .colab-df-container {\n",
              "      display:flex;\n",
              "      flex-wrap:wrap;\n",
              "      gap: 12px;\n",
              "    }\n",
              "\n",
              "    .colab-df-convert {\n",
              "      background-color: #E8F0FE;\n",
              "      border: none;\n",
              "      border-radius: 50%;\n",
              "      cursor: pointer;\n",
              "      display: none;\n",
              "      fill: #1967D2;\n",
              "      height: 32px;\n",
              "      padding: 0 0 0 0;\n",
              "      width: 32px;\n",
              "    }\n",
              "\n",
              "    .colab-df-convert:hover {\n",
              "      background-color: #E2EBFA;\n",
              "      box-shadow: 0px 1px 2px rgba(60, 64, 67, 0.3), 0px 1px 3px 1px rgba(60, 64, 67, 0.15);\n",
              "      fill: #174EA6;\n",
              "    }\n",
              "\n",
              "    [theme=dark] .colab-df-convert {\n",
              "      background-color: #3B4455;\n",
              "      fill: #D2E3FC;\n",
              "    }\n",
              "\n",
              "    [theme=dark] .colab-df-convert:hover {\n",
              "      background-color: #434B5C;\n",
              "      box-shadow: 0px 1px 3px 1px rgba(0, 0, 0, 0.15);\n",
              "      filter: drop-shadow(0px 1px 2px rgba(0, 0, 0, 0.3));\n",
              "      fill: #FFFFFF;\n",
              "    }\n",
              "  </style>\n",
              "\n",
              "      <script>\n",
              "        const buttonEl =\n",
              "          document.querySelector('#df-f3b69f20-c743-41a0-b824-e018986de499 button.colab-df-convert');\n",
              "        buttonEl.style.display =\n",
              "          google.colab.kernel.accessAllowed ? 'block' : 'none';\n",
              "\n",
              "        async function convertToInteractive(key) {\n",
              "          const element = document.querySelector('#df-f3b69f20-c743-41a0-b824-e018986de499');\n",
              "          const dataTable =\n",
              "            await google.colab.kernel.invokeFunction('convertToInteractive',\n",
              "                                                     [key], {});\n",
              "          if (!dataTable) return;\n",
              "\n",
              "          const docLinkHtml = 'Like what you see? Visit the ' +\n",
              "            '<a target=\"_blank\" href=https://colab.research.google.com/notebooks/data_table.ipynb>data table notebook</a>'\n",
              "            + ' to learn more about interactive tables.';\n",
              "          element.innerHTML = '';\n",
              "          dataTable['output_type'] = 'display_data';\n",
              "          await google.colab.output.renderOutput(dataTable, element);\n",
              "          const docLink = document.createElement('div');\n",
              "          docLink.innerHTML = docLinkHtml;\n",
              "          element.appendChild(docLink);\n",
              "        }\n",
              "      </script>\n",
              "    </div>\n",
              "  </div>\n",
              "  "
            ]
          },
          "metadata": {},
          "execution_count": 52
        }
      ],
      "source": [
        "# add cluster labels to the original dataset\n",
        "df['Cluster'] = cluster_k.labels_\n",
        "\n",
        "df.head()"
      ]
    },
    {
      "cell_type": "code",
      "execution_count": 53,
      "id": "9bc2e132",
      "metadata": {
        "execution": {
          "iopub.execute_input": "2022-11-11T03:54:10.568545Z",
          "iopub.status.busy": "2022-11-11T03:54:10.568090Z",
          "iopub.status.idle": "2022-11-11T03:54:10.622960Z",
          "shell.execute_reply": "2022-11-11T03:54:10.621719Z"
        },
        "id": "9bc2e132",
        "outputId": "3c926d97-929e-4bc6-c703-256121fda72c",
        "papermill": {
          "duration": 0.11866,
          "end_time": "2022-11-11T03:54:10.625695",
          "exception": false,
          "start_time": "2022-11-11T03:54:10.507035",
          "status": "completed"
        },
        "tags": [],
        "colab": {
          "base_uri": "https://localhost:8080/",
          "height": 542
        }
      },
      "outputs": [
        {
          "output_type": "display_data",
          "data": {
            "text/html": [
              "<html>\n",
              "<head><meta charset=\"utf-8\" /></head>\n",
              "<body>\n",
              "    <div>            <script src=\"https://cdnjs.cloudflare.com/ajax/libs/mathjax/2.7.5/MathJax.js?config=TeX-AMS-MML_SVG\"></script><script type=\"text/javascript\">if (window.MathJax) {MathJax.Hub.Config({SVG: {font: \"STIX-Web\"}});}</script>                <script type=\"text/javascript\">window.PlotlyConfig = {MathJaxConfig: 'local'};</script>\n",
              "        <script src=\"https://cdn.plot.ly/plotly-2.8.3.min.js\"></script>                <div id=\"e66fb28f-436e-4b6c-a093-b05123d3a337\" class=\"plotly-graph-div\" style=\"height:525px; width:100%;\"></div>            <script type=\"text/javascript\">                                    window.PLOTLYENV=window.PLOTLYENV || {};                                    if (document.getElementById(\"e66fb28f-436e-4b6c-a093-b05123d3a337\")) {                    Plotly.newPlot(                        \"e66fb28f-436e-4b6c-a093-b05123d3a337\",                        [{\"domain\":{\"x\":[0.0,1.0],\"y\":[0.0,1.0]},\"hovertemplate\":\"label=%{label}<br>value=%{value}<extra></extra>\",\"labels\":[0,1,2,3,4],\"legendgroup\":\"\",\"name\":\"\",\"showlegend\":true,\"values\":[51146.95,33648.9,75440.81,80360.27,64298.36],\"type\":\"pie\",\"textinfo\":\"percent+value\"}],                        {\"template\":{\"data\":{\"bar\":[{\"error_x\":{\"color\":\"#2a3f5f\"},\"error_y\":{\"color\":\"#2a3f5f\"},\"marker\":{\"line\":{\"color\":\"#E5ECF6\",\"width\":0.5},\"pattern\":{\"fillmode\":\"overlay\",\"size\":10,\"solidity\":0.2}},\"type\":\"bar\"}],\"barpolar\":[{\"marker\":{\"line\":{\"color\":\"#E5ECF6\",\"width\":0.5},\"pattern\":{\"fillmode\":\"overlay\",\"size\":10,\"solidity\":0.2}},\"type\":\"barpolar\"}],\"carpet\":[{\"aaxis\":{\"endlinecolor\":\"#2a3f5f\",\"gridcolor\":\"white\",\"linecolor\":\"white\",\"minorgridcolor\":\"white\",\"startlinecolor\":\"#2a3f5f\"},\"baxis\":{\"endlinecolor\":\"#2a3f5f\",\"gridcolor\":\"white\",\"linecolor\":\"white\",\"minorgridcolor\":\"white\",\"startlinecolor\":\"#2a3f5f\"},\"type\":\"carpet\"}],\"choropleth\":[{\"colorbar\":{\"outlinewidth\":0,\"ticks\":\"\"},\"type\":\"choropleth\"}],\"contour\":[{\"colorbar\":{\"outlinewidth\":0,\"ticks\":\"\"},\"colorscale\":[[0.0,\"#0d0887\"],[0.1111111111111111,\"#46039f\"],[0.2222222222222222,\"#7201a8\"],[0.3333333333333333,\"#9c179e\"],[0.4444444444444444,\"#bd3786\"],[0.5555555555555556,\"#d8576b\"],[0.6666666666666666,\"#ed7953\"],[0.7777777777777778,\"#fb9f3a\"],[0.8888888888888888,\"#fdca26\"],[1.0,\"#f0f921\"]],\"type\":\"contour\"}],\"contourcarpet\":[{\"colorbar\":{\"outlinewidth\":0,\"ticks\":\"\"},\"type\":\"contourcarpet\"}],\"heatmap\":[{\"colorbar\":{\"outlinewidth\":0,\"ticks\":\"\"},\"colorscale\":[[0.0,\"#0d0887\"],[0.1111111111111111,\"#46039f\"],[0.2222222222222222,\"#7201a8\"],[0.3333333333333333,\"#9c179e\"],[0.4444444444444444,\"#bd3786\"],[0.5555555555555556,\"#d8576b\"],[0.6666666666666666,\"#ed7953\"],[0.7777777777777778,\"#fb9f3a\"],[0.8888888888888888,\"#fdca26\"],[1.0,\"#f0f921\"]],\"type\":\"heatmap\"}],\"heatmapgl\":[{\"colorbar\":{\"outlinewidth\":0,\"ticks\":\"\"},\"colorscale\":[[0.0,\"#0d0887\"],[0.1111111111111111,\"#46039f\"],[0.2222222222222222,\"#7201a8\"],[0.3333333333333333,\"#9c179e\"],[0.4444444444444444,\"#bd3786\"],[0.5555555555555556,\"#d8576b\"],[0.6666666666666666,\"#ed7953\"],[0.7777777777777778,\"#fb9f3a\"],[0.8888888888888888,\"#fdca26\"],[1.0,\"#f0f921\"]],\"type\":\"heatmapgl\"}],\"histogram\":[{\"marker\":{\"pattern\":{\"fillmode\":\"overlay\",\"size\":10,\"solidity\":0.2}},\"type\":\"histogram\"}],\"histogram2d\":[{\"colorbar\":{\"outlinewidth\":0,\"ticks\":\"\"},\"colorscale\":[[0.0,\"#0d0887\"],[0.1111111111111111,\"#46039f\"],[0.2222222222222222,\"#7201a8\"],[0.3333333333333333,\"#9c179e\"],[0.4444444444444444,\"#bd3786\"],[0.5555555555555556,\"#d8576b\"],[0.6666666666666666,\"#ed7953\"],[0.7777777777777778,\"#fb9f3a\"],[0.8888888888888888,\"#fdca26\"],[1.0,\"#f0f921\"]],\"type\":\"histogram2d\"}],\"histogram2dcontour\":[{\"colorbar\":{\"outlinewidth\":0,\"ticks\":\"\"},\"colorscale\":[[0.0,\"#0d0887\"],[0.1111111111111111,\"#46039f\"],[0.2222222222222222,\"#7201a8\"],[0.3333333333333333,\"#9c179e\"],[0.4444444444444444,\"#bd3786\"],[0.5555555555555556,\"#d8576b\"],[0.6666666666666666,\"#ed7953\"],[0.7777777777777778,\"#fb9f3a\"],[0.8888888888888888,\"#fdca26\"],[1.0,\"#f0f921\"]],\"type\":\"histogram2dcontour\"}],\"mesh3d\":[{\"colorbar\":{\"outlinewidth\":0,\"ticks\":\"\"},\"type\":\"mesh3d\"}],\"parcoords\":[{\"line\":{\"colorbar\":{\"outlinewidth\":0,\"ticks\":\"\"}},\"type\":\"parcoords\"}],\"pie\":[{\"automargin\":true,\"type\":\"pie\"}],\"scatter\":[{\"marker\":{\"colorbar\":{\"outlinewidth\":0,\"ticks\":\"\"}},\"type\":\"scatter\"}],\"scatter3d\":[{\"line\":{\"colorbar\":{\"outlinewidth\":0,\"ticks\":\"\"}},\"marker\":{\"colorbar\":{\"outlinewidth\":0,\"ticks\":\"\"}},\"type\":\"scatter3d\"}],\"scattercarpet\":[{\"marker\":{\"colorbar\":{\"outlinewidth\":0,\"ticks\":\"\"}},\"type\":\"scattercarpet\"}],\"scattergeo\":[{\"marker\":{\"colorbar\":{\"outlinewidth\":0,\"ticks\":\"\"}},\"type\":\"scattergeo\"}],\"scattergl\":[{\"marker\":{\"colorbar\":{\"outlinewidth\":0,\"ticks\":\"\"}},\"type\":\"scattergl\"}],\"scattermapbox\":[{\"marker\":{\"colorbar\":{\"outlinewidth\":0,\"ticks\":\"\"}},\"type\":\"scattermapbox\"}],\"scatterpolar\":[{\"marker\":{\"colorbar\":{\"outlinewidth\":0,\"ticks\":\"\"}},\"type\":\"scatterpolar\"}],\"scatterpolargl\":[{\"marker\":{\"colorbar\":{\"outlinewidth\":0,\"ticks\":\"\"}},\"type\":\"scatterpolargl\"}],\"scatterternary\":[{\"marker\":{\"colorbar\":{\"outlinewidth\":0,\"ticks\":\"\"}},\"type\":\"scatterternary\"}],\"surface\":[{\"colorbar\":{\"outlinewidth\":0,\"ticks\":\"\"},\"colorscale\":[[0.0,\"#0d0887\"],[0.1111111111111111,\"#46039f\"],[0.2222222222222222,\"#7201a8\"],[0.3333333333333333,\"#9c179e\"],[0.4444444444444444,\"#bd3786\"],[0.5555555555555556,\"#d8576b\"],[0.6666666666666666,\"#ed7953\"],[0.7777777777777778,\"#fb9f3a\"],[0.8888888888888888,\"#fdca26\"],[1.0,\"#f0f921\"]],\"type\":\"surface\"}],\"table\":[{\"cells\":{\"fill\":{\"color\":\"#EBF0F8\"},\"line\":{\"color\":\"white\"}},\"header\":{\"fill\":{\"color\":\"#C8D4E3\"},\"line\":{\"color\":\"white\"}},\"type\":\"table\"}]},\"layout\":{\"annotationdefaults\":{\"arrowcolor\":\"#2a3f5f\",\"arrowhead\":0,\"arrowwidth\":1},\"autotypenumbers\":\"strict\",\"coloraxis\":{\"colorbar\":{\"outlinewidth\":0,\"ticks\":\"\"}},\"colorscale\":{\"diverging\":[[0,\"#8e0152\"],[0.1,\"#c51b7d\"],[0.2,\"#de77ae\"],[0.3,\"#f1b6da\"],[0.4,\"#fde0ef\"],[0.5,\"#f7f7f7\"],[0.6,\"#e6f5d0\"],[0.7,\"#b8e186\"],[0.8,\"#7fbc41\"],[0.9,\"#4d9221\"],[1,\"#276419\"]],\"sequential\":[[0.0,\"#0d0887\"],[0.1111111111111111,\"#46039f\"],[0.2222222222222222,\"#7201a8\"],[0.3333333333333333,\"#9c179e\"],[0.4444444444444444,\"#bd3786\"],[0.5555555555555556,\"#d8576b\"],[0.6666666666666666,\"#ed7953\"],[0.7777777777777778,\"#fb9f3a\"],[0.8888888888888888,\"#fdca26\"],[1.0,\"#f0f921\"]],\"sequentialminus\":[[0.0,\"#0d0887\"],[0.1111111111111111,\"#46039f\"],[0.2222222222222222,\"#7201a8\"],[0.3333333333333333,\"#9c179e\"],[0.4444444444444444,\"#bd3786\"],[0.5555555555555556,\"#d8576b\"],[0.6666666666666666,\"#ed7953\"],[0.7777777777777778,\"#fb9f3a\"],[0.8888888888888888,\"#fdca26\"],[1.0,\"#f0f921\"]]},\"colorway\":[\"#636efa\",\"#EF553B\",\"#00cc96\",\"#ab63fa\",\"#FFA15A\",\"#19d3f3\",\"#FF6692\",\"#B6E880\",\"#FF97FF\",\"#FECB52\"],\"font\":{\"color\":\"#2a3f5f\"},\"geo\":{\"bgcolor\":\"white\",\"lakecolor\":\"white\",\"landcolor\":\"#E5ECF6\",\"showlakes\":true,\"showland\":true,\"subunitcolor\":\"white\"},\"hoverlabel\":{\"align\":\"left\"},\"hovermode\":\"closest\",\"mapbox\":{\"style\":\"light\"},\"paper_bgcolor\":\"white\",\"plot_bgcolor\":\"#E5ECF6\",\"polar\":{\"angularaxis\":{\"gridcolor\":\"white\",\"linecolor\":\"white\",\"ticks\":\"\"},\"bgcolor\":\"#E5ECF6\",\"radialaxis\":{\"gridcolor\":\"white\",\"linecolor\":\"white\",\"ticks\":\"\"}},\"scene\":{\"xaxis\":{\"backgroundcolor\":\"#E5ECF6\",\"gridcolor\":\"white\",\"gridwidth\":2,\"linecolor\":\"white\",\"showbackground\":true,\"ticks\":\"\",\"zerolinecolor\":\"white\"},\"yaxis\":{\"backgroundcolor\":\"#E5ECF6\",\"gridcolor\":\"white\",\"gridwidth\":2,\"linecolor\":\"white\",\"showbackground\":true,\"ticks\":\"\",\"zerolinecolor\":\"white\"},\"zaxis\":{\"backgroundcolor\":\"#E5ECF6\",\"gridcolor\":\"white\",\"gridwidth\":2,\"linecolor\":\"white\",\"showbackground\":true,\"ticks\":\"\",\"zerolinecolor\":\"white\"}},\"shapedefaults\":{\"line\":{\"color\":\"#2a3f5f\"}},\"ternary\":{\"aaxis\":{\"gridcolor\":\"white\",\"linecolor\":\"white\",\"ticks\":\"\"},\"baxis\":{\"gridcolor\":\"white\",\"linecolor\":\"white\",\"ticks\":\"\"},\"bgcolor\":\"#E5ECF6\",\"caxis\":{\"gridcolor\":\"white\",\"linecolor\":\"white\",\"ticks\":\"\"}},\"title\":{\"x\":0.05},\"xaxis\":{\"automargin\":true,\"gridcolor\":\"white\",\"linecolor\":\"white\",\"ticks\":\"\",\"title\":{\"standoff\":15},\"zerolinecolor\":\"white\",\"zerolinewidth\":2},\"yaxis\":{\"automargin\":true,\"gridcolor\":\"white\",\"linecolor\":\"white\",\"ticks\":\"\",\"title\":{\"standoff\":15},\"zerolinecolor\":\"white\",\"zerolinewidth\":2}}},\"legend\":{\"tracegroupgap\":0},\"margin\":{\"t\":60},\"piecolorway\":[\"rgb(102, 197, 204)\",\"rgb(246, 207, 113)\",\"rgb(248, 156, 116)\",\"rgb(220, 176, 242)\",\"rgb(135, 197, 95)\",\"rgb(158, 185, 243)\",\"rgb(254, 136, 177)\",\"rgb(201, 219, 116)\",\"rgb(139, 224, 164)\",\"rgb(180, 151, 231)\",\"rgb(179, 179, 179)\"],\"title\":{\"text\":\"Average Income Per Group\",\"x\":0.5}},                        {\"responsive\": true}                    ).then(function(){\n",
              "                            \n",
              "var gd = document.getElementById('e66fb28f-436e-4b6c-a093-b05123d3a337');\n",
              "var x = new MutationObserver(function (mutations, observer) {{\n",
              "        var display = window.getComputedStyle(gd).display;\n",
              "        if (!display || display === 'none') {{\n",
              "            console.log([gd, 'removed!']);\n",
              "            Plotly.purge(gd);\n",
              "            observer.disconnect();\n",
              "        }}\n",
              "}});\n",
              "\n",
              "// Listen for the removal of the full notebook cells\n",
              "var notebookContainer = gd.closest('#notebook-container');\n",
              "if (notebookContainer) {{\n",
              "    x.observe(notebookContainer, {childList: true});\n",
              "}}\n",
              "\n",
              "// Listen for the clearing of the current output cell\n",
              "var outputEl = gd.closest('.output');\n",
              "if (outputEl) {{\n",
              "    x.observe(outputEl, {childList: true});\n",
              "}}\n",
              "\n",
              "                        })                };                            </script>        </div>\n",
              "</body>\n",
              "</html>"
            ]
          },
          "metadata": {}
        }
      ],
      "source": [
        "amount = df.groupby('Cluster').Income.mean()\n",
        "fig = px.pie(values=np.round(amount.values, 2), names=amount.index,  \n",
        "             color_discrete_sequence=px.colors.qualitative.Pastel)\n",
        "fig.data[0].textinfo = 'percent+value'\n",
        "fig.update_layout(title_text='Average Income Per Group', title_x=0.5)"
      ]
    },
    {
      "cell_type": "code",
      "execution_count": 54,
      "id": "b131755e",
      "metadata": {
        "execution": {
          "iopub.execute_input": "2022-11-11T03:54:10.982433Z",
          "iopub.status.busy": "2022-11-11T03:54:10.981600Z",
          "iopub.status.idle": "2022-11-11T03:54:11.036495Z",
          "shell.execute_reply": "2022-11-11T03:54:11.035491Z"
        },
        "id": "b131755e",
        "outputId": "14ef9661-1beb-4c56-b050-2372c1db08c4",
        "papermill": {
          "duration": 0.118059,
          "end_time": "2022-11-11T03:54:11.039103",
          "exception": false,
          "start_time": "2022-11-11T03:54:10.921044",
          "status": "completed"
        },
        "tags": [],
        "colab": {
          "base_uri": "https://localhost:8080/",
          "height": 542
        }
      },
      "outputs": [
        {
          "output_type": "display_data",
          "data": {
            "text/html": [
              "<html>\n",
              "<head><meta charset=\"utf-8\" /></head>\n",
              "<body>\n",
              "    <div>            <script src=\"https://cdnjs.cloudflare.com/ajax/libs/mathjax/2.7.5/MathJax.js?config=TeX-AMS-MML_SVG\"></script><script type=\"text/javascript\">if (window.MathJax) {MathJax.Hub.Config({SVG: {font: \"STIX-Web\"}});}</script>                <script type=\"text/javascript\">window.PlotlyConfig = {MathJaxConfig: 'local'};</script>\n",
              "        <script src=\"https://cdn.plot.ly/plotly-2.8.3.min.js\"></script>                <div id=\"fffc2011-5470-4a00-94a4-3a6dbdcd41f0\" class=\"plotly-graph-div\" style=\"height:525px; width:100%;\"></div>            <script type=\"text/javascript\">                                    window.PLOTLYENV=window.PLOTLYENV || {};                                    if (document.getElementById(\"fffc2011-5470-4a00-94a4-3a6dbdcd41f0\")) {                    Plotly.newPlot(                        \"fffc2011-5470-4a00-94a4-3a6dbdcd41f0\",                        [{\"domain\":{\"x\":[0.0,1.0],\"y\":[0.0,1.0]},\"hovertemplate\":\"label=%{label}<br>value=%{value}<extra></extra>\",\"labels\":[0,1,2,3,4],\"legendgroup\":\"\",\"name\":\"\",\"showlegend\":true,\"values\":[31.38,13.48,71.73,86.78,50.46],\"type\":\"pie\",\"textinfo\":\"percent+value\"}],                        {\"template\":{\"data\":{\"bar\":[{\"error_x\":{\"color\":\"#2a3f5f\"},\"error_y\":{\"color\":\"#2a3f5f\"},\"marker\":{\"line\":{\"color\":\"#E5ECF6\",\"width\":0.5},\"pattern\":{\"fillmode\":\"overlay\",\"size\":10,\"solidity\":0.2}},\"type\":\"bar\"}],\"barpolar\":[{\"marker\":{\"line\":{\"color\":\"#E5ECF6\",\"width\":0.5},\"pattern\":{\"fillmode\":\"overlay\",\"size\":10,\"solidity\":0.2}},\"type\":\"barpolar\"}],\"carpet\":[{\"aaxis\":{\"endlinecolor\":\"#2a3f5f\",\"gridcolor\":\"white\",\"linecolor\":\"white\",\"minorgridcolor\":\"white\",\"startlinecolor\":\"#2a3f5f\"},\"baxis\":{\"endlinecolor\":\"#2a3f5f\",\"gridcolor\":\"white\",\"linecolor\":\"white\",\"minorgridcolor\":\"white\",\"startlinecolor\":\"#2a3f5f\"},\"type\":\"carpet\"}],\"choropleth\":[{\"colorbar\":{\"outlinewidth\":0,\"ticks\":\"\"},\"type\":\"choropleth\"}],\"contour\":[{\"colorbar\":{\"outlinewidth\":0,\"ticks\":\"\"},\"colorscale\":[[0.0,\"#0d0887\"],[0.1111111111111111,\"#46039f\"],[0.2222222222222222,\"#7201a8\"],[0.3333333333333333,\"#9c179e\"],[0.4444444444444444,\"#bd3786\"],[0.5555555555555556,\"#d8576b\"],[0.6666666666666666,\"#ed7953\"],[0.7777777777777778,\"#fb9f3a\"],[0.8888888888888888,\"#fdca26\"],[1.0,\"#f0f921\"]],\"type\":\"contour\"}],\"contourcarpet\":[{\"colorbar\":{\"outlinewidth\":0,\"ticks\":\"\"},\"type\":\"contourcarpet\"}],\"heatmap\":[{\"colorbar\":{\"outlinewidth\":0,\"ticks\":\"\"},\"colorscale\":[[0.0,\"#0d0887\"],[0.1111111111111111,\"#46039f\"],[0.2222222222222222,\"#7201a8\"],[0.3333333333333333,\"#9c179e\"],[0.4444444444444444,\"#bd3786\"],[0.5555555555555556,\"#d8576b\"],[0.6666666666666666,\"#ed7953\"],[0.7777777777777778,\"#fb9f3a\"],[0.8888888888888888,\"#fdca26\"],[1.0,\"#f0f921\"]],\"type\":\"heatmap\"}],\"heatmapgl\":[{\"colorbar\":{\"outlinewidth\":0,\"ticks\":\"\"},\"colorscale\":[[0.0,\"#0d0887\"],[0.1111111111111111,\"#46039f\"],[0.2222222222222222,\"#7201a8\"],[0.3333333333333333,\"#9c179e\"],[0.4444444444444444,\"#bd3786\"],[0.5555555555555556,\"#d8576b\"],[0.6666666666666666,\"#ed7953\"],[0.7777777777777778,\"#fb9f3a\"],[0.8888888888888888,\"#fdca26\"],[1.0,\"#f0f921\"]],\"type\":\"heatmapgl\"}],\"histogram\":[{\"marker\":{\"pattern\":{\"fillmode\":\"overlay\",\"size\":10,\"solidity\":0.2}},\"type\":\"histogram\"}],\"histogram2d\":[{\"colorbar\":{\"outlinewidth\":0,\"ticks\":\"\"},\"colorscale\":[[0.0,\"#0d0887\"],[0.1111111111111111,\"#46039f\"],[0.2222222222222222,\"#7201a8\"],[0.3333333333333333,\"#9c179e\"],[0.4444444444444444,\"#bd3786\"],[0.5555555555555556,\"#d8576b\"],[0.6666666666666666,\"#ed7953\"],[0.7777777777777778,\"#fb9f3a\"],[0.8888888888888888,\"#fdca26\"],[1.0,\"#f0f921\"]],\"type\":\"histogram2d\"}],\"histogram2dcontour\":[{\"colorbar\":{\"outlinewidth\":0,\"ticks\":\"\"},\"colorscale\":[[0.0,\"#0d0887\"],[0.1111111111111111,\"#46039f\"],[0.2222222222222222,\"#7201a8\"],[0.3333333333333333,\"#9c179e\"],[0.4444444444444444,\"#bd3786\"],[0.5555555555555556,\"#d8576b\"],[0.6666666666666666,\"#ed7953\"],[0.7777777777777778,\"#fb9f3a\"],[0.8888888888888888,\"#fdca26\"],[1.0,\"#f0f921\"]],\"type\":\"histogram2dcontour\"}],\"mesh3d\":[{\"colorbar\":{\"outlinewidth\":0,\"ticks\":\"\"},\"type\":\"mesh3d\"}],\"parcoords\":[{\"line\":{\"colorbar\":{\"outlinewidth\":0,\"ticks\":\"\"}},\"type\":\"parcoords\"}],\"pie\":[{\"automargin\":true,\"type\":\"pie\"}],\"scatter\":[{\"marker\":{\"colorbar\":{\"outlinewidth\":0,\"ticks\":\"\"}},\"type\":\"scatter\"}],\"scatter3d\":[{\"line\":{\"colorbar\":{\"outlinewidth\":0,\"ticks\":\"\"}},\"marker\":{\"colorbar\":{\"outlinewidth\":0,\"ticks\":\"\"}},\"type\":\"scatter3d\"}],\"scattercarpet\":[{\"marker\":{\"colorbar\":{\"outlinewidth\":0,\"ticks\":\"\"}},\"type\":\"scattercarpet\"}],\"scattergeo\":[{\"marker\":{\"colorbar\":{\"outlinewidth\":0,\"ticks\":\"\"}},\"type\":\"scattergeo\"}],\"scattergl\":[{\"marker\":{\"colorbar\":{\"outlinewidth\":0,\"ticks\":\"\"}},\"type\":\"scattergl\"}],\"scattermapbox\":[{\"marker\":{\"colorbar\":{\"outlinewidth\":0,\"ticks\":\"\"}},\"type\":\"scattermapbox\"}],\"scatterpolar\":[{\"marker\":{\"colorbar\":{\"outlinewidth\":0,\"ticks\":\"\"}},\"type\":\"scatterpolar\"}],\"scatterpolargl\":[{\"marker\":{\"colorbar\":{\"outlinewidth\":0,\"ticks\":\"\"}},\"type\":\"scatterpolargl\"}],\"scatterternary\":[{\"marker\":{\"colorbar\":{\"outlinewidth\":0,\"ticks\":\"\"}},\"type\":\"scatterternary\"}],\"surface\":[{\"colorbar\":{\"outlinewidth\":0,\"ticks\":\"\"},\"colorscale\":[[0.0,\"#0d0887\"],[0.1111111111111111,\"#46039f\"],[0.2222222222222222,\"#7201a8\"],[0.3333333333333333,\"#9c179e\"],[0.4444444444444444,\"#bd3786\"],[0.5555555555555556,\"#d8576b\"],[0.6666666666666666,\"#ed7953\"],[0.7777777777777778,\"#fb9f3a\"],[0.8888888888888888,\"#fdca26\"],[1.0,\"#f0f921\"]],\"type\":\"surface\"}],\"table\":[{\"cells\":{\"fill\":{\"color\":\"#EBF0F8\"},\"line\":{\"color\":\"white\"}},\"header\":{\"fill\":{\"color\":\"#C8D4E3\"},\"line\":{\"color\":\"white\"}},\"type\":\"table\"}]},\"layout\":{\"annotationdefaults\":{\"arrowcolor\":\"#2a3f5f\",\"arrowhead\":0,\"arrowwidth\":1},\"autotypenumbers\":\"strict\",\"coloraxis\":{\"colorbar\":{\"outlinewidth\":0,\"ticks\":\"\"}},\"colorscale\":{\"diverging\":[[0,\"#8e0152\"],[0.1,\"#c51b7d\"],[0.2,\"#de77ae\"],[0.3,\"#f1b6da\"],[0.4,\"#fde0ef\"],[0.5,\"#f7f7f7\"],[0.6,\"#e6f5d0\"],[0.7,\"#b8e186\"],[0.8,\"#7fbc41\"],[0.9,\"#4d9221\"],[1,\"#276419\"]],\"sequential\":[[0.0,\"#0d0887\"],[0.1111111111111111,\"#46039f\"],[0.2222222222222222,\"#7201a8\"],[0.3333333333333333,\"#9c179e\"],[0.4444444444444444,\"#bd3786\"],[0.5555555555555556,\"#d8576b\"],[0.6666666666666666,\"#ed7953\"],[0.7777777777777778,\"#fb9f3a\"],[0.8888888888888888,\"#fdca26\"],[1.0,\"#f0f921\"]],\"sequentialminus\":[[0.0,\"#0d0887\"],[0.1111111111111111,\"#46039f\"],[0.2222222222222222,\"#7201a8\"],[0.3333333333333333,\"#9c179e\"],[0.4444444444444444,\"#bd3786\"],[0.5555555555555556,\"#d8576b\"],[0.6666666666666666,\"#ed7953\"],[0.7777777777777778,\"#fb9f3a\"],[0.8888888888888888,\"#fdca26\"],[1.0,\"#f0f921\"]]},\"colorway\":[\"#636efa\",\"#EF553B\",\"#00cc96\",\"#ab63fa\",\"#FFA15A\",\"#19d3f3\",\"#FF6692\",\"#B6E880\",\"#FF97FF\",\"#FECB52\"],\"font\":{\"color\":\"#2a3f5f\"},\"geo\":{\"bgcolor\":\"white\",\"lakecolor\":\"white\",\"landcolor\":\"#E5ECF6\",\"showlakes\":true,\"showland\":true,\"subunitcolor\":\"white\"},\"hoverlabel\":{\"align\":\"left\"},\"hovermode\":\"closest\",\"mapbox\":{\"style\":\"light\"},\"paper_bgcolor\":\"white\",\"plot_bgcolor\":\"#E5ECF6\",\"polar\":{\"angularaxis\":{\"gridcolor\":\"white\",\"linecolor\":\"white\",\"ticks\":\"\"},\"bgcolor\":\"#E5ECF6\",\"radialaxis\":{\"gridcolor\":\"white\",\"linecolor\":\"white\",\"ticks\":\"\"}},\"scene\":{\"xaxis\":{\"backgroundcolor\":\"#E5ECF6\",\"gridcolor\":\"white\",\"gridwidth\":2,\"linecolor\":\"white\",\"showbackground\":true,\"ticks\":\"\",\"zerolinecolor\":\"white\"},\"yaxis\":{\"backgroundcolor\":\"#E5ECF6\",\"gridcolor\":\"white\",\"gridwidth\":2,\"linecolor\":\"white\",\"showbackground\":true,\"ticks\":\"\",\"zerolinecolor\":\"white\"},\"zaxis\":{\"backgroundcolor\":\"#E5ECF6\",\"gridcolor\":\"white\",\"gridwidth\":2,\"linecolor\":\"white\",\"showbackground\":true,\"ticks\":\"\",\"zerolinecolor\":\"white\"}},\"shapedefaults\":{\"line\":{\"color\":\"#2a3f5f\"}},\"ternary\":{\"aaxis\":{\"gridcolor\":\"white\",\"linecolor\":\"white\",\"ticks\":\"\"},\"baxis\":{\"gridcolor\":\"white\",\"linecolor\":\"white\",\"ticks\":\"\"},\"bgcolor\":\"#E5ECF6\",\"caxis\":{\"gridcolor\":\"white\",\"linecolor\":\"white\",\"ticks\":\"\"}},\"title\":{\"x\":0.05},\"xaxis\":{\"automargin\":true,\"gridcolor\":\"white\",\"linecolor\":\"white\",\"ticks\":\"\",\"title\":{\"standoff\":15},\"zerolinecolor\":\"white\",\"zerolinewidth\":2},\"yaxis\":{\"automargin\":true,\"gridcolor\":\"white\",\"linecolor\":\"white\",\"ticks\":\"\",\"title\":{\"standoff\":15},\"zerolinecolor\":\"white\",\"zerolinewidth\":2}}},\"legend\":{\"tracegroupgap\":0},\"margin\":{\"t\":60},\"piecolorway\":[\"rgb(102, 197, 204)\",\"rgb(246, 207, 113)\",\"rgb(248, 156, 116)\",\"rgb(220, 176, 242)\",\"rgb(135, 197, 95)\",\"rgb(158, 185, 243)\",\"rgb(254, 136, 177)\",\"rgb(201, 219, 116)\",\"rgb(139, 224, 164)\",\"rgb(180, 151, 231)\",\"rgb(179, 179, 179)\"],\"title\":{\"text\":\"Average Amount Spent in a Single Purchase\",\"x\":0.5}},                        {\"responsive\": true}                    ).then(function(){\n",
              "                            \n",
              "var gd = document.getElementById('fffc2011-5470-4a00-94a4-3a6dbdcd41f0');\n",
              "var x = new MutationObserver(function (mutations, observer) {{\n",
              "        var display = window.getComputedStyle(gd).display;\n",
              "        if (!display || display === 'none') {{\n",
              "            console.log([gd, 'removed!']);\n",
              "            Plotly.purge(gd);\n",
              "            observer.disconnect();\n",
              "        }}\n",
              "}});\n",
              "\n",
              "// Listen for the removal of the full notebook cells\n",
              "var notebookContainer = gd.closest('#notebook-container');\n",
              "if (notebookContainer) {{\n",
              "    x.observe(notebookContainer, {childList: true});\n",
              "}}\n",
              "\n",
              "// Listen for the clearing of the current output cell\n",
              "var outputEl = gd.closest('.output');\n",
              "if (outputEl) {{\n",
              "    x.observe(outputEl, {childList: true});\n",
              "}}\n",
              "\n",
              "                        })                };                            </script>        </div>\n",
              "</body>\n",
              "</html>"
            ]
          },
          "metadata": {}
        }
      ],
      "source": [
        "amount = df.groupby('Cluster').AmountPerPurchase.mean()\n",
        "fig = px.pie(values=np.round(amount.values, 2), names=amount.index,  \n",
        "             color_discrete_sequence=px.colors.qualitative.Pastel)\n",
        "fig.data[0].textinfo = 'percent+value'\n",
        "fig.update_layout(title_text='Average Amount Spent in a Single Purchase', title_x=0.5)"
      ]
    },
    {
      "cell_type": "markdown",
      "id": "4952e73c",
      "metadata": {
        "papermill": {
          "duration": 0.062201,
          "end_time": "2022-11-11T03:54:14.790978",
          "exception": false,
          "start_time": "2022-11-11T03:54:14.728777",
          "status": "completed"
        },
        "tags": [],
        "id": "4952e73c"
      },
      "source": [
        "# 9 Conclusion\n",
        "Setelah melakukan segmentasi pelanggan dengan clustering, berbagai segmen pelanggan, dapat disimpulkan bahwa pelanggan termasuk dalam salah satu dari 5 segmen. Segmen ini memiliki atribut berikut:\n",
        "\n",
        "* Segmen 0\n",
        "    * Mayoritas memegang gelar sarjana\n",
        "    * Rata-rata tahun kelahiran mereka sekitar tahun 1965\n",
        "    * Keluarga mereka mencintai 3-4 orang\n",
        "    * Mayoritas memiliki remaja di rumah dan 0-1 anak\n",
        "    * Mayoritas menjalin hubungan, dan sepertiga lajang\n",
        "    * Pendapatan tahunan rata-rata mereka sekitar \\$51.000\n",
        "    * Mereka menghabiskan sekitar \\$31 per pembelian\n",
        "    * Mereka sering mengkonsumsi penawaran\n",
        "    * Mereka jarang menerima promosi\n",
        "    * Konsumen moderat anggur, daging, dan emas\n",
        "    \\* Segmen 1\n",
        "    * Mayoritas memegang gelar sarjana, dan pemegang PhD dalam jumlah terbesar\n",
        "    * Rata-rata tahun kelahiran mereka sekitar tahun 1965\n",
        "    * Keluarga mereka mencintai 3 individu\n",
        "    * Mayoritas tidak memiliki anak\n",
        "    * Mayoritas menjalin hubungan, dan sepertiga masih lajang\n",
        "    * Pendapatan tahunan rata-rata mereka sekitar \\$64.200\n",
        "    * Mereka menghabiskan sekitar \\$50,4 per pembelian\n",
        "    * Mereka kadang-kadang mengkonsumsi penawaran, kebanyakan total 2 penawaran.\n",
        "    * Mereka jarang menerima promosi\n",
        "    * Konsumen anggur dan emas yang tinggi. Konsumen daging sedang\n",
        "* Segmen 2\n",
        "    * Mereka membuat sebagian besar pelanggan\n",
        "    * Mayoritas memegang gelar sarjana, dan pemegang gelar Master dalam jumlah terbesar\n",
        "    * Rata-rata tahun kelahiran mereka sekitar tahun 1973\n",
        "    * Keluarga mereka mencintaiin 3-4 indiividual, sepersepuluhnya berisi 2\n",
        "    * Mayoritas memiliki 1 anak, dan 0-1 remaja\n",
        "    * Mayoritas menjalin hubungan, dan sepertiga masih lajang\n",
        "    * Pendapatan tahunan rata-rata rendah sekitar \\$33.600\n",
        "    * Mereka membelanjakan sekitar $13 per pembelian\n",
        "    * Mereka adalah konsumen transaksi terberat. Sekitar 1-3 penawaran per orang\n",
        "    * Mereka jarang menerima promosi\n",
        "    * Mereka jarang membeli produk\n",
        "* Segmen 3\n",
        "    * Mayoritas memegang gelar sarjana, %25 adalah master dan %25 adalah PhD\n",
        "    * Rata-rata tahun kelahiran mereka sekitar tahun 1973\n",
        "    * Keluarga mereka cintain 2 indiividual\n",
        "    * Mayoritas tidak memiliki anak, jarang anak-anak atau remaja\n",
        "    * Mayoritas menjalin hubungan, %40 lajang\n",
        "    * Mereka adalah pelanggan terkaya, dengan pendapatan tahunan sekitar \\$80.300\n",
        "    * Mereka adalah pembelanja terbesar, sekitar \\$87,3 per pembelian\n",
        "    * Mereka jarang mengkonsumsi penawaran, kebanyakan total 1 penawaran per orang.\n",
        "    * Mereka selalu lebih mungkin menerima promosi.\n",
        "    * Konsumen anggur tertinggi. Konsumen daging yang tinggi\n",
        "* Segmen 4\n",
        "    * Jumlah sarjana tertinggi, %25 adalah master dan %20 adalah PhD\n",
        "    * Rata-rata tahun kelahiran mereka sekitar tahun 1969\n",
        "    * Keluarga mereka cintain 2 indiividual\n",
        "    * Mayoritas tidak memiliki anak\n",
        "    * Mayoritas menjalin hubungan, %39 lajang\n",
        "    * Pendapatan tahunan tinggi sekitar \\$75.300\n",
        "    * Pembelanja tinggi, sekitar \\$71,6 per pembelian\n",
        "    * Mereka adalah konsumen terbanyak kedua dari penawaran, kebanyakan total 1 penawaran per orang.\n",
        "    * Mereka terkadang menerima promosi.\n",
        "    * Konsumen tertinggi daging, ikan, dan buah-buahan. Konsumen anggur yang tinggi"
      ]
    }
  ],
  "metadata": {
    "kernelspec": {
      "display_name": "Python 3",
      "language": "python",
      "name": "python3"
    },
    "language_info": {
      "codemirror_mode": {
        "name": "ipython",
        "version": 3
      },
      "file_extension": ".py",
      "mimetype": "text/x-python",
      "name": "python",
      "nbconvert_exporter": "python",
      "pygments_lexer": "ipython3",
      "version": "3.7.12"
    },
    "papermill": {
      "default_parameters": {},
      "duration": 46.180394,
      "end_time": "2022-11-11T03:54:15.980313",
      "environment_variables": {},
      "exception": null,
      "input_path": "__notebook__.ipynb",
      "output_path": "__notebook__.ipynb",
      "parameters": {},
      "start_time": "2022-11-11T03:53:29.799919",
      "version": "2.3.4"
    },
    "colab": {
      "provenance": []
    }
  },
  "nbformat": 4,
  "nbformat_minor": 5
}